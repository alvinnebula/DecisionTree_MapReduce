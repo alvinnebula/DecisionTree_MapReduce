{
  "cells": [
    {
      "cell_type": "markdown",
      "id": "1c92c29b",
      "metadata": {
        "id": "1c92c29b"
      },
      "source": [
        "## Spark"
      ]
    },
    {
      "cell_type": "code",
      "execution_count": 5,
      "id": "cc8e3a78",
      "metadata": {
        "colab": {
          "base_uri": "https://localhost:8080/"
        },
        "id": "cc8e3a78",
        "outputId": "1297dd9e-378b-4d6c-c135-777944ca9cab"
      },
      "outputs": [
        {
          "output_type": "stream",
          "name": "stdout",
          "text": [
            "Drive already mounted at /content/drive; to attempt to forcibly remount, call drive.mount(\"/content/drive\", force_remount=True).\n"
          ]
        }
      ],
      "source": [
        "from google.colab import drive\n",
        "drive.mount('/content/drive')"
      ]
    },
    {
      "cell_type": "code",
      "execution_count": 6,
      "id": "63020780",
      "metadata": {
        "colab": {
          "base_uri": "https://localhost:8080/"
        },
        "id": "63020780",
        "outputId": "6057a7a1-4761-456e-c537-c182a8ab576e"
      },
      "outputs": [
        {
          "output_type": "execute_result",
          "data": {
            "text/plain": [
              "['.shortcut-targets-by-id', 'MyDrive', '.file-revisions-by-id', '.Trash-0']"
            ]
          },
          "metadata": {},
          "execution_count": 6
        }
      ],
      "source": [
        "import os\n",
        "cur_path = \"/content/drive\"\n",
        "os.listdir(cur_path)"
      ]
    },
    {
      "cell_type": "code",
      "execution_count": 4,
      "id": "5a6d54bb",
      "metadata": {
        "colab": {
          "base_uri": "https://localhost:8080/"
        },
        "id": "5a6d54bb",
        "outputId": "39665b81-76a3-4995-9725-c91dca84ff93"
      },
      "outputs": [
        {
          "output_type": "stream",
          "name": "stdout",
          "text": [
            "Looking in indexes: https://pypi.org/simple, https://us-python.pkg.dev/colab-wheels/public/simple/\n",
            "Collecting pyspark\n",
            "  Downloading pyspark-3.4.0.tar.gz (310.8 MB)\n",
            "\u001b[2K     \u001b[90m━━━━━━━━━━━━━━━━━━━━━━━━━━━━━━━━━━━━━━━\u001b[0m \u001b[32m310.8/310.8 MB\u001b[0m \u001b[31m5.3 MB/s\u001b[0m eta \u001b[36m0:00:00\u001b[0m\n",
            "\u001b[?25h  Preparing metadata (setup.py) ... \u001b[?25l\u001b[?25hdone\n",
            "Requirement already satisfied: py4j==0.10.9.7 in /usr/local/lib/python3.9/dist-packages (from pyspark) (0.10.9.7)\n",
            "Building wheels for collected packages: pyspark\n",
            "  Building wheel for pyspark (setup.py) ... \u001b[?25l\u001b[?25hdone\n",
            "  Created wheel for pyspark: filename=pyspark-3.4.0-py2.py3-none-any.whl size=311317145 sha256=d2f00b902b8ee8654959bd662c60f6107dd8f0f78cd465f959701b1da635b6ff\n",
            "  Stored in directory: /root/.cache/pip/wheels/9f/34/a4/159aa12d0a510d5ff7c8f0220abbea42e5d81ecf588c4fd884\n",
            "Successfully built pyspark\n",
            "Installing collected packages: pyspark\n",
            "Successfully installed pyspark-3.4.0\n",
            "The following additional packages will be installed:\n",
            "  libxtst6 openjdk-8-jre-headless\n",
            "Suggested packages:\n",
            "  openjdk-8-demo openjdk-8-source libnss-mdns fonts-dejavu-extra\n",
            "  fonts-ipafont-gothic fonts-ipafont-mincho fonts-wqy-microhei\n",
            "  fonts-wqy-zenhei fonts-indic\n",
            "The following NEW packages will be installed:\n",
            "  libxtst6 openjdk-8-jdk-headless openjdk-8-jre-headless\n",
            "0 upgraded, 3 newly installed, 0 to remove and 24 not upgraded.\n",
            "Need to get 36.5 MB of archives.\n",
            "After this operation, 144 MB of additional disk space will be used.\n",
            "Selecting previously unselected package libxtst6:amd64.\n",
            "(Reading database ... 122349 files and directories currently installed.)\n",
            "Preparing to unpack .../libxtst6_2%3a1.2.3-1_amd64.deb ...\n",
            "Unpacking libxtst6:amd64 (2:1.2.3-1) ...\n",
            "Selecting previously unselected package openjdk-8-jre-headless:amd64.\n",
            "Preparing to unpack .../openjdk-8-jre-headless_8u362-ga-0ubuntu1~20.04.1_amd64.deb ...\n",
            "Unpacking openjdk-8-jre-headless:amd64 (8u362-ga-0ubuntu1~20.04.1) ...\n",
            "Selecting previously unselected package openjdk-8-jdk-headless:amd64.\n",
            "Preparing to unpack .../openjdk-8-jdk-headless_8u362-ga-0ubuntu1~20.04.1_amd64.deb ...\n",
            "Unpacking openjdk-8-jdk-headless:amd64 (8u362-ga-0ubuntu1~20.04.1) ...\n",
            "Setting up libxtst6:amd64 (2:1.2.3-1) ...\n",
            "Setting up openjdk-8-jre-headless:amd64 (8u362-ga-0ubuntu1~20.04.1) ...\n",
            "update-alternatives: using /usr/lib/jvm/java-8-openjdk-amd64/jre/bin/orbd to provide /usr/bin/orbd (orbd) in auto mode\n",
            "update-alternatives: using /usr/lib/jvm/java-8-openjdk-amd64/jre/bin/servertool to provide /usr/bin/servertool (servertool) in auto mode\n",
            "update-alternatives: using /usr/lib/jvm/java-8-openjdk-amd64/jre/bin/tnameserv to provide /usr/bin/tnameserv (tnameserv) in auto mode\n",
            "Setting up openjdk-8-jdk-headless:amd64 (8u362-ga-0ubuntu1~20.04.1) ...\n",
            "update-alternatives: using /usr/lib/jvm/java-8-openjdk-amd64/bin/idlj to provide /usr/bin/idlj (idlj) in auto mode\n",
            "update-alternatives: using /usr/lib/jvm/java-8-openjdk-amd64/bin/wsimport to provide /usr/bin/wsimport (wsimport) in auto mode\n",
            "update-alternatives: using /usr/lib/jvm/java-8-openjdk-amd64/bin/jsadebugd to provide /usr/bin/jsadebugd (jsadebugd) in auto mode\n",
            "update-alternatives: using /usr/lib/jvm/java-8-openjdk-amd64/bin/native2ascii to provide /usr/bin/native2ascii (native2ascii) in auto mode\n",
            "update-alternatives: using /usr/lib/jvm/java-8-openjdk-amd64/bin/javah to provide /usr/bin/javah (javah) in auto mode\n",
            "update-alternatives: using /usr/lib/jvm/java-8-openjdk-amd64/bin/hsdb to provide /usr/bin/hsdb (hsdb) in auto mode\n",
            "update-alternatives: using /usr/lib/jvm/java-8-openjdk-amd64/bin/clhsdb to provide /usr/bin/clhsdb (clhsdb) in auto mode\n",
            "update-alternatives: using /usr/lib/jvm/java-8-openjdk-amd64/bin/xjc to provide /usr/bin/xjc (xjc) in auto mode\n",
            "update-alternatives: using /usr/lib/jvm/java-8-openjdk-amd64/bin/schemagen to provide /usr/bin/schemagen (schemagen) in auto mode\n",
            "update-alternatives: using /usr/lib/jvm/java-8-openjdk-amd64/bin/extcheck to provide /usr/bin/extcheck (extcheck) in auto mode\n",
            "update-alternatives: using /usr/lib/jvm/java-8-openjdk-amd64/bin/jhat to provide /usr/bin/jhat (jhat) in auto mode\n",
            "update-alternatives: using /usr/lib/jvm/java-8-openjdk-amd64/bin/wsgen to provide /usr/bin/wsgen (wsgen) in auto mode\n",
            "Processing triggers for libc-bin (2.31-0ubuntu9.9) ...\n"
          ]
        }
      ],
      "source": [
        "!pip install pyspark \n",
        "!pip install -U -q PyDrive\n",
        "!apt install openjdk-8-jdk-headless -qq \n",
        "import os\n",
        "os.environ[\"JAVA_HOME\"] = \"/usr/lib/jvm/java-8-openjdk-amd64\""
      ]
    },
    {
      "cell_type": "code",
      "execution_count": 7,
      "id": "501244e0",
      "metadata": {
        "colab": {
          "base_uri": "https://localhost:8080/"
        },
        "id": "501244e0",
        "outputId": "9dcd7f1f-084d-48cb-fcc9-224add47f494"
      },
      "outputs": [
        {
          "output_type": "stream",
          "name": "stdout",
          "text": [
            "Looking in indexes: https://pypi.org/simple, https://us-python.pkg.dev/colab-wheels/public/simple/\n",
            "Collecting scikit-optimize\n",
            "  Downloading scikit_optimize-0.9.0-py2.py3-none-any.whl (100 kB)\n",
            "\u001b[2K     \u001b[90m━━━━━━━━━━━━━━━━━━━━━━━━━━━━━━━━━━━━━━━\u001b[0m \u001b[32m100.3/100.3 kB\u001b[0m \u001b[31m3.9 MB/s\u001b[0m eta \u001b[36m0:00:00\u001b[0m\n",
            "\u001b[?25hRequirement already satisfied: scipy>=0.19.1 in /usr/local/lib/python3.9/dist-packages (from scikit-optimize) (1.10.1)\n",
            "Collecting pyaml>=16.9\n",
            "  Downloading pyaml-21.10.1-py2.py3-none-any.whl (24 kB)\n",
            "Requirement already satisfied: scikit-learn>=0.20.0 in /usr/local/lib/python3.9/dist-packages (from scikit-optimize) (1.2.2)\n",
            "Requirement already satisfied: joblib>=0.11 in /usr/local/lib/python3.9/dist-packages (from scikit-optimize) (1.2.0)\n",
            "Requirement already satisfied: numpy>=1.13.3 in /usr/local/lib/python3.9/dist-packages (from scikit-optimize) (1.22.4)\n",
            "Requirement already satisfied: PyYAML in /usr/local/lib/python3.9/dist-packages (from pyaml>=16.9->scikit-optimize) (6.0)\n",
            "Requirement already satisfied: threadpoolctl>=2.0.0 in /usr/local/lib/python3.9/dist-packages (from scikit-learn>=0.20.0->scikit-optimize) (3.1.0)\n",
            "Installing collected packages: pyaml, scikit-optimize\n",
            "Successfully installed pyaml-21.10.1 scikit-optimize-0.9.0\n"
          ]
        }
      ],
      "source": [
        "!pip install scikit-optimize"
      ]
    },
    {
      "cell_type": "code",
      "execution_count": 8,
      "id": "66c41857",
      "metadata": {
        "id": "66c41857"
      },
      "outputs": [],
      "source": [
        "from pyspark.sql import SparkSession\n",
        "spark = SparkSession.builder.master(\"local[5]\").appName('tree').getOrCreate()"
      ]
    },
    {
      "cell_type": "code",
      "execution_count": 9,
      "id": "719d608b",
      "metadata": {
        "id": "719d608b",
        "outputId": "2ac391c0-d373-48ab-d0be-251720f7aeb6",
        "colab": {
          "base_uri": "https://localhost:8080/",
          "height": 398
        }
      },
      "outputs": [
        {
          "output_type": "error",
          "ename": "AnalysisException",
          "evalue": "ignored",
          "traceback": [
            "\u001b[0;31m---------------------------------------------------------------------------\u001b[0m",
            "\u001b[0;31mAnalysisException\u001b[0m                         Traceback (most recent call last)",
            "\u001b[0;32m<ipython-input-9-04666fac23d1>\u001b[0m in \u001b[0;36m<cell line: 1>\u001b[0;34m()\u001b[0m\n\u001b[0;32m----> 1\u001b[0;31m \u001b[0mdf\u001b[0m \u001b[0;34m=\u001b[0m \u001b[0mspark\u001b[0m\u001b[0;34m.\u001b[0m\u001b[0mread\u001b[0m\u001b[0;34m.\u001b[0m\u001b[0mformat\u001b[0m\u001b[0;34m(\u001b[0m\u001b[0;34m\"csv\"\u001b[0m\u001b[0;34m)\u001b[0m\u001b[0;34m.\u001b[0m\u001b[0moption\u001b[0m\u001b[0;34m(\u001b[0m\u001b[0;34m\"header\"\u001b[0m\u001b[0;34m,\u001b[0m\u001b[0;34m\"false\"\u001b[0m\u001b[0;34m)\u001b[0m\u001b[0;34m.\u001b[0m\u001b[0moption\u001b[0m\u001b[0;34m(\u001b[0m\u001b[0;34m\"inferSchema\"\u001b[0m \u001b[0;34m,\u001b[0m \u001b[0;34m\"true\"\u001b[0m\u001b[0;34m)\u001b[0m\u001b[0;34m.\u001b[0m\u001b[0mload\u001b[0m\u001b[0;34m(\u001b[0m\u001b[0mos\u001b[0m\u001b[0;34m.\u001b[0m\u001b[0mpath\u001b[0m\u001b[0;34m.\u001b[0m\u001b[0mjoin\u001b[0m\u001b[0;34m(\u001b[0m\u001b[0mcur_path\u001b[0m\u001b[0;34m,\u001b[0m \u001b[0;34m'adult.csv'\u001b[0m\u001b[0;34m)\u001b[0m\u001b[0;34m)\u001b[0m\u001b[0;34m\u001b[0m\u001b[0;34m\u001b[0m\u001b[0m\n\u001b[0m\u001b[1;32m      2\u001b[0m \u001b[0mraw_cols\u001b[0m \u001b[0;34m=\u001b[0m \u001b[0;34m\"age|  workclass|fnlwgt|   education|education.num|marital.status|       occupation|  relationship| race|   sex|capital.gain|capital.loss|hours.per.week|native.country|income\"\u001b[0m\u001b[0;34m.\u001b[0m\u001b[0msplit\u001b[0m\u001b[0;34m(\u001b[0m\u001b[0;34m\"|\"\u001b[0m\u001b[0;34m)\u001b[0m\u001b[0;34m\u001b[0m\u001b[0;34m\u001b[0m\u001b[0m\n\u001b[1;32m      3\u001b[0m \u001b[0mraw_cols\u001b[0m \u001b[0;34m=\u001b[0m \u001b[0;34m[\u001b[0m\u001b[0mx\u001b[0m\u001b[0;34m.\u001b[0m\u001b[0mstrip\u001b[0m\u001b[0;34m(\u001b[0m\u001b[0;34m)\u001b[0m\u001b[0;34m.\u001b[0m\u001b[0mreplace\u001b[0m\u001b[0;34m(\u001b[0m\u001b[0;34m'.'\u001b[0m\u001b[0;34m,\u001b[0m\u001b[0;34m'_'\u001b[0m\u001b[0;34m)\u001b[0m \u001b[0;32mfor\u001b[0m \u001b[0mx\u001b[0m \u001b[0;32min\u001b[0m \u001b[0mraw_cols\u001b[0m\u001b[0;34m]\u001b[0m\u001b[0;34m\u001b[0m\u001b[0;34m\u001b[0m\u001b[0m\n\u001b[1;32m      4\u001b[0m \u001b[0;32mfor\u001b[0m \u001b[0mi\u001b[0m \u001b[0;32min\u001b[0m \u001b[0mrange\u001b[0m\u001b[0;34m(\u001b[0m\u001b[0mlen\u001b[0m\u001b[0;34m(\u001b[0m\u001b[0mraw_cols\u001b[0m\u001b[0;34m)\u001b[0m\u001b[0;34m)\u001b[0m\u001b[0;34m:\u001b[0m\u001b[0;34m\u001b[0m\u001b[0;34m\u001b[0m\u001b[0m\n\u001b[1;32m      5\u001b[0m     \u001b[0mdf\u001b[0m \u001b[0;34m=\u001b[0m \u001b[0mdf\u001b[0m\u001b[0;34m.\u001b[0m\u001b[0mwithColumnRenamed\u001b[0m\u001b[0;34m(\u001b[0m\u001b[0;34mf\"_c{i}\"\u001b[0m\u001b[0;34m,\u001b[0m \u001b[0mraw_cols\u001b[0m\u001b[0;34m[\u001b[0m\u001b[0mi\u001b[0m\u001b[0;34m]\u001b[0m\u001b[0;34m)\u001b[0m\u001b[0;34m\u001b[0m\u001b[0;34m\u001b[0m\u001b[0m\n",
            "\u001b[0;32m/usr/local/lib/python3.9/dist-packages/pyspark/sql/readwriter.py\u001b[0m in \u001b[0;36mload\u001b[0;34m(self, path, format, schema, **options)\u001b[0m\n\u001b[1;32m    298\u001b[0m         \u001b[0mself\u001b[0m\u001b[0;34m.\u001b[0m\u001b[0moptions\u001b[0m\u001b[0;34m(\u001b[0m\u001b[0;34m**\u001b[0m\u001b[0moptions\u001b[0m\u001b[0;34m)\u001b[0m\u001b[0;34m\u001b[0m\u001b[0;34m\u001b[0m\u001b[0m\n\u001b[1;32m    299\u001b[0m         \u001b[0;32mif\u001b[0m \u001b[0misinstance\u001b[0m\u001b[0;34m(\u001b[0m\u001b[0mpath\u001b[0m\u001b[0;34m,\u001b[0m \u001b[0mstr\u001b[0m\u001b[0;34m)\u001b[0m\u001b[0;34m:\u001b[0m\u001b[0;34m\u001b[0m\u001b[0;34m\u001b[0m\u001b[0m\n\u001b[0;32m--> 300\u001b[0;31m             \u001b[0;32mreturn\u001b[0m \u001b[0mself\u001b[0m\u001b[0;34m.\u001b[0m\u001b[0m_df\u001b[0m\u001b[0;34m(\u001b[0m\u001b[0mself\u001b[0m\u001b[0;34m.\u001b[0m\u001b[0m_jreader\u001b[0m\u001b[0;34m.\u001b[0m\u001b[0mload\u001b[0m\u001b[0;34m(\u001b[0m\u001b[0mpath\u001b[0m\u001b[0;34m)\u001b[0m\u001b[0;34m)\u001b[0m\u001b[0;34m\u001b[0m\u001b[0;34m\u001b[0m\u001b[0m\n\u001b[0m\u001b[1;32m    301\u001b[0m         \u001b[0;32melif\u001b[0m \u001b[0mpath\u001b[0m \u001b[0;32mis\u001b[0m \u001b[0;32mnot\u001b[0m \u001b[0;32mNone\u001b[0m\u001b[0;34m:\u001b[0m\u001b[0;34m\u001b[0m\u001b[0;34m\u001b[0m\u001b[0m\n\u001b[1;32m    302\u001b[0m             \u001b[0;32mif\u001b[0m \u001b[0mtype\u001b[0m\u001b[0;34m(\u001b[0m\u001b[0mpath\u001b[0m\u001b[0;34m)\u001b[0m \u001b[0;34m!=\u001b[0m \u001b[0mlist\u001b[0m\u001b[0;34m:\u001b[0m\u001b[0;34m\u001b[0m\u001b[0;34m\u001b[0m\u001b[0m\n",
            "\u001b[0;32m/usr/local/lib/python3.9/dist-packages/py4j/java_gateway.py\u001b[0m in \u001b[0;36m__call__\u001b[0;34m(self, *args)\u001b[0m\n\u001b[1;32m   1320\u001b[0m \u001b[0;34m\u001b[0m\u001b[0m\n\u001b[1;32m   1321\u001b[0m         \u001b[0manswer\u001b[0m \u001b[0;34m=\u001b[0m \u001b[0mself\u001b[0m\u001b[0;34m.\u001b[0m\u001b[0mgateway_client\u001b[0m\u001b[0;34m.\u001b[0m\u001b[0msend_command\u001b[0m\u001b[0;34m(\u001b[0m\u001b[0mcommand\u001b[0m\u001b[0;34m)\u001b[0m\u001b[0;34m\u001b[0m\u001b[0;34m\u001b[0m\u001b[0m\n\u001b[0;32m-> 1322\u001b[0;31m         return_value = get_return_value(\n\u001b[0m\u001b[1;32m   1323\u001b[0m             answer, self.gateway_client, self.target_id, self.name)\n\u001b[1;32m   1324\u001b[0m \u001b[0;34m\u001b[0m\u001b[0m\n",
            "\u001b[0;32m/usr/local/lib/python3.9/dist-packages/pyspark/errors/exceptions/captured.py\u001b[0m in \u001b[0;36mdeco\u001b[0;34m(*a, **kw)\u001b[0m\n\u001b[1;32m    173\u001b[0m                 \u001b[0;31m# Hide where the exception came from that shows a non-Pythonic\u001b[0m\u001b[0;34m\u001b[0m\u001b[0;34m\u001b[0m\u001b[0m\n\u001b[1;32m    174\u001b[0m                 \u001b[0;31m# JVM exception message.\u001b[0m\u001b[0;34m\u001b[0m\u001b[0;34m\u001b[0m\u001b[0m\n\u001b[0;32m--> 175\u001b[0;31m                 \u001b[0;32mraise\u001b[0m \u001b[0mconverted\u001b[0m \u001b[0;32mfrom\u001b[0m \u001b[0;32mNone\u001b[0m\u001b[0;34m\u001b[0m\u001b[0;34m\u001b[0m\u001b[0m\n\u001b[0m\u001b[1;32m    176\u001b[0m             \u001b[0;32melse\u001b[0m\u001b[0;34m:\u001b[0m\u001b[0;34m\u001b[0m\u001b[0;34m\u001b[0m\u001b[0m\n\u001b[1;32m    177\u001b[0m                 \u001b[0;32mraise\u001b[0m\u001b[0;34m\u001b[0m\u001b[0;34m\u001b[0m\u001b[0m\n",
            "\u001b[0;31mAnalysisException\u001b[0m: [PATH_NOT_FOUND] Path does not exist: file:/content/drive/adult.csv."
          ]
        }
      ],
      "source": [
        "df = spark.read.format(\"csv\").option(\"header\",\"false\").option(\"inferSchema\" , \"true\").load(os.path.join(cur_path, 'adult.csv'))\n",
        "raw_cols = \"age|  workclass|fnlwgt|   education|education.num|marital.status|       occupation|  relationship| race|   sex|capital.gain|capital.loss|hours.per.week|native.country|income\".split(\"|\")\n",
        "raw_cols = [x.strip().replace('.','_') for x in raw_cols]\n",
        "for i in range(len(raw_cols)):\n",
        "    df = df.withColumnRenamed(f\"_c{i}\", raw_cols[i])"
      ]
    },
    {
      "cell_type": "markdown",
      "id": "14c87033",
      "metadata": {
        "id": "14c87033"
      },
      "source": [
        "### Pandas"
      ]
    },
    {
      "cell_type": "code",
      "execution_count": 10,
      "id": "86563448",
      "metadata": {
        "id": "86563448",
        "outputId": "1286d624-9d0f-4416-8374-a4631afb466a",
        "colab": {
          "base_uri": "https://localhost:8080/",
          "height": 183
        }
      },
      "outputs": [
        {
          "output_type": "error",
          "ename": "NameError",
          "evalue": "ignored",
          "traceback": [
            "\u001b[0;31m---------------------------------------------------------------------------\u001b[0m",
            "\u001b[0;31mNameError\u001b[0m                                 Traceback (most recent call last)",
            "\u001b[0;32m<ipython-input-10-aaa3903f3001>\u001b[0m in \u001b[0;36m<cell line: 2>\u001b[0;34m()\u001b[0m\n\u001b[1;32m      1\u001b[0m \u001b[0;31m#df_pd = pd.read_csv(\"../../../data/p_dsi/big_data_scaling_sp23/project/DT-MapReduce/adult.csv\").clean_names()\u001b[0m\u001b[0;34m\u001b[0m\u001b[0;34m\u001b[0m\u001b[0m\n\u001b[0;32m----> 2\u001b[0;31m \u001b[0mdf_pd\u001b[0m \u001b[0;34m=\u001b[0m \u001b[0mdf\u001b[0m\u001b[0;34m.\u001b[0m\u001b[0mtoPandas\u001b[0m\u001b[0;34m(\u001b[0m\u001b[0;34m)\u001b[0m\u001b[0;34m\u001b[0m\u001b[0;34m\u001b[0m\u001b[0m\n\u001b[0m",
            "\u001b[0;31mNameError\u001b[0m: name 'df' is not defined"
          ]
        }
      ],
      "source": [
        "#df_pd = pd.read_csv(\"../../../data/p_dsi/big_data_scaling_sp23/project/DT-MapReduce/adult.csv\").clean_names()\n",
        "df_pd = df.toPandas()"
      ]
    },
    {
      "cell_type": "code",
      "execution_count": null,
      "id": "4b75e998",
      "metadata": {
        "id": "4b75e998"
      },
      "outputs": [],
      "source": [
        "from pandas.api.types import is_string_dtype\n",
        "from pandas.api.types import is_numeric_dtype\n",
        "from pandas.api.types import is_categorical_dtype\n",
        "import numpy as np\n",
        "import pandas as pd\n",
        "from sklearn.tree import DecisionTreeClassifier\n",
        "from sklearn.metrics import classification_report, roc_auc_score, roc_curve, confusion_matrix\n",
        "from sklearn.model_selection import GridSearchCV, train_test_split, RandomizedSearchCV\n",
        "from skopt import BayesSearchCV\n",
        "from sklearn.preprocessing import LabelEncoder, OrdinalEncoder, MinMaxScaler, Normalizer, OneHotEncoder\n",
        "from sklearn.compose import ColumnTransformer\n",
        "from sklearn.pipeline import Pipeline\n",
        "%matplotlib inline\n",
        "import matplotlib.pyplot as plt\n",
        "import seaborn as sns"
      ]
    },
    {
      "cell_type": "code",
      "source": [
        "df_pd.columns"
      ],
      "metadata": {
        "id": "VceeglKgdf9w"
      },
      "id": "VceeglKgdf9w",
      "execution_count": null,
      "outputs": []
    },
    {
      "cell_type": "code",
      "execution_count": null,
      "id": "ab329781",
      "metadata": {
        "id": "ab329781"
      },
      "outputs": [],
      "source": [
        "df_pd[\"marital_relation\"] = df_pd[\"marital_status\"] + \"_\" + df_pd[\"relationship\"]\n",
        "df_pd = df_pd.drop([\"sex\",\"race\",\"education_num\", \"native_country\", \"marital_status\",\"relationship\"], axis = 1)"
      ]
    },
    {
      "cell_type": "code",
      "execution_count": null,
      "id": "b20bd7f1",
      "metadata": {
        "id": "b20bd7f1"
      },
      "outputs": [],
      "source": [
        "df_pd[\"income\"].unique()"
      ]
    },
    {
      "cell_type": "code",
      "execution_count": null,
      "id": "f912a8f4",
      "metadata": {
        "id": "f912a8f4"
      },
      "outputs": [],
      "source": [
        "df_pd[\"income\"] = np.where(df_pd.income==' <=50K', 0, 1)"
      ]
    },
    {
      "cell_type": "code",
      "execution_count": null,
      "id": "52050324",
      "metadata": {
        "id": "52050324"
      },
      "outputs": [],
      "source": [
        "df_pd[\"income\"].unique()"
      ]
    },
    {
      "cell_type": "markdown",
      "id": "31633cbb",
      "metadata": {
        "id": "31633cbb"
      },
      "source": [
        "### Feature Engineering"
      ]
    },
    {
      "cell_type": "code",
      "source": [
        "pd_new = pd.get_dummies(df_pd.drop_duplicates())"
      ],
      "metadata": {
        "id": "vKA5VURK5_IW"
      },
      "id": "vKA5VURK5_IW",
      "execution_count": null,
      "outputs": []
    },
    {
      "cell_type": "code",
      "execution_count": null,
      "id": "e5b31488",
      "metadata": {
        "id": "e5b31488"
      },
      "outputs": [],
      "source": [
        "pd_new.shape"
      ]
    },
    {
      "cell_type": "code",
      "execution_count": null,
      "id": "2ed40ad3",
      "metadata": {
        "id": "2ed40ad3"
      },
      "outputs": [],
      "source": [
        "X, y = pd_new.drop('income', axis=1), pd_new.income"
      ]
    },
    {
      "cell_type": "code",
      "execution_count": null,
      "id": "61af4467",
      "metadata": {
        "id": "61af4467"
      },
      "outputs": [],
      "source": [
        "X_test, X_train, y_test, y_train = train_test_split(X, y, test_size=0.2, random_state=1)"
      ]
    },
    {
      "cell_type": "markdown",
      "id": "a20ce56d",
      "metadata": {
        "id": "a20ce56d"
      },
      "source": [
        "### Training"
      ]
    },
    {
      "cell_type": "code",
      "execution_count": null,
      "id": "9d695b52",
      "metadata": {
        "id": "9d695b52"
      },
      "outputs": [],
      "source": [
        "# ct = ColumnTransformer([(\"ohe\", OneHotEncoder(handle_unknown=\"ignore\"), stri), (\"ord\", ordi, [\"education\"]), (\"min_max\", MinMaxScaler(), num)])\n",
        "# Tree based model don't have to be normalized"
      ]
    },
    {
      "cell_type": "code",
      "execution_count": null,
      "id": "f63b2fca",
      "metadata": {
        "id": "f63b2fca"
      },
      "outputs": [],
      "source": [
        "dt = DecisionTreeClassifier(criterion=\"entropy\")"
      ]
    },
    {
      "cell_type": "code",
      "execution_count": null,
      "id": "3f94c8e5",
      "metadata": {
        "id": "3f94c8e5"
      },
      "outputs": [],
      "source": [
        "import numpy as np\n",
        "max_features = list(np.arange(3,20))\n",
        "max_depth = list(np.arange(3,20))"
      ]
    },
    {
      "cell_type": "code",
      "execution_count": null,
      "id": "229556af",
      "metadata": {
        "id": "229556af"
      },
      "outputs": [],
      "source": [
        "param_grid = [{\"max_features\":max_features, \"max_depth\": max_depth}]"
      ]
    },
    {
      "cell_type": "code",
      "execution_count": null,
      "id": "ef8005e4",
      "metadata": {
        "id": "ef8005e4"
      },
      "outputs": [],
      "source": [
        "import warnings\n",
        "warnings.filterwarnings('ignore')"
      ]
    },
    {
      "cell_type": "code",
      "execution_count": null,
      "id": "e9adb504",
      "metadata": {
        "id": "e9adb504"
      },
      "outputs": [],
      "source": [
        "bayes_search = BayesSearchCV(dt, param_grid, cv = 5, n_iter = 30)"
      ]
    },
    {
      "cell_type": "code",
      "execution_count": null,
      "id": "b89f245e",
      "metadata": {
        "id": "b89f245e"
      },
      "outputs": [],
      "source": [
        "bayes_search.fit(X_train, y_train);"
      ]
    },
    {
      "cell_type": "code",
      "execution_count": null,
      "id": "cf8fa6e1",
      "metadata": {
        "id": "cf8fa6e1"
      },
      "outputs": [],
      "source": [
        "bayes_search.best_params_"
      ]
    },
    {
      "cell_type": "code",
      "execution_count": null,
      "id": "d29bc3d7",
      "metadata": {
        "id": "d29bc3d7"
      },
      "outputs": [],
      "source": [
        "bayes_search.best_score_"
      ]
    },
    {
      "cell_type": "code",
      "execution_count": null,
      "id": "e28a9c21",
      "metadata": {
        "id": "e28a9c21"
      },
      "outputs": [],
      "source": [
        "result = pd.DataFrame(bayes_search.cv_results_).sort_values(\"rank_test_score\", ascending = True)"
      ]
    },
    {
      "cell_type": "code",
      "execution_count": null,
      "id": "407d85b8",
      "metadata": {
        "id": "407d85b8"
      },
      "outputs": [],
      "source": [
        "result"
      ]
    },
    {
      "cell_type": "code",
      "execution_count": null,
      "id": "acd15ebd",
      "metadata": {
        "id": "acd15ebd"
      },
      "outputs": [],
      "source": [
        "model = bayes_search.best_estimator_"
      ]
    },
    {
      "cell_type": "code",
      "execution_count": null,
      "id": "7bf67ace",
      "metadata": {
        "id": "7bf67ace"
      },
      "outputs": [],
      "source": [
        "model"
      ]
    },
    {
      "cell_type": "code",
      "execution_count": null,
      "id": "f1810d5f",
      "metadata": {
        "id": "f1810d5f"
      },
      "outputs": [],
      "source": [
        "from sklearn import tree\n",
        "fig = plt.figure(figsize=(30,20))\n",
        "_ = tree.plot_tree(model, \n",
        "                   feature_names= X.columns,  \n",
        "                   class_names=[\"<=50K\", \">50K\"],\n",
        "                   filled=True)"
      ]
    },
    {
      "cell_type": "code",
      "execution_count": null,
      "id": "f049c9f1",
      "metadata": {
        "id": "f049c9f1"
      },
      "outputs": [],
      "source": [
        "#text_representation = tree.export_text(model[1])\n",
        "#print(text_representation)"
      ]
    },
    {
      "cell_type": "code",
      "execution_count": null,
      "id": "a4e14da1",
      "metadata": {
        "id": "a4e14da1"
      },
      "outputs": [],
      "source": [
        "pred = model.predict(X_test)"
      ]
    },
    {
      "cell_type": "code",
      "execution_count": null,
      "id": "29509019",
      "metadata": {
        "id": "29509019"
      },
      "outputs": [],
      "source": [
        "print(classification_report(y_test, pred))"
      ]
    },
    {
      "cell_type": "code",
      "execution_count": null,
      "id": "ec9bdd58",
      "metadata": {
        "id": "ec9bdd58"
      },
      "outputs": [],
      "source": [
        "conf = confusion_matrix(y_test,pred)"
      ]
    },
    {
      "cell_type": "code",
      "execution_count": null,
      "id": "ea968df0",
      "metadata": {
        "id": "ea968df0"
      },
      "outputs": [],
      "source": [
        "sns.heatmap(conf, annot = True, cmap = \"RdBu\")"
      ]
    },
    {
      "cell_type": "markdown",
      "id": "06026a6b",
      "metadata": {
        "id": "06026a6b"
      },
      "source": [
        "### Feature Importance"
      ]
    },
    {
      "cell_type": "code",
      "execution_count": null,
      "id": "0efe6ac9",
      "metadata": {
        "id": "0efe6ac9"
      },
      "outputs": [],
      "source": [
        "fi = model.feature_importances_"
      ]
    },
    {
      "cell_type": "code",
      "execution_count": null,
      "id": "60598a81",
      "metadata": {
        "id": "60598a81"
      },
      "outputs": [],
      "source": [
        "features = pd.DataFrame({'feat_names': X.columns, 'feat_importance': fi})\n",
        "\n",
        "features = features.assign(magnitude = abs(features['feat_importance']), sign = np.sign(features['feat_importance']))\n",
        "\n",
        "features = features.set_index('feat_names').sort_values(by='magnitude', ascending=False)\n",
        "features.head(20)"
      ]
    },
    {
      "cell_type": "code",
      "execution_count": null,
      "id": "068355cf",
      "metadata": {
        "id": "068355cf"
      },
      "outputs": [],
      "source": [
        "plt.figure(figsize = (20,8))\n",
        "sns.barplot(y=features.index[:20], x='magnitude', hue='sign', data=features[:20], orient='h', dodge=False);"
      ]
    },
    {
      "cell_type": "code",
      "execution_count": null,
      "id": "c5f1e585",
      "metadata": {
        "id": "c5f1e585"
      },
      "outputs": [],
      "source": [
        "important_features = features.iloc[:15].index.tolist()\n",
        "important_features"
      ]
    },
    {
      "cell_type": "code",
      "execution_count": null,
      "id": "86b6653d",
      "metadata": {
        "id": "86b6653d"
      },
      "outputs": [],
      "source": [
        "df_selected = X[important_features]"
      ]
    },
    {
      "cell_type": "code",
      "execution_count": null,
      "id": "41a3ad9c",
      "metadata": {
        "id": "41a3ad9c"
      },
      "outputs": [],
      "source": [
        "df_selected['income'] = y"
      ]
    },
    {
      "cell_type": "code",
      "source": [
        "df_selected.columns = [x.replace(' ','').replace('-','_') for x in df_selected.columns]"
      ],
      "metadata": {
        "id": "l2CXWmCegkbk"
      },
      "id": "l2CXWmCegkbk",
      "execution_count": null,
      "outputs": []
    },
    {
      "cell_type": "markdown",
      "source": [
        "### Now let's use the selected features to build a decision tree from scatch with MapReduce"
      ],
      "metadata": {
        "id": "Sx1LG4eTBXuN"
      },
      "id": "Sx1LG4eTBXuN"
    },
    {
      "cell_type": "code",
      "source": [
        "from pyspark.sql.functions import col, count, when"
      ],
      "metadata": {
        "id": "nSxQG6qmCtKs"
      },
      "id": "nSxQG6qmCtKs",
      "execution_count": null,
      "outputs": []
    },
    {
      "cell_type": "code",
      "source": [
        "# Putting df_selected back to a spark df\n",
        "df = spark.createDataFrame(df_selected)\n",
        "df.printSchema()"
      ],
      "metadata": {
        "id": "lbz1UrCCBet4"
      },
      "id": "lbz1UrCCBet4",
      "execution_count": null,
      "outputs": []
    },
    {
      "cell_type": "code",
      "source": [
        "train_fraction = 0.8\n",
        "test_fraction = 0.2\n",
        "random_seed = 0\n",
        "\n",
        "train_data, test_data = df.randomSplit([train_fraction, test_fraction], seed=random_seed)"
      ],
      "metadata": {
        "id": "1dDkbCBiG4w3"
      },
      "id": "1dDkbCBiG4w3",
      "execution_count": null,
      "outputs": []
    },
    {
      "cell_type": "code",
      "source": [
        "def gini_impurity(dataframe, label_col):\n",
        "    total_count = dataframe.count()\n",
        "    class_counts = dataframe.groupBy(label_col).count().collect()\n",
        "    impurity = 1.0\n",
        "\n",
        "    for row in class_counts:\n",
        "        p = row['count'] / total_count\n",
        "        impurity -= p * p\n",
        "\n",
        "    return impurity\n",
        "\n",
        "def split_dataframe(dataframe, feature, value):\n",
        "    left_split = dataframe.filter(col(feature) <= value)\n",
        "    right_split = dataframe.filter(col(feature) > value)\n",
        "\n",
        "    return left_split, right_split\n",
        "\n",
        "def find_best_split(dataframe, label_col, features):\n",
        "    best_gini = float('inf')\n",
        "    best_feature = None\n",
        "    best_value = None\n",
        "\n",
        "    for feature in features:\n",
        "        feature_values = dataframe.select(feature).toPandas()[feature].values\n",
        "        if len(np.unique(feature_values)) == 2:\n",
        "            feature_values = [0]\n",
        "        else:\n",
        "            feature_values = [np.quantile(feature_values, 0.5)]\n",
        "\n",
        "        for value in feature_values:\n",
        "            left_split, right_split = split_dataframe(dataframe, feature, value)\n",
        "\n",
        "            left_gini = gini_impurity(left_split, label_col)\n",
        "            right_gini = gini_impurity(right_split, label_col)\n",
        "\n",
        "            split_gini = (left_split.count() * left_gini + right_split.count() * right_gini) / dataframe.count()\n",
        "\n",
        "            if split_gini < best_gini:\n",
        "                best_gini = split_gini\n",
        "                best_feature = feature\n",
        "                best_value = value\n",
        "\n",
        "    return best_feature, best_value"
      ],
      "metadata": {
        "id": "TYvwc1cA_Z4r"
      },
      "id": "TYvwc1cA_Z4r",
      "execution_count": null,
      "outputs": []
    },
    {
      "cell_type": "code",
      "source": [
        "class DecisionTreeNode:\n",
        "    def __init__(self, data, label_col, features, max_depth=5, min_samples_split=10, depth=0):\n",
        "        self.data = data\n",
        "        self.label_col = label_col\n",
        "        self.features = features\n",
        "        self.max_depth = max_depth\n",
        "        self.min_samples_split = min_samples_split\n",
        "        self.depth = depth\n",
        "        self.left = None\n",
        "        self.right = None\n",
        "        self.split_feature = None\n",
        "        self.split_value = None\n",
        "\n",
        "    def build_tree(self):\n",
        "        majority_class_row = self.data.groupBy(self.label_col).count().orderBy(\"count\", ascending=False).first()\n",
        "        self.majority_class = majority_class_row[self.label_col]\n",
        "        \n",
        "        if self.depth >= self.max_depth or self.data.count() < self.min_samples_split:\n",
        "            self.data = None  # Detach the data from the node\n",
        "            return\n",
        "\n",
        "        best_split = find_best_split(self.data, self.label_col, self.features)\n",
        "\n",
        "        if not best_split:\n",
        "            return\n",
        "\n",
        "        self.split_feature, self.split_value = best_split\n",
        "\n",
        "        left_data, right_data = split_dataframe(self.data, self.split_feature, self.split_value)\n",
        "\n",
        "        self.left = DecisionTreeNode(left_data, self.label_col, self.features, self.max_depth, self.min_samples_split, self.depth + 1)\n",
        "        self.right = DecisionTreeNode(right_data, self.label_col, self.features, self.max_depth, self.min_samples_split, self.depth + 1)"
      ],
      "metadata": {
        "id": "h1_rkUOHCG4b"
      },
      "id": "h1_rkUOHCG4b",
      "execution_count": null,
      "outputs": []
    },
    {
      "cell_type": "code",
      "source": [
        "label_col = 'income'\n",
        "\n",
        "root = DecisionTreeNode(train_data, label_col, df.columns)\n",
        "root.build_tree()\n"
      ],
      "metadata": {
        "id": "JXVCe0JGFPQk"
      },
      "id": "JXVCe0JGFPQk",
      "execution_count": null,
      "outputs": []
    },
    {
      "cell_type": "code",
      "source": [
        "from pyspark.sql.functions import udf, expr\n",
        "from pyspark.sql.types import StringType\n",
        "\n",
        "def predict(node, features, label_col):\n",
        "    if not node.left or not node.right:\n",
        "        return node.majority_class\n",
        "\n",
        "    if features[node.split_feature] <= node.split_value:\n",
        "        return predict(node.left, features, label_col)\n",
        "    else:\n",
        "        return predict(node.right, features, label_col)\n",
        "\n",
        "fs = df.columns\n",
        "fs.remove('income')\n",
        "\n",
        "def predict_udf(*features):\n",
        "    instance_features = dict(zip(fs, features))  # Replace with your actual feature column names\n",
        "    return predict(root, instance_features, label_col)\n",
        "\n",
        "prediction_udf = udf(predict_udf, StringType())\n",
        "\n",
        "test_data_with_predictions = test_data.withColumn(\"prediction\", prediction_udf(*fs))\n",
        "test_data_with_predictions.show()"
      ],
      "metadata": {
        "id": "IIZ-bOUNFey0"
      },
      "id": "IIZ-bOUNFey0",
      "execution_count": null,
      "outputs": []
    },
    {
      "cell_type": "code",
      "source": [
        "fs"
      ],
      "metadata": {
        "id": "G0ozMMf5HRuj"
      },
      "id": "G0ozMMf5HRuj",
      "execution_count": null,
      "outputs": []
    },
    {
      "cell_type": "code",
      "source": [],
      "metadata": {
        "id": "snlL3zRVITtE"
      },
      "id": "snlL3zRVITtE",
      "execution_count": null,
      "outputs": []
    }
  ],
  "metadata": {
    "kernelspec": {
      "display_name": "Python 3 (ipykernel)",
      "language": "python",
      "name": "python3"
    },
    "language_info": {
      "codemirror_mode": {
        "name": "ipython",
        "version": 3
      },
      "file_extension": ".py",
      "mimetype": "text/x-python",
      "name": "python",
      "nbconvert_exporter": "python",
      "pygments_lexer": "ipython3",
      "version": "3.9.13"
    },
    "colab": {
      "provenance": []
    }
  },
  "nbformat": 4,
  "nbformat_minor": 5
}