{
  "cells": [
    {
      "cell_type": "markdown",
      "metadata": {
        "id": "view-in-github",
        "colab_type": "text"
      },
      "source": [
        "<a href=\"https://colab.research.google.com/github/alvinnebula/DecisionTree_MapReduce/blob/main/DecisionTreeClassifier.ipynb\" target=\"_parent\"><img src=\"https://colab.research.google.com/assets/colab-badge.svg\" alt=\"Open In Colab\"/></a>"
      ]
    },
    {
      "cell_type": "code",
      "execution_count": 1,
      "id": "93ecd07b",
      "metadata": {
        "id": "93ecd07b"
      },
      "outputs": [],
      "source": [
        "import pandas as pd\n",
        "import numpy as np\n",
        "\n",
        "from sklearn.compose import ColumnTransformer\n",
        "from sklearn.model_selection import GridSearchCV, train_test_split\n",
        "from sklearn.preprocessing import LabelEncoder, OrdinalEncoder, MinMaxScaler, Normalizer, OneHotEncoder"
      ]
    },
    {
      "cell_type": "code",
      "source": [
        "!pip install  pyjanitor"
      ],
      "metadata": {
        "colab": {
          "base_uri": "https://localhost:8080/"
        },
        "id": "B_XcCogDIO_M",
        "outputId": "e8cdd1a2-1b79-4ab3-e9a7-1c0554d08894"
      },
      "id": "B_XcCogDIO_M",
      "execution_count": 2,
      "outputs": [
        {
          "output_type": "stream",
          "name": "stdout",
          "text": [
            "Looking in indexes: https://pypi.org/simple, https://us-python.pkg.dev/colab-wheels/public/simple/\n",
            "Collecting pyjanitor\n",
            "  Downloading pyjanitor-0.24.0-py3-none-any.whl (158 kB)\n",
            "\u001b[2K     \u001b[90m━━━━━━━━━━━━━━━━━━━━━━━━━━━━━━━━━━━━━━━\u001b[0m \u001b[32m158.4/158.4 kB\u001b[0m \u001b[31m3.5 MB/s\u001b[0m eta \u001b[36m0:00:00\u001b[0m\n",
            "\u001b[?25hRequirement already satisfied: scipy in /usr/local/lib/python3.9/dist-packages (from pyjanitor) (1.10.1)\n",
            "Requirement already satisfied: natsort in /usr/local/lib/python3.9/dist-packages (from pyjanitor) (8.3.1)\n",
            "Requirement already satisfied: lazy-loader in /usr/local/lib/python3.9/dist-packages (from pyjanitor) (0.2)\n",
            "Collecting pandas-flavor\n",
            "  Downloading pandas_flavor-0.5.0-py3-none-any.whl (7.1 kB)\n",
            "Requirement already satisfied: multipledispatch in /usr/local/lib/python3.9/dist-packages (from pyjanitor) (0.6.0)\n",
            "Requirement already satisfied: six in /usr/local/lib/python3.9/dist-packages (from multipledispatch->pyjanitor) (1.16.0)\n",
            "Requirement already satisfied: xarray in /usr/local/lib/python3.9/dist-packages (from pandas-flavor->pyjanitor) (2022.12.0)\n",
            "Requirement already satisfied: pandas>=0.23 in /usr/local/lib/python3.9/dist-packages (from pandas-flavor->pyjanitor) (1.5.3)\n",
            "Requirement already satisfied: numpy<1.27.0,>=1.19.5 in /usr/local/lib/python3.9/dist-packages (from scipy->pyjanitor) (1.22.4)\n",
            "Requirement already satisfied: pytz>=2020.1 in /usr/local/lib/python3.9/dist-packages (from pandas>=0.23->pandas-flavor->pyjanitor) (2022.7.1)\n",
            "Requirement already satisfied: python-dateutil>=2.8.1 in /usr/local/lib/python3.9/dist-packages (from pandas>=0.23->pandas-flavor->pyjanitor) (2.8.2)\n",
            "Requirement already satisfied: packaging>=21.3 in /usr/local/lib/python3.9/dist-packages (from xarray->pandas-flavor->pyjanitor) (23.0)\n",
            "Installing collected packages: pandas-flavor, pyjanitor\n",
            "Successfully installed pandas-flavor-0.5.0 pyjanitor-0.24.0\n"
          ]
        }
      ]
    },
    {
      "cell_type": "code",
      "source": [
        "import janitor"
      ],
      "metadata": {
        "id": "EzyKbtjslCos"
      },
      "id": "EzyKbtjslCos",
      "execution_count": 3,
      "outputs": []
    },
    {
      "cell_type": "code",
      "source": [
        "from google.colab import drive\n",
        "import os"
      ],
      "metadata": {
        "id": "ZriXpqcmXtTu",
        "colab": {
          "base_uri": "https://localhost:8080/"
        },
        "outputId": "2714cf29-9b7a-4b3a-e247-38e1fb64e1f7"
      },
      "id": "ZriXpqcmXtTu",
      "execution_count": 4,
      "outputs": [
        {
          "output_type": "stream",
          "name": "stderr",
          "text": [
            "/usr/local/lib/python3.9/dist-packages/ipykernel/ipkernel.py:283: DeprecationWarning: `should_run_async` will not call `transform_cell` automatically in the future. Please pass the result to `transformed_cell` argument and any exception that happen during thetransform in `preprocessing_exc_tuple` in IPython 7.17 and above.\n",
            "  and should_run_async(code)\n"
          ]
        }
      ]
    },
    {
      "cell_type": "code",
      "source": [
        "drive.mount('/content/drive')\n",
        "cur_path = \"/content/drive/MyDrive/DS5460/finalproject\"\n",
        "os.chdir(cur_path)"
      ],
      "metadata": {
        "colab": {
          "base_uri": "https://localhost:8080/"
        },
        "id": "n7aeIdJHXvib",
        "outputId": "50a3af0b-83ec-4ae9-af33-527a5e39f1ec"
      },
      "id": "n7aeIdJHXvib",
      "execution_count": 5,
      "outputs": [
        {
          "output_type": "stream",
          "name": "stderr",
          "text": [
            "/usr/local/lib/python3.9/dist-packages/ipykernel/ipkernel.py:283: DeprecationWarning: `should_run_async` will not call `transform_cell` automatically in the future. Please pass the result to `transformed_cell` argument and any exception that happen during thetransform in `preprocessing_exc_tuple` in IPython 7.17 and above.\n",
            "  and should_run_async(code)\n"
          ]
        },
        {
          "output_type": "stream",
          "name": "stdout",
          "text": [
            "Mounted at /content/drive\n"
          ]
        }
      ]
    },
    {
      "cell_type": "code",
      "execution_count": 6,
      "id": "b601a9f3",
      "metadata": {
        "id": "b601a9f3",
        "colab": {
          "base_uri": "https://localhost:8080/"
        },
        "outputId": "3f644a94-4b6a-49ca-ce80-7c5243480a73"
      },
      "outputs": [
        {
          "output_type": "stream",
          "name": "stderr",
          "text": [
            "/usr/local/lib/python3.9/dist-packages/ipykernel/ipkernel.py:283: DeprecationWarning: `should_run_async` will not call `transform_cell` automatically in the future. Please pass the result to `transformed_cell` argument and any exception that happen during thetransform in `preprocessing_exc_tuple` in IPython 7.17 and above.\n",
            "  and should_run_async(code)\n"
          ]
        }
      ],
      "source": [
        "df = pd.read_csv(\"adult.csv\").clean_names()"
      ]
    },
    {
      "cell_type": "code",
      "execution_count": 7,
      "id": "680ba872",
      "metadata": {
        "id": "680ba872",
        "colab": {
          "base_uri": "https://localhost:8080/"
        },
        "outputId": "00c1a112-3381-4ce5-f30d-c59187c31652"
      },
      "outputs": [
        {
          "output_type": "stream",
          "name": "stderr",
          "text": [
            "/usr/local/lib/python3.9/dist-packages/ipykernel/ipkernel.py:283: DeprecationWarning: `should_run_async` will not call `transform_cell` automatically in the future. Please pass the result to `transformed_cell` argument and any exception that happen during thetransform in `preprocessing_exc_tuple` in IPython 7.17 and above.\n",
            "  and should_run_async(code)\n"
          ]
        }
      ],
      "source": [
        "from pandas.api.types import is_string_dtype\n",
        "from pandas.api.types import is_numeric_dtype\n",
        "from pandas.api.types import is_categorical_dtype"
      ]
    },
    {
      "cell_type": "code",
      "execution_count": 8,
      "id": "152790b0",
      "metadata": {
        "colab": {
          "base_uri": "https://localhost:8080/"
        },
        "id": "152790b0",
        "outputId": "0d62b80e-7e14-4d04-fc3a-f1e839ddf710"
      },
      "outputs": [
        {
          "output_type": "stream",
          "name": "stderr",
          "text": [
            "/usr/local/lib/python3.9/dist-packages/ipykernel/ipkernel.py:283: DeprecationWarning: `should_run_async` will not call `transform_cell` automatically in the future. Please pass the result to `transformed_cell` argument and any exception that happen during thetransform in `preprocessing_exc_tuple` in IPython 7.17 and above.\n",
            "  and should_run_async(code)\n"
          ]
        }
      ],
      "source": [
        "df[\"marital_relation\"] = df[\"marital_status\"] + \"_\" + df[\"relationship\"]\n",
        "df = df.drop([\"sex\",\"race\",\"education_num\", \"native_country\", \"marital_status\",\"relationship\"], axis = 1)"
      ]
    },
    {
      "cell_type": "code",
      "execution_count": null,
      "id": "13cc594d",
      "metadata": {
        "id": "13cc594d",
        "colab": {
          "base_uri": "https://localhost:8080/"
        },
        "outputId": "6529232a-653b-4b5a-a55a-ef5cf4c04c72"
      },
      "outputs": [
        {
          "output_type": "stream",
          "name": "stdout",
          "text": [
            "<class 'pandas.core.frame.DataFrame'>\n",
            "RangeIndex: 32561 entries, 0 to 32560\n",
            "Data columns (total 10 columns):\n",
            " #   Column            Non-Null Count  Dtype \n",
            "---  ------            --------------  ----- \n",
            " 0   age               32561 non-null  int64 \n",
            " 1   workclass         32561 non-null  object\n",
            " 2   fnlwgt            32561 non-null  int64 \n",
            " 3   education         32561 non-null  object\n",
            " 4   occupation        32561 non-null  object\n",
            " 5   capital_gain      32561 non-null  int64 \n",
            " 6   capital_loss      32561 non-null  int64 \n",
            " 7   hours_per_week    32561 non-null  int64 \n",
            " 8   income            32561 non-null  object\n",
            " 9   marital_relation  32561 non-null  object\n",
            "dtypes: int64(5), object(5)\n",
            "memory usage: 2.5+ MB\n"
          ]
        },
        {
          "output_type": "stream",
          "name": "stderr",
          "text": [
            "/usr/local/lib/python3.9/dist-packages/ipykernel/ipkernel.py:283: DeprecationWarning: `should_run_async` will not call `transform_cell` automatically in the future. Please pass the result to `transformed_cell` argument and any exception that happen during thetransform in `preprocessing_exc_tuple` in IPython 7.17 and above.\n",
            "  and should_run_async(code)\n"
          ]
        }
      ],
      "source": [
        "df.info()"
      ]
    },
    {
      "cell_type": "code",
      "execution_count": 9,
      "id": "b731f3c7",
      "metadata": {
        "colab": {
          "base_uri": "https://localhost:8080/"
        },
        "id": "b731f3c7",
        "outputId": "3f1e911c-eb08-4ba7-aa89-ab143e773d73"
      },
      "outputs": [
        {
          "output_type": "stream",
          "name": "stderr",
          "text": [
            "/usr/local/lib/python3.9/dist-packages/ipykernel/ipkernel.py:283: DeprecationWarning: `should_run_async` will not call `transform_cell` automatically in the future. Please pass the result to `transformed_cell` argument and any exception that happen during thetransform in `preprocessing_exc_tuple` in IPython 7.17 and above.\n",
            "  and should_run_async(code)\n"
          ]
        }
      ],
      "source": [
        "df[\"income\"] = df[\"income\"].replace([\"<=50K\",\">50K\"], [0,1])"
      ]
    },
    {
      "cell_type": "code",
      "execution_count": 10,
      "id": "8ea682a2",
      "metadata": {
        "colab": {
          "base_uri": "https://localhost:8080/"
        },
        "id": "8ea682a2",
        "outputId": "144557c3-766b-473d-f8dc-2ae1393e0e2a"
      },
      "outputs": [
        {
          "output_type": "stream",
          "name": "stderr",
          "text": [
            "/usr/local/lib/python3.9/dist-packages/ipykernel/ipkernel.py:283: DeprecationWarning: `should_run_async` will not call `transform_cell` automatically in the future. Please pass the result to `transformed_cell` argument and any exception that happen during thetransform in `preprocessing_exc_tuple` in IPython 7.17 and above.\n",
            "  and should_run_async(code)\n"
          ]
        }
      ],
      "source": [
        "train, test = train_test_split(df, random_state = 200, train_size = 0.8, stratify = df[\"income\"])"
      ]
    },
    {
      "cell_type": "code",
      "execution_count": 11,
      "id": "0c0c83d9",
      "metadata": {
        "colab": {
          "base_uri": "https://localhost:8080/"
        },
        "id": "0c0c83d9",
        "outputId": "329436e6-43be-4486-8a35-8d7bbbff1e00"
      },
      "outputs": [
        {
          "output_type": "stream",
          "name": "stderr",
          "text": [
            "/usr/local/lib/python3.9/dist-packages/ipykernel/ipkernel.py:283: DeprecationWarning: `should_run_async` will not call `transform_cell` automatically in the future. Please pass the result to `transformed_cell` argument and any exception that happen during thetransform in `preprocessing_exc_tuple` in IPython 7.17 and above.\n",
            "  and should_run_async(code)\n"
          ]
        }
      ],
      "source": [
        "train_0 = train[train[\"income\"] == 0]\n",
        "train_0 = train_0.drop_duplicates()\n",
        "train_1 = train[train[\"income\"] == 1]"
      ]
    },
    {
      "cell_type": "code",
      "execution_count": 12,
      "id": "c2e3e27e",
      "metadata": {
        "colab": {
          "base_uri": "https://localhost:8080/"
        },
        "id": "c2e3e27e",
        "outputId": "5756ddd9-1205-4ffd-9d78-f59032287a1d"
      },
      "outputs": [
        {
          "output_type": "stream",
          "name": "stderr",
          "text": [
            "/usr/local/lib/python3.9/dist-packages/ipykernel/ipkernel.py:283: DeprecationWarning: `should_run_async` will not call `transform_cell` automatically in the future. Please pass the result to `transformed_cell` argument and any exception that happen during thetransform in `preprocessing_exc_tuple` in IPython 7.17 and above.\n",
            "  and should_run_async(code)\n"
          ]
        }
      ],
      "source": [
        "train_new = pd.concat([train_0, train_1], axis = 0)"
      ]
    },
    {
      "cell_type": "code",
      "execution_count": 13,
      "id": "8ead18e8",
      "metadata": {
        "colab": {
          "base_uri": "https://localhost:8080/"
        },
        "id": "8ead18e8",
        "outputId": "a06b7f7b-3df9-436d-dcaf-1dca8ce8dd9a"
      },
      "outputs": [
        {
          "output_type": "stream",
          "name": "stderr",
          "text": [
            "/usr/local/lib/python3.9/dist-packages/ipykernel/ipkernel.py:283: DeprecationWarning: `should_run_async` will not call `transform_cell` automatically in the future. Please pass the result to `transformed_cell` argument and any exception that happen during thetransform in `preprocessing_exc_tuple` in IPython 7.17 and above.\n",
            "  and should_run_async(code)\n"
          ]
        }
      ],
      "source": [
        "x_train, y_train = train_new.drop(\"income\", axis = 1), train_new[\"income\"]\n",
        "x_test, y_test = test.drop(\"income\", axis = 1), test[\"income\"]"
      ]
    },
    {
      "cell_type": "code",
      "execution_count": 14,
      "id": "14947eaa",
      "metadata": {
        "colab": {
          "base_uri": "https://localhost:8080/"
        },
        "id": "14947eaa",
        "outputId": "04b07bf5-3d85-4b93-eb26-08dc4e074e93"
      },
      "outputs": [
        {
          "output_type": "stream",
          "name": "stderr",
          "text": [
            "/usr/local/lib/python3.9/dist-packages/ipykernel/ipkernel.py:283: DeprecationWarning: `should_run_async` will not call `transform_cell` automatically in the future. Please pass the result to `transformed_cell` argument and any exception that happen during thetransform in `preprocessing_exc_tuple` in IPython 7.17 and above.\n",
            "  and should_run_async(code)\n"
          ]
        }
      ],
      "source": [
        "num = []\n",
        "cat = []\n",
        "stri = []\n",
        "columns = list(x_train.columns)\n",
        "for col in columns:\n",
        "    if is_numeric_dtype(x_train[col]):\n",
        "        num.append(col)\n",
        "    elif is_string_dtype(x_train[col]):\n",
        "        stri.append(col)\n",
        "    elif is_categorical_dtype(x_train[col]):\n",
        "        cat.append(col)"
      ]
    },
    {
      "cell_type": "code",
      "execution_count": 15,
      "id": "b1ff4ac2",
      "metadata": {
        "colab": {
          "base_uri": "https://localhost:8080/"
        },
        "id": "b1ff4ac2",
        "outputId": "e764bb54-ce4a-4653-817d-a90672cd2604"
      },
      "outputs": [
        {
          "output_type": "stream",
          "name": "stderr",
          "text": [
            "/usr/local/lib/python3.9/dist-packages/ipykernel/ipkernel.py:283: DeprecationWarning: `should_run_async` will not call `transform_cell` automatically in the future. Please pass the result to `transformed_cell` argument and any exception that happen during thetransform in `preprocessing_exc_tuple` in IPython 7.17 and above.\n",
            "  and should_run_async(code)\n"
          ]
        },
        {
          "output_type": "execute_result",
          "data": {
            "text/plain": [
              "(['age', 'fnlwgt', 'capital_gain', 'capital_loss', 'hours_per_week'],\n",
              " ['workclass', 'education', 'occupation', 'marital_relation'],\n",
              " [])"
            ]
          },
          "metadata": {},
          "execution_count": 15
        }
      ],
      "source": [
        "num, stri, cat"
      ]
    },
    {
      "cell_type": "code",
      "execution_count": 16,
      "id": "281c0b68",
      "metadata": {
        "colab": {
          "base_uri": "https://localhost:8080/"
        },
        "id": "281c0b68",
        "outputId": "e44484d6-e8a2-4e75-e942-11a968610bbc"
      },
      "outputs": [
        {
          "output_type": "stream",
          "name": "stderr",
          "text": [
            "/usr/local/lib/python3.9/dist-packages/ipykernel/ipkernel.py:283: DeprecationWarning: `should_run_async` will not call `transform_cell` automatically in the future. Please pass the result to `transformed_cell` argument and any exception that happen during thetransform in `preprocessing_exc_tuple` in IPython 7.17 and above.\n",
            "  and should_run_async(code)\n"
          ]
        },
        {
          "output_type": "execute_result",
          "data": {
            "text/plain": [
              "array(['HS-grad', 'Some-college', '7th-8th', '10th', 'Doctorate',\n",
              "       'Prof-school', 'Bachelors', 'Masters', '11th', 'Assoc-acdm',\n",
              "       'Assoc-voc', '1st-4th', '5th-6th', '12th', '9th', 'Preschool'],\n",
              "      dtype=object)"
            ]
          },
          "metadata": {},
          "execution_count": 16
        }
      ],
      "source": [
        "df[\"education\"].unique()"
      ]
    },
    {
      "cell_type": "code",
      "source": [
        "educ = [\"education\"]"
      ],
      "metadata": {
        "colab": {
          "base_uri": "https://localhost:8080/"
        },
        "id": "qFnlR1fhYbrN",
        "outputId": "8dea7b94-df1b-49ee-b34b-1419c94a7d0f"
      },
      "id": "qFnlR1fhYbrN",
      "execution_count": 17,
      "outputs": [
        {
          "output_type": "stream",
          "name": "stderr",
          "text": [
            "/usr/local/lib/python3.9/dist-packages/ipykernel/ipkernel.py:283: DeprecationWarning: `should_run_async` will not call `transform_cell` automatically in the future. Please pass the result to `transformed_cell` argument and any exception that happen during thetransform in `preprocessing_exc_tuple` in IPython 7.17 and above.\n",
            "  and should_run_async(code)\n"
          ]
        }
      ]
    },
    {
      "cell_type": "code",
      "execution_count": 18,
      "id": "d8e738a0",
      "metadata": {
        "colab": {
          "base_uri": "https://localhost:8080/"
        },
        "id": "d8e738a0",
        "outputId": "8f81e39f-e90b-4f23-c667-a0ebeb881b0e"
      },
      "outputs": [
        {
          "output_type": "stream",
          "name": "stderr",
          "text": [
            "/usr/local/lib/python3.9/dist-packages/ipykernel/ipkernel.py:283: DeprecationWarning: `should_run_async` will not call `transform_cell` automatically in the future. Please pass the result to `transformed_cell` argument and any exception that happen during thetransform in `preprocessing_exc_tuple` in IPython 7.17 and above.\n",
            "  and should_run_async(code)\n"
          ]
        },
        {
          "output_type": "execute_result",
          "data": {
            "text/plain": [
              "(['age', 'fnlwgt', 'capital_gain', 'capital_loss', 'hours_per_week'],\n",
              " ['workclass', 'occupation', 'marital_relation'],\n",
              " [])"
            ]
          },
          "metadata": {},
          "execution_count": 18
        }
      ],
      "source": [
        "stri.remove(\"education\")\n",
        "num, stri, cat"
      ]
    },
    {
      "cell_type": "code",
      "execution_count": 19,
      "id": "51a8bbfb",
      "metadata": {
        "colab": {
          "base_uri": "https://localhost:8080/"
        },
        "id": "51a8bbfb",
        "outputId": "745486a8-e590-4374-a5e0-502bd6ba9764"
      },
      "outputs": [
        {
          "output_type": "stream",
          "name": "stderr",
          "text": [
            "/usr/local/lib/python3.9/dist-packages/ipykernel/ipkernel.py:283: DeprecationWarning: `should_run_async` will not call `transform_cell` automatically in the future. Please pass the result to `transformed_cell` argument and any exception that happen during thetransform in `preprocessing_exc_tuple` in IPython 7.17 and above.\n",
            "  and should_run_async(code)\n"
          ]
        }
      ],
      "source": [
        "min_max = MinMaxScaler()\n",
        "ohe = OneHotEncoder()\n",
        "ordi = OrdinalEncoder(categories = [[\"Preschool\", \"1st-4th\",\"5th-6th\", \"7th-8th\", \"9th\", \"10th\", \n",
        "                                            \"11th\", \"12th\", \"HS-grad\", \"Some-college\",\n",
        "                                            \"Assoc-voc\",\"Assoc-acdm\",\"Bachelors\", \"Masters\",\"Prof-school\",\"Doctorate\"]])"
      ]
    },
    {
      "cell_type": "code",
      "execution_count": 20,
      "id": "4f296f85",
      "metadata": {
        "colab": {
          "base_uri": "https://localhost:8080/"
        },
        "id": "4f296f85",
        "outputId": "0d77224f-100b-41bb-8068-b10edac2752a"
      },
      "outputs": [
        {
          "output_type": "stream",
          "name": "stderr",
          "text": [
            "/usr/local/lib/python3.9/dist-packages/ipykernel/ipkernel.py:283: DeprecationWarning: `should_run_async` will not call `transform_cell` automatically in the future. Please pass the result to `transformed_cell` argument and any exception that happen during thetransform in `preprocessing_exc_tuple` in IPython 7.17 and above.\n",
            "  and should_run_async(code)\n"
          ]
        }
      ],
      "source": [
        "def column_transform(df, columns):\n",
        "    new_df = df.copy()\n",
        "    for col in columns:\n",
        "        # num ~ [0,1]\n",
        "        if col in num:\n",
        "            ct = ColumnTransformer([(\"min_max\", min_max, [col])])\n",
        "            new_df[col + \"_scaled\"] = ct.fit_transform(df)\n",
        "            continue\n",
        "        # stri ~ {0,1}    \n",
        "        elif col in stri:\n",
        "            elements = sorted(df[col].unique())\n",
        "            ct2 = ColumnTransformer([(\"ohe\", ohe, [col])])\n",
        "            if len(elements) > 2:\n",
        "                x = ct2.fit_transform(df).toarray()\n",
        "            elif len(elements) <= 2:\n",
        "                x = np.array(ct2.fit_transform(df))\n",
        "            for i in range(len(elements)):\n",
        "                new_df[col + \"_\" + elements[i].lower()] = x[:,i]\n",
        "        # depends on ord class\n",
        "        elif col in educ:\n",
        "            ct3 = ColumnTransformer([(\"ord\", ordi, [col])])\n",
        "            x = ct3.fit_transform(df)\n",
        "            new_df[col + \"_new\"] = x\n",
        "            continue\n",
        "    new_df = new_df.drop(columns, axis = 1)\n",
        "    return new_df"
      ]
    },
    {
      "cell_type": "code",
      "execution_count": 21,
      "id": "146a7d14",
      "metadata": {
        "colab": {
          "base_uri": "https://localhost:8080/"
        },
        "id": "146a7d14",
        "outputId": "7d57f4e7-0829-4122-b126-365c8f6e6817"
      },
      "outputs": [
        {
          "output_type": "stream",
          "name": "stderr",
          "text": [
            "/usr/local/lib/python3.9/dist-packages/ipykernel/ipkernel.py:283: DeprecationWarning: `should_run_async` will not call `transform_cell` automatically in the future. Please pass the result to `transformed_cell` argument and any exception that happen during thetransform in `preprocessing_exc_tuple` in IPython 7.17 and above.\n",
            "  and should_run_async(code)\n"
          ]
        }
      ],
      "source": [
        "new_train_data = column_transform(x_train, list(x_train.columns))"
      ]
    },
    {
      "cell_type": "code",
      "source": [
        "new_train_data[\"income\"] = train_new[\"income\"]\n",
        "\n",
        "#new_train_data['education_new']\n",
        "# 'age', 'fnlwgt', 'capital_gain', 'capital_loss', 'hours_per_week'"
      ],
      "metadata": {
        "colab": {
          "base_uri": "https://localhost:8080/"
        },
        "id": "2t4axO6nRmRG",
        "outputId": "9a3211e2-0949-498d-fb6b-d8c0022fd8ba"
      },
      "id": "2t4axO6nRmRG",
      "execution_count": 22,
      "outputs": [
        {
          "output_type": "stream",
          "name": "stderr",
          "text": [
            "/usr/local/lib/python3.9/dist-packages/ipykernel/ipkernel.py:283: DeprecationWarning: `should_run_async` will not call `transform_cell` automatically in the future. Please pass the result to `transformed_cell` argument and any exception that happen during thetransform in `preprocessing_exc_tuple` in IPython 7.17 and above.\n",
            "  and should_run_async(code)\n"
          ]
        }
      ]
    },
    {
      "cell_type": "code",
      "source": [
        "new_train_data.info()"
      ],
      "metadata": {
        "colab": {
          "base_uri": "https://localhost:8080/"
        },
        "id": "1SoWx7CqWOHJ",
        "outputId": "1a382518-49bc-49e9-a3b4-4ff445763e81"
      },
      "id": "1SoWx7CqWOHJ",
      "execution_count": 25,
      "outputs": [
        {
          "output_type": "stream",
          "name": "stdout",
          "text": [
            "<class 'pandas.core.frame.DataFrame'>\n",
            "Int64Index: 26035 entries, 11761 to 21399\n",
            "Data columns (total 60 columns):\n",
            " #   Column                                                 Non-Null Count  Dtype  \n",
            "---  ------                                                 --------------  -----  \n",
            " 0   age_scaled                                             26035 non-null  float64\n",
            " 1   workclass_?                                            26035 non-null  float64\n",
            " 2   workclass_federal-gov                                  26035 non-null  float64\n",
            " 3   workclass_local-gov                                    26035 non-null  float64\n",
            " 4   workclass_never-worked                                 26035 non-null  float64\n",
            " 5   workclass_private                                      26035 non-null  float64\n",
            " 6   workclass_self-emp-inc                                 26035 non-null  float64\n",
            " 7   workclass_self-emp-not-inc                             26035 non-null  float64\n",
            " 8   workclass_state-gov                                    26035 non-null  float64\n",
            " 9   workclass_without-pay                                  26035 non-null  float64\n",
            " 10  fnlwgt_scaled                                          26035 non-null  float64\n",
            " 11  education_new                                          26035 non-null  float64\n",
            " 12  occupation_?                                           26035 non-null  float64\n",
            " 13  occupation_adm-clerical                                26035 non-null  float64\n",
            " 14  occupation_armed-forces                                26035 non-null  float64\n",
            " 15  occupation_craft-repair                                26035 non-null  float64\n",
            " 16  occupation_exec-managerial                             26035 non-null  float64\n",
            " 17  occupation_farming-fishing                             26035 non-null  float64\n",
            " 18  occupation_handlers-cleaners                           26035 non-null  float64\n",
            " 19  occupation_machine-op-inspct                           26035 non-null  float64\n",
            " 20  occupation_other-service                               26035 non-null  float64\n",
            " 21  occupation_priv-house-serv                             26035 non-null  float64\n",
            " 22  occupation_prof-specialty                              26035 non-null  float64\n",
            " 23  occupation_protective-serv                             26035 non-null  float64\n",
            " 24  occupation_sales                                       26035 non-null  float64\n",
            " 25  occupation_tech-support                                26035 non-null  float64\n",
            " 26  occupation_transport-moving                            26035 non-null  float64\n",
            " 27  capital_gain_scaled                                    26035 non-null  float64\n",
            " 28  capital_loss_scaled                                    26035 non-null  float64\n",
            " 29  hours_per_week_scaled                                  26035 non-null  float64\n",
            " 30  marital_relation_divorced_not-in-family                26035 non-null  float64\n",
            " 31  marital_relation_divorced_other-relative               26035 non-null  float64\n",
            " 32  marital_relation_divorced_own-child                    26035 non-null  float64\n",
            " 33  marital_relation_divorced_unmarried                    26035 non-null  float64\n",
            " 34  marital_relation_married-af-spouse_husband             26035 non-null  float64\n",
            " 35  marital_relation_married-af-spouse_other-relative      26035 non-null  float64\n",
            " 36  marital_relation_married-af-spouse_own-child           26035 non-null  float64\n",
            " 37  marital_relation_married-af-spouse_wife                26035 non-null  float64\n",
            " 38  marital_relation_married-civ-spouse_husband            26035 non-null  float64\n",
            " 39  marital_relation_married-civ-spouse_not-in-family      26035 non-null  float64\n",
            " 40  marital_relation_married-civ-spouse_other-relative     26035 non-null  float64\n",
            " 41  marital_relation_married-civ-spouse_own-child          26035 non-null  float64\n",
            " 42  marital_relation_married-civ-spouse_wife               26035 non-null  float64\n",
            " 43  marital_relation_married-spouse-absent_not-in-family   26035 non-null  float64\n",
            " 44  marital_relation_married-spouse-absent_other-relative  26035 non-null  float64\n",
            " 45  marital_relation_married-spouse-absent_own-child       26035 non-null  float64\n",
            " 46  marital_relation_married-spouse-absent_unmarried       26035 non-null  float64\n",
            " 47  marital_relation_never-married_not-in-family           26035 non-null  float64\n",
            " 48  marital_relation_never-married_other-relative          26035 non-null  float64\n",
            " 49  marital_relation_never-married_own-child               26035 non-null  float64\n",
            " 50  marital_relation_never-married_unmarried               26035 non-null  float64\n",
            " 51  marital_relation_separated_not-in-family               26035 non-null  float64\n",
            " 52  marital_relation_separated_other-relative              26035 non-null  float64\n",
            " 53  marital_relation_separated_own-child                   26035 non-null  float64\n",
            " 54  marital_relation_separated_unmarried                   26035 non-null  float64\n",
            " 55  marital_relation_widowed_not-in-family                 26035 non-null  float64\n",
            " 56  marital_relation_widowed_other-relative                26035 non-null  float64\n",
            " 57  marital_relation_widowed_own-child                     26035 non-null  float64\n",
            " 58  marital_relation_widowed_unmarried                     26035 non-null  float64\n",
            " 59  income                                                 26035 non-null  int64  \n",
            "dtypes: float64(59), int64(1)\n",
            "memory usage: 12.1 MB\n"
          ]
        },
        {
          "output_type": "stream",
          "name": "stderr",
          "text": [
            "/usr/local/lib/python3.9/dist-packages/ipykernel/ipkernel.py:283: DeprecationWarning: `should_run_async` will not call `transform_cell` automatically in the future. Please pass the result to `transformed_cell` argument and any exception that happen during thetransform in `preprocessing_exc_tuple` in IPython 7.17 and above.\n",
            "  and should_run_async(code)\n"
          ]
        }
      ]
    },
    {
      "cell_type": "code",
      "source": [
        "def column_fit_transform(train, other, columns):\n",
        "    new_df = other.copy()\n",
        "    for col in columns:\n",
        "        # minmax\n",
        "        if col in num:\n",
        "            ct = ColumnTransformer([(\"min_max\", min_max, [col])])\n",
        "            ct.fit(train)\n",
        "            new_df[col + \"_scaled\"] = ct.transform(other)\n",
        "        # ohe\n",
        "        elif col in stri:\n",
        "            elements = sorted(other[col].unique())\n",
        "            ct2 = ColumnTransformer([(\"ohe\", ohe, [col])])\n",
        "            if len(elements) > 2:\n",
        "                ct2.fit(train)\n",
        "                x = ct2.transform(other).toarray()\n",
        "            elif len(elements) <= 2:\n",
        "                ct2.fit(train)\n",
        "                x = np.array(ct2.transform(other))\n",
        "            for i in range(len(elements)):\n",
        "                new_df[col + \"_\" + elements[i].lower()] = x[:,i]\n",
        "        # ord\n",
        "        elif col in educ:\n",
        "            ct3 = ColumnTransformer([(\"ord\", ordi, [col])])\n",
        "            ct3.fit(train)\n",
        "            x = ct3.transform(other)\n",
        "            new_df[col + \"_new\"] = x\n",
        "        \n",
        "    new_df = new_df.drop(columns, axis = 1)\n",
        "    return new_df"
      ],
      "metadata": {
        "colab": {
          "base_uri": "https://localhost:8080/"
        },
        "id": "ooTdBRQOoKRB",
        "outputId": "0f411a44-9320-417f-d1f4-1cf2a3dee6a6"
      },
      "id": "ooTdBRQOoKRB",
      "execution_count": 23,
      "outputs": [
        {
          "output_type": "stream",
          "name": "stderr",
          "text": [
            "/usr/local/lib/python3.9/dist-packages/ipykernel/ipkernel.py:283: DeprecationWarning: `should_run_async` will not call `transform_cell` automatically in the future. Please pass the result to `transformed_cell` argument and any exception that happen during thetransform in `preprocessing_exc_tuple` in IPython 7.17 and above.\n",
            "  and should_run_async(code)\n"
          ]
        }
      ]
    },
    {
      "cell_type": "code",
      "source": [
        "new_test_data = column_fit_transform(x_train, x_test, x_train.columns)\n",
        "test_col, train_col = list(new_test_data.columns), list(new_train_data.columns)\n",
        "missing = list(set(train_col).difference(set(test_col)))\n",
        "for miss in missing:\n",
        "    new_test_data[missing] = 0.0\n",
        "new_test_data = new_test_data.drop(\"income\", axis = 1)\n",
        "new_test_data.head()"
      ],
      "metadata": {
        "colab": {
          "base_uri": "https://localhost:8080/",
          "height": 353
        },
        "id": "c3g1QERUYPYE",
        "outputId": "d829bc02-a779-4fbe-8e5c-6c9e372fb210"
      },
      "id": "c3g1QERUYPYE",
      "execution_count": 24,
      "outputs": [
        {
          "output_type": "stream",
          "name": "stderr",
          "text": [
            "/usr/local/lib/python3.9/dist-packages/ipykernel/ipkernel.py:283: DeprecationWarning: `should_run_async` will not call `transform_cell` automatically in the future. Please pass the result to `transformed_cell` argument and any exception that happen during thetransform in `preprocessing_exc_tuple` in IPython 7.17 and above.\n",
            "  and should_run_async(code)\n"
          ]
        },
        {
          "output_type": "execute_result",
          "data": {
            "text/plain": [
              "       age_scaled  workclass_?  workclass_federal-gov  workclass_local-gov  \\\n",
              "24169    0.205479          0.0                    0.0                  0.0   \n",
              "22386    0.383562          0.0                    0.0                  0.0   \n",
              "31288    0.136986          0.0                    0.0                  0.0   \n",
              "6245     0.630137          0.0                    1.0                  0.0   \n",
              "4654     0.315068          0.0                    0.0                  0.0   \n",
              "\n",
              "       workclass_never-worked  workclass_private  workclass_self-emp-inc  \\\n",
              "24169                     0.0                1.0                     0.0   \n",
              "22386                     0.0                1.0                     0.0   \n",
              "31288                     0.0                1.0                     0.0   \n",
              "6245                      0.0                0.0                     0.0   \n",
              "4654                      0.0                1.0                     0.0   \n",
              "\n",
              "       workclass_self-emp-not-inc  workclass_state-gov  workclass_without-pay  \\\n",
              "24169                         0.0                  0.0                    0.0   \n",
              "22386                         0.0                  0.0                    0.0   \n",
              "31288                         0.0                  0.0                    0.0   \n",
              "6245                          0.0                  0.0                    0.0   \n",
              "4654                          0.0                  0.0                    0.0   \n",
              "\n",
              "       ...  marital_relation_separated_not-in-family  \\\n",
              "24169  ...                                       0.0   \n",
              "22386  ...                                       0.0   \n",
              "31288  ...                                       1.0   \n",
              "6245   ...                                       0.0   \n",
              "4654   ...                                       0.0   \n",
              "\n",
              "       marital_relation_separated_other-relative  \\\n",
              "24169                                        0.0   \n",
              "22386                                        0.0   \n",
              "31288                                        0.0   \n",
              "6245                                         0.0   \n",
              "4654                                         0.0   \n",
              "\n",
              "       marital_relation_separated_own-child  \\\n",
              "24169                                   0.0   \n",
              "22386                                   0.0   \n",
              "31288                                   0.0   \n",
              "6245                                    0.0   \n",
              "4654                                    0.0   \n",
              "\n",
              "       marital_relation_separated_unmarried  \\\n",
              "24169                                   0.0   \n",
              "22386                                   0.0   \n",
              "31288                                   0.0   \n",
              "6245                                    0.0   \n",
              "4654                                    0.0   \n",
              "\n",
              "       marital_relation_widowed_not-in-family  \\\n",
              "24169                                     0.0   \n",
              "22386                                     0.0   \n",
              "31288                                     0.0   \n",
              "6245                                      0.0   \n",
              "4654                                      0.0   \n",
              "\n",
              "       marital_relation_widowed_other-relative  \\\n",
              "24169                                      0.0   \n",
              "22386                                      0.0   \n",
              "31288                                      0.0   \n",
              "6245                                       0.0   \n",
              "4654                                       0.0   \n",
              "\n",
              "       marital_relation_widowed_own-child  marital_relation_widowed_unmarried  \\\n",
              "24169                                 0.0                                 0.0   \n",
              "22386                                 0.0                                 0.0   \n",
              "31288                                 0.0                                 0.0   \n",
              "6245                                  0.0                                 0.0   \n",
              "4654                                  0.0                                 0.0   \n",
              "\n",
              "       marital_relation_married-af-spouse_other-relative  \\\n",
              "24169                                                0.0   \n",
              "22386                                                0.0   \n",
              "31288                                                0.0   \n",
              "6245                                                 0.0   \n",
              "4654                                                 0.0   \n",
              "\n",
              "       marital_relation_married-af-spouse_own-child  \n",
              "24169                                           0.0  \n",
              "22386                                           0.0  \n",
              "31288                                           0.0  \n",
              "6245                                            0.0  \n",
              "4654                                            0.0  \n",
              "\n",
              "[5 rows x 59 columns]"
            ],
            "text/html": [
              "\n",
              "  <div id=\"df-ca0613ad-9551-44c2-926e-2ff9eb1f010e\">\n",
              "    <div class=\"colab-df-container\">\n",
              "      <div>\n",
              "<style scoped>\n",
              "    .dataframe tbody tr th:only-of-type {\n",
              "        vertical-align: middle;\n",
              "    }\n",
              "\n",
              "    .dataframe tbody tr th {\n",
              "        vertical-align: top;\n",
              "    }\n",
              "\n",
              "    .dataframe thead th {\n",
              "        text-align: right;\n",
              "    }\n",
              "</style>\n",
              "<table border=\"1\" class=\"dataframe\">\n",
              "  <thead>\n",
              "    <tr style=\"text-align: right;\">\n",
              "      <th></th>\n",
              "      <th>age_scaled</th>\n",
              "      <th>workclass_?</th>\n",
              "      <th>workclass_federal-gov</th>\n",
              "      <th>workclass_local-gov</th>\n",
              "      <th>workclass_never-worked</th>\n",
              "      <th>workclass_private</th>\n",
              "      <th>workclass_self-emp-inc</th>\n",
              "      <th>workclass_self-emp-not-inc</th>\n",
              "      <th>workclass_state-gov</th>\n",
              "      <th>workclass_without-pay</th>\n",
              "      <th>...</th>\n",
              "      <th>marital_relation_separated_not-in-family</th>\n",
              "      <th>marital_relation_separated_other-relative</th>\n",
              "      <th>marital_relation_separated_own-child</th>\n",
              "      <th>marital_relation_separated_unmarried</th>\n",
              "      <th>marital_relation_widowed_not-in-family</th>\n",
              "      <th>marital_relation_widowed_other-relative</th>\n",
              "      <th>marital_relation_widowed_own-child</th>\n",
              "      <th>marital_relation_widowed_unmarried</th>\n",
              "      <th>marital_relation_married-af-spouse_other-relative</th>\n",
              "      <th>marital_relation_married-af-spouse_own-child</th>\n",
              "    </tr>\n",
              "  </thead>\n",
              "  <tbody>\n",
              "    <tr>\n",
              "      <th>24169</th>\n",
              "      <td>0.205479</td>\n",
              "      <td>0.0</td>\n",
              "      <td>0.0</td>\n",
              "      <td>0.0</td>\n",
              "      <td>0.0</td>\n",
              "      <td>1.0</td>\n",
              "      <td>0.0</td>\n",
              "      <td>0.0</td>\n",
              "      <td>0.0</td>\n",
              "      <td>0.0</td>\n",
              "      <td>...</td>\n",
              "      <td>0.0</td>\n",
              "      <td>0.0</td>\n",
              "      <td>0.0</td>\n",
              "      <td>0.0</td>\n",
              "      <td>0.0</td>\n",
              "      <td>0.0</td>\n",
              "      <td>0.0</td>\n",
              "      <td>0.0</td>\n",
              "      <td>0.0</td>\n",
              "      <td>0.0</td>\n",
              "    </tr>\n",
              "    <tr>\n",
              "      <th>22386</th>\n",
              "      <td>0.383562</td>\n",
              "      <td>0.0</td>\n",
              "      <td>0.0</td>\n",
              "      <td>0.0</td>\n",
              "      <td>0.0</td>\n",
              "      <td>1.0</td>\n",
              "      <td>0.0</td>\n",
              "      <td>0.0</td>\n",
              "      <td>0.0</td>\n",
              "      <td>0.0</td>\n",
              "      <td>...</td>\n",
              "      <td>0.0</td>\n",
              "      <td>0.0</td>\n",
              "      <td>0.0</td>\n",
              "      <td>0.0</td>\n",
              "      <td>0.0</td>\n",
              "      <td>0.0</td>\n",
              "      <td>0.0</td>\n",
              "      <td>0.0</td>\n",
              "      <td>0.0</td>\n",
              "      <td>0.0</td>\n",
              "    </tr>\n",
              "    <tr>\n",
              "      <th>31288</th>\n",
              "      <td>0.136986</td>\n",
              "      <td>0.0</td>\n",
              "      <td>0.0</td>\n",
              "      <td>0.0</td>\n",
              "      <td>0.0</td>\n",
              "      <td>1.0</td>\n",
              "      <td>0.0</td>\n",
              "      <td>0.0</td>\n",
              "      <td>0.0</td>\n",
              "      <td>0.0</td>\n",
              "      <td>...</td>\n",
              "      <td>1.0</td>\n",
              "      <td>0.0</td>\n",
              "      <td>0.0</td>\n",
              "      <td>0.0</td>\n",
              "      <td>0.0</td>\n",
              "      <td>0.0</td>\n",
              "      <td>0.0</td>\n",
              "      <td>0.0</td>\n",
              "      <td>0.0</td>\n",
              "      <td>0.0</td>\n",
              "    </tr>\n",
              "    <tr>\n",
              "      <th>6245</th>\n",
              "      <td>0.630137</td>\n",
              "      <td>0.0</td>\n",
              "      <td>1.0</td>\n",
              "      <td>0.0</td>\n",
              "      <td>0.0</td>\n",
              "      <td>0.0</td>\n",
              "      <td>0.0</td>\n",
              "      <td>0.0</td>\n",
              "      <td>0.0</td>\n",
              "      <td>0.0</td>\n",
              "      <td>...</td>\n",
              "      <td>0.0</td>\n",
              "      <td>0.0</td>\n",
              "      <td>0.0</td>\n",
              "      <td>0.0</td>\n",
              "      <td>0.0</td>\n",
              "      <td>0.0</td>\n",
              "      <td>0.0</td>\n",
              "      <td>0.0</td>\n",
              "      <td>0.0</td>\n",
              "      <td>0.0</td>\n",
              "    </tr>\n",
              "    <tr>\n",
              "      <th>4654</th>\n",
              "      <td>0.315068</td>\n",
              "      <td>0.0</td>\n",
              "      <td>0.0</td>\n",
              "      <td>0.0</td>\n",
              "      <td>0.0</td>\n",
              "      <td>1.0</td>\n",
              "      <td>0.0</td>\n",
              "      <td>0.0</td>\n",
              "      <td>0.0</td>\n",
              "      <td>0.0</td>\n",
              "      <td>...</td>\n",
              "      <td>0.0</td>\n",
              "      <td>0.0</td>\n",
              "      <td>0.0</td>\n",
              "      <td>0.0</td>\n",
              "      <td>0.0</td>\n",
              "      <td>0.0</td>\n",
              "      <td>0.0</td>\n",
              "      <td>0.0</td>\n",
              "      <td>0.0</td>\n",
              "      <td>0.0</td>\n",
              "    </tr>\n",
              "  </tbody>\n",
              "</table>\n",
              "<p>5 rows × 59 columns</p>\n",
              "</div>\n",
              "      <button class=\"colab-df-convert\" onclick=\"convertToInteractive('df-ca0613ad-9551-44c2-926e-2ff9eb1f010e')\"\n",
              "              title=\"Convert this dataframe to an interactive table.\"\n",
              "              style=\"display:none;\">\n",
              "        \n",
              "  <svg xmlns=\"http://www.w3.org/2000/svg\" height=\"24px\"viewBox=\"0 0 24 24\"\n",
              "       width=\"24px\">\n",
              "    <path d=\"M0 0h24v24H0V0z\" fill=\"none\"/>\n",
              "    <path d=\"M18.56 5.44l.94 2.06.94-2.06 2.06-.94-2.06-.94-.94-2.06-.94 2.06-2.06.94zm-11 1L8.5 8.5l.94-2.06 2.06-.94-2.06-.94L8.5 2.5l-.94 2.06-2.06.94zm10 10l.94 2.06.94-2.06 2.06-.94-2.06-.94-.94-2.06-.94 2.06-2.06.94z\"/><path d=\"M17.41 7.96l-1.37-1.37c-.4-.4-.92-.59-1.43-.59-.52 0-1.04.2-1.43.59L10.3 9.45l-7.72 7.72c-.78.78-.78 2.05 0 2.83L4 21.41c.39.39.9.59 1.41.59.51 0 1.02-.2 1.41-.59l7.78-7.78 2.81-2.81c.8-.78.8-2.07 0-2.86zM5.41 20L4 18.59l7.72-7.72 1.47 1.35L5.41 20z\"/>\n",
              "  </svg>\n",
              "      </button>\n",
              "      \n",
              "  <style>\n",
              "    .colab-df-container {\n",
              "      display:flex;\n",
              "      flex-wrap:wrap;\n",
              "      gap: 12px;\n",
              "    }\n",
              "\n",
              "    .colab-df-convert {\n",
              "      background-color: #E8F0FE;\n",
              "      border: none;\n",
              "      border-radius: 50%;\n",
              "      cursor: pointer;\n",
              "      display: none;\n",
              "      fill: #1967D2;\n",
              "      height: 32px;\n",
              "      padding: 0 0 0 0;\n",
              "      width: 32px;\n",
              "    }\n",
              "\n",
              "    .colab-df-convert:hover {\n",
              "      background-color: #E2EBFA;\n",
              "      box-shadow: 0px 1px 2px rgba(60, 64, 67, 0.3), 0px 1px 3px 1px rgba(60, 64, 67, 0.15);\n",
              "      fill: #174EA6;\n",
              "    }\n",
              "\n",
              "    [theme=dark] .colab-df-convert {\n",
              "      background-color: #3B4455;\n",
              "      fill: #D2E3FC;\n",
              "    }\n",
              "\n",
              "    [theme=dark] .colab-df-convert:hover {\n",
              "      background-color: #434B5C;\n",
              "      box-shadow: 0px 1px 3px 1px rgba(0, 0, 0, 0.15);\n",
              "      filter: drop-shadow(0px 1px 2px rgba(0, 0, 0, 0.3));\n",
              "      fill: #FFFFFF;\n",
              "    }\n",
              "  </style>\n",
              "\n",
              "      <script>\n",
              "        const buttonEl =\n",
              "          document.querySelector('#df-ca0613ad-9551-44c2-926e-2ff9eb1f010e button.colab-df-convert');\n",
              "        buttonEl.style.display =\n",
              "          google.colab.kernel.accessAllowed ? 'block' : 'none';\n",
              "\n",
              "        async function convertToInteractive(key) {\n",
              "          const element = document.querySelector('#df-ca0613ad-9551-44c2-926e-2ff9eb1f010e');\n",
              "          const dataTable =\n",
              "            await google.colab.kernel.invokeFunction('convertToInteractive',\n",
              "                                                     [key], {});\n",
              "          if (!dataTable) return;\n",
              "\n",
              "          const docLinkHtml = 'Like what you see? Visit the ' +\n",
              "            '<a target=\"_blank\" href=https://colab.research.google.com/notebooks/data_table.ipynb>data table notebook</a>'\n",
              "            + ' to learn more about interactive tables.';\n",
              "          element.innerHTML = '';\n",
              "          dataTable['output_type'] = 'display_data';\n",
              "          await google.colab.output.renderOutput(dataTable, element);\n",
              "          const docLink = document.createElement('div');\n",
              "          docLink.innerHTML = docLinkHtml;\n",
              "          element.appendChild(docLink);\n",
              "        }\n",
              "      </script>\n",
              "    </div>\n",
              "  </div>\n",
              "  "
            ]
          },
          "metadata": {},
          "execution_count": 24
        }
      ]
    },
    {
      "cell_type": "code",
      "source": [
        "len(new_test_data)"
      ],
      "metadata": {
        "colab": {
          "base_uri": "https://localhost:8080/"
        },
        "id": "5wJBlJoDiBDn",
        "outputId": "925d6a41-3e50-420d-bd17-8609ebc1cc9f"
      },
      "id": "5wJBlJoDiBDn",
      "execution_count": 28,
      "outputs": [
        {
          "output_type": "stream",
          "name": "stderr",
          "text": [
            "/usr/local/lib/python3.9/dist-packages/ipykernel/ipkernel.py:283: DeprecationWarning: `should_run_async` will not call `transform_cell` automatically in the future. Please pass the result to `transformed_cell` argument and any exception that happen during thetransform in `preprocessing_exc_tuple` in IPython 7.17 and above.\n",
            "  and should_run_async(code)\n"
          ]
        },
        {
          "output_type": "execute_result",
          "data": {
            "text/plain": [
              "6513"
            ]
          },
          "metadata": {},
          "execution_count": 28
        }
      ]
    },
    {
      "cell_type": "code",
      "source": [
        "missing"
      ],
      "metadata": {
        "colab": {
          "base_uri": "https://localhost:8080/"
        },
        "id": "x30srye7Zzgt",
        "outputId": "c34a5ce0-ff9b-4cd7-c7fd-53e95a7a60cc"
      },
      "id": "x30srye7Zzgt",
      "execution_count": 29,
      "outputs": [
        {
          "output_type": "stream",
          "name": "stderr",
          "text": [
            "/usr/local/lib/python3.9/dist-packages/ipykernel/ipkernel.py:283: DeprecationWarning: `should_run_async` will not call `transform_cell` automatically in the future. Please pass the result to `transformed_cell` argument and any exception that happen during thetransform in `preprocessing_exc_tuple` in IPython 7.17 and above.\n",
            "  and should_run_async(code)\n"
          ]
        },
        {
          "output_type": "execute_result",
          "data": {
            "text/plain": [
              "['marital_relation_married-af-spouse_other-relative',\n",
              " 'income',\n",
              " 'marital_relation_married-af-spouse_own-child']"
            ]
          },
          "metadata": {},
          "execution_count": 29
        }
      ]
    },
    {
      "cell_type": "code",
      "execution_count": 25,
      "id": "dfbcf883",
      "metadata": {
        "colab": {
          "base_uri": "https://localhost:8080/"
        },
        "id": "dfbcf883",
        "outputId": "6f40e947-39d6-4577-ec35-c18f2141679b"
      },
      "outputs": [
        {
          "output_type": "stream",
          "name": "stderr",
          "text": [
            "/usr/local/lib/python3.9/dist-packages/ipykernel/ipkernel.py:283: DeprecationWarning: `should_run_async` will not call `transform_cell` automatically in the future. Please pass the result to `transformed_cell` argument and any exception that happen during thetransform in `preprocessing_exc_tuple` in IPython 7.17 and above.\n",
            "  and should_run_async(code)\n"
          ]
        }
      ],
      "source": [
        "def getEntropy(counts):\n",
        "    percentages = counts/np.sum(counts)\n",
        "\n",
        "    entr = 0\n",
        "    for per in percentages:\n",
        "        if per == 0:\n",
        "            continue\n",
        "        entr = entr - (per*np.log2(per))\n",
        "    return entr"
      ]
    },
    {
      "cell_type": "code",
      "execution_count": 26,
      "id": "85c3d3f3",
      "metadata": {
        "colab": {
          "base_uri": "https://localhost:8080/"
        },
        "id": "85c3d3f3",
        "outputId": "400ce666-f566-4f42-d900-a143c4150108"
      },
      "outputs": [
        {
          "output_type": "stream",
          "name": "stderr",
          "text": [
            "/usr/local/lib/python3.9/dist-packages/ipykernel/ipkernel.py:283: DeprecationWarning: `should_run_async` will not call `transform_cell` automatically in the future. Please pass the result to `transformed_cell` argument and any exception that happen during thetransform in `preprocessing_exc_tuple` in IPython 7.17 and above.\n",
            "  and should_run_async(code)\n"
          ]
        }
      ],
      "source": [
        "def dataEntropy(data):\n",
        "    \n",
        "    high_income = data[data['income'] == 1].shape[0]\n",
        "    low_income = data[data['income'] == 0].shape[0]\n",
        "    \n",
        "    result = getEntropy([low_income,high_income])\n",
        "    return result"
      ]
    },
    {
      "cell_type": "code",
      "execution_count": 27,
      "id": "f21745a7",
      "metadata": {
        "colab": {
          "base_uri": "https://localhost:8080/"
        },
        "id": "f21745a7",
        "outputId": "ac041afb-a7e8-44f7-9535-756bcc40a1e5"
      },
      "outputs": [
        {
          "output_type": "stream",
          "name": "stderr",
          "text": [
            "/usr/local/lib/python3.9/dist-packages/ipykernel/ipkernel.py:283: DeprecationWarning: `should_run_async` will not call `transform_cell` automatically in the future. Please pass the result to `transformed_cell` argument and any exception that happen during thetransform in `preprocessing_exc_tuple` in IPython 7.17 and above.\n",
            "  and should_run_async(code)\n"
          ]
        }
      ],
      "source": [
        "def dataGivenEntropy(dataX, dataY):\n",
        "    entrX = dataEntropy(dataX)\n",
        "    entrY = dataEntropy(dataY)\n",
        "    nX = dataX.shape[0]\n",
        "    nY = dataY.shape[0]\n",
        "    n = nX + nY\n",
        "    result = nX/n * entrX + nY/n * entrY\n",
        "    return result"
      ]
    },
    {
      "cell_type": "code",
      "execution_count": 28,
      "id": "0c7f873f",
      "metadata": {
        "colab": {
          "base_uri": "https://localhost:8080/"
        },
        "id": "0c7f873f",
        "outputId": "3abff78a-4100-49e1-e18a-44a3cd59f693"
      },
      "outputs": [
        {
          "output_type": "stream",
          "name": "stderr",
          "text": [
            "/usr/local/lib/python3.9/dist-packages/ipykernel/ipkernel.py:283: DeprecationWarning: `should_run_async` will not call `transform_cell` automatically in the future. Please pass the result to `transformed_cell` argument and any exception that happen during thetransform in `preprocessing_exc_tuple` in IPython 7.17 and above.\n",
            "  and should_run_async(code)\n"
          ]
        }
      ],
      "source": [
        "def infoGain(data, dataX, dataY):\n",
        "    result = dataEntropy(data) - dataGivenEntropy(dataX, dataY)\n",
        "    return result"
      ]
    },
    {
      "cell_type": "code",
      "execution_count": 29,
      "id": "a61aa787",
      "metadata": {
        "colab": {
          "base_uri": "https://localhost:8080/"
        },
        "id": "a61aa787",
        "outputId": "831a6c29-4988-4f14-8a2b-c869989d535a"
      },
      "outputs": [
        {
          "output_type": "stream",
          "name": "stderr",
          "text": [
            "/usr/local/lib/python3.9/dist-packages/ipykernel/ipkernel.py:283: DeprecationWarning: `should_run_async` will not call `transform_cell` automatically in the future. Please pass the result to `transformed_cell` argument and any exception that happen during thetransform in `preprocessing_exc_tuple` in IPython 7.17 and above.\n",
            "  and should_run_async(code)\n"
          ]
        }
      ],
      "source": [
        "def getGini(counts):\n",
        "    percentages = counts/np.sum(counts)\n",
        "    gini = 1-np.sum(percentages**2)\n",
        "    return gini"
      ]
    },
    {
      "cell_type": "code",
      "source": [
        "len(new_train_data[\"age_scaled\"].unique())"
      ],
      "metadata": {
        "colab": {
          "base_uri": "https://localhost:8080/"
        },
        "id": "p4wmrYjIuWhH",
        "outputId": "042d4363-1e65-474b-ea23-87a1bafeea2a"
      },
      "id": "p4wmrYjIuWhH",
      "execution_count": 30,
      "outputs": [
        {
          "output_type": "stream",
          "name": "stderr",
          "text": [
            "/usr/local/lib/python3.9/dist-packages/ipykernel/ipkernel.py:283: DeprecationWarning: `should_run_async` will not call `transform_cell` automatically in the future. Please pass the result to `transformed_cell` argument and any exception that happen during thetransform in `preprocessing_exc_tuple` in IPython 7.17 and above.\n",
            "  and should_run_async(code)\n"
          ]
        },
        {
          "output_type": "execute_result",
          "data": {
            "text/plain": [
              "72"
            ]
          },
          "metadata": {},
          "execution_count": 30
        }
      ]
    },
    {
      "cell_type": "code",
      "execution_count": 31,
      "id": "f934cf0a",
      "metadata": {
        "colab": {
          "base_uri": "https://localhost:8080/"
        },
        "id": "f934cf0a",
        "outputId": "b47b32b6-7690-438c-a815-e45ca89616c6"
      },
      "outputs": [
        {
          "output_type": "stream",
          "name": "stderr",
          "text": [
            "/usr/local/lib/python3.9/dist-packages/ipykernel/ipkernel.py:283: DeprecationWarning: `should_run_async` will not call `transform_cell` automatically in the future. Please pass the result to `transformed_cell` argument and any exception that happen during thetransform in `preprocessing_exc_tuple` in IPython 7.17 and above.\n",
            "  and should_run_async(code)\n"
          ]
        }
      ],
      "source": [
        "def findBestSplit(data, label):\n",
        "    minEntropy = 1\n",
        "    colSelected = str()\n",
        "    thresh_value = 0\n",
        "    dataX_found,dataY_found = None, None\n",
        "    for col in list(data.columns):\n",
        "      if col != label:\n",
        "        # make the split \n",
        "\n",
        "        if len(data[col].unique()) > 2:\n",
        "          max = data[col].max()\n",
        "          threshold = np.linspace(0,max,30)[1:-1]\n",
        "          infoGainList = []\n",
        "\n",
        "          # for 28 different thresholds, calculate the info-gain\n",
        "          for i in range(len(threshold)):\n",
        "            dataX = data[data[col] > threshold[i]]\n",
        "            dataY = data[data[col] <= threshold[i]]\n",
        "            infoGainList.append(infoGain(data, dataX, dataY))\n",
        "\n",
        "          # get the max info-gain\n",
        "          idx = np.argmax(infoGainList)\n",
        "          dataX = data[data[col] > threshold[idx]]\n",
        "          dataY = data[data[col] <= threshold[idx]]\n",
        "          thresh = threshold[idx]\n",
        "\n",
        "        else:\n",
        "          thresh = 0.5\n",
        "          dataX = data[data[col] > thresh]\n",
        "          dataY = data[data[col] <= thresh]\n",
        "            \n",
        "          \n",
        "        entr = dataGivenEntropy(dataX, dataY)\n",
        "        \n",
        "        \n",
        "        if entr < minEntropy:\n",
        "            minEntropy = entr\n",
        "            colSelected = col\n",
        "            dataX_found = dataX\n",
        "            dataY_found = dataY\n",
        "            thresh_value = thresh\n",
        "        \n",
        "\n",
        "    return colSelected, minEntropy, dataX_found, dataY_found, thresh_value"
      ]
    },
    {
      "cell_type": "code",
      "source": [
        "cols = []"
      ],
      "metadata": {
        "id": "K_xL5l0Zun-b",
        "outputId": "26923b1a-ef64-418e-e168-63c75d044495",
        "colab": {
          "base_uri": "https://localhost:8080/"
        }
      },
      "id": "K_xL5l0Zun-b",
      "execution_count": 32,
      "outputs": [
        {
          "output_type": "stream",
          "name": "stderr",
          "text": [
            "/usr/local/lib/python3.9/dist-packages/ipykernel/ipkernel.py:283: DeprecationWarning: `should_run_async` will not call `transform_cell` automatically in the future. Please pass the result to `transformed_cell` argument and any exception that happen during thetransform in `preprocessing_exc_tuple` in IPython 7.17 and above.\n",
            "  and should_run_async(code)\n"
          ]
        }
      ]
    },
    {
      "cell_type": "code",
      "source": [
        "findBestSplit(new_train_data, 'income')[0]"
      ],
      "metadata": {
        "id": "Qb-kXjEzurx0",
        "outputId": "f3830ba1-09fd-4d63-fac5-22941bd8f0d8",
        "colab": {
          "base_uri": "https://localhost:8080/",
          "height": 91
        }
      },
      "id": "Qb-kXjEzurx0",
      "execution_count": 33,
      "outputs": [
        {
          "output_type": "stream",
          "name": "stderr",
          "text": [
            "/usr/local/lib/python3.9/dist-packages/ipykernel/ipkernel.py:283: DeprecationWarning: `should_run_async` will not call `transform_cell` automatically in the future. Please pass the result to `transformed_cell` argument and any exception that happen during thetransform in `preprocessing_exc_tuple` in IPython 7.17 and above.\n",
            "  and should_run_async(code)\n"
          ]
        },
        {
          "output_type": "execute_result",
          "data": {
            "text/plain": [
              "'marital_relation_married-civ-spouse_husband'"
            ],
            "application/vnd.google.colaboratory.intrinsic+json": {
              "type": "string"
            }
          },
          "metadata": {},
          "execution_count": 33
        }
      ]
    },
    {
      "cell_type": "code",
      "source": [
        "cols.append(findBestSplit(new_train_data, 'income')[0])\n",
        "cols.append(\"income\")"
      ],
      "metadata": {
        "id": "AJi1GljuuvVf",
        "outputId": "9feda9d1-d15a-4a7c-ef4c-fc9f9c5a31c6",
        "colab": {
          "base_uri": "https://localhost:8080/"
        }
      },
      "id": "AJi1GljuuvVf",
      "execution_count": 34,
      "outputs": [
        {
          "output_type": "stream",
          "name": "stderr",
          "text": [
            "/usr/local/lib/python3.9/dist-packages/ipykernel/ipkernel.py:283: DeprecationWarning: `should_run_async` will not call `transform_cell` automatically in the future. Please pass the result to `transformed_cell` argument and any exception that happen during thetransform in `preprocessing_exc_tuple` in IPython 7.17 and above.\n",
            "  and should_run_async(code)\n"
          ]
        }
      ]
    },
    {
      "cell_type": "code",
      "source": [
        "cols"
      ],
      "metadata": {
        "id": "ohuHzhBhu1JN",
        "outputId": "95323de3-de13-4f6a-ccb0-c9d6b98a1e31",
        "colab": {
          "base_uri": "https://localhost:8080/"
        }
      },
      "id": "ohuHzhBhu1JN",
      "execution_count": 35,
      "outputs": [
        {
          "output_type": "stream",
          "name": "stderr",
          "text": [
            "/usr/local/lib/python3.9/dist-packages/ipykernel/ipkernel.py:283: DeprecationWarning: `should_run_async` will not call `transform_cell` automatically in the future. Please pass the result to `transformed_cell` argument and any exception that happen during thetransform in `preprocessing_exc_tuple` in IPython 7.17 and above.\n",
            "  and should_run_async(code)\n"
          ]
        },
        {
          "output_type": "execute_result",
          "data": {
            "text/plain": [
              "['marital_relation_married-civ-spouse_husband', 'income']"
            ]
          },
          "metadata": {},
          "execution_count": 35
        }
      ]
    },
    {
      "cell_type": "code",
      "source": [
        "len(findBestSplit(new_train_data, 'income')[2][cols]['marital_relation_married-civ-spouse_husband'].unique())"
      ],
      "metadata": {
        "colab": {
          "base_uri": "https://localhost:8080/"
        },
        "id": "TwZek7f4wWrz",
        "outputId": "ca81458f-2096-4782-8a17-c2e970adfe15"
      },
      "id": "TwZek7f4wWrz",
      "execution_count": 36,
      "outputs": [
        {
          "output_type": "stream",
          "name": "stderr",
          "text": [
            "/usr/local/lib/python3.9/dist-packages/ipykernel/ipkernel.py:283: DeprecationWarning: `should_run_async` will not call `transform_cell` automatically in the future. Please pass the result to `transformed_cell` argument and any exception that happen during thetransform in `preprocessing_exc_tuple` in IPython 7.17 and above.\n",
            "  and should_run_async(code)\n"
          ]
        },
        {
          "output_type": "execute_result",
          "data": {
            "text/plain": [
              "1"
            ]
          },
          "metadata": {},
          "execution_count": 36
        }
      ]
    },
    {
      "cell_type": "code",
      "source": [],
      "metadata": {
        "id": "7YB5KPUv0q3S"
      },
      "id": "7YB5KPUv0q3S",
      "execution_count": null,
      "outputs": []
    },
    {
      "cell_type": "code",
      "source": [
        "class Branch:\n",
        "    no=0\n",
        "    depth=1\n",
        "    column=''\n",
        "    entropy=0\n",
        "    value = []\n",
        "    samples = 0\n",
        "    gini = 0\n",
        "    thresh = 0\n",
        "    branch_positive=None\n",
        "    branch_negative=None\n",
        "    positive=0\n",
        "    negative=0\n",
        "    num_cols = 0\n",
        "    col_names = []"
      ],
      "metadata": {
        "id": "WumiEnXN2W_0"
      },
      "id": "WumiEnXN2W_0",
      "execution_count": 102,
      "outputs": []
    },
    {
      "cell_type": "code",
      "source": [
        "number = 0 \n",
        "def decisionTreeInner(data, label, depth, max_depth, max_features, min_samples_split, min_samples_leaf):\n",
        "    global number\n",
        "    branch = Branch()\n",
        "    branch.no = number\n",
        "    number += 1\n",
        "    branch.depth = depth\n",
        "    branch.num_depth = 1\n",
        "    \n",
        "    branch.samples = data.shape[0]\n",
        "    positive = data[data[label]==1].shape[0]\n",
        "    negative = data[data[label]==0].shape[0]\n",
        "    \n",
        "    branch.value= [negative, positive]\n",
        "    branch.entropy = getEntropy(branch.value)\n",
        "    branch.gini = getGini(branch.value)\n",
        "    \n",
        "    bestSplit = findBestSplit(data, label)\n",
        "    \n",
        "    branch.column = bestSplit[0]\n",
        "    branch.col_names.append(branch.column)\n",
        "    cols = list(set(branch.col_names))\n",
        "    branch.num_cols = len(cols)\n",
        "    \n",
        "    newEntropy = bestSplit[1]\n",
        "    dataNegative = bestSplit[2]\n",
        "    dataPositive = bestSplit[3]\n",
        "    branch.thresh = bestSplit[4]\n",
        "\n",
        "    unbalanced_0 = branch.value[0]/(branch.value[0] + branch.value[1]) \n",
        "    unbalanced_1 = branch.value[1]/(branch.value[0] + branch.value[1])\n",
        "    \n",
        "    if len(cols) < max_features:\n",
        "        if depth == max_depth or branch.column == \"\" or branch.samples <= min_samples_split or (len(dataNegative) <= min_samples_leaf and len(dataPositive) <= min_samples_leaf) or (unbalanced_0 > 0.95 and branch.samples <= 1000) or (unbalanced_1 > 0.95 and branch.samples <= 1000):\n",
        "          \n",
        "            branch.positive = number\n",
        "            number +=1\n",
        "            branch.negative = number\n",
        "            number +=1   \n",
        "            branch.column = \"\"\n",
        "    \n",
        "            return branch\n",
        "        \n",
        "        # next step\n",
        "        else:\n",
        "            \n",
        "            #dataNegative = bestSplit[2]\n",
        "            branch.branch_negative = decisionTreeInner(dataNegative, label, depth+1, max_depth=max_depth, max_features = max_features, min_samples_split = min_samples_split, min_samples_leaf = min_samples_leaf)\n",
        "            \n",
        "            #dataPositive = bestSplit[3]\n",
        "            branch.branch_positive = decisionTreeInner(dataPositive, label, depth+1, max_depth=max_depth, max_features = max_features, min_samples_split = min_samples_split, min_samples_leaf = min_samples_leaf)\n",
        "\n",
        "            return branch\n",
        "    else:\n",
        "        \n",
        "        if depth == max_depth or branch.column == \"\" or branch.samples <= min_samples_split or (len(dataNegative) <= min_samples_leaf and len(dataPositive) <= min_samples_leaf) or (unbalanced_0 > 0.95 and branch.samples <= 1000) or (unbalanced_1 > 0.95 and branch.samples <= 1000):\n",
        "            \n",
        "            branch.positive = number\n",
        "            number +=1\n",
        "            branch.negative = number\n",
        "            number +=1   \n",
        "            branch.column = \"\"\n",
        "            \n",
        "            return branch\n",
        "        \n",
        "        else:\n",
        "            if \"\" in cols:\n",
        "              cols.remove(\"\")\n",
        "            cols.append(\"income\")\n",
        "            \n",
        "            #dataNegative = bestSplit[2]\n",
        "            dataNegative = dataNegative[cols]\n",
        "            \n",
        "            branch.branch_negative = decisionTreeInner(dataNegative, label, depth+1, max_depth=max_depth, max_features = max_features, min_samples_split = min_samples_split, min_samples_leaf = min_samples_leaf)\n",
        "            \n",
        "            #dataPositive = bestSplit[3]\n",
        "            dataPositive= dataPositive[cols]\n",
        "            \n",
        "            branch.branch_positive = decisionTreeInner(dataPositive, label, depth+1, max_depth=max_depth, max_features = max_features, min_samples_split = min_samples_split, min_samples_leaf = min_samples_leaf)\n",
        "            cols.remove(\"income\")\n",
        "            return branch\n"
      ],
      "metadata": {
        "id": "5j6b41QHmuEe"
      },
      "id": "5j6b41QHmuEe",
      "execution_count": 92,
      "outputs": []
    },
    {
      "cell_type": "code",
      "source": [
        "def decision_tree(data, label, max_depth, max_features, min_samples_split, min_samples_leaf):\n",
        "    number = 0\n",
        "    entropy = dataEntropy(data)\n",
        "    columns = []\n",
        "    tree = decisionTreeInner(data, label, 0, max_depth = max_depth, max_features = max_features, min_samples_split = min_samples_split, min_samples_leaf = min_samples_leaf)\n",
        "    return tree"
      ],
      "metadata": {
        "id": "2vPkdPlymzOv"
      },
      "id": "2vPkdPlymzOv",
      "execution_count": 93,
      "outputs": []
    },
    {
      "cell_type": "code",
      "execution_count": 94,
      "id": "b12aed2e",
      "metadata": {
        "colab": {
          "base_uri": "https://localhost:8080/"
        },
        "id": "b12aed2e",
        "outputId": "52918216-40e0-4c53-ea3a-f7046f46a153"
      },
      "outputs": [
        {
          "output_type": "stream",
          "name": "stdout",
          "text": [
            "21.52 seconds\n"
          ]
        }
      ],
      "source": [
        "import warnings\n",
        "warnings.filterwarnings('ignore')\n",
        "import time\n",
        "start=time.time()\n",
        "my_dt = decision_tree(new_train_data, 'income', max_depth=5, max_features = 10, min_samples_split = 400, min_samples_leaf = 250)\n",
        "print(round(time.time()-start, 2), 'seconds')"
      ]
    },
    {
      "cell_type": "code",
      "source": [
        "my_dt.samples"
      ],
      "metadata": {
        "id": "6oUM7JOVtq22",
        "outputId": "d63230a2-b804-4d7a-ef66-5938a77560a6",
        "colab": {
          "base_uri": "https://localhost:8080/"
        }
      },
      "id": "6oUM7JOVtq22",
      "execution_count": 95,
      "outputs": [
        {
          "output_type": "execute_result",
          "data": {
            "text/plain": [
              "26035"
            ]
          },
          "metadata": {},
          "execution_count": 95
        }
      ]
    },
    {
      "cell_type": "code",
      "source": [
        "my_dt"
      ],
      "metadata": {
        "colab": {
          "base_uri": "https://localhost:8080/"
        },
        "id": "uR8wNth55-9y",
        "outputId": "32d13e2d-1d26-4de2-cef7-45db7d9072b7"
      },
      "id": "uR8wNth55-9y",
      "execution_count": 96,
      "outputs": [
        {
          "output_type": "execute_result",
          "data": {
            "text/plain": [
              "<__main__.Branch at 0x7fb1af7541f0>"
            ]
          },
          "metadata": {},
          "execution_count": 96
        }
      ]
    },
    {
      "cell_type": "code",
      "source": [
        "def get_dot_data_innner(branch:Branch, classes, dot_data):\n",
        "    if branch.value[0]<branch.value[1]:\n",
        "        the_class=classes[0]\n",
        "    else:\n",
        "        the_class=classes[1]\n",
        "    if branch.branch_positive:\n",
        "        dot_data=dot_data+'{} [label=<{} le {:.2f}<br/>entropy = {:.3f}<br/>samples = {}<br/>value = {}<br/>class = {}> , fillcolor=\"#FFFFFFFF\"] ;\\r\\n'.format(\n",
        "            branch.no, branch.column, branch.thresh, branch.entropy, branch.samples, branch.value, the_class)\n",
        "    else:\n",
        "        dot_data=dot_data+'{} [label=<entropy = {:.3f}<br/>samples = {}<br/>value = {}<br/>class = {}> , fillcolor=\"#FFFFFFFF\"] ;\\r\\n'.format(\n",
        "            branch.no, branch.entropy, branch.samples, branch.value, the_class)\n",
        "    if branch.branch_negative:\n",
        "        dot_data=dot_data+'{} -> {} [labeldistance=2.5, labelangle=45, headlabel=\"no\"]; \\r\\n'.format(branch.no, branch.branch_negative.no)\n",
        "        dot_data=get_dot_data_innner(branch.branch_negative, classes, dot_data)\n",
        "        \n",
        "    if branch.branch_positive:\n",
        "        dot_data=dot_data+'{} -> {} [labeldistance=1.5, labelangle=45, headlabel=\"yes\"]; \\r\\n'.format(branch.no, branch.branch_positive.no)\n",
        "        dot_data=get_dot_data_innner(branch.branch_positive, classes, dot_data)\n",
        "  \n",
        "\n",
        "    return dot_data\n",
        "    \n",
        "def get_dot_data(branch:Branch, classes=['above 50K','below 50K']):\n",
        "    dot_data=\"\"\"\n",
        "digraph Tree {\n",
        "node [shape=box, style=\"filled, rounded\", color=\"black\", fontname=helvetica] ;\n",
        "edge [fontname=helvetica] ;\n",
        "\"\"\"\n",
        "    dot_data=get_dot_data_innner(branch, classes,  dot_data)\n",
        "    dot_data=dot_data+'\\r\\n}'\n",
        "    return dot_data"
      ],
      "metadata": {
        "id": "Onl3CtSIMuR8"
      },
      "id": "Onl3CtSIMuR8",
      "execution_count": 97,
      "outputs": []
    },
    {
      "cell_type": "code",
      "source": [
        "dot_data=get_dot_data(my_dt)"
      ],
      "metadata": {
        "id": "c83SbYS7MuUk"
      },
      "id": "c83SbYS7MuUk",
      "execution_count": 103,
      "outputs": []
    },
    {
      "cell_type": "code",
      "source": [
        "import graphviz "
      ],
      "metadata": {
        "id": "Cw8sFkDRM47d"
      },
      "id": "Cw8sFkDRM47d",
      "execution_count": 104,
      "outputs": []
    },
    {
      "cell_type": "code",
      "source": [
        "graph = graphviz.Source(dot_data) \n",
        "#graph.render('./data/my_dt', format='png')\n"
      ],
      "metadata": {
        "id": "nnUWFY7XM5ji"
      },
      "id": "nnUWFY7XM5ji",
      "execution_count": 105,
      "outputs": []
    },
    {
      "cell_type": "code",
      "source": [
        "graph"
      ],
      "metadata": {
        "colab": {
          "base_uri": "https://localhost:8080/",
          "height": 936
        },
        "id": "IFnq8hCqNvW8",
        "outputId": "85e74ae3-f408-4979-aa95-b74ff4ec38a1"
      },
      "id": "IFnq8hCqNvW8",
      "execution_count": 106,
      "outputs": [
        {
          "output_type": "execute_result",
          "data": {
            "image/svg+xml": "<?xml version=\"1.0\" encoding=\"UTF-8\" standalone=\"no\"?>\n<!DOCTYPE svg PUBLIC \"-//W3C//DTD SVG 1.1//EN\"\n \"http://www.w3.org/Graphics/SVG/1.1/DTD/svg11.dtd\">\n<!-- Generated by graphviz version 2.43.0 (0)\n -->\n<!-- Title: Tree Pages: 1 -->\n<svg width=\"1803pt\" height=\"671pt\"\n viewBox=\"0.00 0.00 1803.00 671.00\" xmlns=\"http://www.w3.org/2000/svg\" xmlns:xlink=\"http://www.w3.org/1999/xlink\">\n<g id=\"graph0\" class=\"graph\" transform=\"scale(1 1) rotate(0) translate(4 667)\">\n<title>Tree</title>\n<polygon fill=\"white\" stroke=\"transparent\" points=\"-4,4 -4,-667 1799,-667 1799,4 -4,4\"/>\n<!-- 0 -->\n<g id=\"node1\" class=\"node\">\n<title>0</title>\n<path fill=\"#ffffff\" stroke=\"black\" d=\"M749,-663C749,-663 437,-663 437,-663 431,-663 425,-657 425,-651 425,-651 425,-592 425,-592 425,-586 431,-580 437,-580 437,-580 749,-580 749,-580 755,-580 761,-586 761,-592 761,-592 761,-651 761,-651 761,-657 755,-663 749,-663\"/>\n<text text-anchor=\"start\" x=\"433\" y=\"-647.8\" font-family=\"Helvetica,sans-Serif\" font-size=\"14.00\">marital_relation_married&#45;civ&#45;spouse_husband le 0.50</text>\n<text text-anchor=\"start\" x=\"545.5\" y=\"-632.8\" font-family=\"Helvetica,sans-Serif\" font-size=\"14.00\">entropy = 0.797</text>\n<text text-anchor=\"start\" x=\"540.5\" y=\"-617.8\" font-family=\"Helvetica,sans-Serif\" font-size=\"14.00\">samples = 26035</text>\n<text text-anchor=\"start\" x=\"527.5\" y=\"-602.8\" font-family=\"Helvetica,sans-Serif\" font-size=\"14.00\">value = [19762, 6273]</text>\n<text text-anchor=\"start\" x=\"538\" y=\"-587.8\" font-family=\"Helvetica,sans-Serif\" font-size=\"14.00\">class = below 50K</text>\n</g>\n<!-- 1 -->\n<g id=\"node2\" class=\"node\">\n<title>1</title>\n<path fill=\"#ffffff\" stroke=\"black\" d=\"M567.5,-544C567.5,-544 432.5,-544 432.5,-544 426.5,-544 420.5,-538 420.5,-532 420.5,-532 420.5,-473 420.5,-473 420.5,-467 426.5,-461 432.5,-461 432.5,-461 567.5,-461 567.5,-461 573.5,-461 579.5,-467 579.5,-473 579.5,-473 579.5,-532 579.5,-532 579.5,-538 573.5,-544 567.5,-544\"/>\n<text text-anchor=\"start\" x=\"428.5\" y=\"-528.8\" font-family=\"Helvetica,sans-Serif\" font-size=\"14.00\">education_new le 11.38</text>\n<text text-anchor=\"start\" x=\"452.5\" y=\"-513.8\" font-family=\"Helvetica,sans-Serif\" font-size=\"14.00\">entropy = 0.991</text>\n<text text-anchor=\"start\" x=\"447.5\" y=\"-498.8\" font-family=\"Helvetica,sans-Serif\" font-size=\"14.00\">samples = 10640</text>\n<text text-anchor=\"start\" x=\"438\" y=\"-483.8\" font-family=\"Helvetica,sans-Serif\" font-size=\"14.00\">value = [5902, 4738]</text>\n<text text-anchor=\"start\" x=\"445\" y=\"-468.8\" font-family=\"Helvetica,sans-Serif\" font-size=\"14.00\">class = below 50K</text>\n</g>\n<!-- 0&#45;&gt;1 -->\n<g id=\"edge1\" class=\"edge\">\n<title>0&#45;&gt;1</title>\n<path fill=\"none\" stroke=\"black\" d=\"M560.73,-579.91C553.59,-570.92 545.96,-561.32 538.59,-552.05\"/>\n<polygon fill=\"black\" stroke=\"black\" points=\"541.17,-549.67 532.21,-544.02 535.69,-554.03 541.17,-549.67\"/>\n<text text-anchor=\"middle\" x=\"529.37\" y=\"-565.16\" font-family=\"Helvetica,sans-Serif\" font-size=\"14.00\">no</text>\n</g>\n<!-- 36 -->\n<g id=\"node19\" class=\"node\">\n<title>36</title>\n<path fill=\"#ffffff\" stroke=\"black\" d=\"M869.5,-544C869.5,-544 714.5,-544 714.5,-544 708.5,-544 702.5,-538 702.5,-532 702.5,-532 702.5,-473 702.5,-473 702.5,-467 708.5,-461 714.5,-461 714.5,-461 869.5,-461 869.5,-461 875.5,-461 881.5,-467 881.5,-473 881.5,-473 881.5,-532 881.5,-532 881.5,-538 875.5,-544 869.5,-544\"/>\n<text text-anchor=\"start\" x=\"710.5\" y=\"-528.8\" font-family=\"Helvetica,sans-Serif\" font-size=\"14.00\">capital_gain_scaled le 0.07</text>\n<text text-anchor=\"start\" x=\"744.5\" y=\"-513.8\" font-family=\"Helvetica,sans-Serif\" font-size=\"14.00\">entropy = 0.468</text>\n<text text-anchor=\"start\" x=\"739.5\" y=\"-498.8\" font-family=\"Helvetica,sans-Serif\" font-size=\"14.00\">samples = 15395</text>\n<text text-anchor=\"start\" x=\"726.5\" y=\"-483.8\" font-family=\"Helvetica,sans-Serif\" font-size=\"14.00\">value = [13860, 1535]</text>\n<text text-anchor=\"start\" x=\"737\" y=\"-468.8\" font-family=\"Helvetica,sans-Serif\" font-size=\"14.00\">class = below 50K</text>\n</g>\n<!-- 0&#45;&gt;36 -->\n<g id=\"edge18\" class=\"edge\">\n<title>0&#45;&gt;36</title>\n<path fill=\"none\" stroke=\"black\" d=\"M662.04,-579.91C678.87,-570.02 696.98,-559.37 714.18,-549.25\"/>\n<polygon fill=\"black\" stroke=\"black\" points=\"716.23,-552.11 723.08,-544.02 712.69,-546.07 716.23,-552.11\"/>\n<text text-anchor=\"middle\" x=\"708.56\" y=\"-536.55\" font-family=\"Helvetica,sans-Serif\" font-size=\"14.00\">yes</text>\n</g>\n<!-- 2 -->\n<g id=\"node3\" class=\"node\">\n<title>2</title>\n<path fill=\"#ffffff\" stroke=\"black\" d=\"M327.5,-425C327.5,-425 172.5,-425 172.5,-425 166.5,-425 160.5,-419 160.5,-413 160.5,-413 160.5,-354 160.5,-354 160.5,-348 166.5,-342 172.5,-342 172.5,-342 327.5,-342 327.5,-342 333.5,-342 339.5,-348 339.5,-354 339.5,-354 339.5,-413 339.5,-413 339.5,-419 333.5,-425 327.5,-425\"/>\n<text text-anchor=\"start\" x=\"168.5\" y=\"-409.8\" font-family=\"Helvetica,sans-Serif\" font-size=\"14.00\">capital_gain_scaled le 0.07</text>\n<text text-anchor=\"start\" x=\"202.5\" y=\"-394.8\" font-family=\"Helvetica,sans-Serif\" font-size=\"14.00\">entropy = 0.853</text>\n<text text-anchor=\"start\" x=\"201.5\" y=\"-379.8\" font-family=\"Helvetica,sans-Serif\" font-size=\"14.00\">samples = 3153</text>\n<text text-anchor=\"start\" x=\"192\" y=\"-364.8\" font-family=\"Helvetica,sans-Serif\" font-size=\"14.00\">value = [877, 2276]</text>\n<text text-anchor=\"start\" x=\"194\" y=\"-349.8\" font-family=\"Helvetica,sans-Serif\" font-size=\"14.00\">class = above 50K</text>\n</g>\n<!-- 1&#45;&gt;2 -->\n<g id=\"edge2\" class=\"edge\">\n<title>1&#45;&gt;2</title>\n<path fill=\"none\" stroke=\"black\" d=\"M420.21,-464.16C396.64,-453.13 370.6,-440.94 346.11,-429.48\"/>\n<polygon fill=\"black\" stroke=\"black\" points=\"347.36,-426.2 336.82,-425.13 344.39,-432.54 347.36,-426.2\"/>\n<text text-anchor=\"middle\" x=\"345.33\" y=\"-444.93\" font-family=\"Helvetica,sans-Serif\" font-size=\"14.00\">no</text>\n</g>\n<!-- 17 -->\n<g id=\"node10\" class=\"node\">\n<title>17</title>\n<path fill=\"#ffffff\" stroke=\"black\" d=\"M577.5,-425C577.5,-425 422.5,-425 422.5,-425 416.5,-425 410.5,-419 410.5,-413 410.5,-413 410.5,-354 410.5,-354 410.5,-348 416.5,-342 422.5,-342 422.5,-342 577.5,-342 577.5,-342 583.5,-342 589.5,-348 589.5,-354 589.5,-354 589.5,-413 589.5,-413 589.5,-419 583.5,-425 577.5,-425\"/>\n<text text-anchor=\"start\" x=\"418.5\" y=\"-409.8\" font-family=\"Helvetica,sans-Serif\" font-size=\"14.00\">capital_gain_scaled le 0.07</text>\n<text text-anchor=\"start\" x=\"452.5\" y=\"-394.8\" font-family=\"Helvetica,sans-Serif\" font-size=\"14.00\">entropy = 0.914</text>\n<text text-anchor=\"start\" x=\"451.5\" y=\"-379.8\" font-family=\"Helvetica,sans-Serif\" font-size=\"14.00\">samples = 7487</text>\n<text text-anchor=\"start\" x=\"438\" y=\"-364.8\" font-family=\"Helvetica,sans-Serif\" font-size=\"14.00\">value = [5025, 2462]</text>\n<text text-anchor=\"start\" x=\"445\" y=\"-349.8\" font-family=\"Helvetica,sans-Serif\" font-size=\"14.00\">class = below 50K</text>\n</g>\n<!-- 1&#45;&gt;17 -->\n<g id=\"edge9\" class=\"edge\">\n<title>1&#45;&gt;17</title>\n<path fill=\"none\" stroke=\"black\" d=\"M500,-460.91C500,-452.65 500,-443.86 500,-435.3\"/>\n<polygon fill=\"black\" stroke=\"black\" points=\"503.5,-435.02 500,-425.02 496.5,-435.02 503.5,-435.02\"/>\n<text text-anchor=\"middle\" x=\"489.39\" y=\"-431.93\" font-family=\"Helvetica,sans-Serif\" font-size=\"14.00\">yes</text>\n</g>\n<!-- 3 -->\n<g id=\"node4\" class=\"node\">\n<title>3</title>\n<path fill=\"#ffffff\" stroke=\"black\" d=\"M131,-298.5C131,-298.5 27,-298.5 27,-298.5 21,-298.5 15,-292.5 15,-286.5 15,-286.5 15,-242.5 15,-242.5 15,-236.5 21,-230.5 27,-230.5 27,-230.5 131,-230.5 131,-230.5 137,-230.5 143,-236.5 143,-242.5 143,-242.5 143,-286.5 143,-286.5 143,-292.5 137,-298.5 131,-298.5\"/>\n<text text-anchor=\"start\" x=\"31.5\" y=\"-283.3\" font-family=\"Helvetica,sans-Serif\" font-size=\"14.00\">entropy = 0.039</text>\n<text text-anchor=\"start\" x=\"34\" y=\"-268.3\" font-family=\"Helvetica,sans-Serif\" font-size=\"14.00\">samples = 474</text>\n<text text-anchor=\"start\" x=\"32\" y=\"-253.3\" font-family=\"Helvetica,sans-Serif\" font-size=\"14.00\">value = [2, 472]</text>\n<text text-anchor=\"start\" x=\"23\" y=\"-238.3\" font-family=\"Helvetica,sans-Serif\" font-size=\"14.00\">class = above 50K</text>\n</g>\n<!-- 2&#45;&gt;3 -->\n<g id=\"edge3\" class=\"edge\">\n<title>2&#45;&gt;3</title>\n<path fill=\"none\" stroke=\"black\" d=\"M190.67,-341.91C172.93,-329.77 153.53,-316.49 135.95,-304.46\"/>\n<polygon fill=\"black\" stroke=\"black\" points=\"137.7,-301.43 127.47,-298.67 133.75,-307.2 137.7,-301.43\"/>\n<text text-anchor=\"middle\" x=\"132.08\" y=\"-319.54\" font-family=\"Helvetica,sans-Serif\" font-size=\"14.00\">no</text>\n</g>\n<!-- 6 -->\n<g id=\"node5\" class=\"node\">\n<title>6</title>\n<path fill=\"#ffffff\" stroke=\"black\" d=\"M327,-306C327,-306 173,-306 173,-306 167,-306 161,-300 161,-294 161,-294 161,-235 161,-235 161,-229 167,-223 173,-223 173,-223 327,-223 327,-223 333,-223 339,-229 339,-235 339,-235 339,-294 339,-294 339,-300 333,-306 327,-306\"/>\n<text text-anchor=\"start\" x=\"169\" y=\"-290.8\" font-family=\"Helvetica,sans-Serif\" font-size=\"14.00\">capital_loss_scaled le 0.40</text>\n<text text-anchor=\"start\" x=\"202.5\" y=\"-275.8\" font-family=\"Helvetica,sans-Serif\" font-size=\"14.00\">entropy = 0.911</text>\n<text text-anchor=\"start\" x=\"201.5\" y=\"-260.8\" font-family=\"Helvetica,sans-Serif\" font-size=\"14.00\">samples = 2679</text>\n<text text-anchor=\"start\" x=\"192\" y=\"-245.8\" font-family=\"Helvetica,sans-Serif\" font-size=\"14.00\">value = [875, 1804]</text>\n<text text-anchor=\"start\" x=\"194\" y=\"-230.8\" font-family=\"Helvetica,sans-Serif\" font-size=\"14.00\">class = above 50K</text>\n</g>\n<!-- 2&#45;&gt;6 -->\n<g id=\"edge4\" class=\"edge\">\n<title>2&#45;&gt;6</title>\n<path fill=\"none\" stroke=\"black\" d=\"M250,-341.91C250,-333.65 250,-324.86 250,-316.3\"/>\n<polygon fill=\"black\" stroke=\"black\" points=\"253.5,-316.02 250,-306.02 246.5,-316.02 253.5,-316.02\"/>\n<text text-anchor=\"middle\" x=\"239.39\" y=\"-312.93\" font-family=\"Helvetica,sans-Serif\" font-size=\"14.00\">yes</text>\n</g>\n<!-- 7 -->\n<g id=\"node6\" class=\"node\">\n<title>7</title>\n<path fill=\"#ffffff\" stroke=\"black\" d=\"M116,-179.5C116,-179.5 12,-179.5 12,-179.5 6,-179.5 0,-173.5 0,-167.5 0,-167.5 0,-123.5 0,-123.5 0,-117.5 6,-111.5 12,-111.5 12,-111.5 116,-111.5 116,-111.5 122,-111.5 128,-117.5 128,-123.5 128,-123.5 128,-167.5 128,-167.5 128,-173.5 122,-179.5 116,-179.5\"/>\n<text text-anchor=\"start\" x=\"16.5\" y=\"-164.3\" font-family=\"Helvetica,sans-Serif\" font-size=\"14.00\">entropy = 0.184</text>\n<text text-anchor=\"start\" x=\"19\" y=\"-149.3\" font-family=\"Helvetica,sans-Serif\" font-size=\"14.00\">samples = 287</text>\n<text text-anchor=\"start\" x=\"17\" y=\"-134.3\" font-family=\"Helvetica,sans-Serif\" font-size=\"14.00\">value = [8, 279]</text>\n<text text-anchor=\"start\" x=\"8\" y=\"-119.3\" font-family=\"Helvetica,sans-Serif\" font-size=\"14.00\">class = above 50K</text>\n</g>\n<!-- 6&#45;&gt;7 -->\n<g id=\"edge5\" class=\"edge\">\n<title>6&#45;&gt;7</title>\n<path fill=\"none\" stroke=\"black\" d=\"M185.47,-222.91C166,-210.66 144.68,-197.25 125.42,-185.13\"/>\n<polygon fill=\"black\" stroke=\"black\" points=\"127.06,-182.03 116.73,-179.67 123.33,-187.95 127.06,-182.03\"/>\n<text text-anchor=\"middle\" x=\"122.28\" y=\"-200.34\" font-family=\"Helvetica,sans-Serif\" font-size=\"14.00\">no</text>\n</g>\n<!-- 10 -->\n<g id=\"node7\" class=\"node\">\n<title>10</title>\n<path fill=\"#ffffff\" stroke=\"black\" d=\"M341.5,-187C341.5,-187 158.5,-187 158.5,-187 152.5,-187 146.5,-181 146.5,-175 146.5,-175 146.5,-116 146.5,-116 146.5,-110 152.5,-104 158.5,-104 158.5,-104 341.5,-104 341.5,-104 347.5,-104 353.5,-110 353.5,-116 353.5,-116 353.5,-175 353.5,-175 353.5,-181 347.5,-187 341.5,-187\"/>\n<text text-anchor=\"start\" x=\"154.5\" y=\"-171.8\" font-family=\"Helvetica,sans-Serif\" font-size=\"14.00\">hours_per_week_scaled le 0.31</text>\n<text text-anchor=\"start\" x=\"202.5\" y=\"-156.8\" font-family=\"Helvetica,sans-Serif\" font-size=\"14.00\">entropy = 0.945</text>\n<text text-anchor=\"start\" x=\"201.5\" y=\"-141.8\" font-family=\"Helvetica,sans-Serif\" font-size=\"14.00\">samples = 2392</text>\n<text text-anchor=\"start\" x=\"192\" y=\"-126.8\" font-family=\"Helvetica,sans-Serif\" font-size=\"14.00\">value = [867, 1525]</text>\n<text text-anchor=\"start\" x=\"194\" y=\"-111.8\" font-family=\"Helvetica,sans-Serif\" font-size=\"14.00\">class = above 50K</text>\n</g>\n<!-- 6&#45;&gt;10 -->\n<g id=\"edge6\" class=\"edge\">\n<title>6&#45;&gt;10</title>\n<path fill=\"none\" stroke=\"black\" d=\"M250,-222.91C250,-214.65 250,-205.86 250,-197.3\"/>\n<polygon fill=\"black\" stroke=\"black\" points=\"253.5,-197.02 250,-187.02 246.5,-197.02 253.5,-197.02\"/>\n<text text-anchor=\"middle\" x=\"239.39\" y=\"-193.93\" font-family=\"Helvetica,sans-Serif\" font-size=\"14.00\">yes</text>\n</g>\n<!-- 11 -->\n<g id=\"node8\" class=\"node\">\n<title>11</title>\n<path fill=\"#ffffff\" stroke=\"black\" d=\"M157,-68C157,-68 49,-68 49,-68 43,-68 37,-62 37,-56 37,-56 37,-12 37,-12 37,-6 43,0 49,0 49,0 157,0 157,0 163,0 169,-6 169,-12 169,-12 169,-56 169,-56 169,-62 163,-68 157,-68\"/>\n<text text-anchor=\"start\" x=\"55.5\" y=\"-52.8\" font-family=\"Helvetica,sans-Serif\" font-size=\"14.00\">entropy = 0.916</text>\n<text text-anchor=\"start\" x=\"54.5\" y=\"-37.8\" font-family=\"Helvetica,sans-Serif\" font-size=\"14.00\">samples = 2218</text>\n<text text-anchor=\"start\" x=\"45\" y=\"-22.8\" font-family=\"Helvetica,sans-Serif\" font-size=\"14.00\">value = [735, 1483]</text>\n<text text-anchor=\"start\" x=\"47\" y=\"-7.8\" font-family=\"Helvetica,sans-Serif\" font-size=\"14.00\">class = above 50K</text>\n</g>\n<!-- 10&#45;&gt;11 -->\n<g id=\"edge7\" class=\"edge\">\n<title>10&#45;&gt;11</title>\n<path fill=\"none\" stroke=\"black\" d=\"M195.26,-103.73C182.41,-94.15 168.73,-83.96 155.95,-74.44\"/>\n<polygon fill=\"black\" stroke=\"black\" points=\"157.81,-71.47 147.7,-68.3 153.63,-77.08 157.81,-71.47\"/>\n<text text-anchor=\"middle\" x=\"151.32\" y=\"-89.34\" font-family=\"Helvetica,sans-Serif\" font-size=\"14.00\">no</text>\n</g>\n<!-- 14 -->\n<g id=\"node9\" class=\"node\">\n<title>14</title>\n<path fill=\"#ffffff\" stroke=\"black\" d=\"M301,-68C301,-68 199,-68 199,-68 193,-68 187,-62 187,-56 187,-56 187,-12 187,-12 187,-6 193,0 199,0 199,0 301,0 301,0 307,0 313,-6 313,-12 313,-12 313,-56 313,-56 313,-62 307,-68 301,-68\"/>\n<text text-anchor=\"start\" x=\"202.5\" y=\"-52.8\" font-family=\"Helvetica,sans-Serif\" font-size=\"14.00\">entropy = 0.797</text>\n<text text-anchor=\"start\" x=\"205\" y=\"-37.8\" font-family=\"Helvetica,sans-Serif\" font-size=\"14.00\">samples = 174</text>\n<text text-anchor=\"start\" x=\"199.5\" y=\"-22.8\" font-family=\"Helvetica,sans-Serif\" font-size=\"14.00\">value = [132, 42]</text>\n<text text-anchor=\"start\" x=\"195\" y=\"-7.8\" font-family=\"Helvetica,sans-Serif\" font-size=\"14.00\">class = below 50K</text>\n</g>\n<!-- 10&#45;&gt;14 -->\n<g id=\"edge8\" class=\"edge\">\n<title>10&#45;&gt;14</title>\n<path fill=\"none\" stroke=\"black\" d=\"M250,-103.73C250,-95.52 250,-86.86 250,-78.56\"/>\n<polygon fill=\"black\" stroke=\"black\" points=\"253.5,-78.3 250,-68.3 246.5,-78.3 253.5,-78.3\"/>\n<text text-anchor=\"middle\" x=\"239.39\" y=\"-75.21\" font-family=\"Helvetica,sans-Serif\" font-size=\"14.00\">yes</text>\n</g>\n<!-- 18 -->\n<g id=\"node11\" class=\"node\">\n<title>18</title>\n<path fill=\"#ffffff\" stroke=\"black\" d=\"M486,-298.5C486,-298.5 382,-298.5 382,-298.5 376,-298.5 370,-292.5 370,-286.5 370,-286.5 370,-242.5 370,-242.5 370,-236.5 376,-230.5 382,-230.5 382,-230.5 486,-230.5 486,-230.5 492,-230.5 498,-236.5 498,-242.5 498,-242.5 498,-286.5 498,-286.5 498,-292.5 492,-298.5 486,-298.5\"/>\n<text text-anchor=\"start\" x=\"386.5\" y=\"-283.3\" font-family=\"Helvetica,sans-Serif\" font-size=\"14.00\">entropy = 0.078</text>\n<text text-anchor=\"start\" x=\"389\" y=\"-268.3\" font-family=\"Helvetica,sans-Serif\" font-size=\"14.00\">samples = 312</text>\n<text text-anchor=\"start\" x=\"387\" y=\"-253.3\" font-family=\"Helvetica,sans-Serif\" font-size=\"14.00\">value = [3, 309]</text>\n<text text-anchor=\"start\" x=\"378\" y=\"-238.3\" font-family=\"Helvetica,sans-Serif\" font-size=\"14.00\">class = above 50K</text>\n</g>\n<!-- 17&#45;&gt;18 -->\n<g id=\"edge10\" class=\"edge\">\n<title>17&#45;&gt;18</title>\n<path fill=\"none\" stroke=\"black\" d=\"M477.1,-341.91C470.81,-330.76 463.99,-318.66 457.66,-307.44\"/>\n<polygon fill=\"black\" stroke=\"black\" points=\"460.67,-305.66 452.71,-298.67 454.57,-309.1 460.67,-305.66\"/>\n<text text-anchor=\"middle\" x=\"446\" y=\"-319.05\" font-family=\"Helvetica,sans-Serif\" font-size=\"14.00\">no</text>\n</g>\n<!-- 21 -->\n<g id=\"node12\" class=\"node\">\n<title>21</title>\n<path fill=\"#ffffff\" stroke=\"black\" d=\"M656,-306C656,-306 528,-306 528,-306 522,-306 516,-300 516,-294 516,-294 516,-235 516,-235 516,-229 522,-223 528,-223 528,-223 656,-223 656,-223 662,-223 668,-229 668,-235 668,-235 668,-294 668,-294 668,-300 662,-306 656,-306\"/>\n<text text-anchor=\"start\" x=\"524\" y=\"-290.8\" font-family=\"Helvetica,sans-Serif\" font-size=\"14.00\">education_new le 7.21</text>\n<text text-anchor=\"start\" x=\"544.5\" y=\"-275.8\" font-family=\"Helvetica,sans-Serif\" font-size=\"14.00\">entropy = 0.881</text>\n<text text-anchor=\"start\" x=\"543.5\" y=\"-260.8\" font-family=\"Helvetica,sans-Serif\" font-size=\"14.00\">samples = 7175</text>\n<text text-anchor=\"start\" x=\"530\" y=\"-245.8\" font-family=\"Helvetica,sans-Serif\" font-size=\"14.00\">value = [5022, 2153]</text>\n<text text-anchor=\"start\" x=\"537\" y=\"-230.8\" font-family=\"Helvetica,sans-Serif\" font-size=\"14.00\">class = below 50K</text>\n</g>\n<!-- 17&#45;&gt;21 -->\n<g id=\"edge11\" class=\"edge\">\n<title>17&#45;&gt;21</title>\n<path fill=\"none\" stroke=\"black\" d=\"M531.92,-341.91C538.98,-332.92 546.54,-323.32 553.82,-314.05\"/>\n<polygon fill=\"black\" stroke=\"black\" points=\"556.71,-316.05 560.14,-306.02 551.2,-311.72 556.71,-316.05\"/>\n<text text-anchor=\"middle\" x=\"545.24\" y=\"-304.1\" font-family=\"Helvetica,sans-Serif\" font-size=\"14.00\">yes</text>\n</g>\n<!-- 22 -->\n<g id=\"node13\" class=\"node\">\n<title>22</title>\n<path fill=\"#ffffff\" stroke=\"black\" d=\"M598,-187C598,-187 482,-187 482,-187 476,-187 470,-181 470,-175 470,-175 470,-116 470,-116 470,-110 476,-104 482,-104 482,-104 598,-104 598,-104 604,-104 610,-110 610,-116 610,-116 610,-175 610,-175 610,-181 604,-187 598,-187\"/>\n<text text-anchor=\"start\" x=\"483\" y=\"-171.8\" font-family=\"Helvetica,sans-Serif\" font-size=\"14.00\">age_scaled le 0.24</text>\n<text text-anchor=\"start\" x=\"492.5\" y=\"-156.8\" font-family=\"Helvetica,sans-Serif\" font-size=\"14.00\">entropy = 0.925</text>\n<text text-anchor=\"start\" x=\"491.5\" y=\"-141.8\" font-family=\"Helvetica,sans-Serif\" font-size=\"14.00\">samples = 5952</text>\n<text text-anchor=\"start\" x=\"478\" y=\"-126.8\" font-family=\"Helvetica,sans-Serif\" font-size=\"14.00\">value = [3929, 2023]</text>\n<text text-anchor=\"start\" x=\"485\" y=\"-111.8\" font-family=\"Helvetica,sans-Serif\" font-size=\"14.00\">class = below 50K</text>\n</g>\n<!-- 21&#45;&gt;22 -->\n<g id=\"edge12\" class=\"edge\">\n<title>21&#45;&gt;22</title>\n<path fill=\"none\" stroke=\"black\" d=\"M573.96,-222.91C570.13,-214.29 566.04,-205.09 562.08,-196.17\"/>\n<polygon fill=\"black\" stroke=\"black\" points=\"565.27,-194.74 558.01,-187.02 558.87,-197.58 565.27,-194.74\"/>\n<text text-anchor=\"middle\" x=\"549.03\" y=\"-206.65\" font-family=\"Helvetica,sans-Serif\" font-size=\"14.00\">no</text>\n</g>\n<!-- 29 -->\n<g id=\"node16\" class=\"node\">\n<title>29</title>\n<path fill=\"#ffffff\" stroke=\"black\" d=\"M795.5,-187C795.5,-187 640.5,-187 640.5,-187 634.5,-187 628.5,-181 628.5,-175 628.5,-175 628.5,-116 628.5,-116 628.5,-110 634.5,-104 640.5,-104 640.5,-104 795.5,-104 795.5,-104 801.5,-104 807.5,-110 807.5,-116 807.5,-116 807.5,-175 807.5,-175 807.5,-181 801.5,-187 795.5,-187\"/>\n<text text-anchor=\"start\" x=\"636.5\" y=\"-171.8\" font-family=\"Helvetica,sans-Serif\" font-size=\"14.00\">capital_gain_scaled le 0.05</text>\n<text text-anchor=\"start\" x=\"670.5\" y=\"-156.8\" font-family=\"Helvetica,sans-Serif\" font-size=\"14.00\">entropy = 0.489</text>\n<text text-anchor=\"start\" x=\"669.5\" y=\"-141.8\" font-family=\"Helvetica,sans-Serif\" font-size=\"14.00\">samples = 1223</text>\n<text text-anchor=\"start\" x=\"660\" y=\"-126.8\" font-family=\"Helvetica,sans-Serif\" font-size=\"14.00\">value = [1093, 130]</text>\n<text text-anchor=\"start\" x=\"663\" y=\"-111.8\" font-family=\"Helvetica,sans-Serif\" font-size=\"14.00\">class = below 50K</text>\n</g>\n<!-- 21&#45;&gt;29 -->\n<g id=\"edge15\" class=\"edge\">\n<title>21&#45;&gt;29</title>\n<path fill=\"none\" stroke=\"black\" d=\"M635.72,-222.91C645.78,-213.56 656.57,-203.54 666.92,-193.93\"/>\n<polygon fill=\"black\" stroke=\"black\" points=\"669.42,-196.39 674.36,-187.02 664.65,-191.26 669.42,-196.39\"/>\n<text text-anchor=\"middle\" x=\"659.37\" y=\"-182.77\" font-family=\"Helvetica,sans-Serif\" font-size=\"14.00\">yes</text>\n</g>\n<!-- 23 -->\n<g id=\"node14\" class=\"node\">\n<title>23</title>\n<path fill=\"#ffffff\" stroke=\"black\" d=\"M459,-68C459,-68 343,-68 343,-68 337,-68 331,-62 331,-56 331,-56 331,-12 331,-12 331,-6 337,0 343,0 343,0 459,0 459,0 465,0 471,-6 471,-12 471,-12 471,-56 471,-56 471,-62 465,-68 459,-68\"/>\n<text text-anchor=\"start\" x=\"353.5\" y=\"-52.8\" font-family=\"Helvetica,sans-Serif\" font-size=\"14.00\">entropy = 0.966</text>\n<text text-anchor=\"start\" x=\"352.5\" y=\"-37.8\" font-family=\"Helvetica,sans-Serif\" font-size=\"14.00\">samples = 4258</text>\n<text text-anchor=\"start\" x=\"339\" y=\"-22.8\" font-family=\"Helvetica,sans-Serif\" font-size=\"14.00\">value = [2587, 1671]</text>\n<text text-anchor=\"start\" x=\"346\" y=\"-7.8\" font-family=\"Helvetica,sans-Serif\" font-size=\"14.00\">class = below 50K</text>\n</g>\n<!-- 22&#45;&gt;23 -->\n<g id=\"edge13\" class=\"edge\">\n<title>22&#45;&gt;23</title>\n<path fill=\"none\" stroke=\"black\" d=\"M488.24,-103.73C476.2,-94.24 463.4,-84.16 451.42,-74.72\"/>\n<polygon fill=\"black\" stroke=\"black\" points=\"453.29,-71.74 443.27,-68.3 448.96,-77.24 453.29,-71.74\"/>\n<text text-anchor=\"middle\" x=\"446.22\" y=\"-89.43\" font-family=\"Helvetica,sans-Serif\" font-size=\"14.00\">no</text>\n</g>\n<!-- 26 -->\n<g id=\"node15\" class=\"node\">\n<title>26</title>\n<path fill=\"#ffffff\" stroke=\"black\" d=\"M609,-68C609,-68 501,-68 501,-68 495,-68 489,-62 489,-56 489,-56 489,-12 489,-12 489,-6 495,0 501,0 501,0 609,0 609,0 615,0 621,-6 621,-12 621,-12 621,-56 621,-56 621,-62 615,-68 609,-68\"/>\n<text text-anchor=\"start\" x=\"507.5\" y=\"-52.8\" font-family=\"Helvetica,sans-Serif\" font-size=\"14.00\">entropy = 0.737</text>\n<text text-anchor=\"start\" x=\"506.5\" y=\"-37.8\" font-family=\"Helvetica,sans-Serif\" font-size=\"14.00\">samples = 1694</text>\n<text text-anchor=\"start\" x=\"497\" y=\"-22.8\" font-family=\"Helvetica,sans-Serif\" font-size=\"14.00\">value = [1342, 352]</text>\n<text text-anchor=\"start\" x=\"500\" y=\"-7.8\" font-family=\"Helvetica,sans-Serif\" font-size=\"14.00\">class = below 50K</text>\n</g>\n<!-- 22&#45;&gt;26 -->\n<g id=\"edge14\" class=\"edge\">\n<title>22&#45;&gt;26</title>\n<path fill=\"none\" stroke=\"black\" d=\"M545.59,-103.73C546.72,-95.43 547.92,-86.67 549.07,-78.28\"/>\n<polygon fill=\"black\" stroke=\"black\" points=\"552.55,-78.68 550.44,-68.3 545.61,-77.73 552.55,-78.68\"/>\n<text text-anchor=\"middle\" x=\"538.49\" y=\"-73.67\" font-family=\"Helvetica,sans-Serif\" font-size=\"14.00\">yes</text>\n</g>\n<!-- 30 -->\n<g id=\"node17\" class=\"node\">\n<title>30</title>\n<path fill=\"#ffffff\" stroke=\"black\" d=\"M755,-68C755,-68 651,-68 651,-68 645,-68 639,-62 639,-56 639,-56 639,-12 639,-12 639,-6 645,0 651,0 651,0 755,0 755,0 761,0 767,-6 767,-12 767,-12 767,-56 767,-56 767,-62 761,-68 755,-68\"/>\n<text text-anchor=\"start\" x=\"655.5\" y=\"-52.8\" font-family=\"Helvetica,sans-Serif\" font-size=\"14.00\">entropy = 0.000</text>\n<text text-anchor=\"start\" x=\"665.5\" y=\"-37.8\" font-family=\"Helvetica,sans-Serif\" font-size=\"14.00\">samples = 9</text>\n<text text-anchor=\"start\" x=\"663.5\" y=\"-22.8\" font-family=\"Helvetica,sans-Serif\" font-size=\"14.00\">value = [0, 9]</text>\n<text text-anchor=\"start\" x=\"647\" y=\"-7.8\" font-family=\"Helvetica,sans-Serif\" font-size=\"14.00\">class = above 50K</text>\n</g>\n<!-- 29&#45;&gt;30 -->\n<g id=\"edge16\" class=\"edge\">\n<title>29&#45;&gt;30</title>\n<path fill=\"none\" stroke=\"black\" d=\"M712.41,-103.73C711.28,-95.43 710.08,-86.67 708.93,-78.28\"/>\n<polygon fill=\"black\" stroke=\"black\" points=\"712.39,-77.73 707.56,-68.3 705.45,-78.68 712.39,-77.73\"/>\n<text text-anchor=\"middle\" x=\"692.45\" y=\"-84.51\" font-family=\"Helvetica,sans-Serif\" font-size=\"14.00\">no</text>\n</g>\n<!-- 33 -->\n<g id=\"node18\" class=\"node\">\n<title>33</title>\n<path fill=\"#ffffff\" stroke=\"black\" d=\"M905,-68C905,-68 797,-68 797,-68 791,-68 785,-62 785,-56 785,-56 785,-12 785,-12 785,-6 791,0 797,0 797,0 905,0 905,0 911,0 917,-6 917,-12 917,-12 917,-56 917,-56 917,-62 911,-68 905,-68\"/>\n<text text-anchor=\"start\" x=\"803.5\" y=\"-52.8\" font-family=\"Helvetica,sans-Serif\" font-size=\"14.00\">entropy = 0.468</text>\n<text text-anchor=\"start\" x=\"802.5\" y=\"-37.8\" font-family=\"Helvetica,sans-Serif\" font-size=\"14.00\">samples = 1214</text>\n<text text-anchor=\"start\" x=\"793\" y=\"-22.8\" font-family=\"Helvetica,sans-Serif\" font-size=\"14.00\">value = [1093, 121]</text>\n<text text-anchor=\"start\" x=\"796\" y=\"-7.8\" font-family=\"Helvetica,sans-Serif\" font-size=\"14.00\">class = below 50K</text>\n</g>\n<!-- 29&#45;&gt;33 -->\n<g id=\"edge17\" class=\"edge\">\n<title>29&#45;&gt;33</title>\n<path fill=\"none\" stroke=\"black\" d=\"M767.52,-103.73C779.05,-94.24 791.3,-84.16 802.76,-74.72\"/>\n<polygon fill=\"black\" stroke=\"black\" points=\"805.06,-77.36 810.55,-68.3 800.61,-71.95 805.06,-77.36\"/>\n<text text-anchor=\"middle\" x=\"795.62\" y=\"-63.15\" font-family=\"Helvetica,sans-Serif\" font-size=\"14.00\">yes</text>\n</g>\n<!-- 37 -->\n<g id=\"node20\" class=\"node\">\n<title>37</title>\n<path fill=\"#ffffff\" stroke=\"black\" d=\"M844,-417.5C844,-417.5 740,-417.5 740,-417.5 734,-417.5 728,-411.5 728,-405.5 728,-405.5 728,-361.5 728,-361.5 728,-355.5 734,-349.5 740,-349.5 740,-349.5 844,-349.5 844,-349.5 850,-349.5 856,-355.5 856,-361.5 856,-361.5 856,-405.5 856,-405.5 856,-411.5 850,-417.5 844,-417.5\"/>\n<text text-anchor=\"start\" x=\"744.5\" y=\"-402.3\" font-family=\"Helvetica,sans-Serif\" font-size=\"14.00\">entropy = 0.221</text>\n<text text-anchor=\"start\" x=\"747\" y=\"-387.3\" font-family=\"Helvetica,sans-Serif\" font-size=\"14.00\">samples = 366</text>\n<text text-anchor=\"start\" x=\"741.5\" y=\"-372.3\" font-family=\"Helvetica,sans-Serif\" font-size=\"14.00\">value = [13, 353]</text>\n<text text-anchor=\"start\" x=\"736\" y=\"-357.3\" font-family=\"Helvetica,sans-Serif\" font-size=\"14.00\">class = above 50K</text>\n</g>\n<!-- 36&#45;&gt;37 -->\n<g id=\"edge19\" class=\"edge\">\n<title>36&#45;&gt;37</title>\n<path fill=\"none\" stroke=\"black\" d=\"M792,-460.91C792,-450.2 792,-438.62 792,-427.78\"/>\n<polygon fill=\"black\" stroke=\"black\" points=\"795.5,-427.67 792,-417.67 788.5,-427.67 795.5,-427.67\"/>\n<text text-anchor=\"middle\" x=\"774.32\" y=\"-431.64\" font-family=\"Helvetica,sans-Serif\" font-size=\"14.00\">no</text>\n</g>\n<!-- 40 -->\n<g id=\"node21\" class=\"node\">\n<title>40</title>\n<path fill=\"#ffffff\" stroke=\"black\" d=\"M1166.5,-425C1166.5,-425 1031.5,-425 1031.5,-425 1025.5,-425 1019.5,-419 1019.5,-413 1019.5,-413 1019.5,-354 1019.5,-354 1019.5,-348 1025.5,-342 1031.5,-342 1031.5,-342 1166.5,-342 1166.5,-342 1172.5,-342 1178.5,-348 1178.5,-354 1178.5,-354 1178.5,-413 1178.5,-413 1178.5,-419 1172.5,-425 1166.5,-425\"/>\n<text text-anchor=\"start\" x=\"1027.5\" y=\"-409.8\" font-family=\"Helvetica,sans-Serif\" font-size=\"14.00\">education_new le 11.38</text>\n<text text-anchor=\"start\" x=\"1051.5\" y=\"-394.8\" font-family=\"Helvetica,sans-Serif\" font-size=\"14.00\">entropy = 0.397</text>\n<text text-anchor=\"start\" x=\"1046.5\" y=\"-379.8\" font-family=\"Helvetica,sans-Serif\" font-size=\"14.00\">samples = 15029</text>\n<text text-anchor=\"start\" x=\"1033.5\" y=\"-364.8\" font-family=\"Helvetica,sans-Serif\" font-size=\"14.00\">value = [13847, 1182]</text>\n<text text-anchor=\"start\" x=\"1044\" y=\"-349.8\" font-family=\"Helvetica,sans-Serif\" font-size=\"14.00\">class = below 50K</text>\n</g>\n<!-- 36&#45;&gt;40 -->\n<g id=\"edge20\" class=\"edge\">\n<title>36&#45;&gt;40</title>\n<path fill=\"none\" stroke=\"black\" d=\"M881.62,-467.34C922.01,-451.95 969.58,-433.82 1009.91,-418.45\"/>\n<polygon fill=\"black\" stroke=\"black\" points=\"1011.36,-421.65 1019.46,-414.81 1008.87,-415.11 1011.36,-421.65\"/>\n<text text-anchor=\"middle\" x=\"1005.77\" y=\"-404.98\" font-family=\"Helvetica,sans-Serif\" font-size=\"14.00\">yes</text>\n</g>\n<!-- 41 -->\n<g id=\"node22\" class=\"node\">\n<title>41</title>\n<path fill=\"#ffffff\" stroke=\"black\" d=\"M1153,-306C1153,-306 1045,-306 1045,-306 1039,-306 1033,-300 1033,-294 1033,-294 1033,-235 1033,-235 1033,-229 1039,-223 1045,-223 1045,-223 1153,-223 1153,-223 1159,-223 1165,-229 1165,-235 1165,-235 1165,-294 1165,-294 1165,-300 1159,-306 1153,-306\"/>\n<text text-anchor=\"start\" x=\"1042\" y=\"-290.8\" font-family=\"Helvetica,sans-Serif\" font-size=\"14.00\">age_scaled le 0.14</text>\n<text text-anchor=\"start\" x=\"1051.5\" y=\"-275.8\" font-family=\"Helvetica,sans-Serif\" font-size=\"14.00\">entropy = 0.731</text>\n<text text-anchor=\"start\" x=\"1050.5\" y=\"-260.8\" font-family=\"Helvetica,sans-Serif\" font-size=\"14.00\">samples = 3063</text>\n<text text-anchor=\"start\" x=\"1041\" y=\"-245.8\" font-family=\"Helvetica,sans-Serif\" font-size=\"14.00\">value = [2437, 626]</text>\n<text text-anchor=\"start\" x=\"1044\" y=\"-230.8\" font-family=\"Helvetica,sans-Serif\" font-size=\"14.00\">class = below 50K</text>\n</g>\n<!-- 40&#45;&gt;41 -->\n<g id=\"edge21\" class=\"edge\">\n<title>40&#45;&gt;41</title>\n<path fill=\"none\" stroke=\"black\" d=\"M1099,-341.91C1099,-333.65 1099,-324.86 1099,-316.3\"/>\n<polygon fill=\"black\" stroke=\"black\" points=\"1102.5,-316.02 1099,-306.02 1095.5,-316.02 1102.5,-316.02\"/>\n<text text-anchor=\"middle\" x=\"1081.32\" y=\"-320\" font-family=\"Helvetica,sans-Serif\" font-size=\"14.00\">no</text>\n</g>\n<!-- 52 -->\n<g id=\"node27\" class=\"node\">\n<title>52</title>\n<path fill=\"#ffffff\" stroke=\"black\" d=\"M1439,-306C1439,-306 1323,-306 1323,-306 1317,-306 1311,-300 1311,-294 1311,-294 1311,-235 1311,-235 1311,-229 1317,-223 1323,-223 1323,-223 1439,-223 1439,-223 1445,-223 1451,-229 1451,-235 1451,-235 1451,-294 1451,-294 1451,-300 1445,-306 1439,-306\"/>\n<text text-anchor=\"start\" x=\"1324\" y=\"-290.8\" font-family=\"Helvetica,sans-Serif\" font-size=\"14.00\">age_scaled le 0.10</text>\n<text text-anchor=\"start\" x=\"1333.5\" y=\"-275.8\" font-family=\"Helvetica,sans-Serif\" font-size=\"14.00\">entropy = 0.271</text>\n<text text-anchor=\"start\" x=\"1328.5\" y=\"-260.8\" font-family=\"Helvetica,sans-Serif\" font-size=\"14.00\">samples = 11966</text>\n<text text-anchor=\"start\" x=\"1319\" y=\"-245.8\" font-family=\"Helvetica,sans-Serif\" font-size=\"14.00\">value = [11410, 556]</text>\n<text text-anchor=\"start\" x=\"1326\" y=\"-230.8\" font-family=\"Helvetica,sans-Serif\" font-size=\"14.00\">class = below 50K</text>\n</g>\n<!-- 40&#45;&gt;52 -->\n<g id=\"edge26\" class=\"edge\">\n<title>40&#45;&gt;52</title>\n<path fill=\"none\" stroke=\"black\" d=\"M1178.68,-349.44C1216.97,-333.56 1262.75,-314.56 1301.07,-298.66\"/>\n<polygon fill=\"black\" stroke=\"black\" points=\"1302.74,-301.76 1310.64,-294.69 1300.06,-295.29 1302.74,-301.76\"/>\n<text text-anchor=\"middle\" x=\"1296.78\" y=\"-285.26\" font-family=\"Helvetica,sans-Serif\" font-size=\"14.00\">yes</text>\n</g>\n<!-- 42 -->\n<g id=\"node23\" class=\"node\">\n<title>42</title>\n<path fill=\"#ffffff\" stroke=\"black\" d=\"M1098.5,-187C1098.5,-187 915.5,-187 915.5,-187 909.5,-187 903.5,-181 903.5,-175 903.5,-175 903.5,-116 903.5,-116 903.5,-110 909.5,-104 915.5,-104 915.5,-104 1098.5,-104 1098.5,-104 1104.5,-104 1110.5,-110 1110.5,-116 1110.5,-116 1110.5,-175 1110.5,-175 1110.5,-181 1104.5,-187 1098.5,-187\"/>\n<text text-anchor=\"start\" x=\"911.5\" y=\"-171.8\" font-family=\"Helvetica,sans-Serif\" font-size=\"14.00\">hours_per_week_scaled le 0.45</text>\n<text text-anchor=\"start\" x=\"959.5\" y=\"-156.8\" font-family=\"Helvetica,sans-Serif\" font-size=\"14.00\">entropy = 0.840</text>\n<text text-anchor=\"start\" x=\"958.5\" y=\"-141.8\" font-family=\"Helvetica,sans-Serif\" font-size=\"14.00\">samples = 2203</text>\n<text text-anchor=\"start\" x=\"949\" y=\"-126.8\" font-family=\"Helvetica,sans-Serif\" font-size=\"14.00\">value = [1610, 593]</text>\n<text text-anchor=\"start\" x=\"952\" y=\"-111.8\" font-family=\"Helvetica,sans-Serif\" font-size=\"14.00\">class = below 50K</text>\n</g>\n<!-- 41&#45;&gt;42 -->\n<g id=\"edge22\" class=\"edge\">\n<title>41&#45;&gt;42</title>\n<path fill=\"none\" stroke=\"black\" d=\"M1067.08,-222.91C1060.02,-213.92 1052.46,-204.32 1045.18,-195.05\"/>\n<polygon fill=\"black\" stroke=\"black\" points=\"1047.8,-192.72 1038.86,-187.02 1042.29,-197.05 1047.8,-192.72\"/>\n<text text-anchor=\"middle\" x=\"1035.89\" y=\"-208.14\" font-family=\"Helvetica,sans-Serif\" font-size=\"14.00\">no</text>\n</g>\n<!-- 49 -->\n<g id=\"node26\" class=\"node\">\n<title>49</title>\n<path fill=\"#ffffff\" stroke=\"black\" d=\"M1243,-179.5C1243,-179.5 1141,-179.5 1141,-179.5 1135,-179.5 1129,-173.5 1129,-167.5 1129,-167.5 1129,-123.5 1129,-123.5 1129,-117.5 1135,-111.5 1141,-111.5 1141,-111.5 1243,-111.5 1243,-111.5 1249,-111.5 1255,-117.5 1255,-123.5 1255,-123.5 1255,-167.5 1255,-167.5 1255,-173.5 1249,-179.5 1243,-179.5\"/>\n<text text-anchor=\"start\" x=\"1144.5\" y=\"-164.3\" font-family=\"Helvetica,sans-Serif\" font-size=\"14.00\">entropy = 0.235</text>\n<text text-anchor=\"start\" x=\"1147\" y=\"-149.3\" font-family=\"Helvetica,sans-Serif\" font-size=\"14.00\">samples = 860</text>\n<text text-anchor=\"start\" x=\"1141.5\" y=\"-134.3\" font-family=\"Helvetica,sans-Serif\" font-size=\"14.00\">value = [827, 33]</text>\n<text text-anchor=\"start\" x=\"1137\" y=\"-119.3\" font-family=\"Helvetica,sans-Serif\" font-size=\"14.00\">class = below 50K</text>\n</g>\n<!-- 41&#45;&gt;49 -->\n<g id=\"edge25\" class=\"edge\">\n<title>41&#45;&gt;49</title>\n<path fill=\"none\" stroke=\"black\" d=\"M1131.27,-222.91C1140.3,-211.54 1150.13,-199.18 1159.19,-187.77\"/>\n<polygon fill=\"black\" stroke=\"black\" points=\"1162.15,-189.67 1165.64,-179.67 1156.67,-185.32 1162.15,-189.67\"/>\n<text text-anchor=\"middle\" x=\"1150.73\" y=\"-177.67\" font-family=\"Helvetica,sans-Serif\" font-size=\"14.00\">yes</text>\n</g>\n<!-- 43 -->\n<g id=\"node24\" class=\"node\">\n<title>43</title>\n<path fill=\"#ffffff\" stroke=\"black\" d=\"M1049,-68C1049,-68 947,-68 947,-68 941,-68 935,-62 935,-56 935,-56 935,-12 935,-12 935,-6 941,0 947,0 947,0 1049,0 1049,0 1055,0 1061,-6 1061,-12 1061,-12 1061,-56 1061,-56 1061,-62 1055,-68 1049,-68\"/>\n<text text-anchor=\"start\" x=\"950.5\" y=\"-52.8\" font-family=\"Helvetica,sans-Serif\" font-size=\"14.00\">entropy = 0.954</text>\n<text text-anchor=\"start\" x=\"953\" y=\"-37.8\" font-family=\"Helvetica,sans-Serif\" font-size=\"14.00\">samples = 756</text>\n<text text-anchor=\"start\" x=\"943.5\" y=\"-22.8\" font-family=\"Helvetica,sans-Serif\" font-size=\"14.00\">value = [473, 283]</text>\n<text text-anchor=\"start\" x=\"943\" y=\"-7.8\" font-family=\"Helvetica,sans-Serif\" font-size=\"14.00\">class = below 50K</text>\n</g>\n<!-- 42&#45;&gt;43 -->\n<g id=\"edge23\" class=\"edge\">\n<title>42&#45;&gt;43</title>\n<path fill=\"none\" stroke=\"black\" d=\"M1003.65,-103.73C1002.97,-95.43 1002.25,-86.67 1001.56,-78.28\"/>\n<polygon fill=\"black\" stroke=\"black\" points=\"1005.04,-77.98 1000.74,-68.3 998.07,-78.55 1005.04,-77.98\"/>\n<text text-anchor=\"middle\" x=\"984.57\" y=\"-83.67\" font-family=\"Helvetica,sans-Serif\" font-size=\"14.00\">no</text>\n</g>\n<!-- 46 -->\n<g id=\"node25\" class=\"node\">\n<title>46</title>\n<path fill=\"#ffffff\" stroke=\"black\" d=\"M1199,-68C1199,-68 1091,-68 1091,-68 1085,-68 1079,-62 1079,-56 1079,-56 1079,-12 1079,-12 1079,-6 1085,0 1091,0 1091,0 1199,0 1199,0 1205,0 1211,-6 1211,-12 1211,-12 1211,-56 1211,-56 1211,-62 1205,-68 1199,-68\"/>\n<text text-anchor=\"start\" x=\"1097.5\" y=\"-52.8\" font-family=\"Helvetica,sans-Serif\" font-size=\"14.00\">entropy = 0.750</text>\n<text text-anchor=\"start\" x=\"1096.5\" y=\"-37.8\" font-family=\"Helvetica,sans-Serif\" font-size=\"14.00\">samples = 1447</text>\n<text text-anchor=\"start\" x=\"1087\" y=\"-22.8\" font-family=\"Helvetica,sans-Serif\" font-size=\"14.00\">value = [1137, 310]</text>\n<text text-anchor=\"start\" x=\"1090\" y=\"-7.8\" font-family=\"Helvetica,sans-Serif\" font-size=\"14.00\">class = below 50K</text>\n</g>\n<!-- 42&#45;&gt;46 -->\n<g id=\"edge24\" class=\"edge\">\n<title>42&#45;&gt;46</title>\n<path fill=\"none\" stroke=\"black\" d=\"M1058.39,-103.73C1070.34,-94.24 1083.05,-84.16 1094.95,-74.72\"/>\n<polygon fill=\"black\" stroke=\"black\" points=\"1097.38,-77.26 1103.03,-68.3 1093.02,-71.77 1097.38,-77.26\"/>\n<text text-anchor=\"middle\" x=\"1088.13\" y=\"-62.88\" font-family=\"Helvetica,sans-Serif\" font-size=\"14.00\">yes</text>\n</g>\n<!-- 53 -->\n<g id=\"node28\" class=\"node\">\n<title>53</title>\n<path fill=\"#ffffff\" stroke=\"black\" d=\"M1458,-187C1458,-187 1304,-187 1304,-187 1298,-187 1292,-181 1292,-175 1292,-175 1292,-116 1292,-116 1292,-110 1298,-104 1304,-104 1304,-104 1458,-104 1458,-104 1464,-104 1470,-110 1470,-116 1470,-116 1470,-175 1470,-175 1470,-181 1464,-187 1458,-187\"/>\n<text text-anchor=\"start\" x=\"1300\" y=\"-171.8\" font-family=\"Helvetica,sans-Serif\" font-size=\"14.00\">capital_loss_scaled le 0.41</text>\n<text text-anchor=\"start\" x=\"1333.5\" y=\"-156.8\" font-family=\"Helvetica,sans-Serif\" font-size=\"14.00\">entropy = 0.352</text>\n<text text-anchor=\"start\" x=\"1332.5\" y=\"-141.8\" font-family=\"Helvetica,sans-Serif\" font-size=\"14.00\">samples = 8197</text>\n<text text-anchor=\"start\" x=\"1323\" y=\"-126.8\" font-family=\"Helvetica,sans-Serif\" font-size=\"14.00\">value = [7654, 543]</text>\n<text text-anchor=\"start\" x=\"1326\" y=\"-111.8\" font-family=\"Helvetica,sans-Serif\" font-size=\"14.00\">class = below 50K</text>\n</g>\n<!-- 52&#45;&gt;53 -->\n<g id=\"edge27\" class=\"edge\">\n<title>52&#45;&gt;53</title>\n<path fill=\"none\" stroke=\"black\" d=\"M1381,-222.91C1381,-214.65 1381,-205.86 1381,-197.3\"/>\n<polygon fill=\"black\" stroke=\"black\" points=\"1384.5,-197.02 1381,-187.02 1377.5,-197.02 1384.5,-197.02\"/>\n<text text-anchor=\"middle\" x=\"1363.32\" y=\"-201\" font-family=\"Helvetica,sans-Serif\" font-size=\"14.00\">no</text>\n</g>\n<!-- 60 -->\n<g id=\"node31\" class=\"node\">\n<title>60</title>\n<path fill=\"#ffffff\" stroke=\"black\" d=\"M1664,-187C1664,-187 1510,-187 1510,-187 1504,-187 1498,-181 1498,-175 1498,-175 1498,-116 1498,-116 1498,-110 1504,-104 1510,-104 1510,-104 1664,-104 1664,-104 1670,-104 1676,-110 1676,-116 1676,-116 1676,-175 1676,-175 1676,-181 1670,-187 1664,-187\"/>\n<text text-anchor=\"start\" x=\"1506\" y=\"-171.8\" font-family=\"Helvetica,sans-Serif\" font-size=\"14.00\">capital_loss_scaled le 0.54</text>\n<text text-anchor=\"start\" x=\"1539.5\" y=\"-156.8\" font-family=\"Helvetica,sans-Serif\" font-size=\"14.00\">entropy = 0.033</text>\n<text text-anchor=\"start\" x=\"1538.5\" y=\"-141.8\" font-family=\"Helvetica,sans-Serif\" font-size=\"14.00\">samples = 3769</text>\n<text text-anchor=\"start\" x=\"1532.5\" y=\"-126.8\" font-family=\"Helvetica,sans-Serif\" font-size=\"14.00\">value = [3756, 13]</text>\n<text text-anchor=\"start\" x=\"1532\" y=\"-111.8\" font-family=\"Helvetica,sans-Serif\" font-size=\"14.00\">class = below 50K</text>\n</g>\n<!-- 52&#45;&gt;60 -->\n<g id=\"edge30\" class=\"edge\">\n<title>52&#45;&gt;60</title>\n<path fill=\"none\" stroke=\"black\" d=\"M1451.03,-223.73C1468.87,-213.59 1488.19,-202.62 1506.51,-192.22\"/>\n<polygon fill=\"black\" stroke=\"black\" points=\"1508.44,-195.14 1515.41,-187.16 1504.99,-189.06 1508.44,-195.14\"/>\n<text text-anchor=\"middle\" x=\"1500.95\" y=\"-179.48\" font-family=\"Helvetica,sans-Serif\" font-size=\"14.00\">yes</text>\n</g>\n<!-- 54 -->\n<g id=\"node29\" class=\"node\">\n<title>54</title>\n<path fill=\"#ffffff\" stroke=\"black\" d=\"M1343,-68C1343,-68 1241,-68 1241,-68 1235,-68 1229,-62 1229,-56 1229,-56 1229,-12 1229,-12 1229,-6 1235,0 1241,0 1241,0 1343,0 1343,0 1349,0 1355,-6 1355,-12 1355,-12 1355,-56 1355,-56 1355,-62 1349,-68 1343,-68\"/>\n<text text-anchor=\"start\" x=\"1244.5\" y=\"-52.8\" font-family=\"Helvetica,sans-Serif\" font-size=\"14.00\">entropy = 0.913</text>\n<text text-anchor=\"start\" x=\"1247\" y=\"-37.8\" font-family=\"Helvetica,sans-Serif\" font-size=\"14.00\">samples = 131</text>\n<text text-anchor=\"start\" x=\"1245\" y=\"-22.8\" font-family=\"Helvetica,sans-Serif\" font-size=\"14.00\">value = [88, 43]</text>\n<text text-anchor=\"start\" x=\"1237\" y=\"-7.8\" font-family=\"Helvetica,sans-Serif\" font-size=\"14.00\">class = below 50K</text>\n</g>\n<!-- 53&#45;&gt;54 -->\n<g id=\"edge28\" class=\"edge\">\n<title>53&#45;&gt;54</title>\n<path fill=\"none\" stroke=\"black\" d=\"M1347.86,-103.73C1340.52,-94.7 1332.74,-85.12 1325.39,-76.08\"/>\n<polygon fill=\"black\" stroke=\"black\" points=\"1328.09,-73.85 1319.07,-68.3 1322.66,-78.27 1328.09,-73.85\"/>\n<text text-anchor=\"middle\" x=\"1316.5\" y=\"-89.47\" font-family=\"Helvetica,sans-Serif\" font-size=\"14.00\">no</text>\n</g>\n<!-- 57 -->\n<g id=\"node30\" class=\"node\">\n<title>57</title>\n<path fill=\"#ffffff\" stroke=\"black\" d=\"M1493,-68C1493,-68 1385,-68 1385,-68 1379,-68 1373,-62 1373,-56 1373,-56 1373,-12 1373,-12 1373,-6 1379,0 1385,0 1385,0 1493,0 1493,0 1499,0 1505,-6 1505,-12 1505,-12 1505,-56 1505,-56 1505,-62 1499,-68 1493,-68\"/>\n<text text-anchor=\"start\" x=\"1391.5\" y=\"-52.8\" font-family=\"Helvetica,sans-Serif\" font-size=\"14.00\">entropy = 0.335</text>\n<text text-anchor=\"start\" x=\"1390.5\" y=\"-37.8\" font-family=\"Helvetica,sans-Serif\" font-size=\"14.00\">samples = 8066</text>\n<text text-anchor=\"start\" x=\"1381\" y=\"-22.8\" font-family=\"Helvetica,sans-Serif\" font-size=\"14.00\">value = [7566, 500]</text>\n<text text-anchor=\"start\" x=\"1384\" y=\"-7.8\" font-family=\"Helvetica,sans-Serif\" font-size=\"14.00\">class = below 50K</text>\n</g>\n<!-- 53&#45;&gt;57 -->\n<g id=\"edge29\" class=\"edge\">\n<title>53&#45;&gt;57</title>\n<path fill=\"none\" stroke=\"black\" d=\"M1402.6,-103.73C1407.19,-95.06 1412.04,-85.9 1416.66,-77.18\"/>\n<polygon fill=\"black\" stroke=\"black\" points=\"1419.77,-78.77 1421.36,-68.3 1413.59,-75.5 1419.77,-78.77\"/>\n<text text-anchor=\"middle\" x=\"1407.02\" y=\"-69.01\" font-family=\"Helvetica,sans-Serif\" font-size=\"14.00\">yes</text>\n</g>\n<!-- 61 -->\n<g id=\"node32\" class=\"node\">\n<title>61</title>\n<path fill=\"#ffffff\" stroke=\"black\" d=\"M1639,-68C1639,-68 1535,-68 1535,-68 1529,-68 1523,-62 1523,-56 1523,-56 1523,-12 1523,-12 1523,-6 1529,0 1535,0 1535,0 1639,0 1639,0 1645,0 1651,-6 1651,-12 1651,-12 1651,-56 1651,-56 1651,-62 1645,-68 1639,-68\"/>\n<text text-anchor=\"start\" x=\"1539.5\" y=\"-52.8\" font-family=\"Helvetica,sans-Serif\" font-size=\"14.00\">entropy = 0.000</text>\n<text text-anchor=\"start\" x=\"1549.5\" y=\"-37.8\" font-family=\"Helvetica,sans-Serif\" font-size=\"14.00\">samples = 2</text>\n<text text-anchor=\"start\" x=\"1547.5\" y=\"-22.8\" font-family=\"Helvetica,sans-Serif\" font-size=\"14.00\">value = [0, 2]</text>\n<text text-anchor=\"start\" x=\"1531\" y=\"-7.8\" font-family=\"Helvetica,sans-Serif\" font-size=\"14.00\">class = above 50K</text>\n</g>\n<!-- 60&#45;&gt;61 -->\n<g id=\"edge31\" class=\"edge\">\n<title>60&#45;&gt;61</title>\n<path fill=\"none\" stroke=\"black\" d=\"M1587,-103.73C1587,-95.52 1587,-86.86 1587,-78.56\"/>\n<polygon fill=\"black\" stroke=\"black\" points=\"1590.5,-78.3 1587,-68.3 1583.5,-78.3 1590.5,-78.3\"/>\n<text text-anchor=\"middle\" x=\"1569.32\" y=\"-82.28\" font-family=\"Helvetica,sans-Serif\" font-size=\"14.00\">no</text>\n</g>\n<!-- 64 -->\n<g id=\"node33\" class=\"node\">\n<title>64</title>\n<path fill=\"#ffffff\" stroke=\"black\" d=\"M1783,-68C1783,-68 1681,-68 1681,-68 1675,-68 1669,-62 1669,-56 1669,-56 1669,-12 1669,-12 1669,-6 1675,0 1681,0 1681,0 1783,0 1783,0 1789,0 1795,-6 1795,-12 1795,-12 1795,-56 1795,-56 1795,-62 1789,-68 1783,-68\"/>\n<text text-anchor=\"start\" x=\"1684.5\" y=\"-52.8\" font-family=\"Helvetica,sans-Serif\" font-size=\"14.00\">entropy = 0.029</text>\n<text text-anchor=\"start\" x=\"1683.5\" y=\"-37.8\" font-family=\"Helvetica,sans-Serif\" font-size=\"14.00\">samples = 3767</text>\n<text text-anchor=\"start\" x=\"1677.5\" y=\"-22.8\" font-family=\"Helvetica,sans-Serif\" font-size=\"14.00\">value = [3756, 11]</text>\n<text text-anchor=\"start\" x=\"1677\" y=\"-7.8\" font-family=\"Helvetica,sans-Serif\" font-size=\"14.00\">class = below 50K</text>\n</g>\n<!-- 60&#45;&gt;64 -->\n<g id=\"edge32\" class=\"edge\">\n<title>60&#45;&gt;64</title>\n<path fill=\"none\" stroke=\"black\" d=\"M1640.99,-103.73C1653.67,-94.15 1667.17,-83.96 1679.77,-74.44\"/>\n<polygon fill=\"black\" stroke=\"black\" points=\"1682.03,-77.12 1687.9,-68.3 1677.82,-71.53 1682.03,-77.12\"/>\n<text text-anchor=\"middle\" x=\"1673.05\" y=\"-62.53\" font-family=\"Helvetica,sans-Serif\" font-size=\"14.00\">yes</text>\n</g>\n</g>\n</svg>\n",
            "text/plain": [
              "<graphviz.sources.Source at 0x7fb1aa7c0b20>"
            ]
          },
          "metadata": {},
          "execution_count": 106
        }
      ]
    },
    {
      "cell_type": "markdown",
      "source": [
        "### Evaluating on Test data"
      ],
      "metadata": {
        "id": "hr1tlFYsUyZH"
      },
      "id": "hr1tlFYsUyZH"
    },
    {
      "cell_type": "code",
      "source": [
        "new_train_data[\"income\"].value_counts()"
      ],
      "metadata": {
        "colab": {
          "base_uri": "https://localhost:8080/"
        },
        "id": "U7qs1zV6xO9X",
        "outputId": "c77ea24a-b65a-4ee4-c285-043362e54148"
      },
      "id": "U7qs1zV6xO9X",
      "execution_count": 107,
      "outputs": [
        {
          "output_type": "execute_result",
          "data": {
            "text/plain": [
              "0    19762\n",
              "1     6273\n",
              "Name: income, dtype: int64"
            ]
          },
          "metadata": {},
          "execution_count": 107
        }
      ]
    },
    {
      "cell_type": "code",
      "source": [
        "my_dt.samples"
      ],
      "metadata": {
        "colab": {
          "base_uri": "https://localhost:8080/"
        },
        "id": "M-qS7J4e3krT",
        "outputId": "94c583cf-5671-484f-abf0-350b9050a346"
      },
      "id": "M-qS7J4e3krT",
      "execution_count": 108,
      "outputs": [
        {
          "output_type": "execute_result",
          "data": {
            "text/plain": [
              "26035"
            ]
          },
          "metadata": {},
          "execution_count": 108
        }
      ]
    },
    {
      "cell_type": "code",
      "source": [
        "start=time.time()\n",
        "my_dt = decision_tree(new_train_data, 'income', max_depth=13, max_features = 19, min_samples_split = 300, min_samples_leaf = 150)\n",
        "print(round(time.time()-start, 2), 'seconds')"
      ],
      "metadata": {
        "colab": {
          "base_uri": "https://localhost:8080/"
        },
        "id": "xMLo7e9TdMHl",
        "outputId": "977bb956-c0b3-4a5b-cf6c-58d2c9eedd9a"
      },
      "id": "xMLo7e9TdMHl",
      "execution_count": 109,
      "outputs": [
        {
          "output_type": "stream",
          "name": "stdout",
          "text": [
            "125.59 seconds\n"
          ]
        }
      ]
    },
    {
      "cell_type": "code",
      "source": [
        "def tree_predict(my_dt, obs):\n",
        "  out_dt = my_dt\n",
        "  income = \"\"\n",
        "  while out_dt.column != \"\":\n",
        "    if obs[out_dt.column] <= out_dt.thresh:\n",
        "      out_dt = out_dt.branch_positive\n",
        "    else:\n",
        "      out_dt = out_dt.branch_negative\n",
        "  \n",
        "  if out_dt.value[1]/(out_dt.value[1] + out_dt.value[0]) >= 0.305:\n",
        "    income = 1\n",
        "  else:\n",
        "    income = 0\n",
        "  \n",
        "  return out_dt, income"
      ],
      "metadata": {
        "id": "53N3oCDaUxbe"
      },
      "id": "53N3oCDaUxbe",
      "execution_count": 182,
      "outputs": []
    },
    {
      "cell_type": "code",
      "source": [
        "len(new_test_data)"
      ],
      "metadata": {
        "colab": {
          "base_uri": "https://localhost:8080/"
        },
        "id": "olp8JpJwXIyb",
        "outputId": "cce63654-f3c6-4c07-bdca-5cf94b1c4a58"
      },
      "id": "olp8JpJwXIyb",
      "execution_count": 183,
      "outputs": [
        {
          "output_type": "execute_result",
          "data": {
            "text/plain": [
              "6513"
            ]
          },
          "metadata": {},
          "execution_count": 183
        }
      ]
    },
    {
      "cell_type": "code",
      "source": [
        "new_test_data_use = new_test_data.reset_index(drop = True)"
      ],
      "metadata": {
        "id": "oyit6h5iFgG7"
      },
      "id": "oyit6h5iFgG7",
      "execution_count": 184,
      "outputs": []
    },
    {
      "cell_type": "code",
      "source": [
        "incomes = []\n",
        "out_vals = []\n",
        "for i in range(len(new_test_data_use)):\n",
        "  out_dt, income = tree_predict(my_dt, new_test_data_use.iloc[i,:])\n",
        "  incomes.append(income)\n",
        "  out_vals.append(out_dt.value)"
      ],
      "metadata": {
        "id": "PQDOiDvaXMnc"
      },
      "id": "PQDOiDvaXMnc",
      "execution_count": 185,
      "outputs": []
    },
    {
      "cell_type": "code",
      "source": [
        "from collections import Counter\n",
        "Counter(incomes)"
      ],
      "metadata": {
        "colab": {
          "base_uri": "https://localhost:8080/"
        },
        "id": "CamewcxeXSet",
        "outputId": "06724628-4459-4747-d9e1-1b5f534d667b"
      },
      "id": "CamewcxeXSet",
      "execution_count": 186,
      "outputs": [
        {
          "output_type": "execute_result",
          "data": {
            "text/plain": [
              "Counter({0: 5528, 1: 985})"
            ]
          },
          "metadata": {},
          "execution_count": 186
        }
      ]
    },
    {
      "cell_type": "code",
      "source": [
        "out_vals[:10]"
      ],
      "metadata": {
        "colab": {
          "base_uri": "https://localhost:8080/"
        },
        "id": "ykrK75zXwKyG",
        "outputId": "237371da-4167-44ac-95c8-7f74d91df898"
      },
      "id": "ykrK75zXwKyG",
      "execution_count": 187,
      "outputs": [
        {
          "output_type": "execute_result",
          "data": {
            "text/plain": [
              "[[1278, 80],\n",
              " [87, 1],\n",
              " [938, 14],\n",
              " [95, 89],\n",
              " [938, 14],\n",
              " [1734, 96],\n",
              " [2004, 0],\n",
              " [1278, 80],\n",
              " [593, 0],\n",
              " [938, 14]]"
            ]
          },
          "metadata": {},
          "execution_count": 187
        }
      ]
    },
    {
      "cell_type": "code",
      "source": [
        "out_dt, income = tree_predict(my_dt, new_test_data.iloc[1000,:])"
      ],
      "metadata": {
        "id": "1_HxNdBIUxjy"
      },
      "id": "1_HxNdBIUxjy",
      "execution_count": 188,
      "outputs": []
    },
    {
      "cell_type": "code",
      "source": [
        "out_dt.value"
      ],
      "metadata": {
        "colab": {
          "base_uri": "https://localhost:8080/"
        },
        "id": "XSyuYxFaWXgf",
        "outputId": "25d3f2cc-41a5-4b72-de60-bf9b5499a3d2"
      },
      "id": "XSyuYxFaWXgf",
      "execution_count": 189,
      "outputs": [
        {
          "output_type": "execute_result",
          "data": {
            "text/plain": [
              "[827, 33]"
            ]
          },
          "metadata": {},
          "execution_count": 189
        }
      ]
    },
    {
      "cell_type": "code",
      "source": [
        "income"
      ],
      "metadata": {
        "colab": {
          "base_uri": "https://localhost:8080/"
        },
        "id": "YHA_Ov-xWZgM",
        "outputId": "e3167f1a-670b-412d-db60-7ad5130dcf1c"
      },
      "id": "YHA_Ov-xWZgM",
      "execution_count": 190,
      "outputs": [
        {
          "output_type": "execute_result",
          "data": {
            "text/plain": [
              "0"
            ]
          },
          "metadata": {},
          "execution_count": 190
        }
      ]
    },
    {
      "cell_type": "code",
      "source": [
        "from sklearn.metrics import classification_report, confusion_matrix\n",
        "import seaborn as sns"
      ],
      "metadata": {
        "id": "_vh3QTVdZFR1"
      },
      "id": "_vh3QTVdZFR1",
      "execution_count": 191,
      "outputs": []
    },
    {
      "cell_type": "code",
      "source": [
        "print(classification_report(y_test, incomes))"
      ],
      "metadata": {
        "colab": {
          "base_uri": "https://localhost:8080/"
        },
        "id": "RLWo_BBxfghC",
        "outputId": "a92fcff0-0086-4e10-b337-499e7d7ab61a"
      },
      "id": "RLWo_BBxfghC",
      "execution_count": 192,
      "outputs": [
        {
          "output_type": "stream",
          "name": "stdout",
          "text": [
            "              precision    recall  f1-score   support\n",
            "\n",
            "           0       0.84      0.94      0.89      4945\n",
            "           1       0.70      0.44      0.54      1568\n",
            "\n",
            "    accuracy                           0.82      6513\n",
            "   macro avg       0.77      0.69      0.71      6513\n",
            "weighted avg       0.81      0.82      0.80      6513\n",
            "\n"
          ]
        }
      ]
    },
    {
      "cell_type": "code",
      "source": [
        "conf = confusion_matrix(y_test,incomes)"
      ],
      "metadata": {
        "id": "9CAxX8Whfjj8"
      },
      "id": "9CAxX8Whfjj8",
      "execution_count": 193,
      "outputs": []
    },
    {
      "cell_type": "code",
      "source": [
        "sns.heatmap(conf, annot = True, cmap = \"RdBu\")"
      ],
      "metadata": {
        "colab": {
          "base_uri": "https://localhost:8080/",
          "height": 448
        },
        "id": "nnhAvk69fpT5",
        "outputId": "8594e86a-6072-4915-f8fa-f397c80e8aeb"
      },
      "id": "nnhAvk69fpT5",
      "execution_count": 194,
      "outputs": [
        {
          "output_type": "execute_result",
          "data": {
            "text/plain": [
              "<Axes: >"
            ]
          },
          "metadata": {},
          "execution_count": 194
        },
        {
          "output_type": "display_data",
          "data": {
            "text/plain": [
              "<Figure size 640x480 with 2 Axes>"
            ],
            "image/png": "[encoded data removed]"
          },
          "metadata": {}
        }
      ]
    },
    {
      "cell_type": "markdown",
      "source": [
        "### Column Gathering"
      ],
      "metadata": {
        "id": "BZu2osxFTdT6"
      },
      "id": "BZu2osxFTdT6"
    },
    {
      "cell_type": "code",
      "source": [
        "from collections import Counter\n",
        "col_dict = dict(Counter(my_dt.col_names))"
      ],
      "metadata": {
        "id": "blUOE7KTTT0b"
      },
      "id": "blUOE7KTTT0b",
      "execution_count": 85,
      "outputs": []
    },
    {
      "cell_type": "code",
      "source": [
        "col_df = pd.DataFrame({\"variable\": list(col_dict.keys()), \"frequency\": list(col_dict.values())})"
      ],
      "metadata": {
        "id": "emb8Z2VATSnk"
      },
      "id": "emb8Z2VATSnk",
      "execution_count": 86,
      "outputs": []
    },
    {
      "cell_type": "code",
      "source": [
        "col_df = col_df[col_df[\"variable\"] != \"\"]"
      ],
      "metadata": {
        "id": "n1MxYEW-Tjfz"
      },
      "id": "n1MxYEW-Tjfz",
      "execution_count": 87,
      "outputs": []
    },
    {
      "cell_type": "code",
      "source": [
        "col_df"
      ],
      "metadata": {
        "colab": {
          "base_uri": "https://localhost:8080/",
          "height": 614
        },
        "id": "NNZAauQaUHPN",
        "outputId": "378da878-41a2-4d8d-c985-c6cbdec05ae4"
      },
      "id": "NNZAauQaUHPN",
      "execution_count": 88,
      "outputs": [
        {
          "output_type": "execute_result",
          "data": {
            "text/plain": [
              "                                       variable  frequency\n",
              "0   marital_relation_married-civ-spouse_husband          3\n",
              "1                                 education_new         19\n",
              "2                           capital_gain_scaled         39\n",
              "3                    workclass_self-emp-not-inc         12\n",
              "4                           capital_loss_scaled         34\n",
              "5                                   workclass_?          5\n",
              "6                         hours_per_week_scaled         20\n",
              "7                    occupation_exec-managerial         13\n",
              "8                                 fnlwgt_scaled         32\n",
              "9                                    age_scaled         10\n",
              "11                          workclass_local-gov         19\n",
              "12                            workclass_private         10\n",
              "13                    occupation_prof-specialty          6\n",
              "14                       workclass_self-emp-inc         15\n",
              "15                     occupation_other-service          9\n",
              "16                      occupation_tech-support         15\n",
              "17                 occupation_machine-op-inspct          7\n",
              "18                        workclass_federal-gov          4"
            ],
            "text/html": [
              "\n",
              "  <div id=\"df-f4bf391c-7c53-4e60-9c02-d18d3d622322\">\n",
              "    <div class=\"colab-df-container\">\n",
              "      <div>\n",
              "<style scoped>\n",
              "    .dataframe tbody tr th:only-of-type {\n",
              "        vertical-align: middle;\n",
              "    }\n",
              "\n",
              "    .dataframe tbody tr th {\n",
              "        vertical-align: top;\n",
              "    }\n",
              "\n",
              "    .dataframe thead th {\n",
              "        text-align: right;\n",
              "    }\n",
              "</style>\n",
              "<table border=\"1\" class=\"dataframe\">\n",
              "  <thead>\n",
              "    <tr style=\"text-align: right;\">\n",
              "      <th></th>\n",
              "      <th>variable</th>\n",
              "      <th>frequency</th>\n",
              "    </tr>\n",
              "  </thead>\n",
              "  <tbody>\n",
              "    <tr>\n",
              "      <th>0</th>\n",
              "      <td>marital_relation_married-civ-spouse_husband</td>\n",
              "      <td>3</td>\n",
              "    </tr>\n",
              "    <tr>\n",
              "      <th>1</th>\n",
              "      <td>education_new</td>\n",
              "      <td>19</td>\n",
              "    </tr>\n",
              "    <tr>\n",
              "      <th>2</th>\n",
              "      <td>capital_gain_scaled</td>\n",
              "      <td>39</td>\n",
              "    </tr>\n",
              "    <tr>\n",
              "      <th>3</th>\n",
              "      <td>workclass_self-emp-not-inc</td>\n",
              "      <td>12</td>\n",
              "    </tr>\n",
              "    <tr>\n",
              "      <th>4</th>\n",
              "      <td>capital_loss_scaled</td>\n",
              "      <td>34</td>\n",
              "    </tr>\n",
              "    <tr>\n",
              "      <th>5</th>\n",
              "      <td>workclass_?</td>\n",
              "      <td>5</td>\n",
              "    </tr>\n",
              "    <tr>\n",
              "      <th>6</th>\n",
              "      <td>hours_per_week_scaled</td>\n",
              "      <td>20</td>\n",
              "    </tr>\n",
              "    <tr>\n",
              "      <th>7</th>\n",
              "      <td>occupation_exec-managerial</td>\n",
              "      <td>13</td>\n",
              "    </tr>\n",
              "    <tr>\n",
              "      <th>8</th>\n",
              "      <td>fnlwgt_scaled</td>\n",
              "      <td>32</td>\n",
              "    </tr>\n",
              "    <tr>\n",
              "      <th>9</th>\n",
              "      <td>age_scaled</td>\n",
              "      <td>10</td>\n",
              "    </tr>\n",
              "    <tr>\n",
              "      <th>11</th>\n",
              "      <td>workclass_local-gov</td>\n",
              "      <td>19</td>\n",
              "    </tr>\n",
              "    <tr>\n",
              "      <th>12</th>\n",
              "      <td>workclass_private</td>\n",
              "      <td>10</td>\n",
              "    </tr>\n",
              "    <tr>\n",
              "      <th>13</th>\n",
              "      <td>occupation_prof-specialty</td>\n",
              "      <td>6</td>\n",
              "    </tr>\n",
              "    <tr>\n",
              "      <th>14</th>\n",
              "      <td>workclass_self-emp-inc</td>\n",
              "      <td>15</td>\n",
              "    </tr>\n",
              "    <tr>\n",
              "      <th>15</th>\n",
              "      <td>occupation_other-service</td>\n",
              "      <td>9</td>\n",
              "    </tr>\n",
              "    <tr>\n",
              "      <th>16</th>\n",
              "      <td>occupation_tech-support</td>\n",
              "      <td>15</td>\n",
              "    </tr>\n",
              "    <tr>\n",
              "      <th>17</th>\n",
              "      <td>occupation_machine-op-inspct</td>\n",
              "      <td>7</td>\n",
              "    </tr>\n",
              "    <tr>\n",
              "      <th>18</th>\n",
              "      <td>workclass_federal-gov</td>\n",
              "      <td>4</td>\n",
              "    </tr>\n",
              "  </tbody>\n",
              "</table>\n",
              "</div>\n",
              "      <button class=\"colab-df-convert\" onclick=\"convertToInteractive('df-f4bf391c-7c53-4e60-9c02-d18d3d622322')\"\n",
              "              title=\"Convert this dataframe to an interactive table.\"\n",
              "              style=\"display:none;\">\n",
              "        \n",
              "  <svg xmlns=\"http://www.w3.org/2000/svg\" height=\"24px\"viewBox=\"0 0 24 24\"\n",
              "       width=\"24px\">\n",
              "    <path d=\"M0 0h24v24H0V0z\" fill=\"none\"/>\n",
              "    <path d=\"M18.56 5.44l.94 2.06.94-2.06 2.06-.94-2.06-.94-.94-2.06-.94 2.06-2.06.94zm-11 1L8.5 8.5l.94-2.06 2.06-.94-2.06-.94L8.5 2.5l-.94 2.06-2.06.94zm10 10l.94 2.06.94-2.06 2.06-.94-2.06-.94-.94-2.06-.94 2.06-2.06.94z\"/><path d=\"M17.41 7.96l-1.37-1.37c-.4-.4-.92-.59-1.43-.59-.52 0-1.04.2-1.43.59L10.3 9.45l-7.72 7.72c-.78.78-.78 2.05 0 2.83L4 21.41c.39.39.9.59 1.41.59.51 0 1.02-.2 1.41-.59l7.78-7.78 2.81-2.81c.8-.78.8-2.07 0-2.86zM5.41 20L4 18.59l7.72-7.72 1.47 1.35L5.41 20z\"/>\n",
              "  </svg>\n",
              "      </button>\n",
              "      \n",
              "  <style>\n",
              "    .colab-df-container {\n",
              "      display:flex;\n",
              "      flex-wrap:wrap;\n",
              "      gap: 12px;\n",
              "    }\n",
              "\n",
              "    .colab-df-convert {\n",
              "      background-color: #E8F0FE;\n",
              "      border: none;\n",
              "      border-radius: 50%;\n",
              "      cursor: pointer;\n",
              "      display: none;\n",
              "      fill: #1967D2;\n",
              "      height: 32px;\n",
              "      padding: 0 0 0 0;\n",
              "      width: 32px;\n",
              "    }\n",
              "\n",
              "    .colab-df-convert:hover {\n",
              "      background-color: #E2EBFA;\n",
              "      box-shadow: 0px 1px 2px rgba(60, 64, 67, 0.3), 0px 1px 3px 1px rgba(60, 64, 67, 0.15);\n",
              "      fill: #174EA6;\n",
              "    }\n",
              "\n",
              "    [theme=dark] .colab-df-convert {\n",
              "      background-color: #3B4455;\n",
              "      fill: #D2E3FC;\n",
              "    }\n",
              "\n",
              "    [theme=dark] .colab-df-convert:hover {\n",
              "      background-color: #434B5C;\n",
              "      box-shadow: 0px 1px 3px 1px rgba(0, 0, 0, 0.15);\n",
              "      filter: drop-shadow(0px 1px 2px rgba(0, 0, 0, 0.3));\n",
              "      fill: #FFFFFF;\n",
              "    }\n",
              "  </style>\n",
              "\n",
              "      <script>\n",
              "        const buttonEl =\n",
              "          document.querySelector('#df-f4bf391c-7c53-4e60-9c02-d18d3d622322 button.colab-df-convert');\n",
              "        buttonEl.style.display =\n",
              "          google.colab.kernel.accessAllowed ? 'block' : 'none';\n",
              "\n",
              "        async function convertToInteractive(key) {\n",
              "          const element = document.querySelector('#df-f4bf391c-7c53-4e60-9c02-d18d3d622322');\n",
              "          const dataTable =\n",
              "            await google.colab.kernel.invokeFunction('convertToInteractive',\n",
              "                                                     [key], {});\n",
              "          if (!dataTable) return;\n",
              "\n",
              "          const docLinkHtml = 'Like what you see? Visit the ' +\n",
              "            '<a target=\"_blank\" href=https://colab.research.google.com/notebooks/data_table.ipynb>data table notebook</a>'\n",
              "            + ' to learn more about interactive tables.';\n",
              "          element.innerHTML = '';\n",
              "          dataTable['output_type'] = 'display_data';\n",
              "          await google.colab.output.renderOutput(dataTable, element);\n",
              "          const docLink = document.createElement('div');\n",
              "          docLink.innerHTML = docLinkHtml;\n",
              "          element.appendChild(docLink);\n",
              "        }\n",
              "      </script>\n",
              "    </div>\n",
              "  </div>\n",
              "  "
            ]
          },
          "metadata": {},
          "execution_count": 88
        }
      ]
    },
    {
      "cell_type": "code",
      "source": [],
      "metadata": {
        "id": "iiYcAQcnUIkC"
      },
      "id": "iiYcAQcnUIkC",
      "execution_count": null,
      "outputs": []
    }
  ],
  "metadata": {
    "kernelspec": {
      "display_name": "Python 3 (ipykernel)",
      "language": "python",
      "name": "python3"
    },
    "language_info": {
      "codemirror_mode": {
        "name": "ipython",
        "version": 3
      },
      "file_extension": ".py",
      "mimetype": "text/x-python",
      "name": "python",
      "nbconvert_exporter": "python",
      "pygments_lexer": "ipython3",
      "version": "3.9.12"
    },
    "colab": {
      "provenance": [],
      "machine_shape": "hm",
      "include_colab_link": true
    },
    "accelerator": "GPU",
    "gpuClass": "premium"
  },
  "nbformat": 4,
  "nbformat_minor": 5
}