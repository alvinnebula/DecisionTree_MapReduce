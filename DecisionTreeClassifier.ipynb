{
  "cells": [
    {
      "cell_type": "code",
      "execution_count": 1,
      "id": "93ecd07b",
      "metadata": {
        "id": "93ecd07b"
      },
      "outputs": [],
      "source": [
        "import pandas as pd\n",
        "import numpy as np\n",
        "\n",
        "from sklearn.compose import ColumnTransformer\n",
        "from sklearn.model_selection import GridSearchCV, train_test_split\n",
        "from sklearn.preprocessing import LabelEncoder, OrdinalEncoder, MinMaxScaler, Normalizer, OneHotEncoder"
      ]
    },
    {
      "cell_type": "code",
      "source": [
        "!pip install  pyjanitor"
      ],
      "metadata": {
        "colab": {
          "base_uri": "https://localhost:8080/"
        },
        "id": "B_XcCogDIO_M",
        "outputId": "3820a7d3-b41c-4ca3-d147-ff93f6d5b7b0"
      },
      "id": "B_XcCogDIO_M",
      "execution_count": 2,
      "outputs": [
        {
          "output_type": "stream",
          "name": "stdout",
          "text": [
            "Looking in indexes: https://pypi.org/simple, https://us-python.pkg.dev/colab-wheels/public/simple/\n",
            "Collecting pyjanitor\n",
            "  Downloading pyjanitor-0.24.0-py3-none-any.whl (158 kB)\n",
            "\u001b[2K     \u001b[90m━━━━━━━━━━━━━━━━━━━━━━━━━━━━━━━━━━━━━━━\u001b[0m \u001b[32m158.4/158.4 KB\u001b[0m \u001b[31m3.6 MB/s\u001b[0m eta \u001b[36m0:00:00\u001b[0m\n",
            "\u001b[?25hRequirement already satisfied: natsort in /usr/local/lib/python3.9/dist-packages (from pyjanitor) (8.3.1)\n",
            "Requirement already satisfied: multipledispatch in /usr/local/lib/python3.9/dist-packages (from pyjanitor) (0.6.0)\n",
            "Requirement already satisfied: scipy in /usr/local/lib/python3.9/dist-packages (from pyjanitor) (1.10.1)\n",
            "Collecting pandas-flavor\n",
            "  Downloading pandas_flavor-0.5.0-py3-none-any.whl (7.1 kB)\n",
            "Requirement already satisfied: lazy-loader in /usr/local/lib/python3.9/dist-packages (from pyjanitor) (0.2)\n",
            "Requirement already satisfied: six in /usr/local/lib/python3.9/dist-packages (from multipledispatch->pyjanitor) (1.16.0)\n",
            "Requirement already satisfied: pandas>=0.23 in /usr/local/lib/python3.9/dist-packages (from pandas-flavor->pyjanitor) (1.4.4)\n",
            "Requirement already satisfied: xarray in /usr/local/lib/python3.9/dist-packages (from pandas-flavor->pyjanitor) (2022.12.0)\n",
            "Requirement already satisfied: numpy<1.27.0,>=1.19.5 in /usr/local/lib/python3.9/dist-packages (from scipy->pyjanitor) (1.22.4)\n",
            "Requirement already satisfied: pytz>=2020.1 in /usr/local/lib/python3.9/dist-packages (from pandas>=0.23->pandas-flavor->pyjanitor) (2022.7.1)\n",
            "Requirement already satisfied: python-dateutil>=2.8.1 in /usr/local/lib/python3.9/dist-packages (from pandas>=0.23->pandas-flavor->pyjanitor) (2.8.2)\n",
            "Requirement already satisfied: packaging>=21.3 in /usr/local/lib/python3.9/dist-packages (from xarray->pandas-flavor->pyjanitor) (23.0)\n",
            "Installing collected packages: pandas-flavor, pyjanitor\n",
            "Successfully installed pandas-flavor-0.5.0 pyjanitor-0.24.0\n"
          ]
        }
      ]
    },
    {
      "cell_type": "code",
      "source": [
        "import janitor"
      ],
      "metadata": {
        "id": "EzyKbtjslCos"
      },
      "id": "EzyKbtjslCos",
      "execution_count": 3,
      "outputs": []
    },
    {
      "cell_type": "code",
      "source": [
        "from google.colab import drive\n",
        "import os"
      ],
      "metadata": {
        "id": "ZriXpqcmXtTu",
        "colab": {
          "base_uri": "https://localhost:8080/"
        },
        "outputId": "2d25e260-3ac9-421f-c0cc-07eabf744244"
      },
      "id": "ZriXpqcmXtTu",
      "execution_count": 4,
      "outputs": [
        {
          "output_type": "stream",
          "name": "stderr",
          "text": [
            "/usr/local/lib/python3.9/dist-packages/ipykernel/ipkernel.py:283: DeprecationWarning: `should_run_async` will not call `transform_cell` automatically in the future. Please pass the result to `transformed_cell` argument and any exception that happen during thetransform in `preprocessing_exc_tuple` in IPython 7.17 and above.\n",
            "  and should_run_async(code)\n"
          ]
        }
      ]
    },
    {
      "cell_type": "code",
      "source": [
        "drive.mount('/content/drive')\n",
        "cur_path = \"/content/drive/MyDrive/Big Data/Project\"\n",
        "os.chdir(cur_path)"
      ],
      "metadata": {
        "colab": {
          "base_uri": "https://localhost:8080/"
        },
        "id": "n7aeIdJHXvib",
        "outputId": "8890bc72-27fc-4ec2-9b74-af5d0081293a"
      },
      "id": "n7aeIdJHXvib",
      "execution_count": 5,
      "outputs": [
        {
          "output_type": "stream",
          "name": "stderr",
          "text": [
            "/usr/local/lib/python3.9/dist-packages/ipykernel/ipkernel.py:283: DeprecationWarning: `should_run_async` will not call `transform_cell` automatically in the future. Please pass the result to `transformed_cell` argument and any exception that happen during thetransform in `preprocessing_exc_tuple` in IPython 7.17 and above.\n",
            "  and should_run_async(code)\n"
          ]
        },
        {
          "output_type": "stream",
          "name": "stdout",
          "text": [
            "Mounted at /content/drive\n"
          ]
        }
      ]
    },
    {
      "cell_type": "code",
      "execution_count": 6,
      "id": "b601a9f3",
      "metadata": {
        "id": "b601a9f3",
        "colab": {
          "base_uri": "https://localhost:8080/"
        },
        "outputId": "2c90fa98-e011-438c-87d5-7658c2cd46e3"
      },
      "outputs": [
        {
          "output_type": "stream",
          "name": "stderr",
          "text": [
            "/usr/local/lib/python3.9/dist-packages/ipykernel/ipkernel.py:283: DeprecationWarning: `should_run_async` will not call `transform_cell` automatically in the future. Please pass the result to `transformed_cell` argument and any exception that happen during thetransform in `preprocessing_exc_tuple` in IPython 7.17 and above.\n",
            "  and should_run_async(code)\n"
          ]
        }
      ],
      "source": [
        "df = pd.read_csv(\"adult.csv\").clean_names()"
      ]
    },
    {
      "cell_type": "code",
      "execution_count": 7,
      "id": "680ba872",
      "metadata": {
        "id": "680ba872",
        "colab": {
          "base_uri": "https://localhost:8080/"
        },
        "outputId": "fcbfed78-90f0-4e48-d28e-6b1a77275945"
      },
      "outputs": [
        {
          "output_type": "stream",
          "name": "stderr",
          "text": [
            "/usr/local/lib/python3.9/dist-packages/ipykernel/ipkernel.py:283: DeprecationWarning: `should_run_async` will not call `transform_cell` automatically in the future. Please pass the result to `transformed_cell` argument and any exception that happen during thetransform in `preprocessing_exc_tuple` in IPython 7.17 and above.\n",
            "  and should_run_async(code)\n"
          ]
        }
      ],
      "source": [
        "from pandas.api.types import is_string_dtype\n",
        "from pandas.api.types import is_numeric_dtype\n",
        "from pandas.api.types import is_categorical_dtype"
      ]
    },
    {
      "cell_type": "code",
      "execution_count": 8,
      "id": "152790b0",
      "metadata": {
        "colab": {
          "base_uri": "https://localhost:8080/"
        },
        "id": "152790b0",
        "outputId": "8f8d2c74-b3b9-418d-878c-008833c3e1c2"
      },
      "outputs": [
        {
          "output_type": "stream",
          "name": "stderr",
          "text": [
            "/usr/local/lib/python3.9/dist-packages/ipykernel/ipkernel.py:283: DeprecationWarning: `should_run_async` will not call `transform_cell` automatically in the future. Please pass the result to `transformed_cell` argument and any exception that happen during thetransform in `preprocessing_exc_tuple` in IPython 7.17 and above.\n",
            "  and should_run_async(code)\n"
          ]
        }
      ],
      "source": [
        "df[\"marital_relation\"] = df[\"marital_status\"] + \"_\" + df[\"relationship\"]\n",
        "df = df.drop([\"sex\",\"race\",\"education_num\", \"native_country\", \"marital_status\",\"relationship\"], axis = 1)"
      ]
    },
    {
      "cell_type": "code",
      "execution_count": 9,
      "id": "13cc594d",
      "metadata": {
        "id": "13cc594d",
        "colab": {
          "base_uri": "https://localhost:8080/"
        },
        "outputId": "74d2c917-25f0-4ee3-b511-ed7cb7e1ae12"
      },
      "outputs": [
        {
          "output_type": "stream",
          "name": "stdout",
          "text": [
            "<class 'pandas.core.frame.DataFrame'>\n",
            "RangeIndex: 32561 entries, 0 to 32560\n",
            "Data columns (total 10 columns):\n",
            " #   Column            Non-Null Count  Dtype \n",
            "---  ------            --------------  ----- \n",
            " 0   age               32561 non-null  int64 \n",
            " 1   workclass         32561 non-null  object\n",
            " 2   fnlwgt            32561 non-null  int64 \n",
            " 3   education         32561 non-null  object\n",
            " 4   occupation        32561 non-null  object\n",
            " 5   capital_gain      32561 non-null  int64 \n",
            " 6   capital_loss      32561 non-null  int64 \n",
            " 7   hours_per_week    32561 non-null  int64 \n",
            " 8   income            32561 non-null  object\n",
            " 9   marital_relation  32561 non-null  object\n",
            "dtypes: int64(5), object(5)\n",
            "memory usage: 2.5+ MB\n"
          ]
        },
        {
          "output_type": "stream",
          "name": "stderr",
          "text": [
            "/usr/local/lib/python3.9/dist-packages/ipykernel/ipkernel.py:283: DeprecationWarning: `should_run_async` will not call `transform_cell` automatically in the future. Please pass the result to `transformed_cell` argument and any exception that happen during thetransform in `preprocessing_exc_tuple` in IPython 7.17 and above.\n",
            "  and should_run_async(code)\n"
          ]
        }
      ],
      "source": [
        "df.info()"
      ]
    },
    {
      "cell_type": "code",
      "execution_count": 10,
      "id": "b731f3c7",
      "metadata": {
        "colab": {
          "base_uri": "https://localhost:8080/"
        },
        "id": "b731f3c7",
        "outputId": "5972c041-a736-4a24-ed87-0d3398a42003"
      },
      "outputs": [
        {
          "output_type": "stream",
          "name": "stderr",
          "text": [
            "/usr/local/lib/python3.9/dist-packages/ipykernel/ipkernel.py:283: DeprecationWarning: `should_run_async` will not call `transform_cell` automatically in the future. Please pass the result to `transformed_cell` argument and any exception that happen during thetransform in `preprocessing_exc_tuple` in IPython 7.17 and above.\n",
            "  and should_run_async(code)\n"
          ]
        }
      ],
      "source": [
        "df[\"income\"] = df[\"income\"].replace([\"<=50K\",\">50K\"], [0,1])"
      ]
    },
    {
      "cell_type": "code",
      "execution_count": 12,
      "id": "8ea682a2",
      "metadata": {
        "colab": {
          "base_uri": "https://localhost:8080/"
        },
        "id": "8ea682a2",
        "outputId": "d669c8bd-3ac7-4e5e-a15c-c0d47a0e7a74"
      },
      "outputs": [
        {
          "output_type": "stream",
          "name": "stderr",
          "text": [
            "/usr/local/lib/python3.9/dist-packages/ipykernel/ipkernel.py:283: DeprecationWarning: `should_run_async` will not call `transform_cell` automatically in the future. Please pass the result to `transformed_cell` argument and any exception that happen during thetransform in `preprocessing_exc_tuple` in IPython 7.17 and above.\n",
            "  and should_run_async(code)\n"
          ]
        }
      ],
      "source": [
        "train, test = train_test_split(df, random_state = 200, train_size = 0.8, stratify = df[\"income\"])"
      ]
    },
    {
      "cell_type": "code",
      "execution_count": 13,
      "id": "0c0c83d9",
      "metadata": {
        "colab": {
          "base_uri": "https://localhost:8080/"
        },
        "id": "0c0c83d9",
        "outputId": "acd6f37f-696d-48f7-960b-5d7736aca049"
      },
      "outputs": [
        {
          "output_type": "stream",
          "name": "stderr",
          "text": [
            "/usr/local/lib/python3.9/dist-packages/ipykernel/ipkernel.py:283: DeprecationWarning: `should_run_async` will not call `transform_cell` automatically in the future. Please pass the result to `transformed_cell` argument and any exception that happen during thetransform in `preprocessing_exc_tuple` in IPython 7.17 and above.\n",
            "  and should_run_async(code)\n"
          ]
        }
      ],
      "source": [
        "train_0 = train[train[\"income\"] == 0]\n",
        "train_0 = train_0.drop_duplicates()\n",
        "train_1 = train[train[\"income\"] == 1]"
      ]
    },
    {
      "cell_type": "code",
      "execution_count": 14,
      "id": "c2e3e27e",
      "metadata": {
        "colab": {
          "base_uri": "https://localhost:8080/"
        },
        "id": "c2e3e27e",
        "outputId": "0f31521a-efb4-4828-a588-a27ba945cac3"
      },
      "outputs": [
        {
          "output_type": "stream",
          "name": "stderr",
          "text": [
            "/usr/local/lib/python3.9/dist-packages/ipykernel/ipkernel.py:283: DeprecationWarning: `should_run_async` will not call `transform_cell` automatically in the future. Please pass the result to `transformed_cell` argument and any exception that happen during thetransform in `preprocessing_exc_tuple` in IPython 7.17 and above.\n",
            "  and should_run_async(code)\n"
          ]
        }
      ],
      "source": [
        "train_new = pd.concat([train_0, train_1], axis = 0)"
      ]
    },
    {
      "cell_type": "code",
      "execution_count": 15,
      "id": "8ead18e8",
      "metadata": {
        "colab": {
          "base_uri": "https://localhost:8080/"
        },
        "id": "8ead18e8",
        "outputId": "18028741-c85e-4415-94db-60b29d78947b"
      },
      "outputs": [
        {
          "output_type": "stream",
          "name": "stderr",
          "text": [
            "/usr/local/lib/python3.9/dist-packages/ipykernel/ipkernel.py:283: DeprecationWarning: `should_run_async` will not call `transform_cell` automatically in the future. Please pass the result to `transformed_cell` argument and any exception that happen during thetransform in `preprocessing_exc_tuple` in IPython 7.17 and above.\n",
            "  and should_run_async(code)\n"
          ]
        }
      ],
      "source": [
        "x_train, y_train = train_new.drop(\"income\", axis = 1), train_new[\"income\"]\n",
        "x_test, y_test = test.drop(\"income\", axis = 1), test[\"income\"]"
      ]
    },
    {
      "cell_type": "code",
      "execution_count": 16,
      "id": "14947eaa",
      "metadata": {
        "colab": {
          "base_uri": "https://localhost:8080/"
        },
        "id": "14947eaa",
        "outputId": "9fb05747-98d9-4972-d131-7487ede76764"
      },
      "outputs": [
        {
          "output_type": "stream",
          "name": "stderr",
          "text": [
            "/usr/local/lib/python3.9/dist-packages/ipykernel/ipkernel.py:283: DeprecationWarning: `should_run_async` will not call `transform_cell` automatically in the future. Please pass the result to `transformed_cell` argument and any exception that happen during thetransform in `preprocessing_exc_tuple` in IPython 7.17 and above.\n",
            "  and should_run_async(code)\n"
          ]
        }
      ],
      "source": [
        "num = []\n",
        "cat = []\n",
        "stri = []\n",
        "columns = list(x_train.columns)\n",
        "for col in columns:\n",
        "    if is_numeric_dtype(x_train[col]):\n",
        "        num.append(col)\n",
        "    elif is_string_dtype(x_train[col]):\n",
        "        stri.append(col)\n",
        "    elif is_categorical_dtype(x_train[col]):\n",
        "        cat.append(col)"
      ]
    },
    {
      "cell_type": "code",
      "execution_count": 17,
      "id": "b1ff4ac2",
      "metadata": {
        "colab": {
          "base_uri": "https://localhost:8080/"
        },
        "id": "b1ff4ac2",
        "outputId": "d2db88f5-516e-4da2-bd6e-fb57c3852cd4"
      },
      "outputs": [
        {
          "output_type": "stream",
          "name": "stderr",
          "text": [
            "/usr/local/lib/python3.9/dist-packages/ipykernel/ipkernel.py:283: DeprecationWarning: `should_run_async` will not call `transform_cell` automatically in the future. Please pass the result to `transformed_cell` argument and any exception that happen during thetransform in `preprocessing_exc_tuple` in IPython 7.17 and above.\n",
            "  and should_run_async(code)\n"
          ]
        },
        {
          "output_type": "execute_result",
          "data": {
            "text/plain": [
              "(['age', 'fnlwgt', 'capital_gain', 'capital_loss', 'hours_per_week'],\n",
              " ['workclass', 'education', 'occupation', 'marital_relation'],\n",
              " [])"
            ]
          },
          "metadata": {},
          "execution_count": 17
        }
      ],
      "source": [
        "num, stri, cat"
      ]
    },
    {
      "cell_type": "code",
      "execution_count": 18,
      "id": "281c0b68",
      "metadata": {
        "colab": {
          "base_uri": "https://localhost:8080/"
        },
        "id": "281c0b68",
        "outputId": "31b7a743-3273-4853-b87f-3298fa920573"
      },
      "outputs": [
        {
          "output_type": "stream",
          "name": "stderr",
          "text": [
            "/usr/local/lib/python3.9/dist-packages/ipykernel/ipkernel.py:283: DeprecationWarning: `should_run_async` will not call `transform_cell` automatically in the future. Please pass the result to `transformed_cell` argument and any exception that happen during thetransform in `preprocessing_exc_tuple` in IPython 7.17 and above.\n",
            "  and should_run_async(code)\n"
          ]
        },
        {
          "output_type": "execute_result",
          "data": {
            "text/plain": [
              "array(['HS-grad', 'Some-college', '7th-8th', '10th', 'Doctorate',\n",
              "       'Prof-school', 'Bachelors', 'Masters', '11th', 'Assoc-acdm',\n",
              "       'Assoc-voc', '1st-4th', '5th-6th', '12th', '9th', 'Preschool'],\n",
              "      dtype=object)"
            ]
          },
          "metadata": {},
          "execution_count": 18
        }
      ],
      "source": [
        "df[\"education\"].unique()"
      ]
    },
    {
      "cell_type": "code",
      "source": [
        "educ = [\"education\"]"
      ],
      "metadata": {
        "colab": {
          "base_uri": "https://localhost:8080/"
        },
        "id": "qFnlR1fhYbrN",
        "outputId": "b0a35ef6-bc82-4fe6-92e2-4be9600148b0"
      },
      "id": "qFnlR1fhYbrN",
      "execution_count": 19,
      "outputs": [
        {
          "output_type": "stream",
          "name": "stderr",
          "text": [
            "/usr/local/lib/python3.9/dist-packages/ipykernel/ipkernel.py:283: DeprecationWarning: `should_run_async` will not call `transform_cell` automatically in the future. Please pass the result to `transformed_cell` argument and any exception that happen during thetransform in `preprocessing_exc_tuple` in IPython 7.17 and above.\n",
            "  and should_run_async(code)\n"
          ]
        }
      ]
    },
    {
      "cell_type": "code",
      "execution_count": 20,
      "id": "d8e738a0",
      "metadata": {
        "colab": {
          "base_uri": "https://localhost:8080/"
        },
        "id": "d8e738a0",
        "outputId": "f6eaa00e-b836-427b-d480-3256298e61dd"
      },
      "outputs": [
        {
          "output_type": "stream",
          "name": "stderr",
          "text": [
            "/usr/local/lib/python3.9/dist-packages/ipykernel/ipkernel.py:283: DeprecationWarning: `should_run_async` will not call `transform_cell` automatically in the future. Please pass the result to `transformed_cell` argument and any exception that happen during thetransform in `preprocessing_exc_tuple` in IPython 7.17 and above.\n",
            "  and should_run_async(code)\n"
          ]
        },
        {
          "output_type": "execute_result",
          "data": {
            "text/plain": [
              "(['age', 'fnlwgt', 'capital_gain', 'capital_loss', 'hours_per_week'],\n",
              " ['workclass', 'occupation', 'marital_relation'],\n",
              " [])"
            ]
          },
          "metadata": {},
          "execution_count": 20
        }
      ],
      "source": [
        "stri.remove(\"education\")\n",
        "num, stri, cat"
      ]
    },
    {
      "cell_type": "code",
      "execution_count": 21,
      "id": "51a8bbfb",
      "metadata": {
        "colab": {
          "base_uri": "https://localhost:8080/"
        },
        "id": "51a8bbfb",
        "outputId": "716dbbe1-b08e-422e-99d3-ccf3e6f40f62"
      },
      "outputs": [
        {
          "output_type": "stream",
          "name": "stderr",
          "text": [
            "/usr/local/lib/python3.9/dist-packages/ipykernel/ipkernel.py:283: DeprecationWarning: `should_run_async` will not call `transform_cell` automatically in the future. Please pass the result to `transformed_cell` argument and any exception that happen during thetransform in `preprocessing_exc_tuple` in IPython 7.17 and above.\n",
            "  and should_run_async(code)\n"
          ]
        }
      ],
      "source": [
        "min_max = MinMaxScaler()\n",
        "ohe = OneHotEncoder()\n",
        "ordi = OrdinalEncoder(categories = [[\"Preschool\", \"1st-4th\",\"5th-6th\", \"7th-8th\", \"9th\", \"10th\", \n",
        "                                            \"11th\", \"12th\", \"HS-grad\", \"Some-college\",\n",
        "                                            \"Assoc-voc\",\"Assoc-acdm\",\"Bachelors\", \"Masters\",\"Prof-school\",\"Doctorate\"]])"
      ]
    },
    {
      "cell_type": "code",
      "execution_count": 22,
      "id": "4f296f85",
      "metadata": {
        "colab": {
          "base_uri": "https://localhost:8080/"
        },
        "id": "4f296f85",
        "outputId": "e3230ab5-98ac-4a88-eec6-33d31e9d0674"
      },
      "outputs": [
        {
          "output_type": "stream",
          "name": "stderr",
          "text": [
            "/usr/local/lib/python3.9/dist-packages/ipykernel/ipkernel.py:283: DeprecationWarning: `should_run_async` will not call `transform_cell` automatically in the future. Please pass the result to `transformed_cell` argument and any exception that happen during thetransform in `preprocessing_exc_tuple` in IPython 7.17 and above.\n",
            "  and should_run_async(code)\n"
          ]
        }
      ],
      "source": [
        "def column_transform(df, columns):\n",
        "    new_df = df.copy()\n",
        "    for col in columns:\n",
        "        if col in num:\n",
        "            ct = ColumnTransformer([(\"min_max\", min_max, [col])])\n",
        "            new_df[col + \"_scaled\"] = ct.fit_transform(df)\n",
        "            continue\n",
        "        elif col in stri:\n",
        "            elements = sorted(df[col].unique())\n",
        "            ct2 = ColumnTransformer([(\"ohe\", ohe, [col])])\n",
        "            if len(elements) > 2:\n",
        "                x = ct2.fit_transform(df).toarray()\n",
        "            elif len(elements) <= 2:\n",
        "                x = np.array(ct2.fit_transform(df))\n",
        "            for i in range(len(elements)):\n",
        "                new_df[col + \"_\" + elements[i].lower()] = x[:,i]\n",
        "        elif col in educ:\n",
        "            ct3 = ColumnTransformer([(\"ord\", ordi, [col])])\n",
        "            x = ct3.fit_transform(df)\n",
        "            new_df[col + \"_new\"] = x\n",
        "            continue\n",
        "    new_df = new_df.drop(columns, axis = 1)\n",
        "    return new_df"
      ]
    },
    {
      "cell_type": "code",
      "execution_count": 23,
      "id": "146a7d14",
      "metadata": {
        "colab": {
          "base_uri": "https://localhost:8080/"
        },
        "id": "146a7d14",
        "outputId": "eb1f0d62-cc8b-4837-afc1-a8eae7c2b939"
      },
      "outputs": [
        {
          "output_type": "stream",
          "name": "stderr",
          "text": [
            "/usr/local/lib/python3.9/dist-packages/ipykernel/ipkernel.py:283: DeprecationWarning: `should_run_async` will not call `transform_cell` automatically in the future. Please pass the result to `transformed_cell` argument and any exception that happen during thetransform in `preprocessing_exc_tuple` in IPython 7.17 and above.\n",
            "  and should_run_async(code)\n"
          ]
        }
      ],
      "source": [
        "new_train_data = column_transform(x_train, list(x_train.columns))"
      ]
    },
    {
      "cell_type": "code",
      "source": [
        "new_train_data[\"income\"] = train_new[\"income\"]\n",
        "\n",
        "#new_train_data['education_new']\n",
        "# 'age', 'fnlwgt', 'capital_gain', 'capital_loss', 'hours_per_week'"
      ],
      "metadata": {
        "colab": {
          "base_uri": "https://localhost:8080/"
        },
        "id": "2t4axO6nRmRG",
        "outputId": "20119020-f7b6-4f73-9c34-75f00c014be3"
      },
      "id": "2t4axO6nRmRG",
      "execution_count": 24,
      "outputs": [
        {
          "output_type": "stream",
          "name": "stderr",
          "text": [
            "/usr/local/lib/python3.9/dist-packages/ipykernel/ipkernel.py:283: DeprecationWarning: `should_run_async` will not call `transform_cell` automatically in the future. Please pass the result to `transformed_cell` argument and any exception that happen during thetransform in `preprocessing_exc_tuple` in IPython 7.17 and above.\n",
            "  and should_run_async(code)\n"
          ]
        }
      ]
    },
    {
      "cell_type": "code",
      "source": [
        "new_train_data.info()"
      ],
      "metadata": {
        "colab": {
          "base_uri": "https://localhost:8080/"
        },
        "id": "1SoWx7CqWOHJ",
        "outputId": "be4e4479-2fed-4b51-c746-7fb592ac8faa"
      },
      "id": "1SoWx7CqWOHJ",
      "execution_count": 25,
      "outputs": [
        {
          "output_type": "stream",
          "name": "stdout",
          "text": [
            "<class 'pandas.core.frame.DataFrame'>\n",
            "Int64Index: 26035 entries, 11761 to 21399\n",
            "Data columns (total 60 columns):\n",
            " #   Column                                                 Non-Null Count  Dtype  \n",
            "---  ------                                                 --------------  -----  \n",
            " 0   age_scaled                                             26035 non-null  float64\n",
            " 1   workclass_?                                            26035 non-null  float64\n",
            " 2   workclass_federal-gov                                  26035 non-null  float64\n",
            " 3   workclass_local-gov                                    26035 non-null  float64\n",
            " 4   workclass_never-worked                                 26035 non-null  float64\n",
            " 5   workclass_private                                      26035 non-null  float64\n",
            " 6   workclass_self-emp-inc                                 26035 non-null  float64\n",
            " 7   workclass_self-emp-not-inc                             26035 non-null  float64\n",
            " 8   workclass_state-gov                                    26035 non-null  float64\n",
            " 9   workclass_without-pay                                  26035 non-null  float64\n",
            " 10  fnlwgt_scaled                                          26035 non-null  float64\n",
            " 11  education_new                                          26035 non-null  float64\n",
            " 12  occupation_?                                           26035 non-null  float64\n",
            " 13  occupation_adm-clerical                                26035 non-null  float64\n",
            " 14  occupation_armed-forces                                26035 non-null  float64\n",
            " 15  occupation_craft-repair                                26035 non-null  float64\n",
            " 16  occupation_exec-managerial                             26035 non-null  float64\n",
            " 17  occupation_farming-fishing                             26035 non-null  float64\n",
            " 18  occupation_handlers-cleaners                           26035 non-null  float64\n",
            " 19  occupation_machine-op-inspct                           26035 non-null  float64\n",
            " 20  occupation_other-service                               26035 non-null  float64\n",
            " 21  occupation_priv-house-serv                             26035 non-null  float64\n",
            " 22  occupation_prof-specialty                              26035 non-null  float64\n",
            " 23  occupation_protective-serv                             26035 non-null  float64\n",
            " 24  occupation_sales                                       26035 non-null  float64\n",
            " 25  occupation_tech-support                                26035 non-null  float64\n",
            " 26  occupation_transport-moving                            26035 non-null  float64\n",
            " 27  capital_gain_scaled                                    26035 non-null  float64\n",
            " 28  capital_loss_scaled                                    26035 non-null  float64\n",
            " 29  hours_per_week_scaled                                  26035 non-null  float64\n",
            " 30  marital_relation_divorced_not-in-family                26035 non-null  float64\n",
            " 31  marital_relation_divorced_other-relative               26035 non-null  float64\n",
            " 32  marital_relation_divorced_own-child                    26035 non-null  float64\n",
            " 33  marital_relation_divorced_unmarried                    26035 non-null  float64\n",
            " 34  marital_relation_married-af-spouse_husband             26035 non-null  float64\n",
            " 35  marital_relation_married-af-spouse_other-relative      26035 non-null  float64\n",
            " 36  marital_relation_married-af-spouse_own-child           26035 non-null  float64\n",
            " 37  marital_relation_married-af-spouse_wife                26035 non-null  float64\n",
            " 38  marital_relation_married-civ-spouse_husband            26035 non-null  float64\n",
            " 39  marital_relation_married-civ-spouse_not-in-family      26035 non-null  float64\n",
            " 40  marital_relation_married-civ-spouse_other-relative     26035 non-null  float64\n",
            " 41  marital_relation_married-civ-spouse_own-child          26035 non-null  float64\n",
            " 42  marital_relation_married-civ-spouse_wife               26035 non-null  float64\n",
            " 43  marital_relation_married-spouse-absent_not-in-family   26035 non-null  float64\n",
            " 44  marital_relation_married-spouse-absent_other-relative  26035 non-null  float64\n",
            " 45  marital_relation_married-spouse-absent_own-child       26035 non-null  float64\n",
            " 46  marital_relation_married-spouse-absent_unmarried       26035 non-null  float64\n",
            " 47  marital_relation_never-married_not-in-family           26035 non-null  float64\n",
            " 48  marital_relation_never-married_other-relative          26035 non-null  float64\n",
            " 49  marital_relation_never-married_own-child               26035 non-null  float64\n",
            " 50  marital_relation_never-married_unmarried               26035 non-null  float64\n",
            " 51  marital_relation_separated_not-in-family               26035 non-null  float64\n",
            " 52  marital_relation_separated_other-relative              26035 non-null  float64\n",
            " 53  marital_relation_separated_own-child                   26035 non-null  float64\n",
            " 54  marital_relation_separated_unmarried                   26035 non-null  float64\n",
            " 55  marital_relation_widowed_not-in-family                 26035 non-null  float64\n",
            " 56  marital_relation_widowed_other-relative                26035 non-null  float64\n",
            " 57  marital_relation_widowed_own-child                     26035 non-null  float64\n",
            " 58  marital_relation_widowed_unmarried                     26035 non-null  float64\n",
            " 59  income                                                 26035 non-null  int64  \n",
            "dtypes: float64(59), int64(1)\n",
            "memory usage: 12.1 MB\n"
          ]
        },
        {
          "output_type": "stream",
          "name": "stderr",
          "text": [
            "/usr/local/lib/python3.9/dist-packages/ipykernel/ipkernel.py:283: DeprecationWarning: `should_run_async` will not call `transform_cell` automatically in the future. Please pass the result to `transformed_cell` argument and any exception that happen during thetransform in `preprocessing_exc_tuple` in IPython 7.17 and above.\n",
            "  and should_run_async(code)\n"
          ]
        }
      ]
    },
    {
      "cell_type": "code",
      "source": [
        "def column_fit_transform(train, other, columns):\n",
        "    new_df = other.copy()\n",
        "    for col in columns:\n",
        "        if col in num:\n",
        "            ct = ColumnTransformer([(\"min_max\", min_max, [col])])\n",
        "            ct.fit(train)\n",
        "            new_df[col + \"_scaled\"] = ct.transform(other)\n",
        "        elif col in stri:\n",
        "            elements = sorted(other[col].unique())\n",
        "            ct2 = ColumnTransformer([(\"ohe\", ohe, [col])])\n",
        "            if len(elements) > 2:\n",
        "                ct2.fit(train)\n",
        "                x = ct2.transform(other).toarray()\n",
        "            elif len(elements) <= 2:\n",
        "                ct2.fit(train)\n",
        "                x = np.array(ct2.transform(other))\n",
        "            for i in range(len(elements)):\n",
        "                new_df[col + \"_\" + elements[i].lower()] = x[:,i]\n",
        "        elif col in educ:\n",
        "            ct3 = ColumnTransformer([(\"ord\", ordi, [col])])\n",
        "            ct3.fit(train)\n",
        "            x = ct3.transform(other)\n",
        "            new_df[col + \"_new\"] = x\n",
        "        \n",
        "    new_df = new_df.drop(columns, axis = 1)\n",
        "    return new_df"
      ],
      "metadata": {
        "colab": {
          "base_uri": "https://localhost:8080/"
        },
        "id": "ooTdBRQOoKRB",
        "outputId": "ff673817-31e3-4451-c83b-2db93db2bbe2"
      },
      "id": "ooTdBRQOoKRB",
      "execution_count": 26,
      "outputs": [
        {
          "output_type": "stream",
          "name": "stderr",
          "text": [
            "/usr/local/lib/python3.9/dist-packages/ipykernel/ipkernel.py:283: DeprecationWarning: `should_run_async` will not call `transform_cell` automatically in the future. Please pass the result to `transformed_cell` argument and any exception that happen during thetransform in `preprocessing_exc_tuple` in IPython 7.17 and above.\n",
            "  and should_run_async(code)\n"
          ]
        }
      ]
    },
    {
      "cell_type": "code",
      "source": [
        "new_test_data = column_fit_transform(x_train, x_test, x_train.columns)\n",
        "test_col, train_col = list(new_test_data.columns), list(new_train_data.columns)\n",
        "missing = list(set(train_col).difference(set(test_col)))\n",
        "for miss in missing:\n",
        "    new_test_data[missing] = 0.0\n",
        "new_test_data = new_test_data.drop(\"income\", axis = 1)\n",
        "new_test_data.head()"
      ],
      "metadata": {
        "colab": {
          "base_uri": "https://localhost:8080/",
          "height": 352
        },
        "id": "c3g1QERUYPYE",
        "outputId": "4c161a1a-deee-4b0b-fb13-d556896c6360"
      },
      "id": "c3g1QERUYPYE",
      "execution_count": 28,
      "outputs": [
        {
          "output_type": "stream",
          "name": "stderr",
          "text": [
            "/usr/local/lib/python3.9/dist-packages/ipykernel/ipkernel.py:283: DeprecationWarning: `should_run_async` will not call `transform_cell` automatically in the future. Please pass the result to `transformed_cell` argument and any exception that happen during thetransform in `preprocessing_exc_tuple` in IPython 7.17 and above.\n",
            "  and should_run_async(code)\n"
          ]
        },
        {
          "output_type": "execute_result",
          "data": {
            "text/plain": [
              "       age_scaled  workclass_?  workclass_federal-gov  workclass_local-gov  \\\n",
              "24169    0.205479          0.0                    0.0                  0.0   \n",
              "22386    0.383562          0.0                    0.0                  0.0   \n",
              "31288    0.136986          0.0                    0.0                  0.0   \n",
              "6245     0.630137          0.0                    1.0                  0.0   \n",
              "4654     0.315068          0.0                    0.0                  0.0   \n",
              "\n",
              "       workclass_never-worked  workclass_private  workclass_self-emp-inc  \\\n",
              "24169                     0.0                1.0                     0.0   \n",
              "22386                     0.0                1.0                     0.0   \n",
              "31288                     0.0                1.0                     0.0   \n",
              "6245                      0.0                0.0                     0.0   \n",
              "4654                      0.0                1.0                     0.0   \n",
              "\n",
              "       workclass_self-emp-not-inc  workclass_state-gov  workclass_without-pay  \\\n",
              "24169                         0.0                  0.0                    0.0   \n",
              "22386                         0.0                  0.0                    0.0   \n",
              "31288                         0.0                  0.0                    0.0   \n",
              "6245                          0.0                  0.0                    0.0   \n",
              "4654                          0.0                  0.0                    0.0   \n",
              "\n",
              "       ...  marital_relation_separated_not-in-family  \\\n",
              "24169  ...                                       0.0   \n",
              "22386  ...                                       0.0   \n",
              "31288  ...                                       1.0   \n",
              "6245   ...                                       0.0   \n",
              "4654   ...                                       0.0   \n",
              "\n",
              "       marital_relation_separated_other-relative  \\\n",
              "24169                                        0.0   \n",
              "22386                                        0.0   \n",
              "31288                                        0.0   \n",
              "6245                                         0.0   \n",
              "4654                                         0.0   \n",
              "\n",
              "       marital_relation_separated_own-child  \\\n",
              "24169                                   0.0   \n",
              "22386                                   0.0   \n",
              "31288                                   0.0   \n",
              "6245                                    0.0   \n",
              "4654                                    0.0   \n",
              "\n",
              "       marital_relation_separated_unmarried  \\\n",
              "24169                                   0.0   \n",
              "22386                                   0.0   \n",
              "31288                                   0.0   \n",
              "6245                                    0.0   \n",
              "4654                                    0.0   \n",
              "\n",
              "       marital_relation_widowed_not-in-family  \\\n",
              "24169                                     0.0   \n",
              "22386                                     0.0   \n",
              "31288                                     0.0   \n",
              "6245                                      0.0   \n",
              "4654                                      0.0   \n",
              "\n",
              "       marital_relation_widowed_other-relative  \\\n",
              "24169                                      0.0   \n",
              "22386                                      0.0   \n",
              "31288                                      0.0   \n",
              "6245                                       0.0   \n",
              "4654                                       0.0   \n",
              "\n",
              "       marital_relation_widowed_own-child  marital_relation_widowed_unmarried  \\\n",
              "24169                                 0.0                                 0.0   \n",
              "22386                                 0.0                                 0.0   \n",
              "31288                                 0.0                                 0.0   \n",
              "6245                                  0.0                                 0.0   \n",
              "4654                                  0.0                                 0.0   \n",
              "\n",
              "       marital_relation_married-af-spouse_own-child  \\\n",
              "24169                                           0.0   \n",
              "22386                                           0.0   \n",
              "31288                                           0.0   \n",
              "6245                                            0.0   \n",
              "4654                                            0.0   \n",
              "\n",
              "       marital_relation_married-af-spouse_other-relative  \n",
              "24169                                                0.0  \n",
              "22386                                                0.0  \n",
              "31288                                                0.0  \n",
              "6245                                                 0.0  \n",
              "4654                                                 0.0  \n",
              "\n",
              "[5 rows x 59 columns]"
            ],
            "text/html": [
              "\n",
              "  <div id=\"df-f61dabee-c9b8-4b33-9b63-b263db6c0f5b\">\n",
              "    <div class=\"colab-df-container\">\n",
              "      <div>\n",
              "<style scoped>\n",
              "    .dataframe tbody tr th:only-of-type {\n",
              "        vertical-align: middle;\n",
              "    }\n",
              "\n",
              "    .dataframe tbody tr th {\n",
              "        vertical-align: top;\n",
              "    }\n",
              "\n",
              "    .dataframe thead th {\n",
              "        text-align: right;\n",
              "    }\n",
              "</style>\n",
              "<table border=\"1\" class=\"dataframe\">\n",
              "  <thead>\n",
              "    <tr style=\"text-align: right;\">\n",
              "      <th></th>\n",
              "      <th>age_scaled</th>\n",
              "      <th>workclass_?</th>\n",
              "      <th>workclass_federal-gov</th>\n",
              "      <th>workclass_local-gov</th>\n",
              "      <th>workclass_never-worked</th>\n",
              "      <th>workclass_private</th>\n",
              "      <th>workclass_self-emp-inc</th>\n",
              "      <th>workclass_self-emp-not-inc</th>\n",
              "      <th>workclass_state-gov</th>\n",
              "      <th>workclass_without-pay</th>\n",
              "      <th>...</th>\n",
              "      <th>marital_relation_separated_not-in-family</th>\n",
              "      <th>marital_relation_separated_other-relative</th>\n",
              "      <th>marital_relation_separated_own-child</th>\n",
              "      <th>marital_relation_separated_unmarried</th>\n",
              "      <th>marital_relation_widowed_not-in-family</th>\n",
              "      <th>marital_relation_widowed_other-relative</th>\n",
              "      <th>marital_relation_widowed_own-child</th>\n",
              "      <th>marital_relation_widowed_unmarried</th>\n",
              "      <th>marital_relation_married-af-spouse_own-child</th>\n",
              "      <th>marital_relation_married-af-spouse_other-relative</th>\n",
              "    </tr>\n",
              "  </thead>\n",
              "  <tbody>\n",
              "    <tr>\n",
              "      <th>24169</th>\n",
              "      <td>0.205479</td>\n",
              "      <td>0.0</td>\n",
              "      <td>0.0</td>\n",
              "      <td>0.0</td>\n",
              "      <td>0.0</td>\n",
              "      <td>1.0</td>\n",
              "      <td>0.0</td>\n",
              "      <td>0.0</td>\n",
              "      <td>0.0</td>\n",
              "      <td>0.0</td>\n",
              "      <td>...</td>\n",
              "      <td>0.0</td>\n",
              "      <td>0.0</td>\n",
              "      <td>0.0</td>\n",
              "      <td>0.0</td>\n",
              "      <td>0.0</td>\n",
              "      <td>0.0</td>\n",
              "      <td>0.0</td>\n",
              "      <td>0.0</td>\n",
              "      <td>0.0</td>\n",
              "      <td>0.0</td>\n",
              "    </tr>\n",
              "    <tr>\n",
              "      <th>22386</th>\n",
              "      <td>0.383562</td>\n",
              "      <td>0.0</td>\n",
              "      <td>0.0</td>\n",
              "      <td>0.0</td>\n",
              "      <td>0.0</td>\n",
              "      <td>1.0</td>\n",
              "      <td>0.0</td>\n",
              "      <td>0.0</td>\n",
              "      <td>0.0</td>\n",
              "      <td>0.0</td>\n",
              "      <td>...</td>\n",
              "      <td>0.0</td>\n",
              "      <td>0.0</td>\n",
              "      <td>0.0</td>\n",
              "      <td>0.0</td>\n",
              "      <td>0.0</td>\n",
              "      <td>0.0</td>\n",
              "      <td>0.0</td>\n",
              "      <td>0.0</td>\n",
              "      <td>0.0</td>\n",
              "      <td>0.0</td>\n",
              "    </tr>\n",
              "    <tr>\n",
              "      <th>31288</th>\n",
              "      <td>0.136986</td>\n",
              "      <td>0.0</td>\n",
              "      <td>0.0</td>\n",
              "      <td>0.0</td>\n",
              "      <td>0.0</td>\n",
              "      <td>1.0</td>\n",
              "      <td>0.0</td>\n",
              "      <td>0.0</td>\n",
              "      <td>0.0</td>\n",
              "      <td>0.0</td>\n",
              "      <td>...</td>\n",
              "      <td>1.0</td>\n",
              "      <td>0.0</td>\n",
              "      <td>0.0</td>\n",
              "      <td>0.0</td>\n",
              "      <td>0.0</td>\n",
              "      <td>0.0</td>\n",
              "      <td>0.0</td>\n",
              "      <td>0.0</td>\n",
              "      <td>0.0</td>\n",
              "      <td>0.0</td>\n",
              "    </tr>\n",
              "    <tr>\n",
              "      <th>6245</th>\n",
              "      <td>0.630137</td>\n",
              "      <td>0.0</td>\n",
              "      <td>1.0</td>\n",
              "      <td>0.0</td>\n",
              "      <td>0.0</td>\n",
              "      <td>0.0</td>\n",
              "      <td>0.0</td>\n",
              "      <td>0.0</td>\n",
              "      <td>0.0</td>\n",
              "      <td>0.0</td>\n",
              "      <td>...</td>\n",
              "      <td>0.0</td>\n",
              "      <td>0.0</td>\n",
              "      <td>0.0</td>\n",
              "      <td>0.0</td>\n",
              "      <td>0.0</td>\n",
              "      <td>0.0</td>\n",
              "      <td>0.0</td>\n",
              "      <td>0.0</td>\n",
              "      <td>0.0</td>\n",
              "      <td>0.0</td>\n",
              "    </tr>\n",
              "    <tr>\n",
              "      <th>4654</th>\n",
              "      <td>0.315068</td>\n",
              "      <td>0.0</td>\n",
              "      <td>0.0</td>\n",
              "      <td>0.0</td>\n",
              "      <td>0.0</td>\n",
              "      <td>1.0</td>\n",
              "      <td>0.0</td>\n",
              "      <td>0.0</td>\n",
              "      <td>0.0</td>\n",
              "      <td>0.0</td>\n",
              "      <td>...</td>\n",
              "      <td>0.0</td>\n",
              "      <td>0.0</td>\n",
              "      <td>0.0</td>\n",
              "      <td>0.0</td>\n",
              "      <td>0.0</td>\n",
              "      <td>0.0</td>\n",
              "      <td>0.0</td>\n",
              "      <td>0.0</td>\n",
              "      <td>0.0</td>\n",
              "      <td>0.0</td>\n",
              "    </tr>\n",
              "  </tbody>\n",
              "</table>\n",
              "<p>5 rows × 59 columns</p>\n",
              "</div>\n",
              "      <button class=\"colab-df-convert\" onclick=\"convertToInteractive('df-f61dabee-c9b8-4b33-9b63-b263db6c0f5b')\"\n",
              "              title=\"Convert this dataframe to an interactive table.\"\n",
              "              style=\"display:none;\">\n",
              "        \n",
              "  <svg xmlns=\"http://www.w3.org/2000/svg\" height=\"24px\"viewBox=\"0 0 24 24\"\n",
              "       width=\"24px\">\n",
              "    <path d=\"M0 0h24v24H0V0z\" fill=\"none\"/>\n",
              "    <path d=\"M18.56 5.44l.94 2.06.94-2.06 2.06-.94-2.06-.94-.94-2.06-.94 2.06-2.06.94zm-11 1L8.5 8.5l.94-2.06 2.06-.94-2.06-.94L8.5 2.5l-.94 2.06-2.06.94zm10 10l.94 2.06.94-2.06 2.06-.94-2.06-.94-.94-2.06-.94 2.06-2.06.94z\"/><path d=\"M17.41 7.96l-1.37-1.37c-.4-.4-.92-.59-1.43-.59-.52 0-1.04.2-1.43.59L10.3 9.45l-7.72 7.72c-.78.78-.78 2.05 0 2.83L4 21.41c.39.39.9.59 1.41.59.51 0 1.02-.2 1.41-.59l7.78-7.78 2.81-2.81c.8-.78.8-2.07 0-2.86zM5.41 20L4 18.59l7.72-7.72 1.47 1.35L5.41 20z\"/>\n",
              "  </svg>\n",
              "      </button>\n",
              "      \n",
              "  <style>\n",
              "    .colab-df-container {\n",
              "      display:flex;\n",
              "      flex-wrap:wrap;\n",
              "      gap: 12px;\n",
              "    }\n",
              "\n",
              "    .colab-df-convert {\n",
              "      background-color: #E8F0FE;\n",
              "      border: none;\n",
              "      border-radius: 50%;\n",
              "      cursor: pointer;\n",
              "      display: none;\n",
              "      fill: #1967D2;\n",
              "      height: 32px;\n",
              "      padding: 0 0 0 0;\n",
              "      width: 32px;\n",
              "    }\n",
              "\n",
              "    .colab-df-convert:hover {\n",
              "      background-color: #E2EBFA;\n",
              "      box-shadow: 0px 1px 2px rgba(60, 64, 67, 0.3), 0px 1px 3px 1px rgba(60, 64, 67, 0.15);\n",
              "      fill: #174EA6;\n",
              "    }\n",
              "\n",
              "    [theme=dark] .colab-df-convert {\n",
              "      background-color: #3B4455;\n",
              "      fill: #D2E3FC;\n",
              "    }\n",
              "\n",
              "    [theme=dark] .colab-df-convert:hover {\n",
              "      background-color: #434B5C;\n",
              "      box-shadow: 0px 1px 3px 1px rgba(0, 0, 0, 0.15);\n",
              "      filter: drop-shadow(0px 1px 2px rgba(0, 0, 0, 0.3));\n",
              "      fill: #FFFFFF;\n",
              "    }\n",
              "  </style>\n",
              "\n",
              "      <script>\n",
              "        const buttonEl =\n",
              "          document.querySelector('#df-f61dabee-c9b8-4b33-9b63-b263db6c0f5b button.colab-df-convert');\n",
              "        buttonEl.style.display =\n",
              "          google.colab.kernel.accessAllowed ? 'block' : 'none';\n",
              "\n",
              "        async function convertToInteractive(key) {\n",
              "          const element = document.querySelector('#df-f61dabee-c9b8-4b33-9b63-b263db6c0f5b');\n",
              "          const dataTable =\n",
              "            await google.colab.kernel.invokeFunction('convertToInteractive',\n",
              "                                                     [key], {});\n",
              "          if (!dataTable) return;\n",
              "\n",
              "          const docLinkHtml = 'Like what you see? Visit the ' +\n",
              "            '<a target=\"_blank\" href=https://colab.research.google.com/notebooks/data_table.ipynb>data table notebook</a>'\n",
              "            + ' to learn more about interactive tables.';\n",
              "          element.innerHTML = '';\n",
              "          dataTable['output_type'] = 'display_data';\n",
              "          await google.colab.output.renderOutput(dataTable, element);\n",
              "          const docLink = document.createElement('div');\n",
              "          docLink.innerHTML = docLinkHtml;\n",
              "          element.appendChild(docLink);\n",
              "        }\n",
              "      </script>\n",
              "    </div>\n",
              "  </div>\n",
              "  "
            ]
          },
          "metadata": {},
          "execution_count": 28
        }
      ]
    },
    {
      "cell_type": "code",
      "source": [
        "missing"
      ],
      "metadata": {
        "colab": {
          "base_uri": "https://localhost:8080/"
        },
        "id": "x30srye7Zzgt",
        "outputId": "fe5a6a9a-6183-4298-e2ab-ca9348b45f8c"
      },
      "id": "x30srye7Zzgt",
      "execution_count": 29,
      "outputs": [
        {
          "output_type": "stream",
          "name": "stderr",
          "text": [
            "/usr/local/lib/python3.9/dist-packages/ipykernel/ipkernel.py:283: DeprecationWarning: `should_run_async` will not call `transform_cell` automatically in the future. Please pass the result to `transformed_cell` argument and any exception that happen during thetransform in `preprocessing_exc_tuple` in IPython 7.17 and above.\n",
            "  and should_run_async(code)\n"
          ]
        },
        {
          "output_type": "execute_result",
          "data": {
            "text/plain": [
              "['income',\n",
              " 'marital_relation_married-af-spouse_own-child',\n",
              " 'marital_relation_married-af-spouse_other-relative']"
            ]
          },
          "metadata": {},
          "execution_count": 29
        }
      ]
    },
    {
      "cell_type": "code",
      "execution_count": 30,
      "id": "dfbcf883",
      "metadata": {
        "colab": {
          "base_uri": "https://localhost:8080/"
        },
        "id": "dfbcf883",
        "outputId": "d6c25d57-09c1-4b88-e4b9-f69c6533cfec"
      },
      "outputs": [
        {
          "output_type": "stream",
          "name": "stderr",
          "text": [
            "/usr/local/lib/python3.9/dist-packages/ipykernel/ipkernel.py:283: DeprecationWarning: `should_run_async` will not call `transform_cell` automatically in the future. Please pass the result to `transformed_cell` argument and any exception that happen during thetransform in `preprocessing_exc_tuple` in IPython 7.17 and above.\n",
            "  and should_run_async(code)\n"
          ]
        }
      ],
      "source": [
        "def getEntropy(counts):\n",
        "    percentages = counts/np.sum(counts)\n",
        "\n",
        "    entr = 0\n",
        "    for per in percentages:\n",
        "        if per == 0:\n",
        "            continue\n",
        "        entr = entr - (per*np.log2(per))\n",
        "    return entr"
      ]
    },
    {
      "cell_type": "code",
      "execution_count": 31,
      "id": "9fb9c978",
      "metadata": {
        "colab": {
          "base_uri": "https://localhost:8080/"
        },
        "id": "9fb9c978",
        "outputId": "f5d63413-bf0e-4b53-e859-cc34c51a71bd"
      },
      "outputs": [
        {
          "output_type": "stream",
          "name": "stderr",
          "text": [
            "/usr/local/lib/python3.9/dist-packages/ipykernel/ipkernel.py:283: DeprecationWarning: `should_run_async` will not call `transform_cell` automatically in the future. Please pass the result to `transformed_cell` argument and any exception that happen during thetransform in `preprocessing_exc_tuple` in IPython 7.17 and above.\n",
            "  and should_run_async(code)\n"
          ]
        },
        {
          "output_type": "execute_result",
          "data": {
            "text/plain": [
              "(0.9950971141240397, 0.008919126019935605)"
            ]
          },
          "metadata": {},
          "execution_count": 31
        }
      ],
      "source": [
        "A1 = 2244\n",
        "B1 = 2647\n",
        "A2 = 2\n",
        "B2 = 2647\n",
        "getEntropy([A1, B1]),getEntropy([A2, B2])"
      ]
    },
    {
      "cell_type": "code",
      "execution_count": 32,
      "id": "85c3d3f3",
      "metadata": {
        "colab": {
          "base_uri": "https://localhost:8080/"
        },
        "id": "85c3d3f3",
        "outputId": "dffa03fb-e629-4089-d019-166bc157639a"
      },
      "outputs": [
        {
          "output_type": "stream",
          "name": "stderr",
          "text": [
            "/usr/local/lib/python3.9/dist-packages/ipykernel/ipkernel.py:283: DeprecationWarning: `should_run_async` will not call `transform_cell` automatically in the future. Please pass the result to `transformed_cell` argument and any exception that happen during thetransform in `preprocessing_exc_tuple` in IPython 7.17 and above.\n",
            "  and should_run_async(code)\n"
          ]
        }
      ],
      "source": [
        "def dataEntropy(data):\n",
        "    \n",
        "    high_income = data[data['income'] == 1].shape[0]\n",
        "    low_income = data[data['income'] == 0].shape[0]\n",
        "    \n",
        "    result = getEntropy([low_income,high_income])\n",
        "    return result"
      ]
    },
    {
      "cell_type": "code",
      "execution_count": 33,
      "id": "f21745a7",
      "metadata": {
        "colab": {
          "base_uri": "https://localhost:8080/"
        },
        "id": "f21745a7",
        "outputId": "f3cc145f-a053-4766-8b8a-0a8fd38f057e"
      },
      "outputs": [
        {
          "output_type": "stream",
          "name": "stderr",
          "text": [
            "/usr/local/lib/python3.9/dist-packages/ipykernel/ipkernel.py:283: DeprecationWarning: `should_run_async` will not call `transform_cell` automatically in the future. Please pass the result to `transformed_cell` argument and any exception that happen during thetransform in `preprocessing_exc_tuple` in IPython 7.17 and above.\n",
            "  and should_run_async(code)\n"
          ]
        }
      ],
      "source": [
        "def dataGivenEntropy(dataX, dataY):\n",
        "    entrX = dataEntropy(dataX)\n",
        "    entrY = dataEntropy(dataY)\n",
        "    nX = dataX.shape[0]\n",
        "    nY = dataY.shape[0]\n",
        "    n = nX + nY\n",
        "    result = nX/n * entrX + nY/n * entrY\n",
        "    return result"
      ]
    },
    {
      "cell_type": "code",
      "execution_count": 34,
      "id": "0c7f873f",
      "metadata": {
        "colab": {
          "base_uri": "https://localhost:8080/"
        },
        "id": "0c7f873f",
        "outputId": "5024d33c-5c7c-46d0-a49c-d010b7fc2d68"
      },
      "outputs": [
        {
          "output_type": "stream",
          "name": "stderr",
          "text": [
            "/usr/local/lib/python3.9/dist-packages/ipykernel/ipkernel.py:283: DeprecationWarning: `should_run_async` will not call `transform_cell` automatically in the future. Please pass the result to `transformed_cell` argument and any exception that happen during thetransform in `preprocessing_exc_tuple` in IPython 7.17 and above.\n",
            "  and should_run_async(code)\n"
          ]
        }
      ],
      "source": [
        "def infoGain(data, dataX, dataY):\n",
        "    result = dataEntropy(data) - dataGivenEntropy(dataX, dataY)\n",
        "    return result"
      ]
    },
    {
      "cell_type": "code",
      "execution_count": 35,
      "id": "a61aa787",
      "metadata": {
        "colab": {
          "base_uri": "https://localhost:8080/"
        },
        "id": "a61aa787",
        "outputId": "0d2cab88-fa2d-4087-8788-ff089d6eb181"
      },
      "outputs": [
        {
          "output_type": "stream",
          "name": "stderr",
          "text": [
            "/usr/local/lib/python3.9/dist-packages/ipykernel/ipkernel.py:283: DeprecationWarning: `should_run_async` will not call `transform_cell` automatically in the future. Please pass the result to `transformed_cell` argument and any exception that happen during thetransform in `preprocessing_exc_tuple` in IPython 7.17 and above.\n",
            "  and should_run_async(code)\n"
          ]
        }
      ],
      "source": [
        "def getGini(counts):\n",
        "    percentages = counts/np.sum(counts)\n",
        "    gini = 1-np.sum(percentages**2)\n",
        "    return gini"
      ]
    },
    {
      "cell_type": "code",
      "source": [
        "len(new_train_data[\"age_scaled\"].unique())"
      ],
      "metadata": {
        "colab": {
          "base_uri": "https://localhost:8080/"
        },
        "id": "p4wmrYjIuWhH",
        "outputId": "9e2759c6-c168-42da-d2c3-537cc2296a27"
      },
      "id": "p4wmrYjIuWhH",
      "execution_count": 36,
      "outputs": [
        {
          "output_type": "stream",
          "name": "stderr",
          "text": [
            "/usr/local/lib/python3.9/dist-packages/ipykernel/ipkernel.py:283: DeprecationWarning: `should_run_async` will not call `transform_cell` automatically in the future. Please pass the result to `transformed_cell` argument and any exception that happen during thetransform in `preprocessing_exc_tuple` in IPython 7.17 and above.\n",
            "  and should_run_async(code)\n"
          ]
        },
        {
          "output_type": "execute_result",
          "data": {
            "text/plain": [
              "72"
            ]
          },
          "metadata": {},
          "execution_count": 36
        }
      ]
    },
    {
      "cell_type": "code",
      "source": [
        "cols = []"
      ],
      "metadata": {
        "colab": {
          "base_uri": "https://localhost:8080/"
        },
        "id": "DZki6YAH1eBj",
        "outputId": "c3ec1cf1-8735-4f6b-85f1-3c7b000af5b7"
      },
      "id": "DZki6YAH1eBj",
      "execution_count": 37,
      "outputs": [
        {
          "output_type": "stream",
          "name": "stderr",
          "text": [
            "/usr/local/lib/python3.9/dist-packages/ipykernel/ipkernel.py:283: DeprecationWarning: `should_run_async` will not call `transform_cell` automatically in the future. Please pass the result to `transformed_cell` argument and any exception that happen during thetransform in `preprocessing_exc_tuple` in IPython 7.17 and above.\n",
            "  and should_run_async(code)\n"
          ]
        }
      ]
    },
    {
      "cell_type": "code",
      "execution_count": 77,
      "id": "f934cf0a",
      "metadata": {
        "id": "f934cf0a"
      },
      "outputs": [],
      "source": [
        "def findBestSplit(data, label):\n",
        "    minEntropy = 1\n",
        "    colSelected = str()\n",
        "    thresh_value = 0\n",
        "    dataX_found,dataY_found = None, None\n",
        "    for col in data.columns:\n",
        "      if col != label:\n",
        "        # make the split \n",
        "        if len(data[col].unique()) > 2:\n",
        "          max = data[col].max()\n",
        "          threshold = np.linspace(0,max,30)[1:-1]\n",
        "          info_g = []\n",
        "\n",
        "          for i in range(len(threshold)):\n",
        "            dataX = data[data[col] > threshold[i]]\n",
        "            dataY = data[data[col] <= threshold[i]]\n",
        "            info_g.append(infoGain(data, dataX, dataY))\n",
        "\n",
        "          ind = np.argmax(info_g)\n",
        "          dataX = data[data[col] > threshold[ind]]\n",
        "          dataY = data[data[col] <= threshold[ind]]\n",
        "          thresh = threshold[ind]\n",
        "\n",
        "        else:\n",
        "          thresh = 0.5\n",
        "          dataX = data[data[col] > thresh]\n",
        "          dataY = data[data[col] <= thresh]\n",
        "            \n",
        "          \n",
        "        entr = dataGivenEntropy(dataX, dataY)\n",
        "        \n",
        "        \n",
        "        if entr < minEntropy:\n",
        "            minEntropy = entr\n",
        "            colSelected = col\n",
        "            dataX_found = dataX\n",
        "            dataY_found = dataY\n",
        "            thresh_value = thresh\n",
        "        \n",
        "\n",
        "    return colSelected, minEntropy, dataX_found, dataY_found, thresh_value"
      ]
    },
    {
      "cell_type": "code",
      "source": [
        "#findBestSplit(new_train_data, 'income')"
      ],
      "metadata": {
        "id": "TwZek7f4wWrz"
      },
      "id": "TwZek7f4wWrz",
      "execution_count": 201,
      "outputs": []
    },
    {
      "cell_type": "code",
      "source": [
        "class Branch:\n",
        "    no=0\n",
        "    depth=1\n",
        "    column=''\n",
        "    entropy=0\n",
        "    value=[]\n",
        "    samples = 0\n",
        "    gini = 0\n",
        "    thresh = 0\n",
        "    branch_positive=None\n",
        "    branch_negative=None\n",
        "    positive=0\n",
        "    negative=0\n",
        "    num_depth = 0"
      ],
      "metadata": {
        "id": "WumiEnXN2W_0"
      },
      "id": "WumiEnXN2W_0",
      "execution_count": 79,
      "outputs": []
    },
    {
      "cell_type": "code",
      "source": [
        "number = 0 \n",
        "def decisionTreeInner(data, label, depth, max_depth):\n",
        "    global number\n",
        "    branch = Branch()\n",
        "    branch.no = number\n",
        "    number += 1\n",
        "    branch.depth = depth\n",
        "    branch.num_depth = 1\n",
        "    \n",
        "    branch.samples = data.shape[0]\n",
        "    positive = data[data[label]==1].shape[0]\n",
        "    negative = data[data[label]==0].shape[0]\n",
        "    \n",
        "    branch.value= [negative, positive]\n",
        "    branch.entropy = getEntropy(branch.value)\n",
        "    branch.gini = getGini(branch.value)\n",
        "    \n",
        "    bestSplit = findBestSplit(data, label)\n",
        "    \n",
        "    branch.column = bestSplit[0]\n",
        "    cols.append(branch.column)\n",
        "    newEntropy = bestSplit[1]\n",
        "    branch.thresh = bestSplit[4]\n",
        "\n",
        "    unbalanced_0 = branch.value[0]/(branch.value[0] + branch.value[1]) \n",
        "    unbalanced_1 = branch.value[1]/(branch.value[0] + branch.value[1]) \n",
        "    \n",
        "    if depth == max_depth or branch.column == \"\" or branch.samples <= 350 or (unbalanced_0 > 0.95 and branch.samples <= 1000) or (unbalanced_1 > 0.95 and branch.samples <= 1000):\n",
        "        branch.positive = number\n",
        "        number +=1\n",
        "        branch.negative = number\n",
        "        number +=1   \n",
        "        branch.column = \"\"\n",
        "\n",
        "        return branch\n",
        "\n",
        "    else:\n",
        "\n",
        "        dataNegative = bestSplit[2]#.drop(branch.column, axis = 1)\n",
        "        branch.branch_negative = decisionTreeInner(dataNegative, label, depth+1, max_depth=max_depth)\n",
        "        dataPositive = bestSplit[3]#.drop(branch.column, axis = 1)\n",
        "        branch.branch_positive = decisionTreeInner(dataPositive, label, depth+1, max_depth=max_depth)\n",
        "\n",
        "        return branch\n"
      ],
      "metadata": {
        "id": "5j6b41QHmuEe"
      },
      "id": "5j6b41QHmuEe",
      "execution_count": 218,
      "outputs": []
    },
    {
      "cell_type": "code",
      "source": [
        "def decision_tree(data, label, max_depth):\n",
        "    number = 0\n",
        "    entropy = dataEntropy(data)\n",
        "    columns = []\n",
        "    tree = decisionTreeInner(data, label, 0, max_depth = max_depth)\n",
        "    return tree"
      ],
      "metadata": {
        "id": "2vPkdPlymzOv"
      },
      "id": "2vPkdPlymzOv",
      "execution_count": 219,
      "outputs": []
    },
    {
      "cell_type": "code",
      "execution_count": 220,
      "id": "b12aed2e",
      "metadata": {
        "id": "b12aed2e"
      },
      "outputs": [],
      "source": [
        "import warnings\n",
        "warnings.filterwarnings('ignore')\n",
        "my_dt = decision_tree(new_train_data, 'income', max_depth=5);"
      ]
    },
    {
      "cell_type": "code",
      "source": [
        "my_dt"
      ],
      "metadata": {
        "colab": {
          "base_uri": "https://localhost:8080/"
        },
        "id": "uR8wNth55-9y",
        "outputId": "05fac7f7-3ed1-4833-e2de-bf94848e208f"
      },
      "id": "uR8wNth55-9y",
      "execution_count": 221,
      "outputs": [
        {
          "output_type": "execute_result",
          "data": {
            "text/plain": [
              "<__main__.Branch at 0x7f384b62e610>"
            ]
          },
          "metadata": {},
          "execution_count": 221
        }
      ]
    },
    {
      "cell_type": "code",
      "source": [
        "def get_dot_data_innner(branch:Branch, classes, dot_data):\n",
        "    if branch.value[0]<branch.value[1]:\n",
        "        the_class=classes[0]\n",
        "    else:\n",
        "        the_class=classes[1]\n",
        "    if branch.branch_positive:\n",
        "        dot_data=dot_data+'{} [label=<{} le {:.2f}<br/>entropy = {:.3f}<br/>samples = {}<br/>value = {}<br/>class = {}> , fillcolor=\"#FFFFFFFF\"] ;\\r\\n'.format(\n",
        "            branch.no, branch.column, branch.thresh, branch.entropy, branch.samples, branch.value, the_class)\n",
        "    else:\n",
        "        dot_data=dot_data+'{} [label=<entropy = {:.3f}<br/>samples = {}<br/>value = {}<br/>class = {}> , fillcolor=\"#FFFFFFFF\"] ;\\r\\n'.format(\n",
        "            branch.no, branch.entropy, branch.samples, branch.value, the_class)\n",
        "    if branch.branch_negative:\n",
        "        dot_data=dot_data+'{} -> {} [labeldistance=2.5, labelangle=45, headlabel=\"no\"]; \\r\\n'.format(branch.no, branch.branch_negative.no)\n",
        "        dot_data=get_dot_data_innner(branch.branch_negative, classes, dot_data)\n",
        "        \n",
        "    if branch.branch_positive:\n",
        "        dot_data=dot_data+'{} -> {} [labeldistance=1.5, labelangle=45, headlabel=\"yes\"]; \\r\\n'.format(branch.no, branch.branch_positive.no)\n",
        "        dot_data=get_dot_data_innner(branch.branch_positive, classes, dot_data)\n",
        "  \n",
        "\n",
        "    return dot_data\n",
        "    \n",
        "def get_dot_data(branch:Branch, classes=['above 50K','below 50K']):\n",
        "    dot_data=\"\"\"\n",
        "digraph Tree {\n",
        "node [shape=box, style=\"filled, rounded\", color=\"black\", fontname=helvetica] ;\n",
        "edge [fontname=helvetica] ;\n",
        "\"\"\"\n",
        "    dot_data=get_dot_data_innner(branch, classes,  dot_data)\n",
        "    dot_data=dot_data+'\\r\\n}'\n",
        "    return dot_data"
      ],
      "metadata": {
        "id": "Onl3CtSIMuR8"
      },
      "id": "Onl3CtSIMuR8",
      "execution_count": 222,
      "outputs": []
    },
    {
      "cell_type": "code",
      "source": [
        "dot_data=get_dot_data(my_dt)"
      ],
      "metadata": {
        "id": "c83SbYS7MuUk"
      },
      "id": "c83SbYS7MuUk",
      "execution_count": 223,
      "outputs": []
    },
    {
      "cell_type": "code",
      "source": [
        "import graphviz "
      ],
      "metadata": {
        "id": "Cw8sFkDRM47d"
      },
      "id": "Cw8sFkDRM47d",
      "execution_count": 224,
      "outputs": []
    },
    {
      "cell_type": "code",
      "source": [
        "graph = graphviz.Source(dot_data) \n",
        "#graph.render('./data/my_dt', format='png')\n"
      ],
      "metadata": {
        "id": "nnUWFY7XM5ji"
      },
      "id": "nnUWFY7XM5ji",
      "execution_count": 225,
      "outputs": []
    },
    {
      "cell_type": "code",
      "source": [
        "graph"
      ],
      "metadata": {
        "colab": {
          "base_uri": "https://localhost:8080/",
          "height": 936
        },
        "id": "IFnq8hCqNvW8",
        "outputId": "c64aab96-e2b1-44b8-deb4-a0412fa1af21"
      },
      "id": "IFnq8hCqNvW8",
      "execution_count": 226,
      "outputs": [
        {
          "output_type": "execute_result",
          "data": {
            "image/svg+xml": "<?xml version=\"1.0\" encoding=\"UTF-8\" standalone=\"no\"?>\n<!DOCTYPE svg PUBLIC \"-//W3C//DTD SVG 1.1//EN\"\n \"http://www.w3.org/Graphics/SVG/1.1/DTD/svg11.dtd\">\n<!-- Generated by graphviz version 2.43.0 (0)\n -->\n<!-- Title: Tree Pages: 1 -->\n<svg width=\"2093pt\" height=\"671pt\"\n viewBox=\"0.00 0.00 2093.00 671.00\" xmlns=\"http://www.w3.org/2000/svg\" xmlns:xlink=\"http://www.w3.org/1999/xlink\">\n<g id=\"graph0\" class=\"graph\" transform=\"scale(1 1) rotate(0) translate(4 667)\">\n<title>Tree</title>\n<polygon fill=\"white\" stroke=\"transparent\" points=\"-4,4 -4,-667 2089,-667 2089,4 -4,4\"/>\n<!-- 0 -->\n<g id=\"node1\" class=\"node\">\n<title>0</title>\n<path fill=\"#ffffff\" stroke=\"black\" d=\"M765,-663C765,-663 453,-663 453,-663 447,-663 441,-657 441,-651 441,-651 441,-592 441,-592 441,-586 447,-580 453,-580 453,-580 765,-580 765,-580 771,-580 777,-586 777,-592 777,-592 777,-651 777,-651 777,-657 771,-663 765,-663\"/>\n<text text-anchor=\"start\" x=\"449\" y=\"-647.8\" font-family=\"Helvetica,sans-Serif\" font-size=\"14.00\">marital_relation_married&#45;civ&#45;spouse_husband le 0.50</text>\n<text text-anchor=\"start\" x=\"561.5\" y=\"-632.8\" font-family=\"Helvetica,sans-Serif\" font-size=\"14.00\">entropy = 0.797</text>\n<text text-anchor=\"start\" x=\"556.5\" y=\"-617.8\" font-family=\"Helvetica,sans-Serif\" font-size=\"14.00\">samples = 26035</text>\n<text text-anchor=\"start\" x=\"543.5\" y=\"-602.8\" font-family=\"Helvetica,sans-Serif\" font-size=\"14.00\">value = [19762, 6273]</text>\n<text text-anchor=\"start\" x=\"554\" y=\"-587.8\" font-family=\"Helvetica,sans-Serif\" font-size=\"14.00\">class = below 50K</text>\n</g>\n<!-- 1 -->\n<g id=\"node2\" class=\"node\">\n<title>1</title>\n<path fill=\"#ffffff\" stroke=\"black\" d=\"M583.5,-544C583.5,-544 448.5,-544 448.5,-544 442.5,-544 436.5,-538 436.5,-532 436.5,-532 436.5,-473 436.5,-473 436.5,-467 442.5,-461 448.5,-461 448.5,-461 583.5,-461 583.5,-461 589.5,-461 595.5,-467 595.5,-473 595.5,-473 595.5,-532 595.5,-532 595.5,-538 589.5,-544 583.5,-544\"/>\n<text text-anchor=\"start\" x=\"444.5\" y=\"-528.8\" font-family=\"Helvetica,sans-Serif\" font-size=\"14.00\">education_new le 11.38</text>\n<text text-anchor=\"start\" x=\"468.5\" y=\"-513.8\" font-family=\"Helvetica,sans-Serif\" font-size=\"14.00\">entropy = 0.991</text>\n<text text-anchor=\"start\" x=\"463.5\" y=\"-498.8\" font-family=\"Helvetica,sans-Serif\" font-size=\"14.00\">samples = 10640</text>\n<text text-anchor=\"start\" x=\"454\" y=\"-483.8\" font-family=\"Helvetica,sans-Serif\" font-size=\"14.00\">value = [5902, 4738]</text>\n<text text-anchor=\"start\" x=\"461\" y=\"-468.8\" font-family=\"Helvetica,sans-Serif\" font-size=\"14.00\">class = below 50K</text>\n</g>\n<!-- 0&#45;&gt;1 -->\n<g id=\"edge1\" class=\"edge\">\n<title>0&#45;&gt;1</title>\n<path fill=\"none\" stroke=\"black\" d=\"M576.73,-579.91C569.59,-570.92 561.96,-561.32 554.59,-552.05\"/>\n<polygon fill=\"black\" stroke=\"black\" points=\"557.17,-549.67 548.21,-544.02 551.69,-554.03 557.17,-549.67\"/>\n<text text-anchor=\"middle\" x=\"545.37\" y=\"-565.16\" font-family=\"Helvetica,sans-Serif\" font-size=\"14.00\">no</text>\n</g>\n<!-- 36 -->\n<g id=\"node19\" class=\"node\">\n<title>36</title>\n<path fill=\"#ffffff\" stroke=\"black\" d=\"M917.5,-544C917.5,-544 762.5,-544 762.5,-544 756.5,-544 750.5,-538 750.5,-532 750.5,-532 750.5,-473 750.5,-473 750.5,-467 756.5,-461 762.5,-461 762.5,-461 917.5,-461 917.5,-461 923.5,-461 929.5,-467 929.5,-473 929.5,-473 929.5,-532 929.5,-532 929.5,-538 923.5,-544 917.5,-544\"/>\n<text text-anchor=\"start\" x=\"758.5\" y=\"-528.8\" font-family=\"Helvetica,sans-Serif\" font-size=\"14.00\">capital_gain_scaled le 0.07</text>\n<text text-anchor=\"start\" x=\"792.5\" y=\"-513.8\" font-family=\"Helvetica,sans-Serif\" font-size=\"14.00\">entropy = 0.468</text>\n<text text-anchor=\"start\" x=\"787.5\" y=\"-498.8\" font-family=\"Helvetica,sans-Serif\" font-size=\"14.00\">samples = 15395</text>\n<text text-anchor=\"start\" x=\"774.5\" y=\"-483.8\" font-family=\"Helvetica,sans-Serif\" font-size=\"14.00\">value = [13860, 1535]</text>\n<text text-anchor=\"start\" x=\"785\" y=\"-468.8\" font-family=\"Helvetica,sans-Serif\" font-size=\"14.00\">class = below 50K</text>\n</g>\n<!-- 0&#45;&gt;36 -->\n<g id=\"edge18\" class=\"edge\">\n<title>0&#45;&gt;36</title>\n<path fill=\"none\" stroke=\"black\" d=\"M689.14,-579.91C709.12,-569.79 730.66,-558.88 751.04,-548.56\"/>\n<polygon fill=\"black\" stroke=\"black\" points=\"752.66,-551.66 760,-544.02 749.49,-545.42 752.66,-551.66\"/>\n<text text-anchor=\"middle\" x=\"745.74\" y=\"-535.65\" font-family=\"Helvetica,sans-Serif\" font-size=\"14.00\">yes</text>\n</g>\n<!-- 2 -->\n<g id=\"node3\" class=\"node\">\n<title>2</title>\n<path fill=\"#ffffff\" stroke=\"black\" d=\"M327.5,-425C327.5,-425 172.5,-425 172.5,-425 166.5,-425 160.5,-419 160.5,-413 160.5,-413 160.5,-354 160.5,-354 160.5,-348 166.5,-342 172.5,-342 172.5,-342 327.5,-342 327.5,-342 333.5,-342 339.5,-348 339.5,-354 339.5,-354 339.5,-413 339.5,-413 339.5,-419 333.5,-425 327.5,-425\"/>\n<text text-anchor=\"start\" x=\"168.5\" y=\"-409.8\" font-family=\"Helvetica,sans-Serif\" font-size=\"14.00\">capital_gain_scaled le 0.07</text>\n<text text-anchor=\"start\" x=\"202.5\" y=\"-394.8\" font-family=\"Helvetica,sans-Serif\" font-size=\"14.00\">entropy = 0.853</text>\n<text text-anchor=\"start\" x=\"201.5\" y=\"-379.8\" font-family=\"Helvetica,sans-Serif\" font-size=\"14.00\">samples = 3153</text>\n<text text-anchor=\"start\" x=\"192\" y=\"-364.8\" font-family=\"Helvetica,sans-Serif\" font-size=\"14.00\">value = [877, 2276]</text>\n<text text-anchor=\"start\" x=\"194\" y=\"-349.8\" font-family=\"Helvetica,sans-Serif\" font-size=\"14.00\">class = above 50K</text>\n</g>\n<!-- 1&#45;&gt;2 -->\n<g id=\"edge2\" class=\"edge\">\n<title>1&#45;&gt;2</title>\n<path fill=\"none\" stroke=\"black\" d=\"M436.19,-466.4C408.71,-454.31 377.61,-440.63 348.8,-427.96\"/>\n<polygon fill=\"black\" stroke=\"black\" points=\"350.09,-424.7 339.53,-423.88 347.28,-431.11 350.09,-424.7\"/>\n<text text-anchor=\"middle\" x=\"348.6\" y=\"-443.48\" font-family=\"Helvetica,sans-Serif\" font-size=\"14.00\">no</text>\n</g>\n<!-- 17 -->\n<g id=\"node10\" class=\"node\">\n<title>17</title>\n<path fill=\"#ffffff\" stroke=\"black\" d=\"M593.5,-425C593.5,-425 438.5,-425 438.5,-425 432.5,-425 426.5,-419 426.5,-413 426.5,-413 426.5,-354 426.5,-354 426.5,-348 432.5,-342 438.5,-342 438.5,-342 593.5,-342 593.5,-342 599.5,-342 605.5,-348 605.5,-354 605.5,-354 605.5,-413 605.5,-413 605.5,-419 599.5,-425 593.5,-425\"/>\n<text text-anchor=\"start\" x=\"434.5\" y=\"-409.8\" font-family=\"Helvetica,sans-Serif\" font-size=\"14.00\">capital_gain_scaled le 0.07</text>\n<text text-anchor=\"start\" x=\"468.5\" y=\"-394.8\" font-family=\"Helvetica,sans-Serif\" font-size=\"14.00\">entropy = 0.914</text>\n<text text-anchor=\"start\" x=\"467.5\" y=\"-379.8\" font-family=\"Helvetica,sans-Serif\" font-size=\"14.00\">samples = 7487</text>\n<text text-anchor=\"start\" x=\"454\" y=\"-364.8\" font-family=\"Helvetica,sans-Serif\" font-size=\"14.00\">value = [5025, 2462]</text>\n<text text-anchor=\"start\" x=\"461\" y=\"-349.8\" font-family=\"Helvetica,sans-Serif\" font-size=\"14.00\">class = below 50K</text>\n</g>\n<!-- 1&#45;&gt;17 -->\n<g id=\"edge9\" class=\"edge\">\n<title>1&#45;&gt;17</title>\n<path fill=\"none\" stroke=\"black\" d=\"M516,-460.91C516,-452.65 516,-443.86 516,-435.3\"/>\n<polygon fill=\"black\" stroke=\"black\" points=\"519.5,-435.02 516,-425.02 512.5,-435.02 519.5,-435.02\"/>\n<text text-anchor=\"middle\" x=\"505.39\" y=\"-431.93\" font-family=\"Helvetica,sans-Serif\" font-size=\"14.00\">yes</text>\n</g>\n<!-- 3 -->\n<g id=\"node4\" class=\"node\">\n<title>3</title>\n<path fill=\"#ffffff\" stroke=\"black\" d=\"M131,-298.5C131,-298.5 27,-298.5 27,-298.5 21,-298.5 15,-292.5 15,-286.5 15,-286.5 15,-242.5 15,-242.5 15,-236.5 21,-230.5 27,-230.5 27,-230.5 131,-230.5 131,-230.5 137,-230.5 143,-236.5 143,-242.5 143,-242.5 143,-286.5 143,-286.5 143,-292.5 137,-298.5 131,-298.5\"/>\n<text text-anchor=\"start\" x=\"31.5\" y=\"-283.3\" font-family=\"Helvetica,sans-Serif\" font-size=\"14.00\">entropy = 0.039</text>\n<text text-anchor=\"start\" x=\"34\" y=\"-268.3\" font-family=\"Helvetica,sans-Serif\" font-size=\"14.00\">samples = 474</text>\n<text text-anchor=\"start\" x=\"32\" y=\"-253.3\" font-family=\"Helvetica,sans-Serif\" font-size=\"14.00\">value = [2, 472]</text>\n<text text-anchor=\"start\" x=\"23\" y=\"-238.3\" font-family=\"Helvetica,sans-Serif\" font-size=\"14.00\">class = above 50K</text>\n</g>\n<!-- 2&#45;&gt;3 -->\n<g id=\"edge3\" class=\"edge\">\n<title>2&#45;&gt;3</title>\n<path fill=\"none\" stroke=\"black\" d=\"M190.67,-341.91C172.93,-329.77 153.53,-316.49 135.95,-304.46\"/>\n<polygon fill=\"black\" stroke=\"black\" points=\"137.7,-301.43 127.47,-298.67 133.75,-307.2 137.7,-301.43\"/>\n<text text-anchor=\"middle\" x=\"132.08\" y=\"-319.54\" font-family=\"Helvetica,sans-Serif\" font-size=\"14.00\">no</text>\n</g>\n<!-- 6 -->\n<g id=\"node5\" class=\"node\">\n<title>6</title>\n<path fill=\"#ffffff\" stroke=\"black\" d=\"M327,-306C327,-306 173,-306 173,-306 167,-306 161,-300 161,-294 161,-294 161,-235 161,-235 161,-229 167,-223 173,-223 173,-223 327,-223 327,-223 333,-223 339,-229 339,-235 339,-235 339,-294 339,-294 339,-300 333,-306 327,-306\"/>\n<text text-anchor=\"start\" x=\"169\" y=\"-290.8\" font-family=\"Helvetica,sans-Serif\" font-size=\"14.00\">capital_loss_scaled le 0.40</text>\n<text text-anchor=\"start\" x=\"202.5\" y=\"-275.8\" font-family=\"Helvetica,sans-Serif\" font-size=\"14.00\">entropy = 0.911</text>\n<text text-anchor=\"start\" x=\"201.5\" y=\"-260.8\" font-family=\"Helvetica,sans-Serif\" font-size=\"14.00\">samples = 2679</text>\n<text text-anchor=\"start\" x=\"192\" y=\"-245.8\" font-family=\"Helvetica,sans-Serif\" font-size=\"14.00\">value = [875, 1804]</text>\n<text text-anchor=\"start\" x=\"194\" y=\"-230.8\" font-family=\"Helvetica,sans-Serif\" font-size=\"14.00\">class = above 50K</text>\n</g>\n<!-- 2&#45;&gt;6 -->\n<g id=\"edge4\" class=\"edge\">\n<title>2&#45;&gt;6</title>\n<path fill=\"none\" stroke=\"black\" d=\"M250,-341.91C250,-333.65 250,-324.86 250,-316.3\"/>\n<polygon fill=\"black\" stroke=\"black\" points=\"253.5,-316.02 250,-306.02 246.5,-316.02 253.5,-316.02\"/>\n<text text-anchor=\"middle\" x=\"239.39\" y=\"-312.93\" font-family=\"Helvetica,sans-Serif\" font-size=\"14.00\">yes</text>\n</g>\n<!-- 7 -->\n<g id=\"node6\" class=\"node\">\n<title>7</title>\n<path fill=\"#ffffff\" stroke=\"black\" d=\"M116,-179.5C116,-179.5 12,-179.5 12,-179.5 6,-179.5 0,-173.5 0,-167.5 0,-167.5 0,-123.5 0,-123.5 0,-117.5 6,-111.5 12,-111.5 12,-111.5 116,-111.5 116,-111.5 122,-111.5 128,-117.5 128,-123.5 128,-123.5 128,-167.5 128,-167.5 128,-173.5 122,-179.5 116,-179.5\"/>\n<text text-anchor=\"start\" x=\"16.5\" y=\"-164.3\" font-family=\"Helvetica,sans-Serif\" font-size=\"14.00\">entropy = 0.184</text>\n<text text-anchor=\"start\" x=\"19\" y=\"-149.3\" font-family=\"Helvetica,sans-Serif\" font-size=\"14.00\">samples = 287</text>\n<text text-anchor=\"start\" x=\"17\" y=\"-134.3\" font-family=\"Helvetica,sans-Serif\" font-size=\"14.00\">value = [8, 279]</text>\n<text text-anchor=\"start\" x=\"8\" y=\"-119.3\" font-family=\"Helvetica,sans-Serif\" font-size=\"14.00\">class = above 50K</text>\n</g>\n<!-- 6&#45;&gt;7 -->\n<g id=\"edge5\" class=\"edge\">\n<title>6&#45;&gt;7</title>\n<path fill=\"none\" stroke=\"black\" d=\"M185.47,-222.91C166,-210.66 144.68,-197.25 125.42,-185.13\"/>\n<polygon fill=\"black\" stroke=\"black\" points=\"127.06,-182.03 116.73,-179.67 123.33,-187.95 127.06,-182.03\"/>\n<text text-anchor=\"middle\" x=\"122.28\" y=\"-200.34\" font-family=\"Helvetica,sans-Serif\" font-size=\"14.00\">no</text>\n</g>\n<!-- 10 -->\n<g id=\"node7\" class=\"node\">\n<title>10</title>\n<path fill=\"#ffffff\" stroke=\"black\" d=\"M341.5,-187C341.5,-187 158.5,-187 158.5,-187 152.5,-187 146.5,-181 146.5,-175 146.5,-175 146.5,-116 146.5,-116 146.5,-110 152.5,-104 158.5,-104 158.5,-104 341.5,-104 341.5,-104 347.5,-104 353.5,-110 353.5,-116 353.5,-116 353.5,-175 353.5,-175 353.5,-181 347.5,-187 341.5,-187\"/>\n<text text-anchor=\"start\" x=\"154.5\" y=\"-171.8\" font-family=\"Helvetica,sans-Serif\" font-size=\"14.00\">hours_per_week_scaled le 0.31</text>\n<text text-anchor=\"start\" x=\"202.5\" y=\"-156.8\" font-family=\"Helvetica,sans-Serif\" font-size=\"14.00\">entropy = 0.945</text>\n<text text-anchor=\"start\" x=\"201.5\" y=\"-141.8\" font-family=\"Helvetica,sans-Serif\" font-size=\"14.00\">samples = 2392</text>\n<text text-anchor=\"start\" x=\"192\" y=\"-126.8\" font-family=\"Helvetica,sans-Serif\" font-size=\"14.00\">value = [867, 1525]</text>\n<text text-anchor=\"start\" x=\"194\" y=\"-111.8\" font-family=\"Helvetica,sans-Serif\" font-size=\"14.00\">class = above 50K</text>\n</g>\n<!-- 6&#45;&gt;10 -->\n<g id=\"edge6\" class=\"edge\">\n<title>6&#45;&gt;10</title>\n<path fill=\"none\" stroke=\"black\" d=\"M250,-222.91C250,-214.65 250,-205.86 250,-197.3\"/>\n<polygon fill=\"black\" stroke=\"black\" points=\"253.5,-197.02 250,-187.02 246.5,-197.02 253.5,-197.02\"/>\n<text text-anchor=\"middle\" x=\"239.39\" y=\"-193.93\" font-family=\"Helvetica,sans-Serif\" font-size=\"14.00\">yes</text>\n</g>\n<!-- 11 -->\n<g id=\"node8\" class=\"node\">\n<title>11</title>\n<path fill=\"#ffffff\" stroke=\"black\" d=\"M157,-68C157,-68 49,-68 49,-68 43,-68 37,-62 37,-56 37,-56 37,-12 37,-12 37,-6 43,0 49,0 49,0 157,0 157,0 163,0 169,-6 169,-12 169,-12 169,-56 169,-56 169,-62 163,-68 157,-68\"/>\n<text text-anchor=\"start\" x=\"55.5\" y=\"-52.8\" font-family=\"Helvetica,sans-Serif\" font-size=\"14.00\">entropy = 0.916</text>\n<text text-anchor=\"start\" x=\"54.5\" y=\"-37.8\" font-family=\"Helvetica,sans-Serif\" font-size=\"14.00\">samples = 2218</text>\n<text text-anchor=\"start\" x=\"45\" y=\"-22.8\" font-family=\"Helvetica,sans-Serif\" font-size=\"14.00\">value = [735, 1483]</text>\n<text text-anchor=\"start\" x=\"47\" y=\"-7.8\" font-family=\"Helvetica,sans-Serif\" font-size=\"14.00\">class = above 50K</text>\n</g>\n<!-- 10&#45;&gt;11 -->\n<g id=\"edge7\" class=\"edge\">\n<title>10&#45;&gt;11</title>\n<path fill=\"none\" stroke=\"black\" d=\"M195.26,-103.73C182.41,-94.15 168.73,-83.96 155.95,-74.44\"/>\n<polygon fill=\"black\" stroke=\"black\" points=\"157.81,-71.47 147.7,-68.3 153.63,-77.08 157.81,-71.47\"/>\n<text text-anchor=\"middle\" x=\"151.32\" y=\"-89.34\" font-family=\"Helvetica,sans-Serif\" font-size=\"14.00\">no</text>\n</g>\n<!-- 14 -->\n<g id=\"node9\" class=\"node\">\n<title>14</title>\n<path fill=\"#ffffff\" stroke=\"black\" d=\"M301,-68C301,-68 199,-68 199,-68 193,-68 187,-62 187,-56 187,-56 187,-12 187,-12 187,-6 193,0 199,0 199,0 301,0 301,0 307,0 313,-6 313,-12 313,-12 313,-56 313,-56 313,-62 307,-68 301,-68\"/>\n<text text-anchor=\"start\" x=\"202.5\" y=\"-52.8\" font-family=\"Helvetica,sans-Serif\" font-size=\"14.00\">entropy = 0.797</text>\n<text text-anchor=\"start\" x=\"205\" y=\"-37.8\" font-family=\"Helvetica,sans-Serif\" font-size=\"14.00\">samples = 174</text>\n<text text-anchor=\"start\" x=\"199.5\" y=\"-22.8\" font-family=\"Helvetica,sans-Serif\" font-size=\"14.00\">value = [132, 42]</text>\n<text text-anchor=\"start\" x=\"195\" y=\"-7.8\" font-family=\"Helvetica,sans-Serif\" font-size=\"14.00\">class = below 50K</text>\n</g>\n<!-- 10&#45;&gt;14 -->\n<g id=\"edge8\" class=\"edge\">\n<title>10&#45;&gt;14</title>\n<path fill=\"none\" stroke=\"black\" d=\"M250,-103.73C250,-95.52 250,-86.86 250,-78.56\"/>\n<polygon fill=\"black\" stroke=\"black\" points=\"253.5,-78.3 250,-68.3 246.5,-78.3 253.5,-78.3\"/>\n<text text-anchor=\"middle\" x=\"239.39\" y=\"-75.21\" font-family=\"Helvetica,sans-Serif\" font-size=\"14.00\">yes</text>\n</g>\n<!-- 18 -->\n<g id=\"node11\" class=\"node\">\n<title>18</title>\n<path fill=\"#ffffff\" stroke=\"black\" d=\"M486,-298.5C486,-298.5 382,-298.5 382,-298.5 376,-298.5 370,-292.5 370,-286.5 370,-286.5 370,-242.5 370,-242.5 370,-236.5 376,-230.5 382,-230.5 382,-230.5 486,-230.5 486,-230.5 492,-230.5 498,-236.5 498,-242.5 498,-242.5 498,-286.5 498,-286.5 498,-292.5 492,-298.5 486,-298.5\"/>\n<text text-anchor=\"start\" x=\"386.5\" y=\"-283.3\" font-family=\"Helvetica,sans-Serif\" font-size=\"14.00\">entropy = 0.078</text>\n<text text-anchor=\"start\" x=\"389\" y=\"-268.3\" font-family=\"Helvetica,sans-Serif\" font-size=\"14.00\">samples = 312</text>\n<text text-anchor=\"start\" x=\"387\" y=\"-253.3\" font-family=\"Helvetica,sans-Serif\" font-size=\"14.00\">value = [3, 309]</text>\n<text text-anchor=\"start\" x=\"378\" y=\"-238.3\" font-family=\"Helvetica,sans-Serif\" font-size=\"14.00\">class = above 50K</text>\n</g>\n<!-- 17&#45;&gt;18 -->\n<g id=\"edge10\" class=\"edge\">\n<title>17&#45;&gt;18</title>\n<path fill=\"none\" stroke=\"black\" d=\"M487.55,-341.91C479.66,-330.65 471.09,-318.42 463.16,-307.11\"/>\n<polygon fill=\"black\" stroke=\"black\" points=\"465.85,-304.85 457.25,-298.67 460.12,-308.86 465.85,-304.85\"/>\n<text text-anchor=\"middle\" x=\"452.91\" y=\"-319.59\" font-family=\"Helvetica,sans-Serif\" font-size=\"14.00\">no</text>\n</g>\n<!-- 21 -->\n<g id=\"node12\" class=\"node\">\n<title>21</title>\n<path fill=\"#ffffff\" stroke=\"black\" d=\"M656,-306C656,-306 528,-306 528,-306 522,-306 516,-300 516,-294 516,-294 516,-235 516,-235 516,-229 522,-223 528,-223 528,-223 656,-223 656,-223 662,-223 668,-229 668,-235 668,-235 668,-294 668,-294 668,-300 662,-306 656,-306\"/>\n<text text-anchor=\"start\" x=\"524\" y=\"-290.8\" font-family=\"Helvetica,sans-Serif\" font-size=\"14.00\">education_new le 7.21</text>\n<text text-anchor=\"start\" x=\"544.5\" y=\"-275.8\" font-family=\"Helvetica,sans-Serif\" font-size=\"14.00\">entropy = 0.881</text>\n<text text-anchor=\"start\" x=\"543.5\" y=\"-260.8\" font-family=\"Helvetica,sans-Serif\" font-size=\"14.00\">samples = 7175</text>\n<text text-anchor=\"start\" x=\"530\" y=\"-245.8\" font-family=\"Helvetica,sans-Serif\" font-size=\"14.00\">value = [5022, 2153]</text>\n<text text-anchor=\"start\" x=\"537\" y=\"-230.8\" font-family=\"Helvetica,sans-Serif\" font-size=\"14.00\">class = below 50K</text>\n</g>\n<!-- 17&#45;&gt;21 -->\n<g id=\"edge11\" class=\"edge\">\n<title>17&#45;&gt;21</title>\n<path fill=\"none\" stroke=\"black\" d=\"M542.37,-341.91C548.09,-333.1 554.19,-323.7 560.1,-314.61\"/>\n<polygon fill=\"black\" stroke=\"black\" points=\"563.17,-316.31 565.68,-306.02 557.3,-312.5 563.17,-316.31\"/>\n<text text-anchor=\"middle\" x=\"551.01\" y=\"-305.44\" font-family=\"Helvetica,sans-Serif\" font-size=\"14.00\">yes</text>\n</g>\n<!-- 22 -->\n<g id=\"node13\" class=\"node\">\n<title>22</title>\n<path fill=\"#ffffff\" stroke=\"black\" d=\"M598,-187C598,-187 482,-187 482,-187 476,-187 470,-181 470,-175 470,-175 470,-116 470,-116 470,-110 476,-104 482,-104 482,-104 598,-104 598,-104 604,-104 610,-110 610,-116 610,-116 610,-175 610,-175 610,-181 604,-187 598,-187\"/>\n<text text-anchor=\"start\" x=\"483\" y=\"-171.8\" font-family=\"Helvetica,sans-Serif\" font-size=\"14.00\">age_scaled le 0.24</text>\n<text text-anchor=\"start\" x=\"492.5\" y=\"-156.8\" font-family=\"Helvetica,sans-Serif\" font-size=\"14.00\">entropy = 0.925</text>\n<text text-anchor=\"start\" x=\"491.5\" y=\"-141.8\" font-family=\"Helvetica,sans-Serif\" font-size=\"14.00\">samples = 5952</text>\n<text text-anchor=\"start\" x=\"478\" y=\"-126.8\" font-family=\"Helvetica,sans-Serif\" font-size=\"14.00\">value = [3929, 2023]</text>\n<text text-anchor=\"start\" x=\"485\" y=\"-111.8\" font-family=\"Helvetica,sans-Serif\" font-size=\"14.00\">class = below 50K</text>\n</g>\n<!-- 21&#45;&gt;22 -->\n<g id=\"edge12\" class=\"edge\">\n<title>21&#45;&gt;22</title>\n<path fill=\"none\" stroke=\"black\" d=\"M573.96,-222.91C570.13,-214.29 566.04,-205.09 562.08,-196.17\"/>\n<polygon fill=\"black\" stroke=\"black\" points=\"565.27,-194.74 558.01,-187.02 558.87,-197.58 565.27,-194.74\"/>\n<text text-anchor=\"middle\" x=\"549.03\" y=\"-206.65\" font-family=\"Helvetica,sans-Serif\" font-size=\"14.00\">no</text>\n</g>\n<!-- 29 -->\n<g id=\"node16\" class=\"node\">\n<title>29</title>\n<path fill=\"#ffffff\" stroke=\"black\" d=\"M795.5,-187C795.5,-187 640.5,-187 640.5,-187 634.5,-187 628.5,-181 628.5,-175 628.5,-175 628.5,-116 628.5,-116 628.5,-110 634.5,-104 640.5,-104 640.5,-104 795.5,-104 795.5,-104 801.5,-104 807.5,-110 807.5,-116 807.5,-116 807.5,-175 807.5,-175 807.5,-181 801.5,-187 795.5,-187\"/>\n<text text-anchor=\"start\" x=\"636.5\" y=\"-171.8\" font-family=\"Helvetica,sans-Serif\" font-size=\"14.00\">capital_gain_scaled le 0.05</text>\n<text text-anchor=\"start\" x=\"670.5\" y=\"-156.8\" font-family=\"Helvetica,sans-Serif\" font-size=\"14.00\">entropy = 0.489</text>\n<text text-anchor=\"start\" x=\"669.5\" y=\"-141.8\" font-family=\"Helvetica,sans-Serif\" font-size=\"14.00\">samples = 1223</text>\n<text text-anchor=\"start\" x=\"660\" y=\"-126.8\" font-family=\"Helvetica,sans-Serif\" font-size=\"14.00\">value = [1093, 130]</text>\n<text text-anchor=\"start\" x=\"663\" y=\"-111.8\" font-family=\"Helvetica,sans-Serif\" font-size=\"14.00\">class = below 50K</text>\n</g>\n<!-- 21&#45;&gt;29 -->\n<g id=\"edge15\" class=\"edge\">\n<title>21&#45;&gt;29</title>\n<path fill=\"none\" stroke=\"black\" d=\"M635.72,-222.91C645.78,-213.56 656.57,-203.54 666.92,-193.93\"/>\n<polygon fill=\"black\" stroke=\"black\" points=\"669.42,-196.39 674.36,-187.02 664.65,-191.26 669.42,-196.39\"/>\n<text text-anchor=\"middle\" x=\"659.37\" y=\"-182.77\" font-family=\"Helvetica,sans-Serif\" font-size=\"14.00\">yes</text>\n</g>\n<!-- 23 -->\n<g id=\"node14\" class=\"node\">\n<title>23</title>\n<path fill=\"#ffffff\" stroke=\"black\" d=\"M459,-68C459,-68 343,-68 343,-68 337,-68 331,-62 331,-56 331,-56 331,-12 331,-12 331,-6 337,0 343,0 343,0 459,0 459,0 465,0 471,-6 471,-12 471,-12 471,-56 471,-56 471,-62 465,-68 459,-68\"/>\n<text text-anchor=\"start\" x=\"353.5\" y=\"-52.8\" font-family=\"Helvetica,sans-Serif\" font-size=\"14.00\">entropy = 0.966</text>\n<text text-anchor=\"start\" x=\"352.5\" y=\"-37.8\" font-family=\"Helvetica,sans-Serif\" font-size=\"14.00\">samples = 4258</text>\n<text text-anchor=\"start\" x=\"339\" y=\"-22.8\" font-family=\"Helvetica,sans-Serif\" font-size=\"14.00\">value = [2587, 1671]</text>\n<text text-anchor=\"start\" x=\"346\" y=\"-7.8\" font-family=\"Helvetica,sans-Serif\" font-size=\"14.00\">class = below 50K</text>\n</g>\n<!-- 22&#45;&gt;23 -->\n<g id=\"edge13\" class=\"edge\">\n<title>22&#45;&gt;23</title>\n<path fill=\"none\" stroke=\"black\" d=\"M488.24,-103.73C476.2,-94.24 463.4,-84.16 451.42,-74.72\"/>\n<polygon fill=\"black\" stroke=\"black\" points=\"453.29,-71.74 443.27,-68.3 448.96,-77.24 453.29,-71.74\"/>\n<text text-anchor=\"middle\" x=\"446.22\" y=\"-89.43\" font-family=\"Helvetica,sans-Serif\" font-size=\"14.00\">no</text>\n</g>\n<!-- 26 -->\n<g id=\"node15\" class=\"node\">\n<title>26</title>\n<path fill=\"#ffffff\" stroke=\"black\" d=\"M609,-68C609,-68 501,-68 501,-68 495,-68 489,-62 489,-56 489,-56 489,-12 489,-12 489,-6 495,0 501,0 501,0 609,0 609,0 615,0 621,-6 621,-12 621,-12 621,-56 621,-56 621,-62 615,-68 609,-68\"/>\n<text text-anchor=\"start\" x=\"507.5\" y=\"-52.8\" font-family=\"Helvetica,sans-Serif\" font-size=\"14.00\">entropy = 0.737</text>\n<text text-anchor=\"start\" x=\"506.5\" y=\"-37.8\" font-family=\"Helvetica,sans-Serif\" font-size=\"14.00\">samples = 1694</text>\n<text text-anchor=\"start\" x=\"497\" y=\"-22.8\" font-family=\"Helvetica,sans-Serif\" font-size=\"14.00\">value = [1342, 352]</text>\n<text text-anchor=\"start\" x=\"500\" y=\"-7.8\" font-family=\"Helvetica,sans-Serif\" font-size=\"14.00\">class = below 50K</text>\n</g>\n<!-- 22&#45;&gt;26 -->\n<g id=\"edge14\" class=\"edge\">\n<title>22&#45;&gt;26</title>\n<path fill=\"none\" stroke=\"black\" d=\"M545.59,-103.73C546.72,-95.43 547.92,-86.67 549.07,-78.28\"/>\n<polygon fill=\"black\" stroke=\"black\" points=\"552.55,-78.68 550.44,-68.3 545.61,-77.73 552.55,-78.68\"/>\n<text text-anchor=\"middle\" x=\"538.49\" y=\"-73.67\" font-family=\"Helvetica,sans-Serif\" font-size=\"14.00\">yes</text>\n</g>\n<!-- 30 -->\n<g id=\"node17\" class=\"node\">\n<title>30</title>\n<path fill=\"#ffffff\" stroke=\"black\" d=\"M755,-68C755,-68 651,-68 651,-68 645,-68 639,-62 639,-56 639,-56 639,-12 639,-12 639,-6 645,0 651,0 651,0 755,0 755,0 761,0 767,-6 767,-12 767,-12 767,-56 767,-56 767,-62 761,-68 755,-68\"/>\n<text text-anchor=\"start\" x=\"655.5\" y=\"-52.8\" font-family=\"Helvetica,sans-Serif\" font-size=\"14.00\">entropy = 0.000</text>\n<text text-anchor=\"start\" x=\"665.5\" y=\"-37.8\" font-family=\"Helvetica,sans-Serif\" font-size=\"14.00\">samples = 9</text>\n<text text-anchor=\"start\" x=\"663.5\" y=\"-22.8\" font-family=\"Helvetica,sans-Serif\" font-size=\"14.00\">value = [0, 9]</text>\n<text text-anchor=\"start\" x=\"647\" y=\"-7.8\" font-family=\"Helvetica,sans-Serif\" font-size=\"14.00\">class = above 50K</text>\n</g>\n<!-- 29&#45;&gt;30 -->\n<g id=\"edge16\" class=\"edge\">\n<title>29&#45;&gt;30</title>\n<path fill=\"none\" stroke=\"black\" d=\"M712.41,-103.73C711.28,-95.43 710.08,-86.67 708.93,-78.28\"/>\n<polygon fill=\"black\" stroke=\"black\" points=\"712.39,-77.73 707.56,-68.3 705.45,-78.68 712.39,-77.73\"/>\n<text text-anchor=\"middle\" x=\"692.45\" y=\"-84.51\" font-family=\"Helvetica,sans-Serif\" font-size=\"14.00\">no</text>\n</g>\n<!-- 33 -->\n<g id=\"node18\" class=\"node\">\n<title>33</title>\n<path fill=\"#ffffff\" stroke=\"black\" d=\"M905,-68C905,-68 797,-68 797,-68 791,-68 785,-62 785,-56 785,-56 785,-12 785,-12 785,-6 791,0 797,0 797,0 905,0 905,0 911,0 917,-6 917,-12 917,-12 917,-56 917,-56 917,-62 911,-68 905,-68\"/>\n<text text-anchor=\"start\" x=\"803.5\" y=\"-52.8\" font-family=\"Helvetica,sans-Serif\" font-size=\"14.00\">entropy = 0.468</text>\n<text text-anchor=\"start\" x=\"802.5\" y=\"-37.8\" font-family=\"Helvetica,sans-Serif\" font-size=\"14.00\">samples = 1214</text>\n<text text-anchor=\"start\" x=\"793\" y=\"-22.8\" font-family=\"Helvetica,sans-Serif\" font-size=\"14.00\">value = [1093, 121]</text>\n<text text-anchor=\"start\" x=\"796\" y=\"-7.8\" font-family=\"Helvetica,sans-Serif\" font-size=\"14.00\">class = below 50K</text>\n</g>\n<!-- 29&#45;&gt;33 -->\n<g id=\"edge17\" class=\"edge\">\n<title>29&#45;&gt;33</title>\n<path fill=\"none\" stroke=\"black\" d=\"M767.52,-103.73C779.05,-94.24 791.3,-84.16 802.76,-74.72\"/>\n<polygon fill=\"black\" stroke=\"black\" points=\"805.06,-77.36 810.55,-68.3 800.61,-71.95 805.06,-77.36\"/>\n<text text-anchor=\"middle\" x=\"795.62\" y=\"-63.15\" font-family=\"Helvetica,sans-Serif\" font-size=\"14.00\">yes</text>\n</g>\n<!-- 37 -->\n<g id=\"node20\" class=\"node\">\n<title>37</title>\n<path fill=\"#ffffff\" stroke=\"black\" d=\"M892,-417.5C892,-417.5 788,-417.5 788,-417.5 782,-417.5 776,-411.5 776,-405.5 776,-405.5 776,-361.5 776,-361.5 776,-355.5 782,-349.5 788,-349.5 788,-349.5 892,-349.5 892,-349.5 898,-349.5 904,-355.5 904,-361.5 904,-361.5 904,-405.5 904,-405.5 904,-411.5 898,-417.5 892,-417.5\"/>\n<text text-anchor=\"start\" x=\"792.5\" y=\"-402.3\" font-family=\"Helvetica,sans-Serif\" font-size=\"14.00\">entropy = 0.221</text>\n<text text-anchor=\"start\" x=\"795\" y=\"-387.3\" font-family=\"Helvetica,sans-Serif\" font-size=\"14.00\">samples = 366</text>\n<text text-anchor=\"start\" x=\"789.5\" y=\"-372.3\" font-family=\"Helvetica,sans-Serif\" font-size=\"14.00\">value = [13, 353]</text>\n<text text-anchor=\"start\" x=\"784\" y=\"-357.3\" font-family=\"Helvetica,sans-Serif\" font-size=\"14.00\">class = above 50K</text>\n</g>\n<!-- 36&#45;&gt;37 -->\n<g id=\"edge19\" class=\"edge\">\n<title>36&#45;&gt;37</title>\n<path fill=\"none\" stroke=\"black\" d=\"M840,-460.91C840,-450.2 840,-438.62 840,-427.78\"/>\n<polygon fill=\"black\" stroke=\"black\" points=\"843.5,-427.67 840,-417.67 836.5,-427.67 843.5,-427.67\"/>\n<text text-anchor=\"middle\" x=\"822.32\" y=\"-431.64\" font-family=\"Helvetica,sans-Serif\" font-size=\"14.00\">no</text>\n</g>\n<!-- 40 -->\n<g id=\"node21\" class=\"node\">\n<title>40</title>\n<path fill=\"#ffffff\" stroke=\"black\" d=\"M1359,-425C1359,-425 1075,-425 1075,-425 1069,-425 1063,-419 1063,-413 1063,-413 1063,-354 1063,-354 1063,-348 1069,-342 1075,-342 1075,-342 1359,-342 1359,-342 1365,-342 1371,-348 1371,-354 1371,-354 1371,-413 1371,-413 1371,-419 1365,-425 1359,-425\"/>\n<text text-anchor=\"start\" x=\"1071\" y=\"-409.8\" font-family=\"Helvetica,sans-Serif\" font-size=\"14.00\">marital_relation_married&#45;civ&#45;spouse_wife le 0.50</text>\n<text text-anchor=\"start\" x=\"1169.5\" y=\"-394.8\" font-family=\"Helvetica,sans-Serif\" font-size=\"14.00\">entropy = 0.397</text>\n<text text-anchor=\"start\" x=\"1164.5\" y=\"-379.8\" font-family=\"Helvetica,sans-Serif\" font-size=\"14.00\">samples = 15029</text>\n<text text-anchor=\"start\" x=\"1151.5\" y=\"-364.8\" font-family=\"Helvetica,sans-Serif\" font-size=\"14.00\">value = [13847, 1182]</text>\n<text text-anchor=\"start\" x=\"1162\" y=\"-349.8\" font-family=\"Helvetica,sans-Serif\" font-size=\"14.00\">class = below 50K</text>\n</g>\n<!-- 36&#45;&gt;40 -->\n<g id=\"edge20\" class=\"edge\">\n<title>36&#45;&gt;40</title>\n<path fill=\"none\" stroke=\"black\" d=\"M929.82,-473.62C973.72,-460 1027.56,-443.29 1076.72,-428.04\"/>\n<polygon fill=\"black\" stroke=\"black\" points=\"1077.97,-431.31 1086.48,-425.01 1075.89,-424.63 1077.97,-431.31\"/>\n<text text-anchor=\"middle\" x=\"1073.21\" y=\"-414.32\" font-family=\"Helvetica,sans-Serif\" font-size=\"14.00\">yes</text>\n</g>\n<!-- 41 -->\n<g id=\"node22\" class=\"node\">\n<title>41</title>\n<path fill=\"#ffffff\" stroke=\"black\" d=\"M1281,-306C1281,-306 1153,-306 1153,-306 1147,-306 1141,-300 1141,-294 1141,-294 1141,-235 1141,-235 1141,-229 1147,-223 1153,-223 1153,-223 1281,-223 1281,-223 1287,-223 1293,-229 1293,-235 1293,-235 1293,-294 1293,-294 1293,-300 1287,-306 1281,-306\"/>\n<text text-anchor=\"start\" x=\"1149\" y=\"-290.8\" font-family=\"Helvetica,sans-Serif\" font-size=\"14.00\">education_new le 9.31</text>\n<text text-anchor=\"start\" x=\"1169.5\" y=\"-275.8\" font-family=\"Helvetica,sans-Serif\" font-size=\"14.00\">entropy = 0.986</text>\n<text text-anchor=\"start\" x=\"1168.5\" y=\"-260.8\" font-family=\"Helvetica,sans-Serif\" font-size=\"14.00\">samples = 1119</text>\n<text text-anchor=\"start\" x=\"1162.5\" y=\"-245.8\" font-family=\"Helvetica,sans-Serif\" font-size=\"14.00\">value = [637, 482]</text>\n<text text-anchor=\"start\" x=\"1162\" y=\"-230.8\" font-family=\"Helvetica,sans-Serif\" font-size=\"14.00\">class = below 50K</text>\n</g>\n<!-- 40&#45;&gt;41 -->\n<g id=\"edge21\" class=\"edge\">\n<title>40&#45;&gt;41</title>\n<path fill=\"none\" stroke=\"black\" d=\"M1217,-341.91C1217,-333.65 1217,-324.86 1217,-316.3\"/>\n<polygon fill=\"black\" stroke=\"black\" points=\"1220.5,-316.02 1217,-306.02 1213.5,-316.02 1220.5,-316.02\"/>\n<text text-anchor=\"middle\" x=\"1199.32\" y=\"-320\" font-family=\"Helvetica,sans-Serif\" font-size=\"14.00\">no</text>\n</g>\n<!-- 56 -->\n<g id=\"node29\" class=\"node\">\n<title>56</title>\n<path fill=\"#ffffff\" stroke=\"black\" d=\"M1718.5,-306C1718.5,-306 1583.5,-306 1583.5,-306 1577.5,-306 1571.5,-300 1571.5,-294 1571.5,-294 1571.5,-235 1571.5,-235 1571.5,-229 1577.5,-223 1583.5,-223 1583.5,-223 1718.5,-223 1718.5,-223 1724.5,-223 1730.5,-229 1730.5,-235 1730.5,-235 1730.5,-294 1730.5,-294 1730.5,-300 1724.5,-306 1718.5,-306\"/>\n<text text-anchor=\"start\" x=\"1579.5\" y=\"-290.8\" font-family=\"Helvetica,sans-Serif\" font-size=\"14.00\">education_new le 11.38</text>\n<text text-anchor=\"start\" x=\"1603.5\" y=\"-275.8\" font-family=\"Helvetica,sans-Serif\" font-size=\"14.00\">entropy = 0.288</text>\n<text text-anchor=\"start\" x=\"1598.5\" y=\"-260.8\" font-family=\"Helvetica,sans-Serif\" font-size=\"14.00\">samples = 13910</text>\n<text text-anchor=\"start\" x=\"1589\" y=\"-245.8\" font-family=\"Helvetica,sans-Serif\" font-size=\"14.00\">value = [13210, 700]</text>\n<text text-anchor=\"start\" x=\"1596\" y=\"-230.8\" font-family=\"Helvetica,sans-Serif\" font-size=\"14.00\">class = below 50K</text>\n</g>\n<!-- 40&#45;&gt;56 -->\n<g id=\"edge28\" class=\"edge\">\n<title>40&#45;&gt;56</title>\n<path fill=\"none\" stroke=\"black\" d=\"M1367.27,-341.99C1431.96,-324.55 1505.42,-304.75 1561.38,-289.66\"/>\n<polygon fill=\"black\" stroke=\"black\" points=\"1562.52,-292.98 1571.27,-286.99 1560.7,-286.22 1562.52,-292.98\"/>\n<text text-anchor=\"middle\" x=\"1558.27\" y=\"-275.81\" font-family=\"Helvetica,sans-Serif\" font-size=\"14.00\">yes</text>\n</g>\n<!-- 42 -->\n<g id=\"node23\" class=\"node\">\n<title>42</title>\n<path fill=\"#ffffff\" stroke=\"black\" d=\"M1203,-187C1203,-187 1049,-187 1049,-187 1043,-187 1037,-181 1037,-175 1037,-175 1037,-116 1037,-116 1037,-110 1043,-104 1049,-104 1049,-104 1203,-104 1203,-104 1209,-104 1215,-110 1215,-116 1215,-116 1215,-175 1215,-175 1215,-181 1209,-187 1203,-187\"/>\n<text text-anchor=\"start\" x=\"1045\" y=\"-171.8\" font-family=\"Helvetica,sans-Serif\" font-size=\"14.00\">capital_loss_scaled le 0.38</text>\n<text text-anchor=\"start\" x=\"1078.5\" y=\"-156.8\" font-family=\"Helvetica,sans-Serif\" font-size=\"14.00\">entropy = 0.937</text>\n<text text-anchor=\"start\" x=\"1081\" y=\"-141.8\" font-family=\"Helvetica,sans-Serif\" font-size=\"14.00\">samples = 419</text>\n<text text-anchor=\"start\" x=\"1071.5\" y=\"-126.8\" font-family=\"Helvetica,sans-Serif\" font-size=\"14.00\">value = [148, 271]</text>\n<text text-anchor=\"start\" x=\"1070\" y=\"-111.8\" font-family=\"Helvetica,sans-Serif\" font-size=\"14.00\">class = above 50K</text>\n</g>\n<!-- 41&#45;&gt;42 -->\n<g id=\"edge22\" class=\"edge\">\n<title>41&#45;&gt;42</title>\n<path fill=\"none\" stroke=\"black\" d=\"M1185.43,-222.91C1178.44,-213.92 1170.97,-204.32 1163.76,-195.05\"/>\n<polygon fill=\"black\" stroke=\"black\" points=\"1166.42,-192.77 1157.52,-187.02 1160.89,-197.06 1166.42,-192.77\"/>\n<text text-anchor=\"middle\" x=\"1154.42\" y=\"-208.13\" font-family=\"Helvetica,sans-Serif\" font-size=\"14.00\">no</text>\n</g>\n<!-- 49 -->\n<g id=\"node26\" class=\"node\">\n<title>49</title>\n<path fill=\"#ffffff\" stroke=\"black\" d=\"M1373,-187C1373,-187 1245,-187 1245,-187 1239,-187 1233,-181 1233,-175 1233,-175 1233,-116 1233,-116 1233,-110 1239,-104 1245,-104 1245,-104 1373,-104 1373,-104 1379,-104 1385,-110 1385,-116 1385,-116 1385,-175 1385,-175 1385,-181 1379,-187 1373,-187\"/>\n<text text-anchor=\"start\" x=\"1241\" y=\"-171.8\" font-family=\"Helvetica,sans-Serif\" font-size=\"14.00\">education_new le 7.14</text>\n<text text-anchor=\"start\" x=\"1261.5\" y=\"-156.8\" font-family=\"Helvetica,sans-Serif\" font-size=\"14.00\">entropy = 0.883</text>\n<text text-anchor=\"start\" x=\"1264\" y=\"-141.8\" font-family=\"Helvetica,sans-Serif\" font-size=\"14.00\">samples = 700</text>\n<text text-anchor=\"start\" x=\"1254.5\" y=\"-126.8\" font-family=\"Helvetica,sans-Serif\" font-size=\"14.00\">value = [489, 211]</text>\n<text text-anchor=\"start\" x=\"1254\" y=\"-111.8\" font-family=\"Helvetica,sans-Serif\" font-size=\"14.00\">class = below 50K</text>\n</g>\n<!-- 41&#45;&gt;49 -->\n<g id=\"edge25\" class=\"edge\">\n<title>41&#45;&gt;49</title>\n<path fill=\"none\" stroke=\"black\" d=\"M1248.92,-222.91C1255.98,-213.92 1263.54,-204.32 1270.82,-195.05\"/>\n<polygon fill=\"black\" stroke=\"black\" points=\"1273.71,-197.05 1277.14,-187.02 1268.2,-192.72 1273.71,-197.05\"/>\n<text text-anchor=\"middle\" x=\"1262.24\" y=\"-185.1\" font-family=\"Helvetica,sans-Serif\" font-size=\"14.00\">yes</text>\n</g>\n<!-- 43 -->\n<g id=\"node24\" class=\"node\">\n<title>43</title>\n<path fill=\"#ffffff\" stroke=\"black\" d=\"M1051,-68C1051,-68 947,-68 947,-68 941,-68 935,-62 935,-56 935,-56 935,-12 935,-12 935,-6 941,0 947,0 947,0 1051,0 1051,0 1057,0 1063,-6 1063,-12 1063,-12 1063,-56 1063,-56 1063,-62 1057,-68 1051,-68\"/>\n<text text-anchor=\"start\" x=\"951.5\" y=\"-52.8\" font-family=\"Helvetica,sans-Serif\" font-size=\"14.00\">entropy = 0.292</text>\n<text text-anchor=\"start\" x=\"958\" y=\"-37.8\" font-family=\"Helvetica,sans-Serif\" font-size=\"14.00\">samples = 39</text>\n<text text-anchor=\"start\" x=\"956\" y=\"-22.8\" font-family=\"Helvetica,sans-Serif\" font-size=\"14.00\">value = [2, 37]</text>\n<text text-anchor=\"start\" x=\"943\" y=\"-7.8\" font-family=\"Helvetica,sans-Serif\" font-size=\"14.00\">class = above 50K</text>\n</g>\n<!-- 42&#45;&gt;43 -->\n<g id=\"edge23\" class=\"edge\">\n<title>42&#45;&gt;43</title>\n<path fill=\"none\" stroke=\"black\" d=\"M1078.71,-103.73C1067.81,-94.33 1056.24,-84.35 1045.38,-74.99\"/>\n<polygon fill=\"black\" stroke=\"black\" points=\"1047.48,-72.18 1037.62,-68.3 1042.91,-77.48 1047.48,-72.18\"/>\n<text text-anchor=\"middle\" x=\"1039.47\" y=\"-89.53\" font-family=\"Helvetica,sans-Serif\" font-size=\"14.00\">no</text>\n</g>\n<!-- 46 -->\n<g id=\"node25\" class=\"node\">\n<title>46</title>\n<path fill=\"#ffffff\" stroke=\"black\" d=\"M1197,-68C1197,-68 1093,-68 1093,-68 1087,-68 1081,-62 1081,-56 1081,-56 1081,-12 1081,-12 1081,-6 1087,0 1093,0 1093,0 1197,0 1197,0 1203,0 1209,-6 1209,-12 1209,-12 1209,-56 1209,-56 1209,-62 1203,-68 1197,-68\"/>\n<text text-anchor=\"start\" x=\"1097.5\" y=\"-52.8\" font-family=\"Helvetica,sans-Serif\" font-size=\"14.00\">entropy = 0.961</text>\n<text text-anchor=\"start\" x=\"1100\" y=\"-37.8\" font-family=\"Helvetica,sans-Serif\" font-size=\"14.00\">samples = 380</text>\n<text text-anchor=\"start\" x=\"1090.5\" y=\"-22.8\" font-family=\"Helvetica,sans-Serif\" font-size=\"14.00\">value = [146, 234]</text>\n<text text-anchor=\"start\" x=\"1089\" y=\"-7.8\" font-family=\"Helvetica,sans-Serif\" font-size=\"14.00\">class = above 50K</text>\n</g>\n<!-- 42&#45;&gt;46 -->\n<g id=\"edge24\" class=\"edge\">\n<title>42&#45;&gt;46</title>\n<path fill=\"none\" stroke=\"black\" d=\"M1133.07,-103.73C1134.52,-95.43 1136.03,-86.67 1137.49,-78.28\"/>\n<polygon fill=\"black\" stroke=\"black\" points=\"1140.96,-78.75 1139.22,-68.3 1134.06,-77.55 1140.96,-78.75\"/>\n<text text-anchor=\"middle\" x=\"1126.96\" y=\"-73.24\" font-family=\"Helvetica,sans-Serif\" font-size=\"14.00\">yes</text>\n</g>\n<!-- 50 -->\n<g id=\"node27\" class=\"node\">\n<title>50</title>\n<path fill=\"#ffffff\" stroke=\"black\" d=\"M1341,-68C1341,-68 1239,-68 1239,-68 1233,-68 1227,-62 1227,-56 1227,-56 1227,-12 1227,-12 1227,-6 1233,0 1239,0 1239,0 1341,0 1341,0 1347,0 1353,-6 1353,-12 1353,-12 1353,-56 1353,-56 1353,-62 1347,-68 1341,-68\"/>\n<text text-anchor=\"start\" x=\"1242.5\" y=\"-52.8\" font-family=\"Helvetica,sans-Serif\" font-size=\"14.00\">entropy = 0.923</text>\n<text text-anchor=\"start\" x=\"1245\" y=\"-37.8\" font-family=\"Helvetica,sans-Serif\" font-size=\"14.00\">samples = 594</text>\n<text text-anchor=\"start\" x=\"1235.5\" y=\"-22.8\" font-family=\"Helvetica,sans-Serif\" font-size=\"14.00\">value = [393, 201]</text>\n<text text-anchor=\"start\" x=\"1235\" y=\"-7.8\" font-family=\"Helvetica,sans-Serif\" font-size=\"14.00\">class = below 50K</text>\n</g>\n<!-- 49&#45;&gt;50 -->\n<g id=\"edge26\" class=\"edge\">\n<title>49&#45;&gt;50</title>\n<path fill=\"none\" stroke=\"black\" d=\"M1301.93,-103.73C1300.48,-95.43 1298.97,-86.67 1297.51,-78.28\"/>\n<polygon fill=\"black\" stroke=\"black\" points=\"1300.94,-77.55 1295.78,-68.3 1294.04,-78.75 1300.94,-77.55\"/>\n<text text-anchor=\"middle\" x=\"1281.38\" y=\"-85.04\" font-family=\"Helvetica,sans-Serif\" font-size=\"14.00\">no</text>\n</g>\n<!-- 53 -->\n<g id=\"node28\" class=\"node\">\n<title>53</title>\n<path fill=\"#ffffff\" stroke=\"black\" d=\"M1485,-68C1485,-68 1383,-68 1383,-68 1377,-68 1371,-62 1371,-56 1371,-56 1371,-12 1371,-12 1371,-6 1377,0 1383,0 1383,0 1485,0 1485,0 1491,0 1497,-6 1497,-12 1497,-12 1497,-56 1497,-56 1497,-62 1491,-68 1485,-68\"/>\n<text text-anchor=\"start\" x=\"1386.5\" y=\"-52.8\" font-family=\"Helvetica,sans-Serif\" font-size=\"14.00\">entropy = 0.451</text>\n<text text-anchor=\"start\" x=\"1389\" y=\"-37.8\" font-family=\"Helvetica,sans-Serif\" font-size=\"14.00\">samples = 106</text>\n<text text-anchor=\"start\" x=\"1387\" y=\"-22.8\" font-family=\"Helvetica,sans-Serif\" font-size=\"14.00\">value = [96, 10]</text>\n<text text-anchor=\"start\" x=\"1379\" y=\"-7.8\" font-family=\"Helvetica,sans-Serif\" font-size=\"14.00\">class = below 50K</text>\n</g>\n<!-- 49&#45;&gt;53 -->\n<g id=\"edge27\" class=\"edge\">\n<title>49&#45;&gt;53</title>\n<path fill=\"none\" stroke=\"black\" d=\"M1355.55,-103.73C1366.27,-94.33 1377.67,-84.35 1388.35,-74.99\"/>\n<polygon fill=\"black\" stroke=\"black\" points=\"1390.77,-77.52 1395.99,-68.3 1386.16,-72.26 1390.77,-77.52\"/>\n<text text-anchor=\"middle\" x=\"1381.02\" y=\"-63.61\" font-family=\"Helvetica,sans-Serif\" font-size=\"14.00\">yes</text>\n</g>\n<!-- 57 -->\n<g id=\"node30\" class=\"node\">\n<title>57</title>\n<path fill=\"#ffffff\" stroke=\"black\" d=\"M1705,-187C1705,-187 1597,-187 1597,-187 1591,-187 1585,-181 1585,-175 1585,-175 1585,-116 1585,-116 1585,-110 1591,-104 1597,-104 1597,-104 1705,-104 1705,-104 1711,-104 1717,-110 1717,-116 1717,-116 1717,-175 1717,-175 1717,-181 1711,-187 1705,-187\"/>\n<text text-anchor=\"start\" x=\"1594\" y=\"-171.8\" font-family=\"Helvetica,sans-Serif\" font-size=\"14.00\">age_scaled le 0.14</text>\n<text text-anchor=\"start\" x=\"1603.5\" y=\"-156.8\" font-family=\"Helvetica,sans-Serif\" font-size=\"14.00\">entropy = 0.607</text>\n<text text-anchor=\"start\" x=\"1602.5\" y=\"-141.8\" font-family=\"Helvetica,sans-Serif\" font-size=\"14.00\">samples = 2749</text>\n<text text-anchor=\"start\" x=\"1593\" y=\"-126.8\" font-family=\"Helvetica,sans-Serif\" font-size=\"14.00\">value = [2340, 409]</text>\n<text text-anchor=\"start\" x=\"1596\" y=\"-111.8\" font-family=\"Helvetica,sans-Serif\" font-size=\"14.00\">class = below 50K</text>\n</g>\n<!-- 56&#45;&gt;57 -->\n<g id=\"edge29\" class=\"edge\">\n<title>56&#45;&gt;57</title>\n<path fill=\"none\" stroke=\"black\" d=\"M1651,-222.91C1651,-214.65 1651,-205.86 1651,-197.3\"/>\n<polygon fill=\"black\" stroke=\"black\" points=\"1654.5,-197.02 1651,-187.02 1647.5,-197.02 1654.5,-197.02\"/>\n<text text-anchor=\"middle\" x=\"1633.32\" y=\"-201\" font-family=\"Helvetica,sans-Serif\" font-size=\"14.00\">no</text>\n</g>\n<!-- 64 -->\n<g id=\"node33\" class=\"node\">\n<title>64</title>\n<path fill=\"#ffffff\" stroke=\"black\" d=\"M1933,-187C1933,-187 1817,-187 1817,-187 1811,-187 1805,-181 1805,-175 1805,-175 1805,-116 1805,-116 1805,-110 1811,-104 1817,-104 1817,-104 1933,-104 1933,-104 1939,-104 1945,-110 1945,-116 1945,-116 1945,-175 1945,-175 1945,-181 1939,-187 1933,-187\"/>\n<text text-anchor=\"start\" x=\"1818\" y=\"-171.8\" font-family=\"Helvetica,sans-Serif\" font-size=\"14.00\">age_scaled le 0.21</text>\n<text text-anchor=\"start\" x=\"1827.5\" y=\"-156.8\" font-family=\"Helvetica,sans-Serif\" font-size=\"14.00\">entropy = 0.174</text>\n<text text-anchor=\"start\" x=\"1822.5\" y=\"-141.8\" font-family=\"Helvetica,sans-Serif\" font-size=\"14.00\">samples = 11161</text>\n<text text-anchor=\"start\" x=\"1813\" y=\"-126.8\" font-family=\"Helvetica,sans-Serif\" font-size=\"14.00\">value = [10870, 291]</text>\n<text text-anchor=\"start\" x=\"1820\" y=\"-111.8\" font-family=\"Helvetica,sans-Serif\" font-size=\"14.00\">class = below 50K</text>\n</g>\n<!-- 56&#45;&gt;64 -->\n<g id=\"edge32\" class=\"edge\">\n<title>56&#45;&gt;64</title>\n<path fill=\"none\" stroke=\"black\" d=\"M1728.72,-222.91C1750.48,-211.54 1774.16,-199.17 1796,-187.76\"/>\n<polygon fill=\"black\" stroke=\"black\" points=\"1797.67,-190.84 1804.92,-183.11 1794.43,-184.63 1797.67,-190.84\"/>\n<text text-anchor=\"middle\" x=\"1790.61\" y=\"-174.92\" font-family=\"Helvetica,sans-Serif\" font-size=\"14.00\">yes</text>\n</g>\n<!-- 58 -->\n<g id=\"node31\" class=\"node\">\n<title>58</title>\n<path fill=\"#ffffff\" stroke=\"black\" d=\"M1635,-68C1635,-68 1527,-68 1527,-68 1521,-68 1515,-62 1515,-56 1515,-56 1515,-12 1515,-12 1515,-6 1521,0 1527,0 1527,0 1635,0 1635,0 1641,0 1647,-6 1647,-12 1647,-12 1647,-56 1647,-56 1647,-62 1641,-68 1635,-68\"/>\n<text text-anchor=\"start\" x=\"1533.5\" y=\"-52.8\" font-family=\"Helvetica,sans-Serif\" font-size=\"14.00\">entropy = 0.731</text>\n<text text-anchor=\"start\" x=\"1532.5\" y=\"-37.8\" font-family=\"Helvetica,sans-Serif\" font-size=\"14.00\">samples = 1921</text>\n<text text-anchor=\"start\" x=\"1523\" y=\"-22.8\" font-family=\"Helvetica,sans-Serif\" font-size=\"14.00\">value = [1528, 393]</text>\n<text text-anchor=\"start\" x=\"1526\" y=\"-7.8\" font-family=\"Helvetica,sans-Serif\" font-size=\"14.00\">class = below 50K</text>\n</g>\n<!-- 57&#45;&gt;58 -->\n<g id=\"edge30\" class=\"edge\">\n<title>57&#45;&gt;58</title>\n<path fill=\"none\" stroke=\"black\" d=\"M1624.93,-103.73C1619.34,-94.97 1613.41,-85.7 1607.79,-76.91\"/>\n<polygon fill=\"black\" stroke=\"black\" points=\"1610.62,-74.84 1602.29,-68.3 1604.72,-78.61 1610.62,-74.84\"/>\n<text text-anchor=\"middle\" x=\"1596.91\" y=\"-89.02\" font-family=\"Helvetica,sans-Serif\" font-size=\"14.00\">no</text>\n</g>\n<!-- 61 -->\n<g id=\"node32\" class=\"node\">\n<title>61</title>\n<path fill=\"#ffffff\" stroke=\"black\" d=\"M1779,-68C1779,-68 1677,-68 1677,-68 1671,-68 1665,-62 1665,-56 1665,-56 1665,-12 1665,-12 1665,-6 1671,0 1677,0 1677,0 1779,0 1779,0 1785,0 1791,-6 1791,-12 1791,-12 1791,-56 1791,-56 1791,-62 1785,-68 1779,-68\"/>\n<text text-anchor=\"start\" x=\"1680.5\" y=\"-52.8\" font-family=\"Helvetica,sans-Serif\" font-size=\"14.00\">entropy = 0.138</text>\n<text text-anchor=\"start\" x=\"1683\" y=\"-37.8\" font-family=\"Helvetica,sans-Serif\" font-size=\"14.00\">samples = 828</text>\n<text text-anchor=\"start\" x=\"1677.5\" y=\"-22.8\" font-family=\"Helvetica,sans-Serif\" font-size=\"14.00\">value = [812, 16]</text>\n<text text-anchor=\"start\" x=\"1673\" y=\"-7.8\" font-family=\"Helvetica,sans-Serif\" font-size=\"14.00\">class = below 50K</text>\n</g>\n<!-- 57&#45;&gt;61 -->\n<g id=\"edge31\" class=\"edge\">\n<title>57&#45;&gt;61</title>\n<path fill=\"none\" stroke=\"black\" d=\"M1679.67,-103.73C1685.89,-94.88 1692.48,-85.51 1698.73,-76.63\"/>\n<polygon fill=\"black\" stroke=\"black\" points=\"1701.69,-78.49 1704.58,-68.3 1695.97,-74.47 1701.69,-78.49\"/>\n<text text-anchor=\"middle\" x=\"1689.81\" y=\"-67.17\" font-family=\"Helvetica,sans-Serif\" font-size=\"14.00\">yes</text>\n</g>\n<!-- 65 -->\n<g id=\"node34\" class=\"node\">\n<title>65</title>\n<path fill=\"#ffffff\" stroke=\"black\" d=\"M1929,-68C1929,-68 1821,-68 1821,-68 1815,-68 1809,-62 1809,-56 1809,-56 1809,-12 1809,-12 1809,-6 1815,0 1821,0 1821,0 1929,0 1929,0 1935,0 1941,-6 1941,-12 1941,-12 1941,-56 1941,-56 1941,-62 1935,-68 1929,-68\"/>\n<text text-anchor=\"start\" x=\"1827.5\" y=\"-52.8\" font-family=\"Helvetica,sans-Serif\" font-size=\"14.00\">entropy = 0.274</text>\n<text text-anchor=\"start\" x=\"1826.5\" y=\"-37.8\" font-family=\"Helvetica,sans-Serif\" font-size=\"14.00\">samples = 5084</text>\n<text text-anchor=\"start\" x=\"1817\" y=\"-22.8\" font-family=\"Helvetica,sans-Serif\" font-size=\"14.00\">value = [4844, 240]</text>\n<text text-anchor=\"start\" x=\"1820\" y=\"-7.8\" font-family=\"Helvetica,sans-Serif\" font-size=\"14.00\">class = below 50K</text>\n</g>\n<!-- 64&#45;&gt;65 -->\n<g id=\"edge33\" class=\"edge\">\n<title>64&#45;&gt;65</title>\n<path fill=\"none\" stroke=\"black\" d=\"M1875,-103.73C1875,-95.52 1875,-86.86 1875,-78.56\"/>\n<polygon fill=\"black\" stroke=\"black\" points=\"1878.5,-78.3 1875,-68.3 1871.5,-78.3 1878.5,-78.3\"/>\n<text text-anchor=\"middle\" x=\"1857.32\" y=\"-82.28\" font-family=\"Helvetica,sans-Serif\" font-size=\"14.00\">no</text>\n</g>\n<!-- 68 -->\n<g id=\"node35\" class=\"node\">\n<title>68</title>\n<path fill=\"#ffffff\" stroke=\"black\" d=\"M2073,-68C2073,-68 1971,-68 1971,-68 1965,-68 1959,-62 1959,-56 1959,-56 1959,-12 1959,-12 1959,-6 1965,0 1971,0 1971,0 2073,0 2073,0 2079,0 2085,-6 2085,-12 2085,-12 2085,-56 2085,-56 2085,-62 2079,-68 2073,-68\"/>\n<text text-anchor=\"start\" x=\"1974.5\" y=\"-52.8\" font-family=\"Helvetica,sans-Serif\" font-size=\"14.00\">entropy = 0.070</text>\n<text text-anchor=\"start\" x=\"1973.5\" y=\"-37.8\" font-family=\"Helvetica,sans-Serif\" font-size=\"14.00\">samples = 6077</text>\n<text text-anchor=\"start\" x=\"1967.5\" y=\"-22.8\" font-family=\"Helvetica,sans-Serif\" font-size=\"14.00\">value = [6026, 51]</text>\n<text text-anchor=\"start\" x=\"1967\" y=\"-7.8\" font-family=\"Helvetica,sans-Serif\" font-size=\"14.00\">class = below 50K</text>\n</g>\n<!-- 64&#45;&gt;68 -->\n<g id=\"edge34\" class=\"edge\">\n<title>64&#45;&gt;68</title>\n<path fill=\"none\" stroke=\"black\" d=\"M1929.74,-103.73C1942.59,-94.15 1956.27,-83.96 1969.05,-74.44\"/>\n<polygon fill=\"black\" stroke=\"black\" points=\"1971.37,-77.08 1977.3,-68.3 1967.19,-71.47 1971.37,-77.08\"/>\n<text text-anchor=\"middle\" x=\"1962.45\" y=\"-62.43\" font-family=\"Helvetica,sans-Serif\" font-size=\"14.00\">yes</text>\n</g>\n</g>\n</svg>\n",
            "text/plain": [
              "<graphviz.sources.Source at 0x7f384b1bca00>"
            ]
          },
          "metadata": {},
          "execution_count": 226
        }
      ]
    },
    {
      "cell_type": "markdown",
      "source": [
        "### Evaluating on Test data"
      ],
      "metadata": {
        "id": "hr1tlFYsUyZH"
      },
      "id": "hr1tlFYsUyZH"
    },
    {
      "cell_type": "code",
      "source": [
        "new_train_data[\"income\"].value_counts()"
      ],
      "metadata": {
        "colab": {
          "base_uri": "https://localhost:8080/"
        },
        "id": "U7qs1zV6xO9X",
        "outputId": "3fd2576e-791b-48a2-e9c9-50e51970b4d8"
      },
      "id": "U7qs1zV6xO9X",
      "execution_count": 227,
      "outputs": [
        {
          "output_type": "execute_result",
          "data": {
            "text/plain": [
              "0    19762\n",
              "1     6273\n",
              "Name: income, dtype: int64"
            ]
          },
          "metadata": {},
          "execution_count": 227
        }
      ]
    },
    {
      "cell_type": "code",
      "source": [
        "my_dt.samples"
      ],
      "metadata": {
        "colab": {
          "base_uri": "https://localhost:8080/"
        },
        "id": "M-qS7J4e3krT",
        "outputId": "577d586f-aa4e-4a1c-ce9e-0128c2906910"
      },
      "id": "M-qS7J4e3krT",
      "execution_count": 228,
      "outputs": [
        {
          "output_type": "execute_result",
          "data": {
            "text/plain": [
              "26035"
            ]
          },
          "metadata": {},
          "execution_count": 228
        }
      ]
    },
    {
      "cell_type": "code",
      "source": [
        "my_dt = decision_tree(new_train_data, 'income', max_depth=15)"
      ],
      "metadata": {
        "id": "xMLo7e9TdMHl"
      },
      "id": "xMLo7e9TdMHl",
      "execution_count": 229,
      "outputs": []
    },
    {
      "cell_type": "code",
      "source": [
        "def tree_predict(my_dt, obs):\n",
        "  out_dt = my_dt\n",
        "  income = \"\"\n",
        "  while out_dt.column != \"\":\n",
        "    if obs[out_dt.column] <= out_dt.thresh:\n",
        "      out_dt = out_dt.branch_positive\n",
        "    else:\n",
        "      out_dt = out_dt.branch_negative\n",
        "  \n",
        "  if out_dt.value[1]/(out_dt.value[1] + out_dt.value[0]) >= 0.5:\n",
        "    income = 1\n",
        "  else:\n",
        "    income = 0\n",
        "  \n",
        "  return out_dt, income"
      ],
      "metadata": {
        "id": "53N3oCDaUxbe"
      },
      "id": "53N3oCDaUxbe",
      "execution_count": 329,
      "outputs": []
    },
    {
      "cell_type": "code",
      "source": [
        "len(new_test_data)"
      ],
      "metadata": {
        "colab": {
          "base_uri": "https://localhost:8080/"
        },
        "id": "olp8JpJwXIyb",
        "outputId": "f4dbe58f-93f0-4c30-e17a-70eebec8d957"
      },
      "id": "olp8JpJwXIyb",
      "execution_count": 330,
      "outputs": [
        {
          "output_type": "execute_result",
          "data": {
            "text/plain": [
              "6513"
            ]
          },
          "metadata": {},
          "execution_count": 330
        }
      ]
    },
    {
      "cell_type": "code",
      "source": [
        "new_test_data_use = new_test_data.reset_index(drop = True)"
      ],
      "metadata": {
        "id": "oyit6h5iFgG7"
      },
      "id": "oyit6h5iFgG7",
      "execution_count": 331,
      "outputs": []
    },
    {
      "cell_type": "code",
      "source": [
        "incomes = []\n",
        "out_vals = []\n",
        "for i in range(len(new_test_data_use)):\n",
        "  out_dt, income = tree_predict(my_dt, new_test_data_use.iloc[i,:])\n",
        "  incomes.append(income)\n",
        "  out_vals.append(out_dt.value)"
      ],
      "metadata": {
        "id": "PQDOiDvaXMnc"
      },
      "id": "PQDOiDvaXMnc",
      "execution_count": 332,
      "outputs": []
    },
    {
      "cell_type": "code",
      "source": [
        "from collections import Counter\n",
        "Counter(incomes)"
      ],
      "metadata": {
        "colab": {
          "base_uri": "https://localhost:8080/"
        },
        "id": "CamewcxeXSet",
        "outputId": "cc885ea9-42d1-4825-848d-6c934723a19c"
      },
      "id": "CamewcxeXSet",
      "execution_count": 333,
      "outputs": [
        {
          "output_type": "execute_result",
          "data": {
            "text/plain": [
              "Counter({0: 5864, 1: 649})"
            ]
          },
          "metadata": {},
          "execution_count": 333
        }
      ]
    },
    {
      "cell_type": "code",
      "source": [
        "out_vals[:10]"
      ],
      "metadata": {
        "colab": {
          "base_uri": "https://localhost:8080/"
        },
        "id": "ykrK75zXwKyG",
        "outputId": "34d0e522-0dd7-49a0-bf38-d763330b1808"
      },
      "id": "ykrK75zXwKyG",
      "execution_count": 334,
      "outputs": [
        {
          "output_type": "execute_result",
          "data": {
            "text/plain": [
              "[[976, 13],\n",
              " [2224, 37],\n",
              " [1537, 0],\n",
              " [93, 75],\n",
              " [728, 3],\n",
              " [2224, 37],\n",
              " [1445, 0],\n",
              " [2224, 37],\n",
              " [1537, 0],\n",
              " [728, 3]]"
            ]
          },
          "metadata": {},
          "execution_count": 334
        }
      ]
    },
    {
      "cell_type": "code",
      "source": [
        "out_dt, income = tree_predict(my_dt, new_test_data.iloc[1000,:])"
      ],
      "metadata": {
        "id": "1_HxNdBIUxjy"
      },
      "id": "1_HxNdBIUxjy",
      "execution_count": 335,
      "outputs": []
    },
    {
      "cell_type": "code",
      "source": [
        "out_dt.value"
      ],
      "metadata": {
        "colab": {
          "base_uri": "https://localhost:8080/"
        },
        "id": "XSyuYxFaWXgf",
        "outputId": "50440e43-fcf7-4ab0-a69d-b4fa18bdc6e4"
      },
      "id": "XSyuYxFaWXgf",
      "execution_count": 336,
      "outputs": [
        {
          "output_type": "execute_result",
          "data": {
            "text/plain": [
              "[812, 16]"
            ]
          },
          "metadata": {},
          "execution_count": 336
        }
      ]
    },
    {
      "cell_type": "code",
      "source": [
        "income"
      ],
      "metadata": {
        "colab": {
          "base_uri": "https://localhost:8080/"
        },
        "id": "YHA_Ov-xWZgM",
        "outputId": "19ee83ac-fd36-4062-8329-d84a5b3f1e6a"
      },
      "id": "YHA_Ov-xWZgM",
      "execution_count": 337,
      "outputs": [
        {
          "output_type": "execute_result",
          "data": {
            "text/plain": [
              "0"
            ]
          },
          "metadata": {},
          "execution_count": 337
        }
      ]
    },
    {
      "cell_type": "code",
      "source": [
        "from sklearn.metrics import classification_report, confusion_matrix\n",
        "import seaborn as sns"
      ],
      "metadata": {
        "id": "_vh3QTVdZFR1"
      },
      "id": "_vh3QTVdZFR1",
      "execution_count": 338,
      "outputs": []
    },
    {
      "cell_type": "code",
      "source": [
        "print(classification_report(y_test, incomes))"
      ],
      "metadata": {
        "colab": {
          "base_uri": "https://localhost:8080/"
        },
        "id": "RLWo_BBxfghC",
        "outputId": "b7b5a269-7f0b-49a2-a3b9-86fbece6e45d"
      },
      "id": "RLWo_BBxfghC",
      "execution_count": 339,
      "outputs": [
        {
          "output_type": "stream",
          "name": "stdout",
          "text": [
            "              precision    recall  f1-score   support\n",
            "\n",
            "           0       0.81      0.96      0.88      4945\n",
            "           1       0.68      0.28      0.40      1568\n",
            "\n",
            "    accuracy                           0.79      6513\n",
            "   macro avg       0.74      0.62      0.64      6513\n",
            "weighted avg       0.78      0.79      0.76      6513\n",
            "\n"
          ]
        }
      ]
    },
    {
      "cell_type": "code",
      "source": [
        "conf = confusion_matrix(y_test,incomes)"
      ],
      "metadata": {
        "id": "9CAxX8Whfjj8"
      },
      "id": "9CAxX8Whfjj8",
      "execution_count": 340,
      "outputs": []
    },
    {
      "cell_type": "code",
      "source": [
        "sns.heatmap(conf, annot = True, cmap = \"RdBu\")"
      ],
      "metadata": {
        "colab": {
          "base_uri": "https://localhost:8080/",
          "height": 447
        },
        "id": "nnhAvk69fpT5",
        "outputId": "21ee33cc-860f-4a19-859f-07745c848cec"
      },
      "id": "nnhAvk69fpT5",
      "execution_count": 341,
      "outputs": [
        {
          "output_type": "execute_result",
          "data": {
            "text/plain": [
              "<Axes: >"
            ]
          },
          "metadata": {},
          "execution_count": 341
        },
        {
          "output_type": "display_data",
          "data": {
            "text/plain": [
              "<Figure size 640x480 with 2 Axes>"
            ],
            "image/png": "[encoded data removed]"
          },
          "metadata": {}
        }
      ]
    },
    {
      "cell_type": "markdown",
      "source": [
        "### Column Gathering"
      ],
      "metadata": {
        "id": "bhOYOBm5A6mB"
      },
      "id": "bhOYOBm5A6mB"
    },
    {
      "cell_type": "code",
      "source": [
        "col_list = []\n",
        "col_list.append(my_dt.column)\n",
        "col_list"
      ],
      "metadata": {
        "colab": {
          "base_uri": "https://localhost:8080/"
        },
        "id": "qYOqp1UMBE92",
        "outputId": "a2f051cc-5711-43e8-b2ac-72aa9ef03d53"
      },
      "id": "qYOqp1UMBE92",
      "execution_count": 342,
      "outputs": [
        {
          "output_type": "execute_result",
          "data": {
            "text/plain": [
              "['marital_relation_married-civ-spouse_husband']"
            ]
          },
          "metadata": {},
          "execution_count": 342
        }
      ]
    },
    {
      "cell_type": "code",
      "source": [
        "my_dt.column"
      ],
      "metadata": {
        "colab": {
          "base_uri": "https://localhost:8080/",
          "height": 35
        },
        "id": "2UbGK1F_BZS_",
        "outputId": "5ad7dc91-89b1-4adc-de2a-d50389ba5242"
      },
      "id": "2UbGK1F_BZS_",
      "execution_count": 343,
      "outputs": [
        {
          "output_type": "execute_result",
          "data": {
            "text/plain": [
              "'marital_relation_married-civ-spouse_husband'"
            ],
            "application/vnd.google.colaboratory.intrinsic+json": {
              "type": "string"
            }
          },
          "metadata": {},
          "execution_count": 343
        }
      ]
    },
    {
      "cell_type": "code",
      "source": [
        "new_dt = my_dt"
      ],
      "metadata": {
        "id": "KlUYpbhXBohO"
      },
      "id": "KlUYpbhXBohO",
      "execution_count": 344,
      "outputs": []
    },
    {
      "cell_type": "code",
      "source": [
        "my_dt.branch_positive.branch_positive.column"
      ],
      "metadata": {
        "colab": {
          "base_uri": "https://localhost:8080/",
          "height": 35
        },
        "id": "mD2s-FjRDF4M",
        "outputId": "2610d924-dc07-426c-9624-40e7a825b68f"
      },
      "id": "mD2s-FjRDF4M",
      "execution_count": 345,
      "outputs": [
        {
          "output_type": "execute_result",
          "data": {
            "text/plain": [
              "'marital_relation_married-civ-spouse_wife'"
            ],
            "application/vnd.google.colaboratory.intrinsic+json": {
              "type": "string"
            }
          },
          "metadata": {},
          "execution_count": 345
        }
      ]
    },
    {
      "cell_type": "code",
      "source": [
        "len(new_train_data)"
      ],
      "metadata": {
        "colab": {
          "base_uri": "https://localhost:8080/"
        },
        "id": "15TeiXkMEJNS",
        "outputId": "d38743c3-8bb3-4fca-e177-21feba6ca1c4"
      },
      "id": "15TeiXkMEJNS",
      "execution_count": 346,
      "outputs": [
        {
          "output_type": "execute_result",
          "data": {
            "text/plain": [
              "26035"
            ]
          },
          "metadata": {},
          "execution_count": 346
        }
      ]
    },
    {
      "cell_type": "code",
      "source": [
        "new_train_data_use = new_train_data.reset_index(drop = True)"
      ],
      "metadata": {
        "id": "syLDw9nwEzEZ"
      },
      "id": "syLDw9nwEzEZ",
      "execution_count": 347,
      "outputs": []
    },
    {
      "cell_type": "code",
      "source": [
        "new_train_data_use.head()"
      ],
      "metadata": {
        "colab": {
          "base_uri": "https://localhost:8080/",
          "height": 317
        },
        "id": "ASmBuldyHMxb",
        "outputId": "f74786c6-3eec-4c69-d473-73567f06768c"
      },
      "id": "ASmBuldyHMxb",
      "execution_count": 354,
      "outputs": [
        {
          "output_type": "execute_result",
          "data": {
            "text/plain": [
              "   age_scaled  workclass_?  workclass_federal-gov  workclass_local-gov  \\\n",
              "0    0.273973          0.0                    0.0                  0.0   \n",
              "1    0.123288          1.0                    0.0                  0.0   \n",
              "2    0.027397          0.0                    0.0                  0.0   \n",
              "3    0.136986          0.0                    0.0                  0.0   \n",
              "4    0.465753          0.0                    0.0                  0.0   \n",
              "\n",
              "   workclass_never-worked  workclass_private  workclass_self-emp-inc  \\\n",
              "0                     0.0                1.0                     0.0   \n",
              "1                     0.0                0.0                     0.0   \n",
              "2                     0.0                1.0                     0.0   \n",
              "3                     0.0                1.0                     0.0   \n",
              "4                     0.0                0.0                     0.0   \n",
              "\n",
              "   workclass_self-emp-not-inc  workclass_state-gov  workclass_without-pay  \\\n",
              "0                         0.0                  0.0                    0.0   \n",
              "1                         0.0                  0.0                    0.0   \n",
              "2                         0.0                  0.0                    0.0   \n",
              "3                         0.0                  0.0                    0.0   \n",
              "4                         1.0                  0.0                    0.0   \n",
              "\n",
              "   ...  marital_relation_never-married_unmarried  \\\n",
              "0  ...                                       0.0   \n",
              "1  ...                                       0.0   \n",
              "2  ...                                       0.0   \n",
              "3  ...                                       0.0   \n",
              "4  ...                                       0.0   \n",
              "\n",
              "   marital_relation_separated_not-in-family  \\\n",
              "0                                       0.0   \n",
              "1                                       0.0   \n",
              "2                                       0.0   \n",
              "3                                       0.0   \n",
              "4                                       0.0   \n",
              "\n",
              "   marital_relation_separated_other-relative  \\\n",
              "0                                        0.0   \n",
              "1                                        0.0   \n",
              "2                                        0.0   \n",
              "3                                        0.0   \n",
              "4                                        0.0   \n",
              "\n",
              "   marital_relation_separated_own-child  marital_relation_separated_unmarried  \\\n",
              "0                                   0.0                                   0.0   \n",
              "1                                   0.0                                   0.0   \n",
              "2                                   0.0                                   0.0   \n",
              "3                                   0.0                                   0.0   \n",
              "4                                   0.0                                   0.0   \n",
              "\n",
              "   marital_relation_widowed_not-in-family  \\\n",
              "0                                     0.0   \n",
              "1                                     0.0   \n",
              "2                                     0.0   \n",
              "3                                     0.0   \n",
              "4                                     0.0   \n",
              "\n",
              "   marital_relation_widowed_other-relative  \\\n",
              "0                                      0.0   \n",
              "1                                      0.0   \n",
              "2                                      0.0   \n",
              "3                                      0.0   \n",
              "4                                      0.0   \n",
              "\n",
              "   marital_relation_widowed_own-child  marital_relation_widowed_unmarried  \\\n",
              "0                                 0.0                                 0.0   \n",
              "1                                 0.0                                 0.0   \n",
              "2                                 0.0                                 0.0   \n",
              "3                                 0.0                                 0.0   \n",
              "4                                 0.0                                 0.0   \n",
              "\n",
              "   income  \n",
              "0       0  \n",
              "1       0  \n",
              "2       0  \n",
              "3       0  \n",
              "4       0  \n",
              "\n",
              "[5 rows x 60 columns]"
            ],
            "text/html": [
              "\n",
              "  <div id=\"df-fd719ba9-e8b5-4790-a089-68cb6e57637f\">\n",
              "    <div class=\"colab-df-container\">\n",
              "      <div>\n",
              "<style scoped>\n",
              "    .dataframe tbody tr th:only-of-type {\n",
              "        vertical-align: middle;\n",
              "    }\n",
              "\n",
              "    .dataframe tbody tr th {\n",
              "        vertical-align: top;\n",
              "    }\n",
              "\n",
              "    .dataframe thead th {\n",
              "        text-align: right;\n",
              "    }\n",
              "</style>\n",
              "<table border=\"1\" class=\"dataframe\">\n",
              "  <thead>\n",
              "    <tr style=\"text-align: right;\">\n",
              "      <th></th>\n",
              "      <th>age_scaled</th>\n",
              "      <th>workclass_?</th>\n",
              "      <th>workclass_federal-gov</th>\n",
              "      <th>workclass_local-gov</th>\n",
              "      <th>workclass_never-worked</th>\n",
              "      <th>workclass_private</th>\n",
              "      <th>workclass_self-emp-inc</th>\n",
              "      <th>workclass_self-emp-not-inc</th>\n",
              "      <th>workclass_state-gov</th>\n",
              "      <th>workclass_without-pay</th>\n",
              "      <th>...</th>\n",
              "      <th>marital_relation_never-married_unmarried</th>\n",
              "      <th>marital_relation_separated_not-in-family</th>\n",
              "      <th>marital_relation_separated_other-relative</th>\n",
              "      <th>marital_relation_separated_own-child</th>\n",
              "      <th>marital_relation_separated_unmarried</th>\n",
              "      <th>marital_relation_widowed_not-in-family</th>\n",
              "      <th>marital_relation_widowed_other-relative</th>\n",
              "      <th>marital_relation_widowed_own-child</th>\n",
              "      <th>marital_relation_widowed_unmarried</th>\n",
              "      <th>income</th>\n",
              "    </tr>\n",
              "  </thead>\n",
              "  <tbody>\n",
              "    <tr>\n",
              "      <th>0</th>\n",
              "      <td>0.273973</td>\n",
              "      <td>0.0</td>\n",
              "      <td>0.0</td>\n",
              "      <td>0.0</td>\n",
              "      <td>0.0</td>\n",
              "      <td>1.0</td>\n",
              "      <td>0.0</td>\n",
              "      <td>0.0</td>\n",
              "      <td>0.0</td>\n",
              "      <td>0.0</td>\n",
              "      <td>...</td>\n",
              "      <td>0.0</td>\n",
              "      <td>0.0</td>\n",
              "      <td>0.0</td>\n",
              "      <td>0.0</td>\n",
              "      <td>0.0</td>\n",
              "      <td>0.0</td>\n",
              "      <td>0.0</td>\n",
              "      <td>0.0</td>\n",
              "      <td>0.0</td>\n",
              "      <td>0</td>\n",
              "    </tr>\n",
              "    <tr>\n",
              "      <th>1</th>\n",
              "      <td>0.123288</td>\n",
              "      <td>1.0</td>\n",
              "      <td>0.0</td>\n",
              "      <td>0.0</td>\n",
              "      <td>0.0</td>\n",
              "      <td>0.0</td>\n",
              "      <td>0.0</td>\n",
              "      <td>0.0</td>\n",
              "      <td>0.0</td>\n",
              "      <td>0.0</td>\n",
              "      <td>...</td>\n",
              "      <td>0.0</td>\n",
              "      <td>0.0</td>\n",
              "      <td>0.0</td>\n",
              "      <td>0.0</td>\n",
              "      <td>0.0</td>\n",
              "      <td>0.0</td>\n",
              "      <td>0.0</td>\n",
              "      <td>0.0</td>\n",
              "      <td>0.0</td>\n",
              "      <td>0</td>\n",
              "    </tr>\n",
              "    <tr>\n",
              "      <th>2</th>\n",
              "      <td>0.027397</td>\n",
              "      <td>0.0</td>\n",
              "      <td>0.0</td>\n",
              "      <td>0.0</td>\n",
              "      <td>0.0</td>\n",
              "      <td>1.0</td>\n",
              "      <td>0.0</td>\n",
              "      <td>0.0</td>\n",
              "      <td>0.0</td>\n",
              "      <td>0.0</td>\n",
              "      <td>...</td>\n",
              "      <td>0.0</td>\n",
              "      <td>0.0</td>\n",
              "      <td>0.0</td>\n",
              "      <td>0.0</td>\n",
              "      <td>0.0</td>\n",
              "      <td>0.0</td>\n",
              "      <td>0.0</td>\n",
              "      <td>0.0</td>\n",
              "      <td>0.0</td>\n",
              "      <td>0</td>\n",
              "    </tr>\n",
              "    <tr>\n",
              "      <th>3</th>\n",
              "      <td>0.136986</td>\n",
              "      <td>0.0</td>\n",
              "      <td>0.0</td>\n",
              "      <td>0.0</td>\n",
              "      <td>0.0</td>\n",
              "      <td>1.0</td>\n",
              "      <td>0.0</td>\n",
              "      <td>0.0</td>\n",
              "      <td>0.0</td>\n",
              "      <td>0.0</td>\n",
              "      <td>...</td>\n",
              "      <td>0.0</td>\n",
              "      <td>0.0</td>\n",
              "      <td>0.0</td>\n",
              "      <td>0.0</td>\n",
              "      <td>0.0</td>\n",
              "      <td>0.0</td>\n",
              "      <td>0.0</td>\n",
              "      <td>0.0</td>\n",
              "      <td>0.0</td>\n",
              "      <td>0</td>\n",
              "    </tr>\n",
              "    <tr>\n",
              "      <th>4</th>\n",
              "      <td>0.465753</td>\n",
              "      <td>0.0</td>\n",
              "      <td>0.0</td>\n",
              "      <td>0.0</td>\n",
              "      <td>0.0</td>\n",
              "      <td>0.0</td>\n",
              "      <td>0.0</td>\n",
              "      <td>1.0</td>\n",
              "      <td>0.0</td>\n",
              "      <td>0.0</td>\n",
              "      <td>...</td>\n",
              "      <td>0.0</td>\n",
              "      <td>0.0</td>\n",
              "      <td>0.0</td>\n",
              "      <td>0.0</td>\n",
              "      <td>0.0</td>\n",
              "      <td>0.0</td>\n",
              "      <td>0.0</td>\n",
              "      <td>0.0</td>\n",
              "      <td>0.0</td>\n",
              "      <td>0</td>\n",
              "    </tr>\n",
              "  </tbody>\n",
              "</table>\n",
              "<p>5 rows × 60 columns</p>\n",
              "</div>\n",
              "      <button class=\"colab-df-convert\" onclick=\"convertToInteractive('df-fd719ba9-e8b5-4790-a089-68cb6e57637f')\"\n",
              "              title=\"Convert this dataframe to an interactive table.\"\n",
              "              style=\"display:none;\">\n",
              "        \n",
              "  <svg xmlns=\"http://www.w3.org/2000/svg\" height=\"24px\"viewBox=\"0 0 24 24\"\n",
              "       width=\"24px\">\n",
              "    <path d=\"M0 0h24v24H0V0z\" fill=\"none\"/>\n",
              "    <path d=\"M18.56 5.44l.94 2.06.94-2.06 2.06-.94-2.06-.94-.94-2.06-.94 2.06-2.06.94zm-11 1L8.5 8.5l.94-2.06 2.06-.94-2.06-.94L8.5 2.5l-.94 2.06-2.06.94zm10 10l.94 2.06.94-2.06 2.06-.94-2.06-.94-.94-2.06-.94 2.06-2.06.94z\"/><path d=\"M17.41 7.96l-1.37-1.37c-.4-.4-.92-.59-1.43-.59-.52 0-1.04.2-1.43.59L10.3 9.45l-7.72 7.72c-.78.78-.78 2.05 0 2.83L4 21.41c.39.39.9.59 1.41.59.51 0 1.02-.2 1.41-.59l7.78-7.78 2.81-2.81c.8-.78.8-2.07 0-2.86zM5.41 20L4 18.59l7.72-7.72 1.47 1.35L5.41 20z\"/>\n",
              "  </svg>\n",
              "      </button>\n",
              "      \n",
              "  <style>\n",
              "    .colab-df-container {\n",
              "      display:flex;\n",
              "      flex-wrap:wrap;\n",
              "      gap: 12px;\n",
              "    }\n",
              "\n",
              "    .colab-df-convert {\n",
              "      background-color: #E8F0FE;\n",
              "      border: none;\n",
              "      border-radius: 50%;\n",
              "      cursor: pointer;\n",
              "      display: none;\n",
              "      fill: #1967D2;\n",
              "      height: 32px;\n",
              "      padding: 0 0 0 0;\n",
              "      width: 32px;\n",
              "    }\n",
              "\n",
              "    .colab-df-convert:hover {\n",
              "      background-color: #E2EBFA;\n",
              "      box-shadow: 0px 1px 2px rgba(60, 64, 67, 0.3), 0px 1px 3px 1px rgba(60, 64, 67, 0.15);\n",
              "      fill: #174EA6;\n",
              "    }\n",
              "\n",
              "    [theme=dark] .colab-df-convert {\n",
              "      background-color: #3B4455;\n",
              "      fill: #D2E3FC;\n",
              "    }\n",
              "\n",
              "    [theme=dark] .colab-df-convert:hover {\n",
              "      background-color: #434B5C;\n",
              "      box-shadow: 0px 1px 3px 1px rgba(0, 0, 0, 0.15);\n",
              "      filter: drop-shadow(0px 1px 2px rgba(0, 0, 0, 0.3));\n",
              "      fill: #FFFFFF;\n",
              "    }\n",
              "  </style>\n",
              "\n",
              "      <script>\n",
              "        const buttonEl =\n",
              "          document.querySelector('#df-fd719ba9-e8b5-4790-a089-68cb6e57637f button.colab-df-convert');\n",
              "        buttonEl.style.display =\n",
              "          google.colab.kernel.accessAllowed ? 'block' : 'none';\n",
              "\n",
              "        async function convertToInteractive(key) {\n",
              "          const element = document.querySelector('#df-fd719ba9-e8b5-4790-a089-68cb6e57637f');\n",
              "          const dataTable =\n",
              "            await google.colab.kernel.invokeFunction('convertToInteractive',\n",
              "                                                     [key], {});\n",
              "          if (!dataTable) return;\n",
              "\n",
              "          const docLinkHtml = 'Like what you see? Visit the ' +\n",
              "            '<a target=\"_blank\" href=https://colab.research.google.com/notebooks/data_table.ipynb>data table notebook</a>'\n",
              "            + ' to learn more about interactive tables.';\n",
              "          element.innerHTML = '';\n",
              "          dataTable['output_type'] = 'display_data';\n",
              "          await google.colab.output.renderOutput(dataTable, element);\n",
              "          const docLink = document.createElement('div');\n",
              "          docLink.innerHTML = docLinkHtml;\n",
              "          element.appendChild(docLink);\n",
              "        }\n",
              "      </script>\n",
              "    </div>\n",
              "  </div>\n",
              "  "
            ]
          },
          "metadata": {},
          "execution_count": 354
        }
      ]
    },
    {
      "cell_type": "code",
      "source": [],
      "metadata": {
        "id": "ZCMDuWjEF1As"
      },
      "id": "ZCMDuWjEF1As",
      "execution_count": 349,
      "outputs": []
    },
    {
      "cell_type": "code",
      "source": [
        "for i in range(len(new_train_data_use)):\n",
        "   df = new_train_data_use.iloc[i,:]\n",
        "   while new_dt.column != \"\":\n",
        "     if df[new_dt.column] <= new_dt.thresh:\n",
        "        new_dt = new_dt.branch_positive\n",
        "        col_list.append(new_dt.column)\n",
        "     else:\n",
        "        new_dt = new_dt.branch_negative\n",
        "        col_list.append(new_dt.column)"
      ],
      "metadata": {
        "id": "-Ehv87yIfvyd"
      },
      "id": "-Ehv87yIfvyd",
      "execution_count": 350,
      "outputs": []
    },
    {
      "cell_type": "code",
      "source": [
        "len(col_list)"
      ],
      "metadata": {
        "colab": {
          "base_uri": "https://localhost:8080/"
        },
        "id": "VuWPsG_nEKnT",
        "outputId": "0b41ff65-c053-49b9-b1ec-074c63cbe58b"
      },
      "id": "VuWPsG_nEKnT",
      "execution_count": 351,
      "outputs": [
        {
          "output_type": "execute_result",
          "data": {
            "text/plain": [
              "14"
            ]
          },
          "metadata": {},
          "execution_count": 351
        }
      ]
    },
    {
      "cell_type": "code",
      "source": [
        "Counter(col_list)"
      ],
      "metadata": {
        "colab": {
          "base_uri": "https://localhost:8080/"
        },
        "id": "W8dcLsAUCJiM",
        "outputId": "15188773-efba-4488-e845-9330722067be"
      },
      "id": "W8dcLsAUCJiM",
      "execution_count": 352,
      "outputs": [
        {
          "output_type": "execute_result",
          "data": {
            "text/plain": [
              "Counter({'marital_relation_married-civ-spouse_husband': 1,\n",
              "         'capital_gain_scaled': 1,\n",
              "         'marital_relation_married-civ-spouse_wife': 1,\n",
              "         'education_new': 2,\n",
              "         'age_scaled': 1,\n",
              "         'hours_per_week_scaled': 1,\n",
              "         'capital_loss_scaled': 1,\n",
              "         'marital_relation_married-civ-spouse_own-child': 1,\n",
              "         'fnlwgt_scaled': 1,\n",
              "         'occupation_other-service': 1,\n",
              "         'marital_relation_married-af-spouse_wife': 1,\n",
              "         'marital_relation_married-civ-spouse_other-relative': 1,\n",
              "         '': 1})"
            ]
          },
          "metadata": {},
          "execution_count": 352
        }
      ]
    },
    {
      "cell_type": "code",
      "source": [
        "col_list"
      ],
      "metadata": {
        "colab": {
          "base_uri": "https://localhost:8080/"
        },
        "id": "MZRWsFpYCOXE",
        "outputId": "e44eb6ae-d2db-4c37-d77c-68c672be6fd0"
      },
      "id": "MZRWsFpYCOXE",
      "execution_count": 353,
      "outputs": [
        {
          "output_type": "execute_result",
          "data": {
            "text/plain": [
              "['marital_relation_married-civ-spouse_husband',\n",
              " 'capital_gain_scaled',\n",
              " 'marital_relation_married-civ-spouse_wife',\n",
              " 'education_new',\n",
              " 'age_scaled',\n",
              " 'hours_per_week_scaled',\n",
              " 'capital_loss_scaled',\n",
              " 'marital_relation_married-civ-spouse_own-child',\n",
              " 'education_new',\n",
              " 'fnlwgt_scaled',\n",
              " 'occupation_other-service',\n",
              " 'marital_relation_married-af-spouse_wife',\n",
              " 'marital_relation_married-civ-spouse_other-relative',\n",
              " '']"
            ]
          },
          "metadata": {},
          "execution_count": 353
        }
      ]
    },
    {
      "cell_type": "code",
      "source": [],
      "metadata": {
        "id": "z0GJqSuIEQmj"
      },
      "id": "z0GJqSuIEQmj",
      "execution_count": null,
      "outputs": []
    }
  ],
  "metadata": {
    "kernelspec": {
      "display_name": "Python 3 (ipykernel)",
      "language": "python",
      "name": "python3"
    },
    "language_info": {
      "codemirror_mode": {
        "name": "ipython",
        "version": 3
      },
      "file_extension": ".py",
      "mimetype": "text/x-python",
      "name": "python",
      "nbconvert_exporter": "python",
      "pygments_lexer": "ipython3",
      "version": "3.9.12"
    },
    "colab": {
      "provenance": []
    }
  },
  "nbformat": 4,
  "nbformat_minor": 5
}
