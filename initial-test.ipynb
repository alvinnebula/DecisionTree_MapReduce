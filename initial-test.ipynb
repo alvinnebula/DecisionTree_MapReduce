{
 "cells": [
  {
   "cell_type": "markdown",
   "id": "63e5ca59",
   "metadata": {},
   "source": [
    "## Spark"
   ]
  },
  {
   "cell_type": "code",
   "execution_count": 1,
   "id": "2b84740b",
   "metadata": {},
   "outputs": [
    {
     "name": "stderr",
     "output_type": "stream",
     "text": [
      "Setting default log level to \"WARN\".\n",
      "To adjust logging level use sc.setLogLevel(newLevel). For SparkR, use setLogLevel(newLevel).\n"
     ]
    },
    {
     "name": "stdout",
     "output_type": "stream",
     "text": [
      "23/03/25 18:15:22 WARN NativeCodeLoader: Unable to load native-hadoop library for your platform... using builtin-java classes where applicable\n"
     ]
    }
   ],
   "source": [
    "from pyspark.sql import SparkSession\n",
    "spark = SparkSession.builder.appName('tree').getOrCreate()"
   ]
  },
  {
   "cell_type": "code",
   "execution_count": 2,
   "id": "eda3756d",
   "metadata": {},
   "outputs": [],
   "source": [
    "import pyspark\n",
    "from pyspark.ml.linalg import Vectors\n",
    "from pyspark.ml.feature import VectorAssembler\n",
    "from pyspark.ml.feature import StringIndexer, MinMaxScaler\n",
    "from pyspark.ml.classification import DecisionTreeClassifier,GBTClassifier,RandomForestClassifier\n",
    "from pyspark.ml import Pipeline"
   ]
  },
  {
   "cell_type": "code",
   "execution_count": 3,
   "id": "049a3ee9",
   "metadata": {},
   "outputs": [
    {
     "name": "stderr",
     "output_type": "stream",
     "text": [
      "                                                                                \r"
     ]
    }
   ],
   "source": [
    "df = spark.read.csv(\"../../../data/p_dsi/big_data_scaling_sp23/project/DT-MapReduce/adult.csv\", inferSchema = True, header = True)"
   ]
  },
  {
   "cell_type": "code",
   "execution_count": 4,
   "id": "24f37f98",
   "metadata": {},
   "outputs": [
    {
     "data": {
      "text/plain": [
       "DataFrame[age: int, workclass: string, fnlwgt: int, education: string, education.num: int, marital.status: string, occupation: string, relationship: string, race: string, sex: string, capital.gain: int, capital.loss: int, hours.per.week: int, native.country: string, income: string]"
      ]
     },
     "execution_count": 4,
     "metadata": {},
     "output_type": "execute_result"
    }
   ],
   "source": [
    "df"
   ]
  },
  {
   "cell_type": "code",
   "execution_count": 5,
   "id": "32a1516d",
   "metadata": {},
   "outputs": [
    {
     "name": "stdout",
     "output_type": "stream",
     "text": [
      "+---+-----------+------+------------+-------------+--------------+-----------------+--------------+-----+------+------------+------------+--------------+--------------+------+\n",
      "|age|  workclass|fnlwgt|   education|education.num|marital.status|       occupation|  relationship| race|   sex|capital.gain|capital.loss|hours.per.week|native.country|income|\n",
      "+---+-----------+------+------------+-------------+--------------+-----------------+--------------+-----+------+------------+------------+--------------+--------------+------+\n",
      "| 90|          ?| 77053|     HS-grad|            9|       Widowed|                ?| Not-in-family|White|Female|           0|        4356|            40| United-States| <=50K|\n",
      "| 82|    Private|132870|     HS-grad|            9|       Widowed|  Exec-managerial| Not-in-family|White|Female|           0|        4356|            18| United-States| <=50K|\n",
      "| 66|          ?|186061|Some-college|           10|       Widowed|                ?|     Unmarried|Black|Female|           0|        4356|            40| United-States| <=50K|\n",
      "| 54|    Private|140359|     7th-8th|            4|      Divorced|Machine-op-inspct|     Unmarried|White|Female|           0|        3900|            40| United-States| <=50K|\n",
      "| 41|    Private|264663|Some-college|           10|     Separated|   Prof-specialty|     Own-child|White|Female|           0|        3900|            40| United-States| <=50K|\n",
      "| 34|    Private|216864|     HS-grad|            9|      Divorced|    Other-service|     Unmarried|White|Female|           0|        3770|            45| United-States| <=50K|\n",
      "| 38|    Private|150601|        10th|            6|     Separated|     Adm-clerical|     Unmarried|White|  Male|           0|        3770|            40| United-States| <=50K|\n",
      "| 74|  State-gov| 88638|   Doctorate|           16| Never-married|   Prof-specialty|Other-relative|White|Female|           0|        3683|            20| United-States|  >50K|\n",
      "| 68|Federal-gov|422013|     HS-grad|            9|      Divorced|   Prof-specialty| Not-in-family|White|Female|           0|        3683|            40| United-States| <=50K|\n",
      "| 41|    Private| 70037|Some-college|           10| Never-married|     Craft-repair|     Unmarried|White|  Male|           0|        3004|            60|             ?|  >50K|\n",
      "+---+-----------+------+------------+-------------+--------------+-----------------+--------------+-----+------+------------+------------+--------------+--------------+------+\n",
      "only showing top 10 rows\n",
      "\n"
     ]
    }
   ],
   "source": [
    "df.show(10)"
   ]
  },
  {
   "cell_type": "code",
   "execution_count": 6,
   "id": "b925e1fe",
   "metadata": {},
   "outputs": [],
   "source": [
    "train, test = df.randomSplit([0.8,0.2])"
   ]
  },
  {
   "cell_type": "code",
   "execution_count": 7,
   "id": "7bf206d6",
   "metadata": {},
   "outputs": [],
   "source": [
    "gender_indexer = StringIndexer(inputCol='workclass',outputCol='wc_fixed')"
   ]
  },
  {
   "cell_type": "code",
   "execution_count": 8,
   "id": "148a2b76",
   "metadata": {},
   "outputs": [
    {
     "name": "stderr",
     "output_type": "stream",
     "text": [
      "                                                                                \r"
     ]
    }
   ],
   "source": [
    "df_fixed = gender_indexer.fit(df).transform(df)"
   ]
  },
  {
   "cell_type": "code",
   "execution_count": 9,
   "id": "f582d051",
   "metadata": {},
   "outputs": [
    {
     "name": "stdout",
     "output_type": "stream",
     "text": [
      "+---+-----------+------+------------+-------------+--------------+-----------------+--------------+-----+------+------------+------------+--------------+--------------+------+--------+\n",
      "|age|  workclass|fnlwgt|   education|education.num|marital.status|       occupation|  relationship| race|   sex|capital.gain|capital.loss|hours.per.week|native.country|income|wc_fixed|\n",
      "+---+-----------+------+------------+-------------+--------------+-----------------+--------------+-----+------+------------+------------+--------------+--------------+------+--------+\n",
      "| 90|          ?| 77053|     HS-grad|            9|       Widowed|                ?| Not-in-family|White|Female|           0|        4356|            40| United-States| <=50K|     3.0|\n",
      "| 82|    Private|132870|     HS-grad|            9|       Widowed|  Exec-managerial| Not-in-family|White|Female|           0|        4356|            18| United-States| <=50K|     0.0|\n",
      "| 66|          ?|186061|Some-college|           10|       Widowed|                ?|     Unmarried|Black|Female|           0|        4356|            40| United-States| <=50K|     3.0|\n",
      "| 54|    Private|140359|     7th-8th|            4|      Divorced|Machine-op-inspct|     Unmarried|White|Female|           0|        3900|            40| United-States| <=50K|     0.0|\n",
      "| 41|    Private|264663|Some-college|           10|     Separated|   Prof-specialty|     Own-child|White|Female|           0|        3900|            40| United-States| <=50K|     0.0|\n",
      "| 34|    Private|216864|     HS-grad|            9|      Divorced|    Other-service|     Unmarried|White|Female|           0|        3770|            45| United-States| <=50K|     0.0|\n",
      "| 38|    Private|150601|        10th|            6|     Separated|     Adm-clerical|     Unmarried|White|  Male|           0|        3770|            40| United-States| <=50K|     0.0|\n",
      "| 74|  State-gov| 88638|   Doctorate|           16| Never-married|   Prof-specialty|Other-relative|White|Female|           0|        3683|            20| United-States|  >50K|     4.0|\n",
      "| 68|Federal-gov|422013|     HS-grad|            9|      Divorced|   Prof-specialty| Not-in-family|White|Female|           0|        3683|            40| United-States| <=50K|     6.0|\n",
      "| 41|    Private| 70037|Some-college|           10| Never-married|     Craft-repair|     Unmarried|White|  Male|           0|        3004|            60|             ?|  >50K|     0.0|\n",
      "+---+-----------+------+------------+-------------+--------------+-----------------+--------------+-----+------+------------+------------+--------------+--------------+------+--------+\n",
      "only showing top 10 rows\n",
      "\n"
     ]
    }
   ],
   "source": [
    "df_fixed.show(10)"
   ]
  },
  {
   "cell_type": "markdown",
   "id": "6d8adfeb",
   "metadata": {},
   "source": [
    "### Pandas"
   ]
  },
  {
   "cell_type": "code",
   "execution_count": 10,
   "id": "50d80aec",
   "metadata": {},
   "outputs": [],
   "source": [
    "import pandas as pd\n",
    "from sklearn.tree import DecisionTreeClassifier\n",
    "from sklearn.metrics import classification_report, roc_auc_score, roc_curve, confusion_matrix\n",
    "from sklearn.model_selection import GridSearchCV, train_test_split\n",
    "from sklearn.preprocessing import LabelEncoder, OrdinalEncoder, MinMaxScaler, Normalizer, OneHotEncoder\n",
    "from sklearn.compose import ColumnTransformer\n",
    "from sklearn.pipeline import Pipeline\n",
    "%matplotlib inline\n",
    "import matplotlib.pyplot as plt\n",
    "import seaborn as sns\n",
    "import janitor"
   ]
  },
  {
   "cell_type": "code",
   "execution_count": 11,
   "id": "28ad8f02",
   "metadata": {},
   "outputs": [],
   "source": [
    "df_pd = pd.read_csv(\"../../../data/p_dsi/big_data_scaling_sp23/project/DT-MapReduce/adult.csv\").clean_names()"
   ]
  },
  {
   "cell_type": "code",
   "execution_count": 12,
   "id": "8820234d",
   "metadata": {},
   "outputs": [
    {
     "data": {
      "text/html": [
       "<div>\n",
       "<style scoped>\n",
       "    .dataframe tbody tr th:only-of-type {\n",
       "        vertical-align: middle;\n",
       "    }\n",
       "\n",
       "    .dataframe tbody tr th {\n",
       "        vertical-align: top;\n",
       "    }\n",
       "\n",
       "    .dataframe thead th {\n",
       "        text-align: right;\n",
       "    }\n",
       "</style>\n",
       "<table border=\"1\" class=\"dataframe\">\n",
       "  <thead>\n",
       "    <tr style=\"text-align: right;\">\n",
       "      <th></th>\n",
       "      <th>age</th>\n",
       "      <th>workclass</th>\n",
       "      <th>fnlwgt</th>\n",
       "      <th>education</th>\n",
       "      <th>education_num</th>\n",
       "      <th>marital_status</th>\n",
       "      <th>occupation</th>\n",
       "      <th>relationship</th>\n",
       "      <th>race</th>\n",
       "      <th>sex</th>\n",
       "      <th>capital_gain</th>\n",
       "      <th>capital_loss</th>\n",
       "      <th>hours_per_week</th>\n",
       "      <th>native_country</th>\n",
       "      <th>income</th>\n",
       "    </tr>\n",
       "  </thead>\n",
       "  <tbody>\n",
       "    <tr>\n",
       "      <th>0</th>\n",
       "      <td>90</td>\n",
       "      <td>?</td>\n",
       "      <td>77053</td>\n",
       "      <td>HS-grad</td>\n",
       "      <td>9</td>\n",
       "      <td>Widowed</td>\n",
       "      <td>?</td>\n",
       "      <td>Not-in-family</td>\n",
       "      <td>White</td>\n",
       "      <td>Female</td>\n",
       "      <td>0</td>\n",
       "      <td>4356</td>\n",
       "      <td>40</td>\n",
       "      <td>United-States</td>\n",
       "      <td>&lt;=50K</td>\n",
       "    </tr>\n",
       "    <tr>\n",
       "      <th>1</th>\n",
       "      <td>82</td>\n",
       "      <td>Private</td>\n",
       "      <td>132870</td>\n",
       "      <td>HS-grad</td>\n",
       "      <td>9</td>\n",
       "      <td>Widowed</td>\n",
       "      <td>Exec-managerial</td>\n",
       "      <td>Not-in-family</td>\n",
       "      <td>White</td>\n",
       "      <td>Female</td>\n",
       "      <td>0</td>\n",
       "      <td>4356</td>\n",
       "      <td>18</td>\n",
       "      <td>United-States</td>\n",
       "      <td>&lt;=50K</td>\n",
       "    </tr>\n",
       "    <tr>\n",
       "      <th>2</th>\n",
       "      <td>66</td>\n",
       "      <td>?</td>\n",
       "      <td>186061</td>\n",
       "      <td>Some-college</td>\n",
       "      <td>10</td>\n",
       "      <td>Widowed</td>\n",
       "      <td>?</td>\n",
       "      <td>Unmarried</td>\n",
       "      <td>Black</td>\n",
       "      <td>Female</td>\n",
       "      <td>0</td>\n",
       "      <td>4356</td>\n",
       "      <td>40</td>\n",
       "      <td>United-States</td>\n",
       "      <td>&lt;=50K</td>\n",
       "    </tr>\n",
       "    <tr>\n",
       "      <th>3</th>\n",
       "      <td>54</td>\n",
       "      <td>Private</td>\n",
       "      <td>140359</td>\n",
       "      <td>7th-8th</td>\n",
       "      <td>4</td>\n",
       "      <td>Divorced</td>\n",
       "      <td>Machine-op-inspct</td>\n",
       "      <td>Unmarried</td>\n",
       "      <td>White</td>\n",
       "      <td>Female</td>\n",
       "      <td>0</td>\n",
       "      <td>3900</td>\n",
       "      <td>40</td>\n",
       "      <td>United-States</td>\n",
       "      <td>&lt;=50K</td>\n",
       "    </tr>\n",
       "    <tr>\n",
       "      <th>4</th>\n",
       "      <td>41</td>\n",
       "      <td>Private</td>\n",
       "      <td>264663</td>\n",
       "      <td>Some-college</td>\n",
       "      <td>10</td>\n",
       "      <td>Separated</td>\n",
       "      <td>Prof-specialty</td>\n",
       "      <td>Own-child</td>\n",
       "      <td>White</td>\n",
       "      <td>Female</td>\n",
       "      <td>0</td>\n",
       "      <td>3900</td>\n",
       "      <td>40</td>\n",
       "      <td>United-States</td>\n",
       "      <td>&lt;=50K</td>\n",
       "    </tr>\n",
       "    <tr>\n",
       "      <th>...</th>\n",
       "      <td>...</td>\n",
       "      <td>...</td>\n",
       "      <td>...</td>\n",
       "      <td>...</td>\n",
       "      <td>...</td>\n",
       "      <td>...</td>\n",
       "      <td>...</td>\n",
       "      <td>...</td>\n",
       "      <td>...</td>\n",
       "      <td>...</td>\n",
       "      <td>...</td>\n",
       "      <td>...</td>\n",
       "      <td>...</td>\n",
       "      <td>...</td>\n",
       "      <td>...</td>\n",
       "    </tr>\n",
       "    <tr>\n",
       "      <th>32556</th>\n",
       "      <td>22</td>\n",
       "      <td>Private</td>\n",
       "      <td>310152</td>\n",
       "      <td>Some-college</td>\n",
       "      <td>10</td>\n",
       "      <td>Never-married</td>\n",
       "      <td>Protective-serv</td>\n",
       "      <td>Not-in-family</td>\n",
       "      <td>White</td>\n",
       "      <td>Male</td>\n",
       "      <td>0</td>\n",
       "      <td>0</td>\n",
       "      <td>40</td>\n",
       "      <td>United-States</td>\n",
       "      <td>&lt;=50K</td>\n",
       "    </tr>\n",
       "    <tr>\n",
       "      <th>32557</th>\n",
       "      <td>27</td>\n",
       "      <td>Private</td>\n",
       "      <td>257302</td>\n",
       "      <td>Assoc-acdm</td>\n",
       "      <td>12</td>\n",
       "      <td>Married-civ-spouse</td>\n",
       "      <td>Tech-support</td>\n",
       "      <td>Wife</td>\n",
       "      <td>White</td>\n",
       "      <td>Female</td>\n",
       "      <td>0</td>\n",
       "      <td>0</td>\n",
       "      <td>38</td>\n",
       "      <td>United-States</td>\n",
       "      <td>&lt;=50K</td>\n",
       "    </tr>\n",
       "    <tr>\n",
       "      <th>32558</th>\n",
       "      <td>40</td>\n",
       "      <td>Private</td>\n",
       "      <td>154374</td>\n",
       "      <td>HS-grad</td>\n",
       "      <td>9</td>\n",
       "      <td>Married-civ-spouse</td>\n",
       "      <td>Machine-op-inspct</td>\n",
       "      <td>Husband</td>\n",
       "      <td>White</td>\n",
       "      <td>Male</td>\n",
       "      <td>0</td>\n",
       "      <td>0</td>\n",
       "      <td>40</td>\n",
       "      <td>United-States</td>\n",
       "      <td>&gt;50K</td>\n",
       "    </tr>\n",
       "    <tr>\n",
       "      <th>32559</th>\n",
       "      <td>58</td>\n",
       "      <td>Private</td>\n",
       "      <td>151910</td>\n",
       "      <td>HS-grad</td>\n",
       "      <td>9</td>\n",
       "      <td>Widowed</td>\n",
       "      <td>Adm-clerical</td>\n",
       "      <td>Unmarried</td>\n",
       "      <td>White</td>\n",
       "      <td>Female</td>\n",
       "      <td>0</td>\n",
       "      <td>0</td>\n",
       "      <td>40</td>\n",
       "      <td>United-States</td>\n",
       "      <td>&lt;=50K</td>\n",
       "    </tr>\n",
       "    <tr>\n",
       "      <th>32560</th>\n",
       "      <td>22</td>\n",
       "      <td>Private</td>\n",
       "      <td>201490</td>\n",
       "      <td>HS-grad</td>\n",
       "      <td>9</td>\n",
       "      <td>Never-married</td>\n",
       "      <td>Adm-clerical</td>\n",
       "      <td>Own-child</td>\n",
       "      <td>White</td>\n",
       "      <td>Male</td>\n",
       "      <td>0</td>\n",
       "      <td>0</td>\n",
       "      <td>20</td>\n",
       "      <td>United-States</td>\n",
       "      <td>&lt;=50K</td>\n",
       "    </tr>\n",
       "  </tbody>\n",
       "</table>\n",
       "<p>32561 rows × 15 columns</p>\n",
       "</div>"
      ],
      "text/plain": [
       "       age workclass  fnlwgt     education  education_num      marital_status  \\\n",
       "0       90         ?   77053       HS-grad              9             Widowed   \n",
       "1       82   Private  132870       HS-grad              9             Widowed   \n",
       "2       66         ?  186061  Some-college             10             Widowed   \n",
       "3       54   Private  140359       7th-8th              4            Divorced   \n",
       "4       41   Private  264663  Some-college             10           Separated   \n",
       "...    ...       ...     ...           ...            ...                 ...   \n",
       "32556   22   Private  310152  Some-college             10       Never-married   \n",
       "32557   27   Private  257302    Assoc-acdm             12  Married-civ-spouse   \n",
       "32558   40   Private  154374       HS-grad              9  Married-civ-spouse   \n",
       "32559   58   Private  151910       HS-grad              9             Widowed   \n",
       "32560   22   Private  201490       HS-grad              9       Never-married   \n",
       "\n",
       "              occupation   relationship   race     sex  capital_gain  \\\n",
       "0                      ?  Not-in-family  White  Female             0   \n",
       "1        Exec-managerial  Not-in-family  White  Female             0   \n",
       "2                      ?      Unmarried  Black  Female             0   \n",
       "3      Machine-op-inspct      Unmarried  White  Female             0   \n",
       "4         Prof-specialty      Own-child  White  Female             0   \n",
       "...                  ...            ...    ...     ...           ...   \n",
       "32556    Protective-serv  Not-in-family  White    Male             0   \n",
       "32557       Tech-support           Wife  White  Female             0   \n",
       "32558  Machine-op-inspct        Husband  White    Male             0   \n",
       "32559       Adm-clerical      Unmarried  White  Female             0   \n",
       "32560       Adm-clerical      Own-child  White    Male             0   \n",
       "\n",
       "       capital_loss  hours_per_week native_country income  \n",
       "0              4356              40  United-States  <=50K  \n",
       "1              4356              18  United-States  <=50K  \n",
       "2              4356              40  United-States  <=50K  \n",
       "3              3900              40  United-States  <=50K  \n",
       "4              3900              40  United-States  <=50K  \n",
       "...             ...             ...            ...    ...  \n",
       "32556             0              40  United-States  <=50K  \n",
       "32557             0              38  United-States  <=50K  \n",
       "32558             0              40  United-States   >50K  \n",
       "32559             0              40  United-States  <=50K  \n",
       "32560             0              20  United-States  <=50K  \n",
       "\n",
       "[32561 rows x 15 columns]"
      ]
     },
     "execution_count": 12,
     "metadata": {},
     "output_type": "execute_result"
    }
   ],
   "source": [
    "df_pd"
   ]
  },
  {
   "cell_type": "code",
   "execution_count": 13,
   "id": "37ae1b44",
   "metadata": {},
   "outputs": [],
   "source": [
    "from pandas.api.types import is_string_dtype\n",
    "from pandas.api.types import is_numeric_dtype\n",
    "from pandas.api.types import is_categorical_dtype"
   ]
  },
  {
   "cell_type": "code",
   "execution_count": 14,
   "id": "595ae9e3",
   "metadata": {},
   "outputs": [
    {
     "data": {
      "text/plain": [
       "array(['<=50K', '>50K'], dtype=object)"
      ]
     },
     "execution_count": 14,
     "metadata": {},
     "output_type": "execute_result"
    }
   ],
   "source": [
    "df_pd[\"income\"].unique()"
   ]
  },
  {
   "cell_type": "code",
   "execution_count": 15,
   "id": "e37ff3a0",
   "metadata": {},
   "outputs": [],
   "source": [
    "df_pd[\"income\"] = df_pd[\"income\"].replace([\"<=50K\",\">50K\"], [0,1])"
   ]
  },
  {
   "cell_type": "code",
   "execution_count": 16,
   "id": "c5981ace",
   "metadata": {},
   "outputs": [
    {
     "data": {
      "text/plain": [
       "array([0, 1])"
      ]
     },
     "execution_count": 16,
     "metadata": {},
     "output_type": "execute_result"
    }
   ],
   "source": [
    "df_pd[\"income\"].unique()"
   ]
  },
  {
   "cell_type": "code",
   "execution_count": 17,
   "id": "c68b4102",
   "metadata": {},
   "outputs": [],
   "source": [
    "train, test = train_test_split(df_pd, random_state = 10, train_size = 0.8, stratify = df_pd[\"income\"])"
   ]
  },
  {
   "cell_type": "markdown",
   "id": "9eb0ea52",
   "metadata": {},
   "source": [
    "### Data Deduplication"
   ]
  },
  {
   "cell_type": "code",
   "execution_count": 18,
   "id": "289c2a69",
   "metadata": {},
   "outputs": [
    {
     "data": {
      "text/html": [
       "<div>\n",
       "<style scoped>\n",
       "    .dataframe tbody tr th:only-of-type {\n",
       "        vertical-align: middle;\n",
       "    }\n",
       "\n",
       "    .dataframe tbody tr th {\n",
       "        vertical-align: top;\n",
       "    }\n",
       "\n",
       "    .dataframe thead th {\n",
       "        text-align: right;\n",
       "    }\n",
       "</style>\n",
       "<table border=\"1\" class=\"dataframe\">\n",
       "  <thead>\n",
       "    <tr style=\"text-align: right;\">\n",
       "      <th></th>\n",
       "      <th>age</th>\n",
       "      <th>workclass</th>\n",
       "      <th>fnlwgt</th>\n",
       "      <th>education</th>\n",
       "      <th>education_num</th>\n",
       "      <th>marital_status</th>\n",
       "      <th>occupation</th>\n",
       "      <th>relationship</th>\n",
       "      <th>race</th>\n",
       "      <th>sex</th>\n",
       "      <th>capital_gain</th>\n",
       "      <th>capital_loss</th>\n",
       "      <th>hours_per_week</th>\n",
       "      <th>native_country</th>\n",
       "      <th>income</th>\n",
       "    </tr>\n",
       "  </thead>\n",
       "  <tbody>\n",
       "    <tr>\n",
       "      <th>30190</th>\n",
       "      <td>53</td>\n",
       "      <td>Private</td>\n",
       "      <td>72257</td>\n",
       "      <td>Some-college</td>\n",
       "      <td>10</td>\n",
       "      <td>Married-civ-spouse</td>\n",
       "      <td>Exec-managerial</td>\n",
       "      <td>Husband</td>\n",
       "      <td>White</td>\n",
       "      <td>Male</td>\n",
       "      <td>0</td>\n",
       "      <td>0</td>\n",
       "      <td>55</td>\n",
       "      <td>United-States</td>\n",
       "      <td>0</td>\n",
       "    </tr>\n",
       "    <tr>\n",
       "      <th>19237</th>\n",
       "      <td>49</td>\n",
       "      <td>Private</td>\n",
       "      <td>102945</td>\n",
       "      <td>7th-8th</td>\n",
       "      <td>4</td>\n",
       "      <td>Widowed</td>\n",
       "      <td>Machine-op-inspct</td>\n",
       "      <td>Not-in-family</td>\n",
       "      <td>White</td>\n",
       "      <td>Female</td>\n",
       "      <td>0</td>\n",
       "      <td>0</td>\n",
       "      <td>40</td>\n",
       "      <td>United-States</td>\n",
       "      <td>0</td>\n",
       "    </tr>\n",
       "    <tr>\n",
       "      <th>25502</th>\n",
       "      <td>38</td>\n",
       "      <td>Private</td>\n",
       "      <td>193372</td>\n",
       "      <td>Some-college</td>\n",
       "      <td>10</td>\n",
       "      <td>Never-married</td>\n",
       "      <td>Exec-managerial</td>\n",
       "      <td>Own-child</td>\n",
       "      <td>White</td>\n",
       "      <td>Female</td>\n",
       "      <td>0</td>\n",
       "      <td>0</td>\n",
       "      <td>40</td>\n",
       "      <td>United-States</td>\n",
       "      <td>0</td>\n",
       "    </tr>\n",
       "    <tr>\n",
       "      <th>17492</th>\n",
       "      <td>40</td>\n",
       "      <td>Private</td>\n",
       "      <td>188942</td>\n",
       "      <td>Some-college</td>\n",
       "      <td>10</td>\n",
       "      <td>Married-civ-spouse</td>\n",
       "      <td>Sales</td>\n",
       "      <td>Wife</td>\n",
       "      <td>Black</td>\n",
       "      <td>Female</td>\n",
       "      <td>0</td>\n",
       "      <td>0</td>\n",
       "      <td>40</td>\n",
       "      <td>Puerto-Rico</td>\n",
       "      <td>0</td>\n",
       "    </tr>\n",
       "    <tr>\n",
       "      <th>27373</th>\n",
       "      <td>60</td>\n",
       "      <td>?</td>\n",
       "      <td>188236</td>\n",
       "      <td>HS-grad</td>\n",
       "      <td>9</td>\n",
       "      <td>Divorced</td>\n",
       "      <td>?</td>\n",
       "      <td>Not-in-family</td>\n",
       "      <td>White</td>\n",
       "      <td>Female</td>\n",
       "      <td>0</td>\n",
       "      <td>0</td>\n",
       "      <td>40</td>\n",
       "      <td>United-States</td>\n",
       "      <td>0</td>\n",
       "    </tr>\n",
       "  </tbody>\n",
       "</table>\n",
       "</div>"
      ],
      "text/plain": [
       "       age workclass  fnlwgt     education  education_num      marital_status  \\\n",
       "30190   53   Private   72257  Some-college             10  Married-civ-spouse   \n",
       "19237   49   Private  102945       7th-8th              4             Widowed   \n",
       "25502   38   Private  193372  Some-college             10       Never-married   \n",
       "17492   40   Private  188942  Some-college             10  Married-civ-spouse   \n",
       "27373   60         ?  188236       HS-grad              9            Divorced   \n",
       "\n",
       "              occupation   relationship   race     sex  capital_gain  \\\n",
       "30190    Exec-managerial        Husband  White    Male             0   \n",
       "19237  Machine-op-inspct  Not-in-family  White  Female             0   \n",
       "25502    Exec-managerial      Own-child  White  Female             0   \n",
       "17492              Sales           Wife  Black  Female             0   \n",
       "27373                  ?  Not-in-family  White  Female             0   \n",
       "\n",
       "       capital_loss  hours_per_week native_country  income  \n",
       "30190             0              55  United-States       0  \n",
       "19237             0              40  United-States       0  \n",
       "25502             0              40  United-States       0  \n",
       "17492             0              40    Puerto-Rico       0  \n",
       "27373             0              40  United-States       0  "
      ]
     },
     "execution_count": 18,
     "metadata": {},
     "output_type": "execute_result"
    }
   ],
   "source": [
    "train_0 = train[train[\"income\"] == 0]\n",
    "train_0.head()"
   ]
  },
  {
   "cell_type": "code",
   "execution_count": 19,
   "id": "96fc122c",
   "metadata": {},
   "outputs": [
    {
     "data": {
      "text/html": [
       "<div>\n",
       "<style scoped>\n",
       "    .dataframe tbody tr th:only-of-type {\n",
       "        vertical-align: middle;\n",
       "    }\n",
       "\n",
       "    .dataframe tbody tr th {\n",
       "        vertical-align: top;\n",
       "    }\n",
       "\n",
       "    .dataframe thead th {\n",
       "        text-align: right;\n",
       "    }\n",
       "</style>\n",
       "<table border=\"1\" class=\"dataframe\">\n",
       "  <thead>\n",
       "    <tr style=\"text-align: right;\">\n",
       "      <th></th>\n",
       "      <th>age</th>\n",
       "      <th>workclass</th>\n",
       "      <th>fnlwgt</th>\n",
       "      <th>education</th>\n",
       "      <th>education_num</th>\n",
       "      <th>marital_status</th>\n",
       "      <th>occupation</th>\n",
       "      <th>relationship</th>\n",
       "      <th>race</th>\n",
       "      <th>sex</th>\n",
       "      <th>capital_gain</th>\n",
       "      <th>capital_loss</th>\n",
       "      <th>hours_per_week</th>\n",
       "      <th>native_country</th>\n",
       "      <th>income</th>\n",
       "    </tr>\n",
       "  </thead>\n",
       "  <tbody>\n",
       "    <tr>\n",
       "      <th>1609</th>\n",
       "      <td>39</td>\n",
       "      <td>Private</td>\n",
       "      <td>190297</td>\n",
       "      <td>Doctorate</td>\n",
       "      <td>16</td>\n",
       "      <td>Married-civ-spouse</td>\n",
       "      <td>Prof-specialty</td>\n",
       "      <td>Husband</td>\n",
       "      <td>White</td>\n",
       "      <td>Male</td>\n",
       "      <td>99999</td>\n",
       "      <td>0</td>\n",
       "      <td>55</td>\n",
       "      <td>United-States</td>\n",
       "      <td>1</td>\n",
       "    </tr>\n",
       "    <tr>\n",
       "      <th>12039</th>\n",
       "      <td>42</td>\n",
       "      <td>Self-emp-inc</td>\n",
       "      <td>168071</td>\n",
       "      <td>HS-grad</td>\n",
       "      <td>9</td>\n",
       "      <td>Married-civ-spouse</td>\n",
       "      <td>Sales</td>\n",
       "      <td>Husband</td>\n",
       "      <td>White</td>\n",
       "      <td>Male</td>\n",
       "      <td>0</td>\n",
       "      <td>0</td>\n",
       "      <td>43</td>\n",
       "      <td>United-States</td>\n",
       "      <td>1</td>\n",
       "    </tr>\n",
       "    <tr>\n",
       "      <th>24687</th>\n",
       "      <td>32</td>\n",
       "      <td>Private</td>\n",
       "      <td>340917</td>\n",
       "      <td>Bachelors</td>\n",
       "      <td>13</td>\n",
       "      <td>Never-married</td>\n",
       "      <td>Prof-specialty</td>\n",
       "      <td>Not-in-family</td>\n",
       "      <td>White</td>\n",
       "      <td>Male</td>\n",
       "      <td>0</td>\n",
       "      <td>0</td>\n",
       "      <td>50</td>\n",
       "      <td>United-States</td>\n",
       "      <td>1</td>\n",
       "    </tr>\n",
       "    <tr>\n",
       "      <th>2719</th>\n",
       "      <td>36</td>\n",
       "      <td>Private</td>\n",
       "      <td>143486</td>\n",
       "      <td>HS-grad</td>\n",
       "      <td>9</td>\n",
       "      <td>Married-civ-spouse</td>\n",
       "      <td>Transport-moving</td>\n",
       "      <td>Husband</td>\n",
       "      <td>White</td>\n",
       "      <td>Male</td>\n",
       "      <td>7298</td>\n",
       "      <td>0</td>\n",
       "      <td>50</td>\n",
       "      <td>United-States</td>\n",
       "      <td>1</td>\n",
       "    </tr>\n",
       "    <tr>\n",
       "      <th>2871</th>\n",
       "      <td>40</td>\n",
       "      <td>Self-emp-not-inc</td>\n",
       "      <td>26892</td>\n",
       "      <td>Bachelors</td>\n",
       "      <td>13</td>\n",
       "      <td>Married-AF-spouse</td>\n",
       "      <td>Prof-specialty</td>\n",
       "      <td>Husband</td>\n",
       "      <td>White</td>\n",
       "      <td>Male</td>\n",
       "      <td>7298</td>\n",
       "      <td>0</td>\n",
       "      <td>50</td>\n",
       "      <td>United-States</td>\n",
       "      <td>1</td>\n",
       "    </tr>\n",
       "  </tbody>\n",
       "</table>\n",
       "</div>"
      ],
      "text/plain": [
       "       age         workclass  fnlwgt  education  education_num  \\\n",
       "1609    39           Private  190297  Doctorate             16   \n",
       "12039   42      Self-emp-inc  168071    HS-grad              9   \n",
       "24687   32           Private  340917  Bachelors             13   \n",
       "2719    36           Private  143486    HS-grad              9   \n",
       "2871    40  Self-emp-not-inc   26892  Bachelors             13   \n",
       "\n",
       "           marital_status        occupation   relationship   race   sex  \\\n",
       "1609   Married-civ-spouse    Prof-specialty        Husband  White  Male   \n",
       "12039  Married-civ-spouse             Sales        Husband  White  Male   \n",
       "24687       Never-married    Prof-specialty  Not-in-family  White  Male   \n",
       "2719   Married-civ-spouse  Transport-moving        Husband  White  Male   \n",
       "2871    Married-AF-spouse    Prof-specialty        Husband  White  Male   \n",
       "\n",
       "       capital_gain  capital_loss  hours_per_week native_country  income  \n",
       "1609          99999             0              55  United-States       1  \n",
       "12039             0             0              43  United-States       1  \n",
       "24687             0             0              50  United-States       1  \n",
       "2719           7298             0              50  United-States       1  \n",
       "2871           7298             0              50  United-States       1  "
      ]
     },
     "execution_count": 19,
     "metadata": {},
     "output_type": "execute_result"
    }
   ],
   "source": [
    "train_1 = train[train[\"income\"] == 1]\n",
    "train_1.head()"
   ]
  },
  {
   "cell_type": "code",
   "execution_count": 20,
   "id": "3f605d1c",
   "metadata": {},
   "outputs": [],
   "source": [
    "train_0 = train_0.drop_duplicates()"
   ]
  },
  {
   "cell_type": "markdown",
   "id": "5ed55a25",
   "metadata": {},
   "source": [
    "### Class Balancing"
   ]
  },
  {
   "cell_type": "code",
   "execution_count": 21,
   "id": "0f7dac48",
   "metadata": {},
   "outputs": [],
   "source": [
    "#rand_list = list(np.random.randint(0, len(train_0), len(train_1)))"
   ]
  },
  {
   "cell_type": "code",
   "execution_count": 22,
   "id": "9f41439c",
   "metadata": {},
   "outputs": [],
   "source": [
    "#train_0 = train_0.iloc[rand_list,]\n",
    "#train_0.shape"
   ]
  },
  {
   "cell_type": "code",
   "execution_count": 23,
   "id": "3a18e945",
   "metadata": {},
   "outputs": [
    {
     "data": {
      "text/html": [
       "<div>\n",
       "<style scoped>\n",
       "    .dataframe tbody tr th:only-of-type {\n",
       "        vertical-align: middle;\n",
       "    }\n",
       "\n",
       "    .dataframe tbody tr th {\n",
       "        vertical-align: top;\n",
       "    }\n",
       "\n",
       "    .dataframe thead th {\n",
       "        text-align: right;\n",
       "    }\n",
       "</style>\n",
       "<table border=\"1\" class=\"dataframe\">\n",
       "  <thead>\n",
       "    <tr style=\"text-align: right;\">\n",
       "      <th></th>\n",
       "      <th>age</th>\n",
       "      <th>workclass</th>\n",
       "      <th>fnlwgt</th>\n",
       "      <th>education</th>\n",
       "      <th>education_num</th>\n",
       "      <th>marital_status</th>\n",
       "      <th>occupation</th>\n",
       "      <th>relationship</th>\n",
       "      <th>race</th>\n",
       "      <th>sex</th>\n",
       "      <th>capital_gain</th>\n",
       "      <th>capital_loss</th>\n",
       "      <th>hours_per_week</th>\n",
       "      <th>native_country</th>\n",
       "      <th>income</th>\n",
       "    </tr>\n",
       "  </thead>\n",
       "  <tbody>\n",
       "    <tr>\n",
       "      <th>30190</th>\n",
       "      <td>53</td>\n",
       "      <td>Private</td>\n",
       "      <td>72257</td>\n",
       "      <td>Some-college</td>\n",
       "      <td>10</td>\n",
       "      <td>Married-civ-spouse</td>\n",
       "      <td>Exec-managerial</td>\n",
       "      <td>Husband</td>\n",
       "      <td>White</td>\n",
       "      <td>Male</td>\n",
       "      <td>0</td>\n",
       "      <td>0</td>\n",
       "      <td>55</td>\n",
       "      <td>United-States</td>\n",
       "      <td>0</td>\n",
       "    </tr>\n",
       "    <tr>\n",
       "      <th>19237</th>\n",
       "      <td>49</td>\n",
       "      <td>Private</td>\n",
       "      <td>102945</td>\n",
       "      <td>7th-8th</td>\n",
       "      <td>4</td>\n",
       "      <td>Widowed</td>\n",
       "      <td>Machine-op-inspct</td>\n",
       "      <td>Not-in-family</td>\n",
       "      <td>White</td>\n",
       "      <td>Female</td>\n",
       "      <td>0</td>\n",
       "      <td>0</td>\n",
       "      <td>40</td>\n",
       "      <td>United-States</td>\n",
       "      <td>0</td>\n",
       "    </tr>\n",
       "    <tr>\n",
       "      <th>25502</th>\n",
       "      <td>38</td>\n",
       "      <td>Private</td>\n",
       "      <td>193372</td>\n",
       "      <td>Some-college</td>\n",
       "      <td>10</td>\n",
       "      <td>Never-married</td>\n",
       "      <td>Exec-managerial</td>\n",
       "      <td>Own-child</td>\n",
       "      <td>White</td>\n",
       "      <td>Female</td>\n",
       "      <td>0</td>\n",
       "      <td>0</td>\n",
       "      <td>40</td>\n",
       "      <td>United-States</td>\n",
       "      <td>0</td>\n",
       "    </tr>\n",
       "    <tr>\n",
       "      <th>17492</th>\n",
       "      <td>40</td>\n",
       "      <td>Private</td>\n",
       "      <td>188942</td>\n",
       "      <td>Some-college</td>\n",
       "      <td>10</td>\n",
       "      <td>Married-civ-spouse</td>\n",
       "      <td>Sales</td>\n",
       "      <td>Wife</td>\n",
       "      <td>Black</td>\n",
       "      <td>Female</td>\n",
       "      <td>0</td>\n",
       "      <td>0</td>\n",
       "      <td>40</td>\n",
       "      <td>Puerto-Rico</td>\n",
       "      <td>0</td>\n",
       "    </tr>\n",
       "    <tr>\n",
       "      <th>27373</th>\n",
       "      <td>60</td>\n",
       "      <td>?</td>\n",
       "      <td>188236</td>\n",
       "      <td>HS-grad</td>\n",
       "      <td>9</td>\n",
       "      <td>Divorced</td>\n",
       "      <td>?</td>\n",
       "      <td>Not-in-family</td>\n",
       "      <td>White</td>\n",
       "      <td>Female</td>\n",
       "      <td>0</td>\n",
       "      <td>0</td>\n",
       "      <td>40</td>\n",
       "      <td>United-States</td>\n",
       "      <td>0</td>\n",
       "    </tr>\n",
       "  </tbody>\n",
       "</table>\n",
       "</div>"
      ],
      "text/plain": [
       "       age workclass  fnlwgt     education  education_num      marital_status  \\\n",
       "30190   53   Private   72257  Some-college             10  Married-civ-spouse   \n",
       "19237   49   Private  102945       7th-8th              4             Widowed   \n",
       "25502   38   Private  193372  Some-college             10       Never-married   \n",
       "17492   40   Private  188942  Some-college             10  Married-civ-spouse   \n",
       "27373   60         ?  188236       HS-grad              9            Divorced   \n",
       "\n",
       "              occupation   relationship   race     sex  capital_gain  \\\n",
       "30190    Exec-managerial        Husband  White    Male             0   \n",
       "19237  Machine-op-inspct  Not-in-family  White  Female             0   \n",
       "25502    Exec-managerial      Own-child  White  Female             0   \n",
       "17492              Sales           Wife  Black  Female             0   \n",
       "27373                  ?  Not-in-family  White  Female             0   \n",
       "\n",
       "       capital_loss  hours_per_week native_country  income  \n",
       "30190             0              55  United-States       0  \n",
       "19237             0              40  United-States       0  \n",
       "25502             0              40  United-States       0  \n",
       "17492             0              40    Puerto-Rico       0  \n",
       "27373             0              40  United-States       0  "
      ]
     },
     "execution_count": 23,
     "metadata": {},
     "output_type": "execute_result"
    }
   ],
   "source": [
    "train_new = pd.concat([train_0, train_1], axis = 0)\n",
    "train_new.head()"
   ]
  },
  {
   "cell_type": "code",
   "execution_count": null,
   "id": "55bf55d8",
   "metadata": {},
   "outputs": [],
   "source": []
  },
  {
   "cell_type": "code",
   "execution_count": 24,
   "id": "1ed654f8",
   "metadata": {},
   "outputs": [],
   "source": [
    "x_train, y_train = train_new.drop(\"income\", axis = 1), train_new[\"income\"]\n",
    "x_test, y_test = test.drop(\"income\", axis = 1), test[\"income\"]"
   ]
  },
  {
   "cell_type": "code",
   "execution_count": 25,
   "id": "a04fa928",
   "metadata": {},
   "outputs": [],
   "source": [
    "num = []\n",
    "cat = []\n",
    "stri = []\n",
    "columns = list(x_train.columns)\n",
    "for col in columns:\n",
    "    if is_numeric_dtype(x_train[col]):\n",
    "        num.append(col)\n",
    "    elif is_string_dtype(x_train[col]):\n",
    "        stri.append(col)\n",
    "    elif is_category_dtype(x_train[col]):\n",
    "        cat.append(col)"
   ]
  },
  {
   "cell_type": "code",
   "execution_count": 26,
   "id": "d125e5a0",
   "metadata": {},
   "outputs": [
    {
     "data": {
      "text/plain": [
       "(['age',\n",
       "  'fnlwgt',\n",
       "  'education_num',\n",
       "  'capital_gain',\n",
       "  'capital_loss',\n",
       "  'hours_per_week'],\n",
       " ['workclass',\n",
       "  'education',\n",
       "  'marital_status',\n",
       "  'occupation',\n",
       "  'relationship',\n",
       "  'race',\n",
       "  'sex',\n",
       "  'native_country'],\n",
       " [])"
      ]
     },
     "execution_count": 26,
     "metadata": {},
     "output_type": "execute_result"
    }
   ],
   "source": [
    "num, stri, cat"
   ]
  },
  {
   "cell_type": "code",
   "execution_count": 27,
   "id": "7075fb39",
   "metadata": {},
   "outputs": [
    {
     "data": {
      "text/plain": [
       "array(['United-States', '?', 'Mexico', 'Greece', 'Vietnam', 'China',\n",
       "       'Taiwan', 'India', 'Philippines', 'Trinadad&Tobago', 'Canada',\n",
       "       'South', 'Holand-Netherlands', 'Puerto-Rico', 'Poland', 'Iran',\n",
       "       'England', 'Germany', 'Italy', 'Japan', 'Hong', 'Honduras', 'Cuba',\n",
       "       'Ireland', 'Cambodia', 'Peru', 'Nicaragua', 'Dominican-Republic',\n",
       "       'Haiti', 'El-Salvador', 'Hungary', 'Columbia', 'Guatemala',\n",
       "       'Jamaica', 'Ecuador', 'France', 'Yugoslavia', 'Scotland',\n",
       "       'Portugal', 'Laos', 'Thailand', 'Outlying-US(Guam-USVI-etc)'],\n",
       "      dtype=object)"
      ]
     },
     "execution_count": 27,
     "metadata": {},
     "output_type": "execute_result"
    }
   ],
   "source": [
    "df_pd[\"native_country\"].unique()"
   ]
  },
  {
   "cell_type": "code",
   "execution_count": 28,
   "id": "ce9120b2",
   "metadata": {},
   "outputs": [
    {
     "name": "stdout",
     "output_type": "stream",
     "text": [
      "<class 'pandas.core.frame.DataFrame'>\n",
      "RangeIndex: 32561 entries, 0 to 32560\n",
      "Data columns (total 15 columns):\n",
      " #   Column          Non-Null Count  Dtype \n",
      "---  ------          --------------  ----- \n",
      " 0   age             32561 non-null  int64 \n",
      " 1   workclass       32561 non-null  object\n",
      " 2   fnlwgt          32561 non-null  int64 \n",
      " 3   education       32561 non-null  object\n",
      " 4   education_num   32561 non-null  int64 \n",
      " 5   marital_status  32561 non-null  object\n",
      " 6   occupation      32561 non-null  object\n",
      " 7   relationship    32561 non-null  object\n",
      " 8   race            32561 non-null  object\n",
      " 9   sex             32561 non-null  object\n",
      " 10  capital_gain    32561 non-null  int64 \n",
      " 11  capital_loss    32561 non-null  int64 \n",
      " 12  hours_per_week  32561 non-null  int64 \n",
      " 13  native_country  32561 non-null  object\n",
      " 14  income          32561 non-null  int64 \n",
      "dtypes: int64(7), object(8)\n",
      "memory usage: 3.7+ MB\n"
     ]
    }
   ],
   "source": [
    "df_pd.info()"
   ]
  },
  {
   "cell_type": "code",
   "execution_count": 29,
   "id": "ba73a21a",
   "metadata": {},
   "outputs": [],
   "source": [
    "ct = ColumnTransformer([(\"ohe\", OneHotEncoder(handle_unknown=\"ignore\"), stri), (\"min_max\", MinMaxScaler(), num)])"
   ]
  },
  {
   "cell_type": "code",
   "execution_count": 30,
   "id": "adb08f09",
   "metadata": {},
   "outputs": [],
   "source": [
    "pipeline = Pipeline([(\"ct\", ct), (\"dc\", DecisionTreeClassifier(criterion=\"entropy\"))])"
   ]
  },
  {
   "cell_type": "code",
   "execution_count": 31,
   "id": "ea810110",
   "metadata": {},
   "outputs": [],
   "source": [
    "import numpy as np\n",
    "max_features = list(np.arange(3,14))\n",
    "max_depth = list(np.arange(3,13))"
   ]
  },
  {
   "cell_type": "code",
   "execution_count": 32,
   "id": "b1ae5e0c",
   "metadata": {},
   "outputs": [],
   "source": [
    "param_grid = [{\"dc__max_features\":max_features, \"dc__max_depth\": max_depth}]"
   ]
  },
  {
   "cell_type": "code",
   "execution_count": 33,
   "id": "ee5e28fb",
   "metadata": {},
   "outputs": [],
   "source": [
    "grid_search = GridSearchCV(pipeline, param_grid, cv = 5)"
   ]
  },
  {
   "cell_type": "code",
   "execution_count": 34,
   "id": "bf720d91",
   "metadata": {},
   "outputs": [
    {
     "data": {
      "text/plain": [
       "GridSearchCV(cv=5,\n",
       "             estimator=Pipeline(steps=[('ct',\n",
       "                                        ColumnTransformer(transformers=[('ohe',\n",
       "                                                                         OneHotEncoder(handle_unknown='ignore'),\n",
       "                                                                         ['workclass',\n",
       "                                                                          'education',\n",
       "                                                                          'marital_status',\n",
       "                                                                          'occupation',\n",
       "                                                                          'relationship',\n",
       "                                                                          'race',\n",
       "                                                                          'sex',\n",
       "                                                                          'native_country']),\n",
       "                                                                        ('min_max',\n",
       "                                                                         MinMaxScaler(),\n",
       "                                                                         ['age',\n",
       "                                                                          'fnlwgt',\n",
       "                                                                          'education_num',\n",
       "                                                                          'capital_gain',\n",
       "                                                                          'capital_loss',\n",
       "                                                                          'hours_per_week'])])),\n",
       "                                       ('dc',\n",
       "                                        DecisionTreeClassifier(criterion='entropy'))]),\n",
       "             param_grid=[{'dc__max_depth': [3, 4, 5, 6, 7, 8, 9, 10, 11, 12],\n",
       "                          'dc__max_features': [3, 4, 5, 6, 7, 8, 9, 10, 11, 12,\n",
       "                                               13]}])"
      ]
     },
     "execution_count": 34,
     "metadata": {},
     "output_type": "execute_result"
    }
   ],
   "source": [
    "grid_search.fit(x_train, y_train)"
   ]
  },
  {
   "cell_type": "code",
   "execution_count": 35,
   "id": "79fabcce",
   "metadata": {},
   "outputs": [
    {
     "data": {
      "text/plain": [
       "{'dc__max_depth': 12, 'dc__max_features': 13}"
      ]
     },
     "execution_count": 35,
     "metadata": {},
     "output_type": "execute_result"
    }
   ],
   "source": [
    "grid_search.best_params_"
   ]
  },
  {
   "cell_type": "code",
   "execution_count": 36,
   "id": "d49d9a5a",
   "metadata": {},
   "outputs": [
    {
     "data": {
      "text/plain": [
       "0.8451191881610358"
      ]
     },
     "execution_count": 36,
     "metadata": {},
     "output_type": "execute_result"
    }
   ],
   "source": [
    "grid_search.best_score_"
   ]
  },
  {
   "cell_type": "code",
   "execution_count": 37,
   "id": "e19bc877",
   "metadata": {},
   "outputs": [],
   "source": [
    "result = pd.DataFrame(grid_search.cv_results_).sort_values(\"rank_test_score\", ascending = True)"
   ]
  },
  {
   "cell_type": "code",
   "execution_count": 38,
   "id": "04d74368",
   "metadata": {},
   "outputs": [
    {
     "data": {
      "text/html": [
       "<div>\n",
       "<style scoped>\n",
       "    .dataframe tbody tr th:only-of-type {\n",
       "        vertical-align: middle;\n",
       "    }\n",
       "\n",
       "    .dataframe tbody tr th {\n",
       "        vertical-align: top;\n",
       "    }\n",
       "\n",
       "    .dataframe thead th {\n",
       "        text-align: right;\n",
       "    }\n",
       "</style>\n",
       "<table border=\"1\" class=\"dataframe\">\n",
       "  <thead>\n",
       "    <tr style=\"text-align: right;\">\n",
       "      <th></th>\n",
       "      <th>mean_fit_time</th>\n",
       "      <th>std_fit_time</th>\n",
       "      <th>mean_score_time</th>\n",
       "      <th>std_score_time</th>\n",
       "      <th>param_dc__max_depth</th>\n",
       "      <th>param_dc__max_features</th>\n",
       "      <th>params</th>\n",
       "      <th>split0_test_score</th>\n",
       "      <th>split1_test_score</th>\n",
       "      <th>split2_test_score</th>\n",
       "      <th>split3_test_score</th>\n",
       "      <th>split4_test_score</th>\n",
       "      <th>mean_test_score</th>\n",
       "      <th>std_test_score</th>\n",
       "      <th>rank_test_score</th>\n",
       "    </tr>\n",
       "  </thead>\n",
       "  <tbody>\n",
       "    <tr>\n",
       "      <th>109</th>\n",
       "      <td>0.109924</td>\n",
       "      <td>0.004689</td>\n",
       "      <td>0.017874</td>\n",
       "      <td>0.000525</td>\n",
       "      <td>12</td>\n",
       "      <td>13</td>\n",
       "      <td>{'dc__max_depth': 12, 'dc__max_features': 13}</td>\n",
       "      <td>0.850394</td>\n",
       "      <td>0.855579</td>\n",
       "      <td>0.841559</td>\n",
       "      <td>0.843834</td>\n",
       "      <td>0.834230</td>\n",
       "      <td>0.845119</td>\n",
       "      <td>0.007350</td>\n",
       "      <td>1</td>\n",
       "    </tr>\n",
       "    <tr>\n",
       "      <th>97</th>\n",
       "      <td>0.106060</td>\n",
       "      <td>0.005105</td>\n",
       "      <td>0.018092</td>\n",
       "      <td>0.000359</td>\n",
       "      <td>11</td>\n",
       "      <td>12</td>\n",
       "      <td>{'dc__max_depth': 11, 'dc__max_features': 12}</td>\n",
       "      <td>0.844824</td>\n",
       "      <td>0.847705</td>\n",
       "      <td>0.840023</td>\n",
       "      <td>0.836151</td>\n",
       "      <td>0.826738</td>\n",
       "      <td>0.839088</td>\n",
       "      <td>0.007337</td>\n",
       "      <td>2</td>\n",
       "    </tr>\n",
       "    <tr>\n",
       "      <th>107</th>\n",
       "      <td>0.101505</td>\n",
       "      <td>0.008367</td>\n",
       "      <td>0.016792</td>\n",
       "      <td>0.000565</td>\n",
       "      <td>12</td>\n",
       "      <td>11</td>\n",
       "      <td>{'dc__max_depth': 12, 'dc__max_features': 11}</td>\n",
       "      <td>0.848857</td>\n",
       "      <td>0.845400</td>\n",
       "      <td>0.841367</td>\n",
       "      <td>0.825970</td>\n",
       "      <td>0.831925</td>\n",
       "      <td>0.838704</td>\n",
       "      <td>0.008522</td>\n",
       "      <td>3</td>\n",
       "    </tr>\n",
       "    <tr>\n",
       "      <th>96</th>\n",
       "      <td>0.098979</td>\n",
       "      <td>0.004823</td>\n",
       "      <td>0.017998</td>\n",
       "      <td>0.000314</td>\n",
       "      <td>11</td>\n",
       "      <td>11</td>\n",
       "      <td>{'dc__max_depth': 11, 'dc__max_features': 11}</td>\n",
       "      <td>0.819666</td>\n",
       "      <td>0.828692</td>\n",
       "      <td>0.849433</td>\n",
       "      <td>0.844218</td>\n",
       "      <td>0.844218</td>\n",
       "      <td>0.837246</td>\n",
       "      <td>0.011207</td>\n",
       "      <td>4</td>\n",
       "    </tr>\n",
       "    <tr>\n",
       "      <th>94</th>\n",
       "      <td>0.091218</td>\n",
       "      <td>0.003997</td>\n",
       "      <td>0.016863</td>\n",
       "      <td>0.000749</td>\n",
       "      <td>11</td>\n",
       "      <td>9</td>\n",
       "      <td>{'dc__max_depth': 11, 'dc__max_features': 9}</td>\n",
       "      <td>0.850010</td>\n",
       "      <td>0.836950</td>\n",
       "      <td>0.839063</td>\n",
       "      <td>0.827699</td>\n",
       "      <td>0.831925</td>\n",
       "      <td>0.837129</td>\n",
       "      <td>0.007559</td>\n",
       "      <td>5</td>\n",
       "    </tr>\n",
       "    <tr>\n",
       "      <th>...</th>\n",
       "      <td>...</td>\n",
       "      <td>...</td>\n",
       "      <td>...</td>\n",
       "      <td>...</td>\n",
       "      <td>...</td>\n",
       "      <td>...</td>\n",
       "      <td>...</td>\n",
       "      <td>...</td>\n",
       "      <td>...</td>\n",
       "      <td>...</td>\n",
       "      <td>...</td>\n",
       "      <td>...</td>\n",
       "      <td>...</td>\n",
       "      <td>...</td>\n",
       "      <td>...</td>\n",
       "    </tr>\n",
       "    <tr>\n",
       "      <th>7</th>\n",
       "      <td>0.075248</td>\n",
       "      <td>0.003459</td>\n",
       "      <td>0.019441</td>\n",
       "      <td>0.001213</td>\n",
       "      <td>3</td>\n",
       "      <td>10</td>\n",
       "      <td>{'dc__max_depth': 3, 'dc__max_features': 10}</td>\n",
       "      <td>0.759939</td>\n",
       "      <td>0.776455</td>\n",
       "      <td>0.762819</td>\n",
       "      <td>0.772378</td>\n",
       "      <td>0.763926</td>\n",
       "      <td>0.767103</td>\n",
       "      <td>0.006246</td>\n",
       "      <td>106</td>\n",
       "    </tr>\n",
       "    <tr>\n",
       "      <th>2</th>\n",
       "      <td>0.072331</td>\n",
       "      <td>0.001136</td>\n",
       "      <td>0.019022</td>\n",
       "      <td>0.000529</td>\n",
       "      <td>3</td>\n",
       "      <td>5</td>\n",
       "      <td>{'dc__max_depth': 3, 'dc__max_features': 5}</td>\n",
       "      <td>0.781448</td>\n",
       "      <td>0.758978</td>\n",
       "      <td>0.763587</td>\n",
       "      <td>0.769113</td>\n",
       "      <td>0.759316</td>\n",
       "      <td>0.766489</td>\n",
       "      <td>0.008330</td>\n",
       "      <td>107</td>\n",
       "    </tr>\n",
       "    <tr>\n",
       "      <th>15</th>\n",
       "      <td>0.074313</td>\n",
       "      <td>0.003081</td>\n",
       "      <td>0.018876</td>\n",
       "      <td>0.000661</td>\n",
       "      <td>4</td>\n",
       "      <td>7</td>\n",
       "      <td>{'dc__max_depth': 4, 'dc__max_features': 7}</td>\n",
       "      <td>0.769349</td>\n",
       "      <td>0.759170</td>\n",
       "      <td>0.776455</td>\n",
       "      <td>0.759124</td>\n",
       "      <td>0.767960</td>\n",
       "      <td>0.766412</td>\n",
       "      <td>0.006594</td>\n",
       "      <td>108</td>\n",
       "    </tr>\n",
       "    <tr>\n",
       "      <th>3</th>\n",
       "      <td>0.073317</td>\n",
       "      <td>0.002742</td>\n",
       "      <td>0.018996</td>\n",
       "      <td>0.000909</td>\n",
       "      <td>3</td>\n",
       "      <td>6</td>\n",
       "      <td>{'dc__max_depth': 3, 'dc__max_features': 6}</td>\n",
       "      <td>0.764932</td>\n",
       "      <td>0.771269</td>\n",
       "      <td>0.758978</td>\n",
       "      <td>0.772378</td>\n",
       "      <td>0.759124</td>\n",
       "      <td>0.765336</td>\n",
       "      <td>0.005727</td>\n",
       "      <td>109</td>\n",
       "    </tr>\n",
       "    <tr>\n",
       "      <th>0</th>\n",
       "      <td>0.081741</td>\n",
       "      <td>0.011363</td>\n",
       "      <td>0.019985</td>\n",
       "      <td>0.000703</td>\n",
       "      <td>3</td>\n",
       "      <td>3</td>\n",
       "      <td>{'dc__max_depth': 3, 'dc__max_features': 3}</td>\n",
       "      <td>0.772038</td>\n",
       "      <td>0.759170</td>\n",
       "      <td>0.758978</td>\n",
       "      <td>0.759124</td>\n",
       "      <td>0.759124</td>\n",
       "      <td>0.761687</td>\n",
       "      <td>0.005176</td>\n",
       "      <td>110</td>\n",
       "    </tr>\n",
       "  </tbody>\n",
       "</table>\n",
       "<p>110 rows × 15 columns</p>\n",
       "</div>"
      ],
      "text/plain": [
       "     mean_fit_time  std_fit_time  mean_score_time  std_score_time  \\\n",
       "109       0.109924      0.004689         0.017874        0.000525   \n",
       "97        0.106060      0.005105         0.018092        0.000359   \n",
       "107       0.101505      0.008367         0.016792        0.000565   \n",
       "96        0.098979      0.004823         0.017998        0.000314   \n",
       "94        0.091218      0.003997         0.016863        0.000749   \n",
       "..             ...           ...              ...             ...   \n",
       "7         0.075248      0.003459         0.019441        0.001213   \n",
       "2         0.072331      0.001136         0.019022        0.000529   \n",
       "15        0.074313      0.003081         0.018876        0.000661   \n",
       "3         0.073317      0.002742         0.018996        0.000909   \n",
       "0         0.081741      0.011363         0.019985        0.000703   \n",
       "\n",
       "    param_dc__max_depth param_dc__max_features  \\\n",
       "109                  12                     13   \n",
       "97                   11                     12   \n",
       "107                  12                     11   \n",
       "96                   11                     11   \n",
       "94                   11                      9   \n",
       "..                  ...                    ...   \n",
       "7                     3                     10   \n",
       "2                     3                      5   \n",
       "15                    4                      7   \n",
       "3                     3                      6   \n",
       "0                     3                      3   \n",
       "\n",
       "                                            params  split0_test_score  \\\n",
       "109  {'dc__max_depth': 12, 'dc__max_features': 13}           0.850394   \n",
       "97   {'dc__max_depth': 11, 'dc__max_features': 12}           0.844824   \n",
       "107  {'dc__max_depth': 12, 'dc__max_features': 11}           0.848857   \n",
       "96   {'dc__max_depth': 11, 'dc__max_features': 11}           0.819666   \n",
       "94    {'dc__max_depth': 11, 'dc__max_features': 9}           0.850010   \n",
       "..                                             ...                ...   \n",
       "7     {'dc__max_depth': 3, 'dc__max_features': 10}           0.759939   \n",
       "2      {'dc__max_depth': 3, 'dc__max_features': 5}           0.781448   \n",
       "15     {'dc__max_depth': 4, 'dc__max_features': 7}           0.769349   \n",
       "3      {'dc__max_depth': 3, 'dc__max_features': 6}           0.764932   \n",
       "0      {'dc__max_depth': 3, 'dc__max_features': 3}           0.772038   \n",
       "\n",
       "     split1_test_score  split2_test_score  split3_test_score  \\\n",
       "109           0.855579           0.841559           0.843834   \n",
       "97            0.847705           0.840023           0.836151   \n",
       "107           0.845400           0.841367           0.825970   \n",
       "96            0.828692           0.849433           0.844218   \n",
       "94            0.836950           0.839063           0.827699   \n",
       "..                 ...                ...                ...   \n",
       "7             0.776455           0.762819           0.772378   \n",
       "2             0.758978           0.763587           0.769113   \n",
       "15            0.759170           0.776455           0.759124   \n",
       "3             0.771269           0.758978           0.772378   \n",
       "0             0.759170           0.758978           0.759124   \n",
       "\n",
       "     split4_test_score  mean_test_score  std_test_score  rank_test_score  \n",
       "109           0.834230         0.845119        0.007350                1  \n",
       "97            0.826738         0.839088        0.007337                2  \n",
       "107           0.831925         0.838704        0.008522                3  \n",
       "96            0.844218         0.837246        0.011207                4  \n",
       "94            0.831925         0.837129        0.007559                5  \n",
       "..                 ...              ...             ...              ...  \n",
       "7             0.763926         0.767103        0.006246              106  \n",
       "2             0.759316         0.766489        0.008330              107  \n",
       "15            0.767960         0.766412        0.006594              108  \n",
       "3             0.759124         0.765336        0.005727              109  \n",
       "0             0.759124         0.761687        0.005176              110  \n",
       "\n",
       "[110 rows x 15 columns]"
      ]
     },
     "execution_count": 38,
     "metadata": {},
     "output_type": "execute_result"
    }
   ],
   "source": [
    "result"
   ]
  },
  {
   "cell_type": "code",
   "execution_count": 39,
   "id": "b3803105",
   "metadata": {},
   "outputs": [],
   "source": [
    "model = grid_search.best_estimator_"
   ]
  },
  {
   "cell_type": "code",
   "execution_count": 40,
   "id": "f4db4eb6",
   "metadata": {},
   "outputs": [],
   "source": [
    "pred = model.predict(x_test)"
   ]
  },
  {
   "cell_type": "code",
   "execution_count": 41,
   "id": "e3476aca",
   "metadata": {},
   "outputs": [
    {
     "name": "stdout",
     "output_type": "stream",
     "text": [
      "              precision    recall  f1-score   support\n",
      "\n",
      "           0       0.85      0.96      0.90      4945\n",
      "           1       0.77      0.48      0.59      1568\n",
      "\n",
      "    accuracy                           0.84      6513\n",
      "   macro avg       0.81      0.72      0.75      6513\n",
      "weighted avg       0.83      0.84      0.83      6513\n",
      "\n"
     ]
    }
   ],
   "source": [
    "print(classification_report(y_test, pred))"
   ]
  },
  {
   "cell_type": "code",
   "execution_count": 42,
   "id": "95372eef",
   "metadata": {},
   "outputs": [],
   "source": [
    "conf = confusion_matrix(y_test,pred)"
   ]
  },
  {
   "cell_type": "code",
   "execution_count": 43,
   "id": "57648622",
   "metadata": {},
   "outputs": [
    {
     "data": {
      "text/plain": [
       "<AxesSubplot:>"
      ]
     },
     "execution_count": 43,
     "metadata": {},
     "output_type": "execute_result"
    },
    {
     "data": {
      "image/png": "[encoded data removed]",
      "text/plain": [
       "<Figure size 432x288 with 2 Axes>"
      ]
     },
     "metadata": {
      "needs_background": "light"
     },
     "output_type": "display_data"
    }
   ],
   "source": [
    "sns.heatmap(conf, annot = True, cmap = \"RdBu\")"
   ]
  },
  {
   "cell_type": "code",
   "execution_count": null,
   "id": "b92ad4f7",
   "metadata": {},
   "outputs": [],
   "source": []
  }
 ],
 "metadata": {
  "kernelspec": {
   "display_name": "Python 3 (ipykernel)",
   "language": "python",
   "name": "python3"
  },
  "language_info": {
   "codemirror_mode": {
    "name": "ipython",
    "version": 3
   },
   "file_extension": ".py",
   "mimetype": "text/x-python",
   "name": "python",
   "nbconvert_exporter": "python",
   "pygments_lexer": "ipython3",
   "version": "3.9.12"
  }
 },
 "nbformat": 4,
 "nbformat_minor": 5
}
