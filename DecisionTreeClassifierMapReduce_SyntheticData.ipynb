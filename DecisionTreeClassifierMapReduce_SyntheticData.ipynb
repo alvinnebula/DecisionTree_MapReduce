{
  "cells": [
    {
      "cell_type": "markdown",
      "metadata": {
        "id": "view-in-github",
        "colab_type": "text"
      },
      "source": [
        "<a href=\"https://colab.research.google.com/github/alvinnebula/DecisionTree_MapReduce/blob/main/DecisionTreeClassifierMapReduce_SyntheticData.ipynb\" target=\"_parent\"><img src=\"https://colab.research.google.com/assets/colab-badge.svg\" alt=\"Open In Colab\"/></a>"
      ]
    },
    {
      "cell_type": "markdown",
      "source": [
        "# Decision Tree - Synthetic Data (Map Reduce)"
      ],
      "metadata": {
        "id": "SlJ_pREsuXb7"
      },
      "id": "SlJ_pREsuXb7"
    },
    {
      "cell_type": "markdown",
      "source": [
        "#### Package Installation"
      ],
      "metadata": {
        "id": "mnRJ-ouqueI0"
      },
      "id": "mnRJ-ouqueI0"
    },
    {
      "cell_type": "code",
      "execution_count": 1,
      "id": "qzcrCwEh56F9",
      "metadata": {
        "colab": {
          "base_uri": "https://localhost:8080/"
        },
        "id": "qzcrCwEh56F9",
        "outputId": "2a5e9788-7582-4cf8-c96c-506b3ace1ae5"
      },
      "outputs": [
        {
          "output_type": "stream",
          "name": "stdout",
          "text": [
            "Looking in indexes: https://pypi.org/simple, https://us-python.pkg.dev/colab-wheels/public/simple/\n",
            "Requirement already satisfied: pyspark in /usr/local/lib/python3.9/dist-packages (3.4.0)\n",
            "Requirement already satisfied: py4j==0.10.9.7 in /usr/local/lib/python3.9/dist-packages (from pyspark) (0.10.9.7)\n",
            "openjdk-8-jdk-headless is already the newest version (8u362-ga-0ubuntu1~20.04.1).\n",
            "0 upgraded, 0 newly installed, 0 to remove and 24 not upgraded.\n"
          ]
        }
      ],
      "source": [
        "!pip install pyspark \n",
        "!pip install -U -q PyDrive\n",
        "!apt install openjdk-8-jdk-headless -qq \n",
        "import os\n",
        "os.environ[\"JAVA_HOME\"] = \"/usr/lib/jvm/java-8-openjdk-amd64\""
      ]
    },
    {
      "cell_type": "code",
      "execution_count": 2,
      "id": "nIqx5UPu0Ht8",
      "metadata": {
        "colab": {
          "base_uri": "https://localhost:8080/"
        },
        "id": "nIqx5UPu0Ht8",
        "outputId": "cec579ef-84f0-4544-b51e-4fd55e12766d"
      },
      "outputs": [
        {
          "output_type": "stream",
          "name": "stdout",
          "text": [
            "Looking in indexes: https://pypi.org/simple, https://us-python.pkg.dev/colab-wheels/public/simple/\n",
            "Requirement already satisfied: parallel-pandas in /usr/local/lib/python3.9/dist-packages (0.5.0)\n",
            "Requirement already satisfied: pandas>=1.4.0 in /usr/local/lib/python3.9/dist-packages (from parallel-pandas) (1.5.3)\n",
            "Requirement already satisfied: dill in /usr/local/lib/python3.9/dist-packages (from parallel-pandas) (0.3.6)\n",
            "Requirement already satisfied: psutil in /usr/local/lib/python3.9/dist-packages (from parallel-pandas) (5.9.4)\n",
            "Requirement already satisfied: tqdm in /usr/local/lib/python3.9/dist-packages (from parallel-pandas) (4.65.0)\n",
            "Requirement already satisfied: numpy>=1.20.3 in /usr/local/lib/python3.9/dist-packages (from pandas>=1.4.0->parallel-pandas) (1.22.4)\n",
            "Requirement already satisfied: python-dateutil>=2.8.1 in /usr/local/lib/python3.9/dist-packages (from pandas>=1.4.0->parallel-pandas) (2.8.2)\n",
            "Requirement already satisfied: pytz>=2020.1 in /usr/local/lib/python3.9/dist-packages (from pandas>=1.4.0->parallel-pandas) (2022.7.1)\n",
            "Requirement already satisfied: six>=1.5 in /usr/local/lib/python3.9/dist-packages (from python-dateutil>=2.8.1->pandas>=1.4.0->parallel-pandas) (1.16.0)\n"
          ]
        }
      ],
      "source": [
        "!pip install --upgrade parallel-pandas"
      ]
    },
    {
      "cell_type": "code",
      "execution_count": 3,
      "id": "B_XcCogDIO_M",
      "metadata": {
        "colab": {
          "base_uri": "https://localhost:8080/"
        },
        "id": "B_XcCogDIO_M",
        "outputId": "b07f2a89-9514-4632-a2e9-a174b1272862"
      },
      "outputs": [
        {
          "output_type": "stream",
          "name": "stdout",
          "text": [
            "Looking in indexes: https://pypi.org/simple, https://us-python.pkg.dev/colab-wheels/public/simple/\n",
            "Requirement already satisfied: pyjanitor in /usr/local/lib/python3.9/dist-packages (0.24.0)\n",
            "Requirement already satisfied: lazy-loader in /usr/local/lib/python3.9/dist-packages (from pyjanitor) (0.2)\n",
            "Requirement already satisfied: pandas-flavor in /usr/local/lib/python3.9/dist-packages (from pyjanitor) (0.5.0)\n",
            "Requirement already satisfied: multipledispatch in /usr/local/lib/python3.9/dist-packages (from pyjanitor) (0.6.0)\n",
            "Requirement already satisfied: natsort in /usr/local/lib/python3.9/dist-packages (from pyjanitor) (8.3.1)\n",
            "Requirement already satisfied: scipy in /usr/local/lib/python3.9/dist-packages (from pyjanitor) (1.10.1)\n",
            "Requirement already satisfied: six in /usr/local/lib/python3.9/dist-packages (from multipledispatch->pyjanitor) (1.16.0)\n",
            "Requirement already satisfied: pandas>=0.23 in /usr/local/lib/python3.9/dist-packages (from pandas-flavor->pyjanitor) (1.5.3)\n",
            "Requirement already satisfied: xarray in /usr/local/lib/python3.9/dist-packages (from pandas-flavor->pyjanitor) (2022.12.0)\n",
            "Requirement already satisfied: numpy<1.27.0,>=1.19.5 in /usr/local/lib/python3.9/dist-packages (from scipy->pyjanitor) (1.22.4)\n",
            "Requirement already satisfied: python-dateutil>=2.8.1 in /usr/local/lib/python3.9/dist-packages (from pandas>=0.23->pandas-flavor->pyjanitor) (2.8.2)\n",
            "Requirement already satisfied: pytz>=2020.1 in /usr/local/lib/python3.9/dist-packages (from pandas>=0.23->pandas-flavor->pyjanitor) (2022.7.1)\n",
            "Requirement already satisfied: packaging>=21.3 in /usr/local/lib/python3.9/dist-packages (from xarray->pandas-flavor->pyjanitor) (23.0)\n"
          ]
        }
      ],
      "source": [
        "!pip install  pyjanitor"
      ]
    },
    {
      "cell_type": "markdown",
      "source": [
        "#### Loading the libraries"
      ],
      "metadata": {
        "id": "zpfuA3QCuiGB"
      },
      "id": "zpfuA3QCuiGB"
    },
    {
      "cell_type": "code",
      "execution_count": 4,
      "id": "93ecd07b",
      "metadata": {
        "id": "93ecd07b"
      },
      "outputs": [],
      "source": [
        "import pandas as pd\n",
        "import numpy as np\n",
        "\n",
        "from sklearn.compose import ColumnTransformer\n",
        "from sklearn.model_selection import GridSearchCV, train_test_split\n",
        "from sklearn.preprocessing import LabelEncoder, OrdinalEncoder, MinMaxScaler, Normalizer, OneHotEncoder\n",
        "import seaborn as sns; sns.set_style(\"dark\")\n",
        "%matplotlib inline\n",
        "import matplotlib.pyplot as plt\n",
        "from pyspark.sql import SparkSession\n",
        "from pyspark import SparkConf, SparkContext\n",
        "import janitor\n",
        "#from parallel_pandas import ParallelPandas\n",
        "from google.colab import drive\n",
        "import os"
      ]
    },
    {
      "cell_type": "markdown",
      "source": [
        "#### Connecting to Google Drive"
      ],
      "metadata": {
        "id": "1eO-ucwHunvt"
      },
      "id": "1eO-ucwHunvt"
    },
    {
      "cell_type": "code",
      "execution_count": 5,
      "id": "n7aeIdJHXvib",
      "metadata": {
        "colab": {
          "base_uri": "https://localhost:8080/"
        },
        "id": "n7aeIdJHXvib",
        "outputId": "d18139c9-0d0a-4d79-a591-565c7d75dc40"
      },
      "outputs": [
        {
          "output_type": "stream",
          "name": "stderr",
          "text": [
            "/usr/local/lib/python3.9/dist-packages/ipykernel/ipkernel.py:283: DeprecationWarning: `should_run_async` will not call `transform_cell` automatically in the future. Please pass the result to `transformed_cell` argument and any exception that happen during thetransform in `preprocessing_exc_tuple` in IPython 7.17 and above.\n",
            "  and should_run_async(code)\n"
          ]
        },
        {
          "output_type": "stream",
          "name": "stdout",
          "text": [
            "Drive already mounted at /content/drive; to attempt to forcibly remount, call drive.mount(\"/content/drive\", force_remount=True).\n"
          ]
        }
      ],
      "source": [
        "drive.mount('/content/drive')\n",
        "cur_path = \"/content/drive/MyDrive/Big Data/Project\"\n",
        "os.chdir(cur_path)"
      ]
    },
    {
      "cell_type": "markdown",
      "source": [
        "##### Loading in the original data"
      ],
      "metadata": {
        "id": "ztNtSJWtuvU6"
      },
      "id": "ztNtSJWtuvU6"
    },
    {
      "cell_type": "code",
      "execution_count": 6,
      "id": "b601a9f3",
      "metadata": {
        "colab": {
          "base_uri": "https://localhost:8080/"
        },
        "id": "b601a9f3",
        "outputId": "cbd40637-87e3-4db4-e069-0116d653a305"
      },
      "outputs": [
        {
          "output_type": "stream",
          "name": "stderr",
          "text": [
            "/usr/local/lib/python3.9/dist-packages/ipykernel/ipkernel.py:283: DeprecationWarning: `should_run_async` will not call `transform_cell` automatically in the future. Please pass the result to `transformed_cell` argument and any exception that happen during thetransform in `preprocessing_exc_tuple` in IPython 7.17 and above.\n",
            "  and should_run_async(code)\n"
          ]
        },
        {
          "output_type": "execute_result",
          "data": {
            "text/plain": [
              "Index(['age', 'workclass', 'fnlwgt', 'education', 'education_num',\n",
              "       'marital_status', 'occupation', 'relationship', 'race', 'sex',\n",
              "       'capital_gain', 'capital_loss', 'hours_per_week', 'native_country',\n",
              "       'income'],\n",
              "      dtype='object')"
            ]
          },
          "metadata": {},
          "execution_count": 6
        }
      ],
      "source": [
        "df_small = pd.read_csv(\"adult.csv\").clean_names()\n",
        "df_small.columns"
      ]
    },
    {
      "cell_type": "code",
      "execution_count": 7,
      "id": "IXTB6Of9Fjrs",
      "metadata": {
        "colab": {
          "base_uri": "https://localhost:8080/"
        },
        "id": "IXTB6Of9Fjrs",
        "outputId": "0a1cd073-27d2-4718-8678-36a3532f5a5d"
      },
      "outputs": [
        {
          "output_type": "stream",
          "name": "stderr",
          "text": [
            "/usr/local/lib/python3.9/dist-packages/ipykernel/ipkernel.py:283: DeprecationWarning: `should_run_async` will not call `transform_cell` automatically in the future. Please pass the result to `transformed_cell` argument and any exception that happen during thetransform in `preprocessing_exc_tuple` in IPython 7.17 and above.\n",
            "  and should_run_async(code)\n"
          ]
        }
      ],
      "source": [
        "cols = list(df_small.columns)"
      ]
    },
    {
      "cell_type": "markdown",
      "source": [
        "##### Loading in the synthetic data"
      ],
      "metadata": {
        "id": "fdxF5AIvuy2E"
      },
      "id": "fdxF5AIvuy2E"
    },
    {
      "cell_type": "code",
      "execution_count": 8,
      "id": "x4Y2OffpFjxo",
      "metadata": {
        "colab": {
          "base_uri": "https://localhost:8080/",
          "height": 261
        },
        "id": "x4Y2OffpFjxo",
        "outputId": "00363330-6bd7-4068-b0e6-3aef28f38a63"
      },
      "outputs": [
        {
          "output_type": "stream",
          "name": "stderr",
          "text": [
            "/usr/local/lib/python3.9/dist-packages/ipykernel/ipkernel.py:283: DeprecationWarning: `should_run_async` will not call `transform_cell` automatically in the future. Please pass the result to `transformed_cell` argument and any exception that happen during thetransform in `preprocessing_exc_tuple` in IPython 7.17 and above.\n",
            "  and should_run_async(code)\n"
          ]
        },
        {
          "output_type": "execute_result",
          "data": {
            "text/plain": [
              "   0                 1       2          3   4                   5   \\\n",
              "0  39         State-gov   77516  Bachelors  13       Never-married   \n",
              "1  50  Self-emp-not-inc   83311  Bachelors  13  Married-civ-spouse   \n",
              "2  38           Private  215646    HS-grad   9            Divorced   \n",
              "3  53           Private  234721       11th   7  Married-civ-spouse   \n",
              "4  28           Private  338409  Bachelors  13  Married-civ-spouse   \n",
              "\n",
              "                  6              7      8       9     10  11  12  \\\n",
              "0       Adm-clerical  Not-in-family  White    Male  2174   0  40   \n",
              "1    Exec-managerial        Husband  White    Male     0   0  13   \n",
              "2  Handlers-cleaners  Not-in-family  White    Male     0   0  40   \n",
              "3  Handlers-cleaners        Husband  Black    Male     0   0  40   \n",
              "4     Prof-specialty           Wife  Black  Female     0   0  40   \n",
              "\n",
              "              13     14  \n",
              "0  United-States  <=50K  \n",
              "1  United-States  <=50K  \n",
              "2  United-States  <=50K  \n",
              "3  United-States  <=50K  \n",
              "4           Cuba  <=50K  "
            ],
            "text/html": [
              "\n",
              "  <div id=\"df-1ef34f60-e962-473a-8edf-41df69b4930a\">\n",
              "    <div class=\"colab-df-container\">\n",
              "      <div>\n",
              "<style scoped>\n",
              "    .dataframe tbody tr th:only-of-type {\n",
              "        vertical-align: middle;\n",
              "    }\n",
              "\n",
              "    .dataframe tbody tr th {\n",
              "        vertical-align: top;\n",
              "    }\n",
              "\n",
              "    .dataframe thead th {\n",
              "        text-align: right;\n",
              "    }\n",
              "</style>\n",
              "<table border=\"1\" class=\"dataframe\">\n",
              "  <thead>\n",
              "    <tr style=\"text-align: right;\">\n",
              "      <th></th>\n",
              "      <th>0</th>\n",
              "      <th>1</th>\n",
              "      <th>2</th>\n",
              "      <th>3</th>\n",
              "      <th>4</th>\n",
              "      <th>5</th>\n",
              "      <th>6</th>\n",
              "      <th>7</th>\n",
              "      <th>8</th>\n",
              "      <th>9</th>\n",
              "      <th>10</th>\n",
              "      <th>11</th>\n",
              "      <th>12</th>\n",
              "      <th>13</th>\n",
              "      <th>14</th>\n",
              "    </tr>\n",
              "  </thead>\n",
              "  <tbody>\n",
              "    <tr>\n",
              "      <th>0</th>\n",
              "      <td>39</td>\n",
              "      <td>State-gov</td>\n",
              "      <td>77516</td>\n",
              "      <td>Bachelors</td>\n",
              "      <td>13</td>\n",
              "      <td>Never-married</td>\n",
              "      <td>Adm-clerical</td>\n",
              "      <td>Not-in-family</td>\n",
              "      <td>White</td>\n",
              "      <td>Male</td>\n",
              "      <td>2174</td>\n",
              "      <td>0</td>\n",
              "      <td>40</td>\n",
              "      <td>United-States</td>\n",
              "      <td>&lt;=50K</td>\n",
              "    </tr>\n",
              "    <tr>\n",
              "      <th>1</th>\n",
              "      <td>50</td>\n",
              "      <td>Self-emp-not-inc</td>\n",
              "      <td>83311</td>\n",
              "      <td>Bachelors</td>\n",
              "      <td>13</td>\n",
              "      <td>Married-civ-spouse</td>\n",
              "      <td>Exec-managerial</td>\n",
              "      <td>Husband</td>\n",
              "      <td>White</td>\n",
              "      <td>Male</td>\n",
              "      <td>0</td>\n",
              "      <td>0</td>\n",
              "      <td>13</td>\n",
              "      <td>United-States</td>\n",
              "      <td>&lt;=50K</td>\n",
              "    </tr>\n",
              "    <tr>\n",
              "      <th>2</th>\n",
              "      <td>38</td>\n",
              "      <td>Private</td>\n",
              "      <td>215646</td>\n",
              "      <td>HS-grad</td>\n",
              "      <td>9</td>\n",
              "      <td>Divorced</td>\n",
              "      <td>Handlers-cleaners</td>\n",
              "      <td>Not-in-family</td>\n",
              "      <td>White</td>\n",
              "      <td>Male</td>\n",
              "      <td>0</td>\n",
              "      <td>0</td>\n",
              "      <td>40</td>\n",
              "      <td>United-States</td>\n",
              "      <td>&lt;=50K</td>\n",
              "    </tr>\n",
              "    <tr>\n",
              "      <th>3</th>\n",
              "      <td>53</td>\n",
              "      <td>Private</td>\n",
              "      <td>234721</td>\n",
              "      <td>11th</td>\n",
              "      <td>7</td>\n",
              "      <td>Married-civ-spouse</td>\n",
              "      <td>Handlers-cleaners</td>\n",
              "      <td>Husband</td>\n",
              "      <td>Black</td>\n",
              "      <td>Male</td>\n",
              "      <td>0</td>\n",
              "      <td>0</td>\n",
              "      <td>40</td>\n",
              "      <td>United-States</td>\n",
              "      <td>&lt;=50K</td>\n",
              "    </tr>\n",
              "    <tr>\n",
              "      <th>4</th>\n",
              "      <td>28</td>\n",
              "      <td>Private</td>\n",
              "      <td>338409</td>\n",
              "      <td>Bachelors</td>\n",
              "      <td>13</td>\n",
              "      <td>Married-civ-spouse</td>\n",
              "      <td>Prof-specialty</td>\n",
              "      <td>Wife</td>\n",
              "      <td>Black</td>\n",
              "      <td>Female</td>\n",
              "      <td>0</td>\n",
              "      <td>0</td>\n",
              "      <td>40</td>\n",
              "      <td>Cuba</td>\n",
              "      <td>&lt;=50K</td>\n",
              "    </tr>\n",
              "  </tbody>\n",
              "</table>\n",
              "</div>\n",
              "      <button class=\"colab-df-convert\" onclick=\"convertToInteractive('df-1ef34f60-e962-473a-8edf-41df69b4930a')\"\n",
              "              title=\"Convert this dataframe to an interactive table.\"\n",
              "              style=\"display:none;\">\n",
              "        \n",
              "  <svg xmlns=\"http://www.w3.org/2000/svg\" height=\"24px\"viewBox=\"0 0 24 24\"\n",
              "       width=\"24px\">\n",
              "    <path d=\"M0 0h24v24H0V0z\" fill=\"none\"/>\n",
              "    <path d=\"M18.56 5.44l.94 2.06.94-2.06 2.06-.94-2.06-.94-.94-2.06-.94 2.06-2.06.94zm-11 1L8.5 8.5l.94-2.06 2.06-.94-2.06-.94L8.5 2.5l-.94 2.06-2.06.94zm10 10l.94 2.06.94-2.06 2.06-.94-2.06-.94-.94-2.06-.94 2.06-2.06.94z\"/><path d=\"M17.41 7.96l-1.37-1.37c-.4-.4-.92-.59-1.43-.59-.52 0-1.04.2-1.43.59L10.3 9.45l-7.72 7.72c-.78.78-.78 2.05 0 2.83L4 21.41c.39.39.9.59 1.41.59.51 0 1.02-.2 1.41-.59l7.78-7.78 2.81-2.81c.8-.78.8-2.07 0-2.86zM5.41 20L4 18.59l7.72-7.72 1.47 1.35L5.41 20z\"/>\n",
              "  </svg>\n",
              "      </button>\n",
              "      \n",
              "  <style>\n",
              "    .colab-df-container {\n",
              "      display:flex;\n",
              "      flex-wrap:wrap;\n",
              "      gap: 12px;\n",
              "    }\n",
              "\n",
              "    .colab-df-convert {\n",
              "      background-color: #E8F0FE;\n",
              "      border: none;\n",
              "      border-radius: 50%;\n",
              "      cursor: pointer;\n",
              "      display: none;\n",
              "      fill: #1967D2;\n",
              "      height: 32px;\n",
              "      padding: 0 0 0 0;\n",
              "      width: 32px;\n",
              "    }\n",
              "\n",
              "    .colab-df-convert:hover {\n",
              "      background-color: #E2EBFA;\n",
              "      box-shadow: 0px 1px 2px rgba(60, 64, 67, 0.3), 0px 1px 3px 1px rgba(60, 64, 67, 0.15);\n",
              "      fill: #174EA6;\n",
              "    }\n",
              "\n",
              "    [theme=dark] .colab-df-convert {\n",
              "      background-color: #3B4455;\n",
              "      fill: #D2E3FC;\n",
              "    }\n",
              "\n",
              "    [theme=dark] .colab-df-convert:hover {\n",
              "      background-color: #434B5C;\n",
              "      box-shadow: 0px 1px 3px 1px rgba(0, 0, 0, 0.15);\n",
              "      filter: drop-shadow(0px 1px 2px rgba(0, 0, 0, 0.3));\n",
              "      fill: #FFFFFF;\n",
              "    }\n",
              "  </style>\n",
              "\n",
              "      <script>\n",
              "        const buttonEl =\n",
              "          document.querySelector('#df-1ef34f60-e962-473a-8edf-41df69b4930a button.colab-df-convert');\n",
              "        buttonEl.style.display =\n",
              "          google.colab.kernel.accessAllowed ? 'block' : 'none';\n",
              "\n",
              "        async function convertToInteractive(key) {\n",
              "          const element = document.querySelector('#df-1ef34f60-e962-473a-8edf-41df69b4930a');\n",
              "          const dataTable =\n",
              "            await google.colab.kernel.invokeFunction('convertToInteractive',\n",
              "                                                     [key], {});\n",
              "          if (!dataTable) return;\n",
              "\n",
              "          const docLinkHtml = 'Like what you see? Visit the ' +\n",
              "            '<a target=\"_blank\" href=https://colab.research.google.com/notebooks/data_table.ipynb>data table notebook</a>'\n",
              "            + ' to learn more about interactive tables.';\n",
              "          element.innerHTML = '';\n",
              "          dataTable['output_type'] = 'display_data';\n",
              "          await google.colab.output.renderOutput(dataTable, element);\n",
              "          const docLink = document.createElement('div');\n",
              "          docLink.innerHTML = docLinkHtml;\n",
              "          element.appendChild(docLink);\n",
              "        }\n",
              "      </script>\n",
              "    </div>\n",
              "  </div>\n",
              "  "
            ]
          },
          "metadata": {},
          "execution_count": 8
        }
      ],
      "source": [
        "df = pd.read_table(\"adult100k.txt\", sep = \",\", header = None)\n",
        "df.head()"
      ]
    },
    {
      "cell_type": "code",
      "execution_count": 9,
      "id": "-w_C2zI-Fj2u",
      "metadata": {
        "colab": {
          "base_uri": "https://localhost:8080/",
          "height": 392
        },
        "id": "-w_C2zI-Fj2u",
        "outputId": "b144046f-1909-4028-9bc7-ec766067d3ca"
      },
      "outputs": [
        {
          "output_type": "stream",
          "name": "stderr",
          "text": [
            "/usr/local/lib/python3.9/dist-packages/ipykernel/ipkernel.py:283: DeprecationWarning: `should_run_async` will not call `transform_cell` automatically in the future. Please pass the result to `transformed_cell` argument and any exception that happen during thetransform in `preprocessing_exc_tuple` in IPython 7.17 and above.\n",
            "  and should_run_async(code)\n"
          ]
        },
        {
          "output_type": "execute_result",
          "data": {
            "text/plain": [
              "   age         workclass  fnlwgt  education  education_num  \\\n",
              "0   39         State-gov   77516  Bachelors             13   \n",
              "1   50  Self-emp-not-inc   83311  Bachelors             13   \n",
              "2   38           Private  215646    HS-grad              9   \n",
              "3   53           Private  234721       11th              7   \n",
              "4   28           Private  338409  Bachelors             13   \n",
              "\n",
              "       marital_status         occupation   relationship   race     sex  \\\n",
              "0       Never-married       Adm-clerical  Not-in-family  White    Male   \n",
              "1  Married-civ-spouse    Exec-managerial        Husband  White    Male   \n",
              "2            Divorced  Handlers-cleaners  Not-in-family  White    Male   \n",
              "3  Married-civ-spouse  Handlers-cleaners        Husband  Black    Male   \n",
              "4  Married-civ-spouse     Prof-specialty           Wife  Black  Female   \n",
              "\n",
              "   capital_gain  capital_loss  hours_per_week native_country income  \n",
              "0          2174             0              40  United-States  <=50K  \n",
              "1             0             0              13  United-States  <=50K  \n",
              "2             0             0              40  United-States  <=50K  \n",
              "3             0             0              40  United-States  <=50K  \n",
              "4             0             0              40           Cuba  <=50K  "
            ],
            "text/html": [
              "\n",
              "  <div id=\"df-5c24bc69-ffa4-4c54-98e6-0a10a1287908\">\n",
              "    <div class=\"colab-df-container\">\n",
              "      <div>\n",
              "<style scoped>\n",
              "    .dataframe tbody tr th:only-of-type {\n",
              "        vertical-align: middle;\n",
              "    }\n",
              "\n",
              "    .dataframe tbody tr th {\n",
              "        vertical-align: top;\n",
              "    }\n",
              "\n",
              "    .dataframe thead th {\n",
              "        text-align: right;\n",
              "    }\n",
              "</style>\n",
              "<table border=\"1\" class=\"dataframe\">\n",
              "  <thead>\n",
              "    <tr style=\"text-align: right;\">\n",
              "      <th></th>\n",
              "      <th>age</th>\n",
              "      <th>workclass</th>\n",
              "      <th>fnlwgt</th>\n",
              "      <th>education</th>\n",
              "      <th>education_num</th>\n",
              "      <th>marital_status</th>\n",
              "      <th>occupation</th>\n",
              "      <th>relationship</th>\n",
              "      <th>race</th>\n",
              "      <th>sex</th>\n",
              "      <th>capital_gain</th>\n",
              "      <th>capital_loss</th>\n",
              "      <th>hours_per_week</th>\n",
              "      <th>native_country</th>\n",
              "      <th>income</th>\n",
              "    </tr>\n",
              "  </thead>\n",
              "  <tbody>\n",
              "    <tr>\n",
              "      <th>0</th>\n",
              "      <td>39</td>\n",
              "      <td>State-gov</td>\n",
              "      <td>77516</td>\n",
              "      <td>Bachelors</td>\n",
              "      <td>13</td>\n",
              "      <td>Never-married</td>\n",
              "      <td>Adm-clerical</td>\n",
              "      <td>Not-in-family</td>\n",
              "      <td>White</td>\n",
              "      <td>Male</td>\n",
              "      <td>2174</td>\n",
              "      <td>0</td>\n",
              "      <td>40</td>\n",
              "      <td>United-States</td>\n",
              "      <td>&lt;=50K</td>\n",
              "    </tr>\n",
              "    <tr>\n",
              "      <th>1</th>\n",
              "      <td>50</td>\n",
              "      <td>Self-emp-not-inc</td>\n",
              "      <td>83311</td>\n",
              "      <td>Bachelors</td>\n",
              "      <td>13</td>\n",
              "      <td>Married-civ-spouse</td>\n",
              "      <td>Exec-managerial</td>\n",
              "      <td>Husband</td>\n",
              "      <td>White</td>\n",
              "      <td>Male</td>\n",
              "      <td>0</td>\n",
              "      <td>0</td>\n",
              "      <td>13</td>\n",
              "      <td>United-States</td>\n",
              "      <td>&lt;=50K</td>\n",
              "    </tr>\n",
              "    <tr>\n",
              "      <th>2</th>\n",
              "      <td>38</td>\n",
              "      <td>Private</td>\n",
              "      <td>215646</td>\n",
              "      <td>HS-grad</td>\n",
              "      <td>9</td>\n",
              "      <td>Divorced</td>\n",
              "      <td>Handlers-cleaners</td>\n",
              "      <td>Not-in-family</td>\n",
              "      <td>White</td>\n",
              "      <td>Male</td>\n",
              "      <td>0</td>\n",
              "      <td>0</td>\n",
              "      <td>40</td>\n",
              "      <td>United-States</td>\n",
              "      <td>&lt;=50K</td>\n",
              "    </tr>\n",
              "    <tr>\n",
              "      <th>3</th>\n",
              "      <td>53</td>\n",
              "      <td>Private</td>\n",
              "      <td>234721</td>\n",
              "      <td>11th</td>\n",
              "      <td>7</td>\n",
              "      <td>Married-civ-spouse</td>\n",
              "      <td>Handlers-cleaners</td>\n",
              "      <td>Husband</td>\n",
              "      <td>Black</td>\n",
              "      <td>Male</td>\n",
              "      <td>0</td>\n",
              "      <td>0</td>\n",
              "      <td>40</td>\n",
              "      <td>United-States</td>\n",
              "      <td>&lt;=50K</td>\n",
              "    </tr>\n",
              "    <tr>\n",
              "      <th>4</th>\n",
              "      <td>28</td>\n",
              "      <td>Private</td>\n",
              "      <td>338409</td>\n",
              "      <td>Bachelors</td>\n",
              "      <td>13</td>\n",
              "      <td>Married-civ-spouse</td>\n",
              "      <td>Prof-specialty</td>\n",
              "      <td>Wife</td>\n",
              "      <td>Black</td>\n",
              "      <td>Female</td>\n",
              "      <td>0</td>\n",
              "      <td>0</td>\n",
              "      <td>40</td>\n",
              "      <td>Cuba</td>\n",
              "      <td>&lt;=50K</td>\n",
              "    </tr>\n",
              "  </tbody>\n",
              "</table>\n",
              "</div>\n",
              "      <button class=\"colab-df-convert\" onclick=\"convertToInteractive('df-5c24bc69-ffa4-4c54-98e6-0a10a1287908')\"\n",
              "              title=\"Convert this dataframe to an interactive table.\"\n",
              "              style=\"display:none;\">\n",
              "        \n",
              "  <svg xmlns=\"http://www.w3.org/2000/svg\" height=\"24px\"viewBox=\"0 0 24 24\"\n",
              "       width=\"24px\">\n",
              "    <path d=\"M0 0h24v24H0V0z\" fill=\"none\"/>\n",
              "    <path d=\"M18.56 5.44l.94 2.06.94-2.06 2.06-.94-2.06-.94-.94-2.06-.94 2.06-2.06.94zm-11 1L8.5 8.5l.94-2.06 2.06-.94-2.06-.94L8.5 2.5l-.94 2.06-2.06.94zm10 10l.94 2.06.94-2.06 2.06-.94-2.06-.94-.94-2.06-.94 2.06-2.06.94z\"/><path d=\"M17.41 7.96l-1.37-1.37c-.4-.4-.92-.59-1.43-.59-.52 0-1.04.2-1.43.59L10.3 9.45l-7.72 7.72c-.78.78-.78 2.05 0 2.83L4 21.41c.39.39.9.59 1.41.59.51 0 1.02-.2 1.41-.59l7.78-7.78 2.81-2.81c.8-.78.8-2.07 0-2.86zM5.41 20L4 18.59l7.72-7.72 1.47 1.35L5.41 20z\"/>\n",
              "  </svg>\n",
              "      </button>\n",
              "      \n",
              "  <style>\n",
              "    .colab-df-container {\n",
              "      display:flex;\n",
              "      flex-wrap:wrap;\n",
              "      gap: 12px;\n",
              "    }\n",
              "\n",
              "    .colab-df-convert {\n",
              "      background-color: #E8F0FE;\n",
              "      border: none;\n",
              "      border-radius: 50%;\n",
              "      cursor: pointer;\n",
              "      display: none;\n",
              "      fill: #1967D2;\n",
              "      height: 32px;\n",
              "      padding: 0 0 0 0;\n",
              "      width: 32px;\n",
              "    }\n",
              "\n",
              "    .colab-df-convert:hover {\n",
              "      background-color: #E2EBFA;\n",
              "      box-shadow: 0px 1px 2px rgba(60, 64, 67, 0.3), 0px 1px 3px 1px rgba(60, 64, 67, 0.15);\n",
              "      fill: #174EA6;\n",
              "    }\n",
              "\n",
              "    [theme=dark] .colab-df-convert {\n",
              "      background-color: #3B4455;\n",
              "      fill: #D2E3FC;\n",
              "    }\n",
              "\n",
              "    [theme=dark] .colab-df-convert:hover {\n",
              "      background-color: #434B5C;\n",
              "      box-shadow: 0px 1px 3px 1px rgba(0, 0, 0, 0.15);\n",
              "      filter: drop-shadow(0px 1px 2px rgba(0, 0, 0, 0.3));\n",
              "      fill: #FFFFFF;\n",
              "    }\n",
              "  </style>\n",
              "\n",
              "      <script>\n",
              "        const buttonEl =\n",
              "          document.querySelector('#df-5c24bc69-ffa4-4c54-98e6-0a10a1287908 button.colab-df-convert');\n",
              "        buttonEl.style.display =\n",
              "          google.colab.kernel.accessAllowed ? 'block' : 'none';\n",
              "\n",
              "        async function convertToInteractive(key) {\n",
              "          const element = document.querySelector('#df-5c24bc69-ffa4-4c54-98e6-0a10a1287908');\n",
              "          const dataTable =\n",
              "            await google.colab.kernel.invokeFunction('convertToInteractive',\n",
              "                                                     [key], {});\n",
              "          if (!dataTable) return;\n",
              "\n",
              "          const docLinkHtml = 'Like what you see? Visit the ' +\n",
              "            '<a target=\"_blank\" href=https://colab.research.google.com/notebooks/data_table.ipynb>data table notebook</a>'\n",
              "            + ' to learn more about interactive tables.';\n",
              "          element.innerHTML = '';\n",
              "          dataTable['output_type'] = 'display_data';\n",
              "          await google.colab.output.renderOutput(dataTable, element);\n",
              "          const docLink = document.createElement('div');\n",
              "          docLink.innerHTML = docLinkHtml;\n",
              "          element.appendChild(docLink);\n",
              "        }\n",
              "      </script>\n",
              "    </div>\n",
              "  </div>\n",
              "  "
            ]
          },
          "metadata": {},
          "execution_count": 9
        }
      ],
      "source": [
        "for i in range(len(cols)):\n",
        "    df = df.rename(columns= {i: cols[i]})\n",
        "df.head()"
      ]
    },
    {
      "cell_type": "code",
      "execution_count": 10,
      "id": "680ba872",
      "metadata": {
        "colab": {
          "base_uri": "https://localhost:8080/"
        },
        "id": "680ba872",
        "outputId": "3ef33053-4bd7-4187-8204-0a88090ff561"
      },
      "outputs": [
        {
          "output_type": "stream",
          "name": "stderr",
          "text": [
            "/usr/local/lib/python3.9/dist-packages/ipykernel/ipkernel.py:283: DeprecationWarning: `should_run_async` will not call `transform_cell` automatically in the future. Please pass the result to `transformed_cell` argument and any exception that happen during thetransform in `preprocessing_exc_tuple` in IPython 7.17 and above.\n",
            "  and should_run_async(code)\n"
          ]
        }
      ],
      "source": [
        "from pandas.api.types import is_string_dtype\n",
        "from pandas.api.types import is_numeric_dtype\n",
        "from pandas.api.types import is_categorical_dtype"
      ]
    },
    {
      "cell_type": "code",
      "execution_count": 11,
      "id": "152790b0",
      "metadata": {
        "colab": {
          "base_uri": "https://localhost:8080/"
        },
        "id": "152790b0",
        "outputId": "0d3bec2d-57fd-46e3-9f07-b514e2e158ef"
      },
      "outputs": [
        {
          "output_type": "stream",
          "name": "stderr",
          "text": [
            "/usr/local/lib/python3.9/dist-packages/ipykernel/ipkernel.py:283: DeprecationWarning: `should_run_async` will not call `transform_cell` automatically in the future. Please pass the result to `transformed_cell` argument and any exception that happen during thetransform in `preprocessing_exc_tuple` in IPython 7.17 and above.\n",
            "  and should_run_async(code)\n"
          ]
        }
      ],
      "source": [
        "df[\"marital_relation\"] = df[\"marital_status\"] + \"_\" + df[\"relationship\"]\n",
        "df = df.drop([\"sex\",\"race\",\"education_num\", \"native_country\", \"marital_status\",\"relationship\"], axis = 1)"
      ]
    },
    {
      "cell_type": "code",
      "execution_count": 12,
      "id": "13cc594d",
      "metadata": {
        "colab": {
          "base_uri": "https://localhost:8080/"
        },
        "id": "13cc594d",
        "outputId": "51ae2084-f824-439f-c631-d8d6e8ca102e"
      },
      "outputs": [
        {
          "output_type": "stream",
          "name": "stdout",
          "text": [
            "<class 'pandas.core.frame.DataFrame'>\n",
            "RangeIndex: 100000 entries, 0 to 99999\n",
            "Data columns (total 10 columns):\n",
            " #   Column            Non-Null Count   Dtype \n",
            "---  ------            --------------   ----- \n",
            " 0   age               100000 non-null  int64 \n",
            " 1   workclass         100000 non-null  object\n",
            " 2   fnlwgt            100000 non-null  int64 \n",
            " 3   education         100000 non-null  object\n",
            " 4   occupation        100000 non-null  object\n",
            " 5   capital_gain      100000 non-null  int64 \n",
            " 6   capital_loss      100000 non-null  int64 \n",
            " 7   hours_per_week    100000 non-null  int64 \n",
            " 8   income            100000 non-null  object\n",
            " 9   marital_relation  100000 non-null  object\n",
            "dtypes: int64(5), object(5)\n",
            "memory usage: 7.6+ MB\n"
          ]
        },
        {
          "output_type": "stream",
          "name": "stderr",
          "text": [
            "/usr/local/lib/python3.9/dist-packages/ipykernel/ipkernel.py:283: DeprecationWarning: `should_run_async` will not call `transform_cell` automatically in the future. Please pass the result to `transformed_cell` argument and any exception that happen during thetransform in `preprocessing_exc_tuple` in IPython 7.17 and above.\n",
            "  and should_run_async(code)\n"
          ]
        }
      ],
      "source": [
        "df.info()"
      ]
    },
    {
      "cell_type": "code",
      "execution_count": 13,
      "id": "b731f3c7",
      "metadata": {
        "colab": {
          "base_uri": "https://localhost:8080/"
        },
        "id": "b731f3c7",
        "outputId": "b42b61a5-8902-441f-fbdb-04d752b933c3"
      },
      "outputs": [
        {
          "output_type": "stream",
          "name": "stderr",
          "text": [
            "/usr/local/lib/python3.9/dist-packages/ipykernel/ipkernel.py:283: DeprecationWarning: `should_run_async` will not call `transform_cell` automatically in the future. Please pass the result to `transformed_cell` argument and any exception that happen during thetransform in `preprocessing_exc_tuple` in IPython 7.17 and above.\n",
            "  and should_run_async(code)\n"
          ]
        }
      ],
      "source": [
        "df[\"income\"] = df[\"income\"].replace([\"<=50K\",\">50K\"], [0,1])"
      ]
    },
    {
      "cell_type": "code",
      "execution_count": 14,
      "id": "8ea682a2",
      "metadata": {
        "colab": {
          "base_uri": "https://localhost:8080/"
        },
        "id": "8ea682a2",
        "outputId": "1d4ae6d5-517e-4de2-ec89-916f5c649884"
      },
      "outputs": [
        {
          "output_type": "stream",
          "name": "stderr",
          "text": [
            "/usr/local/lib/python3.9/dist-packages/ipykernel/ipkernel.py:283: DeprecationWarning: `should_run_async` will not call `transform_cell` automatically in the future. Please pass the result to `transformed_cell` argument and any exception that happen during thetransform in `preprocessing_exc_tuple` in IPython 7.17 and above.\n",
            "  and should_run_async(code)\n"
          ]
        }
      ],
      "source": [
        "train, test = train_test_split(df, random_state = 420, train_size = 0.85, stratify = df[\"income\"])"
      ]
    },
    {
      "cell_type": "code",
      "execution_count": 15,
      "id": "0c0c83d9",
      "metadata": {
        "colab": {
          "base_uri": "https://localhost:8080/"
        },
        "id": "0c0c83d9",
        "outputId": "8cf6e320-0fb3-4782-b8d8-18a2c4ea1be7"
      },
      "outputs": [
        {
          "output_type": "stream",
          "name": "stderr",
          "text": [
            "/usr/local/lib/python3.9/dist-packages/ipykernel/ipkernel.py:283: DeprecationWarning: `should_run_async` will not call `transform_cell` automatically in the future. Please pass the result to `transformed_cell` argument and any exception that happen during thetransform in `preprocessing_exc_tuple` in IPython 7.17 and above.\n",
            "  and should_run_async(code)\n"
          ]
        }
      ],
      "source": [
        "train_0 = train[train[\"income\"] == 0]\n",
        "train_0 = train_0.drop_duplicates()\n",
        "train_1 = train[train[\"income\"] == 1]"
      ]
    },
    {
      "cell_type": "code",
      "execution_count": 16,
      "id": "c2e3e27e",
      "metadata": {
        "colab": {
          "base_uri": "https://localhost:8080/"
        },
        "id": "c2e3e27e",
        "outputId": "4f282bec-26c0-4aa4-bb1c-def462fb530e"
      },
      "outputs": [
        {
          "output_type": "stream",
          "name": "stderr",
          "text": [
            "/usr/local/lib/python3.9/dist-packages/ipykernel/ipkernel.py:283: DeprecationWarning: `should_run_async` will not call `transform_cell` automatically in the future. Please pass the result to `transformed_cell` argument and any exception that happen during thetransform in `preprocessing_exc_tuple` in IPython 7.17 and above.\n",
            "  and should_run_async(code)\n"
          ]
        }
      ],
      "source": [
        "train_new = pd.concat([train_0, train_1], axis = 0)"
      ]
    },
    {
      "cell_type": "code",
      "execution_count": 17,
      "id": "8ead18e8",
      "metadata": {
        "colab": {
          "base_uri": "https://localhost:8080/"
        },
        "id": "8ead18e8",
        "outputId": "172efe8a-16c8-44d6-bef9-930c7842fa50"
      },
      "outputs": [
        {
          "output_type": "stream",
          "name": "stderr",
          "text": [
            "/usr/local/lib/python3.9/dist-packages/ipykernel/ipkernel.py:283: DeprecationWarning: `should_run_async` will not call `transform_cell` automatically in the future. Please pass the result to `transformed_cell` argument and any exception that happen during thetransform in `preprocessing_exc_tuple` in IPython 7.17 and above.\n",
            "  and should_run_async(code)\n"
          ]
        }
      ],
      "source": [
        "x_train, y_train = train_new.drop(\"income\", axis = 1), train_new[\"income\"]\n",
        "x_test, y_test = test.drop(\"income\", axis = 1), test[\"income\"]"
      ]
    },
    {
      "cell_type": "markdown",
      "id": "gfaOWl52m641",
      "metadata": {
        "id": "gfaOWl52m641"
      },
      "source": [
        "### Feature Engineering"
      ]
    },
    {
      "cell_type": "code",
      "execution_count": 18,
      "id": "14947eaa",
      "metadata": {
        "colab": {
          "base_uri": "https://localhost:8080/"
        },
        "id": "14947eaa",
        "outputId": "687f8113-c70f-4ac3-ad5e-eec546318531"
      },
      "outputs": [
        {
          "output_type": "stream",
          "name": "stderr",
          "text": [
            "/usr/local/lib/python3.9/dist-packages/ipykernel/ipkernel.py:283: DeprecationWarning: `should_run_async` will not call `transform_cell` automatically in the future. Please pass the result to `transformed_cell` argument and any exception that happen during thetransform in `preprocessing_exc_tuple` in IPython 7.17 and above.\n",
            "  and should_run_async(code)\n"
          ]
        }
      ],
      "source": [
        "num = []\n",
        "cat = []\n",
        "stri = []\n",
        "columns = list(x_train.columns)\n",
        "for col in columns:\n",
        "    if is_numeric_dtype(x_train[col]):\n",
        "        num.append(col)\n",
        "    elif is_string_dtype(x_train[col]):\n",
        "        stri.append(col)\n",
        "    elif is_categorical_dtype(x_train[col]):\n",
        "        cat.append(col)"
      ]
    },
    {
      "cell_type": "code",
      "execution_count": 19,
      "id": "b1ff4ac2",
      "metadata": {
        "colab": {
          "base_uri": "https://localhost:8080/"
        },
        "id": "b1ff4ac2",
        "outputId": "4be5feee-ba00-4016-8b60-b5fcbdef40bf"
      },
      "outputs": [
        {
          "output_type": "stream",
          "name": "stderr",
          "text": [
            "/usr/local/lib/python3.9/dist-packages/ipykernel/ipkernel.py:283: DeprecationWarning: `should_run_async` will not call `transform_cell` automatically in the future. Please pass the result to `transformed_cell` argument and any exception that happen during thetransform in `preprocessing_exc_tuple` in IPython 7.17 and above.\n",
            "  and should_run_async(code)\n"
          ]
        },
        {
          "output_type": "execute_result",
          "data": {
            "text/plain": [
              "(['age', 'fnlwgt', 'capital_gain', 'capital_loss', 'hours_per_week'],\n",
              " ['workclass', 'education', 'occupation', 'marital_relation'],\n",
              " [])"
            ]
          },
          "metadata": {},
          "execution_count": 19
        }
      ],
      "source": [
        "num, stri, cat"
      ]
    },
    {
      "cell_type": "code",
      "execution_count": 20,
      "id": "281c0b68",
      "metadata": {
        "colab": {
          "base_uri": "https://localhost:8080/"
        },
        "id": "281c0b68",
        "outputId": "7ee78544-45ba-4cce-d229-d3ef82d10652"
      },
      "outputs": [
        {
          "output_type": "stream",
          "name": "stderr",
          "text": [
            "/usr/local/lib/python3.9/dist-packages/ipykernel/ipkernel.py:283: DeprecationWarning: `should_run_async` will not call `transform_cell` automatically in the future. Please pass the result to `transformed_cell` argument and any exception that happen during thetransform in `preprocessing_exc_tuple` in IPython 7.17 and above.\n",
            "  and should_run_async(code)\n"
          ]
        },
        {
          "output_type": "execute_result",
          "data": {
            "text/plain": [
              "array(['Bachelors', 'HS-grad', '11th', 'Masters', '9th', 'Some-college',\n",
              "       'Assoc-acdm', 'Assoc-voc', '7th-8th', 'Doctorate', 'Prof-school',\n",
              "       '5th-6th', '10th', '1st-4th', 'Preschool', '12th'], dtype=object)"
            ]
          },
          "metadata": {},
          "execution_count": 20
        }
      ],
      "source": [
        "df[\"education\"].unique()"
      ]
    },
    {
      "cell_type": "code",
      "execution_count": 21,
      "id": "qFnlR1fhYbrN",
      "metadata": {
        "colab": {
          "base_uri": "https://localhost:8080/"
        },
        "id": "qFnlR1fhYbrN",
        "outputId": "d3a83326-503c-4c3a-fe45-6e4e0b347a9f"
      },
      "outputs": [
        {
          "output_type": "stream",
          "name": "stderr",
          "text": [
            "/usr/local/lib/python3.9/dist-packages/ipykernel/ipkernel.py:283: DeprecationWarning: `should_run_async` will not call `transform_cell` automatically in the future. Please pass the result to `transformed_cell` argument and any exception that happen during thetransform in `preprocessing_exc_tuple` in IPython 7.17 and above.\n",
            "  and should_run_async(code)\n"
          ]
        }
      ],
      "source": [
        "educ = [\"education\"]"
      ]
    },
    {
      "cell_type": "code",
      "execution_count": 22,
      "id": "d8e738a0",
      "metadata": {
        "colab": {
          "base_uri": "https://localhost:8080/"
        },
        "id": "d8e738a0",
        "outputId": "8d792ba5-58e1-4d9e-ff7f-9e88f4ccd7ce"
      },
      "outputs": [
        {
          "output_type": "stream",
          "name": "stderr",
          "text": [
            "/usr/local/lib/python3.9/dist-packages/ipykernel/ipkernel.py:283: DeprecationWarning: `should_run_async` will not call `transform_cell` automatically in the future. Please pass the result to `transformed_cell` argument and any exception that happen during thetransform in `preprocessing_exc_tuple` in IPython 7.17 and above.\n",
            "  and should_run_async(code)\n"
          ]
        },
        {
          "output_type": "execute_result",
          "data": {
            "text/plain": [
              "(['age', 'fnlwgt', 'capital_gain', 'capital_loss', 'hours_per_week'],\n",
              " ['workclass', 'occupation', 'marital_relation'],\n",
              " [])"
            ]
          },
          "metadata": {},
          "execution_count": 22
        }
      ],
      "source": [
        "stri.remove(\"education\")\n",
        "num, stri, cat"
      ]
    },
    {
      "cell_type": "code",
      "execution_count": 23,
      "id": "51a8bbfb",
      "metadata": {
        "colab": {
          "base_uri": "https://localhost:8080/"
        },
        "id": "51a8bbfb",
        "outputId": "747c4379-8ea2-4304-e060-0bde80920077"
      },
      "outputs": [
        {
          "output_type": "stream",
          "name": "stderr",
          "text": [
            "/usr/local/lib/python3.9/dist-packages/ipykernel/ipkernel.py:283: DeprecationWarning: `should_run_async` will not call `transform_cell` automatically in the future. Please pass the result to `transformed_cell` argument and any exception that happen during thetransform in `preprocessing_exc_tuple` in IPython 7.17 and above.\n",
            "  and should_run_async(code)\n"
          ]
        }
      ],
      "source": [
        "min_max = MinMaxScaler()\n",
        "ohe = OneHotEncoder()\n",
        "ordi = OrdinalEncoder(categories = [[\"Preschool\", \"1st-4th\",\"5th-6th\", \"7th-8th\", \"9th\", \"10th\", \n",
        "                                            \"11th\", \"12th\", \"HS-grad\", \"Some-college\",\n",
        "                                            \"Assoc-voc\",\"Assoc-acdm\",\"Bachelors\", \"Masters\",\"Prof-school\",\"Doctorate\"]])"
      ]
    },
    {
      "cell_type": "code",
      "execution_count": 24,
      "id": "4f296f85",
      "metadata": {
        "colab": {
          "base_uri": "https://localhost:8080/"
        },
        "id": "4f296f85",
        "outputId": "f8fa9c8b-408e-47f9-deff-449518b289e4"
      },
      "outputs": [
        {
          "output_type": "stream",
          "name": "stderr",
          "text": [
            "/usr/local/lib/python3.9/dist-packages/ipykernel/ipkernel.py:283: DeprecationWarning: `should_run_async` will not call `transform_cell` automatically in the future. Please pass the result to `transformed_cell` argument and any exception that happen during thetransform in `preprocessing_exc_tuple` in IPython 7.17 and above.\n",
            "  and should_run_async(code)\n"
          ]
        }
      ],
      "source": [
        "def column_transform(df, columns):\n",
        "    new_df = df.copy()\n",
        "    for col in columns:\n",
        "        # num ~ [0,1]\n",
        "        if col in num:\n",
        "            ct = ColumnTransformer([(\"min_max\", min_max, [col])])\n",
        "            new_df[col + \"_scaled\"] = ct.fit_transform(df)\n",
        "            continue\n",
        "        # stri ~ {0,1}    \n",
        "        elif col in stri:\n",
        "            elements = sorted(df[col].unique())\n",
        "            ct2 = ColumnTransformer([(\"ohe\", ohe, [col])])\n",
        "            if len(elements) > 2:\n",
        "                x = ct2.fit_transform(df).toarray()\n",
        "            elif len(elements) <= 2:\n",
        "                x = np.array(ct2.fit_transform(df))\n",
        "            for i in range(len(elements)):\n",
        "                new_df[col + \"_\" + elements[i].lower()] = x[:,i]\n",
        "        # depends on ord class\n",
        "        elif col in educ:\n",
        "            ct3 = ColumnTransformer([(\"ord\", ordi, [col])])\n",
        "            x = ct3.fit_transform(df)\n",
        "            new_df[col + \"_new\"] = x\n",
        "            continue\n",
        "    new_df = new_df.drop(columns, axis = 1)\n",
        "    return new_df"
      ]
    },
    {
      "cell_type": "code",
      "execution_count": 25,
      "id": "146a7d14",
      "metadata": {
        "colab": {
          "base_uri": "https://localhost:8080/"
        },
        "id": "146a7d14",
        "outputId": "9f815be7-6a6f-43d2-e8dd-3630f3de75ca"
      },
      "outputs": [
        {
          "output_type": "stream",
          "name": "stderr",
          "text": [
            "/usr/local/lib/python3.9/dist-packages/ipykernel/ipkernel.py:283: DeprecationWarning: `should_run_async` will not call `transform_cell` automatically in the future. Please pass the result to `transformed_cell` argument and any exception that happen during thetransform in `preprocessing_exc_tuple` in IPython 7.17 and above.\n",
            "  and should_run_async(code)\n"
          ]
        }
      ],
      "source": [
        "new_train_data = column_transform(x_train, list(x_train.columns))"
      ]
    },
    {
      "cell_type": "code",
      "execution_count": 26,
      "id": "2t4axO6nRmRG",
      "metadata": {
        "colab": {
          "base_uri": "https://localhost:8080/"
        },
        "id": "2t4axO6nRmRG",
        "outputId": "a1e72106-deb8-4fed-d4a5-5db79d2854a8"
      },
      "outputs": [
        {
          "output_type": "stream",
          "name": "stderr",
          "text": [
            "/usr/local/lib/python3.9/dist-packages/ipykernel/ipkernel.py:283: DeprecationWarning: `should_run_async` will not call `transform_cell` automatically in the future. Please pass the result to `transformed_cell` argument and any exception that happen during thetransform in `preprocessing_exc_tuple` in IPython 7.17 and above.\n",
            "  and should_run_async(code)\n"
          ]
        }
      ],
      "source": [
        "new_train_data[\"income\"] = train_new[\"income\"]\n",
        "\n",
        "#new_train_data['education_new']\n",
        "# 'age', 'fnlwgt', 'capital_gain', 'capital_loss', 'hours_per_week'"
      ]
    },
    {
      "cell_type": "code",
      "execution_count": 27,
      "id": "ooTdBRQOoKRB",
      "metadata": {
        "colab": {
          "base_uri": "https://localhost:8080/"
        },
        "id": "ooTdBRQOoKRB",
        "outputId": "1875a77e-efa4-4403-a5c0-15db0e8e8b2c"
      },
      "outputs": [
        {
          "output_type": "stream",
          "name": "stderr",
          "text": [
            "/usr/local/lib/python3.9/dist-packages/ipykernel/ipkernel.py:283: DeprecationWarning: `should_run_async` will not call `transform_cell` automatically in the future. Please pass the result to `transformed_cell` argument and any exception that happen during thetransform in `preprocessing_exc_tuple` in IPython 7.17 and above.\n",
            "  and should_run_async(code)\n"
          ]
        }
      ],
      "source": [
        "def column_fit_transform(train, other, columns):\n",
        "    new_df = other.copy()\n",
        "    for col in columns:\n",
        "        # minmax\n",
        "        if col in num:\n",
        "            ct = ColumnTransformer([(\"min_max\", min_max, [col])])\n",
        "            ct.fit(train)\n",
        "            new_df[col + \"_scaled\"] = ct.transform(other)\n",
        "        # ohe\n",
        "        elif col in stri:\n",
        "            elements = sorted(other[col].unique())\n",
        "            ct2 = ColumnTransformer([(\"ohe\", ohe, [col])])\n",
        "            if len(elements) > 2:\n",
        "                ct2.fit(train)\n",
        "                x = ct2.transform(other).toarray()\n",
        "            elif len(elements) <= 2:\n",
        "                ct2.fit(train)\n",
        "                x = np.array(ct2.transform(other))\n",
        "            for i in range(len(elements)):\n",
        "                new_df[col + \"_\" + elements[i].lower()] = x[:,i]\n",
        "        # ord\n",
        "        elif col in educ:\n",
        "            ct3 = ColumnTransformer([(\"ord\", ordi, [col])])\n",
        "            ct3.fit(train)\n",
        "            x = ct3.transform(other)\n",
        "            new_df[col + \"_new\"] = x\n",
        "        \n",
        "    new_df = new_df.drop(columns, axis = 1)\n",
        "    return new_df"
      ]
    },
    {
      "cell_type": "code",
      "execution_count": 28,
      "id": "c3g1QERUYPYE",
      "metadata": {
        "colab": {
          "base_uri": "https://localhost:8080/",
          "height": 352
        },
        "id": "c3g1QERUYPYE",
        "outputId": "cb7f41b3-5838-475b-c7fd-919a7537d5a9"
      },
      "outputs": [
        {
          "output_type": "stream",
          "name": "stderr",
          "text": [
            "/usr/local/lib/python3.9/dist-packages/ipykernel/ipkernel.py:283: DeprecationWarning: `should_run_async` will not call `transform_cell` automatically in the future. Please pass the result to `transformed_cell` argument and any exception that happen during thetransform in `preprocessing_exc_tuple` in IPython 7.17 and above.\n",
            "  and should_run_async(code)\n"
          ]
        },
        {
          "output_type": "execute_result",
          "data": {
            "text/plain": [
              "       age_scaled  workclass_?  workclass_federal-gov  workclass_local-gov  \\\n",
              "13636    0.835616          0.0                    0.0                  0.0   \n",
              "1100     0.698630          1.0                    0.0                  0.0   \n",
              "63214    0.506849          0.0                    1.0                  0.0   \n",
              "35621    0.438356          1.0                    0.0                  0.0   \n",
              "50970    0.904110          0.0                    0.0                  0.0   \n",
              "\n",
              "       workclass_never-worked  workclass_private  workclass_self-emp-inc  \\\n",
              "13636                     0.0                0.0                     1.0   \n",
              "1100                      0.0                0.0                     0.0   \n",
              "63214                     0.0                0.0                     0.0   \n",
              "35621                     0.0                0.0                     0.0   \n",
              "50970                     1.0                0.0                     0.0   \n",
              "\n",
              "       workclass_self-emp-not-inc  workclass_state-gov  workclass_without-pay  \\\n",
              "13636                         0.0                  0.0                    0.0   \n",
              "1100                          0.0                  0.0                    0.0   \n",
              "63214                         0.0                  0.0                    0.0   \n",
              "35621                         0.0                  0.0                    0.0   \n",
              "50970                         0.0                  0.0                    0.0   \n",
              "\n",
              "       ...  marital_relation_separated_other-relative  \\\n",
              "13636  ...                                        0.0   \n",
              "1100   ...                                        0.0   \n",
              "63214  ...                                        0.0   \n",
              "35621  ...                                        0.0   \n",
              "50970  ...                                        0.0   \n",
              "\n",
              "       marital_relation_separated_own-child  \\\n",
              "13636                                   0.0   \n",
              "1100                                    0.0   \n",
              "63214                                   0.0   \n",
              "35621                                   0.0   \n",
              "50970                                   0.0   \n",
              "\n",
              "       marital_relation_separated_unmarried  marital_relation_separated_wife  \\\n",
              "13636                                   0.0                              0.0   \n",
              "1100                                    0.0                              0.0   \n",
              "63214                                   0.0                              0.0   \n",
              "35621                                   0.0                              0.0   \n",
              "50970                                   0.0                              0.0   \n",
              "\n",
              "       marital_relation_widowed_husband  \\\n",
              "13636                               0.0   \n",
              "1100                                0.0   \n",
              "63214                               0.0   \n",
              "35621                               0.0   \n",
              "50970                               0.0   \n",
              "\n",
              "       marital_relation_widowed_not-in-family  \\\n",
              "13636                                     0.0   \n",
              "1100                                      0.0   \n",
              "63214                                     0.0   \n",
              "35621                                     0.0   \n",
              "50970                                     0.0   \n",
              "\n",
              "       marital_relation_widowed_other-relative  \\\n",
              "13636                                      0.0   \n",
              "1100                                       0.0   \n",
              "63214                                      0.0   \n",
              "35621                                      0.0   \n",
              "50970                                      0.0   \n",
              "\n",
              "       marital_relation_widowed_own-child  marital_relation_widowed_unmarried  \\\n",
              "13636                                 0.0                                 0.0   \n",
              "1100                                  0.0                                 0.0   \n",
              "63214                                 0.0                                 0.0   \n",
              "35621                                 0.0                                 0.0   \n",
              "50970                                 0.0                                 0.0   \n",
              "\n",
              "       marital_relation_widowed_wife  \n",
              "13636                            0.0  \n",
              "1100                             0.0  \n",
              "63214                            0.0  \n",
              "35621                            0.0  \n",
              "50970                            0.0  \n",
              "\n",
              "[5 rows x 72 columns]"
            ],
            "text/html": [
              "\n",
              "  <div id=\"df-86ae443a-c063-4374-9040-6761372b2663\">\n",
              "    <div class=\"colab-df-container\">\n",
              "      <div>\n",
              "<style scoped>\n",
              "    .dataframe tbody tr th:only-of-type {\n",
              "        vertical-align: middle;\n",
              "    }\n",
              "\n",
              "    .dataframe tbody tr th {\n",
              "        vertical-align: top;\n",
              "    }\n",
              "\n",
              "    .dataframe thead th {\n",
              "        text-align: right;\n",
              "    }\n",
              "</style>\n",
              "<table border=\"1\" class=\"dataframe\">\n",
              "  <thead>\n",
              "    <tr style=\"text-align: right;\">\n",
              "      <th></th>\n",
              "      <th>age_scaled</th>\n",
              "      <th>workclass_?</th>\n",
              "      <th>workclass_federal-gov</th>\n",
              "      <th>workclass_local-gov</th>\n",
              "      <th>workclass_never-worked</th>\n",
              "      <th>workclass_private</th>\n",
              "      <th>workclass_self-emp-inc</th>\n",
              "      <th>workclass_self-emp-not-inc</th>\n",
              "      <th>workclass_state-gov</th>\n",
              "      <th>workclass_without-pay</th>\n",
              "      <th>...</th>\n",
              "      <th>marital_relation_separated_other-relative</th>\n",
              "      <th>marital_relation_separated_own-child</th>\n",
              "      <th>marital_relation_separated_unmarried</th>\n",
              "      <th>marital_relation_separated_wife</th>\n",
              "      <th>marital_relation_widowed_husband</th>\n",
              "      <th>marital_relation_widowed_not-in-family</th>\n",
              "      <th>marital_relation_widowed_other-relative</th>\n",
              "      <th>marital_relation_widowed_own-child</th>\n",
              "      <th>marital_relation_widowed_unmarried</th>\n",
              "      <th>marital_relation_widowed_wife</th>\n",
              "    </tr>\n",
              "  </thead>\n",
              "  <tbody>\n",
              "    <tr>\n",
              "      <th>13636</th>\n",
              "      <td>0.835616</td>\n",
              "      <td>0.0</td>\n",
              "      <td>0.0</td>\n",
              "      <td>0.0</td>\n",
              "      <td>0.0</td>\n",
              "      <td>0.0</td>\n",
              "      <td>1.0</td>\n",
              "      <td>0.0</td>\n",
              "      <td>0.0</td>\n",
              "      <td>0.0</td>\n",
              "      <td>...</td>\n",
              "      <td>0.0</td>\n",
              "      <td>0.0</td>\n",
              "      <td>0.0</td>\n",
              "      <td>0.0</td>\n",
              "      <td>0.0</td>\n",
              "      <td>0.0</td>\n",
              "      <td>0.0</td>\n",
              "      <td>0.0</td>\n",
              "      <td>0.0</td>\n",
              "      <td>0.0</td>\n",
              "    </tr>\n",
              "    <tr>\n",
              "      <th>1100</th>\n",
              "      <td>0.698630</td>\n",
              "      <td>1.0</td>\n",
              "      <td>0.0</td>\n",
              "      <td>0.0</td>\n",
              "      <td>0.0</td>\n",
              "      <td>0.0</td>\n",
              "      <td>0.0</td>\n",
              "      <td>0.0</td>\n",
              "      <td>0.0</td>\n",
              "      <td>0.0</td>\n",
              "      <td>...</td>\n",
              "      <td>0.0</td>\n",
              "      <td>0.0</td>\n",
              "      <td>0.0</td>\n",
              "      <td>0.0</td>\n",
              "      <td>0.0</td>\n",
              "      <td>0.0</td>\n",
              "      <td>0.0</td>\n",
              "      <td>0.0</td>\n",
              "      <td>0.0</td>\n",
              "      <td>0.0</td>\n",
              "    </tr>\n",
              "    <tr>\n",
              "      <th>63214</th>\n",
              "      <td>0.506849</td>\n",
              "      <td>0.0</td>\n",
              "      <td>1.0</td>\n",
              "      <td>0.0</td>\n",
              "      <td>0.0</td>\n",
              "      <td>0.0</td>\n",
              "      <td>0.0</td>\n",
              "      <td>0.0</td>\n",
              "      <td>0.0</td>\n",
              "      <td>0.0</td>\n",
              "      <td>...</td>\n",
              "      <td>0.0</td>\n",
              "      <td>0.0</td>\n",
              "      <td>0.0</td>\n",
              "      <td>0.0</td>\n",
              "      <td>0.0</td>\n",
              "      <td>0.0</td>\n",
              "      <td>0.0</td>\n",
              "      <td>0.0</td>\n",
              "      <td>0.0</td>\n",
              "      <td>0.0</td>\n",
              "    </tr>\n",
              "    <tr>\n",
              "      <th>35621</th>\n",
              "      <td>0.438356</td>\n",
              "      <td>1.0</td>\n",
              "      <td>0.0</td>\n",
              "      <td>0.0</td>\n",
              "      <td>0.0</td>\n",
              "      <td>0.0</td>\n",
              "      <td>0.0</td>\n",
              "      <td>0.0</td>\n",
              "      <td>0.0</td>\n",
              "      <td>0.0</td>\n",
              "      <td>...</td>\n",
              "      <td>0.0</td>\n",
              "      <td>0.0</td>\n",
              "      <td>0.0</td>\n",
              "      <td>0.0</td>\n",
              "      <td>0.0</td>\n",
              "      <td>0.0</td>\n",
              "      <td>0.0</td>\n",
              "      <td>0.0</td>\n",
              "      <td>0.0</td>\n",
              "      <td>0.0</td>\n",
              "    </tr>\n",
              "    <tr>\n",
              "      <th>50970</th>\n",
              "      <td>0.904110</td>\n",
              "      <td>0.0</td>\n",
              "      <td>0.0</td>\n",
              "      <td>0.0</td>\n",
              "      <td>1.0</td>\n",
              "      <td>0.0</td>\n",
              "      <td>0.0</td>\n",
              "      <td>0.0</td>\n",
              "      <td>0.0</td>\n",
              "      <td>0.0</td>\n",
              "      <td>...</td>\n",
              "      <td>0.0</td>\n",
              "      <td>0.0</td>\n",
              "      <td>0.0</td>\n",
              "      <td>0.0</td>\n",
              "      <td>0.0</td>\n",
              "      <td>0.0</td>\n",
              "      <td>0.0</td>\n",
              "      <td>0.0</td>\n",
              "      <td>0.0</td>\n",
              "      <td>0.0</td>\n",
              "    </tr>\n",
              "  </tbody>\n",
              "</table>\n",
              "<p>5 rows × 72 columns</p>\n",
              "</div>\n",
              "      <button class=\"colab-df-convert\" onclick=\"convertToInteractive('df-86ae443a-c063-4374-9040-6761372b2663')\"\n",
              "              title=\"Convert this dataframe to an interactive table.\"\n",
              "              style=\"display:none;\">\n",
              "        \n",
              "  <svg xmlns=\"http://www.w3.org/2000/svg\" height=\"24px\"viewBox=\"0 0 24 24\"\n",
              "       width=\"24px\">\n",
              "    <path d=\"M0 0h24v24H0V0z\" fill=\"none\"/>\n",
              "    <path d=\"M18.56 5.44l.94 2.06.94-2.06 2.06-.94-2.06-.94-.94-2.06-.94 2.06-2.06.94zm-11 1L8.5 8.5l.94-2.06 2.06-.94-2.06-.94L8.5 2.5l-.94 2.06-2.06.94zm10 10l.94 2.06.94-2.06 2.06-.94-2.06-.94-.94-2.06-.94 2.06-2.06.94z\"/><path d=\"M17.41 7.96l-1.37-1.37c-.4-.4-.92-.59-1.43-.59-.52 0-1.04.2-1.43.59L10.3 9.45l-7.72 7.72c-.78.78-.78 2.05 0 2.83L4 21.41c.39.39.9.59 1.41.59.51 0 1.02-.2 1.41-.59l7.78-7.78 2.81-2.81c.8-.78.8-2.07 0-2.86zM5.41 20L4 18.59l7.72-7.72 1.47 1.35L5.41 20z\"/>\n",
              "  </svg>\n",
              "      </button>\n",
              "      \n",
              "  <style>\n",
              "    .colab-df-container {\n",
              "      display:flex;\n",
              "      flex-wrap:wrap;\n",
              "      gap: 12px;\n",
              "    }\n",
              "\n",
              "    .colab-df-convert {\n",
              "      background-color: #E8F0FE;\n",
              "      border: none;\n",
              "      border-radius: 50%;\n",
              "      cursor: pointer;\n",
              "      display: none;\n",
              "      fill: #1967D2;\n",
              "      height: 32px;\n",
              "      padding: 0 0 0 0;\n",
              "      width: 32px;\n",
              "    }\n",
              "\n",
              "    .colab-df-convert:hover {\n",
              "      background-color: #E2EBFA;\n",
              "      box-shadow: 0px 1px 2px rgba(60, 64, 67, 0.3), 0px 1px 3px 1px rgba(60, 64, 67, 0.15);\n",
              "      fill: #174EA6;\n",
              "    }\n",
              "\n",
              "    [theme=dark] .colab-df-convert {\n",
              "      background-color: #3B4455;\n",
              "      fill: #D2E3FC;\n",
              "    }\n",
              "\n",
              "    [theme=dark] .colab-df-convert:hover {\n",
              "      background-color: #434B5C;\n",
              "      box-shadow: 0px 1px 3px 1px rgba(0, 0, 0, 0.15);\n",
              "      filter: drop-shadow(0px 1px 2px rgba(0, 0, 0, 0.3));\n",
              "      fill: #FFFFFF;\n",
              "    }\n",
              "  </style>\n",
              "\n",
              "      <script>\n",
              "        const buttonEl =\n",
              "          document.querySelector('#df-86ae443a-c063-4374-9040-6761372b2663 button.colab-df-convert');\n",
              "        buttonEl.style.display =\n",
              "          google.colab.kernel.accessAllowed ? 'block' : 'none';\n",
              "\n",
              "        async function convertToInteractive(key) {\n",
              "          const element = document.querySelector('#df-86ae443a-c063-4374-9040-6761372b2663');\n",
              "          const dataTable =\n",
              "            await google.colab.kernel.invokeFunction('convertToInteractive',\n",
              "                                                     [key], {});\n",
              "          if (!dataTable) return;\n",
              "\n",
              "          const docLinkHtml = 'Like what you see? Visit the ' +\n",
              "            '<a target=\"_blank\" href=https://colab.research.google.com/notebooks/data_table.ipynb>data table notebook</a>'\n",
              "            + ' to learn more about interactive tables.';\n",
              "          element.innerHTML = '';\n",
              "          dataTable['output_type'] = 'display_data';\n",
              "          await google.colab.output.renderOutput(dataTable, element);\n",
              "          const docLink = document.createElement('div');\n",
              "          docLink.innerHTML = docLinkHtml;\n",
              "          element.appendChild(docLink);\n",
              "        }\n",
              "      </script>\n",
              "    </div>\n",
              "  </div>\n",
              "  "
            ]
          },
          "metadata": {},
          "execution_count": 28
        }
      ],
      "source": [
        "new_test_data = column_fit_transform(x_train, x_test, x_train.columns)\n",
        "test_col, train_col = list(new_test_data.columns), list(new_train_data.columns)\n",
        "missing = list(set(train_col).difference(set(test_col)))\n",
        "for miss in missing:\n",
        "    new_test_data[missing] = 0.0\n",
        "new_test_data = new_test_data.drop(\"income\", axis = 1)\n",
        "new_test_data.head()"
      ]
    },
    {
      "cell_type": "markdown",
      "id": "F34n9rRnnBIA",
      "metadata": {
        "id": "F34n9rRnnBIA"
      },
      "source": [
        "### Decision Tree Algorithm"
      ]
    },
    {
      "cell_type": "code",
      "execution_count": 29,
      "id": "dfbcf883",
      "metadata": {
        "colab": {
          "base_uri": "https://localhost:8080/"
        },
        "id": "dfbcf883",
        "outputId": "8b13f571-4cd1-4947-f441-175b3bf753d8"
      },
      "outputs": [
        {
          "output_type": "stream",
          "name": "stderr",
          "text": [
            "/usr/local/lib/python3.9/dist-packages/ipykernel/ipkernel.py:283: DeprecationWarning: `should_run_async` will not call `transform_cell` automatically in the future. Please pass the result to `transformed_cell` argument and any exception that happen during thetransform in `preprocessing_exc_tuple` in IPython 7.17 and above.\n",
            "  and should_run_async(code)\n"
          ]
        }
      ],
      "source": [
        "## function for calculating entropy\n",
        "def getEntropy(counts):\n",
        "    percentages = counts/np.sum(counts)\n",
        "\n",
        "    entr = 0\n",
        "    for per in percentages:\n",
        "        if per == 0:\n",
        "            continue\n",
        "        entr = entr - (per*np.log2(per))\n",
        "    return entr"
      ]
    },
    {
      "cell_type": "code",
      "execution_count": 30,
      "id": "85c3d3f3",
      "metadata": {
        "colab": {
          "base_uri": "https://localhost:8080/"
        },
        "id": "85c3d3f3",
        "outputId": "e6b86454-799b-4b67-f1d9-6d5fb6c7876c"
      },
      "outputs": [
        {
          "output_type": "stream",
          "name": "stderr",
          "text": [
            "/usr/local/lib/python3.9/dist-packages/ipykernel/ipkernel.py:283: DeprecationWarning: `should_run_async` will not call `transform_cell` automatically in the future. Please pass the result to `transformed_cell` argument and any exception that happen during thetransform in `preprocessing_exc_tuple` in IPython 7.17 and above.\n",
            "  and should_run_async(code)\n"
          ]
        }
      ],
      "source": [
        "# function for calculating entropy for each variable\n",
        "def dataEntropy(data):\n",
        "    \n",
        "    high_income = len(data[data[\"income\"] == 1])\n",
        "    low_income = len(data[data[\"income\"] == 0])\n",
        "    \n",
        "    result = getEntropy([low_income,high_income])\n",
        "    return result"
      ]
    },
    {
      "cell_type": "code",
      "execution_count": 31,
      "id": "f21745a7",
      "metadata": {
        "colab": {
          "base_uri": "https://localhost:8080/"
        },
        "id": "f21745a7",
        "outputId": "be9a5c1e-4299-45d1-a219-141dbebf9518"
      },
      "outputs": [
        {
          "output_type": "stream",
          "name": "stderr",
          "text": [
            "/usr/local/lib/python3.9/dist-packages/ipykernel/ipkernel.py:283: DeprecationWarning: `should_run_async` will not call `transform_cell` automatically in the future. Please pass the result to `transformed_cell` argument and any exception that happen during thetransform in `preprocessing_exc_tuple` in IPython 7.17 and above.\n",
            "  and should_run_async(code)\n"
          ]
        }
      ],
      "source": [
        "# function for obtaining aggregated entropy\n",
        "def dataGivenEntropy(dataX, dataY):\n",
        "    entrX = dataEntropy(dataX)\n",
        "    entrY = dataEntropy(dataY)\n",
        "    nX = len(dataX)\n",
        "    nY = len(dataY)\n",
        "    n = nX + nY\n",
        "    if n == 0: \n",
        "        result = 0\n",
        "    else:\n",
        "        result = nX/n*entrX + nY/n*entrY\n",
        "    return result"
      ]
    },
    {
      "cell_type": "code",
      "execution_count": 32,
      "id": "0c7f873f",
      "metadata": {
        "colab": {
          "base_uri": "https://localhost:8080/"
        },
        "id": "0c7f873f",
        "outputId": "259f3a89-9df3-435d-f85f-c8d8facb22e9"
      },
      "outputs": [
        {
          "output_type": "stream",
          "name": "stderr",
          "text": [
            "/usr/local/lib/python3.9/dist-packages/ipykernel/ipkernel.py:283: DeprecationWarning: `should_run_async` will not call `transform_cell` automatically in the future. Please pass the result to `transformed_cell` argument and any exception that happen during thetransform in `preprocessing_exc_tuple` in IPython 7.17 and above.\n",
            "  and should_run_async(code)\n"
          ]
        }
      ],
      "source": [
        "# function for calculating information gain to decide which column to split on\n",
        "def infoGain(data, dataX, dataY):\n",
        "    result = dataEntropy(data) - dataGivenEntropy(dataX, dataY)\n",
        "    return result"
      ]
    },
    {
      "cell_type": "code",
      "execution_count": 33,
      "id": "a61aa787",
      "metadata": {
        "colab": {
          "base_uri": "https://localhost:8080/"
        },
        "id": "a61aa787",
        "outputId": "b123658c-ecdb-4664-fdad-6bfa38931621"
      },
      "outputs": [
        {
          "output_type": "stream",
          "name": "stderr",
          "text": [
            "/usr/local/lib/python3.9/dist-packages/ipykernel/ipkernel.py:283: DeprecationWarning: `should_run_async` will not call `transform_cell` automatically in the future. Please pass the result to `transformed_cell` argument and any exception that happen during thetransform in `preprocessing_exc_tuple` in IPython 7.17 and above.\n",
            "  and should_run_async(code)\n"
          ]
        }
      ],
      "source": [
        "# function for calculating gini\n",
        "def getGini(counts):\n",
        "    percentages = counts/np.sum(counts)\n",
        "    gini = 1-np.sum(percentages**2)\n",
        "    return gini"
      ]
    },
    {
      "cell_type": "code",
      "execution_count": 34,
      "id": "p4wmrYjIuWhH",
      "metadata": {
        "colab": {
          "base_uri": "https://localhost:8080/"
        },
        "id": "p4wmrYjIuWhH",
        "outputId": "5a7cfb60-be22-4f25-bc83-f7d0df420017"
      },
      "outputs": [
        {
          "output_type": "stream",
          "name": "stderr",
          "text": [
            "/usr/local/lib/python3.9/dist-packages/ipykernel/ipkernel.py:283: DeprecationWarning: `should_run_async` will not call `transform_cell` automatically in the future. Please pass the result to `transformed_cell` argument and any exception that happen during thetransform in `preprocessing_exc_tuple` in IPython 7.17 and above.\n",
            "  and should_run_async(code)\n"
          ]
        },
        {
          "output_type": "execute_result",
          "data": {
            "text/plain": [
              "73"
            ]
          },
          "metadata": {},
          "execution_count": 34
        }
      ],
      "source": [
        "len(new_train_data[\"age_scaled\"].unique())"
      ]
    },
    {
      "cell_type": "code",
      "execution_count": 35,
      "id": "b005d18d",
      "metadata": {
        "id": "b005d18d",
        "outputId": "d586ffef-dfbe-435d-934d-3909bd4cb5f6",
        "colab": {
          "base_uri": "https://localhost:8080/"
        }
      },
      "outputs": [
        {
          "output_type": "stream",
          "name": "stderr",
          "text": [
            "/usr/local/lib/python3.9/dist-packages/ipykernel/ipkernel.py:283: DeprecationWarning: `should_run_async` will not call `transform_cell` automatically in the future. Please pass the result to `transformed_cell` argument and any exception that happen during thetransform in `preprocessing_exc_tuple` in IPython 7.17 and above.\n",
            "  and should_run_async(code)\n"
          ]
        }
      ],
      "source": [
        "def variance(data):\n",
        "    income = data[\"income\"]\n",
        "\n",
        "    var = sum(income**2)/len(income) - (np.mean(income))**2\n",
        "\n",
        "    return var"
      ]
    },
    {
      "cell_type": "code",
      "execution_count": 36,
      "id": "f934cf0a",
      "metadata": {
        "colab": {
          "base_uri": "https://localhost:8080/"
        },
        "id": "f934cf0a",
        "outputId": "258cf259-3f66-4e73-a60b-cd42284bbbc1"
      },
      "outputs": [
        {
          "output_type": "stream",
          "name": "stderr",
          "text": [
            "/usr/local/lib/python3.9/dist-packages/ipykernel/ipkernel.py:283: DeprecationWarning: `should_run_async` will not call `transform_cell` automatically in the future. Please pass the result to `transformed_cell` argument and any exception that happen during thetransform in `preprocessing_exc_tuple` in IPython 7.17 and above.\n",
            "  and should_run_async(code)\n"
          ]
        }
      ],
      "source": [
        "# function for calculating the best split\n",
        "def findBestSplit(data, label):\n",
        "    minEntropy = 1\n",
        "    colSelected = str()\n",
        "    thresh_value = 0\n",
        "    dataX_found,dataY_found = None, None\n",
        "    for col in list(data.columns):\n",
        "        if col != label:\n",
        "        # make the split \n",
        "\n",
        "            if len(data[col].unique()) > 2:\n",
        "                max = data[col].max()\n",
        "                threshold = np.linspace(0,max,30)[1:-1]\n",
        "                infoGainList = []\n",
        "\n",
        "          # for 28 different thresholds, calculate the info-gain\n",
        "                for i in range(len(threshold)):\n",
        "                    dataX = data[data[col] > threshold[i]]\n",
        "                    dataY = data[data[col] <= threshold[i]]\n",
        "                    infoGainList.append(infoGain(data, dataX, dataY))\n",
        "\n",
        "          # get the max info-gain\n",
        "                idx = np.argmax(infoGainList)\n",
        "                dataX = data[data[col] > threshold[idx]]\n",
        "                dataY = data[data[col] <= threshold[idx]]\n",
        "                thresh = threshold[idx]\n",
        "\n",
        "            else:\n",
        "                thresh = 0.5\n",
        "                dataX = data[data[col] > thresh]\n",
        "                dataY = data[data[col] <= thresh]\n",
        "            \n",
        "          \n",
        "        entr = dataGivenEntropy(dataX, dataY)\n",
        "        \n",
        "        \n",
        "        if entr < minEntropy:\n",
        "            minEntropy = entr\n",
        "            colSelected = col\n",
        "            dataX_found = dataX\n",
        "            dataY_found = dataY\n",
        "            thresh_value = thresh\n",
        "        \n",
        "\n",
        "    return colSelected, minEntropy, dataX_found, dataY_found, thresh_value"
      ]
    },
    {
      "cell_type": "code",
      "execution_count": 37,
      "id": "BGg4-nHNYrhc",
      "metadata": {
        "colab": {
          "base_uri": "https://localhost:8080/"
        },
        "id": "BGg4-nHNYrhc",
        "outputId": "2769e262-16df-4419-b374-6039d9835d2f"
      },
      "outputs": [
        {
          "output_type": "stream",
          "name": "stderr",
          "text": [
            "/usr/local/lib/python3.9/dist-packages/ipykernel/ipkernel.py:283: DeprecationWarning: `should_run_async` will not call `transform_cell` automatically in the future. Please pass the result to `transformed_cell` argument and any exception that happen during thetransform in `preprocessing_exc_tuple` in IPython 7.17 and above.\n",
            "  and should_run_async(code)\n"
          ]
        }
      ],
      "source": [
        "# function for calculating the best split\n",
        "def split_via_mapreduce(data, col, label):\n",
        "    minEntropy = 1\n",
        "    colSelected = str()\n",
        "    thresh_value = 0\n",
        "    dataX_found,dataY_found = None, None\n",
        "    if len(data[col].unique()) > 2:\n",
        "        maxi = data[col].max()\n",
        "        threshold = np.linspace(0,maxi,30)[1:-1]\n",
        "        infoGainList = []\n",
        "\n",
        "          # for 28 different thresholds, calculate the info-gain\n",
        "        for i in range(len(threshold)):\n",
        "            dataX = data[data[col] > threshold[i]]\n",
        "            dataY = data[data[col] <= threshold[i]]\n",
        "            infoGainList.append(infoGain(data, dataX, dataY))\n",
        "\n",
        "          # get the max info-gain\n",
        "        idx = np.argmax(infoGainList)\n",
        "        dataX = data[data[col] > threshold[idx]]\n",
        "        dataY = data[data[col] <= threshold[idx]]\n",
        "        thresh = threshold[idx]\n",
        "\n",
        "    else:\n",
        "        thresh = 0.5\n",
        "        dataX = data[data[col] > thresh]\n",
        "        dataY = data[data[col] <= thresh]\n",
        "            \n",
        "          \n",
        "    entr = dataGivenEntropy(dataX, dataY)\n",
        "        \n",
        "        \n",
        "    minEntropy = entr\n",
        "    colSelected = col\n",
        "    dataX_found = dataX\n",
        "    dataY_found = dataY\n",
        "    thresh_value = thresh\n",
        "        \n",
        "\n",
        "    return colSelected, minEntropy, dataX_found, dataY_found, thresh_value"
      ]
    },
    {
      "cell_type": "code",
      "execution_count": 38,
      "id": "L9qMVH-Smf7p",
      "metadata": {
        "colab": {
          "base_uri": "https://localhost:8080/"
        },
        "id": "L9qMVH-Smf7p",
        "outputId": "f66be13a-032c-49e9-e668-e22f7d2304c9"
      },
      "outputs": [
        {
          "output_type": "stream",
          "name": "stderr",
          "text": [
            "/usr/local/lib/python3.9/dist-packages/ipykernel/ipkernel.py:283: DeprecationWarning: `should_run_async` will not call `transform_cell` automatically in the future. Please pass the result to `transformed_cell` argument and any exception that happen during thetransform in `preprocessing_exc_tuple` in IPython 7.17 and above.\n",
            "  and should_run_async(code)\n"
          ]
        },
        {
          "output_type": "execute_result",
          "data": {
            "text/plain": [
              "('capital_loss_scaled', 0.9311937174464451)"
            ]
          },
          "metadata": {},
          "execution_count": 38
        }
      ],
      "source": [
        "findBestSplit(new_train_data, 'income')[0], findBestSplit(new_train_data, 'income')[1]"
      ]
    },
    {
      "cell_type": "code",
      "execution_count": 39,
      "id": "4cirhxSRY5EO",
      "metadata": {
        "colab": {
          "base_uri": "https://localhost:8080/"
        },
        "id": "4cirhxSRY5EO",
        "outputId": "97e1bd7b-8461-477f-a85e-0b31d78e37af"
      },
      "outputs": [
        {
          "output_type": "stream",
          "name": "stderr",
          "text": [
            "/usr/local/lib/python3.9/dist-packages/ipykernel/ipkernel.py:283: DeprecationWarning: `should_run_async` will not call `transform_cell` automatically in the future. Please pass the result to `transformed_cell` argument and any exception that happen during thetransform in `preprocessing_exc_tuple` in IPython 7.17 and above.\n",
            "  and should_run_async(code)\n"
          ]
        }
      ],
      "source": [
        "# function for calculating the best split\n",
        "def entropy_columns(data, label = \"income\"):\n",
        "    #data = data_insert.toPandas()\n",
        "    columns = []\n",
        "    entropies = []\n",
        "    combo = []\n",
        "    combo2 = []\n",
        "    dataX_found,dataY_found = None, None\n",
        "    for col in list(data.columns):\n",
        "        if col != label:\n",
        "        # make the split \n",
        "\n",
        "            if len(data[col].unique()) > 2:\n",
        "                maxi = data[col].max()\n",
        "                threshold = np.linspace(0,maxi,30)[1:-1]\n",
        "                infoGainList = []\n",
        "\n",
        "              # for 28 different thresholds, calculate the info-gain\n",
        "                for i in range(len(threshold)):\n",
        "                    dataX = data[data[col] > threshold[i]]\n",
        "                    dataY = data[data[col] <= threshold[i]]\n",
        "                    infoGainList.append(infoGain(data, dataX, dataY))\n",
        "\n",
        "              # get the max info-gain\n",
        "                idx = np.argmax(infoGainList)\n",
        "                dataX = data[data[col] > threshold[idx]]\n",
        "                dataY = data[data[col] <= threshold[idx]]\n",
        "                thresh = threshold[idx]\n",
        "\n",
        "            else:\n",
        "                thresh = 0.5\n",
        "                dataX = data[data[col] > thresh]\n",
        "                dataY = data[data[col] <= thresh]\n",
        "            \n",
        "          \n",
        "            entr = dataGivenEntropy(dataX, dataY)\n",
        "            columns.append(col)\n",
        "            entropies.append(entr)\n",
        "            t = col, entr\n",
        "            combo.append(t)\n",
        "    return combo"
      ]
    },
    {
      "cell_type": "code",
      "execution_count": 40,
      "id": "MwSaSBARapOP",
      "metadata": {
        "colab": {
          "base_uri": "https://localhost:8080/"
        },
        "id": "MwSaSBARapOP",
        "outputId": "14ccd728-4653-41e3-8874-ac8cfc19f8c6"
      },
      "outputs": [
        {
          "output_type": "stream",
          "name": "stderr",
          "text": [
            "/usr/local/lib/python3.9/dist-packages/ipykernel/ipkernel.py:283: DeprecationWarning: `should_run_async` will not call `transform_cell` automatically in the future. Please pass the result to `transformed_cell` argument and any exception that happen during thetransform in `preprocessing_exc_tuple` in IPython 7.17 and above.\n",
            "  and should_run_async(code)\n"
          ]
        }
      ],
      "source": [
        "t = entropy_columns(new_train_data)"
      ]
    },
    {
      "cell_type": "code",
      "execution_count": 41,
      "id": "17647ce9",
      "metadata": {
        "id": "17647ce9",
        "outputId": "85d87db7-0cb0-44c2-e967-e9cb53936392",
        "colab": {
          "base_uri": "https://localhost:8080/"
        }
      },
      "outputs": [
        {
          "output_type": "stream",
          "name": "stderr",
          "text": [
            "/usr/local/lib/python3.9/dist-packages/ipykernel/ipkernel.py:283: DeprecationWarning: `should_run_async` will not call `transform_cell` automatically in the future. Please pass the result to `transformed_cell` argument and any exception that happen during thetransform in `preprocessing_exc_tuple` in IPython 7.17 and above.\n",
            "  and should_run_async(code)\n"
          ]
        }
      ],
      "source": [
        "import multiprocessing as mp"
      ]
    },
    {
      "cell_type": "code",
      "execution_count": 42,
      "id": "l6-s04ZYYpwc",
      "metadata": {
        "colab": {
          "base_uri": "https://localhost:8080/"
        },
        "id": "l6-s04ZYYpwc",
        "outputId": "cd623247-89df-43cc-979a-85f0a850fd03"
      },
      "outputs": [
        {
          "output_type": "stream",
          "name": "stderr",
          "text": [
            "/usr/local/lib/python3.9/dist-packages/ipykernel/ipkernel.py:283: DeprecationWarning: `should_run_async` will not call `transform_cell` automatically in the future. Please pass the result to `transformed_cell` argument and any exception that happen during thetransform in `preprocessing_exc_tuple` in IPython 7.17 and above.\n",
            "  and should_run_async(code)\n"
          ]
        }
      ],
      "source": [
        "def findBestSplitMapReduce(data, s):\n",
        "    if len(data) >= s:\n",
        "        n = len(data) // s\n",
        "        n_1 = n + 1\n",
        "        data = data.sample(frac = 1)\n",
        "        p = mp.Pool(processes=n_1)\n",
        "        conf = SparkConf().setAppName(\"DecisionTreeMapReduce\")\n",
        "        sc = SparkContext(conf = conf)\n",
        "        df_parallel = np.array_split(data, n_1)\n",
        "        res = p.map_async(entropy_columns, df_parallel).get()\n",
        "        res_list = [item for sublist in res for item in sublist]\n",
        "        res_rdd = sc.parallelize(res_list)\n",
        "        new_res = res_rdd.reduceByKey(lambda a,b: a + b)\n",
        "        res_use = new_res.collect()\n",
        "        score = np.array([j/n_1 for i, j in res_use])\n",
        "        arr_ind = list(np.nonzero(score > 0))\n",
        "        col_name = np.array([i for i, j in res_use])\n",
        "        col_name = col_name[arr_ind]\n",
        "        score = score[arr_ind]\n",
        "        column_to_use = col_name[np.argmin(score)]\n",
        "        result = split_via_mapreduce(data, column_to_use, \"income\")\n",
        "        sc.stop()\n",
        "        p.close()\n",
        "    else: \n",
        "        result = findBestSplit(data, \"income\")\n",
        "    return result"
      ]
    },
    {
      "cell_type": "code",
      "execution_count": 43,
      "id": "DwQG6HZyZzT1",
      "metadata": {
        "colab": {
          "base_uri": "https://localhost:8080/"
        },
        "id": "DwQG6HZyZzT1",
        "outputId": "6aada731-e85d-4b8c-e484-71e979c29ccb"
      },
      "outputs": [
        {
          "output_type": "stream",
          "name": "stderr",
          "text": [
            "/usr/local/lib/python3.9/dist-packages/ipykernel/ipkernel.py:283: DeprecationWarning: `should_run_async` will not call `transform_cell` automatically in the future. Please pass the result to `transformed_cell` argument and any exception that happen during thetransform in `preprocessing_exc_tuple` in IPython 7.17 and above.\n",
            "  and should_run_async(code)\n"
          ]
        }
      ],
      "source": [
        "#findBestSplitMapReduce(new_train_data, 10000)[4]"
      ]
    },
    {
      "cell_type": "code",
      "source": [
        "#findBestSplitMapReduce(new_train_data[new_train_data[\"capital_loss_scaled\"] <= 0.034], 10000)[1]"
      ],
      "metadata": {
        "id": "W6rhwdaTyI4C",
        "outputId": "b0097edc-8600-44f1-d45d-4a6d184f2f08",
        "colab": {
          "base_uri": "https://localhost:8080/"
        }
      },
      "id": "W6rhwdaTyI4C",
      "execution_count": 44,
      "outputs": [
        {
          "output_type": "stream",
          "name": "stderr",
          "text": [
            "/usr/local/lib/python3.9/dist-packages/ipykernel/ipkernel.py:283: DeprecationWarning: `should_run_async` will not call `transform_cell` automatically in the future. Please pass the result to `transformed_cell` argument and any exception that happen during thetransform in `preprocessing_exc_tuple` in IPython 7.17 and above.\n",
            "  and should_run_async(code)\n"
          ]
        }
      ]
    },
    {
      "cell_type": "code",
      "source": [
        "#findBestSplitMapReduce(new_train_data[new_train_data[\"capital_loss_scaled\"] <= 0.034], 10000)[0]"
      ],
      "metadata": {
        "id": "drYgYqXb5MV6",
        "outputId": "0944e209-e5ab-4f9c-cddd-ef9b1589b854",
        "colab": {
          "base_uri": "https://localhost:8080/"
        }
      },
      "id": "drYgYqXb5MV6",
      "execution_count": 45,
      "outputs": [
        {
          "output_type": "stream",
          "name": "stderr",
          "text": [
            "/usr/local/lib/python3.9/dist-packages/ipykernel/ipkernel.py:283: DeprecationWarning: `should_run_async` will not call `transform_cell` automatically in the future. Please pass the result to `transformed_cell` argument and any exception that happen during thetransform in `preprocessing_exc_tuple` in IPython 7.17 and above.\n",
            "  and should_run_async(code)\n"
          ]
        }
      ]
    },
    {
      "cell_type": "code",
      "source": [
        "#findBestSplitMapReduce(new_train_data[new_train_data[\"capital_loss_scaled\"] <= 0.034], 10000)[4]"
      ],
      "metadata": {
        "id": "3FgrcRKA5KUC",
        "outputId": "f8b168b9-63dc-435b-aaa3-9d3a303b2383",
        "colab": {
          "base_uri": "https://localhost:8080/"
        }
      },
      "id": "3FgrcRKA5KUC",
      "execution_count": 46,
      "outputs": [
        {
          "output_type": "stream",
          "name": "stderr",
          "text": [
            "/usr/local/lib/python3.9/dist-packages/ipykernel/ipkernel.py:283: DeprecationWarning: `should_run_async` will not call `transform_cell` automatically in the future. Please pass the result to `transformed_cell` argument and any exception that happen during thetransform in `preprocessing_exc_tuple` in IPython 7.17 and above.\n",
            "  and should_run_async(code)\n"
          ]
        }
      ]
    },
    {
      "cell_type": "code",
      "execution_count": 47,
      "id": "WumiEnXN2W_0",
      "metadata": {
        "colab": {
          "base_uri": "https://localhost:8080/"
        },
        "id": "WumiEnXN2W_0",
        "outputId": "fadbfdba-ad59-43a2-a3cc-fa0a70754519"
      },
      "outputs": [
        {
          "output_type": "stream",
          "name": "stderr",
          "text": [
            "/usr/local/lib/python3.9/dist-packages/ipykernel/ipkernel.py:283: DeprecationWarning: `should_run_async` will not call `transform_cell` automatically in the future. Please pass the result to `transformed_cell` argument and any exception that happen during thetransform in `preprocessing_exc_tuple` in IPython 7.17 and above.\n",
            "  and should_run_async(code)\n"
          ]
        }
      ],
      "source": [
        "# class for recording branch information for each split\n",
        "class Branch:\n",
        "    no=0\n",
        "    depth=1\n",
        "    column=''\n",
        "    entropy=0\n",
        "    value = []\n",
        "    samples = 0\n",
        "    gini = 0\n",
        "    thresh = 0\n",
        "    branch_positive=None\n",
        "    branch_negative=None\n",
        "    positive=0\n",
        "    negative=0\n",
        "    num_cols = 0\n",
        "    col_names = []"
      ]
    },
    {
      "cell_type": "code",
      "execution_count": 48,
      "id": "5j6b41QHmuEe",
      "metadata": {
        "colab": {
          "base_uri": "https://localhost:8080/"
        },
        "id": "5j6b41QHmuEe",
        "outputId": "f7bde574-ccde-41d5-b50a-2ed067d9dbb5"
      },
      "outputs": [
        {
          "output_type": "stream",
          "name": "stderr",
          "text": [
            "/usr/local/lib/python3.9/dist-packages/ipykernel/ipkernel.py:283: DeprecationWarning: `should_run_async` will not call `transform_cell` automatically in the future. Please pass the result to `transformed_cell` argument and any exception that happen during thetransform in `preprocessing_exc_tuple` in IPython 7.17 and above.\n",
            "  and should_run_async(code)\n"
          ]
        }
      ],
      "source": [
        "## function for building the decision tree for each split\n",
        "number = 0\n",
        "def decisionTreeInner(data, label, depth, max_depth, max_features, min_samples_split, min_samples_leaf, s):\n",
        "    global number\n",
        "    branch = Branch()\n",
        "    branch.no = number\n",
        "    number += 1\n",
        "    branch.depth = depth\n",
        "    branch.num_depth = 1\n",
        "    \n",
        "    branch.samples = data.shape[0]\n",
        "    positive = data[data[label]==1].shape[0]\n",
        "    negative = data[data[label]==0].shape[0]\n",
        "    \n",
        "    branch.value= [negative, positive]\n",
        "    branch.gini = getGini(branch.value)\n",
        "    \n",
        "    bestSplit = findBestSplitMapReduce(data, s=s)\n",
        "    #bestSplit = findBestSplit(data, \"income\")\n",
        "    \n",
        "    branch.column = bestSplit[0]\n",
        "    branch.col_names.append(branch.column)\n",
        "    cols = list(set(branch.col_names))\n",
        "    branch.num_cols = len(cols)\n",
        "    branch.entropy = bestSplit[1]\n",
        "    \n",
        "    newEntropy = bestSplit[1]\n",
        "    dataNegative = bestSplit[2]\n",
        "    dataPositive = bestSplit[3]\n",
        "    branch.thresh = bestSplit[4]\n",
        "    sum_val = branch.value[0] + branch.value[1]\n",
        "    \n",
        "    if sum_val != 0:\n",
        "        unbalanced_0 = branch.value[0]/sum_val\n",
        "        unbalanced_1 = branch.value[1]/sum_val\n",
        "    \n",
        "    if len(cols) < max_features:\n",
        "        if depth == max_depth or branch.column == \"\" or branch.samples <= min_samples_split or (len(dataNegative) <= min_samples_leaf and len(dataPositive) <= min_samples_leaf) or (unbalanced_0 > 0.95 and branch.samples <= 1000) or (unbalanced_1 > 0.95 and branch.samples <= 1000):\n",
        "          \n",
        "            branch.positive = number\n",
        "            number +=1\n",
        "            branch.negative = number\n",
        "            number +=1   \n",
        "            branch.column = \"\"\n",
        "    \n",
        "            return branch\n",
        "        \n",
        "        # next step\n",
        "        else:\n",
        "            \n",
        "            #dataNegative = bestSplit[2]\n",
        "            branch.branch_negative = decisionTreeInner(dataNegative, label, depth+1, max_depth=max_depth, max_features = max_features, min_samples_split = min_samples_split, min_samples_leaf = min_samples_leaf, s = s)\n",
        "            \n",
        "            #dataPositive = bestSplit[3]\n",
        "            branch.branch_positive = decisionTreeInner(dataPositive, label, depth+1, max_depth=max_depth, max_features = max_features, min_samples_split = min_samples_split, min_samples_leaf = min_samples_leaf, s = s)\n",
        "\n",
        "            return branch\n",
        "    else:\n",
        "        \n",
        "        if depth == max_depth or branch.column == \"\" or branch.samples <= min_samples_split or (len(dataNegative) <= min_samples_leaf and len(dataPositive) <= min_samples_leaf) or (unbalanced_0 > 0.95 and branch.samples <= 1000) or (unbalanced_1 > 0.95 and branch.samples <= 1000):\n",
        "            \n",
        "            branch.positive = number\n",
        "            number +=1\n",
        "            branch.negative = number\n",
        "            number +=1   \n",
        "            branch.column = \"\"\n",
        "            \n",
        "            return branch\n",
        "        \n",
        "        else:\n",
        "            if \"\" in cols:\n",
        "                cols.remove(\"\")\n",
        "            cols.append(\"income\")\n",
        "            \n",
        "            #dataNegative = bestSplit[2]\n",
        "            dataNegative = dataNegative[cols]\n",
        "            \n",
        "            branch.branch_negative = decisionTreeInner(dataNegative, label, depth+1, max_depth=max_depth, max_features = max_features, min_samples_split = min_samples_split, min_samples_leaf = min_samples_leaf, s = s)\n",
        "            \n",
        "            #dataPositive = bestSplit[3]\n",
        "            dataPositive= dataPositive[cols]\n",
        "            \n",
        "            branch.branch_positive = decisionTreeInner(dataPositive, label, depth+1, max_depth=max_depth, max_features = max_features, min_samples_split = min_samples_split, min_samples_leaf = min_samples_leaf, s = s)\n",
        "            cols.remove(\"income\")\n",
        "            return branch\n"
      ]
    },
    {
      "cell_type": "code",
      "execution_count": 49,
      "id": "2vPkdPlymzOv",
      "metadata": {
        "colab": {
          "base_uri": "https://localhost:8080/"
        },
        "id": "2vPkdPlymzOv",
        "outputId": "0a623a90-8e4b-4fcc-95de-929d724720fa"
      },
      "outputs": [
        {
          "output_type": "stream",
          "name": "stderr",
          "text": [
            "/usr/local/lib/python3.9/dist-packages/ipykernel/ipkernel.py:283: DeprecationWarning: `should_run_async` will not call `transform_cell` automatically in the future. Please pass the result to `transformed_cell` argument and any exception that happen during thetransform in `preprocessing_exc_tuple` in IPython 7.17 and above.\n",
            "  and should_run_async(code)\n"
          ]
        }
      ],
      "source": [
        "## function for creating the decision tree classifier.\n",
        "def decision_tree(data, label, max_depth, max_features, min_samples_split, min_samples_leaf, s):\n",
        "    class Branch:\n",
        "        no=0\n",
        "        depth=1\n",
        "        column=''\n",
        "        entropy=0\n",
        "        value = []\n",
        "        samples = 0\n",
        "        gini = 0\n",
        "        thresh = 0\n",
        "        branch_positive=None\n",
        "        branch_negative=None\n",
        "        positive=0 \n",
        "        negative=0\n",
        "        num_cols = 0\n",
        "        col_names = []\n",
        "      \n",
        "    number = 0\n",
        "    entropy = dataEntropy(data)\n",
        "    columns = []\n",
        "    tree = decisionTreeInner(data, label, 0, max_depth = max_depth, max_features = max_features, min_samples_split = min_samples_split, min_samples_leaf = min_samples_leaf, s = s)\n",
        "    return tree"
      ]
    },
    {
      "cell_type": "code",
      "execution_count": 50,
      "id": "b12aed2e",
      "metadata": {
        "colab": {
          "base_uri": "https://localhost:8080/"
        },
        "id": "b12aed2e",
        "outputId": "57967313-9412-47f4-ff4c-5149be171a93"
      },
      "outputs": [
        {
          "output_type": "stream",
          "name": "stderr",
          "text": [
            "/usr/local/lib/python3.9/dist-packages/ipykernel/ipkernel.py:283: DeprecationWarning: `should_run_async` will not call `transform_cell` automatically in the future. Please pass the result to `transformed_cell` argument and any exception that happen during thetransform in `preprocessing_exc_tuple` in IPython 7.17 and above.\n",
            "  and should_run_async(code)\n"
          ]
        },
        {
          "output_type": "stream",
          "name": "stdout",
          "text": [
            "93.71 seconds\n"
          ]
        }
      ],
      "source": [
        "import warnings\n",
        "warnings.filterwarnings('ignore')\n",
        "import time\n",
        "start=time.time()\n",
        "my_dt = decision_tree(new_train_data, 'income', max_depth=3, max_features = 10, min_samples_split = 400, min_samples_leaf = 250, s = 10000)\n",
        "print(round(time.time()-start, 2), 'seconds')"
      ]
    },
    {
      "cell_type": "code",
      "execution_count": 51,
      "id": "6oUM7JOVtq22",
      "metadata": {
        "colab": {
          "base_uri": "https://localhost:8080/"
        },
        "id": "6oUM7JOVtq22",
        "outputId": "69a88cec-994b-42e7-ca85-d2f000c69bf0"
      },
      "outputs": [
        {
          "output_type": "execute_result",
          "data": {
            "text/plain": [
              "84981"
            ]
          },
          "metadata": {},
          "execution_count": 51
        }
      ],
      "source": [
        "my_dt.samples"
      ]
    },
    {
      "cell_type": "code",
      "execution_count": 52,
      "id": "uR8wNth55-9y",
      "metadata": {
        "colab": {
          "base_uri": "https://localhost:8080/"
        },
        "id": "uR8wNth55-9y",
        "outputId": "96b33e2c-0fe0-4e87-fd80-e5869c64c0e6"
      },
      "outputs": [
        {
          "output_type": "execute_result",
          "data": {
            "text/plain": [
              "<__main__.Branch at 0x7fdcc6d38f40>"
            ]
          },
          "metadata": {},
          "execution_count": 52
        }
      ],
      "source": [
        "my_dt"
      ]
    },
    {
      "cell_type": "code",
      "execution_count": 53,
      "id": "Onl3CtSIMuR8",
      "metadata": {
        "id": "Onl3CtSIMuR8"
      },
      "outputs": [],
      "source": [
        "def get_dot_data_innner(branch:Branch, classes, dot_data):\n",
        "    if branch.value[0]<branch.value[1]:\n",
        "        the_class=classes[0]\n",
        "    else:\n",
        "        the_class=classes[1]\n",
        "    if branch.branch_positive:\n",
        "        dot_data=dot_data+'{} [label=<{} le {:.2f}<br/>entropy = {:.3f}<br/>samples = {}<br/>value = {}<br/>class = {}> , fillcolor=\"#FFFFFFFF\"] ;\\r\\n'.format(\n",
        "            branch.no, branch.column, branch.thresh, branch.entropy, branch.samples, branch.value, the_class)\n",
        "    else:\n",
        "        dot_data=dot_data+'{} [label=<entropy = {:.3f}<br/>samples = {}<br/>value = {}<br/>class = {}> , fillcolor=\"#FFFFFFFF\"] ;\\r\\n'.format(\n",
        "            branch.no, branch.entropy, branch.samples, branch.value, the_class)\n",
        "    if branch.branch_negative:\n",
        "        dot_data=dot_data+'{} -> {} [labeldistance=2.5, labelangle=45, headlabel=\"no\"]; \\r\\n'.format(branch.no, branch.branch_negative.no)\n",
        "        dot_data=get_dot_data_innner(branch.branch_negative, classes, dot_data)\n",
        "        \n",
        "    if branch.branch_positive:\n",
        "        dot_data=dot_data+'{} -> {} [labeldistance=1.5, labelangle=45, headlabel=\"yes\"]; \\r\\n'.format(branch.no, branch.branch_positive.no)\n",
        "        dot_data=get_dot_data_innner(branch.branch_positive, classes, dot_data)\n",
        "  \n",
        "\n",
        "    return dot_data\n",
        "    \n",
        "def get_dot_data(branch:Branch, classes=['above 50K','below 50K']):\n",
        "    dot_data=\"\"\"\n",
        "digraph Tree {\n",
        "node [shape=box, style=\"filled, rounded\", color=\"black\", fontname=helvetica] ;\n",
        "edge [fontname=helvetica] ;\n",
        "\"\"\"\n",
        "    dot_data=get_dot_data_innner(branch, classes,  dot_data)\n",
        "    dot_data=dot_data+'\\r\\n}'\n",
        "    return dot_data"
      ]
    },
    {
      "cell_type": "code",
      "execution_count": 54,
      "id": "c83SbYS7MuUk",
      "metadata": {
        "id": "c83SbYS7MuUk"
      },
      "outputs": [],
      "source": [
        "dot_data=get_dot_data(my_dt)"
      ]
    },
    {
      "cell_type": "code",
      "execution_count": 55,
      "id": "Cw8sFkDRM47d",
      "metadata": {
        "id": "Cw8sFkDRM47d"
      },
      "outputs": [],
      "source": [
        "import graphviz "
      ]
    },
    {
      "cell_type": "code",
      "execution_count": 56,
      "id": "nnUWFY7XM5ji",
      "metadata": {
        "id": "nnUWFY7XM5ji"
      },
      "outputs": [],
      "source": [
        "graph = graphviz.Source(dot_data) "
      ]
    },
    {
      "cell_type": "code",
      "execution_count": 57,
      "id": "IFnq8hCqNvW8",
      "metadata": {
        "colab": {
          "base_uri": "https://localhost:8080/",
          "height": 619
        },
        "id": "IFnq8hCqNvW8",
        "outputId": "6923ffa5-a4d6-4f5b-8ba0-6b889c55fef1"
      },
      "outputs": [
        {
          "output_type": "execute_result",
          "data": {
            "image/svg+xml": "<?xml version=\"1.0\" encoding=\"UTF-8\" standalone=\"no\"?>\n<!DOCTYPE svg PUBLIC \"-//W3C//DTD SVG 1.1//EN\"\n \"http://www.w3.org/Graphics/SVG/1.1/DTD/svg11.dtd\">\n<!-- Generated by graphviz version 2.43.0 (0)\n -->\n<!-- Title: Tree Pages: 1 -->\n<svg width=\"1245pt\" height=\"433pt\"\n viewBox=\"0.00 0.00 1244.50 433.00\" xmlns=\"http://www.w3.org/2000/svg\" xmlns:xlink=\"http://www.w3.org/1999/xlink\">\n<g id=\"graph0\" class=\"graph\" transform=\"scale(1 1) rotate(0) translate(4 429)\">\n<title>Tree</title>\n<polygon fill=\"white\" stroke=\"transparent\" points=\"-4,4 -4,-429 1240.5,-429 1240.5,4 -4,4\"/>\n<!-- 0 -->\n<g id=\"node1\" class=\"node\">\n<title>0</title>\n<path fill=\"#ffffff\" stroke=\"black\" d=\"M709,-425C709,-425 555,-425 555,-425 549,-425 543,-419 543,-413 543,-413 543,-354 543,-354 543,-348 549,-342 555,-342 555,-342 709,-342 709,-342 715,-342 721,-348 721,-354 721,-354 721,-413 721,-413 721,-419 715,-425 709,-425\"/>\n<text text-anchor=\"start\" x=\"551\" y=\"-409.8\" font-family=\"Helvetica,sans-Serif\" font-size=\"14.00\">capital_loss_scaled le 0.03</text>\n<text text-anchor=\"start\" x=\"584.5\" y=\"-394.8\" font-family=\"Helvetica,sans-Serif\" font-size=\"14.00\">entropy = 0.931</text>\n<text text-anchor=\"start\" x=\"579.5\" y=\"-379.8\" font-family=\"Helvetica,sans-Serif\" font-size=\"14.00\">samples = 84981</text>\n<text text-anchor=\"start\" x=\"562.5\" y=\"-364.8\" font-family=\"Helvetica,sans-Serif\" font-size=\"14.00\">value = [49739, 35242]</text>\n<text text-anchor=\"start\" x=\"577\" y=\"-349.8\" font-family=\"Helvetica,sans-Serif\" font-size=\"14.00\">class = below 50K</text>\n</g>\n<!-- 1 -->\n<g id=\"node2\" class=\"node\">\n<title>1</title>\n<path fill=\"#ffffff\" stroke=\"black\" d=\"M576,-306C576,-306 264,-306 264,-306 258,-306 252,-300 252,-294 252,-294 252,-235 252,-235 252,-229 258,-223 264,-223 264,-223 576,-223 576,-223 582,-223 588,-229 588,-235 588,-235 588,-294 588,-294 588,-300 582,-306 576,-306\"/>\n<text text-anchor=\"start\" x=\"260\" y=\"-290.8\" font-family=\"Helvetica,sans-Serif\" font-size=\"14.00\">marital_relation_married&#45;civ&#45;spouse_husband le 0.50</text>\n<text text-anchor=\"start\" x=\"372.5\" y=\"-275.8\" font-family=\"Helvetica,sans-Serif\" font-size=\"14.00\">entropy = 1.000</text>\n<text text-anchor=\"start\" x=\"367.5\" y=\"-260.8\" font-family=\"Helvetica,sans-Serif\" font-size=\"14.00\">samples = 57930</text>\n<text text-anchor=\"start\" x=\"350.5\" y=\"-245.8\" font-family=\"Helvetica,sans-Serif\" font-size=\"14.00\">value = [29001, 28929]</text>\n<text text-anchor=\"start\" x=\"365\" y=\"-230.8\" font-family=\"Helvetica,sans-Serif\" font-size=\"14.00\">class = below 50K</text>\n</g>\n<!-- 0&#45;&gt;1 -->\n<g id=\"edge1\" class=\"edge\">\n<title>0&#45;&gt;1</title>\n<path fill=\"none\" stroke=\"black\" d=\"M558.45,-341.91C540.36,-331.92 520.88,-321.17 502.4,-310.98\"/>\n<polygon fill=\"black\" stroke=\"black\" points=\"503.87,-307.79 493.42,-306.02 500.49,-313.92 503.87,-307.79\"/>\n<text text-anchor=\"middle\" x=\"500.36\" y=\"-326.34\" font-family=\"Helvetica,sans-Serif\" font-size=\"14.00\">no</text>\n</g>\n<!-- 16 -->\n<g id=\"node9\" class=\"node\">\n<title>16</title>\n<path fill=\"#ffffff\" stroke=\"black\" d=\"M948,-306C948,-306 636,-306 636,-306 630,-306 624,-300 624,-294 624,-294 624,-235 624,-235 624,-229 630,-223 636,-223 636,-223 948,-223 948,-223 954,-223 960,-229 960,-235 960,-235 960,-294 960,-294 960,-300 954,-306 948,-306\"/>\n<text text-anchor=\"start\" x=\"632\" y=\"-290.8\" font-family=\"Helvetica,sans-Serif\" font-size=\"14.00\">marital_relation_married&#45;civ&#45;spouse_husband le 0.50</text>\n<text text-anchor=\"start\" x=\"744.5\" y=\"-275.8\" font-family=\"Helvetica,sans-Serif\" font-size=\"14.00\">entropy = 0.686</text>\n<text text-anchor=\"start\" x=\"739.5\" y=\"-260.8\" font-family=\"Helvetica,sans-Serif\" font-size=\"14.00\">samples = 27051</text>\n<text text-anchor=\"start\" x=\"726.5\" y=\"-245.8\" font-family=\"Helvetica,sans-Serif\" font-size=\"14.00\">value = [20738, 6313]</text>\n<text text-anchor=\"start\" x=\"737\" y=\"-230.8\" font-family=\"Helvetica,sans-Serif\" font-size=\"14.00\">class = below 50K</text>\n</g>\n<!-- 0&#45;&gt;16 -->\n<g id=\"edge8\" class=\"edge\">\n<title>0&#45;&gt;16</title>\n<path fill=\"none\" stroke=\"black\" d=\"M687.51,-341.91C700.67,-332.29 714.8,-321.95 728.29,-312.09\"/>\n<polygon fill=\"black\" stroke=\"black\" points=\"730.58,-314.75 736.59,-306.02 726.45,-309.1 730.58,-314.75\"/>\n<text text-anchor=\"middle\" x=\"721.76\" y=\"-300.02\" font-family=\"Helvetica,sans-Serif\" font-size=\"14.00\">yes</text>\n</g>\n<!-- 2 -->\n<g id=\"node3\" class=\"node\">\n<title>2</title>\n<path fill=\"#ffffff\" stroke=\"black\" d=\"M277.5,-187C277.5,-187 142.5,-187 142.5,-187 136.5,-187 130.5,-181 130.5,-175 130.5,-175 130.5,-116 130.5,-116 130.5,-110 136.5,-104 142.5,-104 142.5,-104 277.5,-104 277.5,-104 283.5,-104 289.5,-110 289.5,-116 289.5,-116 289.5,-175 289.5,-175 289.5,-181 283.5,-187 277.5,-187\"/>\n<text text-anchor=\"start\" x=\"138.5\" y=\"-171.8\" font-family=\"Helvetica,sans-Serif\" font-size=\"14.00\">education_new le 11.38</text>\n<text text-anchor=\"start\" x=\"162.5\" y=\"-156.8\" font-family=\"Helvetica,sans-Serif\" font-size=\"14.00\">entropy = 0.967</text>\n<text text-anchor=\"start\" x=\"161.5\" y=\"-141.8\" font-family=\"Helvetica,sans-Serif\" font-size=\"14.00\">samples = 2117</text>\n<text text-anchor=\"start\" x=\"152\" y=\"-126.8\" font-family=\"Helvetica,sans-Serif\" font-size=\"14.00\">value = [925, 1192]</text>\n<text text-anchor=\"start\" x=\"154\" y=\"-111.8\" font-family=\"Helvetica,sans-Serif\" font-size=\"14.00\">class = above 50K</text>\n</g>\n<!-- 1&#45;&gt;2 -->\n<g id=\"edge2\" class=\"edge\">\n<title>1&#45;&gt;2</title>\n<path fill=\"none\" stroke=\"black\" d=\"M347.14,-222.91C329.22,-212.92 309.92,-202.17 291.62,-191.98\"/>\n<polygon fill=\"black\" stroke=\"black\" points=\"293.17,-188.83 282.73,-187.02 289.76,-194.95 293.17,-188.83\"/>\n<text text-anchor=\"middle\" x=\"289.57\" y=\"-207.37\" font-family=\"Helvetica,sans-Serif\" font-size=\"14.00\">no</text>\n</g>\n<!-- 9 -->\n<g id=\"node6\" class=\"node\">\n<title>9</title>\n<path fill=\"#ffffff\" stroke=\"black\" d=\"M485.5,-187C485.5,-187 354.5,-187 354.5,-187 348.5,-187 342.5,-181 342.5,-175 342.5,-175 342.5,-116 342.5,-116 342.5,-110 348.5,-104 354.5,-104 354.5,-104 485.5,-104 485.5,-104 491.5,-104 497.5,-110 497.5,-116 497.5,-116 497.5,-175 497.5,-175 497.5,-181 491.5,-187 485.5,-187\"/>\n<text text-anchor=\"start\" x=\"356.5\" y=\"-171.8\" font-family=\"Helvetica,sans-Serif\" font-size=\"14.00\">fnlwgt_scaled le 0.10</text>\n<text text-anchor=\"start\" x=\"372.5\" y=\"-156.8\" font-family=\"Helvetica,sans-Serif\" font-size=\"14.00\">entropy = 1.000</text>\n<text text-anchor=\"start\" x=\"367.5\" y=\"-141.8\" font-family=\"Helvetica,sans-Serif\" font-size=\"14.00\">samples = 55813</text>\n<text text-anchor=\"start\" x=\"350.5\" y=\"-126.8\" font-family=\"Helvetica,sans-Serif\" font-size=\"14.00\">value = [28076, 27737]</text>\n<text text-anchor=\"start\" x=\"365\" y=\"-111.8\" font-family=\"Helvetica,sans-Serif\" font-size=\"14.00\">class = below 50K</text>\n</g>\n<!-- 1&#45;&gt;9 -->\n<g id=\"edge5\" class=\"edge\">\n<title>1&#45;&gt;9</title>\n<path fill=\"none\" stroke=\"black\" d=\"M420,-222.91C420,-214.65 420,-205.86 420,-197.3\"/>\n<polygon fill=\"black\" stroke=\"black\" points=\"423.5,-197.02 420,-187.02 416.5,-197.02 423.5,-197.02\"/>\n<text text-anchor=\"middle\" x=\"409.39\" y=\"-193.93\" font-family=\"Helvetica,sans-Serif\" font-size=\"14.00\">yes</text>\n</g>\n<!-- 3 -->\n<g id=\"node4\" class=\"node\">\n<title>3</title>\n<path fill=\"#ffffff\" stroke=\"black\" d=\"M116,-68C116,-68 12,-68 12,-68 6,-68 0,-62 0,-56 0,-56 0,-12 0,-12 0,-6 6,0 12,0 12,0 116,0 116,0 122,0 128,-6 128,-12 128,-12 128,-56 128,-56 128,-62 122,-68 116,-68\"/>\n<text text-anchor=\"start\" x=\"16.5\" y=\"-52.8\" font-family=\"Helvetica,sans-Serif\" font-size=\"14.00\">entropy = 0.841</text>\n<text text-anchor=\"start\" x=\"19\" y=\"-37.8\" font-family=\"Helvetica,sans-Serif\" font-size=\"14.00\">samples = 671</text>\n<text text-anchor=\"start\" x=\"9.5\" y=\"-22.8\" font-family=\"Helvetica,sans-Serif\" font-size=\"14.00\">value = [210, 461]</text>\n<text text-anchor=\"start\" x=\"8\" y=\"-7.8\" font-family=\"Helvetica,sans-Serif\" font-size=\"14.00\">class = above 50K</text>\n</g>\n<!-- 2&#45;&gt;3 -->\n<g id=\"edge3\" class=\"edge\">\n<title>2&#45;&gt;3</title>\n<path fill=\"none\" stroke=\"black\" d=\"M155.63,-103.73C142.87,-94.15 129.28,-83.96 116.59,-74.44\"/>\n<polygon fill=\"black\" stroke=\"black\" points=\"118.5,-71.5 108.4,-68.3 114.3,-77.1 118.5,-71.5\"/>\n<text text-anchor=\"middle\" x=\"111.93\" y=\"-89.35\" font-family=\"Helvetica,sans-Serif\" font-size=\"14.00\">no</text>\n</g>\n<!-- 6 -->\n<g id=\"node5\" class=\"node\">\n<title>6</title>\n<path fill=\"#ffffff\" stroke=\"black\" d=\"M262,-68C262,-68 158,-68 158,-68 152,-68 146,-62 146,-56 146,-56 146,-12 146,-12 146,-6 152,0 158,0 158,0 262,0 262,0 268,0 274,-6 274,-12 274,-12 274,-56 274,-56 274,-62 268,-68 262,-68\"/>\n<text text-anchor=\"start\" x=\"162.5\" y=\"-52.8\" font-family=\"Helvetica,sans-Serif\" font-size=\"14.00\">entropy = 0.993</text>\n<text text-anchor=\"start\" x=\"161.5\" y=\"-37.8\" font-family=\"Helvetica,sans-Serif\" font-size=\"14.00\">samples = 1446</text>\n<text text-anchor=\"start\" x=\"155.5\" y=\"-22.8\" font-family=\"Helvetica,sans-Serif\" font-size=\"14.00\">value = [715, 731]</text>\n<text text-anchor=\"start\" x=\"154\" y=\"-7.8\" font-family=\"Helvetica,sans-Serif\" font-size=\"14.00\">class = above 50K</text>\n</g>\n<!-- 2&#45;&gt;6 -->\n<g id=\"edge4\" class=\"edge\">\n<title>2&#45;&gt;6</title>\n<path fill=\"none\" stroke=\"black\" d=\"M210,-103.73C210,-95.52 210,-86.86 210,-78.56\"/>\n<polygon fill=\"black\" stroke=\"black\" points=\"213.5,-78.3 210,-68.3 206.5,-78.3 213.5,-78.3\"/>\n<text text-anchor=\"middle\" x=\"199.39\" y=\"-75.21\" font-family=\"Helvetica,sans-Serif\" font-size=\"14.00\">yes</text>\n</g>\n<!-- 10 -->\n<g id=\"node7\" class=\"node\">\n<title>10</title>\n<path fill=\"#ffffff\" stroke=\"black\" d=\"M435.5,-68C435.5,-68 304.5,-68 304.5,-68 298.5,-68 292.5,-62 292.5,-56 292.5,-56 292.5,-12 292.5,-12 292.5,-6 298.5,0 304.5,0 304.5,0 435.5,0 435.5,0 441.5,0 447.5,-6 447.5,-12 447.5,-12 447.5,-56 447.5,-56 447.5,-62 441.5,-68 435.5,-68\"/>\n<text text-anchor=\"start\" x=\"322.5\" y=\"-52.8\" font-family=\"Helvetica,sans-Serif\" font-size=\"14.00\">entropy = 1.000</text>\n<text text-anchor=\"start\" x=\"317.5\" y=\"-37.8\" font-family=\"Helvetica,sans-Serif\" font-size=\"14.00\">samples = 32655</text>\n<text text-anchor=\"start\" x=\"300.5\" y=\"-22.8\" font-family=\"Helvetica,sans-Serif\" font-size=\"14.00\">value = [16581, 16074]</text>\n<text text-anchor=\"start\" x=\"315\" y=\"-7.8\" font-family=\"Helvetica,sans-Serif\" font-size=\"14.00\">class = below 50K</text>\n</g>\n<!-- 9&#45;&gt;10 -->\n<g id=\"edge6\" class=\"edge\">\n<title>9&#45;&gt;10</title>\n<path fill=\"none\" stroke=\"black\" d=\"M401.38,-103.73C397.47,-95.15 393.33,-86.09 389.39,-77.46\"/>\n<polygon fill=\"black\" stroke=\"black\" points=\"392.54,-75.94 385.21,-68.3 386.18,-78.85 392.54,-75.94\"/>\n<text text-anchor=\"middle\" x=\"376.47\" y=\"-88.02\" font-family=\"Helvetica,sans-Serif\" font-size=\"14.00\">no</text>\n</g>\n<!-- 13 -->\n<g id=\"node8\" class=\"node\">\n<title>13</title>\n<path fill=\"#ffffff\" stroke=\"black\" d=\"M608.5,-68C608.5,-68 477.5,-68 477.5,-68 471.5,-68 465.5,-62 465.5,-56 465.5,-56 465.5,-12 465.5,-12 465.5,-6 471.5,0 477.5,0 477.5,0 608.5,0 608.5,0 614.5,0 620.5,-6 620.5,-12 620.5,-12 620.5,-56 620.5,-56 620.5,-62 614.5,-68 608.5,-68\"/>\n<text text-anchor=\"start\" x=\"495.5\" y=\"-52.8\" font-family=\"Helvetica,sans-Serif\" font-size=\"14.00\">entropy = 1.000</text>\n<text text-anchor=\"start\" x=\"490.5\" y=\"-37.8\" font-family=\"Helvetica,sans-Serif\" font-size=\"14.00\">samples = 23158</text>\n<text text-anchor=\"start\" x=\"473.5\" y=\"-22.8\" font-family=\"Helvetica,sans-Serif\" font-size=\"14.00\">value = [11495, 11663]</text>\n<text text-anchor=\"start\" x=\"487\" y=\"-7.8\" font-family=\"Helvetica,sans-Serif\" font-size=\"14.00\">class = above 50K</text>\n</g>\n<!-- 9&#45;&gt;13 -->\n<g id=\"edge7\" class=\"edge\">\n<title>9&#45;&gt;13</title>\n<path fill=\"none\" stroke=\"black\" d=\"M465.8,-103.73C476.35,-94.33 487.57,-84.35 498.08,-74.99\"/>\n<polygon fill=\"black\" stroke=\"black\" points=\"500.45,-77.56 505.59,-68.3 495.8,-72.33 500.45,-77.56\"/>\n<text text-anchor=\"middle\" x=\"490.62\" y=\"-63.73\" font-family=\"Helvetica,sans-Serif\" font-size=\"14.00\">yes</text>\n</g>\n<!-- 17 -->\n<g id=\"node10\" class=\"node\">\n<title>17</title>\n<path fill=\"#ffffff\" stroke=\"black\" d=\"M869.5,-187C869.5,-187 714.5,-187 714.5,-187 708.5,-187 702.5,-181 702.5,-175 702.5,-175 702.5,-116 702.5,-116 702.5,-110 708.5,-104 714.5,-104 714.5,-104 869.5,-104 869.5,-104 875.5,-104 881.5,-110 881.5,-116 881.5,-116 881.5,-175 881.5,-175 881.5,-181 875.5,-187 869.5,-187\"/>\n<text text-anchor=\"start\" x=\"710.5\" y=\"-171.8\" font-family=\"Helvetica,sans-Serif\" font-size=\"14.00\">capital_gain_scaled le 0.07</text>\n<text text-anchor=\"start\" x=\"744.5\" y=\"-156.8\" font-family=\"Helvetica,sans-Serif\" font-size=\"14.00\">entropy = 0.889</text>\n<text text-anchor=\"start\" x=\"739.5\" y=\"-141.8\" font-family=\"Helvetica,sans-Serif\" font-size=\"14.00\">samples = 10467</text>\n<text text-anchor=\"start\" x=\"730\" y=\"-126.8\" font-family=\"Helvetica,sans-Serif\" font-size=\"14.00\">value = [5962, 4505]</text>\n<text text-anchor=\"start\" x=\"737\" y=\"-111.8\" font-family=\"Helvetica,sans-Serif\" font-size=\"14.00\">class = below 50K</text>\n</g>\n<!-- 16&#45;&gt;17 -->\n<g id=\"edge9\" class=\"edge\">\n<title>16&#45;&gt;17</title>\n<path fill=\"none\" stroke=\"black\" d=\"M792,-222.91C792,-214.65 792,-205.86 792,-197.3\"/>\n<polygon fill=\"black\" stroke=\"black\" points=\"795.5,-197.02 792,-187.02 788.5,-197.02 795.5,-197.02\"/>\n<text text-anchor=\"middle\" x=\"774.32\" y=\"-201\" font-family=\"Helvetica,sans-Serif\" font-size=\"14.00\">no</text>\n</g>\n<!-- 24 -->\n<g id=\"node13\" class=\"node\">\n<title>24</title>\n<path fill=\"#ffffff\" stroke=\"black\" d=\"M1084.5,-187C1084.5,-187 929.5,-187 929.5,-187 923.5,-187 917.5,-181 917.5,-175 917.5,-175 917.5,-116 917.5,-116 917.5,-110 923.5,-104 929.5,-104 929.5,-104 1084.5,-104 1084.5,-104 1090.5,-104 1096.5,-110 1096.5,-116 1096.5,-116 1096.5,-175 1096.5,-175 1096.5,-181 1090.5,-187 1084.5,-187\"/>\n<text text-anchor=\"start\" x=\"925.5\" y=\"-171.8\" font-family=\"Helvetica,sans-Serif\" font-size=\"14.00\">capital_gain_scaled le 0.03</text>\n<text text-anchor=\"start\" x=\"959.5\" y=\"-156.8\" font-family=\"Helvetica,sans-Serif\" font-size=\"14.00\">entropy = 0.430</text>\n<text text-anchor=\"start\" x=\"954.5\" y=\"-141.8\" font-family=\"Helvetica,sans-Serif\" font-size=\"14.00\">samples = 16584</text>\n<text text-anchor=\"start\" x=\"941.5\" y=\"-126.8\" font-family=\"Helvetica,sans-Serif\" font-size=\"14.00\">value = [14776, 1808]</text>\n<text text-anchor=\"start\" x=\"952\" y=\"-111.8\" font-family=\"Helvetica,sans-Serif\" font-size=\"14.00\">class = below 50K</text>\n</g>\n<!-- 16&#45;&gt;24 -->\n<g id=\"edge12\" class=\"edge\">\n<title>16&#45;&gt;24</title>\n<path fill=\"none\" stroke=\"black\" d=\"M866.59,-222.91C885.02,-212.88 904.88,-202.07 923.69,-191.84\"/>\n<polygon fill=\"black\" stroke=\"black\" points=\"925.43,-194.88 932.54,-187.02 922.08,-188.73 925.43,-194.88\"/>\n<text text-anchor=\"middle\" x=\"918.15\" y=\"-179.07\" font-family=\"Helvetica,sans-Serif\" font-size=\"14.00\">yes</text>\n</g>\n<!-- 18 -->\n<g id=\"node11\" class=\"node\">\n<title>18</title>\n<path fill=\"#ffffff\" stroke=\"black\" d=\"M755,-68C755,-68 651,-68 651,-68 645,-68 639,-62 639,-56 639,-56 639,-12 639,-12 639,-6 645,0 651,0 651,0 755,0 755,0 761,0 767,-6 767,-12 767,-12 767,-56 767,-56 767,-62 761,-68 755,-68\"/>\n<text text-anchor=\"start\" x=\"655.5\" y=\"-52.8\" font-family=\"Helvetica,sans-Serif\" font-size=\"14.00\">entropy = 0.053</text>\n<text text-anchor=\"start\" x=\"658\" y=\"-37.8\" font-family=\"Helvetica,sans-Serif\" font-size=\"14.00\">samples = 823</text>\n<text text-anchor=\"start\" x=\"656\" y=\"-22.8\" font-family=\"Helvetica,sans-Serif\" font-size=\"14.00\">value = [6, 817]</text>\n<text text-anchor=\"start\" x=\"647\" y=\"-7.8\" font-family=\"Helvetica,sans-Serif\" font-size=\"14.00\">class = above 50K</text>\n</g>\n<!-- 17&#45;&gt;18 -->\n<g id=\"edge10\" class=\"edge\">\n<title>17&#45;&gt;18</title>\n<path fill=\"none\" stroke=\"black\" d=\"M758.86,-103.73C751.52,-94.7 743.74,-85.12 736.39,-76.08\"/>\n<polygon fill=\"black\" stroke=\"black\" points=\"739.09,-73.85 730.07,-68.3 733.66,-78.27 739.09,-73.85\"/>\n<text text-anchor=\"middle\" x=\"727.5\" y=\"-89.47\" font-family=\"Helvetica,sans-Serif\" font-size=\"14.00\">no</text>\n</g>\n<!-- 21 -->\n<g id=\"node12\" class=\"node\">\n<title>21</title>\n<path fill=\"#ffffff\" stroke=\"black\" d=\"M913,-68C913,-68 797,-68 797,-68 791,-68 785,-62 785,-56 785,-56 785,-12 785,-12 785,-6 791,0 797,0 797,0 913,0 913,0 919,0 925,-6 925,-12 925,-12 925,-56 925,-56 925,-62 919,-68 913,-68\"/>\n<text text-anchor=\"start\" x=\"807.5\" y=\"-52.8\" font-family=\"Helvetica,sans-Serif\" font-size=\"14.00\">entropy = 0.886</text>\n<text text-anchor=\"start\" x=\"806.5\" y=\"-37.8\" font-family=\"Helvetica,sans-Serif\" font-size=\"14.00\">samples = 9644</text>\n<text text-anchor=\"start\" x=\"793\" y=\"-22.8\" font-family=\"Helvetica,sans-Serif\" font-size=\"14.00\">value = [5956, 3688]</text>\n<text text-anchor=\"start\" x=\"800\" y=\"-7.8\" font-family=\"Helvetica,sans-Serif\" font-size=\"14.00\">class = below 50K</text>\n</g>\n<!-- 17&#45;&gt;21 -->\n<g id=\"edge11\" class=\"edge\">\n<title>17&#45;&gt;21</title>\n<path fill=\"none\" stroke=\"black\" d=\"M815.46,-103.73C820.44,-95.06 825.72,-85.9 830.73,-77.18\"/>\n<polygon fill=\"black\" stroke=\"black\" points=\"833.89,-78.71 835.84,-68.3 827.82,-75.22 833.89,-78.71\"/>\n<text text-anchor=\"middle\" x=\"821.36\" y=\"-68.5\" font-family=\"Helvetica,sans-Serif\" font-size=\"14.00\">yes</text>\n</g>\n<!-- 25 -->\n<g id=\"node14\" class=\"node\">\n<title>25</title>\n<path fill=\"#ffffff\" stroke=\"black\" d=\"M1059,-68C1059,-68 955,-68 955,-68 949,-68 943,-62 943,-56 943,-56 943,-12 943,-12 943,-6 949,0 955,0 955,0 1059,0 1059,0 1065,0 1071,-6 1071,-12 1071,-12 1071,-56 1071,-56 1071,-62 1065,-68 1059,-68\"/>\n<text text-anchor=\"start\" x=\"959.5\" y=\"-52.8\" font-family=\"Helvetica,sans-Serif\" font-size=\"14.00\">entropy = 0.928</text>\n<text text-anchor=\"start\" x=\"962\" y=\"-37.8\" font-family=\"Helvetica,sans-Serif\" font-size=\"14.00\">samples = 933</text>\n<text text-anchor=\"start\" x=\"952.5\" y=\"-22.8\" font-family=\"Helvetica,sans-Serif\" font-size=\"14.00\">value = [359, 574]</text>\n<text text-anchor=\"start\" x=\"951\" y=\"-7.8\" font-family=\"Helvetica,sans-Serif\" font-size=\"14.00\">class = above 50K</text>\n</g>\n<!-- 24&#45;&gt;25 -->\n<g id=\"edge13\" class=\"edge\">\n<title>24&#45;&gt;25</title>\n<path fill=\"none\" stroke=\"black\" d=\"M1007,-103.73C1007,-95.52 1007,-86.86 1007,-78.56\"/>\n<polygon fill=\"black\" stroke=\"black\" points=\"1010.5,-78.3 1007,-68.3 1003.5,-78.3 1010.5,-78.3\"/>\n<text text-anchor=\"middle\" x=\"989.32\" y=\"-82.28\" font-family=\"Helvetica,sans-Serif\" font-size=\"14.00\">no</text>\n</g>\n<!-- 28 -->\n<g id=\"node15\" class=\"node\">\n<title>28</title>\n<path fill=\"#ffffff\" stroke=\"black\" d=\"M1224.5,-68C1224.5,-68 1101.5,-68 1101.5,-68 1095.5,-68 1089.5,-62 1089.5,-56 1089.5,-56 1089.5,-12 1089.5,-12 1089.5,-6 1095.5,0 1101.5,0 1101.5,0 1224.5,0 1224.5,0 1230.5,0 1236.5,-6 1236.5,-12 1236.5,-12 1236.5,-56 1236.5,-56 1236.5,-62 1230.5,-68 1224.5,-68\"/>\n<text text-anchor=\"start\" x=\"1115.5\" y=\"-52.8\" font-family=\"Helvetica,sans-Serif\" font-size=\"14.00\">entropy = 0.349</text>\n<text text-anchor=\"start\" x=\"1110.5\" y=\"-37.8\" font-family=\"Helvetica,sans-Serif\" font-size=\"14.00\">samples = 15651</text>\n<text text-anchor=\"start\" x=\"1097.5\" y=\"-22.8\" font-family=\"Helvetica,sans-Serif\" font-size=\"14.00\">value = [14417, 1234]</text>\n<text text-anchor=\"start\" x=\"1108\" y=\"-7.8\" font-family=\"Helvetica,sans-Serif\" font-size=\"14.00\">class = below 50K</text>\n</g>\n<!-- 24&#45;&gt;28 -->\n<g id=\"edge14\" class=\"edge\">\n<title>24&#45;&gt;28</title>\n<path fill=\"none\" stroke=\"black\" d=\"M1065.09,-103.73C1078.86,-94.06 1093.52,-83.77 1107.19,-74.17\"/>\n<polygon fill=\"black\" stroke=\"black\" points=\"1109.39,-76.91 1115.56,-68.3 1105.36,-71.18 1109.39,-76.91\"/>\n<text text-anchor=\"middle\" x=\"1100.78\" y=\"-62.01\" font-family=\"Helvetica,sans-Serif\" font-size=\"14.00\">yes</text>\n</g>\n</g>\n</svg>\n",
            "text/plain": [
              "<graphviz.sources.Source at 0x7fdcc6ab9220>"
            ]
          },
          "metadata": {},
          "execution_count": 57
        }
      ],
      "source": [
        "graph"
      ]
    },
    {
      "cell_type": "code",
      "execution_count": 58,
      "id": "fJN9176y6gf1",
      "metadata": {
        "id": "fJN9176y6gf1"
      },
      "outputs": [],
      "source": [
        "#graph.render('./image/my_dt', format='png')"
      ]
    },
    {
      "cell_type": "markdown",
      "source": [
        "### Improving the Model"
      ],
      "metadata": {
        "id": "Lye8X07cyHYl"
      },
      "id": "Lye8X07cyHYl"
    },
    {
      "cell_type": "code",
      "execution_count": 61,
      "id": "xMLo7e9TdMHl",
      "metadata": {
        "colab": {
          "base_uri": "https://localhost:8080/"
        },
        "id": "xMLo7e9TdMHl",
        "outputId": "c0e6bb2f-391d-4188-926a-4265ca63f570"
      },
      "outputs": [
        {
          "output_type": "stream",
          "name": "stdout",
          "text": [
            "367.4 seconds\n"
          ]
        }
      ],
      "source": [
        "start=time.time()\n",
        "my_dt = decision_tree(new_train_data, 'income', max_depth=13, max_features = 15, min_samples_split = 500, min_samples_leaf = 250, s = 10000)\n",
        "print(round(time.time()-start, 2), 'seconds')"
      ]
    },
    {
      "cell_type": "markdown",
      "id": "hr1tlFYsUyZH",
      "metadata": {
        "id": "hr1tlFYsUyZH"
      },
      "source": [
        "### Evaluating on Test data"
      ]
    },
    {
      "cell_type": "code",
      "execution_count": 59,
      "id": "U7qs1zV6xO9X",
      "metadata": {
        "colab": {
          "base_uri": "https://localhost:8080/"
        },
        "id": "U7qs1zV6xO9X",
        "outputId": "c6c09c7b-3113-4468-eed3-7ecbaf08f463"
      },
      "outputs": [
        {
          "output_type": "execute_result",
          "data": {
            "text/plain": [
              "0    49739\n",
              "1    35242\n",
              "Name: income, dtype: int64"
            ]
          },
          "metadata": {},
          "execution_count": 59
        }
      ],
      "source": [
        "new_train_data[\"income\"].value_counts()"
      ]
    },
    {
      "cell_type": "code",
      "execution_count": 60,
      "id": "M-qS7J4e3krT",
      "metadata": {
        "colab": {
          "base_uri": "https://localhost:8080/"
        },
        "id": "M-qS7J4e3krT",
        "outputId": "19a607e6-aaa7-43ce-9f02-69c8a4e0e90f"
      },
      "outputs": [
        {
          "output_type": "execute_result",
          "data": {
            "text/plain": [
              "84981"
            ]
          },
          "metadata": {},
          "execution_count": 60
        }
      ],
      "source": [
        "my_dt.samples"
      ]
    },
    {
      "cell_type": "code",
      "execution_count": 62,
      "id": "53N3oCDaUxbe",
      "metadata": {
        "id": "53N3oCDaUxbe"
      },
      "outputs": [],
      "source": [
        "def tree_predict(my_dt, obs, prop):\n",
        "  out_dt = my_dt\n",
        "  income = \"\"\n",
        "  while out_dt.column != \"\":\n",
        "    if obs[out_dt.column] <= out_dt.thresh:\n",
        "      out_dt = out_dt.branch_positive\n",
        "    else:\n",
        "      out_dt = out_dt.branch_negative\n",
        "  \n",
        "  if out_dt.value[1]/(out_dt.value[1] + out_dt.value[0]) >= prop:\n",
        "    income = 1\n",
        "  else:\n",
        "    income = 0\n",
        "  \n",
        "  return out_dt, income"
      ]
    },
    {
      "cell_type": "code",
      "execution_count": 63,
      "id": "tJ-bx7dhwH2N",
      "metadata": {
        "id": "tJ-bx7dhwH2N"
      },
      "outputs": [],
      "source": [
        "prop = list(np.linspace(0,1, 100))[1:-1]"
      ]
    },
    {
      "cell_type": "code",
      "execution_count": 64,
      "id": "dzIDf41yyewi",
      "metadata": {
        "id": "dzIDf41yyewi"
      },
      "outputs": [],
      "source": [
        "from sklearn.metrics import precision_score, recall_score, accuracy_score"
      ]
    },
    {
      "cell_type": "code",
      "execution_count": 65,
      "id": "oyit6h5iFgG7",
      "metadata": {
        "id": "oyit6h5iFgG7"
      },
      "outputs": [],
      "source": [
        "new_test_data_use = new_test_data.reset_index(drop = True)"
      ]
    },
    {
      "cell_type": "code",
      "execution_count": 66,
      "id": "zLuTPX7iwRRC",
      "metadata": {
        "id": "zLuTPX7iwRRC"
      },
      "outputs": [],
      "source": [
        "def tree_pred_threshold(prop):\n",
        "  incomes = []\n",
        "  for i in range(len(new_test_data_use)):\n",
        "    out_dt, income = tree_predict(my_dt, new_test_data_use.iloc[i,:], prop)\n",
        "    incomes.append(income)\n",
        "\n",
        "  precision = precision_score(y_test, incomes)\n",
        "  recall = recall_score(y_test, incomes)\n",
        "  accuracy = accuracy_score(y_test, incomes)\n",
        "  \n",
        "  return precision, recall, accuracy"
      ]
    },
    {
      "cell_type": "code",
      "execution_count": 67,
      "id": "dE5DLdarypK3",
      "metadata": {
        "id": "dE5DLdarypK3"
      },
      "outputs": [],
      "source": [
        "precisions = []\n",
        "recalls = []\n",
        "accuracy = []\n",
        "for i in range(len(prop)):\n",
        "  res = tree_pred_threshold(prop[i])\n",
        "  precisions.append(res[0])\n",
        "  recalls.append(res[1])\n",
        "  accuracy.append(res[2])"
      ]
    },
    {
      "cell_type": "code",
      "execution_count": 68,
      "id": "bG81bqvy0W9r",
      "metadata": {
        "colab": {
          "base_uri": "https://localhost:8080/"
        },
        "id": "bG81bqvy0W9r",
        "outputId": "71c81ae0-c374-40c5-d7c6-313faa286da2"
      },
      "outputs": [
        {
          "output_type": "execute_result",
          "data": {
            "text/plain": [
              "(0.5252525252525253, 0.6176666666666667)"
            ]
          },
          "metadata": {},
          "execution_count": 68
        }
      ],
      "source": [
        "prop[np.argmax(accuracy)], accuracy[np.argmax(accuracy)]"
      ]
    },
    {
      "cell_type": "code",
      "execution_count": 69,
      "id": "B_AD5UIEy9Pa",
      "metadata": {
        "colab": {
          "base_uri": "https://localhost:8080/",
          "height": 699
        },
        "id": "B_AD5UIEy9Pa",
        "outputId": "84bbeaf4-7447-4f41-e535-9141f1f02625"
      },
      "outputs": [
        {
          "output_type": "display_data",
          "data": {
            "text/plain": [
              "<Figure size 1200x800 with 1 Axes>"
            ],
            "image/png": "[encoded data removed]"
          },
          "metadata": {}
        }
      ],
      "source": [
        "plt.figure(figsize = (12,8))\n",
        "sns.lineplot(x = prop, y = precisions, color = \"blue\", label = \"precision\")\n",
        "sns.lineplot(x = prop, y = recalls, color = \"orange\", label = \"recall\")\n",
        "sns.lineplot(x = prop, y = accuracy, color = \"green\", label = \"accuracy\")\n",
        "plt.axvline(x = prop[np.argmax(accuracy)], color = \"black\", linestyle = \"dashed\")\n",
        "plt.title(\"Metrics' trends as a function of threshold\")\n",
        "plt.show();"
      ]
    },
    {
      "cell_type": "code",
      "execution_count": 70,
      "id": "PQDOiDvaXMnc",
      "metadata": {
        "id": "PQDOiDvaXMnc"
      },
      "outputs": [],
      "source": [
        "incomes = []\n",
        "out_vals = []\n",
        "for i in range(len(new_test_data_use)):\n",
        "  out_dt, income = tree_predict(my_dt, new_test_data_use.iloc[i,:], prop[np.argmax(accuracy)])\n",
        "  incomes.append(income)\n",
        "  out_vals.append(out_dt.value)"
      ]
    },
    {
      "cell_type": "code",
      "execution_count": 71,
      "id": "CamewcxeXSet",
      "metadata": {
        "colab": {
          "base_uri": "https://localhost:8080/"
        },
        "id": "CamewcxeXSet",
        "outputId": "c841885c-c786-476b-f0c5-69c2ae505691"
      },
      "outputs": [
        {
          "output_type": "execute_result",
          "data": {
            "text/plain": [
              "Counter({0: 11674, 1: 3326})"
            ]
          },
          "metadata": {},
          "execution_count": 71
        }
      ],
      "source": [
        "from collections import Counter\n",
        "Counter(incomes)"
      ]
    },
    {
      "cell_type": "code",
      "execution_count": 72,
      "id": "ykrK75zXwKyG",
      "metadata": {
        "colab": {
          "base_uri": "https://localhost:8080/"
        },
        "id": "ykrK75zXwKyG",
        "outputId": "43b6b80e-37fe-480b-e76a-7a1be9a278f5"
      },
      "outputs": [
        {
          "output_type": "execute_result",
          "data": {
            "text/plain": [
              "[[202, 29],\n",
              " [333, 21],\n",
              " [139, 116],\n",
              " [187, 160],\n",
              " [57, 44],\n",
              " [181, 118],\n",
              " [616, 585],\n",
              " [317, 399],\n",
              " [586, 648],\n",
              " [191, 263]]"
            ]
          },
          "metadata": {},
          "execution_count": 72
        }
      ],
      "source": [
        "out_vals[:10]"
      ]
    },
    {
      "cell_type": "code",
      "execution_count": 73,
      "id": "1_HxNdBIUxjy",
      "metadata": {
        "id": "1_HxNdBIUxjy"
      },
      "outputs": [],
      "source": [
        "out_dt, income = tree_predict(my_dt, new_test_data.iloc[1000,:], prop[np.argmax(accuracy)])"
      ]
    },
    {
      "cell_type": "code",
      "execution_count": 74,
      "id": "XSyuYxFaWXgf",
      "metadata": {
        "colab": {
          "base_uri": "https://localhost:8080/"
        },
        "id": "XSyuYxFaWXgf",
        "outputId": "621ff4e7-3bd5-4eef-b83c-3713a015850f"
      },
      "outputs": [
        {
          "output_type": "execute_result",
          "data": {
            "text/plain": [
              "[145, 227]"
            ]
          },
          "metadata": {},
          "execution_count": 74
        }
      ],
      "source": [
        "out_dt.value"
      ]
    },
    {
      "cell_type": "code",
      "execution_count": 75,
      "id": "YHA_Ov-xWZgM",
      "metadata": {
        "colab": {
          "base_uri": "https://localhost:8080/"
        },
        "id": "YHA_Ov-xWZgM",
        "outputId": "aaf603ce-6c9a-40bc-9d8f-fc4e32e385ca"
      },
      "outputs": [
        {
          "output_type": "execute_result",
          "data": {
            "text/plain": [
              "1"
            ]
          },
          "metadata": {},
          "execution_count": 75
        }
      ],
      "source": [
        "income"
      ]
    },
    {
      "cell_type": "code",
      "execution_count": 76,
      "id": "_vh3QTVdZFR1",
      "metadata": {
        "id": "_vh3QTVdZFR1"
      },
      "outputs": [],
      "source": [
        "from sklearn.metrics import classification_report, confusion_matrix, accuracy_score\n",
        "import seaborn as sns"
      ]
    },
    {
      "cell_type": "code",
      "execution_count": 77,
      "id": "RLWo_BBxfghC",
      "metadata": {
        "colab": {
          "base_uri": "https://localhost:8080/"
        },
        "id": "RLWo_BBxfghC",
        "outputId": "154e3da1-dd24-45ab-d829-70c14e60b978"
      },
      "outputs": [
        {
          "output_type": "stream",
          "name": "stdout",
          "text": [
            "              precision    recall  f1-score   support\n",
            "\n",
            "           0       0.63      0.84      0.72      8781\n",
            "           1       0.57      0.31      0.40      6219\n",
            "\n",
            "    accuracy                           0.62     15000\n",
            "   macro avg       0.60      0.57      0.56     15000\n",
            "weighted avg       0.61      0.62      0.59     15000\n",
            "\n"
          ]
        }
      ],
      "source": [
        "print(classification_report(y_test, incomes))"
      ]
    },
    {
      "cell_type": "code",
      "execution_count": 78,
      "id": "9CAxX8Whfjj8",
      "metadata": {
        "id": "9CAxX8Whfjj8"
      },
      "outputs": [],
      "source": [
        "conf = confusion_matrix(y_test,incomes)"
      ]
    },
    {
      "cell_type": "code",
      "execution_count": 79,
      "id": "nnhAvk69fpT5",
      "metadata": {
        "colab": {
          "base_uri": "https://localhost:8080/",
          "height": 447
        },
        "id": "nnhAvk69fpT5",
        "outputId": "f96a6909-6ba2-47fb-cf47-a1bbf6c66141"
      },
      "outputs": [
        {
          "output_type": "execute_result",
          "data": {
            "text/plain": [
              "<Axes: >"
            ]
          },
          "metadata": {},
          "execution_count": 79
        },
        {
          "output_type": "display_data",
          "data": {
            "text/plain": [
              "<Figure size 640x480 with 2 Axes>"
            ],
            "image/png": "[encoded data removed]"
          },
          "metadata": {}
        }
      ],
      "source": [
        "sns.heatmap(conf, annot = True, cmap = \"RdBu\")"
      ]
    },
    {
      "cell_type": "markdown",
      "id": "BZu2osxFTdT6",
      "metadata": {
        "id": "BZu2osxFTdT6"
      },
      "source": [
        "### Column Frequency"
      ]
    },
    {
      "cell_type": "code",
      "execution_count": 80,
      "id": "blUOE7KTTT0b",
      "metadata": {
        "id": "blUOE7KTTT0b"
      },
      "outputs": [],
      "source": [
        "from collections import Counter\n",
        "col_dict = dict(Counter(my_dt.col_names))"
      ]
    },
    {
      "cell_type": "code",
      "execution_count": 81,
      "id": "emb8Z2VATSnk",
      "metadata": {
        "id": "emb8Z2VATSnk"
      },
      "outputs": [],
      "source": [
        "col_df = pd.DataFrame({\"variable\": list(col_dict.keys()), \"frequency\": list(col_dict.values())})"
      ]
    },
    {
      "cell_type": "code",
      "execution_count": 82,
      "id": "n1MxYEW-Tjfz",
      "metadata": {
        "id": "n1MxYEW-Tjfz"
      },
      "outputs": [],
      "source": [
        "col_df = col_df[col_df[\"variable\"] != \"\"]"
      ]
    },
    {
      "cell_type": "code",
      "execution_count": 83,
      "id": "NNZAauQaUHPN",
      "metadata": {
        "colab": {
          "base_uri": "https://localhost:8080/",
          "height": 520
        },
        "id": "NNZAauQaUHPN",
        "outputId": "0a75cf49-026f-4ee3-8ffd-f12666453f6d"
      },
      "outputs": [
        {
          "output_type": "execute_result",
          "data": {
            "text/plain": [
              "                                       variable  frequency\n",
              "0                           capital_loss_scaled          2\n",
              "1   marital_relation_married-civ-spouse_husband          4\n",
              "2                                 education_new         63\n",
              "3                           capital_gain_scaled        107\n",
              "4                                 fnlwgt_scaled         46\n",
              "5                         workclass_without-pay         18\n",
              "6      marital_relation_married-civ-spouse_wife         24\n",
              "7                     occupation_prof-specialty         27\n",
              "8                         hours_per_week_scaled         48\n",
              "9                    occupation_exec-managerial         20\n",
              "10                                   age_scaled         64\n",
              "11                 occupation_handlers-cleaners         27\n",
              "12                          workclass_local-gov         29\n",
              "13                       workclass_self-emp-inc         23\n",
              "14                      occupation_tech-support         19"
            ],
            "text/html": [
              "\n",
              "  <div id=\"df-1c84d0d7-120b-4b38-8f4d-263d47a9eb59\">\n",
              "    <div class=\"colab-df-container\">\n",
              "      <div>\n",
              "<style scoped>\n",
              "    .dataframe tbody tr th:only-of-type {\n",
              "        vertical-align: middle;\n",
              "    }\n",
              "\n",
              "    .dataframe tbody tr th {\n",
              "        vertical-align: top;\n",
              "    }\n",
              "\n",
              "    .dataframe thead th {\n",
              "        text-align: right;\n",
              "    }\n",
              "</style>\n",
              "<table border=\"1\" class=\"dataframe\">\n",
              "  <thead>\n",
              "    <tr style=\"text-align: right;\">\n",
              "      <th></th>\n",
              "      <th>variable</th>\n",
              "      <th>frequency</th>\n",
              "    </tr>\n",
              "  </thead>\n",
              "  <tbody>\n",
              "    <tr>\n",
              "      <th>0</th>\n",
              "      <td>capital_loss_scaled</td>\n",
              "      <td>2</td>\n",
              "    </tr>\n",
              "    <tr>\n",
              "      <th>1</th>\n",
              "      <td>marital_relation_married-civ-spouse_husband</td>\n",
              "      <td>4</td>\n",
              "    </tr>\n",
              "    <tr>\n",
              "      <th>2</th>\n",
              "      <td>education_new</td>\n",
              "      <td>63</td>\n",
              "    </tr>\n",
              "    <tr>\n",
              "      <th>3</th>\n",
              "      <td>capital_gain_scaled</td>\n",
              "      <td>107</td>\n",
              "    </tr>\n",
              "    <tr>\n",
              "      <th>4</th>\n",
              "      <td>fnlwgt_scaled</td>\n",
              "      <td>46</td>\n",
              "    </tr>\n",
              "    <tr>\n",
              "      <th>5</th>\n",
              "      <td>workclass_without-pay</td>\n",
              "      <td>18</td>\n",
              "    </tr>\n",
              "    <tr>\n",
              "      <th>6</th>\n",
              "      <td>marital_relation_married-civ-spouse_wife</td>\n",
              "      <td>24</td>\n",
              "    </tr>\n",
              "    <tr>\n",
              "      <th>7</th>\n",
              "      <td>occupation_prof-specialty</td>\n",
              "      <td>27</td>\n",
              "    </tr>\n",
              "    <tr>\n",
              "      <th>8</th>\n",
              "      <td>hours_per_week_scaled</td>\n",
              "      <td>48</td>\n",
              "    </tr>\n",
              "    <tr>\n",
              "      <th>9</th>\n",
              "      <td>occupation_exec-managerial</td>\n",
              "      <td>20</td>\n",
              "    </tr>\n",
              "    <tr>\n",
              "      <th>10</th>\n",
              "      <td>age_scaled</td>\n",
              "      <td>64</td>\n",
              "    </tr>\n",
              "    <tr>\n",
              "      <th>11</th>\n",
              "      <td>occupation_handlers-cleaners</td>\n",
              "      <td>27</td>\n",
              "    </tr>\n",
              "    <tr>\n",
              "      <th>12</th>\n",
              "      <td>workclass_local-gov</td>\n",
              "      <td>29</td>\n",
              "    </tr>\n",
              "    <tr>\n",
              "      <th>13</th>\n",
              "      <td>workclass_self-emp-inc</td>\n",
              "      <td>23</td>\n",
              "    </tr>\n",
              "    <tr>\n",
              "      <th>14</th>\n",
              "      <td>occupation_tech-support</td>\n",
              "      <td>19</td>\n",
              "    </tr>\n",
              "  </tbody>\n",
              "</table>\n",
              "</div>\n",
              "      <button class=\"colab-df-convert\" onclick=\"convertToInteractive('df-1c84d0d7-120b-4b38-8f4d-263d47a9eb59')\"\n",
              "              title=\"Convert this dataframe to an interactive table.\"\n",
              "              style=\"display:none;\">\n",
              "        \n",
              "  <svg xmlns=\"http://www.w3.org/2000/svg\" height=\"24px\"viewBox=\"0 0 24 24\"\n",
              "       width=\"24px\">\n",
              "    <path d=\"M0 0h24v24H0V0z\" fill=\"none\"/>\n",
              "    <path d=\"M18.56 5.44l.94 2.06.94-2.06 2.06-.94-2.06-.94-.94-2.06-.94 2.06-2.06.94zm-11 1L8.5 8.5l.94-2.06 2.06-.94-2.06-.94L8.5 2.5l-.94 2.06-2.06.94zm10 10l.94 2.06.94-2.06 2.06-.94-2.06-.94-.94-2.06-.94 2.06-2.06.94z\"/><path d=\"M17.41 7.96l-1.37-1.37c-.4-.4-.92-.59-1.43-.59-.52 0-1.04.2-1.43.59L10.3 9.45l-7.72 7.72c-.78.78-.78 2.05 0 2.83L4 21.41c.39.39.9.59 1.41.59.51 0 1.02-.2 1.41-.59l7.78-7.78 2.81-2.81c.8-.78.8-2.07 0-2.86zM5.41 20L4 18.59l7.72-7.72 1.47 1.35L5.41 20z\"/>\n",
              "  </svg>\n",
              "      </button>\n",
              "      \n",
              "  <style>\n",
              "    .colab-df-container {\n",
              "      display:flex;\n",
              "      flex-wrap:wrap;\n",
              "      gap: 12px;\n",
              "    }\n",
              "\n",
              "    .colab-df-convert {\n",
              "      background-color: #E8F0FE;\n",
              "      border: none;\n",
              "      border-radius: 50%;\n",
              "      cursor: pointer;\n",
              "      display: none;\n",
              "      fill: #1967D2;\n",
              "      height: 32px;\n",
              "      padding: 0 0 0 0;\n",
              "      width: 32px;\n",
              "    }\n",
              "\n",
              "    .colab-df-convert:hover {\n",
              "      background-color: #E2EBFA;\n",
              "      box-shadow: 0px 1px 2px rgba(60, 64, 67, 0.3), 0px 1px 3px 1px rgba(60, 64, 67, 0.15);\n",
              "      fill: #174EA6;\n",
              "    }\n",
              "\n",
              "    [theme=dark] .colab-df-convert {\n",
              "      background-color: #3B4455;\n",
              "      fill: #D2E3FC;\n",
              "    }\n",
              "\n",
              "    [theme=dark] .colab-df-convert:hover {\n",
              "      background-color: #434B5C;\n",
              "      box-shadow: 0px 1px 3px 1px rgba(0, 0, 0, 0.15);\n",
              "      filter: drop-shadow(0px 1px 2px rgba(0, 0, 0, 0.3));\n",
              "      fill: #FFFFFF;\n",
              "    }\n",
              "  </style>\n",
              "\n",
              "      <script>\n",
              "        const buttonEl =\n",
              "          document.querySelector('#df-1c84d0d7-120b-4b38-8f4d-263d47a9eb59 button.colab-df-convert');\n",
              "        buttonEl.style.display =\n",
              "          google.colab.kernel.accessAllowed ? 'block' : 'none';\n",
              "\n",
              "        async function convertToInteractive(key) {\n",
              "          const element = document.querySelector('#df-1c84d0d7-120b-4b38-8f4d-263d47a9eb59');\n",
              "          const dataTable =\n",
              "            await google.colab.kernel.invokeFunction('convertToInteractive',\n",
              "                                                     [key], {});\n",
              "          if (!dataTable) return;\n",
              "\n",
              "          const docLinkHtml = 'Like what you see? Visit the ' +\n",
              "            '<a target=\"_blank\" href=https://colab.research.google.com/notebooks/data_table.ipynb>data table notebook</a>'\n",
              "            + ' to learn more about interactive tables.';\n",
              "          element.innerHTML = '';\n",
              "          dataTable['output_type'] = 'display_data';\n",
              "          await google.colab.output.renderOutput(dataTable, element);\n",
              "          const docLink = document.createElement('div');\n",
              "          docLink.innerHTML = docLinkHtml;\n",
              "          element.appendChild(docLink);\n",
              "        }\n",
              "      </script>\n",
              "    </div>\n",
              "  </div>\n",
              "  "
            ]
          },
          "metadata": {},
          "execution_count": 83
        }
      ],
      "source": [
        "col_df"
      ]
    },
    {
      "cell_type": "markdown",
      "source": [
        "### Bonus Assignment: Varying the value of S"
      ],
      "metadata": {
        "id": "Ih8hSAjqu-Kg"
      },
      "id": "Ih8hSAjqu-Kg"
    },
    {
      "cell_type": "code",
      "source": [
        "import time\n",
        "S = [5000, 7500, 10000, 12500, 15000, 17500, 20000, 22500, 25000, 27500, 30000]\n",
        "time_record = []\n",
        "accuracy = []\n",
        "for i in range(len(S)):\n",
        "  start=time.time()\n",
        "  my_dt = decision_tree(new_train_data, 'income', max_depth=13, max_features = 15, min_samples_split = 500, min_samples_leaf = 250, s = S[i])\n",
        "  time_record.append(round(time.time()-start, 2))\n",
        "  print(str(S[i]) + \": done\")\n",
        "  print(round(time.time()-start, 2))\n",
        "  incomes = []\n",
        "  for i in range(len(new_test_data_use)):\n",
        "    out_dt, income = tree_predict(my_dt, new_test_data_use.iloc[i,:], 0.525)\n",
        "    incomes.append(income)\n",
        "  \n",
        "  accuracy.append(accuracy_score(y_test, incomes))"
      ],
      "metadata": {
        "id": "2SmlTi-Ku9Je",
        "outputId": "f8b6a328-017f-4587-e73f-46809f10ed31",
        "colab": {
          "base_uri": "https://localhost:8080/"
        }
      },
      "id": "2SmlTi-Ku9Je",
      "execution_count": 86,
      "outputs": [
        {
          "output_type": "stream",
          "name": "stdout",
          "text": [
            "5000: done\n",
            "374.33\n",
            "7500: done\n",
            "349.13\n",
            "10000: done\n",
            "321.98\n",
            "12500: done\n",
            "304.52\n",
            "15000: done\n",
            "292.03\n",
            "17500: done\n",
            "306.76\n",
            "20000: done\n",
            "276.11\n",
            "22500: done\n",
            "264.24\n",
            "25000: done\n",
            "274.91\n",
            "27500: done\n",
            "269.52\n",
            "30000: done\n",
            "333.59\n"
          ]
        }
      ]
    },
    {
      "cell_type": "code",
      "source": [
        "S, time_record, accuracy"
      ],
      "metadata": {
        "id": "6mQjUEO0u9UA",
        "outputId": "641a5e80-bf52-4d6e-8a16-f45abd74055b",
        "colab": {
          "base_uri": "https://localhost:8080/"
        }
      },
      "id": "6mQjUEO0u9UA",
      "execution_count": 87,
      "outputs": [
        {
          "output_type": "execute_result",
          "data": {
            "text/plain": [
              "([5000, 7500, 10000, 12500, 15000, 17500, 20000, 22500, 25000, 27500, 30000],\n",
              " [374.33,\n",
              "  349.13,\n",
              "  321.98,\n",
              "  304.52,\n",
              "  292.03,\n",
              "  306.76,\n",
              "  276.11,\n",
              "  264.24,\n",
              "  274.91,\n",
              "  269.51,\n",
              "  333.59],\n",
              " [0.6155333333333334,\n",
              "  0.6152666666666666,\n",
              "  0.6155333333333334,\n",
              "  0.6149333333333333,\n",
              "  0.6131333333333333,\n",
              "  0.6150666666666667,\n",
              "  0.61,\n",
              "  0.6162666666666666,\n",
              "  0.6111333333333333,\n",
              "  0.6086,\n",
              "  0.612])"
            ]
          },
          "metadata": {},
          "execution_count": 87
        }
      ]
    },
    {
      "cell_type": "code",
      "source": [
        "plt.figure(figsize = (15,8))\n",
        "sns.lineplot(x = S, y = time_record, color = \"blue\")\n",
        "sns.scatterplot(x = S, y = time_record, color = \"blue\")\n",
        "plt.title(\"Runtime as a function of maximum sample size per processor\")\n",
        "plt.ylabel(\"Runtime\")\n",
        "plt.xlabel(\"Maximum Sample Size\")\n",
        "plt.show();"
      ],
      "metadata": {
        "id": "yXYzD3ctxOfW",
        "outputId": "801f986c-1944-46f8-9b7d-c25ad4262c2e",
        "colab": {
          "base_uri": "https://localhost:8080/",
          "height": 718
        }
      },
      "id": "yXYzD3ctxOfW",
      "execution_count": 90,
      "outputs": [
        {
          "output_type": "display_data",
          "data": {
            "text/plain": [
              "<Figure size 1500x800 with 1 Axes>"
            ],
            "image/png": "[encoded data removed]"
          },
          "metadata": {}
        }
      ]
    },
    {
      "cell_type": "code",
      "source": [
        "plt.figure(figsize = (15,8))\n",
        "sns.lineplot(x = S, y = accuracy, color = \"green\")\n",
        "sns.scatterplot(x = S, y = accuracy, color = \"green\")\n",
        "plt.title(\"Runtime as a function of maximum sample size per processor\")\n",
        "plt.ylabel(\"Runtime\")\n",
        "plt.xlabel(\"Maximum Sample Size\")\n",
        "plt.show();"
      ],
      "metadata": {
        "id": "OywsiVYdCuyY",
        "outputId": "ec9314e6-3ab4-4c44-e49c-d61f01424f15",
        "colab": {
          "base_uri": "https://localhost:8080/",
          "height": 714
        }
      },
      "id": "OywsiVYdCuyY",
      "execution_count": 91,
      "outputs": [
        {
          "output_type": "display_data",
          "data": {
            "text/plain": [
              "<Figure size 1500x800 with 1 Axes>"
            ],
            "image/png": "[encoded data removed]"
          },
          "metadata": {}
        }
      ]
    },
    {
      "cell_type": "code",
      "source": [],
      "metadata": {
        "id": "AB6ic2O1DWLx"
      },
      "id": "AB6ic2O1DWLx",
      "execution_count": null,
      "outputs": []
    }
  ],
  "metadata": {
    "accelerator": "GPU",
    "colab": {
      "provenance": [],
      "include_colab_link": true
    },
    "gpuClass": "standard",
    "kernelspec": {
      "display_name": "Python 3 (ipykernel)",
      "language": "python",
      "name": "python3"
    },
    "language_info": {
      "codemirror_mode": {
        "name": "ipython",
        "version": 3
      },
      "file_extension": ".py",
      "mimetype": "text/x-python",
      "name": "python",
      "nbconvert_exporter": "python",
      "pygments_lexer": "ipython3",
      "version": "3.9.7"
    }
  },
  "nbformat": 4,
  "nbformat_minor": 5
}