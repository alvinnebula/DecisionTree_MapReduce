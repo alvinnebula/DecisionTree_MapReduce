{
  "cells": [
    {
      "cell_type": "markdown",
      "metadata": {
        "id": "view-in-github",
        "colab_type": "text"
      },
      "source": [
        "<a href=\"https://colab.research.google.com/github/alvinnebula/DecisionTree_MapReduce/blob/main/DecisionTreeClassifierMapReduce_SyntheticData.ipynb\" target=\"_parent\"><img src=\"https://colab.research.google.com/assets/colab-badge.svg\" alt=\"Open In Colab\"/></a>"
      ]
    },
    {
      "cell_type": "code",
      "execution_count": 1,
      "id": "qzcrCwEh56F9",
      "metadata": {
        "colab": {
          "base_uri": "https://localhost:8080/"
        },
        "id": "qzcrCwEh56F9",
        "outputId": "b9806eea-42f2-45f9-de02-e99fd84b0d06"
      },
      "outputs": [
        {
          "output_type": "stream",
          "name": "stdout",
          "text": [
            "Looking in indexes: https://pypi.org/simple, https://us-python.pkg.dev/colab-wheels/public/simple/\n",
            "Requirement already satisfied: pyspark in /usr/local/lib/python3.9/dist-packages (3.4.0)\n",
            "Requirement already satisfied: py4j==0.10.9.7 in /usr/local/lib/python3.9/dist-packages (from pyspark) (0.10.9.7)\n",
            "openjdk-8-jdk-headless is already the newest version (8u362-ga-0ubuntu1~20.04.1).\n",
            "0 upgraded, 0 newly installed, 0 to remove and 24 not upgraded.\n"
          ]
        }
      ],
      "source": [
        "!pip install pyspark \n",
        "!pip install -U -q PyDrive\n",
        "!apt install openjdk-8-jdk-headless -qq \n",
        "import os\n",
        "os.environ[\"JAVA_HOME\"] = \"/usr/lib/jvm/java-8-openjdk-amd64\""
      ]
    },
    {
      "cell_type": "code",
      "execution_count": 2,
      "id": "nIqx5UPu0Ht8",
      "metadata": {
        "colab": {
          "base_uri": "https://localhost:8080/"
        },
        "id": "nIqx5UPu0Ht8",
        "outputId": "da62210a-9978-48dc-81b8-16871969fd75"
      },
      "outputs": [
        {
          "output_type": "stream",
          "name": "stdout",
          "text": [
            "Looking in indexes: https://pypi.org/simple, https://us-python.pkg.dev/colab-wheels/public/simple/\n",
            "Requirement already satisfied: parallel-pandas in /usr/local/lib/python3.9/dist-packages (0.5.0)\n",
            "Requirement already satisfied: pandas>=1.4.0 in /usr/local/lib/python3.9/dist-packages (from parallel-pandas) (1.5.3)\n",
            "Requirement already satisfied: dill in /usr/local/lib/python3.9/dist-packages (from parallel-pandas) (0.3.6)\n",
            "Requirement already satisfied: tqdm in /usr/local/lib/python3.9/dist-packages (from parallel-pandas) (4.65.0)\n",
            "Requirement already satisfied: psutil in /usr/local/lib/python3.9/dist-packages (from parallel-pandas) (5.9.4)\n",
            "Requirement already satisfied: python-dateutil>=2.8.1 in /usr/local/lib/python3.9/dist-packages (from pandas>=1.4.0->parallel-pandas) (2.8.2)\n",
            "Requirement already satisfied: pytz>=2020.1 in /usr/local/lib/python3.9/dist-packages (from pandas>=1.4.0->parallel-pandas) (2022.7.1)\n",
            "Requirement already satisfied: numpy>=1.20.3 in /usr/local/lib/python3.9/dist-packages (from pandas>=1.4.0->parallel-pandas) (1.22.4)\n",
            "Requirement already satisfied: six>=1.5 in /usr/local/lib/python3.9/dist-packages (from python-dateutil>=2.8.1->pandas>=1.4.0->parallel-pandas) (1.16.0)\n"
          ]
        }
      ],
      "source": [
        "!pip install --upgrade parallel-pandas"
      ]
    },
    {
      "cell_type": "code",
      "execution_count": 3,
      "id": "B_XcCogDIO_M",
      "metadata": {
        "colab": {
          "base_uri": "https://localhost:8080/"
        },
        "id": "B_XcCogDIO_M",
        "outputId": "3eb43b0b-f2e7-4f6c-e38a-4b6cb364e5e4"
      },
      "outputs": [
        {
          "output_type": "stream",
          "name": "stdout",
          "text": [
            "Looking in indexes: https://pypi.org/simple, https://us-python.pkg.dev/colab-wheels/public/simple/\n",
            "Requirement already satisfied: pyjanitor in /usr/local/lib/python3.9/dist-packages (0.24.0)\n",
            "Requirement already satisfied: natsort in /usr/local/lib/python3.9/dist-packages (from pyjanitor) (8.3.1)\n",
            "Requirement already satisfied: scipy in /usr/local/lib/python3.9/dist-packages (from pyjanitor) (1.10.1)\n",
            "Requirement already satisfied: lazy-loader in /usr/local/lib/python3.9/dist-packages (from pyjanitor) (0.2)\n",
            "Requirement already satisfied: pandas-flavor in /usr/local/lib/python3.9/dist-packages (from pyjanitor) (0.5.0)\n",
            "Requirement already satisfied: multipledispatch in /usr/local/lib/python3.9/dist-packages (from pyjanitor) (0.6.0)\n",
            "Requirement already satisfied: six in /usr/local/lib/python3.9/dist-packages (from multipledispatch->pyjanitor) (1.16.0)\n",
            "Requirement already satisfied: xarray in /usr/local/lib/python3.9/dist-packages (from pandas-flavor->pyjanitor) (2022.12.0)\n",
            "Requirement already satisfied: pandas>=0.23 in /usr/local/lib/python3.9/dist-packages (from pandas-flavor->pyjanitor) (1.5.3)\n",
            "Requirement already satisfied: numpy<1.27.0,>=1.19.5 in /usr/local/lib/python3.9/dist-packages (from scipy->pyjanitor) (1.22.4)\n",
            "Requirement already satisfied: python-dateutil>=2.8.1 in /usr/local/lib/python3.9/dist-packages (from pandas>=0.23->pandas-flavor->pyjanitor) (2.8.2)\n",
            "Requirement already satisfied: pytz>=2020.1 in /usr/local/lib/python3.9/dist-packages (from pandas>=0.23->pandas-flavor->pyjanitor) (2022.7.1)\n",
            "Requirement already satisfied: packaging>=21.3 in /usr/local/lib/python3.9/dist-packages (from xarray->pandas-flavor->pyjanitor) (23.0)\n"
          ]
        }
      ],
      "source": [
        "!pip install  pyjanitor"
      ]
    },
    {
      "cell_type": "code",
      "execution_count": 4,
      "id": "93ecd07b",
      "metadata": {
        "id": "93ecd07b"
      },
      "outputs": [],
      "source": [
        "import pandas as pd\n",
        "import numpy as np\n",
        "\n",
        "from sklearn.compose import ColumnTransformer\n",
        "from sklearn.model_selection import GridSearchCV, train_test_split\n",
        "from sklearn.preprocessing import LabelEncoder, OrdinalEncoder, MinMaxScaler, Normalizer, OneHotEncoder\n",
        "import seaborn as sns; sns.set_style(\"dark\")\n",
        "%matplotlib inline\n",
        "import matplotlib.pyplot as plt\n",
        "from pyspark.sql import SparkSession\n",
        "from pyspark import SparkConf, SparkContext\n",
        "import janitor\n",
        "#from parallel_pandas import ParallelPandas"
      ]
    },
    {
      "cell_type": "code",
      "execution_count": 5,
      "id": "ZriXpqcmXtTu",
      "metadata": {
        "colab": {
          "base_uri": "https://localhost:8080/"
        },
        "id": "ZriXpqcmXtTu",
        "outputId": "7dc8e503-12da-4140-a5df-32bf0b8835ad"
      },
      "outputs": [
        {
          "output_type": "stream",
          "name": "stderr",
          "text": [
            "/usr/local/lib/python3.9/dist-packages/ipykernel/ipkernel.py:283: DeprecationWarning: `should_run_async` will not call `transform_cell` automatically in the future. Please pass the result to `transformed_cell` argument and any exception that happen during thetransform in `preprocessing_exc_tuple` in IPython 7.17 and above.\n",
            "  and should_run_async(code)\n"
          ]
        }
      ],
      "source": [
        "from google.colab import drive\n",
        "import os"
      ]
    },
    {
      "cell_type": "code",
      "execution_count": 6,
      "id": "n7aeIdJHXvib",
      "metadata": {
        "colab": {
          "base_uri": "https://localhost:8080/"
        },
        "id": "n7aeIdJHXvib",
        "outputId": "4407b2fb-86ad-4505-ebf2-139efc987ff9"
      },
      "outputs": [
        {
          "output_type": "stream",
          "name": "stderr",
          "text": [
            "/usr/local/lib/python3.9/dist-packages/ipykernel/ipkernel.py:283: DeprecationWarning: `should_run_async` will not call `transform_cell` automatically in the future. Please pass the result to `transformed_cell` argument and any exception that happen during thetransform in `preprocessing_exc_tuple` in IPython 7.17 and above.\n",
            "  and should_run_async(code)\n"
          ]
        },
        {
          "output_type": "stream",
          "name": "stdout",
          "text": [
            "Drive already mounted at /content/drive; to attempt to forcibly remount, call drive.mount(\"/content/drive\", force_remount=True).\n"
          ]
        }
      ],
      "source": [
        "drive.mount('/content/drive')\n",
        "cur_path = \"/content/drive/MyDrive/Big Data/Project\"\n",
        "os.chdir(cur_path)"
      ]
    },
    {
      "cell_type": "code",
      "execution_count": 7,
      "id": "b601a9f3",
      "metadata": {
        "colab": {
          "base_uri": "https://localhost:8080/"
        },
        "id": "b601a9f3",
        "outputId": "308da9ed-e8ec-493f-950e-36e93ac68fb9"
      },
      "outputs": [
        {
          "output_type": "stream",
          "name": "stderr",
          "text": [
            "/usr/local/lib/python3.9/dist-packages/ipykernel/ipkernel.py:283: DeprecationWarning: `should_run_async` will not call `transform_cell` automatically in the future. Please pass the result to `transformed_cell` argument and any exception that happen during thetransform in `preprocessing_exc_tuple` in IPython 7.17 and above.\n",
            "  and should_run_async(code)\n"
          ]
        },
        {
          "output_type": "execute_result",
          "data": {
            "text/plain": [
              "Index(['age', 'workclass', 'fnlwgt', 'education', 'education_num',\n",
              "       'marital_status', 'occupation', 'relationship', 'race', 'sex',\n",
              "       'capital_gain', 'capital_loss', 'hours_per_week', 'native_country',\n",
              "       'income'],\n",
              "      dtype='object')"
            ]
          },
          "metadata": {},
          "execution_count": 7
        }
      ],
      "source": [
        "df_small = pd.read_csv(\"adult.csv\").clean_names()\n",
        "df_small.columns"
      ]
    },
    {
      "cell_type": "code",
      "execution_count": 8,
      "id": "IXTB6Of9Fjrs",
      "metadata": {
        "colab": {
          "base_uri": "https://localhost:8080/"
        },
        "id": "IXTB6Of9Fjrs",
        "outputId": "9a98e9c5-971b-41f4-c9a2-77bc9130fbfe"
      },
      "outputs": [
        {
          "output_type": "stream",
          "name": "stderr",
          "text": [
            "/usr/local/lib/python3.9/dist-packages/ipykernel/ipkernel.py:283: DeprecationWarning: `should_run_async` will not call `transform_cell` automatically in the future. Please pass the result to `transformed_cell` argument and any exception that happen during thetransform in `preprocessing_exc_tuple` in IPython 7.17 and above.\n",
            "  and should_run_async(code)\n"
          ]
        }
      ],
      "source": [
        "cols = list(df_small.columns)"
      ]
    },
    {
      "cell_type": "code",
      "execution_count": 9,
      "id": "x4Y2OffpFjxo",
      "metadata": {
        "colab": {
          "base_uri": "https://localhost:8080/",
          "height": 261
        },
        "id": "x4Y2OffpFjxo",
        "outputId": "ed5c36db-59ba-4ecd-be7d-fff79c414f2d"
      },
      "outputs": [
        {
          "output_type": "stream",
          "name": "stderr",
          "text": [
            "/usr/local/lib/python3.9/dist-packages/ipykernel/ipkernel.py:283: DeprecationWarning: `should_run_async` will not call `transform_cell` automatically in the future. Please pass the result to `transformed_cell` argument and any exception that happen during thetransform in `preprocessing_exc_tuple` in IPython 7.17 and above.\n",
            "  and should_run_async(code)\n"
          ]
        },
        {
          "output_type": "execute_result",
          "data": {
            "text/plain": [
              "   0                 1       2          3   4                   5   \\\n",
              "0  39         State-gov   77516  Bachelors  13       Never-married   \n",
              "1  50  Self-emp-not-inc   83311  Bachelors  13  Married-civ-spouse   \n",
              "2  38           Private  215646    HS-grad   9            Divorced   \n",
              "3  53           Private  234721       11th   7  Married-civ-spouse   \n",
              "4  28           Private  338409  Bachelors  13  Married-civ-spouse   \n",
              "\n",
              "                  6              7      8       9     10  11  12  \\\n",
              "0       Adm-clerical  Not-in-family  White    Male  2174   0  40   \n",
              "1    Exec-managerial        Husband  White    Male     0   0  13   \n",
              "2  Handlers-cleaners  Not-in-family  White    Male     0   0  40   \n",
              "3  Handlers-cleaners        Husband  Black    Male     0   0  40   \n",
              "4     Prof-specialty           Wife  Black  Female     0   0  40   \n",
              "\n",
              "              13     14  \n",
              "0  United-States  <=50K  \n",
              "1  United-States  <=50K  \n",
              "2  United-States  <=50K  \n",
              "3  United-States  <=50K  \n",
              "4           Cuba  <=50K  "
            ],
            "text/html": [
              "\n",
              "  <div id=\"df-4c565237-e196-484d-bb24-8500af640cfe\">\n",
              "    <div class=\"colab-df-container\">\n",
              "      <div>\n",
              "<style scoped>\n",
              "    .dataframe tbody tr th:only-of-type {\n",
              "        vertical-align: middle;\n",
              "    }\n",
              "\n",
              "    .dataframe tbody tr th {\n",
              "        vertical-align: top;\n",
              "    }\n",
              "\n",
              "    .dataframe thead th {\n",
              "        text-align: right;\n",
              "    }\n",
              "</style>\n",
              "<table border=\"1\" class=\"dataframe\">\n",
              "  <thead>\n",
              "    <tr style=\"text-align: right;\">\n",
              "      <th></th>\n",
              "      <th>0</th>\n",
              "      <th>1</th>\n",
              "      <th>2</th>\n",
              "      <th>3</th>\n",
              "      <th>4</th>\n",
              "      <th>5</th>\n",
              "      <th>6</th>\n",
              "      <th>7</th>\n",
              "      <th>8</th>\n",
              "      <th>9</th>\n",
              "      <th>10</th>\n",
              "      <th>11</th>\n",
              "      <th>12</th>\n",
              "      <th>13</th>\n",
              "      <th>14</th>\n",
              "    </tr>\n",
              "  </thead>\n",
              "  <tbody>\n",
              "    <tr>\n",
              "      <th>0</th>\n",
              "      <td>39</td>\n",
              "      <td>State-gov</td>\n",
              "      <td>77516</td>\n",
              "      <td>Bachelors</td>\n",
              "      <td>13</td>\n",
              "      <td>Never-married</td>\n",
              "      <td>Adm-clerical</td>\n",
              "      <td>Not-in-family</td>\n",
              "      <td>White</td>\n",
              "      <td>Male</td>\n",
              "      <td>2174</td>\n",
              "      <td>0</td>\n",
              "      <td>40</td>\n",
              "      <td>United-States</td>\n",
              "      <td>&lt;=50K</td>\n",
              "    </tr>\n",
              "    <tr>\n",
              "      <th>1</th>\n",
              "      <td>50</td>\n",
              "      <td>Self-emp-not-inc</td>\n",
              "      <td>83311</td>\n",
              "      <td>Bachelors</td>\n",
              "      <td>13</td>\n",
              "      <td>Married-civ-spouse</td>\n",
              "      <td>Exec-managerial</td>\n",
              "      <td>Husband</td>\n",
              "      <td>White</td>\n",
              "      <td>Male</td>\n",
              "      <td>0</td>\n",
              "      <td>0</td>\n",
              "      <td>13</td>\n",
              "      <td>United-States</td>\n",
              "      <td>&lt;=50K</td>\n",
              "    </tr>\n",
              "    <tr>\n",
              "      <th>2</th>\n",
              "      <td>38</td>\n",
              "      <td>Private</td>\n",
              "      <td>215646</td>\n",
              "      <td>HS-grad</td>\n",
              "      <td>9</td>\n",
              "      <td>Divorced</td>\n",
              "      <td>Handlers-cleaners</td>\n",
              "      <td>Not-in-family</td>\n",
              "      <td>White</td>\n",
              "      <td>Male</td>\n",
              "      <td>0</td>\n",
              "      <td>0</td>\n",
              "      <td>40</td>\n",
              "      <td>United-States</td>\n",
              "      <td>&lt;=50K</td>\n",
              "    </tr>\n",
              "    <tr>\n",
              "      <th>3</th>\n",
              "      <td>53</td>\n",
              "      <td>Private</td>\n",
              "      <td>234721</td>\n",
              "      <td>11th</td>\n",
              "      <td>7</td>\n",
              "      <td>Married-civ-spouse</td>\n",
              "      <td>Handlers-cleaners</td>\n",
              "      <td>Husband</td>\n",
              "      <td>Black</td>\n",
              "      <td>Male</td>\n",
              "      <td>0</td>\n",
              "      <td>0</td>\n",
              "      <td>40</td>\n",
              "      <td>United-States</td>\n",
              "      <td>&lt;=50K</td>\n",
              "    </tr>\n",
              "    <tr>\n",
              "      <th>4</th>\n",
              "      <td>28</td>\n",
              "      <td>Private</td>\n",
              "      <td>338409</td>\n",
              "      <td>Bachelors</td>\n",
              "      <td>13</td>\n",
              "      <td>Married-civ-spouse</td>\n",
              "      <td>Prof-specialty</td>\n",
              "      <td>Wife</td>\n",
              "      <td>Black</td>\n",
              "      <td>Female</td>\n",
              "      <td>0</td>\n",
              "      <td>0</td>\n",
              "      <td>40</td>\n",
              "      <td>Cuba</td>\n",
              "      <td>&lt;=50K</td>\n",
              "    </tr>\n",
              "  </tbody>\n",
              "</table>\n",
              "</div>\n",
              "      <button class=\"colab-df-convert\" onclick=\"convertToInteractive('df-4c565237-e196-484d-bb24-8500af640cfe')\"\n",
              "              title=\"Convert this dataframe to an interactive table.\"\n",
              "              style=\"display:none;\">\n",
              "        \n",
              "  <svg xmlns=\"http://www.w3.org/2000/svg\" height=\"24px\"viewBox=\"0 0 24 24\"\n",
              "       width=\"24px\">\n",
              "    <path d=\"M0 0h24v24H0V0z\" fill=\"none\"/>\n",
              "    <path d=\"M18.56 5.44l.94 2.06.94-2.06 2.06-.94-2.06-.94-.94-2.06-.94 2.06-2.06.94zm-11 1L8.5 8.5l.94-2.06 2.06-.94-2.06-.94L8.5 2.5l-.94 2.06-2.06.94zm10 10l.94 2.06.94-2.06 2.06-.94-2.06-.94-.94-2.06-.94 2.06-2.06.94z\"/><path d=\"M17.41 7.96l-1.37-1.37c-.4-.4-.92-.59-1.43-.59-.52 0-1.04.2-1.43.59L10.3 9.45l-7.72 7.72c-.78.78-.78 2.05 0 2.83L4 21.41c.39.39.9.59 1.41.59.51 0 1.02-.2 1.41-.59l7.78-7.78 2.81-2.81c.8-.78.8-2.07 0-2.86zM5.41 20L4 18.59l7.72-7.72 1.47 1.35L5.41 20z\"/>\n",
              "  </svg>\n",
              "      </button>\n",
              "      \n",
              "  <style>\n",
              "    .colab-df-container {\n",
              "      display:flex;\n",
              "      flex-wrap:wrap;\n",
              "      gap: 12px;\n",
              "    }\n",
              "\n",
              "    .colab-df-convert {\n",
              "      background-color: #E8F0FE;\n",
              "      border: none;\n",
              "      border-radius: 50%;\n",
              "      cursor: pointer;\n",
              "      display: none;\n",
              "      fill: #1967D2;\n",
              "      height: 32px;\n",
              "      padding: 0 0 0 0;\n",
              "      width: 32px;\n",
              "    }\n",
              "\n",
              "    .colab-df-convert:hover {\n",
              "      background-color: #E2EBFA;\n",
              "      box-shadow: 0px 1px 2px rgba(60, 64, 67, 0.3), 0px 1px 3px 1px rgba(60, 64, 67, 0.15);\n",
              "      fill: #174EA6;\n",
              "    }\n",
              "\n",
              "    [theme=dark] .colab-df-convert {\n",
              "      background-color: #3B4455;\n",
              "      fill: #D2E3FC;\n",
              "    }\n",
              "\n",
              "    [theme=dark] .colab-df-convert:hover {\n",
              "      background-color: #434B5C;\n",
              "      box-shadow: 0px 1px 3px 1px rgba(0, 0, 0, 0.15);\n",
              "      filter: drop-shadow(0px 1px 2px rgba(0, 0, 0, 0.3));\n",
              "      fill: #FFFFFF;\n",
              "    }\n",
              "  </style>\n",
              "\n",
              "      <script>\n",
              "        const buttonEl =\n",
              "          document.querySelector('#df-4c565237-e196-484d-bb24-8500af640cfe button.colab-df-convert');\n",
              "        buttonEl.style.display =\n",
              "          google.colab.kernel.accessAllowed ? 'block' : 'none';\n",
              "\n",
              "        async function convertToInteractive(key) {\n",
              "          const element = document.querySelector('#df-4c565237-e196-484d-bb24-8500af640cfe');\n",
              "          const dataTable =\n",
              "            await google.colab.kernel.invokeFunction('convertToInteractive',\n",
              "                                                     [key], {});\n",
              "          if (!dataTable) return;\n",
              "\n",
              "          const docLinkHtml = 'Like what you see? Visit the ' +\n",
              "            '<a target=\"_blank\" href=https://colab.research.google.com/notebooks/data_table.ipynb>data table notebook</a>'\n",
              "            + ' to learn more about interactive tables.';\n",
              "          element.innerHTML = '';\n",
              "          dataTable['output_type'] = 'display_data';\n",
              "          await google.colab.output.renderOutput(dataTable, element);\n",
              "          const docLink = document.createElement('div');\n",
              "          docLink.innerHTML = docLinkHtml;\n",
              "          element.appendChild(docLink);\n",
              "        }\n",
              "      </script>\n",
              "    </div>\n",
              "  </div>\n",
              "  "
            ]
          },
          "metadata": {},
          "execution_count": 9
        }
      ],
      "source": [
        "df = pd.read_table(\"adult100k.txt\", sep = \",\", header = None)\n",
        "df.head()"
      ]
    },
    {
      "cell_type": "code",
      "execution_count": 10,
      "id": "-w_C2zI-Fj2u",
      "metadata": {
        "colab": {
          "base_uri": "https://localhost:8080/",
          "height": 392
        },
        "id": "-w_C2zI-Fj2u",
        "outputId": "e8690325-51fe-40ba-8e69-be0b059a93d2"
      },
      "outputs": [
        {
          "output_type": "stream",
          "name": "stderr",
          "text": [
            "/usr/local/lib/python3.9/dist-packages/ipykernel/ipkernel.py:283: DeprecationWarning: `should_run_async` will not call `transform_cell` automatically in the future. Please pass the result to `transformed_cell` argument and any exception that happen during thetransform in `preprocessing_exc_tuple` in IPython 7.17 and above.\n",
            "  and should_run_async(code)\n"
          ]
        },
        {
          "output_type": "execute_result",
          "data": {
            "text/plain": [
              "   age         workclass  fnlwgt  education  education_num  \\\n",
              "0   39         State-gov   77516  Bachelors             13   \n",
              "1   50  Self-emp-not-inc   83311  Bachelors             13   \n",
              "2   38           Private  215646    HS-grad              9   \n",
              "3   53           Private  234721       11th              7   \n",
              "4   28           Private  338409  Bachelors             13   \n",
              "\n",
              "       marital_status         occupation   relationship   race     sex  \\\n",
              "0       Never-married       Adm-clerical  Not-in-family  White    Male   \n",
              "1  Married-civ-spouse    Exec-managerial        Husband  White    Male   \n",
              "2            Divorced  Handlers-cleaners  Not-in-family  White    Male   \n",
              "3  Married-civ-spouse  Handlers-cleaners        Husband  Black    Male   \n",
              "4  Married-civ-spouse     Prof-specialty           Wife  Black  Female   \n",
              "\n",
              "   capital_gain  capital_loss  hours_per_week native_country income  \n",
              "0          2174             0              40  United-States  <=50K  \n",
              "1             0             0              13  United-States  <=50K  \n",
              "2             0             0              40  United-States  <=50K  \n",
              "3             0             0              40  United-States  <=50K  \n",
              "4             0             0              40           Cuba  <=50K  "
            ],
            "text/html": [
              "\n",
              "  <div id=\"df-aaf5e8fc-007f-491a-bb4c-2be95c955944\">\n",
              "    <div class=\"colab-df-container\">\n",
              "      <div>\n",
              "<style scoped>\n",
              "    .dataframe tbody tr th:only-of-type {\n",
              "        vertical-align: middle;\n",
              "    }\n",
              "\n",
              "    .dataframe tbody tr th {\n",
              "        vertical-align: top;\n",
              "    }\n",
              "\n",
              "    .dataframe thead th {\n",
              "        text-align: right;\n",
              "    }\n",
              "</style>\n",
              "<table border=\"1\" class=\"dataframe\">\n",
              "  <thead>\n",
              "    <tr style=\"text-align: right;\">\n",
              "      <th></th>\n",
              "      <th>age</th>\n",
              "      <th>workclass</th>\n",
              "      <th>fnlwgt</th>\n",
              "      <th>education</th>\n",
              "      <th>education_num</th>\n",
              "      <th>marital_status</th>\n",
              "      <th>occupation</th>\n",
              "      <th>relationship</th>\n",
              "      <th>race</th>\n",
              "      <th>sex</th>\n",
              "      <th>capital_gain</th>\n",
              "      <th>capital_loss</th>\n",
              "      <th>hours_per_week</th>\n",
              "      <th>native_country</th>\n",
              "      <th>income</th>\n",
              "    </tr>\n",
              "  </thead>\n",
              "  <tbody>\n",
              "    <tr>\n",
              "      <th>0</th>\n",
              "      <td>39</td>\n",
              "      <td>State-gov</td>\n",
              "      <td>77516</td>\n",
              "      <td>Bachelors</td>\n",
              "      <td>13</td>\n",
              "      <td>Never-married</td>\n",
              "      <td>Adm-clerical</td>\n",
              "      <td>Not-in-family</td>\n",
              "      <td>White</td>\n",
              "      <td>Male</td>\n",
              "      <td>2174</td>\n",
              "      <td>0</td>\n",
              "      <td>40</td>\n",
              "      <td>United-States</td>\n",
              "      <td>&lt;=50K</td>\n",
              "    </tr>\n",
              "    <tr>\n",
              "      <th>1</th>\n",
              "      <td>50</td>\n",
              "      <td>Self-emp-not-inc</td>\n",
              "      <td>83311</td>\n",
              "      <td>Bachelors</td>\n",
              "      <td>13</td>\n",
              "      <td>Married-civ-spouse</td>\n",
              "      <td>Exec-managerial</td>\n",
              "      <td>Husband</td>\n",
              "      <td>White</td>\n",
              "      <td>Male</td>\n",
              "      <td>0</td>\n",
              "      <td>0</td>\n",
              "      <td>13</td>\n",
              "      <td>United-States</td>\n",
              "      <td>&lt;=50K</td>\n",
              "    </tr>\n",
              "    <tr>\n",
              "      <th>2</th>\n",
              "      <td>38</td>\n",
              "      <td>Private</td>\n",
              "      <td>215646</td>\n",
              "      <td>HS-grad</td>\n",
              "      <td>9</td>\n",
              "      <td>Divorced</td>\n",
              "      <td>Handlers-cleaners</td>\n",
              "      <td>Not-in-family</td>\n",
              "      <td>White</td>\n",
              "      <td>Male</td>\n",
              "      <td>0</td>\n",
              "      <td>0</td>\n",
              "      <td>40</td>\n",
              "      <td>United-States</td>\n",
              "      <td>&lt;=50K</td>\n",
              "    </tr>\n",
              "    <tr>\n",
              "      <th>3</th>\n",
              "      <td>53</td>\n",
              "      <td>Private</td>\n",
              "      <td>234721</td>\n",
              "      <td>11th</td>\n",
              "      <td>7</td>\n",
              "      <td>Married-civ-spouse</td>\n",
              "      <td>Handlers-cleaners</td>\n",
              "      <td>Husband</td>\n",
              "      <td>Black</td>\n",
              "      <td>Male</td>\n",
              "      <td>0</td>\n",
              "      <td>0</td>\n",
              "      <td>40</td>\n",
              "      <td>United-States</td>\n",
              "      <td>&lt;=50K</td>\n",
              "    </tr>\n",
              "    <tr>\n",
              "      <th>4</th>\n",
              "      <td>28</td>\n",
              "      <td>Private</td>\n",
              "      <td>338409</td>\n",
              "      <td>Bachelors</td>\n",
              "      <td>13</td>\n",
              "      <td>Married-civ-spouse</td>\n",
              "      <td>Prof-specialty</td>\n",
              "      <td>Wife</td>\n",
              "      <td>Black</td>\n",
              "      <td>Female</td>\n",
              "      <td>0</td>\n",
              "      <td>0</td>\n",
              "      <td>40</td>\n",
              "      <td>Cuba</td>\n",
              "      <td>&lt;=50K</td>\n",
              "    </tr>\n",
              "  </tbody>\n",
              "</table>\n",
              "</div>\n",
              "      <button class=\"colab-df-convert\" onclick=\"convertToInteractive('df-aaf5e8fc-007f-491a-bb4c-2be95c955944')\"\n",
              "              title=\"Convert this dataframe to an interactive table.\"\n",
              "              style=\"display:none;\">\n",
              "        \n",
              "  <svg xmlns=\"http://www.w3.org/2000/svg\" height=\"24px\"viewBox=\"0 0 24 24\"\n",
              "       width=\"24px\">\n",
              "    <path d=\"M0 0h24v24H0V0z\" fill=\"none\"/>\n",
              "    <path d=\"M18.56 5.44l.94 2.06.94-2.06 2.06-.94-2.06-.94-.94-2.06-.94 2.06-2.06.94zm-11 1L8.5 8.5l.94-2.06 2.06-.94-2.06-.94L8.5 2.5l-.94 2.06-2.06.94zm10 10l.94 2.06.94-2.06 2.06-.94-2.06-.94-.94-2.06-.94 2.06-2.06.94z\"/><path d=\"M17.41 7.96l-1.37-1.37c-.4-.4-.92-.59-1.43-.59-.52 0-1.04.2-1.43.59L10.3 9.45l-7.72 7.72c-.78.78-.78 2.05 0 2.83L4 21.41c.39.39.9.59 1.41.59.51 0 1.02-.2 1.41-.59l7.78-7.78 2.81-2.81c.8-.78.8-2.07 0-2.86zM5.41 20L4 18.59l7.72-7.72 1.47 1.35L5.41 20z\"/>\n",
              "  </svg>\n",
              "      </button>\n",
              "      \n",
              "  <style>\n",
              "    .colab-df-container {\n",
              "      display:flex;\n",
              "      flex-wrap:wrap;\n",
              "      gap: 12px;\n",
              "    }\n",
              "\n",
              "    .colab-df-convert {\n",
              "      background-color: #E8F0FE;\n",
              "      border: none;\n",
              "      border-radius: 50%;\n",
              "      cursor: pointer;\n",
              "      display: none;\n",
              "      fill: #1967D2;\n",
              "      height: 32px;\n",
              "      padding: 0 0 0 0;\n",
              "      width: 32px;\n",
              "    }\n",
              "\n",
              "    .colab-df-convert:hover {\n",
              "      background-color: #E2EBFA;\n",
              "      box-shadow: 0px 1px 2px rgba(60, 64, 67, 0.3), 0px 1px 3px 1px rgba(60, 64, 67, 0.15);\n",
              "      fill: #174EA6;\n",
              "    }\n",
              "\n",
              "    [theme=dark] .colab-df-convert {\n",
              "      background-color: #3B4455;\n",
              "      fill: #D2E3FC;\n",
              "    }\n",
              "\n",
              "    [theme=dark] .colab-df-convert:hover {\n",
              "      background-color: #434B5C;\n",
              "      box-shadow: 0px 1px 3px 1px rgba(0, 0, 0, 0.15);\n",
              "      filter: drop-shadow(0px 1px 2px rgba(0, 0, 0, 0.3));\n",
              "      fill: #FFFFFF;\n",
              "    }\n",
              "  </style>\n",
              "\n",
              "      <script>\n",
              "        const buttonEl =\n",
              "          document.querySelector('#df-aaf5e8fc-007f-491a-bb4c-2be95c955944 button.colab-df-convert');\n",
              "        buttonEl.style.display =\n",
              "          google.colab.kernel.accessAllowed ? 'block' : 'none';\n",
              "\n",
              "        async function convertToInteractive(key) {\n",
              "          const element = document.querySelector('#df-aaf5e8fc-007f-491a-bb4c-2be95c955944');\n",
              "          const dataTable =\n",
              "            await google.colab.kernel.invokeFunction('convertToInteractive',\n",
              "                                                     [key], {});\n",
              "          if (!dataTable) return;\n",
              "\n",
              "          const docLinkHtml = 'Like what you see? Visit the ' +\n",
              "            '<a target=\"_blank\" href=https://colab.research.google.com/notebooks/data_table.ipynb>data table notebook</a>'\n",
              "            + ' to learn more about interactive tables.';\n",
              "          element.innerHTML = '';\n",
              "          dataTable['output_type'] = 'display_data';\n",
              "          await google.colab.output.renderOutput(dataTable, element);\n",
              "          const docLink = document.createElement('div');\n",
              "          docLink.innerHTML = docLinkHtml;\n",
              "          element.appendChild(docLink);\n",
              "        }\n",
              "      </script>\n",
              "    </div>\n",
              "  </div>\n",
              "  "
            ]
          },
          "metadata": {},
          "execution_count": 10
        }
      ],
      "source": [
        "for i in range(len(cols)):\n",
        "    df = df.rename(columns= {i: cols[i]})\n",
        "df.head()"
      ]
    },
    {
      "cell_type": "code",
      "execution_count": 11,
      "id": "680ba872",
      "metadata": {
        "colab": {
          "base_uri": "https://localhost:8080/"
        },
        "id": "680ba872",
        "outputId": "d14b13f4-ab99-4dfe-806a-4b0fa230b459"
      },
      "outputs": [
        {
          "output_type": "stream",
          "name": "stderr",
          "text": [
            "/usr/local/lib/python3.9/dist-packages/ipykernel/ipkernel.py:283: DeprecationWarning: `should_run_async` will not call `transform_cell` automatically in the future. Please pass the result to `transformed_cell` argument and any exception that happen during thetransform in `preprocessing_exc_tuple` in IPython 7.17 and above.\n",
            "  and should_run_async(code)\n"
          ]
        }
      ],
      "source": [
        "from pandas.api.types import is_string_dtype\n",
        "from pandas.api.types import is_numeric_dtype\n",
        "from pandas.api.types import is_categorical_dtype"
      ]
    },
    {
      "cell_type": "code",
      "execution_count": 12,
      "id": "152790b0",
      "metadata": {
        "colab": {
          "base_uri": "https://localhost:8080/"
        },
        "id": "152790b0",
        "outputId": "521736d1-b805-40e9-8f1b-cac3b7207ccc"
      },
      "outputs": [
        {
          "output_type": "stream",
          "name": "stderr",
          "text": [
            "/usr/local/lib/python3.9/dist-packages/ipykernel/ipkernel.py:283: DeprecationWarning: `should_run_async` will not call `transform_cell` automatically in the future. Please pass the result to `transformed_cell` argument and any exception that happen during thetransform in `preprocessing_exc_tuple` in IPython 7.17 and above.\n",
            "  and should_run_async(code)\n"
          ]
        }
      ],
      "source": [
        "df[\"marital_relation\"] = df[\"marital_status\"] + \"_\" + df[\"relationship\"]\n",
        "df = df.drop([\"sex\",\"race\",\"education_num\", \"native_country\", \"marital_status\",\"relationship\"], axis = 1)"
      ]
    },
    {
      "cell_type": "code",
      "execution_count": 13,
      "id": "13cc594d",
      "metadata": {
        "colab": {
          "base_uri": "https://localhost:8080/"
        },
        "id": "13cc594d",
        "outputId": "350f6777-4478-4da5-d6ca-1450fb76aaa9"
      },
      "outputs": [
        {
          "output_type": "stream",
          "name": "stderr",
          "text": [
            "/usr/local/lib/python3.9/dist-packages/ipykernel/ipkernel.py:283: DeprecationWarning: `should_run_async` will not call `transform_cell` automatically in the future. Please pass the result to `transformed_cell` argument and any exception that happen during thetransform in `preprocessing_exc_tuple` in IPython 7.17 and above.\n",
            "  and should_run_async(code)\n"
          ]
        },
        {
          "output_type": "stream",
          "name": "stdout",
          "text": [
            "<class 'pandas.core.frame.DataFrame'>\n",
            "RangeIndex: 100000 entries, 0 to 99999\n",
            "Data columns (total 10 columns):\n",
            " #   Column            Non-Null Count   Dtype \n",
            "---  ------            --------------   ----- \n",
            " 0   age               100000 non-null  int64 \n",
            " 1   workclass         100000 non-null  object\n",
            " 2   fnlwgt            100000 non-null  int64 \n",
            " 3   education         100000 non-null  object\n",
            " 4   occupation        100000 non-null  object\n",
            " 5   capital_gain      100000 non-null  int64 \n",
            " 6   capital_loss      100000 non-null  int64 \n",
            " 7   hours_per_week    100000 non-null  int64 \n",
            " 8   income            100000 non-null  object\n",
            " 9   marital_relation  100000 non-null  object\n",
            "dtypes: int64(5), object(5)\n",
            "memory usage: 7.6+ MB\n"
          ]
        }
      ],
      "source": [
        "df.info()"
      ]
    },
    {
      "cell_type": "code",
      "execution_count": 14,
      "id": "b731f3c7",
      "metadata": {
        "colab": {
          "base_uri": "https://localhost:8080/"
        },
        "id": "b731f3c7",
        "outputId": "c72f82c2-8796-4fdb-8929-da0c51b979fe"
      },
      "outputs": [
        {
          "output_type": "stream",
          "name": "stderr",
          "text": [
            "/usr/local/lib/python3.9/dist-packages/ipykernel/ipkernel.py:283: DeprecationWarning: `should_run_async` will not call `transform_cell` automatically in the future. Please pass the result to `transformed_cell` argument and any exception that happen during thetransform in `preprocessing_exc_tuple` in IPython 7.17 and above.\n",
            "  and should_run_async(code)\n"
          ]
        }
      ],
      "source": [
        "df[\"income\"] = df[\"income\"].replace([\"<=50K\",\">50K\"], [0,1])"
      ]
    },
    {
      "cell_type": "code",
      "execution_count": 15,
      "id": "8ea682a2",
      "metadata": {
        "colab": {
          "base_uri": "https://localhost:8080/"
        },
        "id": "8ea682a2",
        "outputId": "1fd8d32e-ae2f-41b4-9f11-db6a64c99dd0"
      },
      "outputs": [
        {
          "output_type": "stream",
          "name": "stderr",
          "text": [
            "/usr/local/lib/python3.9/dist-packages/ipykernel/ipkernel.py:283: DeprecationWarning: `should_run_async` will not call `transform_cell` automatically in the future. Please pass the result to `transformed_cell` argument and any exception that happen during thetransform in `preprocessing_exc_tuple` in IPython 7.17 and above.\n",
            "  and should_run_async(code)\n"
          ]
        }
      ],
      "source": [
        "train, test = train_test_split(df, random_state = 10, train_size = 0.8, stratify = df[\"income\"])"
      ]
    },
    {
      "cell_type": "code",
      "execution_count": 16,
      "id": "0c0c83d9",
      "metadata": {
        "colab": {
          "base_uri": "https://localhost:8080/"
        },
        "id": "0c0c83d9",
        "outputId": "5c9a4cc1-6519-42a7-8678-27d96365037c"
      },
      "outputs": [
        {
          "output_type": "stream",
          "name": "stderr",
          "text": [
            "/usr/local/lib/python3.9/dist-packages/ipykernel/ipkernel.py:283: DeprecationWarning: `should_run_async` will not call `transform_cell` automatically in the future. Please pass the result to `transformed_cell` argument and any exception that happen during thetransform in `preprocessing_exc_tuple` in IPython 7.17 and above.\n",
            "  and should_run_async(code)\n"
          ]
        }
      ],
      "source": [
        "train_0 = train[train[\"income\"] == 0]\n",
        "train_0 = train_0.drop_duplicates()\n",
        "train_1 = train[train[\"income\"] == 1]"
      ]
    },
    {
      "cell_type": "code",
      "execution_count": 17,
      "id": "c2e3e27e",
      "metadata": {
        "colab": {
          "base_uri": "https://localhost:8080/"
        },
        "id": "c2e3e27e",
        "outputId": "a07817bc-f801-41ae-da10-46baae73636b"
      },
      "outputs": [
        {
          "output_type": "stream",
          "name": "stderr",
          "text": [
            "/usr/local/lib/python3.9/dist-packages/ipykernel/ipkernel.py:283: DeprecationWarning: `should_run_async` will not call `transform_cell` automatically in the future. Please pass the result to `transformed_cell` argument and any exception that happen during thetransform in `preprocessing_exc_tuple` in IPython 7.17 and above.\n",
            "  and should_run_async(code)\n"
          ]
        }
      ],
      "source": [
        "train_new = pd.concat([train_0, train_1], axis = 0)"
      ]
    },
    {
      "cell_type": "code",
      "execution_count": 18,
      "id": "8ead18e8",
      "metadata": {
        "colab": {
          "base_uri": "https://localhost:8080/"
        },
        "id": "8ead18e8",
        "outputId": "c1e53bf7-60af-42e2-b499-196452c88dfb"
      },
      "outputs": [
        {
          "output_type": "stream",
          "name": "stderr",
          "text": [
            "/usr/local/lib/python3.9/dist-packages/ipykernel/ipkernel.py:283: DeprecationWarning: `should_run_async` will not call `transform_cell` automatically in the future. Please pass the result to `transformed_cell` argument and any exception that happen during thetransform in `preprocessing_exc_tuple` in IPython 7.17 and above.\n",
            "  and should_run_async(code)\n"
          ]
        }
      ],
      "source": [
        "x_train, y_train = train_new.drop(\"income\", axis = 1), train_new[\"income\"]\n",
        "x_test, y_test = test.drop(\"income\", axis = 1), test[\"income\"]"
      ]
    },
    {
      "cell_type": "markdown",
      "id": "gfaOWl52m641",
      "metadata": {
        "id": "gfaOWl52m641"
      },
      "source": [
        "### Feature Engineering"
      ]
    },
    {
      "cell_type": "code",
      "execution_count": 19,
      "id": "14947eaa",
      "metadata": {
        "colab": {
          "base_uri": "https://localhost:8080/"
        },
        "id": "14947eaa",
        "outputId": "53eb23fd-1b93-478e-d0bd-f494818916a0"
      },
      "outputs": [
        {
          "output_type": "stream",
          "name": "stderr",
          "text": [
            "/usr/local/lib/python3.9/dist-packages/ipykernel/ipkernel.py:283: DeprecationWarning: `should_run_async` will not call `transform_cell` automatically in the future. Please pass the result to `transformed_cell` argument and any exception that happen during thetransform in `preprocessing_exc_tuple` in IPython 7.17 and above.\n",
            "  and should_run_async(code)\n"
          ]
        }
      ],
      "source": [
        "num = []\n",
        "cat = []\n",
        "stri = []\n",
        "columns = list(x_train.columns)\n",
        "for col in columns:\n",
        "    if is_numeric_dtype(x_train[col]):\n",
        "        num.append(col)\n",
        "    elif is_string_dtype(x_train[col]):\n",
        "        stri.append(col)\n",
        "    elif is_categorical_dtype(x_train[col]):\n",
        "        cat.append(col)"
      ]
    },
    {
      "cell_type": "code",
      "execution_count": 20,
      "id": "b1ff4ac2",
      "metadata": {
        "colab": {
          "base_uri": "https://localhost:8080/"
        },
        "id": "b1ff4ac2",
        "outputId": "b2988962-e808-41f5-c717-c55e56c5a2c5"
      },
      "outputs": [
        {
          "output_type": "stream",
          "name": "stderr",
          "text": [
            "/usr/local/lib/python3.9/dist-packages/ipykernel/ipkernel.py:283: DeprecationWarning: `should_run_async` will not call `transform_cell` automatically in the future. Please pass the result to `transformed_cell` argument and any exception that happen during thetransform in `preprocessing_exc_tuple` in IPython 7.17 and above.\n",
            "  and should_run_async(code)\n"
          ]
        },
        {
          "output_type": "execute_result",
          "data": {
            "text/plain": [
              "(['age', 'fnlwgt', 'capital_gain', 'capital_loss', 'hours_per_week'],\n",
              " ['workclass', 'education', 'occupation', 'marital_relation'],\n",
              " [])"
            ]
          },
          "metadata": {},
          "execution_count": 20
        }
      ],
      "source": [
        "num, stri, cat"
      ]
    },
    {
      "cell_type": "code",
      "execution_count": 21,
      "id": "281c0b68",
      "metadata": {
        "colab": {
          "base_uri": "https://localhost:8080/"
        },
        "id": "281c0b68",
        "outputId": "957f0b83-8605-40ce-c04f-ffab4649910e"
      },
      "outputs": [
        {
          "output_type": "stream",
          "name": "stderr",
          "text": [
            "/usr/local/lib/python3.9/dist-packages/ipykernel/ipkernel.py:283: DeprecationWarning: `should_run_async` will not call `transform_cell` automatically in the future. Please pass the result to `transformed_cell` argument and any exception that happen during thetransform in `preprocessing_exc_tuple` in IPython 7.17 and above.\n",
            "  and should_run_async(code)\n"
          ]
        },
        {
          "output_type": "execute_result",
          "data": {
            "text/plain": [
              "array(['Bachelors', 'HS-grad', '11th', 'Masters', '9th', 'Some-college',\n",
              "       'Assoc-acdm', 'Assoc-voc', '7th-8th', 'Doctorate', 'Prof-school',\n",
              "       '5th-6th', '10th', '1st-4th', 'Preschool', '12th'], dtype=object)"
            ]
          },
          "metadata": {},
          "execution_count": 21
        }
      ],
      "source": [
        "df[\"education\"].unique()"
      ]
    },
    {
      "cell_type": "code",
      "execution_count": 22,
      "id": "qFnlR1fhYbrN",
      "metadata": {
        "colab": {
          "base_uri": "https://localhost:8080/"
        },
        "id": "qFnlR1fhYbrN",
        "outputId": "c2467429-73b0-4c09-86b7-3b5cbc108a47"
      },
      "outputs": [
        {
          "output_type": "stream",
          "name": "stderr",
          "text": [
            "/usr/local/lib/python3.9/dist-packages/ipykernel/ipkernel.py:283: DeprecationWarning: `should_run_async` will not call `transform_cell` automatically in the future. Please pass the result to `transformed_cell` argument and any exception that happen during thetransform in `preprocessing_exc_tuple` in IPython 7.17 and above.\n",
            "  and should_run_async(code)\n"
          ]
        }
      ],
      "source": [
        "educ = [\"education\"]"
      ]
    },
    {
      "cell_type": "code",
      "execution_count": 23,
      "id": "d8e738a0",
      "metadata": {
        "colab": {
          "base_uri": "https://localhost:8080/"
        },
        "id": "d8e738a0",
        "outputId": "e47c77e4-3334-48c5-fa59-7d715f228163"
      },
      "outputs": [
        {
          "output_type": "stream",
          "name": "stderr",
          "text": [
            "/usr/local/lib/python3.9/dist-packages/ipykernel/ipkernel.py:283: DeprecationWarning: `should_run_async` will not call `transform_cell` automatically in the future. Please pass the result to `transformed_cell` argument and any exception that happen during thetransform in `preprocessing_exc_tuple` in IPython 7.17 and above.\n",
            "  and should_run_async(code)\n"
          ]
        },
        {
          "output_type": "execute_result",
          "data": {
            "text/plain": [
              "(['age', 'fnlwgt', 'capital_gain', 'capital_loss', 'hours_per_week'],\n",
              " ['workclass', 'occupation', 'marital_relation'],\n",
              " [])"
            ]
          },
          "metadata": {},
          "execution_count": 23
        }
      ],
      "source": [
        "stri.remove(\"education\")\n",
        "num, stri, cat"
      ]
    },
    {
      "cell_type": "code",
      "execution_count": 24,
      "id": "51a8bbfb",
      "metadata": {
        "colab": {
          "base_uri": "https://localhost:8080/"
        },
        "id": "51a8bbfb",
        "outputId": "64930dfe-21a2-41dd-aec9-678b49e0bf46"
      },
      "outputs": [
        {
          "output_type": "stream",
          "name": "stderr",
          "text": [
            "/usr/local/lib/python3.9/dist-packages/ipykernel/ipkernel.py:283: DeprecationWarning: `should_run_async` will not call `transform_cell` automatically in the future. Please pass the result to `transformed_cell` argument and any exception that happen during thetransform in `preprocessing_exc_tuple` in IPython 7.17 and above.\n",
            "  and should_run_async(code)\n"
          ]
        }
      ],
      "source": [
        "min_max = MinMaxScaler()\n",
        "ohe = OneHotEncoder()\n",
        "ordi = OrdinalEncoder(categories = [[\"Preschool\", \"1st-4th\",\"5th-6th\", \"7th-8th\", \"9th\", \"10th\", \n",
        "                                            \"11th\", \"12th\", \"HS-grad\", \"Some-college\",\n",
        "                                            \"Assoc-voc\",\"Assoc-acdm\",\"Bachelors\", \"Masters\",\"Prof-school\",\"Doctorate\"]])"
      ]
    },
    {
      "cell_type": "code",
      "execution_count": 25,
      "id": "4f296f85",
      "metadata": {
        "colab": {
          "base_uri": "https://localhost:8080/"
        },
        "id": "4f296f85",
        "outputId": "4f8762a8-f523-4599-df2a-aade36304b00"
      },
      "outputs": [
        {
          "output_type": "stream",
          "name": "stderr",
          "text": [
            "/usr/local/lib/python3.9/dist-packages/ipykernel/ipkernel.py:283: DeprecationWarning: `should_run_async` will not call `transform_cell` automatically in the future. Please pass the result to `transformed_cell` argument and any exception that happen during thetransform in `preprocessing_exc_tuple` in IPython 7.17 and above.\n",
            "  and should_run_async(code)\n"
          ]
        }
      ],
      "source": [
        "def column_transform(df, columns):\n",
        "    new_df = df.copy()\n",
        "    for col in columns:\n",
        "        # num ~ [0,1]\n",
        "        if col in num:\n",
        "            ct = ColumnTransformer([(\"min_max\", min_max, [col])])\n",
        "            new_df[col + \"_scaled\"] = ct.fit_transform(df)\n",
        "            continue\n",
        "        # stri ~ {0,1}    \n",
        "        elif col in stri:\n",
        "            elements = sorted(df[col].unique())\n",
        "            ct2 = ColumnTransformer([(\"ohe\", ohe, [col])])\n",
        "            if len(elements) > 2:\n",
        "                x = ct2.fit_transform(df).toarray()\n",
        "            elif len(elements) <= 2:\n",
        "                x = np.array(ct2.fit_transform(df))\n",
        "            for i in range(len(elements)):\n",
        "                new_df[col + \"_\" + elements[i].lower()] = x[:,i]\n",
        "        # depends on ord class\n",
        "        elif col in educ:\n",
        "            ct3 = ColumnTransformer([(\"ord\", ordi, [col])])\n",
        "            x = ct3.fit_transform(df)\n",
        "            new_df[col + \"_new\"] = x\n",
        "            continue\n",
        "    new_df = new_df.drop(columns, axis = 1)\n",
        "    return new_df"
      ]
    },
    {
      "cell_type": "code",
      "execution_count": 26,
      "id": "146a7d14",
      "metadata": {
        "colab": {
          "base_uri": "https://localhost:8080/"
        },
        "id": "146a7d14",
        "outputId": "2ddd831b-08c5-4117-eb98-970f7c9efa92"
      },
      "outputs": [
        {
          "output_type": "stream",
          "name": "stderr",
          "text": [
            "/usr/local/lib/python3.9/dist-packages/ipykernel/ipkernel.py:283: DeprecationWarning: `should_run_async` will not call `transform_cell` automatically in the future. Please pass the result to `transformed_cell` argument and any exception that happen during thetransform in `preprocessing_exc_tuple` in IPython 7.17 and above.\n",
            "  and should_run_async(code)\n"
          ]
        }
      ],
      "source": [
        "new_train_data = column_transform(x_train, list(x_train.columns))"
      ]
    },
    {
      "cell_type": "code",
      "execution_count": 27,
      "id": "2t4axO6nRmRG",
      "metadata": {
        "colab": {
          "base_uri": "https://localhost:8080/"
        },
        "id": "2t4axO6nRmRG",
        "outputId": "a4b7c552-6918-40b5-ae0b-3f38cd31155c"
      },
      "outputs": [
        {
          "output_type": "stream",
          "name": "stderr",
          "text": [
            "/usr/local/lib/python3.9/dist-packages/ipykernel/ipkernel.py:283: DeprecationWarning: `should_run_async` will not call `transform_cell` automatically in the future. Please pass the result to `transformed_cell` argument and any exception that happen during thetransform in `preprocessing_exc_tuple` in IPython 7.17 and above.\n",
            "  and should_run_async(code)\n"
          ]
        }
      ],
      "source": [
        "new_train_data[\"income\"] = train_new[\"income\"]\n",
        "\n",
        "#new_train_data['education_new']\n",
        "# 'age', 'fnlwgt', 'capital_gain', 'capital_loss', 'hours_per_week'"
      ]
    },
    {
      "cell_type": "code",
      "execution_count": 28,
      "id": "ooTdBRQOoKRB",
      "metadata": {
        "colab": {
          "base_uri": "https://localhost:8080/"
        },
        "id": "ooTdBRQOoKRB",
        "outputId": "649ddc31-05b2-4418-a2d6-751784d0a8b8"
      },
      "outputs": [
        {
          "output_type": "stream",
          "name": "stderr",
          "text": [
            "/usr/local/lib/python3.9/dist-packages/ipykernel/ipkernel.py:283: DeprecationWarning: `should_run_async` will not call `transform_cell` automatically in the future. Please pass the result to `transformed_cell` argument and any exception that happen during thetransform in `preprocessing_exc_tuple` in IPython 7.17 and above.\n",
            "  and should_run_async(code)\n"
          ]
        }
      ],
      "source": [
        "def column_fit_transform(train, other, columns):\n",
        "    new_df = other.copy()\n",
        "    for col in columns:\n",
        "        # minmax\n",
        "        if col in num:\n",
        "            ct = ColumnTransformer([(\"min_max\", min_max, [col])])\n",
        "            ct.fit(train)\n",
        "            new_df[col + \"_scaled\"] = ct.transform(other)\n",
        "        # ohe\n",
        "        elif col in stri:\n",
        "            elements = sorted(other[col].unique())\n",
        "            ct2 = ColumnTransformer([(\"ohe\", ohe, [col])])\n",
        "            if len(elements) > 2:\n",
        "                ct2.fit(train)\n",
        "                x = ct2.transform(other).toarray()\n",
        "            elif len(elements) <= 2:\n",
        "                ct2.fit(train)\n",
        "                x = np.array(ct2.transform(other))\n",
        "            for i in range(len(elements)):\n",
        "                new_df[col + \"_\" + elements[i].lower()] = x[:,i]\n",
        "        # ord\n",
        "        elif col in educ:\n",
        "            ct3 = ColumnTransformer([(\"ord\", ordi, [col])])\n",
        "            ct3.fit(train)\n",
        "            x = ct3.transform(other)\n",
        "            new_df[col + \"_new\"] = x\n",
        "        \n",
        "    new_df = new_df.drop(columns, axis = 1)\n",
        "    return new_df"
      ]
    },
    {
      "cell_type": "code",
      "execution_count": 29,
      "id": "c3g1QERUYPYE",
      "metadata": {
        "colab": {
          "base_uri": "https://localhost:8080/",
          "height": 352
        },
        "id": "c3g1QERUYPYE",
        "outputId": "977e5a2a-c0c5-4edc-db49-d0c4838b12fe"
      },
      "outputs": [
        {
          "output_type": "stream",
          "name": "stderr",
          "text": [
            "/usr/local/lib/python3.9/dist-packages/ipykernel/ipkernel.py:283: DeprecationWarning: `should_run_async` will not call `transform_cell` automatically in the future. Please pass the result to `transformed_cell` argument and any exception that happen during thetransform in `preprocessing_exc_tuple` in IPython 7.17 and above.\n",
            "  and should_run_async(code)\n"
          ]
        },
        {
          "output_type": "execute_result",
          "data": {
            "text/plain": [
              "       age_scaled  workclass_?  workclass_federal-gov  workclass_local-gov  \\\n",
              "8493     0.438356          0.0                    0.0                  0.0   \n",
              "65084    0.767123          0.0                    0.0                  0.0   \n",
              "7537     0.109589          0.0                    0.0                  0.0   \n",
              "67022    0.082192          0.0                    0.0                  0.0   \n",
              "9650     0.712329          1.0                    0.0                  0.0   \n",
              "\n",
              "       workclass_never-worked  workclass_private  workclass_self-emp-inc  \\\n",
              "8493                      0.0                1.0                     0.0   \n",
              "65084                     0.0                0.0                     0.0   \n",
              "7537                      0.0                1.0                     0.0   \n",
              "67022                     0.0                0.0                     1.0   \n",
              "9650                      0.0                0.0                     0.0   \n",
              "\n",
              "       workclass_self-emp-not-inc  workclass_state-gov  workclass_without-pay  \\\n",
              "8493                          0.0                  0.0                    0.0   \n",
              "65084                         1.0                  0.0                    0.0   \n",
              "7537                          0.0                  0.0                    0.0   \n",
              "67022                         0.0                  0.0                    0.0   \n",
              "9650                          0.0                  0.0                    0.0   \n",
              "\n",
              "       ...  marital_relation_separated_other-relative  \\\n",
              "8493   ...                                        0.0   \n",
              "65084  ...                                        0.0   \n",
              "7537   ...                                        0.0   \n",
              "67022  ...                                        0.0   \n",
              "9650   ...                                        0.0   \n",
              "\n",
              "       marital_relation_separated_own-child  \\\n",
              "8493                                    0.0   \n",
              "65084                                   0.0   \n",
              "7537                                    0.0   \n",
              "67022                                   0.0   \n",
              "9650                                    0.0   \n",
              "\n",
              "       marital_relation_separated_unmarried  marital_relation_separated_wife  \\\n",
              "8493                                    0.0                              0.0   \n",
              "65084                                   0.0                              0.0   \n",
              "7537                                    0.0                              0.0   \n",
              "67022                                   0.0                              0.0   \n",
              "9650                                    0.0                              0.0   \n",
              "\n",
              "       marital_relation_widowed_husband  \\\n",
              "8493                                0.0   \n",
              "65084                               0.0   \n",
              "7537                                0.0   \n",
              "67022                               1.0   \n",
              "9650                                0.0   \n",
              "\n",
              "       marital_relation_widowed_not-in-family  \\\n",
              "8493                                      0.0   \n",
              "65084                                     0.0   \n",
              "7537                                      0.0   \n",
              "67022                                     0.0   \n",
              "9650                                      0.0   \n",
              "\n",
              "       marital_relation_widowed_other-relative  \\\n",
              "8493                                       0.0   \n",
              "65084                                      0.0   \n",
              "7537                                       0.0   \n",
              "67022                                      0.0   \n",
              "9650                                       0.0   \n",
              "\n",
              "       marital_relation_widowed_own-child  marital_relation_widowed_unmarried  \\\n",
              "8493                                  0.0                                 0.0   \n",
              "65084                                 0.0                                 0.0   \n",
              "7537                                  0.0                                 0.0   \n",
              "67022                                 0.0                                 0.0   \n",
              "9650                                  0.0                                 0.0   \n",
              "\n",
              "       marital_relation_widowed_wife  \n",
              "8493                             0.0  \n",
              "65084                            0.0  \n",
              "7537                             0.0  \n",
              "67022                            0.0  \n",
              "9650                             0.0  \n",
              "\n",
              "[5 rows x 72 columns]"
            ],
            "text/html": [
              "\n",
              "  <div id=\"df-8073461b-36f2-4753-b959-2203aff49920\">\n",
              "    <div class=\"colab-df-container\">\n",
              "      <div>\n",
              "<style scoped>\n",
              "    .dataframe tbody tr th:only-of-type {\n",
              "        vertical-align: middle;\n",
              "    }\n",
              "\n",
              "    .dataframe tbody tr th {\n",
              "        vertical-align: top;\n",
              "    }\n",
              "\n",
              "    .dataframe thead th {\n",
              "        text-align: right;\n",
              "    }\n",
              "</style>\n",
              "<table border=\"1\" class=\"dataframe\">\n",
              "  <thead>\n",
              "    <tr style=\"text-align: right;\">\n",
              "      <th></th>\n",
              "      <th>age_scaled</th>\n",
              "      <th>workclass_?</th>\n",
              "      <th>workclass_federal-gov</th>\n",
              "      <th>workclass_local-gov</th>\n",
              "      <th>workclass_never-worked</th>\n",
              "      <th>workclass_private</th>\n",
              "      <th>workclass_self-emp-inc</th>\n",
              "      <th>workclass_self-emp-not-inc</th>\n",
              "      <th>workclass_state-gov</th>\n",
              "      <th>workclass_without-pay</th>\n",
              "      <th>...</th>\n",
              "      <th>marital_relation_separated_other-relative</th>\n",
              "      <th>marital_relation_separated_own-child</th>\n",
              "      <th>marital_relation_separated_unmarried</th>\n",
              "      <th>marital_relation_separated_wife</th>\n",
              "      <th>marital_relation_widowed_husband</th>\n",
              "      <th>marital_relation_widowed_not-in-family</th>\n",
              "      <th>marital_relation_widowed_other-relative</th>\n",
              "      <th>marital_relation_widowed_own-child</th>\n",
              "      <th>marital_relation_widowed_unmarried</th>\n",
              "      <th>marital_relation_widowed_wife</th>\n",
              "    </tr>\n",
              "  </thead>\n",
              "  <tbody>\n",
              "    <tr>\n",
              "      <th>8493</th>\n",
              "      <td>0.438356</td>\n",
              "      <td>0.0</td>\n",
              "      <td>0.0</td>\n",
              "      <td>0.0</td>\n",
              "      <td>0.0</td>\n",
              "      <td>1.0</td>\n",
              "      <td>0.0</td>\n",
              "      <td>0.0</td>\n",
              "      <td>0.0</td>\n",
              "      <td>0.0</td>\n",
              "      <td>...</td>\n",
              "      <td>0.0</td>\n",
              "      <td>0.0</td>\n",
              "      <td>0.0</td>\n",
              "      <td>0.0</td>\n",
              "      <td>0.0</td>\n",
              "      <td>0.0</td>\n",
              "      <td>0.0</td>\n",
              "      <td>0.0</td>\n",
              "      <td>0.0</td>\n",
              "      <td>0.0</td>\n",
              "    </tr>\n",
              "    <tr>\n",
              "      <th>65084</th>\n",
              "      <td>0.767123</td>\n",
              "      <td>0.0</td>\n",
              "      <td>0.0</td>\n",
              "      <td>0.0</td>\n",
              "      <td>0.0</td>\n",
              "      <td>0.0</td>\n",
              "      <td>0.0</td>\n",
              "      <td>1.0</td>\n",
              "      <td>0.0</td>\n",
              "      <td>0.0</td>\n",
              "      <td>...</td>\n",
              "      <td>0.0</td>\n",
              "      <td>0.0</td>\n",
              "      <td>0.0</td>\n",
              "      <td>0.0</td>\n",
              "      <td>0.0</td>\n",
              "      <td>0.0</td>\n",
              "      <td>0.0</td>\n",
              "      <td>0.0</td>\n",
              "      <td>0.0</td>\n",
              "      <td>0.0</td>\n",
              "    </tr>\n",
              "    <tr>\n",
              "      <th>7537</th>\n",
              "      <td>0.109589</td>\n",
              "      <td>0.0</td>\n",
              "      <td>0.0</td>\n",
              "      <td>0.0</td>\n",
              "      <td>0.0</td>\n",
              "      <td>1.0</td>\n",
              "      <td>0.0</td>\n",
              "      <td>0.0</td>\n",
              "      <td>0.0</td>\n",
              "      <td>0.0</td>\n",
              "      <td>...</td>\n",
              "      <td>0.0</td>\n",
              "      <td>0.0</td>\n",
              "      <td>0.0</td>\n",
              "      <td>0.0</td>\n",
              "      <td>0.0</td>\n",
              "      <td>0.0</td>\n",
              "      <td>0.0</td>\n",
              "      <td>0.0</td>\n",
              "      <td>0.0</td>\n",
              "      <td>0.0</td>\n",
              "    </tr>\n",
              "    <tr>\n",
              "      <th>67022</th>\n",
              "      <td>0.082192</td>\n",
              "      <td>0.0</td>\n",
              "      <td>0.0</td>\n",
              "      <td>0.0</td>\n",
              "      <td>0.0</td>\n",
              "      <td>0.0</td>\n",
              "      <td>1.0</td>\n",
              "      <td>0.0</td>\n",
              "      <td>0.0</td>\n",
              "      <td>0.0</td>\n",
              "      <td>...</td>\n",
              "      <td>0.0</td>\n",
              "      <td>0.0</td>\n",
              "      <td>0.0</td>\n",
              "      <td>0.0</td>\n",
              "      <td>1.0</td>\n",
              "      <td>0.0</td>\n",
              "      <td>0.0</td>\n",
              "      <td>0.0</td>\n",
              "      <td>0.0</td>\n",
              "      <td>0.0</td>\n",
              "    </tr>\n",
              "    <tr>\n",
              "      <th>9650</th>\n",
              "      <td>0.712329</td>\n",
              "      <td>1.0</td>\n",
              "      <td>0.0</td>\n",
              "      <td>0.0</td>\n",
              "      <td>0.0</td>\n",
              "      <td>0.0</td>\n",
              "      <td>0.0</td>\n",
              "      <td>0.0</td>\n",
              "      <td>0.0</td>\n",
              "      <td>0.0</td>\n",
              "      <td>...</td>\n",
              "      <td>0.0</td>\n",
              "      <td>0.0</td>\n",
              "      <td>0.0</td>\n",
              "      <td>0.0</td>\n",
              "      <td>0.0</td>\n",
              "      <td>0.0</td>\n",
              "      <td>0.0</td>\n",
              "      <td>0.0</td>\n",
              "      <td>0.0</td>\n",
              "      <td>0.0</td>\n",
              "    </tr>\n",
              "  </tbody>\n",
              "</table>\n",
              "<p>5 rows × 72 columns</p>\n",
              "</div>\n",
              "      <button class=\"colab-df-convert\" onclick=\"convertToInteractive('df-8073461b-36f2-4753-b959-2203aff49920')\"\n",
              "              title=\"Convert this dataframe to an interactive table.\"\n",
              "              style=\"display:none;\">\n",
              "        \n",
              "  <svg xmlns=\"http://www.w3.org/2000/svg\" height=\"24px\"viewBox=\"0 0 24 24\"\n",
              "       width=\"24px\">\n",
              "    <path d=\"M0 0h24v24H0V0z\" fill=\"none\"/>\n",
              "    <path d=\"M18.56 5.44l.94 2.06.94-2.06 2.06-.94-2.06-.94-.94-2.06-.94 2.06-2.06.94zm-11 1L8.5 8.5l.94-2.06 2.06-.94-2.06-.94L8.5 2.5l-.94 2.06-2.06.94zm10 10l.94 2.06.94-2.06 2.06-.94-2.06-.94-.94-2.06-.94 2.06-2.06.94z\"/><path d=\"M17.41 7.96l-1.37-1.37c-.4-.4-.92-.59-1.43-.59-.52 0-1.04.2-1.43.59L10.3 9.45l-7.72 7.72c-.78.78-.78 2.05 0 2.83L4 21.41c.39.39.9.59 1.41.59.51 0 1.02-.2 1.41-.59l7.78-7.78 2.81-2.81c.8-.78.8-2.07 0-2.86zM5.41 20L4 18.59l7.72-7.72 1.47 1.35L5.41 20z\"/>\n",
              "  </svg>\n",
              "      </button>\n",
              "      \n",
              "  <style>\n",
              "    .colab-df-container {\n",
              "      display:flex;\n",
              "      flex-wrap:wrap;\n",
              "      gap: 12px;\n",
              "    }\n",
              "\n",
              "    .colab-df-convert {\n",
              "      background-color: #E8F0FE;\n",
              "      border: none;\n",
              "      border-radius: 50%;\n",
              "      cursor: pointer;\n",
              "      display: none;\n",
              "      fill: #1967D2;\n",
              "      height: 32px;\n",
              "      padding: 0 0 0 0;\n",
              "      width: 32px;\n",
              "    }\n",
              "\n",
              "    .colab-df-convert:hover {\n",
              "      background-color: #E2EBFA;\n",
              "      box-shadow: 0px 1px 2px rgba(60, 64, 67, 0.3), 0px 1px 3px 1px rgba(60, 64, 67, 0.15);\n",
              "      fill: #174EA6;\n",
              "    }\n",
              "\n",
              "    [theme=dark] .colab-df-convert {\n",
              "      background-color: #3B4455;\n",
              "      fill: #D2E3FC;\n",
              "    }\n",
              "\n",
              "    [theme=dark] .colab-df-convert:hover {\n",
              "      background-color: #434B5C;\n",
              "      box-shadow: 0px 1px 3px 1px rgba(0, 0, 0, 0.15);\n",
              "      filter: drop-shadow(0px 1px 2px rgba(0, 0, 0, 0.3));\n",
              "      fill: #FFFFFF;\n",
              "    }\n",
              "  </style>\n",
              "\n",
              "      <script>\n",
              "        const buttonEl =\n",
              "          document.querySelector('#df-8073461b-36f2-4753-b959-2203aff49920 button.colab-df-convert');\n",
              "        buttonEl.style.display =\n",
              "          google.colab.kernel.accessAllowed ? 'block' : 'none';\n",
              "\n",
              "        async function convertToInteractive(key) {\n",
              "          const element = document.querySelector('#df-8073461b-36f2-4753-b959-2203aff49920');\n",
              "          const dataTable =\n",
              "            await google.colab.kernel.invokeFunction('convertToInteractive',\n",
              "                                                     [key], {});\n",
              "          if (!dataTable) return;\n",
              "\n",
              "          const docLinkHtml = 'Like what you see? Visit the ' +\n",
              "            '<a target=\"_blank\" href=https://colab.research.google.com/notebooks/data_table.ipynb>data table notebook</a>'\n",
              "            + ' to learn more about interactive tables.';\n",
              "          element.innerHTML = '';\n",
              "          dataTable['output_type'] = 'display_data';\n",
              "          await google.colab.output.renderOutput(dataTable, element);\n",
              "          const docLink = document.createElement('div');\n",
              "          docLink.innerHTML = docLinkHtml;\n",
              "          element.appendChild(docLink);\n",
              "        }\n",
              "      </script>\n",
              "    </div>\n",
              "  </div>\n",
              "  "
            ]
          },
          "metadata": {},
          "execution_count": 29
        }
      ],
      "source": [
        "new_test_data = column_fit_transform(x_train, x_test, x_train.columns)\n",
        "test_col, train_col = list(new_test_data.columns), list(new_train_data.columns)\n",
        "missing = list(set(train_col).difference(set(test_col)))\n",
        "for miss in missing:\n",
        "    new_test_data[missing] = 0.0\n",
        "new_test_data = new_test_data.drop(\"income\", axis = 1)\n",
        "new_test_data.head()"
      ]
    },
    {
      "cell_type": "markdown",
      "id": "F34n9rRnnBIA",
      "metadata": {
        "id": "F34n9rRnnBIA"
      },
      "source": [
        "### Decision Tree Algorithm"
      ]
    },
    {
      "cell_type": "code",
      "execution_count": 30,
      "id": "dfbcf883",
      "metadata": {
        "colab": {
          "base_uri": "https://localhost:8080/"
        },
        "id": "dfbcf883",
        "outputId": "c8ba7f37-da1b-4840-c213-40a74b5cc556"
      },
      "outputs": [
        {
          "output_type": "stream",
          "name": "stderr",
          "text": [
            "/usr/local/lib/python3.9/dist-packages/ipykernel/ipkernel.py:283: DeprecationWarning: `should_run_async` will not call `transform_cell` automatically in the future. Please pass the result to `transformed_cell` argument and any exception that happen during thetransform in `preprocessing_exc_tuple` in IPython 7.17 and above.\n",
            "  and should_run_async(code)\n"
          ]
        }
      ],
      "source": [
        "## function for calculating entropy\n",
        "def getEntropy(counts):\n",
        "    percentages = counts/np.sum(counts)\n",
        "\n",
        "    entr = 0\n",
        "    for per in percentages:\n",
        "        if per == 0:\n",
        "            continue\n",
        "        entr = entr - (per*np.log2(per))\n",
        "    return entr"
      ]
    },
    {
      "cell_type": "code",
      "execution_count": 31,
      "id": "85c3d3f3",
      "metadata": {
        "colab": {
          "base_uri": "https://localhost:8080/"
        },
        "id": "85c3d3f3",
        "outputId": "93cde17c-4e74-44d4-f15a-3a9bd718adfd"
      },
      "outputs": [
        {
          "output_type": "stream",
          "name": "stderr",
          "text": [
            "/usr/local/lib/python3.9/dist-packages/ipykernel/ipkernel.py:283: DeprecationWarning: `should_run_async` will not call `transform_cell` automatically in the future. Please pass the result to `transformed_cell` argument and any exception that happen during thetransform in `preprocessing_exc_tuple` in IPython 7.17 and above.\n",
            "  and should_run_async(code)\n"
          ]
        }
      ],
      "source": [
        "# function for calculating entropy for each variable\n",
        "def dataEntropy(data):\n",
        "    \n",
        "    high_income = len(data[data[\"income\"] == 1])\n",
        "    low_income = len(data[data[\"income\"] == 0])\n",
        "    \n",
        "    result = getEntropy([low_income,high_income])\n",
        "    return result"
      ]
    },
    {
      "cell_type": "code",
      "execution_count": 32,
      "id": "f21745a7",
      "metadata": {
        "colab": {
          "base_uri": "https://localhost:8080/"
        },
        "id": "f21745a7",
        "outputId": "87ec5496-8638-43fd-9b4a-54fd47632240"
      },
      "outputs": [
        {
          "output_type": "stream",
          "name": "stderr",
          "text": [
            "/usr/local/lib/python3.9/dist-packages/ipykernel/ipkernel.py:283: DeprecationWarning: `should_run_async` will not call `transform_cell` automatically in the future. Please pass the result to `transformed_cell` argument and any exception that happen during thetransform in `preprocessing_exc_tuple` in IPython 7.17 and above.\n",
            "  and should_run_async(code)\n"
          ]
        }
      ],
      "source": [
        "# function for obtaining aggregated entropy\n",
        "def dataGivenEntropy(dataX, dataY):\n",
        "    entrX = dataEntropy(dataX)\n",
        "    entrY = dataEntropy(dataY)\n",
        "    nX = len(dataX)\n",
        "    nY = len(dataY)\n",
        "    n = nX + nY\n",
        "    if n == 0: \n",
        "        result = 0\n",
        "    else:\n",
        "        result = nX/n*entrX + nY/n*entrY\n",
        "    return result"
      ]
    },
    {
      "cell_type": "code",
      "execution_count": 33,
      "id": "0c7f873f",
      "metadata": {
        "colab": {
          "base_uri": "https://localhost:8080/"
        },
        "id": "0c7f873f",
        "outputId": "4b3783b0-616c-43c5-d1f5-9ec41a0433a0"
      },
      "outputs": [
        {
          "output_type": "stream",
          "name": "stderr",
          "text": [
            "/usr/local/lib/python3.9/dist-packages/ipykernel/ipkernel.py:283: DeprecationWarning: `should_run_async` will not call `transform_cell` automatically in the future. Please pass the result to `transformed_cell` argument and any exception that happen during thetransform in `preprocessing_exc_tuple` in IPython 7.17 and above.\n",
            "  and should_run_async(code)\n"
          ]
        }
      ],
      "source": [
        "# function for calculating information gain to decide which column to split on\n",
        "def infoGain(data, dataX, dataY):\n",
        "    result = dataEntropy(data) - dataGivenEntropy(dataX, dataY)\n",
        "    return result"
      ]
    },
    {
      "cell_type": "code",
      "execution_count": 34,
      "id": "a61aa787",
      "metadata": {
        "colab": {
          "base_uri": "https://localhost:8080/"
        },
        "id": "a61aa787",
        "outputId": "6fa01332-04b9-47b0-c7ac-27048981232d"
      },
      "outputs": [
        {
          "output_type": "stream",
          "name": "stderr",
          "text": [
            "/usr/local/lib/python3.9/dist-packages/ipykernel/ipkernel.py:283: DeprecationWarning: `should_run_async` will not call `transform_cell` automatically in the future. Please pass the result to `transformed_cell` argument and any exception that happen during thetransform in `preprocessing_exc_tuple` in IPython 7.17 and above.\n",
            "  and should_run_async(code)\n"
          ]
        }
      ],
      "source": [
        "# function for calculating gini\n",
        "def getGini(counts):\n",
        "    percentages = counts/np.sum(counts)\n",
        "    gini = 1-np.sum(percentages**2)\n",
        "    return gini"
      ]
    },
    {
      "cell_type": "code",
      "execution_count": 35,
      "id": "p4wmrYjIuWhH",
      "metadata": {
        "colab": {
          "base_uri": "https://localhost:8080/"
        },
        "id": "p4wmrYjIuWhH",
        "outputId": "26450722-9eb4-4520-d74b-bb2f515e1ac7"
      },
      "outputs": [
        {
          "output_type": "stream",
          "name": "stderr",
          "text": [
            "/usr/local/lib/python3.9/dist-packages/ipykernel/ipkernel.py:283: DeprecationWarning: `should_run_async` will not call `transform_cell` automatically in the future. Please pass the result to `transformed_cell` argument and any exception that happen during thetransform in `preprocessing_exc_tuple` in IPython 7.17 and above.\n",
            "  and should_run_async(code)\n"
          ]
        },
        {
          "output_type": "execute_result",
          "data": {
            "text/plain": [
              "73"
            ]
          },
          "metadata": {},
          "execution_count": 35
        }
      ],
      "source": [
        "len(new_train_data[\"age_scaled\"].unique())"
      ]
    },
    {
      "cell_type": "code",
      "execution_count": 36,
      "id": "b005d18d",
      "metadata": {
        "id": "b005d18d",
        "outputId": "009dd9ef-82ed-49b4-89f6-cff4c51dfaf9",
        "colab": {
          "base_uri": "https://localhost:8080/"
        }
      },
      "outputs": [
        {
          "output_type": "stream",
          "name": "stderr",
          "text": [
            "/usr/local/lib/python3.9/dist-packages/ipykernel/ipkernel.py:283: DeprecationWarning: `should_run_async` will not call `transform_cell` automatically in the future. Please pass the result to `transformed_cell` argument and any exception that happen during thetransform in `preprocessing_exc_tuple` in IPython 7.17 and above.\n",
            "  and should_run_async(code)\n"
          ]
        }
      ],
      "source": [
        "def variance(data):\n",
        "    income = data[\"income\"]\n",
        "\n",
        "    var = sum(income**2)/len(income) - (np.mean(income))**2\n",
        "\n",
        "    return var"
      ]
    },
    {
      "cell_type": "code",
      "execution_count": 37,
      "id": "f934cf0a",
      "metadata": {
        "colab": {
          "base_uri": "https://localhost:8080/"
        },
        "id": "f934cf0a",
        "outputId": "876f9c3a-ef5b-4b81-979d-315cb41d0700"
      },
      "outputs": [
        {
          "output_type": "stream",
          "name": "stderr",
          "text": [
            "/usr/local/lib/python3.9/dist-packages/ipykernel/ipkernel.py:283: DeprecationWarning: `should_run_async` will not call `transform_cell` automatically in the future. Please pass the result to `transformed_cell` argument and any exception that happen during thetransform in `preprocessing_exc_tuple` in IPython 7.17 and above.\n",
            "  and should_run_async(code)\n"
          ]
        }
      ],
      "source": [
        "# function for calculating the best split\n",
        "def findBestSplit(data, label):\n",
        "    minEntropy = 1\n",
        "    colSelected = str()\n",
        "    thresh_value = 0\n",
        "    dataX_found,dataY_found = None, None\n",
        "    for col in list(data.columns):\n",
        "        if col != label:\n",
        "        # make the split \n",
        "\n",
        "            if len(data[col].unique()) > 2:\n",
        "                max = data[col].max()\n",
        "                threshold = np.linspace(0,max,30)[1:-1]\n",
        "                infoGainList = []\n",
        "\n",
        "          # for 28 different thresholds, calculate the info-gain\n",
        "                for i in range(len(threshold)):\n",
        "                    dataX = data[data[col] > threshold[i]]\n",
        "                    dataY = data[data[col] <= threshold[i]]\n",
        "                    infoGainList.append(infoGain(data, dataX, dataY))\n",
        "\n",
        "          # get the max info-gain\n",
        "                idx = np.argmax(infoGainList)\n",
        "                dataX = data[data[col] > threshold[idx]]\n",
        "                dataY = data[data[col] <= threshold[idx]]\n",
        "                thresh = threshold[idx]\n",
        "\n",
        "            else:\n",
        "                thresh = 0.5\n",
        "                dataX = data[data[col] > thresh]\n",
        "                dataY = data[data[col] <= thresh]\n",
        "            \n",
        "          \n",
        "        entr = dataGivenEntropy(dataX, dataY)\n",
        "        \n",
        "        \n",
        "        if entr < minEntropy:\n",
        "            minEntropy = entr\n",
        "            colSelected = col\n",
        "            dataX_found = dataX\n",
        "            dataY_found = dataY\n",
        "            thresh_value = thresh\n",
        "        \n",
        "\n",
        "    return colSelected, minEntropy, dataX_found, dataY_found, thresh_value"
      ]
    },
    {
      "cell_type": "code",
      "execution_count": 38,
      "id": "BGg4-nHNYrhc",
      "metadata": {
        "colab": {
          "base_uri": "https://localhost:8080/"
        },
        "id": "BGg4-nHNYrhc",
        "outputId": "6f492bcd-d68d-4295-cab3-bbada58f925b"
      },
      "outputs": [
        {
          "output_type": "stream",
          "name": "stderr",
          "text": [
            "/usr/local/lib/python3.9/dist-packages/ipykernel/ipkernel.py:283: DeprecationWarning: `should_run_async` will not call `transform_cell` automatically in the future. Please pass the result to `transformed_cell` argument and any exception that happen during thetransform in `preprocessing_exc_tuple` in IPython 7.17 and above.\n",
            "  and should_run_async(code)\n"
          ]
        }
      ],
      "source": [
        "# function for calculating the best split\n",
        "def split_via_mapreduce(data, col, label):\n",
        "    minEntropy = 1\n",
        "    colSelected = str()\n",
        "    thresh_value = 0\n",
        "    dataX_found,dataY_found = None, None\n",
        "    if len(data[col].unique()) > 2:\n",
        "        maxi = data[col].max()\n",
        "        threshold = np.linspace(0,maxi,30)[1:-1]\n",
        "        infoGainList = []\n",
        "\n",
        "          # for 28 different thresholds, calculate the info-gain\n",
        "        for i in range(len(threshold)):\n",
        "            dataX = data[data[col] > threshold[i]]\n",
        "            dataY = data[data[col] <= threshold[i]]\n",
        "            infoGainList.append(infoGain(data, dataX, dataY))\n",
        "\n",
        "          # get the max info-gain\n",
        "        idx = np.argmax(infoGainList)\n",
        "        dataX = data[data[col] > threshold[idx]]\n",
        "        dataY = data[data[col] <= threshold[idx]]\n",
        "        thresh = threshold[idx]\n",
        "\n",
        "    else:\n",
        "        thresh = 0.5\n",
        "        dataX = data[data[col] > thresh]\n",
        "        dataY = data[data[col] <= thresh]\n",
        "            \n",
        "          \n",
        "    entr = dataGivenEntropy(dataX, dataY)\n",
        "        \n",
        "        \n",
        "    minEntropy = entr\n",
        "    colSelected = col\n",
        "    dataX_found = dataX\n",
        "    dataY_found = dataY\n",
        "    thresh_value = thresh\n",
        "        \n",
        "\n",
        "    return colSelected, minEntropy, dataX_found, dataY_found, thresh_value"
      ]
    },
    {
      "cell_type": "code",
      "execution_count": 39,
      "id": "L9qMVH-Smf7p",
      "metadata": {
        "colab": {
          "base_uri": "https://localhost:8080/"
        },
        "id": "L9qMVH-Smf7p",
        "outputId": "1c600ab4-66fb-473c-a8ed-24a5256ebde7"
      },
      "outputs": [
        {
          "output_type": "stream",
          "name": "stderr",
          "text": [
            "/usr/local/lib/python3.9/dist-packages/ipykernel/ipkernel.py:283: DeprecationWarning: `should_run_async` will not call `transform_cell` automatically in the future. Please pass the result to `transformed_cell` argument and any exception that happen during thetransform in `preprocessing_exc_tuple` in IPython 7.17 and above.\n",
            "  and should_run_async(code)\n"
          ]
        },
        {
          "output_type": "execute_result",
          "data": {
            "text/plain": [
              "('capital_loss_scaled', 0.9306597422914664)"
            ]
          },
          "metadata": {},
          "execution_count": 39
        }
      ],
      "source": [
        "findBestSplit(new_train_data, 'income')[0], findBestSplit(new_train_data, 'income')[1]"
      ]
    },
    {
      "cell_type": "code",
      "execution_count": 40,
      "id": "4cirhxSRY5EO",
      "metadata": {
        "colab": {
          "base_uri": "https://localhost:8080/"
        },
        "id": "4cirhxSRY5EO",
        "outputId": "7eb2ed54-3f09-4fa1-d10c-75c5246fb31d"
      },
      "outputs": [
        {
          "output_type": "stream",
          "name": "stderr",
          "text": [
            "/usr/local/lib/python3.9/dist-packages/ipykernel/ipkernel.py:283: DeprecationWarning: `should_run_async` will not call `transform_cell` automatically in the future. Please pass the result to `transformed_cell` argument and any exception that happen during thetransform in `preprocessing_exc_tuple` in IPython 7.17 and above.\n",
            "  and should_run_async(code)\n"
          ]
        }
      ],
      "source": [
        "# function for calculating the best split\n",
        "def entropy_columns(data, label = \"income\"):\n",
        "    #data = data_insert.toPandas()\n",
        "    columns = []\n",
        "    entropies = []\n",
        "    combo = []\n",
        "    combo2 = []\n",
        "    dataX_found,dataY_found = None, None\n",
        "    for col in list(data.columns):\n",
        "        if col != label:\n",
        "        # make the split \n",
        "\n",
        "            if len(data[col].unique()) > 2:\n",
        "                maxi = data[col].max()\n",
        "                threshold = np.linspace(0,maxi,30)[1:-1]\n",
        "                infoGainList = []\n",
        "\n",
        "              # for 28 different thresholds, calculate the info-gain\n",
        "                for i in range(len(threshold)):\n",
        "                    dataX = data[data[col] > threshold[i]]\n",
        "                    dataY = data[data[col] <= threshold[i]]\n",
        "                    infoGainList.append(infoGain(data, dataX, dataY))\n",
        "\n",
        "              # get the max info-gain\n",
        "                idx = np.argmax(infoGainList)\n",
        "                dataX = data[data[col] > threshold[idx]]\n",
        "                dataY = data[data[col] <= threshold[idx]]\n",
        "                thresh = threshold[idx]\n",
        "\n",
        "            else:\n",
        "                thresh = 0.5\n",
        "                dataX = data[data[col] > thresh]\n",
        "                dataY = data[data[col] <= thresh]\n",
        "            \n",
        "          \n",
        "            entr = dataGivenEntropy(dataX, dataY)\n",
        "            columns.append(col)\n",
        "            entropies.append(entr)\n",
        "            t = col, entr\n",
        "            combo.append(t)\n",
        "    return combo"
      ]
    },
    {
      "cell_type": "code",
      "execution_count": 41,
      "id": "MwSaSBARapOP",
      "metadata": {
        "colab": {
          "base_uri": "https://localhost:8080/"
        },
        "id": "MwSaSBARapOP",
        "outputId": "5b3dfc06-a7bd-4834-a215-b5320ac0a4b7"
      },
      "outputs": [
        {
          "output_type": "stream",
          "name": "stderr",
          "text": [
            "/usr/local/lib/python3.9/dist-packages/ipykernel/ipkernel.py:283: DeprecationWarning: `should_run_async` will not call `transform_cell` automatically in the future. Please pass the result to `transformed_cell` argument and any exception that happen during thetransform in `preprocessing_exc_tuple` in IPython 7.17 and above.\n",
            "  and should_run_async(code)\n"
          ]
        }
      ],
      "source": [
        "t = entropy_columns(new_train_data)"
      ]
    },
    {
      "cell_type": "code",
      "execution_count": 42,
      "id": "17647ce9",
      "metadata": {
        "id": "17647ce9",
        "outputId": "7ce09452-44b8-4203-9150-22bf12108877",
        "colab": {
          "base_uri": "https://localhost:8080/"
        }
      },
      "outputs": [
        {
          "output_type": "stream",
          "name": "stderr",
          "text": [
            "/usr/local/lib/python3.9/dist-packages/ipykernel/ipkernel.py:283: DeprecationWarning: `should_run_async` will not call `transform_cell` automatically in the future. Please pass the result to `transformed_cell` argument and any exception that happen during thetransform in `preprocessing_exc_tuple` in IPython 7.17 and above.\n",
            "  and should_run_async(code)\n"
          ]
        }
      ],
      "source": [
        "import multiprocessing as mp"
      ]
    },
    {
      "cell_type": "code",
      "execution_count": 43,
      "id": "l6-s04ZYYpwc",
      "metadata": {
        "colab": {
          "base_uri": "https://localhost:8080/"
        },
        "id": "l6-s04ZYYpwc",
        "outputId": "32a72a24-777a-4f1c-b7a5-b6a5e26341f8"
      },
      "outputs": [
        {
          "output_type": "stream",
          "name": "stderr",
          "text": [
            "/usr/local/lib/python3.9/dist-packages/ipykernel/ipkernel.py:283: DeprecationWarning: `should_run_async` will not call `transform_cell` automatically in the future. Please pass the result to `transformed_cell` argument and any exception that happen during thetransform in `preprocessing_exc_tuple` in IPython 7.17 and above.\n",
            "  and should_run_async(code)\n"
          ]
        }
      ],
      "source": [
        "def findBestSplitMapReduce(data, s):\n",
        "    if len(data) >= s:\n",
        "        n = len(data) // s\n",
        "        n_1 = n + 1\n",
        "        data = data.sample(frac = 1)\n",
        "        p = mp.Pool(processes=n_1)\n",
        "        conf = SparkConf().setAppName(\"DecisionTreeMapReduce\")\n",
        "        sc = SparkContext(conf = conf)\n",
        "        df_parallel = np.array_split(data, n_1)\n",
        "        res = p.map_async(entropy_columns, df_parallel).get()\n",
        "        res_list = [item for sublist in res for item in sublist]\n",
        "        res_rdd = sc.parallelize(res_list)\n",
        "        new_res = res_rdd.reduceByKey(lambda a,b: a + b)\n",
        "        res_use = new_res.collect()\n",
        "        score = np.array([j/n_1 for i, j in res_use])\n",
        "        arr_ind = list(np.nonzero(score > 0))\n",
        "        col_name = np.array([i for i, j in res_use])\n",
        "        col_name = col_name[arr_ind]\n",
        "        score = score[arr_ind]\n",
        "        column_to_use = col_name[np.argmin(score)]\n",
        "        result = split_via_mapreduce(data, column_to_use, \"income\")\n",
        "        sc.stop()\n",
        "        p.close()\n",
        "    else: \n",
        "        result = findBestSplit(data, \"income\")\n",
        "    return result"
      ]
    },
    {
      "cell_type": "code",
      "execution_count": 44,
      "id": "DwQG6HZyZzT1",
      "metadata": {
        "colab": {
          "base_uri": "https://localhost:8080/"
        },
        "id": "DwQG6HZyZzT1",
        "outputId": "6fe2529e-cf57-4f8e-a110-577db46d740f"
      },
      "outputs": [
        {
          "output_type": "stream",
          "name": "stderr",
          "text": [
            "/usr/local/lib/python3.9/dist-packages/ipykernel/ipkernel.py:283: DeprecationWarning: `should_run_async` will not call `transform_cell` automatically in the future. Please pass the result to `transformed_cell` argument and any exception that happen during thetransform in `preprocessing_exc_tuple` in IPython 7.17 and above.\n",
            "  and should_run_async(code)\n"
          ]
        }
      ],
      "source": [
        "#findBestSplitMapReduce(new_train_data, 10000)[4]"
      ]
    },
    {
      "cell_type": "code",
      "source": [
        "#findBestSplitMapReduce(new_train_data[new_train_data[\"capital_loss_scaled\"] <= 0.034], 10000)[1]"
      ],
      "metadata": {
        "id": "W6rhwdaTyI4C",
        "outputId": "80e9f754-decb-4140-8714-4b39dad4f0d2",
        "colab": {
          "base_uri": "https://localhost:8080/"
        }
      },
      "id": "W6rhwdaTyI4C",
      "execution_count": 45,
      "outputs": [
        {
          "output_type": "stream",
          "name": "stderr",
          "text": [
            "/usr/local/lib/python3.9/dist-packages/ipykernel/ipkernel.py:283: DeprecationWarning: `should_run_async` will not call `transform_cell` automatically in the future. Please pass the result to `transformed_cell` argument and any exception that happen during thetransform in `preprocessing_exc_tuple` in IPython 7.17 and above.\n",
            "  and should_run_async(code)\n"
          ]
        }
      ]
    },
    {
      "cell_type": "code",
      "source": [
        "#findBestSplitMapReduce(new_train_data[new_train_data[\"capital_loss_scaled\"] <= 0.034], 10000)[0]"
      ],
      "metadata": {
        "id": "drYgYqXb5MV6",
        "outputId": "befb294c-b8d6-43ee-890e-05bc7a68723a",
        "colab": {
          "base_uri": "https://localhost:8080/"
        }
      },
      "id": "drYgYqXb5MV6",
      "execution_count": 46,
      "outputs": [
        {
          "output_type": "stream",
          "name": "stderr",
          "text": [
            "/usr/local/lib/python3.9/dist-packages/ipykernel/ipkernel.py:283: DeprecationWarning: `should_run_async` will not call `transform_cell` automatically in the future. Please pass the result to `transformed_cell` argument and any exception that happen during thetransform in `preprocessing_exc_tuple` in IPython 7.17 and above.\n",
            "  and should_run_async(code)\n"
          ]
        }
      ]
    },
    {
      "cell_type": "code",
      "source": [
        "#findBestSplitMapReduce(new_train_data[new_train_data[\"capital_loss_scaled\"] <= 0.034], 10000)[4]"
      ],
      "metadata": {
        "id": "3FgrcRKA5KUC",
        "outputId": "95084118-4c58-40d6-da7d-53661576490a",
        "colab": {
          "base_uri": "https://localhost:8080/"
        }
      },
      "id": "3FgrcRKA5KUC",
      "execution_count": 47,
      "outputs": [
        {
          "output_type": "stream",
          "name": "stderr",
          "text": [
            "/usr/local/lib/python3.9/dist-packages/ipykernel/ipkernel.py:283: DeprecationWarning: `should_run_async` will not call `transform_cell` automatically in the future. Please pass the result to `transformed_cell` argument and any exception that happen during thetransform in `preprocessing_exc_tuple` in IPython 7.17 and above.\n",
            "  and should_run_async(code)\n"
          ]
        }
      ]
    },
    {
      "cell_type": "code",
      "execution_count": 48,
      "id": "WumiEnXN2W_0",
      "metadata": {
        "colab": {
          "base_uri": "https://localhost:8080/"
        },
        "id": "WumiEnXN2W_0",
        "outputId": "33ee5058-18b6-4b65-ae13-82fdb277814d"
      },
      "outputs": [
        {
          "output_type": "stream",
          "name": "stderr",
          "text": [
            "/usr/local/lib/python3.9/dist-packages/ipykernel/ipkernel.py:283: DeprecationWarning: `should_run_async` will not call `transform_cell` automatically in the future. Please pass the result to `transformed_cell` argument and any exception that happen during thetransform in `preprocessing_exc_tuple` in IPython 7.17 and above.\n",
            "  and should_run_async(code)\n"
          ]
        }
      ],
      "source": [
        "# class for recording branch information for each split\n",
        "class Branch:\n",
        "    no=0\n",
        "    depth=1\n",
        "    column=''\n",
        "    entropy=0\n",
        "    value = []\n",
        "    samples = 0\n",
        "    gini = 0\n",
        "    thresh = 0\n",
        "    branch_positive=None\n",
        "    branch_negative=None\n",
        "    positive=0\n",
        "    negative=0\n",
        "    num_cols = 0\n",
        "    col_names = []"
      ]
    },
    {
      "cell_type": "code",
      "execution_count": 49,
      "id": "5j6b41QHmuEe",
      "metadata": {
        "colab": {
          "base_uri": "https://localhost:8080/"
        },
        "id": "5j6b41QHmuEe",
        "outputId": "c5d2c058-3394-4b2e-82a7-587f8a228f39"
      },
      "outputs": [
        {
          "output_type": "stream",
          "name": "stderr",
          "text": [
            "/usr/local/lib/python3.9/dist-packages/ipykernel/ipkernel.py:283: DeprecationWarning: `should_run_async` will not call `transform_cell` automatically in the future. Please pass the result to `transformed_cell` argument and any exception that happen during thetransform in `preprocessing_exc_tuple` in IPython 7.17 and above.\n",
            "  and should_run_async(code)\n"
          ]
        }
      ],
      "source": [
        "## function for building the decision tree for each split\n",
        "number = 0\n",
        "def decisionTreeInner(data, label, depth, max_depth, max_features, min_samples_split, min_samples_leaf, s):\n",
        "    global number\n",
        "    branch = Branch()\n",
        "    branch.no = number\n",
        "    number += 1\n",
        "    branch.depth = depth\n",
        "    branch.num_depth = 1\n",
        "    \n",
        "    branch.samples = data.shape[0]\n",
        "    positive = data[data[label]==1].shape[0]\n",
        "    negative = data[data[label]==0].shape[0]\n",
        "    \n",
        "    branch.value= [negative, positive]\n",
        "    branch.gini = getGini(branch.value)\n",
        "    \n",
        "    bestSplit = findBestSplitMapReduce(data, s=s)\n",
        "    #bestSplit = findBestSplit(data, \"income\")\n",
        "    \n",
        "    branch.column = bestSplit[0]\n",
        "    branch.col_names.append(branch.column)\n",
        "    cols = list(set(branch.col_names))\n",
        "    branch.num_cols = len(cols)\n",
        "    branch.entropy = bestSplit[1]\n",
        "    \n",
        "    newEntropy = bestSplit[1]\n",
        "    dataNegative = bestSplit[2]\n",
        "    dataPositive = bestSplit[3]\n",
        "    branch.thresh = bestSplit[4]\n",
        "    sum_val = branch.value[0] + branch.value[1]\n",
        "    \n",
        "    if sum_val != 0:\n",
        "        unbalanced_0 = branch.value[0]/sum_val\n",
        "        unbalanced_1 = branch.value[1]/sum_val\n",
        "    \n",
        "    if len(cols) < max_features:\n",
        "        if depth == max_depth or branch.column == \"\" or branch.samples <= min_samples_split or (len(dataNegative) <= min_samples_leaf and len(dataPositive) <= min_samples_leaf) or (unbalanced_0 > 0.95 and branch.samples <= 1000) or (unbalanced_1 > 0.95 and branch.samples <= 1000):\n",
        "          \n",
        "            branch.positive = number\n",
        "            number +=1\n",
        "            branch.negative = number\n",
        "            number +=1   \n",
        "            branch.column = \"\"\n",
        "    \n",
        "            return branch\n",
        "        \n",
        "        # next step\n",
        "        else:\n",
        "            \n",
        "            #dataNegative = bestSplit[2]\n",
        "            branch.branch_negative = decisionTreeInner(dataNegative, label, depth+1, max_depth=max_depth, max_features = max_features, min_samples_split = min_samples_split, min_samples_leaf = min_samples_leaf, s = s)\n",
        "            \n",
        "            #dataPositive = bestSplit[3]\n",
        "            branch.branch_positive = decisionTreeInner(dataPositive, label, depth+1, max_depth=max_depth, max_features = max_features, min_samples_split = min_samples_split, min_samples_leaf = min_samples_leaf, s = s)\n",
        "\n",
        "            return branch\n",
        "    else:\n",
        "        \n",
        "        if depth == max_depth or branch.column == \"\" or branch.samples <= min_samples_split or (len(dataNegative) <= min_samples_leaf and len(dataPositive) <= min_samples_leaf) or (unbalanced_0 > 0.95 and branch.samples <= 1000) or (unbalanced_1 > 0.95 and branch.samples <= 1000):\n",
        "            \n",
        "            branch.positive = number\n",
        "            number +=1\n",
        "            branch.negative = number\n",
        "            number +=1   \n",
        "            branch.column = \"\"\n",
        "            \n",
        "            return branch\n",
        "        \n",
        "        else:\n",
        "            if \"\" in cols:\n",
        "                cols.remove(\"\")\n",
        "            cols.append(\"income\")\n",
        "            \n",
        "            #dataNegative = bestSplit[2]\n",
        "            dataNegative = dataNegative[cols]\n",
        "            \n",
        "            branch.branch_negative = decisionTreeInner(dataNegative, label, depth+1, max_depth=max_depth, max_features = max_features, min_samples_split = min_samples_split, min_samples_leaf = min_samples_leaf, s = s)\n",
        "            \n",
        "            #dataPositive = bestSplit[3]\n",
        "            dataPositive= dataPositive[cols]\n",
        "            \n",
        "            branch.branch_positive = decisionTreeInner(dataPositive, label, depth+1, max_depth=max_depth, max_features = max_features, min_samples_split = min_samples_split, min_samples_leaf = min_samples_leaf, s = s)\n",
        "            cols.remove(\"income\")\n",
        "            return branch\n"
      ]
    },
    {
      "cell_type": "code",
      "execution_count": 50,
      "id": "2vPkdPlymzOv",
      "metadata": {
        "colab": {
          "base_uri": "https://localhost:8080/"
        },
        "id": "2vPkdPlymzOv",
        "outputId": "12107fa1-1b28-4201-bcf0-76e25eaccdc0"
      },
      "outputs": [
        {
          "output_type": "stream",
          "name": "stderr",
          "text": [
            "/usr/local/lib/python3.9/dist-packages/ipykernel/ipkernel.py:283: DeprecationWarning: `should_run_async` will not call `transform_cell` automatically in the future. Please pass the result to `transformed_cell` argument and any exception that happen during thetransform in `preprocessing_exc_tuple` in IPython 7.17 and above.\n",
            "  and should_run_async(code)\n"
          ]
        }
      ],
      "source": [
        "## function for creating the decision tree classifier.\n",
        "def decision_tree(data, label, max_depth, max_features, min_samples_split, min_samples_leaf, s):\n",
        "    class Branch:\n",
        "        no=0\n",
        "        depth=1\n",
        "        column=''\n",
        "        entropy=0\n",
        "        value = []\n",
        "        samples = 0\n",
        "        gini = 0\n",
        "        thresh = 0\n",
        "        branch_positive=None\n",
        "        branch_negative=None\n",
        "        positive=0 \n",
        "        negative=0\n",
        "        num_cols = 0\n",
        "        col_names = []\n",
        "      \n",
        "    number = 0\n",
        "    entropy = dataEntropy(data)\n",
        "    columns = []\n",
        "    tree = decisionTreeInner(data, label, 0, max_depth = max_depth, max_features = max_features, min_samples_split = min_samples_split, min_samples_leaf = min_samples_leaf, s = s)\n",
        "    return tree"
      ]
    },
    {
      "cell_type": "code",
      "execution_count": 51,
      "id": "b12aed2e",
      "metadata": {
        "colab": {
          "base_uri": "https://localhost:8080/"
        },
        "id": "b12aed2e",
        "outputId": "1ddcbc7d-53d5-40ba-e5d3-12c50b43a2b5"
      },
      "outputs": [
        {
          "output_type": "stream",
          "name": "stderr",
          "text": [
            "/usr/local/lib/python3.9/dist-packages/ipykernel/ipkernel.py:283: DeprecationWarning: `should_run_async` will not call `transform_cell` automatically in the future. Please pass the result to `transformed_cell` argument and any exception that happen during thetransform in `preprocessing_exc_tuple` in IPython 7.17 and above.\n",
            "  and should_run_async(code)\n"
          ]
        },
        {
          "output_type": "stream",
          "name": "stdout",
          "text": [
            "79.92 seconds\n"
          ]
        }
      ],
      "source": [
        "import warnings\n",
        "warnings.filterwarnings('ignore')\n",
        "import time\n",
        "start=time.time()\n",
        "my_dt = decision_tree(new_train_data, 'income', max_depth=3, max_features = 10, min_samples_split = 400, min_samples_leaf = 250, s = 10000)\n",
        "print(round(time.time()-start, 2), 'seconds')"
      ]
    },
    {
      "cell_type": "code",
      "execution_count": 52,
      "id": "6oUM7JOVtq22",
      "metadata": {
        "colab": {
          "base_uri": "https://localhost:8080/"
        },
        "id": "6oUM7JOVtq22",
        "outputId": "17ab3c57-5f42-4519-bbb3-21ba7bff8380"
      },
      "outputs": [
        {
          "output_type": "execute_result",
          "data": {
            "text/plain": [
              "79983"
            ]
          },
          "metadata": {},
          "execution_count": 52
        }
      ],
      "source": [
        "my_dt.samples"
      ]
    },
    {
      "cell_type": "code",
      "execution_count": 53,
      "id": "uR8wNth55-9y",
      "metadata": {
        "colab": {
          "base_uri": "https://localhost:8080/"
        },
        "id": "uR8wNth55-9y",
        "outputId": "43bfbb47-7d63-41a0-ab17-3e1ce42b8da3"
      },
      "outputs": [
        {
          "output_type": "execute_result",
          "data": {
            "text/plain": [
              "<__main__.Branch at 0x7fa5ee8997f0>"
            ]
          },
          "metadata": {},
          "execution_count": 53
        }
      ],
      "source": [
        "my_dt"
      ]
    },
    {
      "cell_type": "code",
      "execution_count": 54,
      "id": "Onl3CtSIMuR8",
      "metadata": {
        "id": "Onl3CtSIMuR8"
      },
      "outputs": [],
      "source": [
        "def get_dot_data_innner(branch:Branch, classes, dot_data):\n",
        "    if branch.value[0]<branch.value[1]:\n",
        "        the_class=classes[0]\n",
        "    else:\n",
        "        the_class=classes[1]\n",
        "    if branch.branch_positive:\n",
        "        dot_data=dot_data+'{} [label=<{} le {:.2f}<br/>entropy = {:.3f}<br/>samples = {}<br/>value = {}<br/>class = {}> , fillcolor=\"#FFFFFFFF\"] ;\\r\\n'.format(\n",
        "            branch.no, branch.column, branch.thresh, branch.entropy, branch.samples, branch.value, the_class)\n",
        "    else:\n",
        "        dot_data=dot_data+'{} [label=<entropy = {:.3f}<br/>samples = {}<br/>value = {}<br/>class = {}> , fillcolor=\"#FFFFFFFF\"] ;\\r\\n'.format(\n",
        "            branch.no, branch.entropy, branch.samples, branch.value, the_class)\n",
        "    if branch.branch_negative:\n",
        "        dot_data=dot_data+'{} -> {} [labeldistance=2.5, labelangle=45, headlabel=\"no\"]; \\r\\n'.format(branch.no, branch.branch_negative.no)\n",
        "        dot_data=get_dot_data_innner(branch.branch_negative, classes, dot_data)\n",
        "        \n",
        "    if branch.branch_positive:\n",
        "        dot_data=dot_data+'{} -> {} [labeldistance=1.5, labelangle=45, headlabel=\"yes\"]; \\r\\n'.format(branch.no, branch.branch_positive.no)\n",
        "        dot_data=get_dot_data_innner(branch.branch_positive, classes, dot_data)\n",
        "  \n",
        "\n",
        "    return dot_data\n",
        "    \n",
        "def get_dot_data(branch:Branch, classes=['above 50K','below 50K']):\n",
        "    dot_data=\"\"\"\n",
        "digraph Tree {\n",
        "node [shape=box, style=\"filled, rounded\", color=\"black\", fontname=helvetica] ;\n",
        "edge [fontname=helvetica] ;\n",
        "\"\"\"\n",
        "    dot_data=get_dot_data_innner(branch, classes,  dot_data)\n",
        "    dot_data=dot_data+'\\r\\n}'\n",
        "    return dot_data"
      ]
    },
    {
      "cell_type": "code",
      "execution_count": 55,
      "id": "c83SbYS7MuUk",
      "metadata": {
        "id": "c83SbYS7MuUk"
      },
      "outputs": [],
      "source": [
        "dot_data=get_dot_data(my_dt)"
      ]
    },
    {
      "cell_type": "code",
      "execution_count": 56,
      "id": "Cw8sFkDRM47d",
      "metadata": {
        "id": "Cw8sFkDRM47d"
      },
      "outputs": [],
      "source": [
        "import graphviz "
      ]
    },
    {
      "cell_type": "code",
      "execution_count": 57,
      "id": "nnUWFY7XM5ji",
      "metadata": {
        "id": "nnUWFY7XM5ji"
      },
      "outputs": [],
      "source": [
        "graph = graphviz.Source(dot_data) "
      ]
    },
    {
      "cell_type": "code",
      "execution_count": 58,
      "id": "IFnq8hCqNvW8",
      "metadata": {
        "colab": {
          "base_uri": "https://localhost:8080/",
          "height": 619
        },
        "id": "IFnq8hCqNvW8",
        "outputId": "30023043-cbd2-4d5d-91db-0d8bf7a33d37"
      },
      "outputs": [
        {
          "output_type": "execute_result",
          "data": {
            "image/svg+xml": "<?xml version=\"1.0\" encoding=\"UTF-8\" standalone=\"no\"?>\n<!DOCTYPE svg PUBLIC \"-//W3C//DTD SVG 1.1//EN\"\n \"http://www.w3.org/Graphics/SVG/1.1/DTD/svg11.dtd\">\n<!-- Generated by graphviz version 2.43.0 (0)\n -->\n<!-- Title: Tree Pages: 1 -->\n<svg width=\"1230pt\" height=\"433pt\"\n viewBox=\"0.00 0.00 1229.50 433.00\" xmlns=\"http://www.w3.org/2000/svg\" xmlns:xlink=\"http://www.w3.org/1999/xlink\">\n<g id=\"graph0\" class=\"graph\" transform=\"scale(1 1) rotate(0) translate(4 429)\">\n<title>Tree</title>\n<polygon fill=\"white\" stroke=\"transparent\" points=\"-4,4 -4,-429 1225.5,-429 1225.5,4 -4,4\"/>\n<!-- 0 -->\n<g id=\"node1\" class=\"node\">\n<title>0</title>\n<path fill=\"#ffffff\" stroke=\"black\" d=\"M695,-425C695,-425 541,-425 541,-425 535,-425 529,-419 529,-413 529,-413 529,-354 529,-354 529,-348 535,-342 541,-342 541,-342 695,-342 695,-342 701,-342 707,-348 707,-354 707,-354 707,-413 707,-413 707,-419 701,-425 695,-425\"/>\n<text text-anchor=\"start\" x=\"537\" y=\"-409.8\" font-family=\"Helvetica,sans-Serif\" font-size=\"14.00\">capital_loss_scaled le 0.03</text>\n<text text-anchor=\"start\" x=\"570.5\" y=\"-394.8\" font-family=\"Helvetica,sans-Serif\" font-size=\"14.00\">entropy = 0.931</text>\n<text text-anchor=\"start\" x=\"565.5\" y=\"-379.8\" font-family=\"Helvetica,sans-Serif\" font-size=\"14.00\">samples = 79983</text>\n<text text-anchor=\"start\" x=\"548.5\" y=\"-364.8\" font-family=\"Helvetica,sans-Serif\" font-size=\"14.00\">value = [46814, 33169]</text>\n<text text-anchor=\"start\" x=\"563\" y=\"-349.8\" font-family=\"Helvetica,sans-Serif\" font-size=\"14.00\">class = below 50K</text>\n</g>\n<!-- 1 -->\n<g id=\"node2\" class=\"node\">\n<title>1</title>\n<path fill=\"#ffffff\" stroke=\"black\" d=\"M569,-306C569,-306 257,-306 257,-306 251,-306 245,-300 245,-294 245,-294 245,-235 245,-235 245,-229 251,-223 257,-223 257,-223 569,-223 569,-223 575,-223 581,-229 581,-235 581,-235 581,-294 581,-294 581,-300 575,-306 569,-306\"/>\n<text text-anchor=\"start\" x=\"253\" y=\"-290.8\" font-family=\"Helvetica,sans-Serif\" font-size=\"14.00\">marital_relation_married&#45;civ&#45;spouse_husband le 0.50</text>\n<text text-anchor=\"start\" x=\"365.5\" y=\"-275.8\" font-family=\"Helvetica,sans-Serif\" font-size=\"14.00\">entropy = 1.000</text>\n<text text-anchor=\"start\" x=\"360.5\" y=\"-260.8\" font-family=\"Helvetica,sans-Serif\" font-size=\"14.00\">samples = 54464</text>\n<text text-anchor=\"start\" x=\"343.5\" y=\"-245.8\" font-family=\"Helvetica,sans-Serif\" font-size=\"14.00\">value = [27233, 27231]</text>\n<text text-anchor=\"start\" x=\"358\" y=\"-230.8\" font-family=\"Helvetica,sans-Serif\" font-size=\"14.00\">class = below 50K</text>\n</g>\n<!-- 0&#45;&gt;1 -->\n<g id=\"edge1\" class=\"edge\">\n<title>0&#45;&gt;1</title>\n<path fill=\"none\" stroke=\"black\" d=\"M546.88,-341.91C529.54,-332.02 510.89,-321.37 493.17,-311.25\"/>\n<polygon fill=\"black\" stroke=\"black\" points=\"494.42,-307.94 484,-306.02 490.95,-314.02 494.42,-307.94\"/>\n<text text-anchor=\"middle\" x=\"490.59\" y=\"-326.44\" font-family=\"Helvetica,sans-Serif\" font-size=\"14.00\">no</text>\n</g>\n<!-- 16 -->\n<g id=\"node9\" class=\"node\">\n<title>16</title>\n<path fill=\"#ffffff\" stroke=\"black\" d=\"M937,-306C937,-306 625,-306 625,-306 619,-306 613,-300 613,-294 613,-294 613,-235 613,-235 613,-229 619,-223 625,-223 625,-223 937,-223 937,-223 943,-223 949,-229 949,-235 949,-235 949,-294 949,-294 949,-300 943,-306 937,-306\"/>\n<text text-anchor=\"start\" x=\"621\" y=\"-290.8\" font-family=\"Helvetica,sans-Serif\" font-size=\"14.00\">marital_relation_married&#45;civ&#45;spouse_husband le 0.50</text>\n<text text-anchor=\"start\" x=\"733.5\" y=\"-275.8\" font-family=\"Helvetica,sans-Serif\" font-size=\"14.00\">entropy = 0.687</text>\n<text text-anchor=\"start\" x=\"728.5\" y=\"-260.8\" font-family=\"Helvetica,sans-Serif\" font-size=\"14.00\">samples = 25519</text>\n<text text-anchor=\"start\" x=\"715.5\" y=\"-245.8\" font-family=\"Helvetica,sans-Serif\" font-size=\"14.00\">value = [19581, 5938]</text>\n<text text-anchor=\"start\" x=\"726\" y=\"-230.8\" font-family=\"Helvetica,sans-Serif\" font-size=\"14.00\">class = below 50K</text>\n</g>\n<!-- 0&#45;&gt;16 -->\n<g id=\"edge8\" class=\"edge\">\n<title>0&#45;&gt;16</title>\n<path fill=\"none\" stroke=\"black\" d=\"M674.55,-341.91C687.95,-332.29 702.35,-321.95 716.09,-312.09\"/>\n<polygon fill=\"black\" stroke=\"black\" points=\"718.47,-314.7 724.55,-306.02 714.38,-309.01 718.47,-314.7\"/>\n<text text-anchor=\"middle\" x=\"709.75\" y=\"-299.89\" font-family=\"Helvetica,sans-Serif\" font-size=\"14.00\">yes</text>\n</g>\n<!-- 2 -->\n<g id=\"node3\" class=\"node\">\n<title>2</title>\n<path fill=\"#ffffff\" stroke=\"black\" d=\"M277.5,-187C277.5,-187 142.5,-187 142.5,-187 136.5,-187 130.5,-181 130.5,-175 130.5,-175 130.5,-116 130.5,-116 130.5,-110 136.5,-104 142.5,-104 142.5,-104 277.5,-104 277.5,-104 283.5,-104 289.5,-110 289.5,-116 289.5,-116 289.5,-175 289.5,-175 289.5,-181 283.5,-187 277.5,-187\"/>\n<text text-anchor=\"start\" x=\"138.5\" y=\"-171.8\" font-family=\"Helvetica,sans-Serif\" font-size=\"14.00\">education_new le 11.38</text>\n<text text-anchor=\"start\" x=\"162.5\" y=\"-156.8\" font-family=\"Helvetica,sans-Serif\" font-size=\"14.00\">entropy = 0.967</text>\n<text text-anchor=\"start\" x=\"161.5\" y=\"-141.8\" font-family=\"Helvetica,sans-Serif\" font-size=\"14.00\">samples = 1986</text>\n<text text-anchor=\"start\" x=\"152\" y=\"-126.8\" font-family=\"Helvetica,sans-Serif\" font-size=\"14.00\">value = [865, 1121]</text>\n<text text-anchor=\"start\" x=\"154\" y=\"-111.8\" font-family=\"Helvetica,sans-Serif\" font-size=\"14.00\">class = above 50K</text>\n</g>\n<!-- 1&#45;&gt;2 -->\n<g id=\"edge2\" class=\"edge\">\n<title>1&#45;&gt;2</title>\n<path fill=\"none\" stroke=\"black\" d=\"M342.57,-222.91C325.41,-213.02 306.93,-202.37 289.39,-192.25\"/>\n<polygon fill=\"black\" stroke=\"black\" points=\"290.72,-188.98 280.31,-187.02 287.22,-195.05 290.72,-188.98\"/>\n<text text-anchor=\"middle\" x=\"286.79\" y=\"-207.46\" font-family=\"Helvetica,sans-Serif\" font-size=\"14.00\">no</text>\n</g>\n<!-- 9 -->\n<g id=\"node6\" class=\"node\">\n<title>9</title>\n<path fill=\"#ffffff\" stroke=\"black\" d=\"M478.5,-187C478.5,-187 347.5,-187 347.5,-187 341.5,-187 335.5,-181 335.5,-175 335.5,-175 335.5,-116 335.5,-116 335.5,-110 341.5,-104 347.5,-104 347.5,-104 478.5,-104 478.5,-104 484.5,-104 490.5,-110 490.5,-116 490.5,-116 490.5,-175 490.5,-175 490.5,-181 484.5,-187 478.5,-187\"/>\n<text text-anchor=\"start\" x=\"356\" y=\"-171.8\" font-family=\"Helvetica,sans-Serif\" font-size=\"14.00\">age_scaled le 0.66</text>\n<text text-anchor=\"start\" x=\"365.5\" y=\"-156.8\" font-family=\"Helvetica,sans-Serif\" font-size=\"14.00\">entropy = 1.000</text>\n<text text-anchor=\"start\" x=\"360.5\" y=\"-141.8\" font-family=\"Helvetica,sans-Serif\" font-size=\"14.00\">samples = 52478</text>\n<text text-anchor=\"start\" x=\"343.5\" y=\"-126.8\" font-family=\"Helvetica,sans-Serif\" font-size=\"14.00\">value = [26368, 26110]</text>\n<text text-anchor=\"start\" x=\"358\" y=\"-111.8\" font-family=\"Helvetica,sans-Serif\" font-size=\"14.00\">class = below 50K</text>\n</g>\n<!-- 1&#45;&gt;9 -->\n<g id=\"edge5\" class=\"edge\">\n<title>1&#45;&gt;9</title>\n<path fill=\"none\" stroke=\"black\" d=\"M413,-222.91C413,-214.65 413,-205.86 413,-197.3\"/>\n<polygon fill=\"black\" stroke=\"black\" points=\"416.5,-197.02 413,-187.02 409.5,-197.02 416.5,-197.02\"/>\n<text text-anchor=\"middle\" x=\"402.39\" y=\"-193.93\" font-family=\"Helvetica,sans-Serif\" font-size=\"14.00\">yes</text>\n</g>\n<!-- 3 -->\n<g id=\"node4\" class=\"node\">\n<title>3</title>\n<path fill=\"#ffffff\" stroke=\"black\" d=\"M116,-68C116,-68 12,-68 12,-68 6,-68 0,-62 0,-56 0,-56 0,-12 0,-12 0,-6 6,0 12,0 12,0 116,0 116,0 122,0 128,-6 128,-12 128,-12 128,-56 128,-56 128,-62 122,-68 116,-68\"/>\n<text text-anchor=\"start\" x=\"16.5\" y=\"-52.8\" font-family=\"Helvetica,sans-Serif\" font-size=\"14.00\">entropy = 0.853</text>\n<text text-anchor=\"start\" x=\"19\" y=\"-37.8\" font-family=\"Helvetica,sans-Serif\" font-size=\"14.00\">samples = 634</text>\n<text text-anchor=\"start\" x=\"9.5\" y=\"-22.8\" font-family=\"Helvetica,sans-Serif\" font-size=\"14.00\">value = [199, 435]</text>\n<text text-anchor=\"start\" x=\"8\" y=\"-7.8\" font-family=\"Helvetica,sans-Serif\" font-size=\"14.00\">class = above 50K</text>\n</g>\n<!-- 2&#45;&gt;3 -->\n<g id=\"edge3\" class=\"edge\">\n<title>2&#45;&gt;3</title>\n<path fill=\"none\" stroke=\"black\" d=\"M155.63,-103.73C142.87,-94.15 129.28,-83.96 116.59,-74.44\"/>\n<polygon fill=\"black\" stroke=\"black\" points=\"118.5,-71.5 108.4,-68.3 114.3,-77.1 118.5,-71.5\"/>\n<text text-anchor=\"middle\" x=\"111.93\" y=\"-89.35\" font-family=\"Helvetica,sans-Serif\" font-size=\"14.00\">no</text>\n</g>\n<!-- 6 -->\n<g id=\"node5\" class=\"node\">\n<title>6</title>\n<path fill=\"#ffffff\" stroke=\"black\" d=\"M262,-68C262,-68 158,-68 158,-68 152,-68 146,-62 146,-56 146,-56 146,-12 146,-12 146,-6 152,0 158,0 158,0 262,0 262,0 268,0 274,-6 274,-12 274,-12 274,-56 274,-56 274,-62 268,-68 262,-68\"/>\n<text text-anchor=\"start\" x=\"162.5\" y=\"-52.8\" font-family=\"Helvetica,sans-Serif\" font-size=\"14.00\">entropy = 0.994</text>\n<text text-anchor=\"start\" x=\"161.5\" y=\"-37.8\" font-family=\"Helvetica,sans-Serif\" font-size=\"14.00\">samples = 1352</text>\n<text text-anchor=\"start\" x=\"155.5\" y=\"-22.8\" font-family=\"Helvetica,sans-Serif\" font-size=\"14.00\">value = [666, 686]</text>\n<text text-anchor=\"start\" x=\"154\" y=\"-7.8\" font-family=\"Helvetica,sans-Serif\" font-size=\"14.00\">class = above 50K</text>\n</g>\n<!-- 2&#45;&gt;6 -->\n<g id=\"edge4\" class=\"edge\">\n<title>2&#45;&gt;6</title>\n<path fill=\"none\" stroke=\"black\" d=\"M210,-103.73C210,-95.52 210,-86.86 210,-78.56\"/>\n<polygon fill=\"black\" stroke=\"black\" points=\"213.5,-78.3 210,-68.3 206.5,-78.3 213.5,-78.3\"/>\n<text text-anchor=\"middle\" x=\"199.39\" y=\"-75.21\" font-family=\"Helvetica,sans-Serif\" font-size=\"14.00\">yes</text>\n</g>\n<!-- 10 -->\n<g id=\"node7\" class=\"node\">\n<title>10</title>\n<path fill=\"#ffffff\" stroke=\"black\" d=\"M420,-68C420,-68 304,-68 304,-68 298,-68 292,-62 292,-56 292,-56 292,-12 292,-12 292,-6 298,0 304,0 304,0 420,0 420,0 426,0 432,-6 432,-12 432,-12 432,-56 432,-56 432,-62 426,-68 420,-68\"/>\n<text text-anchor=\"start\" x=\"314.5\" y=\"-52.8\" font-family=\"Helvetica,sans-Serif\" font-size=\"14.00\">entropy = 1.000</text>\n<text text-anchor=\"start\" x=\"309.5\" y=\"-37.8\" font-family=\"Helvetica,sans-Serif\" font-size=\"14.00\">samples = 17845</text>\n<text text-anchor=\"start\" x=\"300\" y=\"-22.8\" font-family=\"Helvetica,sans-Serif\" font-size=\"14.00\">value = [8887, 8958]</text>\n<text text-anchor=\"start\" x=\"306\" y=\"-7.8\" font-family=\"Helvetica,sans-Serif\" font-size=\"14.00\">class = above 50K</text>\n</g>\n<!-- 9&#45;&gt;10 -->\n<g id=\"edge6\" class=\"edge\">\n<title>9&#45;&gt;10</title>\n<path fill=\"none\" stroke=\"black\" d=\"M394.01,-103.73C390.02,-95.15 385.79,-86.09 381.77,-77.46\"/>\n<polygon fill=\"black\" stroke=\"black\" points=\"384.9,-75.89 377.51,-68.3 378.56,-78.84 384.9,-75.89\"/>\n<text text-anchor=\"middle\" x=\"368.95\" y=\"-88.09\" font-family=\"Helvetica,sans-Serif\" font-size=\"14.00\">no</text>\n</g>\n<!-- 13 -->\n<g id=\"node8\" class=\"node\">\n<title>13</title>\n<path fill=\"#ffffff\" stroke=\"black\" d=\"M593.5,-68C593.5,-68 462.5,-68 462.5,-68 456.5,-68 450.5,-62 450.5,-56 450.5,-56 450.5,-12 450.5,-12 450.5,-6 456.5,0 462.5,0 462.5,0 593.5,0 593.5,0 599.5,0 605.5,-6 605.5,-12 605.5,-12 605.5,-56 605.5,-56 605.5,-62 599.5,-68 593.5,-68\"/>\n<text text-anchor=\"start\" x=\"480.5\" y=\"-52.8\" font-family=\"Helvetica,sans-Serif\" font-size=\"14.00\">entropy = 1.000</text>\n<text text-anchor=\"start\" x=\"475.5\" y=\"-37.8\" font-family=\"Helvetica,sans-Serif\" font-size=\"14.00\">samples = 34633</text>\n<text text-anchor=\"start\" x=\"458.5\" y=\"-22.8\" font-family=\"Helvetica,sans-Serif\" font-size=\"14.00\">value = [17481, 17152]</text>\n<text text-anchor=\"start\" x=\"473\" y=\"-7.8\" font-family=\"Helvetica,sans-Serif\" font-size=\"14.00\">class = below 50K</text>\n</g>\n<!-- 9&#45;&gt;13 -->\n<g id=\"edge7\" class=\"edge\">\n<title>9&#45;&gt;13</title>\n<path fill=\"none\" stroke=\"black\" d=\"M455.82,-103.73C465.59,-94.42 475.97,-84.54 485.72,-75.26\"/>\n<polygon fill=\"black\" stroke=\"black\" points=\"488.2,-77.73 493.03,-68.3 483.37,-72.66 488.2,-77.73\"/>\n<text text-anchor=\"middle\" x=\"478.03\" y=\"-64.23\" font-family=\"Helvetica,sans-Serif\" font-size=\"14.00\">yes</text>\n</g>\n<!-- 17 -->\n<g id=\"node10\" class=\"node\">\n<title>17</title>\n<path fill=\"#ffffff\" stroke=\"black\" d=\"M858.5,-187C858.5,-187 703.5,-187 703.5,-187 697.5,-187 691.5,-181 691.5,-175 691.5,-175 691.5,-116 691.5,-116 691.5,-110 697.5,-104 703.5,-104 703.5,-104 858.5,-104 858.5,-104 864.5,-104 870.5,-110 870.5,-116 870.5,-116 870.5,-175 870.5,-175 870.5,-181 864.5,-187 858.5,-187\"/>\n<text text-anchor=\"start\" x=\"699.5\" y=\"-171.8\" font-family=\"Helvetica,sans-Serif\" font-size=\"14.00\">capital_gain_scaled le 0.07</text>\n<text text-anchor=\"start\" x=\"733.5\" y=\"-156.8\" font-family=\"Helvetica,sans-Serif\" font-size=\"14.00\">entropy = 0.890</text>\n<text text-anchor=\"start\" x=\"732.5\" y=\"-141.8\" font-family=\"Helvetica,sans-Serif\" font-size=\"14.00\">samples = 9841</text>\n<text text-anchor=\"start\" x=\"719\" y=\"-126.8\" font-family=\"Helvetica,sans-Serif\" font-size=\"14.00\">value = [5628, 4213]</text>\n<text text-anchor=\"start\" x=\"726\" y=\"-111.8\" font-family=\"Helvetica,sans-Serif\" font-size=\"14.00\">class = below 50K</text>\n</g>\n<!-- 16&#45;&gt;17 -->\n<g id=\"edge9\" class=\"edge\">\n<title>16&#45;&gt;17</title>\n<path fill=\"none\" stroke=\"black\" d=\"M781,-222.91C781,-214.65 781,-205.86 781,-197.3\"/>\n<polygon fill=\"black\" stroke=\"black\" points=\"784.5,-197.02 781,-187.02 777.5,-197.02 784.5,-197.02\"/>\n<text text-anchor=\"middle\" x=\"763.32\" y=\"-201\" font-family=\"Helvetica,sans-Serif\" font-size=\"14.00\">no</text>\n</g>\n<!-- 24 -->\n<g id=\"node13\" class=\"node\">\n<title>24</title>\n<path fill=\"#ffffff\" stroke=\"black\" d=\"M1069.5,-187C1069.5,-187 914.5,-187 914.5,-187 908.5,-187 902.5,-181 902.5,-175 902.5,-175 902.5,-116 902.5,-116 902.5,-110 908.5,-104 914.5,-104 914.5,-104 1069.5,-104 1069.5,-104 1075.5,-104 1081.5,-110 1081.5,-116 1081.5,-116 1081.5,-175 1081.5,-175 1081.5,-181 1075.5,-187 1069.5,-187\"/>\n<text text-anchor=\"start\" x=\"910.5\" y=\"-171.8\" font-family=\"Helvetica,sans-Serif\" font-size=\"14.00\">capital_gain_scaled le 0.03</text>\n<text text-anchor=\"start\" x=\"944.5\" y=\"-156.8\" font-family=\"Helvetica,sans-Serif\" font-size=\"14.00\">entropy = 0.432</text>\n<text text-anchor=\"start\" x=\"939.5\" y=\"-141.8\" font-family=\"Helvetica,sans-Serif\" font-size=\"14.00\">samples = 15678</text>\n<text text-anchor=\"start\" x=\"926.5\" y=\"-126.8\" font-family=\"Helvetica,sans-Serif\" font-size=\"14.00\">value = [13953, 1725]</text>\n<text text-anchor=\"start\" x=\"937\" y=\"-111.8\" font-family=\"Helvetica,sans-Serif\" font-size=\"14.00\">class = below 50K</text>\n</g>\n<!-- 16&#45;&gt;24 -->\n<g id=\"edge12\" class=\"edge\">\n<title>16&#45;&gt;24</title>\n<path fill=\"none\" stroke=\"black\" d=\"M854.21,-222.91C872.21,-212.92 891.6,-202.17 909.99,-191.98\"/>\n<polygon fill=\"black\" stroke=\"black\" points=\"911.88,-194.93 918.92,-187.02 908.48,-188.81 911.88,-194.93\"/>\n<text text-anchor=\"middle\" x=\"904.5\" y=\"-179.19\" font-family=\"Helvetica,sans-Serif\" font-size=\"14.00\">yes</text>\n</g>\n<!-- 18 -->\n<g id=\"node11\" class=\"node\">\n<title>18</title>\n<path fill=\"#ffffff\" stroke=\"black\" d=\"M740,-68C740,-68 636,-68 636,-68 630,-68 624,-62 624,-56 624,-56 624,-12 624,-12 624,-6 630,0 636,0 636,0 740,0 740,0 746,0 752,-6 752,-12 752,-12 752,-56 752,-56 752,-62 746,-68 740,-68\"/>\n<text text-anchor=\"start\" x=\"640.5\" y=\"-52.8\" font-family=\"Helvetica,sans-Serif\" font-size=\"14.00\">entropy = 0.048</text>\n<text text-anchor=\"start\" x=\"643\" y=\"-37.8\" font-family=\"Helvetica,sans-Serif\" font-size=\"14.00\">samples = 754</text>\n<text text-anchor=\"start\" x=\"641\" y=\"-22.8\" font-family=\"Helvetica,sans-Serif\" font-size=\"14.00\">value = [5, 749]</text>\n<text text-anchor=\"start\" x=\"632\" y=\"-7.8\" font-family=\"Helvetica,sans-Serif\" font-size=\"14.00\">class = above 50K</text>\n</g>\n<!-- 17&#45;&gt;18 -->\n<g id=\"edge10\" class=\"edge\">\n<title>17&#45;&gt;18</title>\n<path fill=\"none\" stroke=\"black\" d=\"M746.37,-103.73C738.7,-94.7 730.57,-85.12 722.89,-76.08\"/>\n<polygon fill=\"black\" stroke=\"black\" points=\"725.42,-73.66 716.28,-68.3 720.09,-78.19 725.42,-73.66\"/>\n<text text-anchor=\"middle\" x=\"714.25\" y=\"-89.52\" font-family=\"Helvetica,sans-Serif\" font-size=\"14.00\">no</text>\n</g>\n<!-- 21 -->\n<g id=\"node12\" class=\"node\">\n<title>21</title>\n<path fill=\"#ffffff\" stroke=\"black\" d=\"M898,-68C898,-68 782,-68 782,-68 776,-68 770,-62 770,-56 770,-56 770,-12 770,-12 770,-6 776,0 782,0 782,0 898,0 898,0 904,0 910,-6 910,-12 910,-12 910,-56 910,-56 910,-62 904,-68 898,-68\"/>\n<text text-anchor=\"start\" x=\"792.5\" y=\"-52.8\" font-family=\"Helvetica,sans-Serif\" font-size=\"14.00\">entropy = 0.886</text>\n<text text-anchor=\"start\" x=\"791.5\" y=\"-37.8\" font-family=\"Helvetica,sans-Serif\" font-size=\"14.00\">samples = 9087</text>\n<text text-anchor=\"start\" x=\"778\" y=\"-22.8\" font-family=\"Helvetica,sans-Serif\" font-size=\"14.00\">value = [5623, 3464]</text>\n<text text-anchor=\"start\" x=\"785\" y=\"-7.8\" font-family=\"Helvetica,sans-Serif\" font-size=\"14.00\">class = below 50K</text>\n</g>\n<!-- 17&#45;&gt;21 -->\n<g id=\"edge11\" class=\"edge\">\n<title>17&#45;&gt;21</title>\n<path fill=\"none\" stroke=\"black\" d=\"M802.97,-103.73C807.64,-95.06 812.58,-85.9 817.27,-77.18\"/>\n<polygon fill=\"black\" stroke=\"black\" points=\"820.4,-78.76 822.06,-68.3 814.23,-75.44 820.4,-78.76\"/>\n<text text-anchor=\"middle\" x=\"807.69\" y=\"-68.91\" font-family=\"Helvetica,sans-Serif\" font-size=\"14.00\">yes</text>\n</g>\n<!-- 25 -->\n<g id=\"node14\" class=\"node\">\n<title>25</title>\n<path fill=\"#ffffff\" stroke=\"black\" d=\"M1044,-68C1044,-68 940,-68 940,-68 934,-68 928,-62 928,-56 928,-56 928,-12 928,-12 928,-6 934,0 940,0 940,0 1044,0 1044,0 1050,0 1056,-6 1056,-12 1056,-12 1056,-56 1056,-56 1056,-62 1050,-68 1044,-68\"/>\n<text text-anchor=\"start\" x=\"944.5\" y=\"-52.8\" font-family=\"Helvetica,sans-Serif\" font-size=\"14.00\">entropy = 0.919</text>\n<text text-anchor=\"start\" x=\"947\" y=\"-37.8\" font-family=\"Helvetica,sans-Serif\" font-size=\"14.00\">samples = 878</text>\n<text text-anchor=\"start\" x=\"937.5\" y=\"-22.8\" font-family=\"Helvetica,sans-Serif\" font-size=\"14.00\">value = [333, 545]</text>\n<text text-anchor=\"start\" x=\"936\" y=\"-7.8\" font-family=\"Helvetica,sans-Serif\" font-size=\"14.00\">class = above 50K</text>\n</g>\n<!-- 24&#45;&gt;25 -->\n<g id=\"edge13\" class=\"edge\">\n<title>24&#45;&gt;25</title>\n<path fill=\"none\" stroke=\"black\" d=\"M992,-103.73C992,-95.52 992,-86.86 992,-78.56\"/>\n<polygon fill=\"black\" stroke=\"black\" points=\"995.5,-78.3 992,-68.3 988.5,-78.3 995.5,-78.3\"/>\n<text text-anchor=\"middle\" x=\"974.32\" y=\"-82.28\" font-family=\"Helvetica,sans-Serif\" font-size=\"14.00\">no</text>\n</g>\n<!-- 28 -->\n<g id=\"node15\" class=\"node\">\n<title>28</title>\n<path fill=\"#ffffff\" stroke=\"black\" d=\"M1209.5,-68C1209.5,-68 1086.5,-68 1086.5,-68 1080.5,-68 1074.5,-62 1074.5,-56 1074.5,-56 1074.5,-12 1074.5,-12 1074.5,-6 1080.5,0 1086.5,0 1086.5,0 1209.5,0 1209.5,0 1215.5,0 1221.5,-6 1221.5,-12 1221.5,-12 1221.5,-56 1221.5,-56 1221.5,-62 1215.5,-68 1209.5,-68\"/>\n<text text-anchor=\"start\" x=\"1100.5\" y=\"-52.8\" font-family=\"Helvetica,sans-Serif\" font-size=\"14.00\">entropy = 0.350</text>\n<text text-anchor=\"start\" x=\"1095.5\" y=\"-37.8\" font-family=\"Helvetica,sans-Serif\" font-size=\"14.00\">samples = 14800</text>\n<text text-anchor=\"start\" x=\"1082.5\" y=\"-22.8\" font-family=\"Helvetica,sans-Serif\" font-size=\"14.00\">value = [13620, 1180]</text>\n<text text-anchor=\"start\" x=\"1093\" y=\"-7.8\" font-family=\"Helvetica,sans-Serif\" font-size=\"14.00\">class = below 50K</text>\n</g>\n<!-- 24&#45;&gt;28 -->\n<g id=\"edge14\" class=\"edge\">\n<title>24&#45;&gt;28</title>\n<path fill=\"none\" stroke=\"black\" d=\"M1050.09,-103.73C1063.86,-94.06 1078.52,-83.77 1092.19,-74.17\"/>\n<polygon fill=\"black\" stroke=\"black\" points=\"1094.39,-76.91 1100.56,-68.3 1090.36,-71.18 1094.39,-76.91\"/>\n<text text-anchor=\"middle\" x=\"1085.78\" y=\"-62.01\" font-family=\"Helvetica,sans-Serif\" font-size=\"14.00\">yes</text>\n</g>\n</g>\n</svg>\n",
            "text/plain": [
              "<graphviz.sources.Source at 0x7fa5ee870940>"
            ]
          },
          "metadata": {},
          "execution_count": 58
        }
      ],
      "source": [
        "graph"
      ]
    },
    {
      "cell_type": "code",
      "execution_count": 59,
      "id": "fJN9176y6gf1",
      "metadata": {
        "id": "fJN9176y6gf1"
      },
      "outputs": [],
      "source": [
        "#graph.render('./image/my_dt', format='png')"
      ]
    },
    {
      "cell_type": "markdown",
      "id": "hr1tlFYsUyZH",
      "metadata": {
        "id": "hr1tlFYsUyZH"
      },
      "source": [
        "### Evaluating on Test data"
      ]
    },
    {
      "cell_type": "code",
      "execution_count": 60,
      "id": "U7qs1zV6xO9X",
      "metadata": {
        "colab": {
          "base_uri": "https://localhost:8080/"
        },
        "id": "U7qs1zV6xO9X",
        "outputId": "cdfe034a-560f-4659-c08c-a91a2312d524"
      },
      "outputs": [
        {
          "output_type": "execute_result",
          "data": {
            "text/plain": [
              "0    46814\n",
              "1    33169\n",
              "Name: income, dtype: int64"
            ]
          },
          "metadata": {},
          "execution_count": 60
        }
      ],
      "source": [
        "new_train_data[\"income\"].value_counts()"
      ]
    },
    {
      "cell_type": "code",
      "execution_count": 61,
      "id": "M-qS7J4e3krT",
      "metadata": {
        "colab": {
          "base_uri": "https://localhost:8080/"
        },
        "id": "M-qS7J4e3krT",
        "outputId": "86266cc1-23f6-4362-8e51-841acc811d3d"
      },
      "outputs": [
        {
          "output_type": "execute_result",
          "data": {
            "text/plain": [
              "79983"
            ]
          },
          "metadata": {},
          "execution_count": 61
        }
      ],
      "source": [
        "my_dt.samples"
      ]
    },
    {
      "cell_type": "code",
      "execution_count": 62,
      "id": "xMLo7e9TdMHl",
      "metadata": {
        "colab": {
          "base_uri": "https://localhost:8080/"
        },
        "id": "xMLo7e9TdMHl",
        "outputId": "f6f76459-b2cd-4bc9-de0a-edc5c24f1252"
      },
      "outputs": [
        {
          "output_type": "stream",
          "name": "stdout",
          "text": [
            "292.37 seconds\n"
          ]
        }
      ],
      "source": [
        "start=time.time()\n",
        "my_dt = decision_tree(new_train_data, 'income', max_depth=13, max_features = 15, min_samples_split = 500, min_samples_leaf = 250, s = 10000)\n",
        "print(round(time.time()-start, 2), 'seconds')"
      ]
    },
    {
      "cell_type": "code",
      "execution_count": 63,
      "id": "53N3oCDaUxbe",
      "metadata": {
        "id": "53N3oCDaUxbe"
      },
      "outputs": [],
      "source": [
        "def tree_predict(my_dt, obs, prop):\n",
        "  out_dt = my_dt\n",
        "  income = \"\"\n",
        "  while out_dt.column != \"\":\n",
        "    if obs[out_dt.column] <= out_dt.thresh:\n",
        "      out_dt = out_dt.branch_positive\n",
        "    else:\n",
        "      out_dt = out_dt.branch_negative\n",
        "  \n",
        "  if out_dt.value[1]/(out_dt.value[1] + out_dt.value[0]) >= prop:\n",
        "    income = 1\n",
        "  else:\n",
        "    income = 0\n",
        "  \n",
        "  return out_dt, income"
      ]
    },
    {
      "cell_type": "code",
      "execution_count": 64,
      "id": "tJ-bx7dhwH2N",
      "metadata": {
        "id": "tJ-bx7dhwH2N"
      },
      "outputs": [],
      "source": [
        "prop = list(np.linspace(0,1, 100))[1:-1]"
      ]
    },
    {
      "cell_type": "code",
      "execution_count": 65,
      "id": "dzIDf41yyewi",
      "metadata": {
        "id": "dzIDf41yyewi"
      },
      "outputs": [],
      "source": [
        "from sklearn.metrics import precision_score, recall_score, accuracy_score"
      ]
    },
    {
      "cell_type": "code",
      "execution_count": 66,
      "id": "oyit6h5iFgG7",
      "metadata": {
        "id": "oyit6h5iFgG7"
      },
      "outputs": [],
      "source": [
        "new_test_data_use = new_test_data.reset_index(drop = True)"
      ]
    },
    {
      "cell_type": "code",
      "execution_count": 67,
      "id": "zLuTPX7iwRRC",
      "metadata": {
        "id": "zLuTPX7iwRRC"
      },
      "outputs": [],
      "source": [
        "def tree_pred_threshold(prop):\n",
        "  incomes = []\n",
        "  for i in range(len(new_test_data_use)):\n",
        "    out_dt, income = tree_predict(my_dt, new_test_data_use.iloc[i,:], prop)\n",
        "    incomes.append(income)\n",
        "\n",
        "  precision = precision_score(y_test, incomes)\n",
        "  recall = recall_score(y_test, incomes)\n",
        "  accuracy = accuracy_score(y_test, incomes)\n",
        "  \n",
        "  return precision, recall, accuracy"
      ]
    },
    {
      "cell_type": "code",
      "execution_count": 68,
      "id": "dE5DLdarypK3",
      "metadata": {
        "id": "dE5DLdarypK3"
      },
      "outputs": [],
      "source": [
        "precisions = []\n",
        "recalls = []\n",
        "accuracy = []\n",
        "for i in range(len(prop)):\n",
        "  res = tree_pred_threshold(prop[i])\n",
        "  precisions.append(res[0])\n",
        "  recalls.append(res[1])\n",
        "  accuracy.append(res[2])"
      ]
    },
    {
      "cell_type": "code",
      "execution_count": 69,
      "id": "bG81bqvy0W9r",
      "metadata": {
        "colab": {
          "base_uri": "https://localhost:8080/"
        },
        "id": "bG81bqvy0W9r",
        "outputId": "eb6a68d8-9c22-48f9-8b7a-a59e8a09e42f"
      },
      "outputs": [
        {
          "output_type": "execute_result",
          "data": {
            "text/plain": [
              "(0.6060606060606061, 0.61465)"
            ]
          },
          "metadata": {},
          "execution_count": 69
        }
      ],
      "source": [
        "prop[np.argmax(accuracy)], accuracy[np.argmax(accuracy)]"
      ]
    },
    {
      "cell_type": "code",
      "execution_count": 70,
      "id": "B_AD5UIEy9Pa",
      "metadata": {
        "colab": {
          "base_uri": "https://localhost:8080/",
          "height": 699
        },
        "id": "B_AD5UIEy9Pa",
        "outputId": "9b9e0219-f730-4193-f796-1856f79f7e5c"
      },
      "outputs": [
        {
          "output_type": "display_data",
          "data": {
            "text/plain": [
              "<Figure size 1200x800 with 1 Axes>"
            ],
            "image/png": "[encoded data removed]"
          },
          "metadata": {}
        }
      ],
      "source": [
        "plt.figure(figsize = (12,8))\n",
        "sns.lineplot(x = prop, y = precisions, color = \"blue\", label = \"precision\")\n",
        "sns.lineplot(x = prop, y = recalls, color = \"orange\", label = \"recall\")\n",
        "sns.lineplot(x = prop, y = accuracy, color = \"green\", label = \"accuracy\")\n",
        "plt.axvline(x = prop[np.argmax(accuracy)], color = \"black\", linestyle = \"dashed\")\n",
        "plt.title(\"Metrics' trends as a function of threshold\")\n",
        "plt.show();"
      ]
    },
    {
      "cell_type": "code",
      "execution_count": 71,
      "id": "PQDOiDvaXMnc",
      "metadata": {
        "id": "PQDOiDvaXMnc"
      },
      "outputs": [],
      "source": [
        "incomes = []\n",
        "out_vals = []\n",
        "for i in range(len(new_test_data_use)):\n",
        "  out_dt, income = tree_predict(my_dt, new_test_data_use.iloc[i,:], prop[np.argmax(accuracy)])\n",
        "  incomes.append(income)\n",
        "  out_vals.append(out_dt.value)"
      ]
    },
    {
      "cell_type": "code",
      "execution_count": 72,
      "id": "CamewcxeXSet",
      "metadata": {
        "colab": {
          "base_uri": "https://localhost:8080/"
        },
        "id": "CamewcxeXSet",
        "outputId": "9b7d1a72-2bcc-47e2-d66c-38020266f6a2"
      },
      "outputs": [
        {
          "output_type": "execute_result",
          "data": {
            "text/plain": [
              "Counter({0: 18851, 1: 1149})"
            ]
          },
          "metadata": {},
          "execution_count": 72
        }
      ],
      "source": [
        "from collections import Counter\n",
        "Counter(incomes)"
      ]
    },
    {
      "cell_type": "code",
      "execution_count": 73,
      "id": "ykrK75zXwKyG",
      "metadata": {
        "colab": {
          "base_uri": "https://localhost:8080/"
        },
        "id": "ykrK75zXwKyG",
        "outputId": "aad623ba-4bd4-4750-cd7f-3be3bbda7d84"
      },
      "outputs": [
        {
          "output_type": "execute_result",
          "data": {
            "text/plain": [
              "[[1677, 40],\n",
              " [286, 277],\n",
              " [618, 17],\n",
              " [5670, 5872],\n",
              " [467, 854],\n",
              " [5670, 5872],\n",
              " [5670, 5872],\n",
              " [183, 163],\n",
              " [5670, 5872],\n",
              " [937, 880]]"
            ]
          },
          "metadata": {},
          "execution_count": 73
        }
      ],
      "source": [
        "out_vals[:10]"
      ]
    },
    {
      "cell_type": "code",
      "execution_count": 74,
      "id": "1_HxNdBIUxjy",
      "metadata": {
        "id": "1_HxNdBIUxjy"
      },
      "outputs": [],
      "source": [
        "out_dt, income = tree_predict(my_dt, new_test_data.iloc[1000,:], prop[np.argmax(accuracy)])"
      ]
    },
    {
      "cell_type": "code",
      "execution_count": 75,
      "id": "XSyuYxFaWXgf",
      "metadata": {
        "colab": {
          "base_uri": "https://localhost:8080/"
        },
        "id": "XSyuYxFaWXgf",
        "outputId": "bf8f3a5b-dc8a-4df8-c668-cd7424a17da9"
      },
      "outputs": [
        {
          "output_type": "execute_result",
          "data": {
            "text/plain": [
              "[5670, 5872]"
            ]
          },
          "metadata": {},
          "execution_count": 75
        }
      ],
      "source": [
        "out_dt.value"
      ]
    },
    {
      "cell_type": "code",
      "execution_count": 76,
      "id": "YHA_Ov-xWZgM",
      "metadata": {
        "colab": {
          "base_uri": "https://localhost:8080/"
        },
        "id": "YHA_Ov-xWZgM",
        "outputId": "15f87793-f727-4dbe-94a7-6194f370a4bc"
      },
      "outputs": [
        {
          "output_type": "execute_result",
          "data": {
            "text/plain": [
              "0"
            ]
          },
          "metadata": {},
          "execution_count": 76
        }
      ],
      "source": [
        "income"
      ]
    },
    {
      "cell_type": "code",
      "execution_count": 77,
      "id": "_vh3QTVdZFR1",
      "metadata": {
        "id": "_vh3QTVdZFR1"
      },
      "outputs": [],
      "source": [
        "from sklearn.metrics import classification_report, confusion_matrix\n",
        "import seaborn as sns"
      ]
    },
    {
      "cell_type": "code",
      "execution_count": 78,
      "id": "RLWo_BBxfghC",
      "metadata": {
        "colab": {
          "base_uri": "https://localhost:8080/"
        },
        "id": "RLWo_BBxfghC",
        "outputId": "d32f5187-f7f9-4066-f307-a68c080e4d80"
      },
      "outputs": [
        {
          "output_type": "stream",
          "name": "stdout",
          "text": [
            "              precision    recall  f1-score   support\n",
            "\n",
            "           0       0.61      0.98      0.75     11708\n",
            "           1       0.75      0.10      0.18      8292\n",
            "\n",
            "    accuracy                           0.61     20000\n",
            "   macro avg       0.68      0.54      0.47     20000\n",
            "weighted avg       0.67      0.61      0.51     20000\n",
            "\n"
          ]
        }
      ],
      "source": [
        "print(classification_report(y_test, incomes))"
      ]
    },
    {
      "cell_type": "code",
      "execution_count": 79,
      "id": "9CAxX8Whfjj8",
      "metadata": {
        "id": "9CAxX8Whfjj8"
      },
      "outputs": [],
      "source": [
        "conf = confusion_matrix(y_test,incomes)"
      ]
    },
    {
      "cell_type": "code",
      "execution_count": 80,
      "id": "nnhAvk69fpT5",
      "metadata": {
        "colab": {
          "base_uri": "https://localhost:8080/",
          "height": 447
        },
        "id": "nnhAvk69fpT5",
        "outputId": "93589632-f66d-4a07-f381-56d02d4e611f"
      },
      "outputs": [
        {
          "output_type": "execute_result",
          "data": {
            "text/plain": [
              "<Axes: >"
            ]
          },
          "metadata": {},
          "execution_count": 80
        },
        {
          "output_type": "display_data",
          "data": {
            "text/plain": [
              "<Figure size 640x480 with 2 Axes>"
            ],
            "image/png": "[encoded data removed]"
          },
          "metadata": {}
        }
      ],
      "source": [
        "sns.heatmap(conf, annot = True, cmap = \"RdBu\")"
      ]
    },
    {
      "cell_type": "markdown",
      "id": "BZu2osxFTdT6",
      "metadata": {
        "id": "BZu2osxFTdT6"
      },
      "source": [
        "### Column Frequency"
      ]
    },
    {
      "cell_type": "code",
      "execution_count": 81,
      "id": "blUOE7KTTT0b",
      "metadata": {
        "id": "blUOE7KTTT0b"
      },
      "outputs": [],
      "source": [
        "from collections import Counter\n",
        "col_dict = dict(Counter(my_dt.col_names))"
      ]
    },
    {
      "cell_type": "code",
      "execution_count": 82,
      "id": "emb8Z2VATSnk",
      "metadata": {
        "id": "emb8Z2VATSnk"
      },
      "outputs": [],
      "source": [
        "col_df = pd.DataFrame({\"variable\": list(col_dict.keys()), \"frequency\": list(col_dict.values())})"
      ]
    },
    {
      "cell_type": "code",
      "execution_count": 83,
      "id": "n1MxYEW-Tjfz",
      "metadata": {
        "id": "n1MxYEW-Tjfz"
      },
      "outputs": [],
      "source": [
        "col_df = col_df[col_df[\"variable\"] != \"\"]"
      ]
    },
    {
      "cell_type": "code",
      "execution_count": 84,
      "id": "NNZAauQaUHPN",
      "metadata": {
        "colab": {
          "base_uri": "https://localhost:8080/",
          "height": 520
        },
        "id": "NNZAauQaUHPN",
        "outputId": "f64c3284-9f2b-4c82-e882-f75296692f33"
      },
      "outputs": [
        {
          "output_type": "execute_result",
          "data": {
            "text/plain": [
              "                                         variable  frequency\n",
              "0                             capital_loss_scaled          2\n",
              "1     marital_relation_married-civ-spouse_husband          4\n",
              "2                                   education_new         37\n",
              "3                             capital_gain_scaled         45\n",
              "4                           hours_per_week_scaled         31\n",
              "5                                      age_scaled         47\n",
              "6                                   fnlwgt_scaled         39\n",
              "7                           workclass_without-pay         13\n",
              "8        marital_relation_married-civ-spouse_wife         18\n",
              "9                          workclass_self-emp-inc         21\n",
              "10                     workclass_self-emp-not-inc         22\n",
              "11                        occupation_adm-clerical         31\n",
              "12                     occupation_exec-managerial         32\n",
              "13                   occupation_handlers-cleaners         18\n",
              "14  marital_relation_never-married_other-relative         21"
            ],
            "text/html": [
              "\n",
              "  <div id=\"df-3520a53a-5b93-4a39-8abf-f105c2777b5a\">\n",
              "    <div class=\"colab-df-container\">\n",
              "      <div>\n",
              "<style scoped>\n",
              "    .dataframe tbody tr th:only-of-type {\n",
              "        vertical-align: middle;\n",
              "    }\n",
              "\n",
              "    .dataframe tbody tr th {\n",
              "        vertical-align: top;\n",
              "    }\n",
              "\n",
              "    .dataframe thead th {\n",
              "        text-align: right;\n",
              "    }\n",
              "</style>\n",
              "<table border=\"1\" class=\"dataframe\">\n",
              "  <thead>\n",
              "    <tr style=\"text-align: right;\">\n",
              "      <th></th>\n",
              "      <th>variable</th>\n",
              "      <th>frequency</th>\n",
              "    </tr>\n",
              "  </thead>\n",
              "  <tbody>\n",
              "    <tr>\n",
              "      <th>0</th>\n",
              "      <td>capital_loss_scaled</td>\n",
              "      <td>2</td>\n",
              "    </tr>\n",
              "    <tr>\n",
              "      <th>1</th>\n",
              "      <td>marital_relation_married-civ-spouse_husband</td>\n",
              "      <td>4</td>\n",
              "    </tr>\n",
              "    <tr>\n",
              "      <th>2</th>\n",
              "      <td>education_new</td>\n",
              "      <td>37</td>\n",
              "    </tr>\n",
              "    <tr>\n",
              "      <th>3</th>\n",
              "      <td>capital_gain_scaled</td>\n",
              "      <td>45</td>\n",
              "    </tr>\n",
              "    <tr>\n",
              "      <th>4</th>\n",
              "      <td>hours_per_week_scaled</td>\n",
              "      <td>31</td>\n",
              "    </tr>\n",
              "    <tr>\n",
              "      <th>5</th>\n",
              "      <td>age_scaled</td>\n",
              "      <td>47</td>\n",
              "    </tr>\n",
              "    <tr>\n",
              "      <th>6</th>\n",
              "      <td>fnlwgt_scaled</td>\n",
              "      <td>39</td>\n",
              "    </tr>\n",
              "    <tr>\n",
              "      <th>7</th>\n",
              "      <td>workclass_without-pay</td>\n",
              "      <td>13</td>\n",
              "    </tr>\n",
              "    <tr>\n",
              "      <th>8</th>\n",
              "      <td>marital_relation_married-civ-spouse_wife</td>\n",
              "      <td>18</td>\n",
              "    </tr>\n",
              "    <tr>\n",
              "      <th>9</th>\n",
              "      <td>workclass_self-emp-inc</td>\n",
              "      <td>21</td>\n",
              "    </tr>\n",
              "    <tr>\n",
              "      <th>10</th>\n",
              "      <td>workclass_self-emp-not-inc</td>\n",
              "      <td>22</td>\n",
              "    </tr>\n",
              "    <tr>\n",
              "      <th>11</th>\n",
              "      <td>occupation_adm-clerical</td>\n",
              "      <td>31</td>\n",
              "    </tr>\n",
              "    <tr>\n",
              "      <th>12</th>\n",
              "      <td>occupation_exec-managerial</td>\n",
              "      <td>32</td>\n",
              "    </tr>\n",
              "    <tr>\n",
              "      <th>13</th>\n",
              "      <td>occupation_handlers-cleaners</td>\n",
              "      <td>18</td>\n",
              "    </tr>\n",
              "    <tr>\n",
              "      <th>14</th>\n",
              "      <td>marital_relation_never-married_other-relative</td>\n",
              "      <td>21</td>\n",
              "    </tr>\n",
              "  </tbody>\n",
              "</table>\n",
              "</div>\n",
              "      <button class=\"colab-df-convert\" onclick=\"convertToInteractive('df-3520a53a-5b93-4a39-8abf-f105c2777b5a')\"\n",
              "              title=\"Convert this dataframe to an interactive table.\"\n",
              "              style=\"display:none;\">\n",
              "        \n",
              "  <svg xmlns=\"http://www.w3.org/2000/svg\" height=\"24px\"viewBox=\"0 0 24 24\"\n",
              "       width=\"24px\">\n",
              "    <path d=\"M0 0h24v24H0V0z\" fill=\"none\"/>\n",
              "    <path d=\"M18.56 5.44l.94 2.06.94-2.06 2.06-.94-2.06-.94-.94-2.06-.94 2.06-2.06.94zm-11 1L8.5 8.5l.94-2.06 2.06-.94-2.06-.94L8.5 2.5l-.94 2.06-2.06.94zm10 10l.94 2.06.94-2.06 2.06-.94-2.06-.94-.94-2.06-.94 2.06-2.06.94z\"/><path d=\"M17.41 7.96l-1.37-1.37c-.4-.4-.92-.59-1.43-.59-.52 0-1.04.2-1.43.59L10.3 9.45l-7.72 7.72c-.78.78-.78 2.05 0 2.83L4 21.41c.39.39.9.59 1.41.59.51 0 1.02-.2 1.41-.59l7.78-7.78 2.81-2.81c.8-.78.8-2.07 0-2.86zM5.41 20L4 18.59l7.72-7.72 1.47 1.35L5.41 20z\"/>\n",
              "  </svg>\n",
              "      </button>\n",
              "      \n",
              "  <style>\n",
              "    .colab-df-container {\n",
              "      display:flex;\n",
              "      flex-wrap:wrap;\n",
              "      gap: 12px;\n",
              "    }\n",
              "\n",
              "    .colab-df-convert {\n",
              "      background-color: #E8F0FE;\n",
              "      border: none;\n",
              "      border-radius: 50%;\n",
              "      cursor: pointer;\n",
              "      display: none;\n",
              "      fill: #1967D2;\n",
              "      height: 32px;\n",
              "      padding: 0 0 0 0;\n",
              "      width: 32px;\n",
              "    }\n",
              "\n",
              "    .colab-df-convert:hover {\n",
              "      background-color: #E2EBFA;\n",
              "      box-shadow: 0px 1px 2px rgba(60, 64, 67, 0.3), 0px 1px 3px 1px rgba(60, 64, 67, 0.15);\n",
              "      fill: #174EA6;\n",
              "    }\n",
              "\n",
              "    [theme=dark] .colab-df-convert {\n",
              "      background-color: #3B4455;\n",
              "      fill: #D2E3FC;\n",
              "    }\n",
              "\n",
              "    [theme=dark] .colab-df-convert:hover {\n",
              "      background-color: #434B5C;\n",
              "      box-shadow: 0px 1px 3px 1px rgba(0, 0, 0, 0.15);\n",
              "      filter: drop-shadow(0px 1px 2px rgba(0, 0, 0, 0.3));\n",
              "      fill: #FFFFFF;\n",
              "    }\n",
              "  </style>\n",
              "\n",
              "      <script>\n",
              "        const buttonEl =\n",
              "          document.querySelector('#df-3520a53a-5b93-4a39-8abf-f105c2777b5a button.colab-df-convert');\n",
              "        buttonEl.style.display =\n",
              "          google.colab.kernel.accessAllowed ? 'block' : 'none';\n",
              "\n",
              "        async function convertToInteractive(key) {\n",
              "          const element = document.querySelector('#df-3520a53a-5b93-4a39-8abf-f105c2777b5a');\n",
              "          const dataTable =\n",
              "            await google.colab.kernel.invokeFunction('convertToInteractive',\n",
              "                                                     [key], {});\n",
              "          if (!dataTable) return;\n",
              "\n",
              "          const docLinkHtml = 'Like what you see? Visit the ' +\n",
              "            '<a target=\"_blank\" href=https://colab.research.google.com/notebooks/data_table.ipynb>data table notebook</a>'\n",
              "            + ' to learn more about interactive tables.';\n",
              "          element.innerHTML = '';\n",
              "          dataTable['output_type'] = 'display_data';\n",
              "          await google.colab.output.renderOutput(dataTable, element);\n",
              "          const docLink = document.createElement('div');\n",
              "          docLink.innerHTML = docLinkHtml;\n",
              "          element.appendChild(docLink);\n",
              "        }\n",
              "      </script>\n",
              "    </div>\n",
              "  </div>\n",
              "  "
            ]
          },
          "metadata": {},
          "execution_count": 84
        }
      ],
      "source": [
        "col_df"
      ]
    }
  ],
  "metadata": {
    "accelerator": "GPU",
    "colab": {
      "provenance": [],
      "include_colab_link": true
    },
    "gpuClass": "standard",
    "kernelspec": {
      "display_name": "Python 3 (ipykernel)",
      "language": "python",
      "name": "python3"
    },
    "language_info": {
      "codemirror_mode": {
        "name": "ipython",
        "version": 3
      },
      "file_extension": ".py",
      "mimetype": "text/x-python",
      "name": "python",
      "nbconvert_exporter": "python",
      "pygments_lexer": "ipython3",
      "version": "3.9.7"
    }
  },
  "nbformat": 4,
  "nbformat_minor": 5
}