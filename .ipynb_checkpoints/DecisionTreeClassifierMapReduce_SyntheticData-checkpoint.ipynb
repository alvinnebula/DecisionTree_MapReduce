{
 "cells": [
  {
   "cell_type": "markdown",
   "id": "980f9353",
   "metadata": {
    "colab_type": "text",
    "id": "view-in-github"
   },
   "source": [
    "<a href=\"https://colab.research.google.com/github/alvinnebula/DecisionTree_MapReduce/blob/main/DecisionTreeClassifierMapReduce_SyntheticData.ipynb\" target=\"_parent\"><img src=\"https://colab.research.google.com/assets/colab-badge.svg\" alt=\"Open In Colab\"/></a>"
   ]
  },
  {
   "cell_type": "code",
   "execution_count": 1,
   "id": "qzcrCwEh56F9",
   "metadata": {
    "colab": {
     "base_uri": "https://localhost:8080/"
    },
    "id": "qzcrCwEh56F9",
    "outputId": "1045b95c-e449-4c08-892b-2fe1105c11b7"
   },
   "outputs": [],
   "source": [
    "#!pip install pyspark \n",
    "#!pip install -U -q PyDrive\n",
    "#!apt install openjdk-8-jdk-headless -qq \n",
    "#import os\n",
    "#os.environ[\"JAVA_HOME\"] = \"/usr/lib/jvm/java-8-openjdk-amd64\""
   ]
  },
  {
   "cell_type": "code",
   "execution_count": 2,
   "id": "nIqx5UPu0Ht8",
   "metadata": {
    "colab": {
     "base_uri": "https://localhost:8080/"
    },
    "id": "nIqx5UPu0Ht8",
    "outputId": "304ed5c1-47ea-4146-dc7c-8c60f4dc0ccb"
   },
   "outputs": [],
   "source": [
    "#!pip install --upgrade parallel-pandas"
   ]
  },
  {
   "cell_type": "code",
   "execution_count": 3,
   "id": "B_XcCogDIO_M",
   "metadata": {
    "colab": {
     "base_uri": "https://localhost:8080/"
    },
    "id": "B_XcCogDIO_M",
    "outputId": "f562af2c-b7a5-43e3-cfe0-94cf5d2fc752"
   },
   "outputs": [],
   "source": [
    "#!pip install  pyjanitor"
   ]
  },
  {
   "cell_type": "code",
   "execution_count": 4,
   "id": "93ecd07b",
   "metadata": {
    "id": "93ecd07b"
   },
   "outputs": [],
   "source": [
    "import pandas as pd\n",
    "import numpy as np\n",
    "\n",
    "from sklearn.compose import ColumnTransformer\n",
    "from sklearn.model_selection import GridSearchCV, train_test_split\n",
    "from sklearn.preprocessing import LabelEncoder, OrdinalEncoder, MinMaxScaler, Normalizer, OneHotEncoder\n",
    "import seaborn as sns; sns.set_style(\"dark\")\n",
    "%matplotlib inline\n",
    "import matplotlib.pyplot as plt\n",
    "from pyspark.sql import SparkSession\n",
    "from pyspark import SparkConf, SparkContext\n",
    "import janitor\n",
    "#from parallel_pandas import ParallelPandas"
   ]
  },
  {
   "cell_type": "code",
   "execution_count": 5,
   "id": "ZriXpqcmXtTu",
   "metadata": {
    "colab": {
     "base_uri": "https://localhost:8080/"
    },
    "id": "ZriXpqcmXtTu",
    "outputId": "78cf54f1-ee2d-40d2-867e-643daa694aef"
   },
   "outputs": [],
   "source": [
    "#from google.colab import drive\n",
    "#import os"
   ]
  },
  {
   "cell_type": "code",
   "execution_count": 6,
   "id": "n7aeIdJHXvib",
   "metadata": {
    "colab": {
     "base_uri": "https://localhost:8080/"
    },
    "id": "n7aeIdJHXvib",
    "outputId": "d9313655-b8d2-4a11-b1b1-896dc35a5d3b"
   },
   "outputs": [],
   "source": [
    "#drive.mount('/content/drive')\n",
    "#cur_path = \"/content/drive/MyDrive/Big Data/Project\"\n",
    "#os.chdir(cur_path)"
   ]
  },
  {
   "cell_type": "code",
   "execution_count": 7,
   "id": "b34d92c8",
   "metadata": {},
   "outputs": [],
   "source": [
    "df_small = pd.read_csv(\"../../../data/p_dsi/big_data_scaling_sp23/project/DT-MapReduce/adult.csv\").clean_names()"
   ]
  },
  {
   "cell_type": "code",
   "execution_count": 8,
   "id": "b601a9f3",
   "metadata": {
    "colab": {
     "base_uri": "https://localhost:8080/"
    },
    "id": "b601a9f3",
    "outputId": "d1e70688-d2a1-4560-bd6d-47509e457694"
   },
   "outputs": [
    {
     "data": {
      "text/plain": [
       "Index(['age', 'workclass', 'fnlwgt', 'education', 'education_num',\n",
       "       'marital_status', 'occupation', 'relationship', 'race', 'sex',\n",
       "       'capital_gain', 'capital_loss', 'hours_per_week', 'native_country',\n",
       "       'income'],\n",
       "      dtype='object')"
      ]
     },
     "execution_count": 8,
     "metadata": {},
     "output_type": "execute_result"
    }
   ],
   "source": [
    "#df_small = pd.read_csv(\"adult.csv\").clean_names()\n",
    "df_small.columns"
   ]
  },
  {
   "cell_type": "code",
   "execution_count": 9,
   "id": "IXTB6Of9Fjrs",
   "metadata": {
    "colab": {
     "base_uri": "https://localhost:8080/"
    },
    "id": "IXTB6Of9Fjrs",
    "outputId": "1a169b8c-d2a6-4a52-bd6b-ca8097c5a829"
   },
   "outputs": [],
   "source": [
    "cols = list(df_small.columns)"
   ]
  },
  {
   "cell_type": "code",
   "execution_count": 10,
   "id": "x4Y2OffpFjxo",
   "metadata": {
    "colab": {
     "base_uri": "https://localhost:8080/",
     "height": 261
    },
    "id": "x4Y2OffpFjxo",
    "outputId": "1d8404cd-b293-45b2-de21-dd9acab8cd1a"
   },
   "outputs": [
    {
     "data": {
      "text/html": [
       "<div>\n",
       "<style scoped>\n",
       "    .dataframe tbody tr th:only-of-type {\n",
       "        vertical-align: middle;\n",
       "    }\n",
       "\n",
       "    .dataframe tbody tr th {\n",
       "        vertical-align: top;\n",
       "    }\n",
       "\n",
       "    .dataframe thead th {\n",
       "        text-align: right;\n",
       "    }\n",
       "</style>\n",
       "<table border=\"1\" class=\"dataframe\">\n",
       "  <thead>\n",
       "    <tr style=\"text-align: right;\">\n",
       "      <th></th>\n",
       "      <th>0</th>\n",
       "      <th>1</th>\n",
       "      <th>2</th>\n",
       "      <th>3</th>\n",
       "      <th>4</th>\n",
       "      <th>5</th>\n",
       "      <th>6</th>\n",
       "      <th>7</th>\n",
       "      <th>8</th>\n",
       "      <th>9</th>\n",
       "      <th>10</th>\n",
       "      <th>11</th>\n",
       "      <th>12</th>\n",
       "      <th>13</th>\n",
       "      <th>14</th>\n",
       "    </tr>\n",
       "  </thead>\n",
       "  <tbody>\n",
       "    <tr>\n",
       "      <th>0</th>\n",
       "      <td>39</td>\n",
       "      <td>State-gov</td>\n",
       "      <td>77516</td>\n",
       "      <td>Bachelors</td>\n",
       "      <td>13</td>\n",
       "      <td>Never-married</td>\n",
       "      <td>Adm-clerical</td>\n",
       "      <td>Not-in-family</td>\n",
       "      <td>White</td>\n",
       "      <td>Male</td>\n",
       "      <td>2174</td>\n",
       "      <td>0</td>\n",
       "      <td>40</td>\n",
       "      <td>United-States</td>\n",
       "      <td>&lt;=50K</td>\n",
       "    </tr>\n",
       "    <tr>\n",
       "      <th>1</th>\n",
       "      <td>50</td>\n",
       "      <td>Self-emp-not-inc</td>\n",
       "      <td>83311</td>\n",
       "      <td>Bachelors</td>\n",
       "      <td>13</td>\n",
       "      <td>Married-civ-spouse</td>\n",
       "      <td>Exec-managerial</td>\n",
       "      <td>Husband</td>\n",
       "      <td>White</td>\n",
       "      <td>Male</td>\n",
       "      <td>0</td>\n",
       "      <td>0</td>\n",
       "      <td>13</td>\n",
       "      <td>United-States</td>\n",
       "      <td>&lt;=50K</td>\n",
       "    </tr>\n",
       "    <tr>\n",
       "      <th>2</th>\n",
       "      <td>38</td>\n",
       "      <td>Private</td>\n",
       "      <td>215646</td>\n",
       "      <td>HS-grad</td>\n",
       "      <td>9</td>\n",
       "      <td>Divorced</td>\n",
       "      <td>Handlers-cleaners</td>\n",
       "      <td>Not-in-family</td>\n",
       "      <td>White</td>\n",
       "      <td>Male</td>\n",
       "      <td>0</td>\n",
       "      <td>0</td>\n",
       "      <td>40</td>\n",
       "      <td>United-States</td>\n",
       "      <td>&lt;=50K</td>\n",
       "    </tr>\n",
       "    <tr>\n",
       "      <th>3</th>\n",
       "      <td>53</td>\n",
       "      <td>Private</td>\n",
       "      <td>234721</td>\n",
       "      <td>11th</td>\n",
       "      <td>7</td>\n",
       "      <td>Married-civ-spouse</td>\n",
       "      <td>Handlers-cleaners</td>\n",
       "      <td>Husband</td>\n",
       "      <td>Black</td>\n",
       "      <td>Male</td>\n",
       "      <td>0</td>\n",
       "      <td>0</td>\n",
       "      <td>40</td>\n",
       "      <td>United-States</td>\n",
       "      <td>&lt;=50K</td>\n",
       "    </tr>\n",
       "    <tr>\n",
       "      <th>4</th>\n",
       "      <td>28</td>\n",
       "      <td>Private</td>\n",
       "      <td>338409</td>\n",
       "      <td>Bachelors</td>\n",
       "      <td>13</td>\n",
       "      <td>Married-civ-spouse</td>\n",
       "      <td>Prof-specialty</td>\n",
       "      <td>Wife</td>\n",
       "      <td>Black</td>\n",
       "      <td>Female</td>\n",
       "      <td>0</td>\n",
       "      <td>0</td>\n",
       "      <td>40</td>\n",
       "      <td>Cuba</td>\n",
       "      <td>&lt;=50K</td>\n",
       "    </tr>\n",
       "  </tbody>\n",
       "</table>\n",
       "</div>"
      ],
      "text/plain": [
       "   0                 1       2          3   4                   5   \\\n",
       "0  39         State-gov   77516  Bachelors  13       Never-married   \n",
       "1  50  Self-emp-not-inc   83311  Bachelors  13  Married-civ-spouse   \n",
       "2  38           Private  215646    HS-grad   9            Divorced   \n",
       "3  53           Private  234721       11th   7  Married-civ-spouse   \n",
       "4  28           Private  338409  Bachelors  13  Married-civ-spouse   \n",
       "\n",
       "                  6              7      8       9     10  11  12  \\\n",
       "0       Adm-clerical  Not-in-family  White    Male  2174   0  40   \n",
       "1    Exec-managerial        Husband  White    Male     0   0  13   \n",
       "2  Handlers-cleaners  Not-in-family  White    Male     0   0  40   \n",
       "3  Handlers-cleaners        Husband  Black    Male     0   0  40   \n",
       "4     Prof-specialty           Wife  Black  Female     0   0  40   \n",
       "\n",
       "              13     14  \n",
       "0  United-States  <=50K  \n",
       "1  United-States  <=50K  \n",
       "2  United-States  <=50K  \n",
       "3  United-States  <=50K  \n",
       "4           Cuba  <=50K  "
      ]
     },
     "execution_count": 10,
     "metadata": {},
     "output_type": "execute_result"
    }
   ],
   "source": [
    "df = pd.read_table(\"adult100k.txt\", sep = \",\", header = None)\n",
    "df.head()"
   ]
  },
  {
   "cell_type": "code",
   "execution_count": 11,
   "id": "-w_C2zI-Fj2u",
   "metadata": {
    "colab": {
     "base_uri": "https://localhost:8080/",
     "height": 392
    },
    "id": "-w_C2zI-Fj2u",
    "outputId": "ddebdc95-3975-4848-d945-b0e1b6236838"
   },
   "outputs": [
    {
     "data": {
      "text/html": [
       "<div>\n",
       "<style scoped>\n",
       "    .dataframe tbody tr th:only-of-type {\n",
       "        vertical-align: middle;\n",
       "    }\n",
       "\n",
       "    .dataframe tbody tr th {\n",
       "        vertical-align: top;\n",
       "    }\n",
       "\n",
       "    .dataframe thead th {\n",
       "        text-align: right;\n",
       "    }\n",
       "</style>\n",
       "<table border=\"1\" class=\"dataframe\">\n",
       "  <thead>\n",
       "    <tr style=\"text-align: right;\">\n",
       "      <th></th>\n",
       "      <th>age</th>\n",
       "      <th>workclass</th>\n",
       "      <th>fnlwgt</th>\n",
       "      <th>education</th>\n",
       "      <th>education_num</th>\n",
       "      <th>marital_status</th>\n",
       "      <th>occupation</th>\n",
       "      <th>relationship</th>\n",
       "      <th>race</th>\n",
       "      <th>sex</th>\n",
       "      <th>capital_gain</th>\n",
       "      <th>capital_loss</th>\n",
       "      <th>hours_per_week</th>\n",
       "      <th>native_country</th>\n",
       "      <th>income</th>\n",
       "    </tr>\n",
       "  </thead>\n",
       "  <tbody>\n",
       "    <tr>\n",
       "      <th>0</th>\n",
       "      <td>39</td>\n",
       "      <td>State-gov</td>\n",
       "      <td>77516</td>\n",
       "      <td>Bachelors</td>\n",
       "      <td>13</td>\n",
       "      <td>Never-married</td>\n",
       "      <td>Adm-clerical</td>\n",
       "      <td>Not-in-family</td>\n",
       "      <td>White</td>\n",
       "      <td>Male</td>\n",
       "      <td>2174</td>\n",
       "      <td>0</td>\n",
       "      <td>40</td>\n",
       "      <td>United-States</td>\n",
       "      <td>&lt;=50K</td>\n",
       "    </tr>\n",
       "    <tr>\n",
       "      <th>1</th>\n",
       "      <td>50</td>\n",
       "      <td>Self-emp-not-inc</td>\n",
       "      <td>83311</td>\n",
       "      <td>Bachelors</td>\n",
       "      <td>13</td>\n",
       "      <td>Married-civ-spouse</td>\n",
       "      <td>Exec-managerial</td>\n",
       "      <td>Husband</td>\n",
       "      <td>White</td>\n",
       "      <td>Male</td>\n",
       "      <td>0</td>\n",
       "      <td>0</td>\n",
       "      <td>13</td>\n",
       "      <td>United-States</td>\n",
       "      <td>&lt;=50K</td>\n",
       "    </tr>\n",
       "    <tr>\n",
       "      <th>2</th>\n",
       "      <td>38</td>\n",
       "      <td>Private</td>\n",
       "      <td>215646</td>\n",
       "      <td>HS-grad</td>\n",
       "      <td>9</td>\n",
       "      <td>Divorced</td>\n",
       "      <td>Handlers-cleaners</td>\n",
       "      <td>Not-in-family</td>\n",
       "      <td>White</td>\n",
       "      <td>Male</td>\n",
       "      <td>0</td>\n",
       "      <td>0</td>\n",
       "      <td>40</td>\n",
       "      <td>United-States</td>\n",
       "      <td>&lt;=50K</td>\n",
       "    </tr>\n",
       "    <tr>\n",
       "      <th>3</th>\n",
       "      <td>53</td>\n",
       "      <td>Private</td>\n",
       "      <td>234721</td>\n",
       "      <td>11th</td>\n",
       "      <td>7</td>\n",
       "      <td>Married-civ-spouse</td>\n",
       "      <td>Handlers-cleaners</td>\n",
       "      <td>Husband</td>\n",
       "      <td>Black</td>\n",
       "      <td>Male</td>\n",
       "      <td>0</td>\n",
       "      <td>0</td>\n",
       "      <td>40</td>\n",
       "      <td>United-States</td>\n",
       "      <td>&lt;=50K</td>\n",
       "    </tr>\n",
       "    <tr>\n",
       "      <th>4</th>\n",
       "      <td>28</td>\n",
       "      <td>Private</td>\n",
       "      <td>338409</td>\n",
       "      <td>Bachelors</td>\n",
       "      <td>13</td>\n",
       "      <td>Married-civ-spouse</td>\n",
       "      <td>Prof-specialty</td>\n",
       "      <td>Wife</td>\n",
       "      <td>Black</td>\n",
       "      <td>Female</td>\n",
       "      <td>0</td>\n",
       "      <td>0</td>\n",
       "      <td>40</td>\n",
       "      <td>Cuba</td>\n",
       "      <td>&lt;=50K</td>\n",
       "    </tr>\n",
       "  </tbody>\n",
       "</table>\n",
       "</div>"
      ],
      "text/plain": [
       "   age         workclass  fnlwgt  education  education_num  \\\n",
       "0   39         State-gov   77516  Bachelors             13   \n",
       "1   50  Self-emp-not-inc   83311  Bachelors             13   \n",
       "2   38           Private  215646    HS-grad              9   \n",
       "3   53           Private  234721       11th              7   \n",
       "4   28           Private  338409  Bachelors             13   \n",
       "\n",
       "       marital_status         occupation   relationship   race     sex  \\\n",
       "0       Never-married       Adm-clerical  Not-in-family  White    Male   \n",
       "1  Married-civ-spouse    Exec-managerial        Husband  White    Male   \n",
       "2            Divorced  Handlers-cleaners  Not-in-family  White    Male   \n",
       "3  Married-civ-spouse  Handlers-cleaners        Husband  Black    Male   \n",
       "4  Married-civ-spouse     Prof-specialty           Wife  Black  Female   \n",
       "\n",
       "   capital_gain  capital_loss  hours_per_week native_country income  \n",
       "0          2174             0              40  United-States  <=50K  \n",
       "1             0             0              13  United-States  <=50K  \n",
       "2             0             0              40  United-States  <=50K  \n",
       "3             0             0              40  United-States  <=50K  \n",
       "4             0             0              40           Cuba  <=50K  "
      ]
     },
     "execution_count": 11,
     "metadata": {},
     "output_type": "execute_result"
    }
   ],
   "source": [
    "for i in range(len(cols)):\n",
    "    df = df.rename(columns= {i: cols[i]})\n",
    "df.head()"
   ]
  },
  {
   "cell_type": "code",
   "execution_count": 12,
   "id": "680ba872",
   "metadata": {
    "colab": {
     "base_uri": "https://localhost:8080/"
    },
    "id": "680ba872",
    "outputId": "958ae9c0-5558-4ef7-ff14-edc1cd643f4d"
   },
   "outputs": [],
   "source": [
    "from pandas.api.types import is_string_dtype\n",
    "from pandas.api.types import is_numeric_dtype\n",
    "from pandas.api.types import is_categorical_dtype"
   ]
  },
  {
   "cell_type": "code",
   "execution_count": 13,
   "id": "152790b0",
   "metadata": {
    "colab": {
     "base_uri": "https://localhost:8080/"
    },
    "id": "152790b0",
    "outputId": "30ccb07c-4056-4c74-eb49-2aacf82dc1ed"
   },
   "outputs": [],
   "source": [
    "df[\"marital_relation\"] = df[\"marital_status\"] + \"_\" + df[\"relationship\"]\n",
    "df = df.drop([\"sex\",\"race\",\"education_num\", \"native_country\", \"marital_status\",\"relationship\"], axis = 1)"
   ]
  },
  {
   "cell_type": "code",
   "execution_count": 14,
   "id": "13cc594d",
   "metadata": {
    "colab": {
     "base_uri": "https://localhost:8080/"
    },
    "id": "13cc594d",
    "outputId": "2f889a4c-0370-4afe-d9d6-081e3b470edc"
   },
   "outputs": [
    {
     "name": "stdout",
     "output_type": "stream",
     "text": [
      "<class 'pandas.core.frame.DataFrame'>\n",
      "RangeIndex: 100000 entries, 0 to 99999\n",
      "Data columns (total 10 columns):\n",
      " #   Column            Non-Null Count   Dtype \n",
      "---  ------            --------------   ----- \n",
      " 0   age               100000 non-null  int64 \n",
      " 1   workclass         100000 non-null  object\n",
      " 2   fnlwgt            100000 non-null  int64 \n",
      " 3   education         100000 non-null  object\n",
      " 4   occupation        100000 non-null  object\n",
      " 5   capital_gain      100000 non-null  int64 \n",
      " 6   capital_loss      100000 non-null  int64 \n",
      " 7   hours_per_week    100000 non-null  int64 \n",
      " 8   income            100000 non-null  object\n",
      " 9   marital_relation  100000 non-null  object\n",
      "dtypes: int64(5), object(5)\n",
      "memory usage: 7.6+ MB\n"
     ]
    }
   ],
   "source": [
    "df.info()"
   ]
  },
  {
   "cell_type": "code",
   "execution_count": 15,
   "id": "b731f3c7",
   "metadata": {
    "colab": {
     "base_uri": "https://localhost:8080/"
    },
    "id": "b731f3c7",
    "outputId": "2b405cae-6587-43bf-cb74-a1cc4eb0cbcf"
   },
   "outputs": [],
   "source": [
    "df[\"income\"] = df[\"income\"].replace([\"<=50K\",\">50K\"], [0,1])"
   ]
  },
  {
   "cell_type": "code",
   "execution_count": 16,
   "id": "8ea682a2",
   "metadata": {
    "colab": {
     "base_uri": "https://localhost:8080/"
    },
    "id": "8ea682a2",
    "outputId": "e6c329da-be94-478d-84b5-11ee878edaff"
   },
   "outputs": [],
   "source": [
    "train, test = train_test_split(df, random_state = 10, train_size = 0.8, stratify = df[\"income\"])"
   ]
  },
  {
   "cell_type": "code",
   "execution_count": 17,
   "id": "0c0c83d9",
   "metadata": {
    "colab": {
     "base_uri": "https://localhost:8080/"
    },
    "id": "0c0c83d9",
    "outputId": "cc043100-ee06-4a8c-b8c0-3f89d807645f"
   },
   "outputs": [],
   "source": [
    "train_0 = train[train[\"income\"] == 0]\n",
    "train_0 = train_0.drop_duplicates()\n",
    "train_1 = train[train[\"income\"] == 1]"
   ]
  },
  {
   "cell_type": "code",
   "execution_count": 18,
   "id": "c2e3e27e",
   "metadata": {
    "colab": {
     "base_uri": "https://localhost:8080/"
    },
    "id": "c2e3e27e",
    "outputId": "7f1eca85-df12-4e68-93e9-c50242502a34"
   },
   "outputs": [],
   "source": [
    "train_new = pd.concat([train_0, train_1], axis = 0)"
   ]
  },
  {
   "cell_type": "code",
   "execution_count": 19,
   "id": "8ead18e8",
   "metadata": {
    "colab": {
     "base_uri": "https://localhost:8080/"
    },
    "id": "8ead18e8",
    "outputId": "5a37254a-e19e-4d11-f306-bfda48ca86af"
   },
   "outputs": [],
   "source": [
    "x_train, y_train = train_new.drop(\"income\", axis = 1), train_new[\"income\"]\n",
    "x_test, y_test = test.drop(\"income\", axis = 1), test[\"income\"]"
   ]
  },
  {
   "cell_type": "markdown",
   "id": "gfaOWl52m641",
   "metadata": {
    "id": "gfaOWl52m641"
   },
   "source": [
    "### Feature Engineering"
   ]
  },
  {
   "cell_type": "code",
   "execution_count": 20,
   "id": "14947eaa",
   "metadata": {
    "colab": {
     "base_uri": "https://localhost:8080/"
    },
    "id": "14947eaa",
    "outputId": "6e88214f-b942-4ad4-9dd0-8e036b2ff431"
   },
   "outputs": [],
   "source": [
    "num = []\n",
    "cat = []\n",
    "stri = []\n",
    "columns = list(x_train.columns)\n",
    "for col in columns:\n",
    "    if is_numeric_dtype(x_train[col]):\n",
    "        num.append(col)\n",
    "    elif is_string_dtype(x_train[col]):\n",
    "        stri.append(col)\n",
    "    elif is_categorical_dtype(x_train[col]):\n",
    "        cat.append(col)"
   ]
  },
  {
   "cell_type": "code",
   "execution_count": 21,
   "id": "b1ff4ac2",
   "metadata": {
    "colab": {
     "base_uri": "https://localhost:8080/"
    },
    "id": "b1ff4ac2",
    "outputId": "e1e42c3f-7ed6-411b-aef9-244b86cfe468"
   },
   "outputs": [
    {
     "data": {
      "text/plain": [
       "(['age', 'fnlwgt', 'capital_gain', 'capital_loss', 'hours_per_week'],\n",
       " ['workclass', 'education', 'occupation', 'marital_relation'],\n",
       " [])"
      ]
     },
     "execution_count": 21,
     "metadata": {},
     "output_type": "execute_result"
    }
   ],
   "source": [
    "num, stri, cat"
   ]
  },
  {
   "cell_type": "code",
   "execution_count": 22,
   "id": "281c0b68",
   "metadata": {
    "colab": {
     "base_uri": "https://localhost:8080/"
    },
    "id": "281c0b68",
    "outputId": "4f5cb6e0-b429-47a7-d741-d2e6c2ba566f"
   },
   "outputs": [
    {
     "data": {
      "text/plain": [
       "array(['Bachelors', 'HS-grad', '11th', 'Masters', '9th', 'Some-college',\n",
       "       'Assoc-acdm', 'Assoc-voc', '7th-8th', 'Doctorate', 'Prof-school',\n",
       "       '5th-6th', '10th', '1st-4th', 'Preschool', '12th'], dtype=object)"
      ]
     },
     "execution_count": 22,
     "metadata": {},
     "output_type": "execute_result"
    }
   ],
   "source": [
    "df[\"education\"].unique()"
   ]
  },
  {
   "cell_type": "code",
   "execution_count": 23,
   "id": "qFnlR1fhYbrN",
   "metadata": {
    "colab": {
     "base_uri": "https://localhost:8080/"
    },
    "id": "qFnlR1fhYbrN",
    "outputId": "672de878-6efb-4a96-ba6f-dc5e154e3bc6"
   },
   "outputs": [],
   "source": [
    "educ = [\"education\"]"
   ]
  },
  {
   "cell_type": "code",
   "execution_count": 24,
   "id": "d8e738a0",
   "metadata": {
    "colab": {
     "base_uri": "https://localhost:8080/"
    },
    "id": "d8e738a0",
    "outputId": "414508f3-a900-4384-f4c2-65b3aca00ab6"
   },
   "outputs": [
    {
     "data": {
      "text/plain": [
       "(['age', 'fnlwgt', 'capital_gain', 'capital_loss', 'hours_per_week'],\n",
       " ['workclass', 'occupation', 'marital_relation'],\n",
       " [])"
      ]
     },
     "execution_count": 24,
     "metadata": {},
     "output_type": "execute_result"
    }
   ],
   "source": [
    "stri.remove(\"education\")\n",
    "num, stri, cat"
   ]
  },
  {
   "cell_type": "code",
   "execution_count": 25,
   "id": "51a8bbfb",
   "metadata": {
    "colab": {
     "base_uri": "https://localhost:8080/"
    },
    "id": "51a8bbfb",
    "outputId": "c256654d-616c-47cd-b274-ae54f8f12739"
   },
   "outputs": [],
   "source": [
    "min_max = MinMaxScaler()\n",
    "ohe = OneHotEncoder()\n",
    "ordi = OrdinalEncoder(categories = [[\"Preschool\", \"1st-4th\",\"5th-6th\", \"7th-8th\", \"9th\", \"10th\", \n",
    "                                            \"11th\", \"12th\", \"HS-grad\", \"Some-college\",\n",
    "                                            \"Assoc-voc\",\"Assoc-acdm\",\"Bachelors\", \"Masters\",\"Prof-school\",\"Doctorate\"]])"
   ]
  },
  {
   "cell_type": "code",
   "execution_count": 26,
   "id": "4f296f85",
   "metadata": {
    "colab": {
     "base_uri": "https://localhost:8080/"
    },
    "id": "4f296f85",
    "outputId": "a1ca609e-0fd8-4f35-fff8-baa3dcdd939e"
   },
   "outputs": [],
   "source": [
    "def column_transform(df, columns):\n",
    "    new_df = df.copy()\n",
    "    for col in columns:\n",
    "        # num ~ [0,1]\n",
    "        if col in num:\n",
    "            ct = ColumnTransformer([(\"min_max\", min_max, [col])])\n",
    "            new_df[col + \"_scaled\"] = ct.fit_transform(df)\n",
    "            continue\n",
    "        # stri ~ {0,1}    \n",
    "        elif col in stri:\n",
    "            elements = sorted(df[col].unique())\n",
    "            ct2 = ColumnTransformer([(\"ohe\", ohe, [col])])\n",
    "            if len(elements) > 2:\n",
    "                x = ct2.fit_transform(df).toarray()\n",
    "            elif len(elements) <= 2:\n",
    "                x = np.array(ct2.fit_transform(df))\n",
    "            for i in range(len(elements)):\n",
    "                new_df[col + \"_\" + elements[i].lower()] = x[:,i]\n",
    "        # depends on ord class\n",
    "        elif col in educ:\n",
    "            ct3 = ColumnTransformer([(\"ord\", ordi, [col])])\n",
    "            x = ct3.fit_transform(df)\n",
    "            new_df[col + \"_new\"] = x\n",
    "            continue\n",
    "    new_df = new_df.drop(columns, axis = 1)\n",
    "    return new_df"
   ]
  },
  {
   "cell_type": "code",
   "execution_count": 27,
   "id": "146a7d14",
   "metadata": {
    "colab": {
     "base_uri": "https://localhost:8080/"
    },
    "id": "146a7d14",
    "outputId": "4ea744ac-801b-45da-f886-f63ec909c35d"
   },
   "outputs": [],
   "source": [
    "new_train_data = column_transform(x_train, list(x_train.columns))"
   ]
  },
  {
   "cell_type": "code",
   "execution_count": 28,
   "id": "2t4axO6nRmRG",
   "metadata": {
    "colab": {
     "base_uri": "https://localhost:8080/"
    },
    "id": "2t4axO6nRmRG",
    "outputId": "e809fcd6-ff24-46b1-eb06-da353949531a"
   },
   "outputs": [],
   "source": [
    "new_train_data[\"income\"] = train_new[\"income\"]\n",
    "\n",
    "#new_train_data['education_new']\n",
    "# 'age', 'fnlwgt', 'capital_gain', 'capital_loss', 'hours_per_week'"
   ]
  },
  {
   "cell_type": "code",
   "execution_count": 29,
   "id": "ooTdBRQOoKRB",
   "metadata": {
    "colab": {
     "base_uri": "https://localhost:8080/"
    },
    "id": "ooTdBRQOoKRB",
    "outputId": "84d3e5db-bc4d-4f91-9efa-37eb8f1b7695"
   },
   "outputs": [],
   "source": [
    "def column_fit_transform(train, other, columns):\n",
    "    new_df = other.copy()\n",
    "    for col in columns:\n",
    "        # minmax\n",
    "        if col in num:\n",
    "            ct = ColumnTransformer([(\"min_max\", min_max, [col])])\n",
    "            ct.fit(train)\n",
    "            new_df[col + \"_scaled\"] = ct.transform(other)\n",
    "        # ohe\n",
    "        elif col in stri:\n",
    "            elements = sorted(other[col].unique())\n",
    "            ct2 = ColumnTransformer([(\"ohe\", ohe, [col])])\n",
    "            if len(elements) > 2:\n",
    "                ct2.fit(train)\n",
    "                x = ct2.transform(other).toarray()\n",
    "            elif len(elements) <= 2:\n",
    "                ct2.fit(train)\n",
    "                x = np.array(ct2.transform(other))\n",
    "            for i in range(len(elements)):\n",
    "                new_df[col + \"_\" + elements[i].lower()] = x[:,i]\n",
    "        # ord\n",
    "        elif col in educ:\n",
    "            ct3 = ColumnTransformer([(\"ord\", ordi, [col])])\n",
    "            ct3.fit(train)\n",
    "            x = ct3.transform(other)\n",
    "            new_df[col + \"_new\"] = x\n",
    "        \n",
    "    new_df = new_df.drop(columns, axis = 1)\n",
    "    return new_df"
   ]
  },
  {
   "cell_type": "code",
   "execution_count": 30,
   "id": "c3g1QERUYPYE",
   "metadata": {
    "colab": {
     "base_uri": "https://localhost:8080/",
     "height": 352
    },
    "id": "c3g1QERUYPYE",
    "outputId": "2734cda9-0e61-4ce8-8b19-0f3823d1d979"
   },
   "outputs": [
    {
     "data": {
      "text/html": [
       "<div>\n",
       "<style scoped>\n",
       "    .dataframe tbody tr th:only-of-type {\n",
       "        vertical-align: middle;\n",
       "    }\n",
       "\n",
       "    .dataframe tbody tr th {\n",
       "        vertical-align: top;\n",
       "    }\n",
       "\n",
       "    .dataframe thead th {\n",
       "        text-align: right;\n",
       "    }\n",
       "</style>\n",
       "<table border=\"1\" class=\"dataframe\">\n",
       "  <thead>\n",
       "    <tr style=\"text-align: right;\">\n",
       "      <th></th>\n",
       "      <th>age_scaled</th>\n",
       "      <th>workclass_?</th>\n",
       "      <th>workclass_federal-gov</th>\n",
       "      <th>workclass_local-gov</th>\n",
       "      <th>workclass_never-worked</th>\n",
       "      <th>workclass_private</th>\n",
       "      <th>workclass_self-emp-inc</th>\n",
       "      <th>workclass_self-emp-not-inc</th>\n",
       "      <th>workclass_state-gov</th>\n",
       "      <th>workclass_without-pay</th>\n",
       "      <th>...</th>\n",
       "      <th>marital_relation_separated_other-relative</th>\n",
       "      <th>marital_relation_separated_own-child</th>\n",
       "      <th>marital_relation_separated_unmarried</th>\n",
       "      <th>marital_relation_separated_wife</th>\n",
       "      <th>marital_relation_widowed_husband</th>\n",
       "      <th>marital_relation_widowed_not-in-family</th>\n",
       "      <th>marital_relation_widowed_other-relative</th>\n",
       "      <th>marital_relation_widowed_own-child</th>\n",
       "      <th>marital_relation_widowed_unmarried</th>\n",
       "      <th>marital_relation_widowed_wife</th>\n",
       "    </tr>\n",
       "  </thead>\n",
       "  <tbody>\n",
       "    <tr>\n",
       "      <th>8493</th>\n",
       "      <td>0.438356</td>\n",
       "      <td>0.0</td>\n",
       "      <td>0.0</td>\n",
       "      <td>0.0</td>\n",
       "      <td>0.0</td>\n",
       "      <td>1.0</td>\n",
       "      <td>0.0</td>\n",
       "      <td>0.0</td>\n",
       "      <td>0.0</td>\n",
       "      <td>0.0</td>\n",
       "      <td>...</td>\n",
       "      <td>0.0</td>\n",
       "      <td>0.0</td>\n",
       "      <td>0.0</td>\n",
       "      <td>0.0</td>\n",
       "      <td>0.0</td>\n",
       "      <td>0.0</td>\n",
       "      <td>0.0</td>\n",
       "      <td>0.0</td>\n",
       "      <td>0.0</td>\n",
       "      <td>0.0</td>\n",
       "    </tr>\n",
       "    <tr>\n",
       "      <th>65084</th>\n",
       "      <td>0.767123</td>\n",
       "      <td>0.0</td>\n",
       "      <td>0.0</td>\n",
       "      <td>0.0</td>\n",
       "      <td>0.0</td>\n",
       "      <td>0.0</td>\n",
       "      <td>0.0</td>\n",
       "      <td>1.0</td>\n",
       "      <td>0.0</td>\n",
       "      <td>0.0</td>\n",
       "      <td>...</td>\n",
       "      <td>0.0</td>\n",
       "      <td>0.0</td>\n",
       "      <td>0.0</td>\n",
       "      <td>0.0</td>\n",
       "      <td>0.0</td>\n",
       "      <td>0.0</td>\n",
       "      <td>0.0</td>\n",
       "      <td>0.0</td>\n",
       "      <td>0.0</td>\n",
       "      <td>0.0</td>\n",
       "    </tr>\n",
       "    <tr>\n",
       "      <th>7537</th>\n",
       "      <td>0.109589</td>\n",
       "      <td>0.0</td>\n",
       "      <td>0.0</td>\n",
       "      <td>0.0</td>\n",
       "      <td>0.0</td>\n",
       "      <td>1.0</td>\n",
       "      <td>0.0</td>\n",
       "      <td>0.0</td>\n",
       "      <td>0.0</td>\n",
       "      <td>0.0</td>\n",
       "      <td>...</td>\n",
       "      <td>0.0</td>\n",
       "      <td>0.0</td>\n",
       "      <td>0.0</td>\n",
       "      <td>0.0</td>\n",
       "      <td>0.0</td>\n",
       "      <td>0.0</td>\n",
       "      <td>0.0</td>\n",
       "      <td>0.0</td>\n",
       "      <td>0.0</td>\n",
       "      <td>0.0</td>\n",
       "    </tr>\n",
       "    <tr>\n",
       "      <th>67022</th>\n",
       "      <td>0.082192</td>\n",
       "      <td>0.0</td>\n",
       "      <td>0.0</td>\n",
       "      <td>0.0</td>\n",
       "      <td>0.0</td>\n",
       "      <td>0.0</td>\n",
       "      <td>1.0</td>\n",
       "      <td>0.0</td>\n",
       "      <td>0.0</td>\n",
       "      <td>0.0</td>\n",
       "      <td>...</td>\n",
       "      <td>0.0</td>\n",
       "      <td>0.0</td>\n",
       "      <td>0.0</td>\n",
       "      <td>0.0</td>\n",
       "      <td>1.0</td>\n",
       "      <td>0.0</td>\n",
       "      <td>0.0</td>\n",
       "      <td>0.0</td>\n",
       "      <td>0.0</td>\n",
       "      <td>0.0</td>\n",
       "    </tr>\n",
       "    <tr>\n",
       "      <th>9650</th>\n",
       "      <td>0.712329</td>\n",
       "      <td>1.0</td>\n",
       "      <td>0.0</td>\n",
       "      <td>0.0</td>\n",
       "      <td>0.0</td>\n",
       "      <td>0.0</td>\n",
       "      <td>0.0</td>\n",
       "      <td>0.0</td>\n",
       "      <td>0.0</td>\n",
       "      <td>0.0</td>\n",
       "      <td>...</td>\n",
       "      <td>0.0</td>\n",
       "      <td>0.0</td>\n",
       "      <td>0.0</td>\n",
       "      <td>0.0</td>\n",
       "      <td>0.0</td>\n",
       "      <td>0.0</td>\n",
       "      <td>0.0</td>\n",
       "      <td>0.0</td>\n",
       "      <td>0.0</td>\n",
       "      <td>0.0</td>\n",
       "    </tr>\n",
       "  </tbody>\n",
       "</table>\n",
       "<p>5 rows × 72 columns</p>\n",
       "</div>"
      ],
      "text/plain": [
       "       age_scaled  workclass_?  workclass_federal-gov  workclass_local-gov  \\\n",
       "8493     0.438356          0.0                    0.0                  0.0   \n",
       "65084    0.767123          0.0                    0.0                  0.0   \n",
       "7537     0.109589          0.0                    0.0                  0.0   \n",
       "67022    0.082192          0.0                    0.0                  0.0   \n",
       "9650     0.712329          1.0                    0.0                  0.0   \n",
       "\n",
       "       workclass_never-worked  workclass_private  workclass_self-emp-inc  \\\n",
       "8493                      0.0                1.0                     0.0   \n",
       "65084                     0.0                0.0                     0.0   \n",
       "7537                      0.0                1.0                     0.0   \n",
       "67022                     0.0                0.0                     1.0   \n",
       "9650                      0.0                0.0                     0.0   \n",
       "\n",
       "       workclass_self-emp-not-inc  workclass_state-gov  workclass_without-pay  \\\n",
       "8493                          0.0                  0.0                    0.0   \n",
       "65084                         1.0                  0.0                    0.0   \n",
       "7537                          0.0                  0.0                    0.0   \n",
       "67022                         0.0                  0.0                    0.0   \n",
       "9650                          0.0                  0.0                    0.0   \n",
       "\n",
       "       ...  marital_relation_separated_other-relative  \\\n",
       "8493   ...                                        0.0   \n",
       "65084  ...                                        0.0   \n",
       "7537   ...                                        0.0   \n",
       "67022  ...                                        0.0   \n",
       "9650   ...                                        0.0   \n",
       "\n",
       "       marital_relation_separated_own-child  \\\n",
       "8493                                    0.0   \n",
       "65084                                   0.0   \n",
       "7537                                    0.0   \n",
       "67022                                   0.0   \n",
       "9650                                    0.0   \n",
       "\n",
       "       marital_relation_separated_unmarried  marital_relation_separated_wife  \\\n",
       "8493                                    0.0                              0.0   \n",
       "65084                                   0.0                              0.0   \n",
       "7537                                    0.0                              0.0   \n",
       "67022                                   0.0                              0.0   \n",
       "9650                                    0.0                              0.0   \n",
       "\n",
       "       marital_relation_widowed_husband  \\\n",
       "8493                                0.0   \n",
       "65084                               0.0   \n",
       "7537                                0.0   \n",
       "67022                               1.0   \n",
       "9650                                0.0   \n",
       "\n",
       "       marital_relation_widowed_not-in-family  \\\n",
       "8493                                      0.0   \n",
       "65084                                     0.0   \n",
       "7537                                      0.0   \n",
       "67022                                     0.0   \n",
       "9650                                      0.0   \n",
       "\n",
       "       marital_relation_widowed_other-relative  \\\n",
       "8493                                       0.0   \n",
       "65084                                      0.0   \n",
       "7537                                       0.0   \n",
       "67022                                      0.0   \n",
       "9650                                       0.0   \n",
       "\n",
       "       marital_relation_widowed_own-child  marital_relation_widowed_unmarried  \\\n",
       "8493                                  0.0                                 0.0   \n",
       "65084                                 0.0                                 0.0   \n",
       "7537                                  0.0                                 0.0   \n",
       "67022                                 0.0                                 0.0   \n",
       "9650                                  0.0                                 0.0   \n",
       "\n",
       "       marital_relation_widowed_wife  \n",
       "8493                             0.0  \n",
       "65084                            0.0  \n",
       "7537                             0.0  \n",
       "67022                            0.0  \n",
       "9650                             0.0  \n",
       "\n",
       "[5 rows x 72 columns]"
      ]
     },
     "execution_count": 30,
     "metadata": {},
     "output_type": "execute_result"
    }
   ],
   "source": [
    "new_test_data = column_fit_transform(x_train, x_test, x_train.columns)\n",
    "test_col, train_col = list(new_test_data.columns), list(new_train_data.columns)\n",
    "missing = list(set(train_col).difference(set(test_col)))\n",
    "for miss in missing:\n",
    "    new_test_data[missing] = 0.0\n",
    "new_test_data = new_test_data.drop(\"income\", axis = 1)\n",
    "new_test_data.head()"
   ]
  },
  {
   "cell_type": "markdown",
   "id": "F34n9rRnnBIA",
   "metadata": {
    "id": "F34n9rRnnBIA"
   },
   "source": [
    "### Decision Tree Algorithm"
   ]
  },
  {
   "cell_type": "code",
   "execution_count": 31,
   "id": "dfbcf883",
   "metadata": {
    "colab": {
     "base_uri": "https://localhost:8080/"
    },
    "id": "dfbcf883",
    "outputId": "e1fbf3c5-7317-4463-9163-0926e299e774"
   },
   "outputs": [],
   "source": [
    "## function for calculating entropy\n",
    "def getEntropy(counts):\n",
    "    percentages = counts/np.sum(counts)\n",
    "\n",
    "    entr = 0\n",
    "    for per in percentages:\n",
    "        if per == 0:\n",
    "            continue\n",
    "        entr = entr - (per*np.log2(per))\n",
    "    return entr"
   ]
  },
  {
   "cell_type": "code",
   "execution_count": 32,
   "id": "85c3d3f3",
   "metadata": {
    "colab": {
     "base_uri": "https://localhost:8080/"
    },
    "id": "85c3d3f3",
    "outputId": "d582792d-500b-4ed4-f6fa-69c414d79b23"
   },
   "outputs": [],
   "source": [
    "# function for calculating entropy for each variable\n",
    "def dataEntropy(data):\n",
    "    \n",
    "    high_income = len(data[data[\"income\"] == 1])\n",
    "    low_income = len(data[data[\"income\"] == 0])\n",
    "    \n",
    "    result = getEntropy([low_income,high_income])\n",
    "    return result"
   ]
  },
  {
   "cell_type": "code",
   "execution_count": 56,
   "id": "f21745a7",
   "metadata": {
    "colab": {
     "base_uri": "https://localhost:8080/"
    },
    "id": "f21745a7",
    "outputId": "8bec89d1-133e-4bbb-eb09-cdfd79dc36c9"
   },
   "outputs": [],
   "source": [
    "# function for obtaining aggregated entropy\n",
    "def dataGivenEntropy(dataX, dataY):\n",
    "    entrX = dataEntropy(dataX)\n",
    "    entrY = dataEntropy(dataY)\n",
    "    nX = len(dataX)\n",
    "    nY = len(dataY)\n",
    "    n = nX + nY\n",
    "    if n == 0: \n",
    "        result = 0\n",
    "    else:\n",
    "        result = nX/n * entrX + nY/n * entrY\n",
    "    return result"
   ]
  },
  {
   "cell_type": "code",
   "execution_count": 34,
   "id": "0c7f873f",
   "metadata": {
    "colab": {
     "base_uri": "https://localhost:8080/"
    },
    "id": "0c7f873f",
    "outputId": "08f1ac59-072f-4a65-f3d0-c055b15f0a85"
   },
   "outputs": [],
   "source": [
    "# function for calculating information gain to decide which column to split on\n",
    "def infoGain(data, dataX, dataY):\n",
    "    result = dataEntropy(data) - dataGivenEntropy(dataX, dataY)\n",
    "    return result"
   ]
  },
  {
   "cell_type": "code",
   "execution_count": 35,
   "id": "a61aa787",
   "metadata": {
    "colab": {
     "base_uri": "https://localhost:8080/"
    },
    "id": "a61aa787",
    "outputId": "1cb91fa8-eab6-450f-a6bb-befb21540d5f"
   },
   "outputs": [],
   "source": [
    "# function for calculating gini\n",
    "def getGini(counts):\n",
    "    percentages = counts/np.sum(counts)\n",
    "    gini = 1-np.sum(percentages**2)\n",
    "    return gini"
   ]
  },
  {
   "cell_type": "code",
   "execution_count": 36,
   "id": "p4wmrYjIuWhH",
   "metadata": {
    "colab": {
     "base_uri": "https://localhost:8080/"
    },
    "id": "p4wmrYjIuWhH",
    "outputId": "76ed21c8-1a34-4608-cf54-a12458996140"
   },
   "outputs": [
    {
     "data": {
      "text/plain": [
       "73"
      ]
     },
     "execution_count": 36,
     "metadata": {},
     "output_type": "execute_result"
    }
   ],
   "source": [
    "len(new_train_data[\"age_scaled\"].unique())"
   ]
  },
  {
   "cell_type": "code",
   "execution_count": null,
   "id": "b005d18d",
   "metadata": {},
   "outputs": [],
   "source": [
    "def variance(data):\n",
    "    income = data[\"income\"]\n",
    "\n",
    "    var = sum(income**2)/len(income) - (np.mean(income))**2\n",
    "\n",
    "    return var"
   ]
  },
  {
   "cell_type": "code",
   "execution_count": 37,
   "id": "f934cf0a",
   "metadata": {
    "colab": {
     "base_uri": "https://localhost:8080/"
    },
    "id": "f934cf0a",
    "outputId": "27fc243b-3b44-49d0-c6e7-eec74c84d682"
   },
   "outputs": [],
   "source": [
    "# function for calculating the best split\n",
    "def findBestSplit(data, label):\n",
    "    minEntropy = 1\n",
    "    colSelected = str()\n",
    "    thresh_value = 0\n",
    "    dataX_found,dataY_found = None, None\n",
    "    for col in list(data.columns):\n",
    "        if col != label:\n",
    "        # make the split \n",
    "\n",
    "            if len(data[col].unique()) > 2:\n",
    "                max = data[col].max()\n",
    "                threshold = np.linspace(0,max,30)[1:-1]\n",
    "                infoGainList = []\n",
    "\n",
    "          # for 28 different thresholds, calculate the info-gain\n",
    "                for i in range(len(threshold)):\n",
    "                    dataX = data[data[col] > threshold[i]]\n",
    "                    dataY = data[data[col] <= threshold[i]]\n",
    "                    infoGainList.append(infoGain(data, dataX, dataY))\n",
    "\n",
    "          # get the max info-gain\n",
    "                idx = np.argmax(infoGainList)\n",
    "                dataX = data[data[col] > threshold[idx]]\n",
    "                dataY = data[data[col] <= threshold[idx]]\n",
    "                thresh = threshold[idx]\n",
    "\n",
    "            else:\n",
    "                thresh = 0.5\n",
    "                dataX = data[data[col] > thresh]\n",
    "                dataY = data[data[col] <= thresh]\n",
    "            \n",
    "          \n",
    "        entr = dataGivenEntropy(dataX, dataY)\n",
    "        \n",
    "        \n",
    "        if entr < minEntropy:\n",
    "            minEntropy = entr\n",
    "            colSelected = col\n",
    "            dataX_found = dataX\n",
    "            dataY_found = dataY\n",
    "            thresh_value = thresh\n",
    "        \n",
    "\n",
    "    return colSelected, minEntropy, dataX_found, dataY_found, thresh_value"
   ]
  },
  {
   "cell_type": "code",
   "execution_count": 38,
   "id": "BGg4-nHNYrhc",
   "metadata": {
    "colab": {
     "base_uri": "https://localhost:8080/"
    },
    "id": "BGg4-nHNYrhc",
    "outputId": "41a27785-aec6-4767-822f-0d6c2cff385a"
   },
   "outputs": [],
   "source": [
    "# function for calculating the best split\n",
    "def split_via_mapreduce(data, col, label):\n",
    "    minEntropy = 1\n",
    "    colSelected = str()\n",
    "    thresh_value = 0\n",
    "    dataX_found,dataY_found = None, None\n",
    "    if len(data[col].unique()) > 2:\n",
    "        maxi = data[col].max()\n",
    "        threshold = np.linspace(0,maxi,30)[1:-1]\n",
    "        infoGainList = []\n",
    "\n",
    "          # for 28 different thresholds, calculate the info-gain\n",
    "        for i in range(len(threshold)):\n",
    "            dataX = data[data[col] > threshold[i]]\n",
    "            dataY = data[data[col] <= threshold[i]]\n",
    "            infoGainList.append(infoGain(data, dataX, dataY))\n",
    "\n",
    "          # get the max info-gain\n",
    "        idx = np.argmax(infoGainList)\n",
    "        dataX = data[data[col] > threshold[idx]]\n",
    "        dataY = data[data[col] <= threshold[idx]]\n",
    "        thresh = threshold[idx]\n",
    "\n",
    "    else:\n",
    "        thresh = 0.5\n",
    "        dataX = data[data[col] > thresh]\n",
    "        dataY = data[data[col] <= thresh]\n",
    "            \n",
    "          \n",
    "    entr = dataGivenEntropy(dataX, dataY)\n",
    "        \n",
    "        \n",
    "    minEntropy = entr\n",
    "    colSelected = col\n",
    "    dataX_found = dataX\n",
    "    dataY_found = dataY\n",
    "    thresh_value = thresh\n",
    "        \n",
    "\n",
    "    return colSelected, minEntropy, dataX_found, dataY_found, thresh_value"
   ]
  },
  {
   "cell_type": "code",
   "execution_count": 39,
   "id": "L9qMVH-Smf7p",
   "metadata": {
    "colab": {
     "base_uri": "https://localhost:8080/"
    },
    "id": "L9qMVH-Smf7p",
    "outputId": "06f2abad-bdbd-4b70-a551-f95160623646"
   },
   "outputs": [
    {
     "data": {
      "text/plain": [
       "('capital_loss_scaled', 0.9306597422914664)"
      ]
     },
     "execution_count": 39,
     "metadata": {},
     "output_type": "execute_result"
    }
   ],
   "source": [
    "findBestSplit(new_train_data, 'income')[0], findBestSplit(new_train_data, 'income')[1]"
   ]
  },
  {
   "cell_type": "code",
   "execution_count": 40,
   "id": "4cirhxSRY5EO",
   "metadata": {
    "colab": {
     "base_uri": "https://localhost:8080/"
    },
    "id": "4cirhxSRY5EO",
    "outputId": "27bb0722-cdb1-43d5-e903-769977e5bc8f"
   },
   "outputs": [],
   "source": [
    "# function for calculating the best split\n",
    "def entropy_columns(data, label = \"income\"):\n",
    "    #data = data_insert.toPandas()\n",
    "    columns = []\n",
    "    entropies = []\n",
    "    combo = []\n",
    "    dataX_found,dataY_found = None, None\n",
    "    for col in list(data.columns):\n",
    "        if col != label:\n",
    "        # make the split \n",
    "\n",
    "            if len(data[col].unique()) > 2:\n",
    "                maxi = data[col].max()\n",
    "                threshold = np.linspace(0,maxi,30)[1:-1]\n",
    "                infoGainList = []\n",
    "\n",
    "              # for 28 different thresholds, calculate the info-gain\n",
    "                for i in range(len(threshold)):\n",
    "                    dataX = data[data[col] > threshold[i]]\n",
    "                    dataY = data[data[col] <= threshold[i]]\n",
    "                    infoGainList.append(infoGain(data, dataX, dataY))\n",
    "\n",
    "              # get the max info-gain\n",
    "                idx = np.argmax(infoGainList)\n",
    "                dataX = data[data[col] > threshold[idx]]\n",
    "                dataY = data[data[col] <= threshold[idx]]\n",
    "                thresh = threshold[idx]\n",
    "\n",
    "            else:\n",
    "                thresh = 0.5\n",
    "                dataX = data[data[col] > thresh]\n",
    "                dataY = data[data[col] <= thresh]\n",
    "            \n",
    "          \n",
    "            entr = dataGivenEntropy(dataX, dataY)\n",
    "        \n",
    "\n",
    "            columns.append(col)\n",
    "            entropies.append(entr)\n",
    "            t = col, entr\n",
    "            combo.append(t)\n",
    "\n",
    "    return combo"
   ]
  },
  {
   "cell_type": "code",
   "execution_count": 41,
   "id": "MwSaSBARapOP",
   "metadata": {
    "colab": {
     "base_uri": "https://localhost:8080/"
    },
    "id": "MwSaSBARapOP",
    "outputId": "742bdac8-ea25-4d05-90a1-d29670c2f52c"
   },
   "outputs": [],
   "source": [
    "t = entropy_columns(new_train_data)"
   ]
  },
  {
   "cell_type": "code",
   "execution_count": 44,
   "id": "17647ce9",
   "metadata": {},
   "outputs": [],
   "source": [
    "import multiprocessing as mp"
   ]
  },
  {
   "cell_type": "code",
   "execution_count": 47,
   "id": "l6-s04ZYYpwc",
   "metadata": {
    "colab": {
     "base_uri": "https://localhost:8080/"
    },
    "id": "l6-s04ZYYpwc",
    "outputId": "50667a08-0919-4f6e-8489-ac8153a114b6"
   },
   "outputs": [],
   "source": [
    "def findBestSplitMapReduce(data, s):\n",
    "    if len(data) >= s:\n",
    "        n = len(data) // s\n",
    "        n_1 = n + 1\n",
    "        data = data.sample(frac = 1)\n",
    "        p = mp.Pool(processes=n_1)\n",
    "        conf = SparkConf().setAppName(\"DecisionTreeMapReduce\")\n",
    "        sc = SparkContext(conf = conf)\n",
    "        df_parallel = np.array_split(data, 4)\n",
    "        res = p.map_async(entropy_columns, df_parallel).get()\n",
    "        res_list = [item for sublist in res for item in sublist]\n",
    "        res_rdd = sc.parallelize(res_list)\n",
    "        new_res = res_rdd.reduceByKey(lambda a,b: a + b)\n",
    "        res_use = new_res.collect()\n",
    "        score = [j/4 for i, j in res_use]\n",
    "        column_to_use = res_use[np.argmin(score)][0]\n",
    "        result = split_via_mapreduce(data, column_to_use, \"income\")\n",
    "        sc.stop()\n",
    "        p.close()\n",
    "    else: \n",
    "        result = findBestSplit(data, \"income\")\n",
    "    return result"
   ]
  },
  {
   "cell_type": "code",
   "execution_count": 48,
   "id": "DwQG6HZyZzT1",
   "metadata": {
    "colab": {
     "base_uri": "https://localhost:8080/",
     "height": 90
    },
    "id": "DwQG6HZyZzT1",
    "outputId": "571c3c11-a91e-4d3b-c85e-a9f83506ebee"
   },
   "outputs": [
    {
     "name": "stderr",
     "output_type": "stream",
     "text": [
      "Setting default log level to \"WARN\".\n",
      "To adjust logging level use sc.setLogLevel(newLevel). For SparkR, use setLogLevel(newLevel).\n"
     ]
    },
    {
     "name": "stdout",
     "output_type": "stream",
     "text": [
      "23/04/17 11:33:56 WARN NativeCodeLoader: Unable to load native-hadoop library for your platform... using builtin-java classes where applicable\n"
     ]
    },
    {
     "name": "stderr",
     "output_type": "stream",
     "text": [
      "                                                                                \r"
     ]
    },
    {
     "data": {
      "text/plain": [
       "'capital_loss_scaled'"
      ]
     },
     "execution_count": 48,
     "metadata": {},
     "output_type": "execute_result"
    }
   ],
   "source": [
    "findBestSplitMapReduce(new_train_data, 10000)[0]"
   ]
  },
  {
   "cell_type": "code",
   "execution_count": 49,
   "id": "WumiEnXN2W_0",
   "metadata": {
    "colab": {
     "base_uri": "https://localhost:8080/"
    },
    "id": "WumiEnXN2W_0",
    "outputId": "c5f1c75c-1f8f-4d7c-bf65-6ca670308966"
   },
   "outputs": [],
   "source": [
    "# class for recording branch information for each split\n",
    "class Branch:\n",
    "    no=0\n",
    "    depth=1\n",
    "    column=''\n",
    "    entropy=0\n",
    "    value = []\n",
    "    samples = 0\n",
    "    gini = 0\n",
    "    thresh = 0\n",
    "    branch_positive=None\n",
    "    branch_negative=None\n",
    "    positive=0\n",
    "    negative=0\n",
    "    num_cols = 0\n",
    "    col_names = []"
   ]
  },
  {
   "cell_type": "code",
   "execution_count": 58,
   "id": "5j6b41QHmuEe",
   "metadata": {
    "colab": {
     "base_uri": "https://localhost:8080/"
    },
    "id": "5j6b41QHmuEe",
    "outputId": "9a0e1537-6a34-4f4b-e088-69fe413a6c3a"
   },
   "outputs": [],
   "source": [
    "## function for building the decision tree for each split\n",
    "number = 0\n",
    "def decisionTreeInner(data, label, depth, max_depth, max_features, min_samples_split, min_samples_leaf, s):\n",
    "    global number\n",
    "    branch = Branch()\n",
    "    branch.no = number\n",
    "    number += 1\n",
    "    branch.depth = depth\n",
    "    branch.num_depth = 1\n",
    "    \n",
    "    branch.samples = data.shape[0]\n",
    "    positive = data[data[label]==1].shape[0]\n",
    "    negative = data[data[label]==0].shape[0]\n",
    "    \n",
    "    branch.value= [negative, positive]\n",
    "    branch.entropy = getEntropy(branch.value)\n",
    "    branch.gini = getGini(branch.value)\n",
    "    \n",
    "    bestSplit = findBestSplitMapReduce(data, s)\n",
    "    \n",
    "    branch.column = bestSplit[0]\n",
    "    branch.col_names.append(branch.column)\n",
    "    cols = list(set(branch.col_names))\n",
    "    branch.num_cols = len(cols)\n",
    "    \n",
    "    newEntropy = bestSplit[1]\n",
    "    dataNegative = bestSplit[2]\n",
    "    dataPositive = bestSplit[3]\n",
    "    branch.thresh = bestSplit[4]\n",
    "    sum_val = branch.value[0] + branch.value[1]\n",
    "    \n",
    "    if sum_val != 0:\n",
    "        unbalanced_0 = branch.value[0]/sum_val\n",
    "        unbalanced_1 = branch.value[1]/sum_val\n",
    "    \n",
    "    if len(cols) < max_features:\n",
    "        if depth == max_depth or branch.column == \"\" or branch.samples <= min_samples_split or (len(dataNegative) <= min_samples_leaf and len(dataPositive) <= min_samples_leaf) or (unbalanced_0 > 0.95 and branch.samples <= 1000) or (unbalanced_1 > 0.95 and branch.samples <= 1000):\n",
    "          \n",
    "            branch.positive = number\n",
    "            number +=1\n",
    "            branch.negative = number\n",
    "            number +=1   \n",
    "            branch.column = \"\"\n",
    "    \n",
    "            return branch\n",
    "        \n",
    "        # next step\n",
    "        else:\n",
    "            \n",
    "            #dataNegative = bestSplit[2]\n",
    "            branch.branch_negative = decisionTreeInner(dataNegative, label, depth+1, max_depth=max_depth, max_features = max_features, min_samples_split = min_samples_split, min_samples_leaf = min_samples_leaf, s = s)\n",
    "            \n",
    "            #dataPositive = bestSplit[3]\n",
    "            branch.branch_positive = decisionTreeInner(dataPositive, label, depth+1, max_depth=max_depth, max_features = max_features, min_samples_split = min_samples_split, min_samples_leaf = min_samples_leaf, s = s)\n",
    "\n",
    "            return branch\n",
    "    else:\n",
    "        \n",
    "        if depth == max_depth or branch.column == \"\" or branch.samples <= min_samples_split or (len(dataNegative) <= min_samples_leaf and len(dataPositive) <= min_samples_leaf) or (unbalanced_0 > 0.95 and branch.samples <= 1000) or (unbalanced_1 > 0.95 and branch.samples <= 1000):\n",
    "            \n",
    "            branch.positive = number\n",
    "            number +=1\n",
    "            branch.negative = number\n",
    "            number +=1   \n",
    "            branch.column = \"\"\n",
    "            \n",
    "            return branch\n",
    "        \n",
    "        else:\n",
    "            if \"\" in cols:\n",
    "                cols.remove(\"\")\n",
    "            cols.append(\"income\")\n",
    "            \n",
    "            #dataNegative = bestSplit[2]\n",
    "            dataNegative = dataNegative[cols]\n",
    "            \n",
    "            branch.branch_negative = decisionTreeInner(dataNegative, label, depth+1, max_depth=max_depth, max_features = max_features, min_samples_split = min_samples_split, min_samples_leaf = min_samples_leaf, s = s)\n",
    "            \n",
    "            #dataPositive = bestSplit[3]\n",
    "            dataPositive= dataPositive[cols]\n",
    "            \n",
    "            branch.branch_positive = decisionTreeInner(dataPositive, label, depth+1, max_depth=max_depth, max_features = max_features, min_samples_split = min_samples_split, min_samples_leaf = min_samples_leaf, s = s)\n",
    "            cols.remove(\"income\")\n",
    "            return branch\n"
   ]
  },
  {
   "cell_type": "code",
   "execution_count": 59,
   "id": "2vPkdPlymzOv",
   "metadata": {
    "colab": {
     "base_uri": "https://localhost:8080/"
    },
    "id": "2vPkdPlymzOv",
    "outputId": "8055248f-1d42-4fc4-ba61-706cdb4dc363"
   },
   "outputs": [],
   "source": [
    "## function for creating the decision tree classifier.\n",
    "def decision_tree(data, label, max_depth, max_features, min_samples_split, min_samples_leaf, s):\n",
    "    class Branch:\n",
    "        no=0\n",
    "        depth=1\n",
    "        column=''\n",
    "        entropy=0\n",
    "        value = []\n",
    "        samples = 0\n",
    "        gini = 0\n",
    "        thresh = 0\n",
    "        branch_positive=None\n",
    "        branch_negative=None\n",
    "        positive=0 \n",
    "        negative=0\n",
    "        num_cols = 0\n",
    "        col_names = []\n",
    "      \n",
    "    number = 0\n",
    "    entropy = dataEntropy(data)\n",
    "    columns = []\n",
    "    tree = decisionTreeInner(data, label, 0, max_depth = max_depth, max_features = max_features, min_samples_split = min_samples_split, min_samples_leaf = min_samples_leaf, s = s)\n",
    "    return tree"
   ]
  },
  {
   "cell_type": "code",
   "execution_count": 60,
   "id": "b12aed2e",
   "metadata": {
    "colab": {
     "base_uri": "https://localhost:8080/"
    },
    "id": "b12aed2e",
    "outputId": "89a846d6-540d-4f2c-a373-1fa432d1154f"
   },
   "outputs": [
    {
     "name": "stderr",
     "output_type": "stream",
     "text": [
      "                                                                                \r"
     ]
    },
    {
     "name": "stdout",
     "output_type": "stream",
     "text": [
      "37.5 seconds\n"
     ]
    }
   ],
   "source": [
    "import warnings\n",
    "warnings.filterwarnings('ignore')\n",
    "import time\n",
    "start=time.time()\n",
    "my_dt = decision_tree(new_train_data, 'income', max_depth=3, max_features = 10, min_samples_split = 400, min_samples_leaf = 250, s = 10000)\n",
    "print(round(time.time()-start, 2), 'seconds')"
   ]
  },
  {
   "cell_type": "code",
   "execution_count": 61,
   "id": "6oUM7JOVtq22",
   "metadata": {
    "colab": {
     "base_uri": "https://localhost:8080/"
    },
    "id": "6oUM7JOVtq22",
    "outputId": "d613fdcc-edcb-42a5-99fa-0f4a30beefcf"
   },
   "outputs": [
    {
     "data": {
      "text/plain": [
       "79983"
      ]
     },
     "execution_count": 61,
     "metadata": {},
     "output_type": "execute_result"
    }
   ],
   "source": [
    "my_dt.samples"
   ]
  },
  {
   "cell_type": "code",
   "execution_count": 62,
   "id": "uR8wNth55-9y",
   "metadata": {
    "colab": {
     "base_uri": "https://localhost:8080/"
    },
    "id": "uR8wNth55-9y",
    "outputId": "16a87141-450e-4a7e-809c-975d879179b0"
   },
   "outputs": [
    {
     "data": {
      "text/plain": [
       "<__main__.Branch at 0x2b9047f14b50>"
      ]
     },
     "execution_count": 62,
     "metadata": {},
     "output_type": "execute_result"
    }
   ],
   "source": [
    "my_dt"
   ]
  },
  {
   "cell_type": "code",
   "execution_count": 63,
   "id": "Onl3CtSIMuR8",
   "metadata": {
    "id": "Onl3CtSIMuR8"
   },
   "outputs": [],
   "source": [
    "def get_dot_data_innner(branch:Branch, classes, dot_data):\n",
    "    if branch.value[0]<branch.value[1]:\n",
    "        the_class=classes[0]\n",
    "    else:\n",
    "        the_class=classes[1]\n",
    "    if branch.branch_positive:\n",
    "        dot_data=dot_data+'{} [label=<{} le {:.2f}<br/>entropy = {:.3f}<br/>samples = {}<br/>value = {}<br/>class = {}> , fillcolor=\"#FFFFFFFF\"] ;\\r\\n'.format(\n",
    "            branch.no, branch.column, branch.thresh, branch.entropy, branch.samples, branch.value, the_class)\n",
    "    else:\n",
    "        dot_data=dot_data+'{} [label=<entropy = {:.3f}<br/>samples = {}<br/>value = {}<br/>class = {}> , fillcolor=\"#FFFFFFFF\"] ;\\r\\n'.format(\n",
    "            branch.no, branch.entropy, branch.samples, branch.value, the_class)\n",
    "    if branch.branch_negative:\n",
    "        dot_data=dot_data+'{} -> {} [labeldistance=2.5, labelangle=45, headlabel=\"no\"]; \\r\\n'.format(branch.no, branch.branch_negative.no)\n",
    "        dot_data=get_dot_data_innner(branch.branch_negative, classes, dot_data)\n",
    "        \n",
    "    if branch.branch_positive:\n",
    "        dot_data=dot_data+'{} -> {} [labeldistance=1.5, labelangle=45, headlabel=\"yes\"]; \\r\\n'.format(branch.no, branch.branch_positive.no)\n",
    "        dot_data=get_dot_data_innner(branch.branch_positive, classes, dot_data)\n",
    "  \n",
    "\n",
    "    return dot_data\n",
    "    \n",
    "def get_dot_data(branch:Branch, classes=['above 50K','below 50K']):\n",
    "    dot_data=\"\"\"\n",
    "digraph Tree {\n",
    "node [shape=box, style=\"filled, rounded\", color=\"black\", fontname=helvetica] ;\n",
    "edge [fontname=helvetica] ;\n",
    "\"\"\"\n",
    "    dot_data=get_dot_data_innner(branch, classes,  dot_data)\n",
    "    dot_data=dot_data+'\\r\\n}'\n",
    "    return dot_data"
   ]
  },
  {
   "cell_type": "code",
   "execution_count": 64,
   "id": "c83SbYS7MuUk",
   "metadata": {
    "id": "c83SbYS7MuUk"
   },
   "outputs": [],
   "source": [
    "dot_data=get_dot_data(my_dt)"
   ]
  },
  {
   "cell_type": "code",
   "execution_count": 65,
   "id": "Cw8sFkDRM47d",
   "metadata": {
    "id": "Cw8sFkDRM47d"
   },
   "outputs": [],
   "source": [
    "import graphviz "
   ]
  },
  {
   "cell_type": "code",
   "execution_count": 66,
   "id": "nnUWFY7XM5ji",
   "metadata": {
    "id": "nnUWFY7XM5ji"
   },
   "outputs": [],
   "source": [
    "graph = graphviz.Source(dot_data) "
   ]
  },
  {
   "cell_type": "code",
   "execution_count": 67,
   "id": "IFnq8hCqNvW8",
   "metadata": {
    "colab": {
     "base_uri": "https://localhost:8080/",
     "height": 619
    },
    "id": "IFnq8hCqNvW8",
    "outputId": "33243f2a-b3b7-4104-c1ed-46f265a054ac"
   },
   "outputs": [
    {
     "ename": "PermissionError",
     "evalue": "[Errno 13] Permission denied: PosixPath('dot')",
     "output_type": "error",
     "traceback": [
      "\u001b[0;31m---------------------------------------------------------------------------\u001b[0m",
      "\u001b[0;31mPermissionError\u001b[0m                           Traceback (most recent call last)",
      "\u001b[0;32m/accre/arch/easybuild/software/BinDist/Anaconda3/2021.11/lib/python3.9/site-packages/IPython/core/formatters.py\u001b[0m in \u001b[0;36m__call__\u001b[0;34m(self, obj, include, exclude)\u001b[0m\n\u001b[1;32m    968\u001b[0m \u001b[0;34m\u001b[0m\u001b[0m\n\u001b[1;32m    969\u001b[0m             \u001b[0;32mif\u001b[0m \u001b[0mmethod\u001b[0m \u001b[0;32mis\u001b[0m \u001b[0;32mnot\u001b[0m \u001b[0;32mNone\u001b[0m\u001b[0;34m:\u001b[0m\u001b[0;34m\u001b[0m\u001b[0;34m\u001b[0m\u001b[0m\n\u001b[0;32m--> 970\u001b[0;31m                 \u001b[0;32mreturn\u001b[0m \u001b[0mmethod\u001b[0m\u001b[0;34m(\u001b[0m\u001b[0minclude\u001b[0m\u001b[0;34m=\u001b[0m\u001b[0minclude\u001b[0m\u001b[0;34m,\u001b[0m \u001b[0mexclude\u001b[0m\u001b[0;34m=\u001b[0m\u001b[0mexclude\u001b[0m\u001b[0;34m)\u001b[0m\u001b[0;34m\u001b[0m\u001b[0;34m\u001b[0m\u001b[0m\n\u001b[0m\u001b[1;32m    971\u001b[0m             \u001b[0;32mreturn\u001b[0m \u001b[0;32mNone\u001b[0m\u001b[0;34m\u001b[0m\u001b[0;34m\u001b[0m\u001b[0m\n\u001b[1;32m    972\u001b[0m         \u001b[0;32melse\u001b[0m\u001b[0;34m:\u001b[0m\u001b[0;34m\u001b[0m\u001b[0;34m\u001b[0m\u001b[0m\n",
      "\u001b[0;32m~/.local/lib/python3.9/site-packages/graphviz/jupyter_integration.py\u001b[0m in \u001b[0;36m_repr_mimebundle_\u001b[0;34m(self, include, exclude, **_)\u001b[0m\n\u001b[1;32m     96\u001b[0m         \u001b[0minclude\u001b[0m \u001b[0;34m=\u001b[0m \u001b[0mset\u001b[0m\u001b[0;34m(\u001b[0m\u001b[0minclude\u001b[0m\u001b[0;34m)\u001b[0m \u001b[0;32mif\u001b[0m \u001b[0minclude\u001b[0m \u001b[0;32mis\u001b[0m \u001b[0;32mnot\u001b[0m \u001b[0;32mNone\u001b[0m \u001b[0;32melse\u001b[0m \u001b[0;34m{\u001b[0m\u001b[0mself\u001b[0m\u001b[0;34m.\u001b[0m\u001b[0m_jupyter_mimetype\u001b[0m\u001b[0;34m}\u001b[0m\u001b[0;34m\u001b[0m\u001b[0;34m\u001b[0m\u001b[0m\n\u001b[1;32m     97\u001b[0m         \u001b[0minclude\u001b[0m \u001b[0;34m-=\u001b[0m \u001b[0mset\u001b[0m\u001b[0;34m(\u001b[0m\u001b[0mexclude\u001b[0m \u001b[0;32mor\u001b[0m \u001b[0;34m[\u001b[0m\u001b[0;34m]\u001b[0m\u001b[0;34m)\u001b[0m\u001b[0;34m\u001b[0m\u001b[0;34m\u001b[0m\u001b[0m\n\u001b[0;32m---> 98\u001b[0;31m         return {mimetype: getattr(self, method_name)()\n\u001b[0m\u001b[1;32m     99\u001b[0m                 \u001b[0;32mfor\u001b[0m \u001b[0mmimetype\u001b[0m\u001b[0;34m,\u001b[0m \u001b[0mmethod_name\u001b[0m \u001b[0;32min\u001b[0m \u001b[0mMIME_TYPES\u001b[0m\u001b[0;34m.\u001b[0m\u001b[0mitems\u001b[0m\u001b[0;34m(\u001b[0m\u001b[0;34m)\u001b[0m\u001b[0;34m\u001b[0m\u001b[0;34m\u001b[0m\u001b[0m\n\u001b[1;32m    100\u001b[0m                 if mimetype in include}\n",
      "\u001b[0;32m~/.local/lib/python3.9/site-packages/graphviz/jupyter_integration.py\u001b[0m in \u001b[0;36m<dictcomp>\u001b[0;34m(.0)\u001b[0m\n\u001b[1;32m     96\u001b[0m         \u001b[0minclude\u001b[0m \u001b[0;34m=\u001b[0m \u001b[0mset\u001b[0m\u001b[0;34m(\u001b[0m\u001b[0minclude\u001b[0m\u001b[0;34m)\u001b[0m \u001b[0;32mif\u001b[0m \u001b[0minclude\u001b[0m \u001b[0;32mis\u001b[0m \u001b[0;32mnot\u001b[0m \u001b[0;32mNone\u001b[0m \u001b[0;32melse\u001b[0m \u001b[0;34m{\u001b[0m\u001b[0mself\u001b[0m\u001b[0;34m.\u001b[0m\u001b[0m_jupyter_mimetype\u001b[0m\u001b[0;34m}\u001b[0m\u001b[0;34m\u001b[0m\u001b[0;34m\u001b[0m\u001b[0m\n\u001b[1;32m     97\u001b[0m         \u001b[0minclude\u001b[0m \u001b[0;34m-=\u001b[0m \u001b[0mset\u001b[0m\u001b[0;34m(\u001b[0m\u001b[0mexclude\u001b[0m \u001b[0;32mor\u001b[0m \u001b[0;34m[\u001b[0m\u001b[0;34m]\u001b[0m\u001b[0;34m)\u001b[0m\u001b[0;34m\u001b[0m\u001b[0;34m\u001b[0m\u001b[0m\n\u001b[0;32m---> 98\u001b[0;31m         return {mimetype: getattr(self, method_name)()\n\u001b[0m\u001b[1;32m     99\u001b[0m                 \u001b[0;32mfor\u001b[0m \u001b[0mmimetype\u001b[0m\u001b[0;34m,\u001b[0m \u001b[0mmethod_name\u001b[0m \u001b[0;32min\u001b[0m \u001b[0mMIME_TYPES\u001b[0m\u001b[0;34m.\u001b[0m\u001b[0mitems\u001b[0m\u001b[0;34m(\u001b[0m\u001b[0;34m)\u001b[0m\u001b[0;34m\u001b[0m\u001b[0;34m\u001b[0m\u001b[0m\n\u001b[1;32m    100\u001b[0m                 if mimetype in include}\n",
      "\u001b[0;32m~/.local/lib/python3.9/site-packages/graphviz/jupyter_integration.py\u001b[0m in \u001b[0;36m_repr_image_svg_xml\u001b[0;34m(self)\u001b[0m\n\u001b[1;32m    110\u001b[0m     \u001b[0;32mdef\u001b[0m \u001b[0m_repr_image_svg_xml\u001b[0m\u001b[0;34m(\u001b[0m\u001b[0mself\u001b[0m\u001b[0;34m)\u001b[0m \u001b[0;34m->\u001b[0m \u001b[0mstr\u001b[0m\u001b[0;34m:\u001b[0m\u001b[0;34m\u001b[0m\u001b[0;34m\u001b[0m\u001b[0m\n\u001b[1;32m    111\u001b[0m         \u001b[0;34m\"\"\"Return the rendered graph as SVG string.\"\"\"\u001b[0m\u001b[0;34m\u001b[0m\u001b[0;34m\u001b[0m\u001b[0m\n\u001b[0;32m--> 112\u001b[0;31m         \u001b[0;32mreturn\u001b[0m \u001b[0mself\u001b[0m\u001b[0;34m.\u001b[0m\u001b[0mpipe\u001b[0m\u001b[0;34m(\u001b[0m\u001b[0mformat\u001b[0m\u001b[0;34m=\u001b[0m\u001b[0;34m'svg'\u001b[0m\u001b[0;34m,\u001b[0m \u001b[0mencoding\u001b[0m\u001b[0;34m=\u001b[0m\u001b[0mSVG_ENCODING\u001b[0m\u001b[0;34m)\u001b[0m\u001b[0;34m\u001b[0m\u001b[0;34m\u001b[0m\u001b[0m\n\u001b[0m",
      "\u001b[0;32m~/.local/lib/python3.9/site-packages/graphviz/piping.py\u001b[0m in \u001b[0;36mpipe\u001b[0;34m(self, format, renderer, formatter, neato_no_op, quiet, engine, encoding)\u001b[0m\n\u001b[1;32m    102\u001b[0m             \u001b[0;34m'<?xml version='\u001b[0m\u001b[0;34m\u001b[0m\u001b[0;34m\u001b[0m\u001b[0m\n\u001b[1;32m    103\u001b[0m         \"\"\"\n\u001b[0;32m--> 104\u001b[0;31m         return self._pipe_legacy(format,\n\u001b[0m\u001b[1;32m    105\u001b[0m                                  \u001b[0mrenderer\u001b[0m\u001b[0;34m=\u001b[0m\u001b[0mrenderer\u001b[0m\u001b[0;34m,\u001b[0m\u001b[0;34m\u001b[0m\u001b[0;34m\u001b[0m\u001b[0m\n\u001b[1;32m    106\u001b[0m                                  \u001b[0mformatter\u001b[0m\u001b[0;34m=\u001b[0m\u001b[0mformatter\u001b[0m\u001b[0;34m,\u001b[0m\u001b[0;34m\u001b[0m\u001b[0;34m\u001b[0m\u001b[0m\n",
      "\u001b[0;32m~/.local/lib/python3.9/site-packages/graphviz/_tools.py\u001b[0m in \u001b[0;36mwrapper\u001b[0;34m(*args, **kwargs)\u001b[0m\n\u001b[1;32m    169\u001b[0m                               category=category)\n\u001b[1;32m    170\u001b[0m \u001b[0;34m\u001b[0m\u001b[0m\n\u001b[0;32m--> 171\u001b[0;31m             \u001b[0;32mreturn\u001b[0m \u001b[0mfunc\u001b[0m\u001b[0;34m(\u001b[0m\u001b[0;34m*\u001b[0m\u001b[0margs\u001b[0m\u001b[0;34m,\u001b[0m \u001b[0;34m**\u001b[0m\u001b[0mkwargs\u001b[0m\u001b[0;34m)\u001b[0m\u001b[0;34m\u001b[0m\u001b[0;34m\u001b[0m\u001b[0m\n\u001b[0m\u001b[1;32m    172\u001b[0m \u001b[0;34m\u001b[0m\u001b[0m\n\u001b[1;32m    173\u001b[0m         \u001b[0;32mreturn\u001b[0m \u001b[0mwrapper\u001b[0m\u001b[0;34m\u001b[0m\u001b[0;34m\u001b[0m\u001b[0m\n",
      "\u001b[0;32m~/.local/lib/python3.9/site-packages/graphviz/piping.py\u001b[0m in \u001b[0;36m_pipe_legacy\u001b[0;34m(self, format, renderer, formatter, neato_no_op, quiet, engine, encoding)\u001b[0m\n\u001b[1;32m    119\u001b[0m                      \u001b[0mengine\u001b[0m\u001b[0;34m:\u001b[0m \u001b[0mtyping\u001b[0m\u001b[0;34m.\u001b[0m\u001b[0mOptional\u001b[0m\u001b[0;34m[\u001b[0m\u001b[0mstr\u001b[0m\u001b[0;34m]\u001b[0m \u001b[0;34m=\u001b[0m \u001b[0;32mNone\u001b[0m\u001b[0;34m,\u001b[0m\u001b[0;34m\u001b[0m\u001b[0;34m\u001b[0m\u001b[0m\n\u001b[1;32m    120\u001b[0m                      encoding: typing.Optional[str] = None) -> typing.Union[bytes, str]:\n\u001b[0;32m--> 121\u001b[0;31m         return self._pipe_future(format,\n\u001b[0m\u001b[1;32m    122\u001b[0m                                  \u001b[0mrenderer\u001b[0m\u001b[0;34m=\u001b[0m\u001b[0mrenderer\u001b[0m\u001b[0;34m,\u001b[0m\u001b[0;34m\u001b[0m\u001b[0;34m\u001b[0m\u001b[0m\n\u001b[1;32m    123\u001b[0m                                  \u001b[0mformatter\u001b[0m\u001b[0;34m=\u001b[0m\u001b[0mformatter\u001b[0m\u001b[0;34m,\u001b[0m\u001b[0;34m\u001b[0m\u001b[0;34m\u001b[0m\u001b[0m\n",
      "\u001b[0;32m~/.local/lib/python3.9/site-packages/graphviz/piping.py\u001b[0m in \u001b[0;36m_pipe_future\u001b[0;34m(self, format, renderer, formatter, neato_no_op, quiet, engine, encoding)\u001b[0m\n\u001b[1;32m    147\u001b[0m             \u001b[0;32mif\u001b[0m \u001b[0mcodecs\u001b[0m\u001b[0;34m.\u001b[0m\u001b[0mlookup\u001b[0m\u001b[0;34m(\u001b[0m\u001b[0mencoding\u001b[0m\u001b[0;34m)\u001b[0m \u001b[0;32mis\u001b[0m \u001b[0mcodecs\u001b[0m\u001b[0;34m.\u001b[0m\u001b[0mlookup\u001b[0m\u001b[0;34m(\u001b[0m\u001b[0mself\u001b[0m\u001b[0;34m.\u001b[0m\u001b[0mencoding\u001b[0m\u001b[0;34m)\u001b[0m\u001b[0;34m:\u001b[0m\u001b[0;34m\u001b[0m\u001b[0;34m\u001b[0m\u001b[0m\n\u001b[1;32m    148\u001b[0m                 \u001b[0;31m# common case: both stdin and stdout need the same encoding\u001b[0m\u001b[0;34m\u001b[0m\u001b[0;34m\u001b[0m\u001b[0m\n\u001b[0;32m--> 149\u001b[0;31m                 \u001b[0;32mreturn\u001b[0m \u001b[0mself\u001b[0m\u001b[0;34m.\u001b[0m\u001b[0m_pipe_lines_string\u001b[0m\u001b[0;34m(\u001b[0m\u001b[0;34m*\u001b[0m\u001b[0margs\u001b[0m\u001b[0;34m,\u001b[0m \u001b[0mencoding\u001b[0m\u001b[0;34m=\u001b[0m\u001b[0mencoding\u001b[0m\u001b[0;34m,\u001b[0m \u001b[0;34m**\u001b[0m\u001b[0mkwargs\u001b[0m\u001b[0;34m)\u001b[0m\u001b[0;34m\u001b[0m\u001b[0;34m\u001b[0m\u001b[0m\n\u001b[0m\u001b[1;32m    150\u001b[0m             \u001b[0;32mtry\u001b[0m\u001b[0;34m:\u001b[0m\u001b[0;34m\u001b[0m\u001b[0;34m\u001b[0m\u001b[0m\n\u001b[1;32m    151\u001b[0m                 \u001b[0mraw\u001b[0m \u001b[0;34m=\u001b[0m \u001b[0mself\u001b[0m\u001b[0;34m.\u001b[0m\u001b[0m_pipe_lines\u001b[0m\u001b[0;34m(\u001b[0m\u001b[0;34m*\u001b[0m\u001b[0margs\u001b[0m\u001b[0;34m,\u001b[0m \u001b[0minput_encoding\u001b[0m\u001b[0;34m=\u001b[0m\u001b[0mself\u001b[0m\u001b[0;34m.\u001b[0m\u001b[0mencoding\u001b[0m\u001b[0;34m,\u001b[0m \u001b[0;34m**\u001b[0m\u001b[0mkwargs\u001b[0m\u001b[0;34m)\u001b[0m\u001b[0;34m\u001b[0m\u001b[0;34m\u001b[0m\u001b[0m\n",
      "\u001b[0;32m~/.local/lib/python3.9/site-packages/graphviz/backend/piping.py\u001b[0m in \u001b[0;36mpipe_lines_string\u001b[0;34m(engine, format, input_lines, encoding, renderer, formatter, neato_no_op, quiet)\u001b[0m\n\u001b[1;32m    210\u001b[0m     \u001b[0mkwargs\u001b[0m \u001b[0;34m=\u001b[0m \u001b[0;34m{\u001b[0m\u001b[0;34m'input_lines'\u001b[0m\u001b[0;34m:\u001b[0m \u001b[0minput_lines\u001b[0m\u001b[0;34m,\u001b[0m \u001b[0;34m'encoding'\u001b[0m\u001b[0;34m:\u001b[0m \u001b[0mencoding\u001b[0m\u001b[0;34m}\u001b[0m\u001b[0;34m\u001b[0m\u001b[0;34m\u001b[0m\u001b[0m\n\u001b[1;32m    211\u001b[0m \u001b[0;34m\u001b[0m\u001b[0m\n\u001b[0;32m--> 212\u001b[0;31m     \u001b[0mproc\u001b[0m \u001b[0;34m=\u001b[0m \u001b[0mexecute\u001b[0m\u001b[0;34m.\u001b[0m\u001b[0mrun_check\u001b[0m\u001b[0;34m(\u001b[0m\u001b[0mcmd\u001b[0m\u001b[0;34m,\u001b[0m \u001b[0mcapture_output\u001b[0m\u001b[0;34m=\u001b[0m\u001b[0;32mTrue\u001b[0m\u001b[0;34m,\u001b[0m \u001b[0mquiet\u001b[0m\u001b[0;34m=\u001b[0m\u001b[0mquiet\u001b[0m\u001b[0;34m,\u001b[0m \u001b[0;34m**\u001b[0m\u001b[0mkwargs\u001b[0m\u001b[0;34m)\u001b[0m\u001b[0;34m\u001b[0m\u001b[0;34m\u001b[0m\u001b[0m\n\u001b[0m\u001b[1;32m    213\u001b[0m     \u001b[0;32mreturn\u001b[0m \u001b[0mproc\u001b[0m\u001b[0;34m.\u001b[0m\u001b[0mstdout\u001b[0m\u001b[0;34m\u001b[0m\u001b[0;34m\u001b[0m\u001b[0m\n",
      "\u001b[0;32m~/.local/lib/python3.9/site-packages/graphviz/backend/execute.py\u001b[0m in \u001b[0;36mrun_check\u001b[0;34m(cmd, input_lines, encoding, quiet, **kwargs)\u001b[0m\n\u001b[1;32m     77\u001b[0m             \u001b[0;32mif\u001b[0m \u001b[0mkwargs\u001b[0m\u001b[0;34m.\u001b[0m\u001b[0mpop\u001b[0m\u001b[0;34m(\u001b[0m\u001b[0;34m'capture_output'\u001b[0m\u001b[0;34m)\u001b[0m\u001b[0;34m:\u001b[0m\u001b[0;34m\u001b[0m\u001b[0;34m\u001b[0m\u001b[0m\n\u001b[1;32m     78\u001b[0m                 \u001b[0mkwargs\u001b[0m\u001b[0;34m[\u001b[0m\u001b[0;34m'stdout'\u001b[0m\u001b[0;34m]\u001b[0m \u001b[0;34m=\u001b[0m \u001b[0mkwargs\u001b[0m\u001b[0;34m[\u001b[0m\u001b[0;34m'stderr'\u001b[0m\u001b[0;34m]\u001b[0m \u001b[0;34m=\u001b[0m \u001b[0msubprocess\u001b[0m\u001b[0;34m.\u001b[0m\u001b[0mPIPE\u001b[0m\u001b[0;34m\u001b[0m\u001b[0;34m\u001b[0m\u001b[0m\n\u001b[0;32m---> 79\u001b[0;31m             \u001b[0mproc\u001b[0m \u001b[0;34m=\u001b[0m \u001b[0m_run_input_lines\u001b[0m\u001b[0;34m(\u001b[0m\u001b[0mcmd\u001b[0m\u001b[0;34m,\u001b[0m \u001b[0minput_lines\u001b[0m\u001b[0;34m,\u001b[0m \u001b[0mkwargs\u001b[0m\u001b[0;34m=\u001b[0m\u001b[0mkwargs\u001b[0m\u001b[0;34m)\u001b[0m\u001b[0;34m\u001b[0m\u001b[0;34m\u001b[0m\u001b[0m\n\u001b[0m\u001b[1;32m     80\u001b[0m         \u001b[0;32melse\u001b[0m\u001b[0;34m:\u001b[0m\u001b[0;34m\u001b[0m\u001b[0;34m\u001b[0m\u001b[0m\n\u001b[1;32m     81\u001b[0m             \u001b[0mproc\u001b[0m \u001b[0;34m=\u001b[0m \u001b[0msubprocess\u001b[0m\u001b[0;34m.\u001b[0m\u001b[0mrun\u001b[0m\u001b[0;34m(\u001b[0m\u001b[0mcmd\u001b[0m\u001b[0;34m,\u001b[0m \u001b[0;34m**\u001b[0m\u001b[0mkwargs\u001b[0m\u001b[0;34m)\u001b[0m\u001b[0;34m\u001b[0m\u001b[0;34m\u001b[0m\u001b[0m\n",
      "\u001b[0;32m~/.local/lib/python3.9/site-packages/graphviz/backend/execute.py\u001b[0m in \u001b[0;36m_run_input_lines\u001b[0;34m(cmd, input_lines, kwargs)\u001b[0m\n\u001b[1;32m     97\u001b[0m \u001b[0;34m\u001b[0m\u001b[0m\n\u001b[1;32m     98\u001b[0m \u001b[0;32mdef\u001b[0m \u001b[0m_run_input_lines\u001b[0m\u001b[0;34m(\u001b[0m\u001b[0mcmd\u001b[0m\u001b[0;34m,\u001b[0m \u001b[0minput_lines\u001b[0m\u001b[0;34m,\u001b[0m \u001b[0;34m*\u001b[0m\u001b[0;34m,\u001b[0m \u001b[0mkwargs\u001b[0m\u001b[0;34m)\u001b[0m\u001b[0;34m:\u001b[0m\u001b[0;34m\u001b[0m\u001b[0;34m\u001b[0m\u001b[0m\n\u001b[0;32m---> 99\u001b[0;31m     \u001b[0mpopen\u001b[0m \u001b[0;34m=\u001b[0m \u001b[0msubprocess\u001b[0m\u001b[0;34m.\u001b[0m\u001b[0mPopen\u001b[0m\u001b[0;34m(\u001b[0m\u001b[0mcmd\u001b[0m\u001b[0;34m,\u001b[0m \u001b[0mstdin\u001b[0m\u001b[0;34m=\u001b[0m\u001b[0msubprocess\u001b[0m\u001b[0;34m.\u001b[0m\u001b[0mPIPE\u001b[0m\u001b[0;34m,\u001b[0m \u001b[0;34m**\u001b[0m\u001b[0mkwargs\u001b[0m\u001b[0;34m)\u001b[0m\u001b[0;34m\u001b[0m\u001b[0;34m\u001b[0m\u001b[0m\n\u001b[0m\u001b[1;32m    100\u001b[0m \u001b[0;34m\u001b[0m\u001b[0m\n\u001b[1;32m    101\u001b[0m     \u001b[0mstdin_write\u001b[0m \u001b[0;34m=\u001b[0m \u001b[0mpopen\u001b[0m\u001b[0;34m.\u001b[0m\u001b[0mstdin\u001b[0m\u001b[0;34m.\u001b[0m\u001b[0mwrite\u001b[0m\u001b[0;34m\u001b[0m\u001b[0;34m\u001b[0m\u001b[0m\n",
      "\u001b[0;32m/accre/arch/easybuild/software/BinDist/Anaconda3/2021.11/lib/python3.9/subprocess.py\u001b[0m in \u001b[0;36m__init__\u001b[0;34m(self, args, bufsize, executable, stdin, stdout, stderr, preexec_fn, close_fds, shell, cwd, env, universal_newlines, startupinfo, creationflags, restore_signals, start_new_session, pass_fds, user, group, extra_groups, encoding, errors, text, umask)\u001b[0m\n\u001b[1;32m    949\u001b[0m                             encoding=encoding, errors=errors)\n\u001b[1;32m    950\u001b[0m \u001b[0;34m\u001b[0m\u001b[0m\n\u001b[0;32m--> 951\u001b[0;31m             self._execute_child(args, executable, preexec_fn, close_fds,\n\u001b[0m\u001b[1;32m    952\u001b[0m                                 \u001b[0mpass_fds\u001b[0m\u001b[0;34m,\u001b[0m \u001b[0mcwd\u001b[0m\u001b[0;34m,\u001b[0m \u001b[0menv\u001b[0m\u001b[0;34m,\u001b[0m\u001b[0;34m\u001b[0m\u001b[0;34m\u001b[0m\u001b[0m\n\u001b[1;32m    953\u001b[0m                                 \u001b[0mstartupinfo\u001b[0m\u001b[0;34m,\u001b[0m \u001b[0mcreationflags\u001b[0m\u001b[0;34m,\u001b[0m \u001b[0mshell\u001b[0m\u001b[0;34m,\u001b[0m\u001b[0;34m\u001b[0m\u001b[0;34m\u001b[0m\u001b[0m\n",
      "\u001b[0;32m/accre/arch/easybuild/software/BinDist/Anaconda3/2021.11/lib/python3.9/subprocess.py\u001b[0m in \u001b[0;36m_execute_child\u001b[0;34m(self, args, executable, preexec_fn, close_fds, pass_fds, cwd, env, startupinfo, creationflags, shell, p2cread, p2cwrite, c2pread, c2pwrite, errread, errwrite, restore_signals, gid, gids, uid, umask, start_new_session)\u001b[0m\n\u001b[1;32m   1819\u001b[0m                     \u001b[0;32mif\u001b[0m \u001b[0merrno_num\u001b[0m \u001b[0;34m!=\u001b[0m \u001b[0;36m0\u001b[0m\u001b[0;34m:\u001b[0m\u001b[0;34m\u001b[0m\u001b[0;34m\u001b[0m\u001b[0m\n\u001b[1;32m   1820\u001b[0m                         \u001b[0merr_msg\u001b[0m \u001b[0;34m=\u001b[0m \u001b[0mos\u001b[0m\u001b[0;34m.\u001b[0m\u001b[0mstrerror\u001b[0m\u001b[0;34m(\u001b[0m\u001b[0merrno_num\u001b[0m\u001b[0;34m)\u001b[0m\u001b[0;34m\u001b[0m\u001b[0;34m\u001b[0m\u001b[0m\n\u001b[0;32m-> 1821\u001b[0;31m                     \u001b[0;32mraise\u001b[0m \u001b[0mchild_exception_type\u001b[0m\u001b[0;34m(\u001b[0m\u001b[0merrno_num\u001b[0m\u001b[0;34m,\u001b[0m \u001b[0merr_msg\u001b[0m\u001b[0;34m,\u001b[0m \u001b[0merr_filename\u001b[0m\u001b[0;34m)\u001b[0m\u001b[0;34m\u001b[0m\u001b[0;34m\u001b[0m\u001b[0m\n\u001b[0m\u001b[1;32m   1822\u001b[0m                 \u001b[0;32mraise\u001b[0m \u001b[0mchild_exception_type\u001b[0m\u001b[0;34m(\u001b[0m\u001b[0merr_msg\u001b[0m\u001b[0;34m)\u001b[0m\u001b[0;34m\u001b[0m\u001b[0;34m\u001b[0m\u001b[0m\n\u001b[1;32m   1823\u001b[0m \u001b[0;34m\u001b[0m\u001b[0m\n",
      "\u001b[0;31mPermissionError\u001b[0m: [Errno 13] Permission denied: PosixPath('dot')"
     ]
    },
    {
     "data": {
      "text/plain": [
       "<graphviz.sources.Source at 0x2b9047f58490>"
      ]
     },
     "execution_count": 67,
     "metadata": {},
     "output_type": "execute_result"
    }
   ],
   "source": [
    "graph"
   ]
  },
  {
   "cell_type": "code",
   "execution_count": 60,
   "id": "fJN9176y6gf1",
   "metadata": {
    "id": "fJN9176y6gf1"
   },
   "outputs": [],
   "source": [
    "#graph.render('./image/my_dt', format='png')"
   ]
  },
  {
   "cell_type": "markdown",
   "id": "hr1tlFYsUyZH",
   "metadata": {
    "id": "hr1tlFYsUyZH"
   },
   "source": [
    "### Evaluating on Test data"
   ]
  },
  {
   "cell_type": "code",
   "execution_count": 61,
   "id": "U7qs1zV6xO9X",
   "metadata": {
    "colab": {
     "base_uri": "https://localhost:8080/"
    },
    "id": "U7qs1zV6xO9X",
    "outputId": "268c0e81-05fb-4446-af64-3466fc8762cd"
   },
   "outputs": [
    {
     "data": {
      "text/plain": [
       "0    46815\n",
       "1    33169\n",
       "Name: income, dtype: int64"
      ]
     },
     "execution_count": 61,
     "metadata": {},
     "output_type": "execute_result"
    }
   ],
   "source": [
    "new_train_data[\"income\"].value_counts()"
   ]
  },
  {
   "cell_type": "code",
   "execution_count": 62,
   "id": "M-qS7J4e3krT",
   "metadata": {
    "colab": {
     "base_uri": "https://localhost:8080/"
    },
    "id": "M-qS7J4e3krT",
    "outputId": "bcfe4e99-9176-40d9-cf7f-5d8e1f1b8c56"
   },
   "outputs": [
    {
     "data": {
      "text/plain": [
       "79984"
      ]
     },
     "execution_count": 62,
     "metadata": {},
     "output_type": "execute_result"
    }
   ],
   "source": [
    "my_dt.samples"
   ]
  },
  {
   "cell_type": "code",
   "execution_count": 63,
   "id": "xMLo7e9TdMHl",
   "metadata": {
    "colab": {
     "base_uri": "https://localhost:8080/"
    },
    "id": "xMLo7e9TdMHl",
    "outputId": "234c9cb5-0653-4864-8df5-b9570b5c7fc8"
   },
   "outputs": [
    {
     "name": "stdout",
     "output_type": "stream",
     "text": [
      "196.97 seconds\n"
     ]
    }
   ],
   "source": [
    "start=time.time()\n",
    "my_dt = decision_tree(new_train_data, 'income', max_depth=13, max_features = 15, min_samples_split = 500, min_samples_leaf = 250)\n",
    "print(round(time.time()-start, 2), 'seconds')"
   ]
  },
  {
   "cell_type": "code",
   "execution_count": 64,
   "id": "53N3oCDaUxbe",
   "metadata": {
    "id": "53N3oCDaUxbe"
   },
   "outputs": [],
   "source": [
    "def tree_predict(my_dt, obs, prop):\n",
    "  out_dt = my_dt\n",
    "  income = \"\"\n",
    "  while out_dt.column != \"\":\n",
    "    if obs[out_dt.column] <= out_dt.thresh:\n",
    "      out_dt = out_dt.branch_positive\n",
    "    else:\n",
    "      out_dt = out_dt.branch_negative\n",
    "  \n",
    "  if out_dt.value[1]/(out_dt.value[1] + out_dt.value[0]) >= prop:\n",
    "    income = 1\n",
    "  else:\n",
    "    income = 0\n",
    "  \n",
    "  return out_dt, income"
   ]
  },
  {
   "cell_type": "code",
   "execution_count": 65,
   "id": "tJ-bx7dhwH2N",
   "metadata": {
    "id": "tJ-bx7dhwH2N"
   },
   "outputs": [],
   "source": [
    "prop = list(np.linspace(0,1, 100))[1:-1]"
   ]
  },
  {
   "cell_type": "code",
   "execution_count": 66,
   "id": "dzIDf41yyewi",
   "metadata": {
    "id": "dzIDf41yyewi"
   },
   "outputs": [],
   "source": [
    "from sklearn.metrics import precision_score, recall_score, accuracy_score"
   ]
  },
  {
   "cell_type": "code",
   "execution_count": 67,
   "id": "oyit6h5iFgG7",
   "metadata": {
    "id": "oyit6h5iFgG7"
   },
   "outputs": [],
   "source": [
    "new_test_data_use = new_test_data.reset_index(drop = True)"
   ]
  },
  {
   "cell_type": "code",
   "execution_count": 68,
   "id": "zLuTPX7iwRRC",
   "metadata": {
    "id": "zLuTPX7iwRRC"
   },
   "outputs": [],
   "source": [
    "def tree_pred_threshold(prop):\n",
    "  incomes = []\n",
    "  for i in range(len(new_test_data_use)):\n",
    "    out_dt, income = tree_predict(my_dt, new_test_data_use.iloc[i,:], prop)\n",
    "    incomes.append(income)\n",
    "\n",
    "  precision = precision_score(y_test, incomes)\n",
    "  recall = recall_score(y_test, incomes)\n",
    "  accuracy = accuracy_score(y_test, incomes)\n",
    "  \n",
    "  return precision, recall, accuracy"
   ]
  },
  {
   "cell_type": "code",
   "execution_count": 69,
   "id": "dE5DLdarypK3",
   "metadata": {
    "id": "dE5DLdarypK3"
   },
   "outputs": [],
   "source": [
    "precisions = []\n",
    "recalls = []\n",
    "accuracy = []\n",
    "for i in range(len(prop)):\n",
    "  res = tree_pred_threshold(prop[i])\n",
    "  precisions.append(res[0])\n",
    "  recalls.append(res[1])\n",
    "  accuracy.append(res[2])"
   ]
  },
  {
   "cell_type": "code",
   "execution_count": 70,
   "id": "bG81bqvy0W9r",
   "metadata": {
    "colab": {
     "base_uri": "https://localhost:8080/"
    },
    "id": "bG81bqvy0W9r",
    "outputId": "85b568b4-f964-4220-b192-103b9d744f86"
   },
   "outputs": [
    {
     "data": {
      "text/plain": [
       "(0.5050505050505051, 0.61465)"
      ]
     },
     "execution_count": 70,
     "metadata": {},
     "output_type": "execute_result"
    }
   ],
   "source": [
    "prop[np.argmax(accuracy)], accuracy[np.argmax(accuracy)]"
   ]
  },
  {
   "cell_type": "code",
   "execution_count": 71,
   "id": "B_AD5UIEy9Pa",
   "metadata": {
    "colab": {
     "base_uri": "https://localhost:8080/",
     "height": 699
    },
    "id": "B_AD5UIEy9Pa",
    "outputId": "8520ad72-a178-4eed-df3a-894661c97daa"
   },
   "outputs": [
    {
     "data": {
      "image/png": "[encoded data removed]",
      "text/plain": [
       "<Figure size 1200x800 with 1 Axes>"
      ]
     },
     "metadata": {},
     "output_type": "display_data"
    }
   ],
   "source": [
    "plt.figure(figsize = (12,8))\n",
    "sns.lineplot(x = prop, y = precisions, color = \"blue\", label = \"precision\")\n",
    "sns.lineplot(x = prop, y = recalls, color = \"orange\", label = \"recall\")\n",
    "sns.lineplot(x = prop, y = accuracy, color = \"green\", label = \"accuracy\")\n",
    "plt.axvline(x = prop[np.argmax(accuracy)], color = \"black\", linestyle = \"dashed\")\n",
    "plt.title(\"Metrics' trends as a function of threshold\")\n",
    "plt.show();"
   ]
  },
  {
   "cell_type": "code",
   "execution_count": 72,
   "id": "PQDOiDvaXMnc",
   "metadata": {
    "id": "PQDOiDvaXMnc"
   },
   "outputs": [],
   "source": [
    "incomes = []\n",
    "out_vals = []\n",
    "for i in range(len(new_test_data_use)):\n",
    "  out_dt, income = tree_predict(my_dt, new_test_data_use.iloc[i,:], prop[np.argmax(accuracy)])\n",
    "  incomes.append(income)\n",
    "  out_vals.append(out_dt.value)"
   ]
  },
  {
   "cell_type": "code",
   "execution_count": 73,
   "id": "CamewcxeXSet",
   "metadata": {
    "colab": {
     "base_uri": "https://localhost:8080/"
    },
    "id": "CamewcxeXSet",
    "outputId": "4cbb7ef2-b48a-44b4-c089-9ae519e6764d"
   },
   "outputs": [
    {
     "data": {
      "text/plain": [
       "Counter({0: 15305, 1: 4695})"
      ]
     },
     "execution_count": 73,
     "metadata": {},
     "output_type": "execute_result"
    }
   ],
   "source": [
    "from collections import Counter\n",
    "Counter(incomes)"
   ]
  },
  {
   "cell_type": "code",
   "execution_count": 74,
   "id": "ykrK75zXwKyG",
   "metadata": {
    "colab": {
     "base_uri": "https://localhost:8080/"
    },
    "id": "ykrK75zXwKyG",
    "outputId": "8f51efb4-b986-48bb-b027-bc8f2153b773"
   },
   "outputs": [
    {
     "data": {
      "text/plain": [
       "[[6192, 6143],\n",
       " [6192, 6143],\n",
       " [2073, 0],\n",
       " [1583, 1608],\n",
       " [267, 213],\n",
       " [12, 23],\n",
       " [6192, 6143],\n",
       " [2073, 0],\n",
       " [4, 771],\n",
       " [220, 239]]"
      ]
     },
     "execution_count": 74,
     "metadata": {},
     "output_type": "execute_result"
    }
   ],
   "source": [
    "out_vals[:10]"
   ]
  },
  {
   "cell_type": "code",
   "execution_count": 75,
   "id": "1_HxNdBIUxjy",
   "metadata": {
    "id": "1_HxNdBIUxjy"
   },
   "outputs": [],
   "source": [
    "out_dt, income = tree_predict(my_dt, new_test_data.iloc[1000,:], prop[np.argmax(accuracy)])"
   ]
  },
  {
   "cell_type": "code",
   "execution_count": 76,
   "id": "XSyuYxFaWXgf",
   "metadata": {
    "colab": {
     "base_uri": "https://localhost:8080/"
    },
    "id": "XSyuYxFaWXgf",
    "outputId": "c9551171-8a70-4b4e-e4fd-891ed9147c2c"
   },
   "outputs": [
    {
     "data": {
      "text/plain": [
       "[5, 13]"
      ]
     },
     "execution_count": 76,
     "metadata": {},
     "output_type": "execute_result"
    }
   ],
   "source": [
    "out_dt.value"
   ]
  },
  {
   "cell_type": "code",
   "execution_count": 77,
   "id": "YHA_Ov-xWZgM",
   "metadata": {
    "colab": {
     "base_uri": "https://localhost:8080/"
    },
    "id": "YHA_Ov-xWZgM",
    "outputId": "5b161493-9526-47e8-9b3d-1cdde6425341"
   },
   "outputs": [
    {
     "data": {
      "text/plain": [
       "1"
      ]
     },
     "execution_count": 77,
     "metadata": {},
     "output_type": "execute_result"
    }
   ],
   "source": [
    "income"
   ]
  },
  {
   "cell_type": "code",
   "execution_count": 78,
   "id": "_vh3QTVdZFR1",
   "metadata": {
    "id": "_vh3QTVdZFR1"
   },
   "outputs": [],
   "source": [
    "from sklearn.metrics import classification_report, confusion_matrix\n",
    "import seaborn as sns"
   ]
  },
  {
   "cell_type": "code",
   "execution_count": 79,
   "id": "RLWo_BBxfghC",
   "metadata": {
    "colab": {
     "base_uri": "https://localhost:8080/"
    },
    "id": "RLWo_BBxfghC",
    "outputId": "7ca87a6d-b5d2-4a48-ea1c-27357b0c10a1"
   },
   "outputs": [
    {
     "name": "stdout",
     "output_type": "stream",
     "text": [
      "              precision    recall  f1-score   support\n",
      "\n",
      "           0       0.63      0.82      0.71     11708\n",
      "           1       0.56      0.32      0.41      8292\n",
      "\n",
      "    accuracy                           0.61     20000\n",
      "   macro avg       0.60      0.57      0.56     20000\n",
      "weighted avg       0.60      0.61      0.59     20000\n",
      "\n"
     ]
    }
   ],
   "source": [
    "print(classification_report(y_test, incomes))"
   ]
  },
  {
   "cell_type": "code",
   "execution_count": 80,
   "id": "9CAxX8Whfjj8",
   "metadata": {
    "id": "9CAxX8Whfjj8"
   },
   "outputs": [],
   "source": [
    "conf = confusion_matrix(y_test,incomes)"
   ]
  },
  {
   "cell_type": "code",
   "execution_count": 81,
   "id": "nnhAvk69fpT5",
   "metadata": {
    "colab": {
     "base_uri": "https://localhost:8080/",
     "height": 447
    },
    "id": "nnhAvk69fpT5",
    "outputId": "89952a4d-aa73-424c-a038-50df4d3012ba"
   },
   "outputs": [
    {
     "data": {
      "text/plain": [
       "<Axes: >"
      ]
     },
     "execution_count": 81,
     "metadata": {},
     "output_type": "execute_result"
    },
    {
     "data": {
      "image/png": "[encoded data removed]",
      "text/plain": [
       "<Figure size 640x480 with 2 Axes>"
      ]
     },
     "metadata": {},
     "output_type": "display_data"
    }
   ],
   "source": [
    "sns.heatmap(conf, annot = True, cmap = \"RdBu\")"
   ]
  },
  {
   "cell_type": "markdown",
   "id": "BZu2osxFTdT6",
   "metadata": {
    "id": "BZu2osxFTdT6"
   },
   "source": [
    "### Column Frequency"
   ]
  },
  {
   "cell_type": "code",
   "execution_count": 82,
   "id": "blUOE7KTTT0b",
   "metadata": {
    "id": "blUOE7KTTT0b"
   },
   "outputs": [],
   "source": [
    "from collections import Counter\n",
    "col_dict = dict(Counter(my_dt.col_names))"
   ]
  },
  {
   "cell_type": "code",
   "execution_count": 83,
   "id": "emb8Z2VATSnk",
   "metadata": {
    "id": "emb8Z2VATSnk"
   },
   "outputs": [],
   "source": [
    "col_df = pd.DataFrame({\"variable\": list(col_dict.keys()), \"frequency\": list(col_dict.values())})"
   ]
  },
  {
   "cell_type": "code",
   "execution_count": 84,
   "id": "n1MxYEW-Tjfz",
   "metadata": {
    "id": "n1MxYEW-Tjfz"
   },
   "outputs": [],
   "source": [
    "col_df = col_df[col_df[\"variable\"] != \"\"]"
   ]
  },
  {
   "cell_type": "code",
   "execution_count": 85,
   "id": "NNZAauQaUHPN",
   "metadata": {
    "colab": {
     "base_uri": "https://localhost:8080/",
     "height": 520
    },
    "id": "NNZAauQaUHPN",
    "outputId": "89f4ec43-f521-4d37-b0f9-7e13b3ab94ee"
   },
   "outputs": [
    {
     "data": {
      "text/html": [
       "\n",
       "  <div id=\"df-5bdb17d0-344e-4c66-a85e-1df9aedbf3c5\">\n",
       "    <div class=\"colab-df-container\">\n",
       "      <div>\n",
       "<style scoped>\n",
       "    .dataframe tbody tr th:only-of-type {\n",
       "        vertical-align: middle;\n",
       "    }\n",
       "\n",
       "    .dataframe tbody tr th {\n",
       "        vertical-align: top;\n",
       "    }\n",
       "\n",
       "    .dataframe thead th {\n",
       "        text-align: right;\n",
       "    }\n",
       "</style>\n",
       "<table border=\"1\" class=\"dataframe\">\n",
       "  <thead>\n",
       "    <tr style=\"text-align: right;\">\n",
       "      <th></th>\n",
       "      <th>variable</th>\n",
       "      <th>frequency</th>\n",
       "    </tr>\n",
       "  </thead>\n",
       "  <tbody>\n",
       "    <tr>\n",
       "      <th>0</th>\n",
       "      <td>capital_loss_scaled</td>\n",
       "      <td>2</td>\n",
       "    </tr>\n",
       "    <tr>\n",
       "      <th>1</th>\n",
       "      <td>marital_relation_married-civ-spouse_husband</td>\n",
       "      <td>4</td>\n",
       "    </tr>\n",
       "    <tr>\n",
       "      <th>2</th>\n",
       "      <td>education_new</td>\n",
       "      <td>44</td>\n",
       "    </tr>\n",
       "    <tr>\n",
       "      <th>3</th>\n",
       "      <td>workclass_private</td>\n",
       "      <td>24</td>\n",
       "    </tr>\n",
       "    <tr>\n",
       "      <th>4</th>\n",
       "      <td>workclass_self-emp-inc</td>\n",
       "      <td>22</td>\n",
       "    </tr>\n",
       "    <tr>\n",
       "      <th>5</th>\n",
       "      <td>age_scaled</td>\n",
       "      <td>51</td>\n",
       "    </tr>\n",
       "    <tr>\n",
       "      <th>6</th>\n",
       "      <td>workclass_state-gov</td>\n",
       "      <td>10</td>\n",
       "    </tr>\n",
       "    <tr>\n",
       "      <th>7</th>\n",
       "      <td>capital_gain_scaled</td>\n",
       "      <td>53</td>\n",
       "    </tr>\n",
       "    <tr>\n",
       "      <th>8</th>\n",
       "      <td>workclass_without-pay</td>\n",
       "      <td>10</td>\n",
       "    </tr>\n",
       "    <tr>\n",
       "      <th>9</th>\n",
       "      <td>marital_relation_married-civ-spouse_wife</td>\n",
       "      <td>17</td>\n",
       "    </tr>\n",
       "    <tr>\n",
       "      <th>10</th>\n",
       "      <td>occupation_machine-op-inspct</td>\n",
       "      <td>17</td>\n",
       "    </tr>\n",
       "    <tr>\n",
       "      <th>11</th>\n",
       "      <td>hours_per_week_scaled</td>\n",
       "      <td>50</td>\n",
       "    </tr>\n",
       "    <tr>\n",
       "      <th>12</th>\n",
       "      <td>fnlwgt_scaled</td>\n",
       "      <td>59</td>\n",
       "    </tr>\n",
       "    <tr>\n",
       "      <th>13</th>\n",
       "      <td>occupation_exec-managerial</td>\n",
       "      <td>23</td>\n",
       "    </tr>\n",
       "    <tr>\n",
       "      <th>14</th>\n",
       "      <td>occupation_protective-serv</td>\n",
       "      <td>12</td>\n",
       "    </tr>\n",
       "  </tbody>\n",
       "</table>\n",
       "</div>\n",
       "      <button class=\"colab-df-convert\" onclick=\"convertToInteractive('df-5bdb17d0-344e-4c66-a85e-1df9aedbf3c5')\"\n",
       "              title=\"Convert this dataframe to an interactive table.\"\n",
       "              style=\"display:none;\">\n",
       "        \n",
       "  <svg xmlns=\"http://www.w3.org/2000/svg\" height=\"24px\"viewBox=\"0 0 24 24\"\n",
       "       width=\"24px\">\n",
       "    <path d=\"M0 0h24v24H0V0z\" fill=\"none\"/>\n",
       "    <path d=\"M18.56 5.44l.94 2.06.94-2.06 2.06-.94-2.06-.94-.94-2.06-.94 2.06-2.06.94zm-11 1L8.5 8.5l.94-2.06 2.06-.94-2.06-.94L8.5 2.5l-.94 2.06-2.06.94zm10 10l.94 2.06.94-2.06 2.06-.94-2.06-.94-.94-2.06-.94 2.06-2.06.94z\"/><path d=\"M17.41 7.96l-1.37-1.37c-.4-.4-.92-.59-1.43-.59-.52 0-1.04.2-1.43.59L10.3 9.45l-7.72 7.72c-.78.78-.78 2.05 0 2.83L4 21.41c.39.39.9.59 1.41.59.51 0 1.02-.2 1.41-.59l7.78-7.78 2.81-2.81c.8-.78.8-2.07 0-2.86zM5.41 20L4 18.59l7.72-7.72 1.47 1.35L5.41 20z\"/>\n",
       "  </svg>\n",
       "      </button>\n",
       "      \n",
       "  <style>\n",
       "    .colab-df-container {\n",
       "      display:flex;\n",
       "      flex-wrap:wrap;\n",
       "      gap: 12px;\n",
       "    }\n",
       "\n",
       "    .colab-df-convert {\n",
       "      background-color: #E8F0FE;\n",
       "      border: none;\n",
       "      border-radius: 50%;\n",
       "      cursor: pointer;\n",
       "      display: none;\n",
       "      fill: #1967D2;\n",
       "      height: 32px;\n",
       "      padding: 0 0 0 0;\n",
       "      width: 32px;\n",
       "    }\n",
       "\n",
       "    .colab-df-convert:hover {\n",
       "      background-color: #E2EBFA;\n",
       "      box-shadow: 0px 1px 2px rgba(60, 64, 67, 0.3), 0px 1px 3px 1px rgba(60, 64, 67, 0.15);\n",
       "      fill: #174EA6;\n",
       "    }\n",
       "\n",
       "    [theme=dark] .colab-df-convert {\n",
       "      background-color: #3B4455;\n",
       "      fill: #D2E3FC;\n",
       "    }\n",
       "\n",
       "    [theme=dark] .colab-df-convert:hover {\n",
       "      background-color: #434B5C;\n",
       "      box-shadow: 0px 1px 3px 1px rgba(0, 0, 0, 0.15);\n",
       "      filter: drop-shadow(0px 1px 2px rgba(0, 0, 0, 0.3));\n",
       "      fill: #FFFFFF;\n",
       "    }\n",
       "  </style>\n",
       "\n",
       "      <script>\n",
       "        const buttonEl =\n",
       "          document.querySelector('#df-5bdb17d0-344e-4c66-a85e-1df9aedbf3c5 button.colab-df-convert');\n",
       "        buttonEl.style.display =\n",
       "          google.colab.kernel.accessAllowed ? 'block' : 'none';\n",
       "\n",
       "        async function convertToInteractive(key) {\n",
       "          const element = document.querySelector('#df-5bdb17d0-344e-4c66-a85e-1df9aedbf3c5');\n",
       "          const dataTable =\n",
       "            await google.colab.kernel.invokeFunction('convertToInteractive',\n",
       "                                                     [key], {});\n",
       "          if (!dataTable) return;\n",
       "\n",
       "          const docLinkHtml = 'Like what you see? Visit the ' +\n",
       "            '<a target=\"_blank\" href=https://colab.research.google.com/notebooks/data_table.ipynb>data table notebook</a>'\n",
       "            + ' to learn more about interactive tables.';\n",
       "          element.innerHTML = '';\n",
       "          dataTable['output_type'] = 'display_data';\n",
       "          await google.colab.output.renderOutput(dataTable, element);\n",
       "          const docLink = document.createElement('div');\n",
       "          docLink.innerHTML = docLinkHtml;\n",
       "          element.appendChild(docLink);\n",
       "        }\n",
       "      </script>\n",
       "    </div>\n",
       "  </div>\n",
       "  "
      ],
      "text/plain": [
       "                                       variable  frequency\n",
       "0                           capital_loss_scaled          2\n",
       "1   marital_relation_married-civ-spouse_husband          4\n",
       "2                                 education_new         44\n",
       "3                             workclass_private         24\n",
       "4                        workclass_self-emp-inc         22\n",
       "5                                    age_scaled         51\n",
       "6                           workclass_state-gov         10\n",
       "7                           capital_gain_scaled         53\n",
       "8                         workclass_without-pay         10\n",
       "9      marital_relation_married-civ-spouse_wife         17\n",
       "10                 occupation_machine-op-inspct         17\n",
       "11                        hours_per_week_scaled         50\n",
       "12                                fnlwgt_scaled         59\n",
       "13                   occupation_exec-managerial         23\n",
       "14                   occupation_protective-serv         12"
      ]
     },
     "execution_count": 85,
     "metadata": {},
     "output_type": "execute_result"
    }
   ],
   "source": [
    "col_df"
   ]
  }
 ],
 "metadata": {
  "accelerator": "GPU",
  "colab": {
   "include_colab_link": true,
   "provenance": []
  },
  "gpuClass": "standard",
  "kernelspec": {
   "display_name": "Python 3 (ipykernel)",
   "language": "python",
   "name": "python3"
  },
  "language_info": {
   "codemirror_mode": {
    "name": "ipython",
    "version": 3
   },
   "file_extension": ".py",
   "mimetype": "text/x-python",
   "name": "python",
   "nbconvert_exporter": "python",
   "pygments_lexer": "ipython3",
   "version": "3.9.7"
  }
 },
 "nbformat": 4,
 "nbformat_minor": 5
}
