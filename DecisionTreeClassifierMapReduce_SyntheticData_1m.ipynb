{
  "cells": [
    {
      "cell_type": "markdown",
      "metadata": {
        "id": "view-in-github",
        "colab_type": "text"
      },
      "source": [
        "<a href=\"https://colab.research.google.com/github/alvinnebula/DecisionTree_MapReduce/blob/main/DecisionTreeClassifierMapReduce_SyntheticData_1m.ipynb\" target=\"_parent\"><img src=\"https://colab.research.google.com/assets/colab-badge.svg\" alt=\"Open In Colab\"/></a>"
      ]
    },
    {
      "cell_type": "markdown",
      "source": [
        "# Decision Tree - Synthetic Data - 1 million observations (Map Reduce)"
      ],
      "metadata": {
        "id": "SlJ_pREsuXb7"
      },
      "id": "SlJ_pREsuXb7"
    },
    {
      "cell_type": "markdown",
      "source": [
        "#### Package Installation"
      ],
      "metadata": {
        "id": "mnRJ-ouqueI0"
      },
      "id": "mnRJ-ouqueI0"
    },
    {
      "cell_type": "code",
      "execution_count": 1,
      "id": "qzcrCwEh56F9",
      "metadata": {
        "colab": {
          "base_uri": "https://localhost:8080/"
        },
        "id": "qzcrCwEh56F9",
        "outputId": "206ee0d7-7f15-4008-d250-3723d0d744cc"
      },
      "outputs": [
        {
          "output_type": "stream",
          "name": "stdout",
          "text": [
            "Looking in indexes: https://pypi.org/simple, https://us-python.pkg.dev/colab-wheels/public/simple/\n",
            "Collecting pyspark\n",
            "  Downloading pyspark-3.4.0.tar.gz (310.8 MB)\n",
            "\u001b[2K     \u001b[90m━━━━━━━━━━━━━━━━━━━━━━━━━━━━━━━━━━━━━━━\u001b[0m \u001b[32m310.8/310.8 MB\u001b[0m \u001b[31m4.2 MB/s\u001b[0m eta \u001b[36m0:00:00\u001b[0m\n",
            "\u001b[?25h  Preparing metadata (setup.py) ... \u001b[?25l\u001b[?25hdone\n",
            "Requirement already satisfied: py4j==0.10.9.7 in /usr/local/lib/python3.9/dist-packages (from pyspark) (0.10.9.7)\n",
            "Building wheels for collected packages: pyspark\n",
            "  Building wheel for pyspark (setup.py) ... \u001b[?25l\u001b[?25hdone\n",
            "  Created wheel for pyspark: filename=pyspark-3.4.0-py2.py3-none-any.whl size=311317145 sha256=a85a62de348ba5e97bb313f4c2a8e91d07ce51483bc3eda541b553a58fcce747\n",
            "  Stored in directory: /root/.cache/pip/wheels/9f/34/a4/159aa12d0a510d5ff7c8f0220abbea42e5d81ecf588c4fd884\n",
            "Successfully built pyspark\n",
            "Installing collected packages: pyspark\n",
            "Successfully installed pyspark-3.4.0\n",
            "The following additional packages will be installed:\n",
            "  libxtst6 openjdk-8-jre-headless\n",
            "Suggested packages:\n",
            "  openjdk-8-demo openjdk-8-source libnss-mdns fonts-dejavu-extra\n",
            "  fonts-ipafont-gothic fonts-ipafont-mincho fonts-wqy-microhei\n",
            "  fonts-wqy-zenhei fonts-indic\n",
            "The following NEW packages will be installed:\n",
            "  libxtst6 openjdk-8-jdk-headless openjdk-8-jre-headless\n",
            "0 upgraded, 3 newly installed, 0 to remove and 24 not upgraded.\n",
            "Need to get 36.5 MB of archives.\n",
            "After this operation, 144 MB of additional disk space will be used.\n",
            "Selecting previously unselected package libxtst6:amd64.\n",
            "(Reading database ... 122400 files and directories currently installed.)\n",
            "Preparing to unpack .../libxtst6_2%3a1.2.3-1_amd64.deb ...\n",
            "Unpacking libxtst6:amd64 (2:1.2.3-1) ...\n",
            "Selecting previously unselected package openjdk-8-jre-headless:amd64.\n",
            "Preparing to unpack .../openjdk-8-jre-headless_8u362-ga-0ubuntu1~20.04.1_amd64.deb ...\n",
            "Unpacking openjdk-8-jre-headless:amd64 (8u362-ga-0ubuntu1~20.04.1) ...\n",
            "Selecting previously unselected package openjdk-8-jdk-headless:amd64.\n",
            "Preparing to unpack .../openjdk-8-jdk-headless_8u362-ga-0ubuntu1~20.04.1_amd64.deb ...\n",
            "Unpacking openjdk-8-jdk-headless:amd64 (8u362-ga-0ubuntu1~20.04.1) ...\n",
            "Setting up libxtst6:amd64 (2:1.2.3-1) ...\n",
            "Setting up openjdk-8-jre-headless:amd64 (8u362-ga-0ubuntu1~20.04.1) ...\n",
            "update-alternatives: using /usr/lib/jvm/java-8-openjdk-amd64/jre/bin/orbd to provide /usr/bin/orbd (orbd) in auto mode\n",
            "update-alternatives: using /usr/lib/jvm/java-8-openjdk-amd64/jre/bin/servertool to provide /usr/bin/servertool (servertool) in auto mode\n",
            "update-alternatives: using /usr/lib/jvm/java-8-openjdk-amd64/jre/bin/tnameserv to provide /usr/bin/tnameserv (tnameserv) in auto mode\n",
            "Setting up openjdk-8-jdk-headless:amd64 (8u362-ga-0ubuntu1~20.04.1) ...\n",
            "update-alternatives: using /usr/lib/jvm/java-8-openjdk-amd64/bin/idlj to provide /usr/bin/idlj (idlj) in auto mode\n",
            "update-alternatives: using /usr/lib/jvm/java-8-openjdk-amd64/bin/wsimport to provide /usr/bin/wsimport (wsimport) in auto mode\n",
            "update-alternatives: using /usr/lib/jvm/java-8-openjdk-amd64/bin/jsadebugd to provide /usr/bin/jsadebugd (jsadebugd) in auto mode\n",
            "update-alternatives: using /usr/lib/jvm/java-8-openjdk-amd64/bin/native2ascii to provide /usr/bin/native2ascii (native2ascii) in auto mode\n",
            "update-alternatives: using /usr/lib/jvm/java-8-openjdk-amd64/bin/javah to provide /usr/bin/javah (javah) in auto mode\n",
            "update-alternatives: using /usr/lib/jvm/java-8-openjdk-amd64/bin/hsdb to provide /usr/bin/hsdb (hsdb) in auto mode\n",
            "update-alternatives: using /usr/lib/jvm/java-8-openjdk-amd64/bin/clhsdb to provide /usr/bin/clhsdb (clhsdb) in auto mode\n",
            "update-alternatives: using /usr/lib/jvm/java-8-openjdk-amd64/bin/xjc to provide /usr/bin/xjc (xjc) in auto mode\n",
            "update-alternatives: using /usr/lib/jvm/java-8-openjdk-amd64/bin/schemagen to provide /usr/bin/schemagen (schemagen) in auto mode\n",
            "update-alternatives: using /usr/lib/jvm/java-8-openjdk-amd64/bin/extcheck to provide /usr/bin/extcheck (extcheck) in auto mode\n",
            "update-alternatives: using /usr/lib/jvm/java-8-openjdk-amd64/bin/jhat to provide /usr/bin/jhat (jhat) in auto mode\n",
            "update-alternatives: using /usr/lib/jvm/java-8-openjdk-amd64/bin/wsgen to provide /usr/bin/wsgen (wsgen) in auto mode\n",
            "Processing triggers for libc-bin (2.31-0ubuntu9.9) ...\n"
          ]
        }
      ],
      "source": [
        "!pip install pyspark \n",
        "!pip install -U -q PyDrive\n",
        "!apt install openjdk-8-jdk-headless -qq \n",
        "import os\n",
        "os.environ[\"JAVA_HOME\"] = \"/usr/lib/jvm/java-8-openjdk-amd64\""
      ]
    },
    {
      "cell_type": "code",
      "execution_count": 2,
      "id": "nIqx5UPu0Ht8",
      "metadata": {
        "colab": {
          "base_uri": "https://localhost:8080/"
        },
        "id": "nIqx5UPu0Ht8",
        "outputId": "f33ce096-1b64-4bdb-8f7a-ae9a890f38b2"
      },
      "outputs": [
        {
          "output_type": "stream",
          "name": "stdout",
          "text": [
            "Looking in indexes: https://pypi.org/simple, https://us-python.pkg.dev/colab-wheels/public/simple/\n",
            "Collecting parallel-pandas\n",
            "  Downloading parallel_pandas-0.5.0-py3-none-any.whl (18 kB)\n",
            "Requirement already satisfied: psutil in /usr/local/lib/python3.9/dist-packages (from parallel-pandas) (5.9.5)\n",
            "Requirement already satisfied: pandas>=1.4.0 in /usr/local/lib/python3.9/dist-packages (from parallel-pandas) (1.5.3)\n",
            "Collecting dill\n",
            "  Downloading dill-0.3.6-py3-none-any.whl (110 kB)\n",
            "\u001b[2K     \u001b[90m━━━━━━━━━━━━━━━━━━━━━━━━━━━━━━━━━━━━━━\u001b[0m \u001b[32m110.5/110.5 kB\u001b[0m \u001b[31m12.4 MB/s\u001b[0m eta \u001b[36m0:00:00\u001b[0m\n",
            "\u001b[?25hRequirement already satisfied: tqdm in /usr/local/lib/python3.9/dist-packages (from parallel-pandas) (4.65.0)\n",
            "Requirement already satisfied: pytz>=2020.1 in /usr/local/lib/python3.9/dist-packages (from pandas>=1.4.0->parallel-pandas) (2022.7.1)\n",
            "Requirement already satisfied: numpy>=1.20.3 in /usr/local/lib/python3.9/dist-packages (from pandas>=1.4.0->parallel-pandas) (1.22.4)\n",
            "Requirement already satisfied: python-dateutil>=2.8.1 in /usr/local/lib/python3.9/dist-packages (from pandas>=1.4.0->parallel-pandas) (2.8.2)\n",
            "Requirement already satisfied: six>=1.5 in /usr/local/lib/python3.9/dist-packages (from python-dateutil>=2.8.1->pandas>=1.4.0->parallel-pandas) (1.16.0)\n",
            "Installing collected packages: dill, parallel-pandas\n",
            "Successfully installed dill-0.3.6 parallel-pandas-0.5.0\n"
          ]
        }
      ],
      "source": [
        "!pip install --upgrade parallel-pandas"
      ]
    },
    {
      "cell_type": "code",
      "execution_count": 3,
      "id": "B_XcCogDIO_M",
      "metadata": {
        "colab": {
          "base_uri": "https://localhost:8080/"
        },
        "id": "B_XcCogDIO_M",
        "outputId": "2237cf17-c926-4af4-d6e3-b038810abc83"
      },
      "outputs": [
        {
          "output_type": "stream",
          "name": "stdout",
          "text": [
            "Looking in indexes: https://pypi.org/simple, https://us-python.pkg.dev/colab-wheels/public/simple/\n",
            "Collecting pyjanitor\n",
            "  Downloading pyjanitor-0.24.0-py3-none-any.whl (158 kB)\n",
            "\u001b[2K     \u001b[90m━━━━━━━━━━━━━━━━━━━━━━━━━━━━━━━━━━━━━━\u001b[0m \u001b[32m158.4/158.4 kB\u001b[0m \u001b[31m15.8 MB/s\u001b[0m eta \u001b[36m0:00:00\u001b[0m\n",
            "\u001b[?25hRequirement already satisfied: lazy-loader in /usr/local/lib/python3.9/dist-packages (from pyjanitor) (0.2)\n",
            "Requirement already satisfied: scipy in /usr/local/lib/python3.9/dist-packages (from pyjanitor) (1.10.1)\n",
            "Collecting pandas-flavor\n",
            "  Downloading pandas_flavor-0.5.0-py3-none-any.whl (7.1 kB)\n",
            "Requirement already satisfied: multipledispatch in /usr/local/lib/python3.9/dist-packages (from pyjanitor) (0.6.0)\n",
            "Requirement already satisfied: natsort in /usr/local/lib/python3.9/dist-packages (from pyjanitor) (8.3.1)\n",
            "Requirement already satisfied: six in /usr/local/lib/python3.9/dist-packages (from multipledispatch->pyjanitor) (1.16.0)\n",
            "Requirement already satisfied: pandas>=0.23 in /usr/local/lib/python3.9/dist-packages (from pandas-flavor->pyjanitor) (1.5.3)\n",
            "Requirement already satisfied: xarray in /usr/local/lib/python3.9/dist-packages (from pandas-flavor->pyjanitor) (2022.12.0)\n",
            "Requirement already satisfied: numpy<1.27.0,>=1.19.5 in /usr/local/lib/python3.9/dist-packages (from scipy->pyjanitor) (1.22.4)\n",
            "Requirement already satisfied: python-dateutil>=2.8.1 in /usr/local/lib/python3.9/dist-packages (from pandas>=0.23->pandas-flavor->pyjanitor) (2.8.2)\n",
            "Requirement already satisfied: pytz>=2020.1 in /usr/local/lib/python3.9/dist-packages (from pandas>=0.23->pandas-flavor->pyjanitor) (2022.7.1)\n",
            "Requirement already satisfied: packaging>=21.3 in /usr/local/lib/python3.9/dist-packages (from xarray->pandas-flavor->pyjanitor) (23.1)\n",
            "Installing collected packages: pandas-flavor, pyjanitor\n",
            "Successfully installed pandas-flavor-0.5.0 pyjanitor-0.24.0\n"
          ]
        }
      ],
      "source": [
        "!pip install  pyjanitor"
      ]
    },
    {
      "cell_type": "markdown",
      "source": [
        "#### Loading the libraries"
      ],
      "metadata": {
        "id": "zpfuA3QCuiGB"
      },
      "id": "zpfuA3QCuiGB"
    },
    {
      "cell_type": "code",
      "execution_count": 4,
      "id": "93ecd07b",
      "metadata": {
        "id": "93ecd07b"
      },
      "outputs": [],
      "source": [
        "import pandas as pd\n",
        "import numpy as np\n",
        "\n",
        "from sklearn.compose import ColumnTransformer\n",
        "from sklearn.model_selection import GridSearchCV, train_test_split\n",
        "from sklearn.preprocessing import LabelEncoder, OrdinalEncoder, MinMaxScaler, Normalizer, OneHotEncoder\n",
        "import seaborn as sns; sns.set_style(\"dark\")\n",
        "%matplotlib inline\n",
        "import matplotlib.pyplot as plt\n",
        "from pyspark.sql import SparkSession\n",
        "from pyspark import SparkConf, SparkContext\n",
        "import janitor\n",
        "#from parallel_pandas import ParallelPandas\n",
        "from google.colab import drive\n",
        "import os"
      ]
    },
    {
      "cell_type": "markdown",
      "source": [
        "#### Connecting to Google Drive"
      ],
      "metadata": {
        "id": "1eO-ucwHunvt"
      },
      "id": "1eO-ucwHunvt"
    },
    {
      "cell_type": "code",
      "execution_count": 5,
      "id": "n7aeIdJHXvib",
      "metadata": {
        "colab": {
          "base_uri": "https://localhost:8080/"
        },
        "id": "n7aeIdJHXvib",
        "outputId": "cef4c2d3-8db7-47dd-ecf1-e12c4e445b8c"
      },
      "outputs": [
        {
          "output_type": "stream",
          "name": "stderr",
          "text": [
            "/usr/local/lib/python3.9/dist-packages/ipykernel/ipkernel.py:283: DeprecationWarning: `should_run_async` will not call `transform_cell` automatically in the future. Please pass the result to `transformed_cell` argument and any exception that happen during thetransform in `preprocessing_exc_tuple` in IPython 7.17 and above.\n",
            "  and should_run_async(code)\n"
          ]
        },
        {
          "output_type": "stream",
          "name": "stdout",
          "text": [
            "Mounted at /content/drive\n"
          ]
        }
      ],
      "source": [
        "drive.mount('/content/drive')\n",
        "cur_path = \"/content/drive/MyDrive/Big Data/Project\"\n",
        "os.chdir(cur_path)"
      ]
    },
    {
      "cell_type": "markdown",
      "source": [
        "##### Loading in the original data"
      ],
      "metadata": {
        "id": "ztNtSJWtuvU6"
      },
      "id": "ztNtSJWtuvU6"
    },
    {
      "cell_type": "code",
      "execution_count": 6,
      "id": "b601a9f3",
      "metadata": {
        "colab": {
          "base_uri": "https://localhost:8080/"
        },
        "id": "b601a9f3",
        "outputId": "da53ea2f-c170-4a47-fb0c-325d1da3ab94"
      },
      "outputs": [
        {
          "output_type": "stream",
          "name": "stderr",
          "text": [
            "/usr/local/lib/python3.9/dist-packages/ipykernel/ipkernel.py:283: DeprecationWarning: `should_run_async` will not call `transform_cell` automatically in the future. Please pass the result to `transformed_cell` argument and any exception that happen during thetransform in `preprocessing_exc_tuple` in IPython 7.17 and above.\n",
            "  and should_run_async(code)\n"
          ]
        },
        {
          "output_type": "execute_result",
          "data": {
            "text/plain": [
              "Index(['age', 'workclass', 'fnlwgt', 'education', 'education_num',\n",
              "       'marital_status', 'occupation', 'relationship', 'race', 'sex',\n",
              "       'capital_gain', 'capital_loss', 'hours_per_week', 'native_country',\n",
              "       'income'],\n",
              "      dtype='object')"
            ]
          },
          "metadata": {},
          "execution_count": 6
        }
      ],
      "source": [
        "df_small = pd.read_csv(\"adult.csv\").clean_names()\n",
        "df_small.columns"
      ]
    },
    {
      "cell_type": "code",
      "execution_count": 7,
      "id": "IXTB6Of9Fjrs",
      "metadata": {
        "colab": {
          "base_uri": "https://localhost:8080/"
        },
        "id": "IXTB6Of9Fjrs",
        "outputId": "fed0c515-bbbd-49a5-afc1-26cae68ecca3"
      },
      "outputs": [
        {
          "output_type": "stream",
          "name": "stderr",
          "text": [
            "/usr/local/lib/python3.9/dist-packages/ipykernel/ipkernel.py:283: DeprecationWarning: `should_run_async` will not call `transform_cell` automatically in the future. Please pass the result to `transformed_cell` argument and any exception that happen during thetransform in `preprocessing_exc_tuple` in IPython 7.17 and above.\n",
            "  and should_run_async(code)\n"
          ]
        }
      ],
      "source": [
        "cols = list(df_small.columns)"
      ]
    },
    {
      "cell_type": "markdown",
      "source": [
        "##### Loading in the synthetic data"
      ],
      "metadata": {
        "id": "fdxF5AIvuy2E"
      },
      "id": "fdxF5AIvuy2E"
    },
    {
      "cell_type": "code",
      "execution_count": 8,
      "id": "x4Y2OffpFjxo",
      "metadata": {
        "colab": {
          "base_uri": "https://localhost:8080/",
          "height": 261
        },
        "id": "x4Y2OffpFjxo",
        "outputId": "7b599a4f-0a66-4d6f-803e-380ef5e9daad"
      },
      "outputs": [
        {
          "output_type": "stream",
          "name": "stderr",
          "text": [
            "/usr/local/lib/python3.9/dist-packages/ipykernel/ipkernel.py:283: DeprecationWarning: `should_run_async` will not call `transform_cell` automatically in the future. Please pass the result to `transformed_cell` argument and any exception that happen during thetransform in `preprocessing_exc_tuple` in IPython 7.17 and above.\n",
            "  and should_run_async(code)\n"
          ]
        },
        {
          "output_type": "execute_result",
          "data": {
            "text/plain": [
              "   0                 1       2          3   4                   5   \\\n",
              "0  39         State-gov   77516  Bachelors  13       Never-married   \n",
              "1  50  Self-emp-not-inc   83311  Bachelors  13  Married-civ-spouse   \n",
              "2  38           Private  215646    HS-grad   9            Divorced   \n",
              "3  53           Private  234721       11th   7  Married-civ-spouse   \n",
              "4  28           Private  338409  Bachelors  13  Married-civ-spouse   \n",
              "\n",
              "                  6              7      8       9     10  11  12  \\\n",
              "0       Adm-clerical  Not-in-family  White    Male  2174   0  40   \n",
              "1    Exec-managerial        Husband  White    Male     0   0  13   \n",
              "2  Handlers-cleaners  Not-in-family  White    Male     0   0  40   \n",
              "3  Handlers-cleaners        Husband  Black    Male     0   0  40   \n",
              "4     Prof-specialty           Wife  Black  Female     0   0  40   \n",
              "\n",
              "              13     14  \n",
              "0  United-States  <=50K  \n",
              "1  United-States  <=50K  \n",
              "2  United-States  <=50K  \n",
              "3  United-States  <=50K  \n",
              "4           Cuba  <=50K  "
            ],
            "text/html": [
              "\n",
              "  <div id=\"df-1495e4a3-0d2a-4454-99fe-1ba6cdd0aa4a\">\n",
              "    <div class=\"colab-df-container\">\n",
              "      <div>\n",
              "<style scoped>\n",
              "    .dataframe tbody tr th:only-of-type {\n",
              "        vertical-align: middle;\n",
              "    }\n",
              "\n",
              "    .dataframe tbody tr th {\n",
              "        vertical-align: top;\n",
              "    }\n",
              "\n",
              "    .dataframe thead th {\n",
              "        text-align: right;\n",
              "    }\n",
              "</style>\n",
              "<table border=\"1\" class=\"dataframe\">\n",
              "  <thead>\n",
              "    <tr style=\"text-align: right;\">\n",
              "      <th></th>\n",
              "      <th>0</th>\n",
              "      <th>1</th>\n",
              "      <th>2</th>\n",
              "      <th>3</th>\n",
              "      <th>4</th>\n",
              "      <th>5</th>\n",
              "      <th>6</th>\n",
              "      <th>7</th>\n",
              "      <th>8</th>\n",
              "      <th>9</th>\n",
              "      <th>10</th>\n",
              "      <th>11</th>\n",
              "      <th>12</th>\n",
              "      <th>13</th>\n",
              "      <th>14</th>\n",
              "    </tr>\n",
              "  </thead>\n",
              "  <tbody>\n",
              "    <tr>\n",
              "      <th>0</th>\n",
              "      <td>39</td>\n",
              "      <td>State-gov</td>\n",
              "      <td>77516</td>\n",
              "      <td>Bachelors</td>\n",
              "      <td>13</td>\n",
              "      <td>Never-married</td>\n",
              "      <td>Adm-clerical</td>\n",
              "      <td>Not-in-family</td>\n",
              "      <td>White</td>\n",
              "      <td>Male</td>\n",
              "      <td>2174</td>\n",
              "      <td>0</td>\n",
              "      <td>40</td>\n",
              "      <td>United-States</td>\n",
              "      <td>&lt;=50K</td>\n",
              "    </tr>\n",
              "    <tr>\n",
              "      <th>1</th>\n",
              "      <td>50</td>\n",
              "      <td>Self-emp-not-inc</td>\n",
              "      <td>83311</td>\n",
              "      <td>Bachelors</td>\n",
              "      <td>13</td>\n",
              "      <td>Married-civ-spouse</td>\n",
              "      <td>Exec-managerial</td>\n",
              "      <td>Husband</td>\n",
              "      <td>White</td>\n",
              "      <td>Male</td>\n",
              "      <td>0</td>\n",
              "      <td>0</td>\n",
              "      <td>13</td>\n",
              "      <td>United-States</td>\n",
              "      <td>&lt;=50K</td>\n",
              "    </tr>\n",
              "    <tr>\n",
              "      <th>2</th>\n",
              "      <td>38</td>\n",
              "      <td>Private</td>\n",
              "      <td>215646</td>\n",
              "      <td>HS-grad</td>\n",
              "      <td>9</td>\n",
              "      <td>Divorced</td>\n",
              "      <td>Handlers-cleaners</td>\n",
              "      <td>Not-in-family</td>\n",
              "      <td>White</td>\n",
              "      <td>Male</td>\n",
              "      <td>0</td>\n",
              "      <td>0</td>\n",
              "      <td>40</td>\n",
              "      <td>United-States</td>\n",
              "      <td>&lt;=50K</td>\n",
              "    </tr>\n",
              "    <tr>\n",
              "      <th>3</th>\n",
              "      <td>53</td>\n",
              "      <td>Private</td>\n",
              "      <td>234721</td>\n",
              "      <td>11th</td>\n",
              "      <td>7</td>\n",
              "      <td>Married-civ-spouse</td>\n",
              "      <td>Handlers-cleaners</td>\n",
              "      <td>Husband</td>\n",
              "      <td>Black</td>\n",
              "      <td>Male</td>\n",
              "      <td>0</td>\n",
              "      <td>0</td>\n",
              "      <td>40</td>\n",
              "      <td>United-States</td>\n",
              "      <td>&lt;=50K</td>\n",
              "    </tr>\n",
              "    <tr>\n",
              "      <th>4</th>\n",
              "      <td>28</td>\n",
              "      <td>Private</td>\n",
              "      <td>338409</td>\n",
              "      <td>Bachelors</td>\n",
              "      <td>13</td>\n",
              "      <td>Married-civ-spouse</td>\n",
              "      <td>Prof-specialty</td>\n",
              "      <td>Wife</td>\n",
              "      <td>Black</td>\n",
              "      <td>Female</td>\n",
              "      <td>0</td>\n",
              "      <td>0</td>\n",
              "      <td>40</td>\n",
              "      <td>Cuba</td>\n",
              "      <td>&lt;=50K</td>\n",
              "    </tr>\n",
              "  </tbody>\n",
              "</table>\n",
              "</div>\n",
              "      <button class=\"colab-df-convert\" onclick=\"convertToInteractive('df-1495e4a3-0d2a-4454-99fe-1ba6cdd0aa4a')\"\n",
              "              title=\"Convert this dataframe to an interactive table.\"\n",
              "              style=\"display:none;\">\n",
              "        \n",
              "  <svg xmlns=\"http://www.w3.org/2000/svg\" height=\"24px\"viewBox=\"0 0 24 24\"\n",
              "       width=\"24px\">\n",
              "    <path d=\"M0 0h24v24H0V0z\" fill=\"none\"/>\n",
              "    <path d=\"M18.56 5.44l.94 2.06.94-2.06 2.06-.94-2.06-.94-.94-2.06-.94 2.06-2.06.94zm-11 1L8.5 8.5l.94-2.06 2.06-.94-2.06-.94L8.5 2.5l-.94 2.06-2.06.94zm10 10l.94 2.06.94-2.06 2.06-.94-2.06-.94-.94-2.06-.94 2.06-2.06.94z\"/><path d=\"M17.41 7.96l-1.37-1.37c-.4-.4-.92-.59-1.43-.59-.52 0-1.04.2-1.43.59L10.3 9.45l-7.72 7.72c-.78.78-.78 2.05 0 2.83L4 21.41c.39.39.9.59 1.41.59.51 0 1.02-.2 1.41-.59l7.78-7.78 2.81-2.81c.8-.78.8-2.07 0-2.86zM5.41 20L4 18.59l7.72-7.72 1.47 1.35L5.41 20z\"/>\n",
              "  </svg>\n",
              "      </button>\n",
              "      \n",
              "  <style>\n",
              "    .colab-df-container {\n",
              "      display:flex;\n",
              "      flex-wrap:wrap;\n",
              "      gap: 12px;\n",
              "    }\n",
              "\n",
              "    .colab-df-convert {\n",
              "      background-color: #E8F0FE;\n",
              "      border: none;\n",
              "      border-radius: 50%;\n",
              "      cursor: pointer;\n",
              "      display: none;\n",
              "      fill: #1967D2;\n",
              "      height: 32px;\n",
              "      padding: 0 0 0 0;\n",
              "      width: 32px;\n",
              "    }\n",
              "\n",
              "    .colab-df-convert:hover {\n",
              "      background-color: #E2EBFA;\n",
              "      box-shadow: 0px 1px 2px rgba(60, 64, 67, 0.3), 0px 1px 3px 1px rgba(60, 64, 67, 0.15);\n",
              "      fill: #174EA6;\n",
              "    }\n",
              "\n",
              "    [theme=dark] .colab-df-convert {\n",
              "      background-color: #3B4455;\n",
              "      fill: #D2E3FC;\n",
              "    }\n",
              "\n",
              "    [theme=dark] .colab-df-convert:hover {\n",
              "      background-color: #434B5C;\n",
              "      box-shadow: 0px 1px 3px 1px rgba(0, 0, 0, 0.15);\n",
              "      filter: drop-shadow(0px 1px 2px rgba(0, 0, 0, 0.3));\n",
              "      fill: #FFFFFF;\n",
              "    }\n",
              "  </style>\n",
              "\n",
              "      <script>\n",
              "        const buttonEl =\n",
              "          document.querySelector('#df-1495e4a3-0d2a-4454-99fe-1ba6cdd0aa4a button.colab-df-convert');\n",
              "        buttonEl.style.display =\n",
              "          google.colab.kernel.accessAllowed ? 'block' : 'none';\n",
              "\n",
              "        async function convertToInteractive(key) {\n",
              "          const element = document.querySelector('#df-1495e4a3-0d2a-4454-99fe-1ba6cdd0aa4a');\n",
              "          const dataTable =\n",
              "            await google.colab.kernel.invokeFunction('convertToInteractive',\n",
              "                                                     [key], {});\n",
              "          if (!dataTable) return;\n",
              "\n",
              "          const docLinkHtml = 'Like what you see? Visit the ' +\n",
              "            '<a target=\"_blank\" href=https://colab.research.google.com/notebooks/data_table.ipynb>data table notebook</a>'\n",
              "            + ' to learn more about interactive tables.';\n",
              "          element.innerHTML = '';\n",
              "          dataTable['output_type'] = 'display_data';\n",
              "          await google.colab.output.renderOutput(dataTable, element);\n",
              "          const docLink = document.createElement('div');\n",
              "          docLink.innerHTML = docLinkHtml;\n",
              "          element.appendChild(docLink);\n",
              "        }\n",
              "      </script>\n",
              "    </div>\n",
              "  </div>\n",
              "  "
            ]
          },
          "metadata": {},
          "execution_count": 8
        }
      ],
      "source": [
        "df = pd.read_table(\"adult1m.txt\", sep = \",\", header = None)\n",
        "df.head()"
      ]
    },
    {
      "cell_type": "code",
      "execution_count": 9,
      "id": "-w_C2zI-Fj2u",
      "metadata": {
        "colab": {
          "base_uri": "https://localhost:8080/",
          "height": 392
        },
        "id": "-w_C2zI-Fj2u",
        "outputId": "89e8fe64-77be-4e47-8f19-b87e9b5d2b13"
      },
      "outputs": [
        {
          "output_type": "stream",
          "name": "stderr",
          "text": [
            "/usr/local/lib/python3.9/dist-packages/ipykernel/ipkernel.py:283: DeprecationWarning: `should_run_async` will not call `transform_cell` automatically in the future. Please pass the result to `transformed_cell` argument and any exception that happen during thetransform in `preprocessing_exc_tuple` in IPython 7.17 and above.\n",
            "  and should_run_async(code)\n"
          ]
        },
        {
          "output_type": "execute_result",
          "data": {
            "text/plain": [
              "   age         workclass  fnlwgt  education  education_num  \\\n",
              "0   39         State-gov   77516  Bachelors             13   \n",
              "1   50  Self-emp-not-inc   83311  Bachelors             13   \n",
              "2   38           Private  215646    HS-grad              9   \n",
              "3   53           Private  234721       11th              7   \n",
              "4   28           Private  338409  Bachelors             13   \n",
              "\n",
              "       marital_status         occupation   relationship   race     sex  \\\n",
              "0       Never-married       Adm-clerical  Not-in-family  White    Male   \n",
              "1  Married-civ-spouse    Exec-managerial        Husband  White    Male   \n",
              "2            Divorced  Handlers-cleaners  Not-in-family  White    Male   \n",
              "3  Married-civ-spouse  Handlers-cleaners        Husband  Black    Male   \n",
              "4  Married-civ-spouse     Prof-specialty           Wife  Black  Female   \n",
              "\n",
              "   capital_gain  capital_loss  hours_per_week native_country income  \n",
              "0          2174             0              40  United-States  <=50K  \n",
              "1             0             0              13  United-States  <=50K  \n",
              "2             0             0              40  United-States  <=50K  \n",
              "3             0             0              40  United-States  <=50K  \n",
              "4             0             0              40           Cuba  <=50K  "
            ],
            "text/html": [
              "\n",
              "  <div id=\"df-d250cfd3-4eb0-41f7-9d11-a05cd2af745e\">\n",
              "    <div class=\"colab-df-container\">\n",
              "      <div>\n",
              "<style scoped>\n",
              "    .dataframe tbody tr th:only-of-type {\n",
              "        vertical-align: middle;\n",
              "    }\n",
              "\n",
              "    .dataframe tbody tr th {\n",
              "        vertical-align: top;\n",
              "    }\n",
              "\n",
              "    .dataframe thead th {\n",
              "        text-align: right;\n",
              "    }\n",
              "</style>\n",
              "<table border=\"1\" class=\"dataframe\">\n",
              "  <thead>\n",
              "    <tr style=\"text-align: right;\">\n",
              "      <th></th>\n",
              "      <th>age</th>\n",
              "      <th>workclass</th>\n",
              "      <th>fnlwgt</th>\n",
              "      <th>education</th>\n",
              "      <th>education_num</th>\n",
              "      <th>marital_status</th>\n",
              "      <th>occupation</th>\n",
              "      <th>relationship</th>\n",
              "      <th>race</th>\n",
              "      <th>sex</th>\n",
              "      <th>capital_gain</th>\n",
              "      <th>capital_loss</th>\n",
              "      <th>hours_per_week</th>\n",
              "      <th>native_country</th>\n",
              "      <th>income</th>\n",
              "    </tr>\n",
              "  </thead>\n",
              "  <tbody>\n",
              "    <tr>\n",
              "      <th>0</th>\n",
              "      <td>39</td>\n",
              "      <td>State-gov</td>\n",
              "      <td>77516</td>\n",
              "      <td>Bachelors</td>\n",
              "      <td>13</td>\n",
              "      <td>Never-married</td>\n",
              "      <td>Adm-clerical</td>\n",
              "      <td>Not-in-family</td>\n",
              "      <td>White</td>\n",
              "      <td>Male</td>\n",
              "      <td>2174</td>\n",
              "      <td>0</td>\n",
              "      <td>40</td>\n",
              "      <td>United-States</td>\n",
              "      <td>&lt;=50K</td>\n",
              "    </tr>\n",
              "    <tr>\n",
              "      <th>1</th>\n",
              "      <td>50</td>\n",
              "      <td>Self-emp-not-inc</td>\n",
              "      <td>83311</td>\n",
              "      <td>Bachelors</td>\n",
              "      <td>13</td>\n",
              "      <td>Married-civ-spouse</td>\n",
              "      <td>Exec-managerial</td>\n",
              "      <td>Husband</td>\n",
              "      <td>White</td>\n",
              "      <td>Male</td>\n",
              "      <td>0</td>\n",
              "      <td>0</td>\n",
              "      <td>13</td>\n",
              "      <td>United-States</td>\n",
              "      <td>&lt;=50K</td>\n",
              "    </tr>\n",
              "    <tr>\n",
              "      <th>2</th>\n",
              "      <td>38</td>\n",
              "      <td>Private</td>\n",
              "      <td>215646</td>\n",
              "      <td>HS-grad</td>\n",
              "      <td>9</td>\n",
              "      <td>Divorced</td>\n",
              "      <td>Handlers-cleaners</td>\n",
              "      <td>Not-in-family</td>\n",
              "      <td>White</td>\n",
              "      <td>Male</td>\n",
              "      <td>0</td>\n",
              "      <td>0</td>\n",
              "      <td>40</td>\n",
              "      <td>United-States</td>\n",
              "      <td>&lt;=50K</td>\n",
              "    </tr>\n",
              "    <tr>\n",
              "      <th>3</th>\n",
              "      <td>53</td>\n",
              "      <td>Private</td>\n",
              "      <td>234721</td>\n",
              "      <td>11th</td>\n",
              "      <td>7</td>\n",
              "      <td>Married-civ-spouse</td>\n",
              "      <td>Handlers-cleaners</td>\n",
              "      <td>Husband</td>\n",
              "      <td>Black</td>\n",
              "      <td>Male</td>\n",
              "      <td>0</td>\n",
              "      <td>0</td>\n",
              "      <td>40</td>\n",
              "      <td>United-States</td>\n",
              "      <td>&lt;=50K</td>\n",
              "    </tr>\n",
              "    <tr>\n",
              "      <th>4</th>\n",
              "      <td>28</td>\n",
              "      <td>Private</td>\n",
              "      <td>338409</td>\n",
              "      <td>Bachelors</td>\n",
              "      <td>13</td>\n",
              "      <td>Married-civ-spouse</td>\n",
              "      <td>Prof-specialty</td>\n",
              "      <td>Wife</td>\n",
              "      <td>Black</td>\n",
              "      <td>Female</td>\n",
              "      <td>0</td>\n",
              "      <td>0</td>\n",
              "      <td>40</td>\n",
              "      <td>Cuba</td>\n",
              "      <td>&lt;=50K</td>\n",
              "    </tr>\n",
              "  </tbody>\n",
              "</table>\n",
              "</div>\n",
              "      <button class=\"colab-df-convert\" onclick=\"convertToInteractive('df-d250cfd3-4eb0-41f7-9d11-a05cd2af745e')\"\n",
              "              title=\"Convert this dataframe to an interactive table.\"\n",
              "              style=\"display:none;\">\n",
              "        \n",
              "  <svg xmlns=\"http://www.w3.org/2000/svg\" height=\"24px\"viewBox=\"0 0 24 24\"\n",
              "       width=\"24px\">\n",
              "    <path d=\"M0 0h24v24H0V0z\" fill=\"none\"/>\n",
              "    <path d=\"M18.56 5.44l.94 2.06.94-2.06 2.06-.94-2.06-.94-.94-2.06-.94 2.06-2.06.94zm-11 1L8.5 8.5l.94-2.06 2.06-.94-2.06-.94L8.5 2.5l-.94 2.06-2.06.94zm10 10l.94 2.06.94-2.06 2.06-.94-2.06-.94-.94-2.06-.94 2.06-2.06.94z\"/><path d=\"M17.41 7.96l-1.37-1.37c-.4-.4-.92-.59-1.43-.59-.52 0-1.04.2-1.43.59L10.3 9.45l-7.72 7.72c-.78.78-.78 2.05 0 2.83L4 21.41c.39.39.9.59 1.41.59.51 0 1.02-.2 1.41-.59l7.78-7.78 2.81-2.81c.8-.78.8-2.07 0-2.86zM5.41 20L4 18.59l7.72-7.72 1.47 1.35L5.41 20z\"/>\n",
              "  </svg>\n",
              "      </button>\n",
              "      \n",
              "  <style>\n",
              "    .colab-df-container {\n",
              "      display:flex;\n",
              "      flex-wrap:wrap;\n",
              "      gap: 12px;\n",
              "    }\n",
              "\n",
              "    .colab-df-convert {\n",
              "      background-color: #E8F0FE;\n",
              "      border: none;\n",
              "      border-radius: 50%;\n",
              "      cursor: pointer;\n",
              "      display: none;\n",
              "      fill: #1967D2;\n",
              "      height: 32px;\n",
              "      padding: 0 0 0 0;\n",
              "      width: 32px;\n",
              "    }\n",
              "\n",
              "    .colab-df-convert:hover {\n",
              "      background-color: #E2EBFA;\n",
              "      box-shadow: 0px 1px 2px rgba(60, 64, 67, 0.3), 0px 1px 3px 1px rgba(60, 64, 67, 0.15);\n",
              "      fill: #174EA6;\n",
              "    }\n",
              "\n",
              "    [theme=dark] .colab-df-convert {\n",
              "      background-color: #3B4455;\n",
              "      fill: #D2E3FC;\n",
              "    }\n",
              "\n",
              "    [theme=dark] .colab-df-convert:hover {\n",
              "      background-color: #434B5C;\n",
              "      box-shadow: 0px 1px 3px 1px rgba(0, 0, 0, 0.15);\n",
              "      filter: drop-shadow(0px 1px 2px rgba(0, 0, 0, 0.3));\n",
              "      fill: #FFFFFF;\n",
              "    }\n",
              "  </style>\n",
              "\n",
              "      <script>\n",
              "        const buttonEl =\n",
              "          document.querySelector('#df-d250cfd3-4eb0-41f7-9d11-a05cd2af745e button.colab-df-convert');\n",
              "        buttonEl.style.display =\n",
              "          google.colab.kernel.accessAllowed ? 'block' : 'none';\n",
              "\n",
              "        async function convertToInteractive(key) {\n",
              "          const element = document.querySelector('#df-d250cfd3-4eb0-41f7-9d11-a05cd2af745e');\n",
              "          const dataTable =\n",
              "            await google.colab.kernel.invokeFunction('convertToInteractive',\n",
              "                                                     [key], {});\n",
              "          if (!dataTable) return;\n",
              "\n",
              "          const docLinkHtml = 'Like what you see? Visit the ' +\n",
              "            '<a target=\"_blank\" href=https://colab.research.google.com/notebooks/data_table.ipynb>data table notebook</a>'\n",
              "            + ' to learn more about interactive tables.';\n",
              "          element.innerHTML = '';\n",
              "          dataTable['output_type'] = 'display_data';\n",
              "          await google.colab.output.renderOutput(dataTable, element);\n",
              "          const docLink = document.createElement('div');\n",
              "          docLink.innerHTML = docLinkHtml;\n",
              "          element.appendChild(docLink);\n",
              "        }\n",
              "      </script>\n",
              "    </div>\n",
              "  </div>\n",
              "  "
            ]
          },
          "metadata": {},
          "execution_count": 9
        }
      ],
      "source": [
        "for i in range(len(cols)):\n",
        "    df = df.rename(columns= {i: cols[i]})\n",
        "df.head()"
      ]
    },
    {
      "cell_type": "code",
      "execution_count": 10,
      "id": "680ba872",
      "metadata": {
        "colab": {
          "base_uri": "https://localhost:8080/"
        },
        "id": "680ba872",
        "outputId": "12ddea2d-ed1f-49e1-bae4-fe57a60d786d"
      },
      "outputs": [
        {
          "output_type": "stream",
          "name": "stderr",
          "text": [
            "/usr/local/lib/python3.9/dist-packages/ipykernel/ipkernel.py:283: DeprecationWarning: `should_run_async` will not call `transform_cell` automatically in the future. Please pass the result to `transformed_cell` argument and any exception that happen during thetransform in `preprocessing_exc_tuple` in IPython 7.17 and above.\n",
            "  and should_run_async(code)\n"
          ]
        }
      ],
      "source": [
        "from pandas.api.types import is_string_dtype\n",
        "from pandas.api.types import is_numeric_dtype\n",
        "from pandas.api.types import is_categorical_dtype"
      ]
    },
    {
      "cell_type": "code",
      "execution_count": 11,
      "id": "152790b0",
      "metadata": {
        "colab": {
          "base_uri": "https://localhost:8080/"
        },
        "id": "152790b0",
        "outputId": "69dca894-798d-4d4f-c443-bca9a40465e3"
      },
      "outputs": [
        {
          "output_type": "stream",
          "name": "stderr",
          "text": [
            "/usr/local/lib/python3.9/dist-packages/ipykernel/ipkernel.py:283: DeprecationWarning: `should_run_async` will not call `transform_cell` automatically in the future. Please pass the result to `transformed_cell` argument and any exception that happen during thetransform in `preprocessing_exc_tuple` in IPython 7.17 and above.\n",
            "  and should_run_async(code)\n"
          ]
        }
      ],
      "source": [
        "df[\"marital_relation\"] = df[\"marital_status\"] + \"_\" + df[\"relationship\"]\n",
        "df = df.drop([\"sex\",\"race\",\"education_num\", \"native_country\", \"marital_status\",\"relationship\"], axis = 1)"
      ]
    },
    {
      "cell_type": "code",
      "execution_count": 12,
      "id": "13cc594d",
      "metadata": {
        "colab": {
          "base_uri": "https://localhost:8080/"
        },
        "id": "13cc594d",
        "outputId": "4b54110f-3fee-4442-a2ff-eea9107c30f3"
      },
      "outputs": [
        {
          "output_type": "stream",
          "name": "stderr",
          "text": [
            "/usr/local/lib/python3.9/dist-packages/ipykernel/ipkernel.py:283: DeprecationWarning: `should_run_async` will not call `transform_cell` automatically in the future. Please pass the result to `transformed_cell` argument and any exception that happen during thetransform in `preprocessing_exc_tuple` in IPython 7.17 and above.\n",
            "  and should_run_async(code)\n"
          ]
        },
        {
          "output_type": "stream",
          "name": "stdout",
          "text": [
            "<class 'pandas.core.frame.DataFrame'>\n",
            "RangeIndex: 1000000 entries, 0 to 999999\n",
            "Data columns (total 10 columns):\n",
            " #   Column            Non-Null Count    Dtype \n",
            "---  ------            --------------    ----- \n",
            " 0   age               1000000 non-null  int64 \n",
            " 1   workclass         1000000 non-null  object\n",
            " 2   fnlwgt            1000000 non-null  int64 \n",
            " 3   education         1000000 non-null  object\n",
            " 4   occupation        1000000 non-null  object\n",
            " 5   capital_gain      1000000 non-null  int64 \n",
            " 6   capital_loss      1000000 non-null  int64 \n",
            " 7   hours_per_week    1000000 non-null  int64 \n",
            " 8   income            1000000 non-null  object\n",
            " 9   marital_relation  1000000 non-null  object\n",
            "dtypes: int64(5), object(5)\n",
            "memory usage: 76.3+ MB\n"
          ]
        }
      ],
      "source": [
        "df.info()"
      ]
    },
    {
      "cell_type": "code",
      "execution_count": 13,
      "id": "b731f3c7",
      "metadata": {
        "colab": {
          "base_uri": "https://localhost:8080/"
        },
        "id": "b731f3c7",
        "outputId": "3aa788dd-33ee-479a-e20f-46215c597a36"
      },
      "outputs": [
        {
          "output_type": "stream",
          "name": "stderr",
          "text": [
            "/usr/local/lib/python3.9/dist-packages/ipykernel/ipkernel.py:283: DeprecationWarning: `should_run_async` will not call `transform_cell` automatically in the future. Please pass the result to `transformed_cell` argument and any exception that happen during thetransform in `preprocessing_exc_tuple` in IPython 7.17 and above.\n",
            "  and should_run_async(code)\n"
          ]
        }
      ],
      "source": [
        "df[\"income\"] = df[\"income\"].replace([\"<=50K\",\">50K\"], [0,1])"
      ]
    },
    {
      "cell_type": "code",
      "execution_count": 14,
      "id": "8ea682a2",
      "metadata": {
        "colab": {
          "base_uri": "https://localhost:8080/"
        },
        "id": "8ea682a2",
        "outputId": "c9ef8911-1cba-4fb3-cf66-853350fa27cf"
      },
      "outputs": [
        {
          "output_type": "stream",
          "name": "stderr",
          "text": [
            "/usr/local/lib/python3.9/dist-packages/ipykernel/ipkernel.py:283: DeprecationWarning: `should_run_async` will not call `transform_cell` automatically in the future. Please pass the result to `transformed_cell` argument and any exception that happen during thetransform in `preprocessing_exc_tuple` in IPython 7.17 and above.\n",
            "  and should_run_async(code)\n"
          ]
        }
      ],
      "source": [
        "train, test = train_test_split(df, random_state = 420, train_size = 0.85, stratify = df[\"income\"])"
      ]
    },
    {
      "cell_type": "code",
      "execution_count": 15,
      "id": "0c0c83d9",
      "metadata": {
        "colab": {
          "base_uri": "https://localhost:8080/"
        },
        "id": "0c0c83d9",
        "outputId": "18b81b26-1274-44b3-cac4-51576db15e1f"
      },
      "outputs": [
        {
          "output_type": "stream",
          "name": "stderr",
          "text": [
            "/usr/local/lib/python3.9/dist-packages/ipykernel/ipkernel.py:283: DeprecationWarning: `should_run_async` will not call `transform_cell` automatically in the future. Please pass the result to `transformed_cell` argument and any exception that happen during thetransform in `preprocessing_exc_tuple` in IPython 7.17 and above.\n",
            "  and should_run_async(code)\n"
          ]
        }
      ],
      "source": [
        "train_0 = train[train[\"income\"] == 0]\n",
        "train_0 = train_0.drop_duplicates()\n",
        "train_1 = train[train[\"income\"] == 1]"
      ]
    },
    {
      "cell_type": "code",
      "execution_count": 16,
      "id": "c2e3e27e",
      "metadata": {
        "colab": {
          "base_uri": "https://localhost:8080/"
        },
        "id": "c2e3e27e",
        "outputId": "3c013c58-d1ee-4050-d90d-2d6cafce1d32"
      },
      "outputs": [
        {
          "output_type": "stream",
          "name": "stderr",
          "text": [
            "/usr/local/lib/python3.9/dist-packages/ipykernel/ipkernel.py:283: DeprecationWarning: `should_run_async` will not call `transform_cell` automatically in the future. Please pass the result to `transformed_cell` argument and any exception that happen during thetransform in `preprocessing_exc_tuple` in IPython 7.17 and above.\n",
            "  and should_run_async(code)\n"
          ]
        }
      ],
      "source": [
        "train_new = pd.concat([train_0, train_1], axis = 0)"
      ]
    },
    {
      "cell_type": "code",
      "execution_count": 17,
      "id": "8ead18e8",
      "metadata": {
        "colab": {
          "base_uri": "https://localhost:8080/"
        },
        "id": "8ead18e8",
        "outputId": "ee2d834a-74af-4224-806b-12281fdc2e54"
      },
      "outputs": [
        {
          "output_type": "stream",
          "name": "stderr",
          "text": [
            "/usr/local/lib/python3.9/dist-packages/ipykernel/ipkernel.py:283: DeprecationWarning: `should_run_async` will not call `transform_cell` automatically in the future. Please pass the result to `transformed_cell` argument and any exception that happen during thetransform in `preprocessing_exc_tuple` in IPython 7.17 and above.\n",
            "  and should_run_async(code)\n"
          ]
        }
      ],
      "source": [
        "x_train, y_train = train_new.drop(\"income\", axis = 1), train_new[\"income\"]\n",
        "x_test, y_test = test.drop(\"income\", axis = 1), test[\"income\"]"
      ]
    },
    {
      "cell_type": "markdown",
      "id": "gfaOWl52m641",
      "metadata": {
        "id": "gfaOWl52m641"
      },
      "source": [
        "### Feature Engineering"
      ]
    },
    {
      "cell_type": "code",
      "execution_count": 18,
      "id": "14947eaa",
      "metadata": {
        "colab": {
          "base_uri": "https://localhost:8080/"
        },
        "id": "14947eaa",
        "outputId": "17251979-b019-42ab-ca02-830ab70a420a"
      },
      "outputs": [
        {
          "output_type": "stream",
          "name": "stderr",
          "text": [
            "/usr/local/lib/python3.9/dist-packages/ipykernel/ipkernel.py:283: DeprecationWarning: `should_run_async` will not call `transform_cell` automatically in the future. Please pass the result to `transformed_cell` argument and any exception that happen during thetransform in `preprocessing_exc_tuple` in IPython 7.17 and above.\n",
            "  and should_run_async(code)\n"
          ]
        }
      ],
      "source": [
        "num = []\n",
        "cat = []\n",
        "stri = []\n",
        "columns = list(x_train.columns)\n",
        "for col in columns:\n",
        "    if is_numeric_dtype(x_train[col]):\n",
        "        num.append(col)\n",
        "    elif is_string_dtype(x_train[col]):\n",
        "        stri.append(col)\n",
        "    elif is_categorical_dtype(x_train[col]):\n",
        "        cat.append(col)"
      ]
    },
    {
      "cell_type": "code",
      "execution_count": 19,
      "id": "b1ff4ac2",
      "metadata": {
        "colab": {
          "base_uri": "https://localhost:8080/"
        },
        "id": "b1ff4ac2",
        "outputId": "da244125-0bdd-4135-e2e9-b9c44f4862e1"
      },
      "outputs": [
        {
          "output_type": "stream",
          "name": "stderr",
          "text": [
            "/usr/local/lib/python3.9/dist-packages/ipykernel/ipkernel.py:283: DeprecationWarning: `should_run_async` will not call `transform_cell` automatically in the future. Please pass the result to `transformed_cell` argument and any exception that happen during thetransform in `preprocessing_exc_tuple` in IPython 7.17 and above.\n",
            "  and should_run_async(code)\n"
          ]
        },
        {
          "output_type": "execute_result",
          "data": {
            "text/plain": [
              "(['age', 'fnlwgt', 'capital_gain', 'capital_loss', 'hours_per_week'],\n",
              " ['workclass', 'education', 'occupation', 'marital_relation'],\n",
              " [])"
            ]
          },
          "metadata": {},
          "execution_count": 19
        }
      ],
      "source": [
        "num, stri, cat"
      ]
    },
    {
      "cell_type": "code",
      "execution_count": 20,
      "id": "281c0b68",
      "metadata": {
        "colab": {
          "base_uri": "https://localhost:8080/"
        },
        "id": "281c0b68",
        "outputId": "c60408a2-6a54-4e3e-a0c6-0ac91dd97127"
      },
      "outputs": [
        {
          "output_type": "stream",
          "name": "stderr",
          "text": [
            "/usr/local/lib/python3.9/dist-packages/ipykernel/ipkernel.py:283: DeprecationWarning: `should_run_async` will not call `transform_cell` automatically in the future. Please pass the result to `transformed_cell` argument and any exception that happen during thetransform in `preprocessing_exc_tuple` in IPython 7.17 and above.\n",
            "  and should_run_async(code)\n"
          ]
        },
        {
          "output_type": "execute_result",
          "data": {
            "text/plain": [
              "array(['Bachelors', 'HS-grad', '11th', 'Masters', '9th', 'Some-college',\n",
              "       'Assoc-acdm', 'Assoc-voc', '7th-8th', 'Doctorate', 'Prof-school',\n",
              "       '5th-6th', '10th', '1st-4th', 'Preschool', '12th'], dtype=object)"
            ]
          },
          "metadata": {},
          "execution_count": 20
        }
      ],
      "source": [
        "df[\"education\"].unique()"
      ]
    },
    {
      "cell_type": "code",
      "execution_count": 21,
      "id": "qFnlR1fhYbrN",
      "metadata": {
        "colab": {
          "base_uri": "https://localhost:8080/"
        },
        "id": "qFnlR1fhYbrN",
        "outputId": "3a2b4a41-bf7b-4c1a-f84d-d124838332db"
      },
      "outputs": [
        {
          "output_type": "stream",
          "name": "stderr",
          "text": [
            "/usr/local/lib/python3.9/dist-packages/ipykernel/ipkernel.py:283: DeprecationWarning: `should_run_async` will not call `transform_cell` automatically in the future. Please pass the result to `transformed_cell` argument and any exception that happen during thetransform in `preprocessing_exc_tuple` in IPython 7.17 and above.\n",
            "  and should_run_async(code)\n"
          ]
        }
      ],
      "source": [
        "educ = [\"education\"]"
      ]
    },
    {
      "cell_type": "code",
      "execution_count": 22,
      "id": "d8e738a0",
      "metadata": {
        "colab": {
          "base_uri": "https://localhost:8080/"
        },
        "id": "d8e738a0",
        "outputId": "2079ffa7-188d-415d-c8a4-20dfdcc41ff3"
      },
      "outputs": [
        {
          "output_type": "stream",
          "name": "stderr",
          "text": [
            "/usr/local/lib/python3.9/dist-packages/ipykernel/ipkernel.py:283: DeprecationWarning: `should_run_async` will not call `transform_cell` automatically in the future. Please pass the result to `transformed_cell` argument and any exception that happen during thetransform in `preprocessing_exc_tuple` in IPython 7.17 and above.\n",
            "  and should_run_async(code)\n"
          ]
        },
        {
          "output_type": "execute_result",
          "data": {
            "text/plain": [
              "(['age', 'fnlwgt', 'capital_gain', 'capital_loss', 'hours_per_week'],\n",
              " ['workclass', 'occupation', 'marital_relation'],\n",
              " [])"
            ]
          },
          "metadata": {},
          "execution_count": 22
        }
      ],
      "source": [
        "stri.remove(\"education\")\n",
        "num, stri, cat"
      ]
    },
    {
      "cell_type": "code",
      "execution_count": 23,
      "id": "51a8bbfb",
      "metadata": {
        "colab": {
          "base_uri": "https://localhost:8080/"
        },
        "id": "51a8bbfb",
        "outputId": "ecb41b68-610d-4ea3-e063-3d37923d77e3"
      },
      "outputs": [
        {
          "output_type": "stream",
          "name": "stderr",
          "text": [
            "/usr/local/lib/python3.9/dist-packages/ipykernel/ipkernel.py:283: DeprecationWarning: `should_run_async` will not call `transform_cell` automatically in the future. Please pass the result to `transformed_cell` argument and any exception that happen during thetransform in `preprocessing_exc_tuple` in IPython 7.17 and above.\n",
            "  and should_run_async(code)\n"
          ]
        }
      ],
      "source": [
        "min_max = MinMaxScaler()\n",
        "ohe = OneHotEncoder()\n",
        "ordi = OrdinalEncoder(categories = [[\"Preschool\", \"1st-4th\",\"5th-6th\", \"7th-8th\", \"9th\", \"10th\", \n",
        "                                            \"11th\", \"12th\", \"HS-grad\", \"Some-college\",\n",
        "                                            \"Assoc-voc\",\"Assoc-acdm\",\"Bachelors\", \"Masters\",\"Prof-school\",\"Doctorate\"]])"
      ]
    },
    {
      "cell_type": "code",
      "execution_count": 24,
      "id": "4f296f85",
      "metadata": {
        "colab": {
          "base_uri": "https://localhost:8080/"
        },
        "id": "4f296f85",
        "outputId": "ff560969-9d6c-4599-d387-cb36e63cdd7e"
      },
      "outputs": [
        {
          "output_type": "stream",
          "name": "stderr",
          "text": [
            "/usr/local/lib/python3.9/dist-packages/ipykernel/ipkernel.py:283: DeprecationWarning: `should_run_async` will not call `transform_cell` automatically in the future. Please pass the result to `transformed_cell` argument and any exception that happen during thetransform in `preprocessing_exc_tuple` in IPython 7.17 and above.\n",
            "  and should_run_async(code)\n"
          ]
        }
      ],
      "source": [
        "def column_transform(df, columns):\n",
        "    new_df = df.copy()\n",
        "    for col in columns:\n",
        "        # num ~ [0,1]\n",
        "        if col in num:\n",
        "            ct = ColumnTransformer([(\"min_max\", min_max, [col])])\n",
        "            new_df[col + \"_scaled\"] = ct.fit_transform(df)\n",
        "            continue\n",
        "        # stri ~ {0,1}    \n",
        "        elif col in stri:\n",
        "            elements = sorted(df[col].unique())\n",
        "            ct2 = ColumnTransformer([(\"ohe\", ohe, [col])])\n",
        "            if len(elements) > 2:\n",
        "                x = ct2.fit_transform(df).toarray()\n",
        "            elif len(elements) <= 2:\n",
        "                x = np.array(ct2.fit_transform(df))\n",
        "            for i in range(len(elements)):\n",
        "                new_df[col + \"_\" + elements[i].lower()] = x[:,i]\n",
        "        # depends on ord class\n",
        "        elif col in educ:\n",
        "            ct3 = ColumnTransformer([(\"ord\", ordi, [col])])\n",
        "            x = ct3.fit_transform(df)\n",
        "            new_df[col + \"_new\"] = x\n",
        "            continue\n",
        "    new_df = new_df.drop(columns, axis = 1)\n",
        "    return new_df"
      ]
    },
    {
      "cell_type": "code",
      "execution_count": 25,
      "id": "146a7d14",
      "metadata": {
        "colab": {
          "base_uri": "https://localhost:8080/"
        },
        "id": "146a7d14",
        "outputId": "7caac526-ea02-4d46-cee5-d2b9d4bb65d8"
      },
      "outputs": [
        {
          "output_type": "stream",
          "name": "stderr",
          "text": [
            "/usr/local/lib/python3.9/dist-packages/ipykernel/ipkernel.py:283: DeprecationWarning: `should_run_async` will not call `transform_cell` automatically in the future. Please pass the result to `transformed_cell` argument and any exception that happen during thetransform in `preprocessing_exc_tuple` in IPython 7.17 and above.\n",
            "  and should_run_async(code)\n"
          ]
        }
      ],
      "source": [
        "new_train_data = column_transform(x_train, list(x_train.columns))"
      ]
    },
    {
      "cell_type": "code",
      "execution_count": 26,
      "id": "2t4axO6nRmRG",
      "metadata": {
        "colab": {
          "base_uri": "https://localhost:8080/"
        },
        "id": "2t4axO6nRmRG",
        "outputId": "544d3c32-01a7-4fea-9d69-5541600bd183"
      },
      "outputs": [
        {
          "output_type": "stream",
          "name": "stderr",
          "text": [
            "/usr/local/lib/python3.9/dist-packages/ipykernel/ipkernel.py:283: DeprecationWarning: `should_run_async` will not call `transform_cell` automatically in the future. Please pass the result to `transformed_cell` argument and any exception that happen during thetransform in `preprocessing_exc_tuple` in IPython 7.17 and above.\n",
            "  and should_run_async(code)\n"
          ]
        }
      ],
      "source": [
        "new_train_data[\"income\"] = train_new[\"income\"]\n",
        "\n",
        "#new_train_data['education_new']\n",
        "# 'age', 'fnlwgt', 'capital_gain', 'capital_loss', 'hours_per_week'"
      ]
    },
    {
      "cell_type": "code",
      "execution_count": 27,
      "id": "ooTdBRQOoKRB",
      "metadata": {
        "colab": {
          "base_uri": "https://localhost:8080/"
        },
        "id": "ooTdBRQOoKRB",
        "outputId": "555f3e6d-d26c-4fe5-c55b-62dd975c98f1"
      },
      "outputs": [
        {
          "output_type": "stream",
          "name": "stderr",
          "text": [
            "/usr/local/lib/python3.9/dist-packages/ipykernel/ipkernel.py:283: DeprecationWarning: `should_run_async` will not call `transform_cell` automatically in the future. Please pass the result to `transformed_cell` argument and any exception that happen during thetransform in `preprocessing_exc_tuple` in IPython 7.17 and above.\n",
            "  and should_run_async(code)\n"
          ]
        }
      ],
      "source": [
        "def column_fit_transform(train, other, columns):\n",
        "    new_df = other.copy()\n",
        "    for col in columns:\n",
        "        # minmax\n",
        "        if col in num:\n",
        "            ct = ColumnTransformer([(\"min_max\", min_max, [col])])\n",
        "            ct.fit(train)\n",
        "            new_df[col + \"_scaled\"] = ct.transform(other)\n",
        "        # ohe\n",
        "        elif col in stri:\n",
        "            elements = sorted(other[col].unique())\n",
        "            ct2 = ColumnTransformer([(\"ohe\", ohe, [col])])\n",
        "            if len(elements) > 2:\n",
        "                ct2.fit(train)\n",
        "                x = ct2.transform(other).toarray()\n",
        "            elif len(elements) <= 2:\n",
        "                ct2.fit(train)\n",
        "                x = np.array(ct2.transform(other))\n",
        "            for i in range(len(elements)):\n",
        "                new_df[col + \"_\" + elements[i].lower()] = x[:,i]\n",
        "        # ord\n",
        "        elif col in educ:\n",
        "            ct3 = ColumnTransformer([(\"ord\", ordi, [col])])\n",
        "            ct3.fit(train)\n",
        "            x = ct3.transform(other)\n",
        "            new_df[col + \"_new\"] = x\n",
        "        \n",
        "    new_df = new_df.drop(columns, axis = 1)\n",
        "    return new_df"
      ]
    },
    {
      "cell_type": "code",
      "execution_count": 28,
      "id": "c3g1QERUYPYE",
      "metadata": {
        "colab": {
          "base_uri": "https://localhost:8080/",
          "height": 352
        },
        "id": "c3g1QERUYPYE",
        "outputId": "ac25b293-7bb4-48ab-b2c3-a1d2592de896"
      },
      "outputs": [
        {
          "output_type": "stream",
          "name": "stderr",
          "text": [
            "/usr/local/lib/python3.9/dist-packages/ipykernel/ipkernel.py:283: DeprecationWarning: `should_run_async` will not call `transform_cell` automatically in the future. Please pass the result to `transformed_cell` argument and any exception that happen during thetransform in `preprocessing_exc_tuple` in IPython 7.17 and above.\n",
            "  and should_run_async(code)\n"
          ]
        },
        {
          "output_type": "execute_result",
          "data": {
            "text/plain": [
              "        age_scaled  workclass_?  workclass_federal-gov  workclass_local-gov  \\\n",
              "3737      0.013699          0.0                    0.0                  0.0   \n",
              "264269    0.931507          0.0                    0.0                  0.0   \n",
              "218921    0.684932          0.0                    0.0                  1.0   \n",
              "20399     0.589041          1.0                    0.0                  0.0   \n",
              "99084     0.876712          0.0                    1.0                  0.0   \n",
              "\n",
              "        workclass_never-worked  workclass_private  workclass_self-emp-inc  \\\n",
              "3737                       0.0                1.0                     0.0   \n",
              "264269                     0.0                0.0                     0.0   \n",
              "218921                     0.0                0.0                     0.0   \n",
              "20399                      0.0                0.0                     0.0   \n",
              "99084                      0.0                0.0                     0.0   \n",
              "\n",
              "        workclass_self-emp-not-inc  workclass_state-gov  \\\n",
              "3737                           0.0                  0.0   \n",
              "264269                         1.0                  0.0   \n",
              "218921                         0.0                  0.0   \n",
              "20399                          0.0                  0.0   \n",
              "99084                          0.0                  0.0   \n",
              "\n",
              "        workclass_without-pay  ...  marital_relation_separated_other-relative  \\\n",
              "3737                      0.0  ...                                        0.0   \n",
              "264269                    0.0  ...                                        0.0   \n",
              "218921                    0.0  ...                                        0.0   \n",
              "20399                     0.0  ...                                        0.0   \n",
              "99084                     0.0  ...                                        0.0   \n",
              "\n",
              "        marital_relation_separated_own-child  \\\n",
              "3737                                     0.0   \n",
              "264269                                   0.0   \n",
              "218921                                   0.0   \n",
              "20399                                    0.0   \n",
              "99084                                    1.0   \n",
              "\n",
              "        marital_relation_separated_unmarried  marital_relation_separated_wife  \\\n",
              "3737                                     0.0                              0.0   \n",
              "264269                                   0.0                              0.0   \n",
              "218921                                   0.0                              0.0   \n",
              "20399                                    0.0                              0.0   \n",
              "99084                                    0.0                              0.0   \n",
              "\n",
              "        marital_relation_widowed_husband  \\\n",
              "3737                                 0.0   \n",
              "264269                               0.0   \n",
              "218921                               0.0   \n",
              "20399                                0.0   \n",
              "99084                                0.0   \n",
              "\n",
              "        marital_relation_widowed_not-in-family  \\\n",
              "3737                                       0.0   \n",
              "264269                                     0.0   \n",
              "218921                                     0.0   \n",
              "20399                                      1.0   \n",
              "99084                                      0.0   \n",
              "\n",
              "        marital_relation_widowed_other-relative  \\\n",
              "3737                                        0.0   \n",
              "264269                                      0.0   \n",
              "218921                                      0.0   \n",
              "20399                                       0.0   \n",
              "99084                                       0.0   \n",
              "\n",
              "        marital_relation_widowed_own-child  \\\n",
              "3737                                   0.0   \n",
              "264269                                 0.0   \n",
              "218921                                 0.0   \n",
              "20399                                  0.0   \n",
              "99084                                  0.0   \n",
              "\n",
              "        marital_relation_widowed_unmarried  marital_relation_widowed_wife  \n",
              "3737                                   0.0                            0.0  \n",
              "264269                                 0.0                            0.0  \n",
              "218921                                 0.0                            0.0  \n",
              "20399                                  0.0                            0.0  \n",
              "99084                                  0.0                            0.0  \n",
              "\n",
              "[5 rows x 72 columns]"
            ],
            "text/html": [
              "\n",
              "  <div id=\"df-fa250c17-d955-48fd-b87b-4d352723325b\">\n",
              "    <div class=\"colab-df-container\">\n",
              "      <div>\n",
              "<style scoped>\n",
              "    .dataframe tbody tr th:only-of-type {\n",
              "        vertical-align: middle;\n",
              "    }\n",
              "\n",
              "    .dataframe tbody tr th {\n",
              "        vertical-align: top;\n",
              "    }\n",
              "\n",
              "    .dataframe thead th {\n",
              "        text-align: right;\n",
              "    }\n",
              "</style>\n",
              "<table border=\"1\" class=\"dataframe\">\n",
              "  <thead>\n",
              "    <tr style=\"text-align: right;\">\n",
              "      <th></th>\n",
              "      <th>age_scaled</th>\n",
              "      <th>workclass_?</th>\n",
              "      <th>workclass_federal-gov</th>\n",
              "      <th>workclass_local-gov</th>\n",
              "      <th>workclass_never-worked</th>\n",
              "      <th>workclass_private</th>\n",
              "      <th>workclass_self-emp-inc</th>\n",
              "      <th>workclass_self-emp-not-inc</th>\n",
              "      <th>workclass_state-gov</th>\n",
              "      <th>workclass_without-pay</th>\n",
              "      <th>...</th>\n",
              "      <th>marital_relation_separated_other-relative</th>\n",
              "      <th>marital_relation_separated_own-child</th>\n",
              "      <th>marital_relation_separated_unmarried</th>\n",
              "      <th>marital_relation_separated_wife</th>\n",
              "      <th>marital_relation_widowed_husband</th>\n",
              "      <th>marital_relation_widowed_not-in-family</th>\n",
              "      <th>marital_relation_widowed_other-relative</th>\n",
              "      <th>marital_relation_widowed_own-child</th>\n",
              "      <th>marital_relation_widowed_unmarried</th>\n",
              "      <th>marital_relation_widowed_wife</th>\n",
              "    </tr>\n",
              "  </thead>\n",
              "  <tbody>\n",
              "    <tr>\n",
              "      <th>3737</th>\n",
              "      <td>0.013699</td>\n",
              "      <td>0.0</td>\n",
              "      <td>0.0</td>\n",
              "      <td>0.0</td>\n",
              "      <td>0.0</td>\n",
              "      <td>1.0</td>\n",
              "      <td>0.0</td>\n",
              "      <td>0.0</td>\n",
              "      <td>0.0</td>\n",
              "      <td>0.0</td>\n",
              "      <td>...</td>\n",
              "      <td>0.0</td>\n",
              "      <td>0.0</td>\n",
              "      <td>0.0</td>\n",
              "      <td>0.0</td>\n",
              "      <td>0.0</td>\n",
              "      <td>0.0</td>\n",
              "      <td>0.0</td>\n",
              "      <td>0.0</td>\n",
              "      <td>0.0</td>\n",
              "      <td>0.0</td>\n",
              "    </tr>\n",
              "    <tr>\n",
              "      <th>264269</th>\n",
              "      <td>0.931507</td>\n",
              "      <td>0.0</td>\n",
              "      <td>0.0</td>\n",
              "      <td>0.0</td>\n",
              "      <td>0.0</td>\n",
              "      <td>0.0</td>\n",
              "      <td>0.0</td>\n",
              "      <td>1.0</td>\n",
              "      <td>0.0</td>\n",
              "      <td>0.0</td>\n",
              "      <td>...</td>\n",
              "      <td>0.0</td>\n",
              "      <td>0.0</td>\n",
              "      <td>0.0</td>\n",
              "      <td>0.0</td>\n",
              "      <td>0.0</td>\n",
              "      <td>0.0</td>\n",
              "      <td>0.0</td>\n",
              "      <td>0.0</td>\n",
              "      <td>0.0</td>\n",
              "      <td>0.0</td>\n",
              "    </tr>\n",
              "    <tr>\n",
              "      <th>218921</th>\n",
              "      <td>0.684932</td>\n",
              "      <td>0.0</td>\n",
              "      <td>0.0</td>\n",
              "      <td>1.0</td>\n",
              "      <td>0.0</td>\n",
              "      <td>0.0</td>\n",
              "      <td>0.0</td>\n",
              "      <td>0.0</td>\n",
              "      <td>0.0</td>\n",
              "      <td>0.0</td>\n",
              "      <td>...</td>\n",
              "      <td>0.0</td>\n",
              "      <td>0.0</td>\n",
              "      <td>0.0</td>\n",
              "      <td>0.0</td>\n",
              "      <td>0.0</td>\n",
              "      <td>0.0</td>\n",
              "      <td>0.0</td>\n",
              "      <td>0.0</td>\n",
              "      <td>0.0</td>\n",
              "      <td>0.0</td>\n",
              "    </tr>\n",
              "    <tr>\n",
              "      <th>20399</th>\n",
              "      <td>0.589041</td>\n",
              "      <td>1.0</td>\n",
              "      <td>0.0</td>\n",
              "      <td>0.0</td>\n",
              "      <td>0.0</td>\n",
              "      <td>0.0</td>\n",
              "      <td>0.0</td>\n",
              "      <td>0.0</td>\n",
              "      <td>0.0</td>\n",
              "      <td>0.0</td>\n",
              "      <td>...</td>\n",
              "      <td>0.0</td>\n",
              "      <td>0.0</td>\n",
              "      <td>0.0</td>\n",
              "      <td>0.0</td>\n",
              "      <td>0.0</td>\n",
              "      <td>1.0</td>\n",
              "      <td>0.0</td>\n",
              "      <td>0.0</td>\n",
              "      <td>0.0</td>\n",
              "      <td>0.0</td>\n",
              "    </tr>\n",
              "    <tr>\n",
              "      <th>99084</th>\n",
              "      <td>0.876712</td>\n",
              "      <td>0.0</td>\n",
              "      <td>1.0</td>\n",
              "      <td>0.0</td>\n",
              "      <td>0.0</td>\n",
              "      <td>0.0</td>\n",
              "      <td>0.0</td>\n",
              "      <td>0.0</td>\n",
              "      <td>0.0</td>\n",
              "      <td>0.0</td>\n",
              "      <td>...</td>\n",
              "      <td>0.0</td>\n",
              "      <td>1.0</td>\n",
              "      <td>0.0</td>\n",
              "      <td>0.0</td>\n",
              "      <td>0.0</td>\n",
              "      <td>0.0</td>\n",
              "      <td>0.0</td>\n",
              "      <td>0.0</td>\n",
              "      <td>0.0</td>\n",
              "      <td>0.0</td>\n",
              "    </tr>\n",
              "  </tbody>\n",
              "</table>\n",
              "<p>5 rows × 72 columns</p>\n",
              "</div>\n",
              "      <button class=\"colab-df-convert\" onclick=\"convertToInteractive('df-fa250c17-d955-48fd-b87b-4d352723325b')\"\n",
              "              title=\"Convert this dataframe to an interactive table.\"\n",
              "              style=\"display:none;\">\n",
              "        \n",
              "  <svg xmlns=\"http://www.w3.org/2000/svg\" height=\"24px\"viewBox=\"0 0 24 24\"\n",
              "       width=\"24px\">\n",
              "    <path d=\"M0 0h24v24H0V0z\" fill=\"none\"/>\n",
              "    <path d=\"M18.56 5.44l.94 2.06.94-2.06 2.06-.94-2.06-.94-.94-2.06-.94 2.06-2.06.94zm-11 1L8.5 8.5l.94-2.06 2.06-.94-2.06-.94L8.5 2.5l-.94 2.06-2.06.94zm10 10l.94 2.06.94-2.06 2.06-.94-2.06-.94-.94-2.06-.94 2.06-2.06.94z\"/><path d=\"M17.41 7.96l-1.37-1.37c-.4-.4-.92-.59-1.43-.59-.52 0-1.04.2-1.43.59L10.3 9.45l-7.72 7.72c-.78.78-.78 2.05 0 2.83L4 21.41c.39.39.9.59 1.41.59.51 0 1.02-.2 1.41-.59l7.78-7.78 2.81-2.81c.8-.78.8-2.07 0-2.86zM5.41 20L4 18.59l7.72-7.72 1.47 1.35L5.41 20z\"/>\n",
              "  </svg>\n",
              "      </button>\n",
              "      \n",
              "  <style>\n",
              "    .colab-df-container {\n",
              "      display:flex;\n",
              "      flex-wrap:wrap;\n",
              "      gap: 12px;\n",
              "    }\n",
              "\n",
              "    .colab-df-convert {\n",
              "      background-color: #E8F0FE;\n",
              "      border: none;\n",
              "      border-radius: 50%;\n",
              "      cursor: pointer;\n",
              "      display: none;\n",
              "      fill: #1967D2;\n",
              "      height: 32px;\n",
              "      padding: 0 0 0 0;\n",
              "      width: 32px;\n",
              "    }\n",
              "\n",
              "    .colab-df-convert:hover {\n",
              "      background-color: #E2EBFA;\n",
              "      box-shadow: 0px 1px 2px rgba(60, 64, 67, 0.3), 0px 1px 3px 1px rgba(60, 64, 67, 0.15);\n",
              "      fill: #174EA6;\n",
              "    }\n",
              "\n",
              "    [theme=dark] .colab-df-convert {\n",
              "      background-color: #3B4455;\n",
              "      fill: #D2E3FC;\n",
              "    }\n",
              "\n",
              "    [theme=dark] .colab-df-convert:hover {\n",
              "      background-color: #434B5C;\n",
              "      box-shadow: 0px 1px 3px 1px rgba(0, 0, 0, 0.15);\n",
              "      filter: drop-shadow(0px 1px 2px rgba(0, 0, 0, 0.3));\n",
              "      fill: #FFFFFF;\n",
              "    }\n",
              "  </style>\n",
              "\n",
              "      <script>\n",
              "        const buttonEl =\n",
              "          document.querySelector('#df-fa250c17-d955-48fd-b87b-4d352723325b button.colab-df-convert');\n",
              "        buttonEl.style.display =\n",
              "          google.colab.kernel.accessAllowed ? 'block' : 'none';\n",
              "\n",
              "        async function convertToInteractive(key) {\n",
              "          const element = document.querySelector('#df-fa250c17-d955-48fd-b87b-4d352723325b');\n",
              "          const dataTable =\n",
              "            await google.colab.kernel.invokeFunction('convertToInteractive',\n",
              "                                                     [key], {});\n",
              "          if (!dataTable) return;\n",
              "\n",
              "          const docLinkHtml = 'Like what you see? Visit the ' +\n",
              "            '<a target=\"_blank\" href=https://colab.research.google.com/notebooks/data_table.ipynb>data table notebook</a>'\n",
              "            + ' to learn more about interactive tables.';\n",
              "          element.innerHTML = '';\n",
              "          dataTable['output_type'] = 'display_data';\n",
              "          await google.colab.output.renderOutput(dataTable, element);\n",
              "          const docLink = document.createElement('div');\n",
              "          docLink.innerHTML = docLinkHtml;\n",
              "          element.appendChild(docLink);\n",
              "        }\n",
              "      </script>\n",
              "    </div>\n",
              "  </div>\n",
              "  "
            ]
          },
          "metadata": {},
          "execution_count": 28
        }
      ],
      "source": [
        "new_test_data = column_fit_transform(x_train, x_test, x_train.columns)\n",
        "test_col, train_col = list(new_test_data.columns), list(new_train_data.columns)\n",
        "missing = list(set(train_col).difference(set(test_col)))\n",
        "for miss in missing:\n",
        "    new_test_data[missing] = 0.0\n",
        "new_test_data = new_test_data.drop(\"income\", axis = 1)\n",
        "new_test_data.head()"
      ]
    },
    {
      "cell_type": "markdown",
      "id": "F34n9rRnnBIA",
      "metadata": {
        "id": "F34n9rRnnBIA"
      },
      "source": [
        "### Decision Tree Algorithm"
      ]
    },
    {
      "cell_type": "code",
      "execution_count": 29,
      "id": "dfbcf883",
      "metadata": {
        "colab": {
          "base_uri": "https://localhost:8080/"
        },
        "id": "dfbcf883",
        "outputId": "acb5fff7-93d8-4f68-bb59-6022f820b5cc"
      },
      "outputs": [
        {
          "output_type": "stream",
          "name": "stderr",
          "text": [
            "/usr/local/lib/python3.9/dist-packages/ipykernel/ipkernel.py:283: DeprecationWarning: `should_run_async` will not call `transform_cell` automatically in the future. Please pass the result to `transformed_cell` argument and any exception that happen during thetransform in `preprocessing_exc_tuple` in IPython 7.17 and above.\n",
            "  and should_run_async(code)\n"
          ]
        }
      ],
      "source": [
        "## function for calculating entropy\n",
        "def getEntropy(counts):\n",
        "    percentages = counts/np.sum(counts)\n",
        "\n",
        "    entr = 0\n",
        "    for per in percentages:\n",
        "        if per == 0:\n",
        "            continue\n",
        "        entr = entr - (per*np.log2(per))\n",
        "    return entr"
      ]
    },
    {
      "cell_type": "code",
      "execution_count": 30,
      "id": "85c3d3f3",
      "metadata": {
        "colab": {
          "base_uri": "https://localhost:8080/"
        },
        "id": "85c3d3f3",
        "outputId": "b0c75ac2-be9e-4aab-b4ff-4ae8beeff59a"
      },
      "outputs": [
        {
          "output_type": "stream",
          "name": "stderr",
          "text": [
            "/usr/local/lib/python3.9/dist-packages/ipykernel/ipkernel.py:283: DeprecationWarning: `should_run_async` will not call `transform_cell` automatically in the future. Please pass the result to `transformed_cell` argument and any exception that happen during thetransform in `preprocessing_exc_tuple` in IPython 7.17 and above.\n",
            "  and should_run_async(code)\n"
          ]
        }
      ],
      "source": [
        "# function for calculating entropy for each variable\n",
        "def dataEntropy(data):\n",
        "    \n",
        "    high_income = len(data[data[\"income\"] == 1])\n",
        "    low_income = len(data[data[\"income\"] == 0])\n",
        "    \n",
        "    result = getEntropy([low_income,high_income])\n",
        "    return result"
      ]
    },
    {
      "cell_type": "code",
      "execution_count": 31,
      "id": "f21745a7",
      "metadata": {
        "colab": {
          "base_uri": "https://localhost:8080/"
        },
        "id": "f21745a7",
        "outputId": "4f2fdfe4-f51b-44eb-8e0a-6c6ecbf5a76c"
      },
      "outputs": [
        {
          "output_type": "stream",
          "name": "stderr",
          "text": [
            "/usr/local/lib/python3.9/dist-packages/ipykernel/ipkernel.py:283: DeprecationWarning: `should_run_async` will not call `transform_cell` automatically in the future. Please pass the result to `transformed_cell` argument and any exception that happen during thetransform in `preprocessing_exc_tuple` in IPython 7.17 and above.\n",
            "  and should_run_async(code)\n"
          ]
        }
      ],
      "source": [
        "# function for obtaining aggregated entropy\n",
        "def dataGivenEntropy(dataX, dataY):\n",
        "    entrX = dataEntropy(dataX)\n",
        "    entrY = dataEntropy(dataY)\n",
        "    nX = len(dataX)\n",
        "    nY = len(dataY)\n",
        "    n = nX + nY\n",
        "    if n == 0: \n",
        "        result = 0\n",
        "    else:\n",
        "        result = nX/n*entrX + nY/n*entrY\n",
        "    return result"
      ]
    },
    {
      "cell_type": "code",
      "execution_count": 32,
      "id": "0c7f873f",
      "metadata": {
        "colab": {
          "base_uri": "https://localhost:8080/"
        },
        "id": "0c7f873f",
        "outputId": "e7864430-77b9-4c9d-f6b4-39cf4be79170"
      },
      "outputs": [
        {
          "output_type": "stream",
          "name": "stderr",
          "text": [
            "/usr/local/lib/python3.9/dist-packages/ipykernel/ipkernel.py:283: DeprecationWarning: `should_run_async` will not call `transform_cell` automatically in the future. Please pass the result to `transformed_cell` argument and any exception that happen during thetransform in `preprocessing_exc_tuple` in IPython 7.17 and above.\n",
            "  and should_run_async(code)\n"
          ]
        }
      ],
      "source": [
        "# function for calculating information gain to decide which column to split on\n",
        "def infoGain(data, dataX, dataY):\n",
        "    result = dataEntropy(data) - dataGivenEntropy(dataX, dataY)\n",
        "    return result"
      ]
    },
    {
      "cell_type": "code",
      "execution_count": 33,
      "id": "a61aa787",
      "metadata": {
        "colab": {
          "base_uri": "https://localhost:8080/"
        },
        "id": "a61aa787",
        "outputId": "63de17b1-1e6b-4c66-80cb-fdb6b9523b03"
      },
      "outputs": [
        {
          "output_type": "stream",
          "name": "stderr",
          "text": [
            "/usr/local/lib/python3.9/dist-packages/ipykernel/ipkernel.py:283: DeprecationWarning: `should_run_async` will not call `transform_cell` automatically in the future. Please pass the result to `transformed_cell` argument and any exception that happen during thetransform in `preprocessing_exc_tuple` in IPython 7.17 and above.\n",
            "  and should_run_async(code)\n"
          ]
        }
      ],
      "source": [
        "# function for calculating gini\n",
        "def getGini(counts):\n",
        "    percentages = counts/np.sum(counts)\n",
        "    gini = 1-np.sum(percentages**2)\n",
        "    return gini"
      ]
    },
    {
      "cell_type": "code",
      "execution_count": 34,
      "id": "p4wmrYjIuWhH",
      "metadata": {
        "colab": {
          "base_uri": "https://localhost:8080/"
        },
        "id": "p4wmrYjIuWhH",
        "outputId": "ba1bf89d-c1ac-417c-eff7-faf05a2bb845"
      },
      "outputs": [
        {
          "output_type": "stream",
          "name": "stderr",
          "text": [
            "/usr/local/lib/python3.9/dist-packages/ipykernel/ipkernel.py:283: DeprecationWarning: `should_run_async` will not call `transform_cell` automatically in the future. Please pass the result to `transformed_cell` argument and any exception that happen during thetransform in `preprocessing_exc_tuple` in IPython 7.17 and above.\n",
            "  and should_run_async(code)\n"
          ]
        },
        {
          "output_type": "execute_result",
          "data": {
            "text/plain": [
              "73"
            ]
          },
          "metadata": {},
          "execution_count": 34
        }
      ],
      "source": [
        "len(new_train_data[\"age_scaled\"].unique())"
      ]
    },
    {
      "cell_type": "code",
      "execution_count": 35,
      "id": "b005d18d",
      "metadata": {
        "id": "b005d18d",
        "outputId": "28c1fe22-9b8e-4248-c318-41a59e9b458d",
        "colab": {
          "base_uri": "https://localhost:8080/"
        }
      },
      "outputs": [
        {
          "output_type": "stream",
          "name": "stderr",
          "text": [
            "/usr/local/lib/python3.9/dist-packages/ipykernel/ipkernel.py:283: DeprecationWarning: `should_run_async` will not call `transform_cell` automatically in the future. Please pass the result to `transformed_cell` argument and any exception that happen during thetransform in `preprocessing_exc_tuple` in IPython 7.17 and above.\n",
            "  and should_run_async(code)\n"
          ]
        }
      ],
      "source": [
        "def variance(data):\n",
        "    income = data[\"income\"]\n",
        "\n",
        "    var = sum(income**2)/len(income) - (np.mean(income))**2\n",
        "\n",
        "    return var"
      ]
    },
    {
      "cell_type": "code",
      "execution_count": 36,
      "id": "f934cf0a",
      "metadata": {
        "colab": {
          "base_uri": "https://localhost:8080/"
        },
        "id": "f934cf0a",
        "outputId": "5c937cd1-9994-4efb-c610-f4a91458409a"
      },
      "outputs": [
        {
          "output_type": "stream",
          "name": "stderr",
          "text": [
            "/usr/local/lib/python3.9/dist-packages/ipykernel/ipkernel.py:283: DeprecationWarning: `should_run_async` will not call `transform_cell` automatically in the future. Please pass the result to `transformed_cell` argument and any exception that happen during thetransform in `preprocessing_exc_tuple` in IPython 7.17 and above.\n",
            "  and should_run_async(code)\n"
          ]
        }
      ],
      "source": [
        "# function for calculating the best split\n",
        "def findBestSplit(data, label):\n",
        "    minEntropy = 1\n",
        "    colSelected = str()\n",
        "    thresh_value = 0\n",
        "    dataX_found,dataY_found = None, None\n",
        "    for col in list(data.columns):\n",
        "        if col != label:\n",
        "        # make the split \n",
        "\n",
        "            if len(data[col].unique()) > 2:\n",
        "                max = data[col].max()\n",
        "                threshold = np.linspace(0,max,30)[1:-1]\n",
        "                infoGainList = []\n",
        "\n",
        "          # for 28 different thresholds, calculate the info-gain\n",
        "                for i in range(len(threshold)):\n",
        "                    dataX = data[data[col] > threshold[i]]\n",
        "                    dataY = data[data[col] <= threshold[i]]\n",
        "                    infoGainList.append(infoGain(data, dataX, dataY))\n",
        "\n",
        "          # get the max info-gain\n",
        "                idx = np.argmax(infoGainList)\n",
        "                dataX = data[data[col] > threshold[idx]]\n",
        "                dataY = data[data[col] <= threshold[idx]]\n",
        "                thresh = threshold[idx]\n",
        "\n",
        "            else:\n",
        "                thresh = 0.5\n",
        "                dataX = data[data[col] > thresh]\n",
        "                dataY = data[data[col] <= thresh]\n",
        "            \n",
        "          \n",
        "        entr = dataGivenEntropy(dataX, dataY)\n",
        "        \n",
        "        \n",
        "        if entr < minEntropy:\n",
        "            minEntropy = entr\n",
        "            colSelected = col\n",
        "            dataX_found = dataX\n",
        "            dataY_found = dataY\n",
        "            thresh_value = thresh\n",
        "        \n",
        "\n",
        "    return colSelected, minEntropy, dataX_found, dataY_found, thresh_value"
      ]
    },
    {
      "cell_type": "code",
      "execution_count": 37,
      "id": "BGg4-nHNYrhc",
      "metadata": {
        "colab": {
          "base_uri": "https://localhost:8080/"
        },
        "id": "BGg4-nHNYrhc",
        "outputId": "02758b5a-b1db-47da-a6bd-84a3986d7e3e"
      },
      "outputs": [
        {
          "output_type": "stream",
          "name": "stderr",
          "text": [
            "/usr/local/lib/python3.9/dist-packages/ipykernel/ipkernel.py:283: DeprecationWarning: `should_run_async` will not call `transform_cell` automatically in the future. Please pass the result to `transformed_cell` argument and any exception that happen during thetransform in `preprocessing_exc_tuple` in IPython 7.17 and above.\n",
            "  and should_run_async(code)\n"
          ]
        }
      ],
      "source": [
        "# function for calculating the best split\n",
        "def split_via_mapreduce(data, col, label):\n",
        "    minEntropy = 1\n",
        "    colSelected = str()\n",
        "    thresh_value = 0\n",
        "    dataX_found,dataY_found = None, None\n",
        "    if len(data[col].unique()) > 2:\n",
        "        maxi = data[col].max()\n",
        "        threshold = np.linspace(0,maxi,30)[1:-1]\n",
        "        infoGainList = []\n",
        "\n",
        "          # for 28 different thresholds, calculate the info-gain\n",
        "        for i in range(len(threshold)):\n",
        "            dataX = data[data[col] > threshold[i]]\n",
        "            dataY = data[data[col] <= threshold[i]]\n",
        "            infoGainList.append(infoGain(data, dataX, dataY))\n",
        "\n",
        "          # get the max info-gain\n",
        "        idx = np.argmax(infoGainList)\n",
        "        dataX = data[data[col] > threshold[idx]]\n",
        "        dataY = data[data[col] <= threshold[idx]]\n",
        "        thresh = threshold[idx]\n",
        "\n",
        "    else:\n",
        "        thresh = 0.5\n",
        "        dataX = data[data[col] > thresh]\n",
        "        dataY = data[data[col] <= thresh]\n",
        "            \n",
        "          \n",
        "    entr = dataGivenEntropy(dataX, dataY)\n",
        "        \n",
        "        \n",
        "    minEntropy = entr\n",
        "    colSelected = col\n",
        "    dataX_found = dataX\n",
        "    dataY_found = dataY\n",
        "    thresh_value = thresh\n",
        "        \n",
        "\n",
        "    return colSelected, minEntropy, dataX_found, dataY_found, thresh_value"
      ]
    },
    {
      "cell_type": "code",
      "execution_count": 38,
      "id": "L9qMVH-Smf7p",
      "metadata": {
        "colab": {
          "base_uri": "https://localhost:8080/"
        },
        "id": "L9qMVH-Smf7p",
        "outputId": "244314c4-3ee4-47f0-d0e6-82ee7e8fe395"
      },
      "outputs": [
        {
          "output_type": "stream",
          "name": "stderr",
          "text": [
            "/usr/local/lib/python3.9/dist-packages/ipykernel/ipkernel.py:283: DeprecationWarning: `should_run_async` will not call `transform_cell` automatically in the future. Please pass the result to `transformed_cell` argument and any exception that happen during thetransform in `preprocessing_exc_tuple` in IPython 7.17 and above.\n",
            "  and should_run_async(code)\n"
          ]
        },
        {
          "output_type": "execute_result",
          "data": {
            "text/plain": [
              "('capital_loss_scaled', 0.9948825455241296)"
            ]
          },
          "metadata": {},
          "execution_count": 38
        }
      ],
      "source": [
        "findBestSplit(new_train_data, 'income')[0], findBestSplit(new_train_data, 'income')[1]"
      ]
    },
    {
      "cell_type": "code",
      "execution_count": 39,
      "id": "4cirhxSRY5EO",
      "metadata": {
        "colab": {
          "base_uri": "https://localhost:8080/"
        },
        "id": "4cirhxSRY5EO",
        "outputId": "7dda7cdf-5fe5-42d1-e33d-a9fe181b1b1a"
      },
      "outputs": [
        {
          "output_type": "stream",
          "name": "stderr",
          "text": [
            "/usr/local/lib/python3.9/dist-packages/ipykernel/ipkernel.py:283: DeprecationWarning: `should_run_async` will not call `transform_cell` automatically in the future. Please pass the result to `transformed_cell` argument and any exception that happen during thetransform in `preprocessing_exc_tuple` in IPython 7.17 and above.\n",
            "  and should_run_async(code)\n"
          ]
        }
      ],
      "source": [
        "# function for calculating the best split\n",
        "def entropy_columns(data, label = \"income\"):\n",
        "    #data = data_insert.toPandas()\n",
        "    columns = []\n",
        "    entropies = []\n",
        "    combo = []\n",
        "    combo2 = []\n",
        "    dataX_found,dataY_found = None, None\n",
        "    for col in list(data.columns):\n",
        "        if col != label:\n",
        "        # make the split \n",
        "\n",
        "            if len(data[col].unique()) > 2:\n",
        "                maxi = data[col].max()\n",
        "                threshold = np.linspace(0,maxi,30)[1:-1]\n",
        "                infoGainList = []\n",
        "\n",
        "              # for 28 different thresholds, calculate the info-gain\n",
        "                for i in range(len(threshold)):\n",
        "                    dataX = data[data[col] > threshold[i]]\n",
        "                    dataY = data[data[col] <= threshold[i]]\n",
        "                    infoGainList.append(infoGain(data, dataX, dataY))\n",
        "\n",
        "              # get the max info-gain\n",
        "                idx = np.argmax(infoGainList)\n",
        "                dataX = data[data[col] > threshold[idx]]\n",
        "                dataY = data[data[col] <= threshold[idx]]\n",
        "                thresh = threshold[idx]\n",
        "\n",
        "            else:\n",
        "                thresh = 0.5\n",
        "                dataX = data[data[col] > thresh]\n",
        "                dataY = data[data[col] <= thresh]\n",
        "            \n",
        "          \n",
        "            entr = dataGivenEntropy(dataX, dataY)\n",
        "            columns.append(col)\n",
        "            entropies.append(entr)\n",
        "            t = col, entr\n",
        "            combo.append(t)\n",
        "    return combo"
      ]
    },
    {
      "cell_type": "code",
      "execution_count": 40,
      "id": "MwSaSBARapOP",
      "metadata": {
        "colab": {
          "base_uri": "https://localhost:8080/"
        },
        "id": "MwSaSBARapOP",
        "outputId": "89c94efd-4987-4f44-cc3e-c35d1a517b92"
      },
      "outputs": [
        {
          "output_type": "stream",
          "name": "stderr",
          "text": [
            "/usr/local/lib/python3.9/dist-packages/ipykernel/ipkernel.py:283: DeprecationWarning: `should_run_async` will not call `transform_cell` automatically in the future. Please pass the result to `transformed_cell` argument and any exception that happen during thetransform in `preprocessing_exc_tuple` in IPython 7.17 and above.\n",
            "  and should_run_async(code)\n"
          ]
        }
      ],
      "source": [
        "t = entropy_columns(new_train_data)"
      ]
    },
    {
      "cell_type": "code",
      "execution_count": 41,
      "id": "17647ce9",
      "metadata": {
        "id": "17647ce9",
        "outputId": "a3159f3a-b087-4404-f4b6-84c9da7fe0de",
        "colab": {
          "base_uri": "https://localhost:8080/"
        }
      },
      "outputs": [
        {
          "output_type": "stream",
          "name": "stderr",
          "text": [
            "/usr/local/lib/python3.9/dist-packages/ipykernel/ipkernel.py:283: DeprecationWarning: `should_run_async` will not call `transform_cell` automatically in the future. Please pass the result to `transformed_cell` argument and any exception that happen during thetransform in `preprocessing_exc_tuple` in IPython 7.17 and above.\n",
            "  and should_run_async(code)\n"
          ]
        }
      ],
      "source": [
        "import multiprocessing as mp"
      ]
    },
    {
      "cell_type": "code",
      "execution_count": 42,
      "id": "l6-s04ZYYpwc",
      "metadata": {
        "colab": {
          "base_uri": "https://localhost:8080/"
        },
        "id": "l6-s04ZYYpwc",
        "outputId": "ddc23af7-1cb2-40f5-8b15-1b90637bb79c"
      },
      "outputs": [
        {
          "output_type": "stream",
          "name": "stderr",
          "text": [
            "/usr/local/lib/python3.9/dist-packages/ipykernel/ipkernel.py:283: DeprecationWarning: `should_run_async` will not call `transform_cell` automatically in the future. Please pass the result to `transformed_cell` argument and any exception that happen during thetransform in `preprocessing_exc_tuple` in IPython 7.17 and above.\n",
            "  and should_run_async(code)\n"
          ]
        }
      ],
      "source": [
        "def findBestSplitMapReduce(data, s):\n",
        "    if len(data) >= s:\n",
        "        n = len(data) // s\n",
        "        n_1 = n + 1\n",
        "        data = data.sample(frac = 1)\n",
        "        p = mp.Pool(processes=n_1)\n",
        "        conf = SparkConf().setAppName(\"DecisionTreeMapReduce\")\n",
        "        sc = SparkContext(conf = conf)\n",
        "        df_parallel = np.array_split(data, n_1)\n",
        "        res = p.map_async(entropy_columns, df_parallel).get()\n",
        "        res_list = [item for sublist in res for item in sublist]\n",
        "        res_rdd = sc.parallelize(res_list)\n",
        "        new_res = res_rdd.reduceByKey(lambda a,b: a + b)\n",
        "        res_use = new_res.collect()\n",
        "        score = np.array([j/n_1 for i, j in res_use])\n",
        "        arr_ind = list(np.nonzero(score > 0))\n",
        "        col_name = np.array([i for i, j in res_use])\n",
        "        col_name = col_name[arr_ind]\n",
        "        score = score[arr_ind]\n",
        "        column_to_use = col_name[np.argmin(score)]\n",
        "        result = split_via_mapreduce(data, column_to_use, \"income\")\n",
        "        sc.stop()\n",
        "        p.close()\n",
        "    else: \n",
        "        result = findBestSplit(data, \"income\")\n",
        "    return result"
      ]
    },
    {
      "cell_type": "code",
      "execution_count": 43,
      "id": "DwQG6HZyZzT1",
      "metadata": {
        "colab": {
          "base_uri": "https://localhost:8080/"
        },
        "id": "DwQG6HZyZzT1",
        "outputId": "a50a909b-fee3-4cf5-b46c-7ffcb5f53b60"
      },
      "outputs": [
        {
          "output_type": "stream",
          "name": "stderr",
          "text": [
            "/usr/local/lib/python3.9/dist-packages/ipykernel/ipkernel.py:283: DeprecationWarning: `should_run_async` will not call `transform_cell` automatically in the future. Please pass the result to `transformed_cell` argument and any exception that happen during thetransform in `preprocessing_exc_tuple` in IPython 7.17 and above.\n",
            "  and should_run_async(code)\n"
          ]
        }
      ],
      "source": [
        "#findBestSplitMapReduce(new_train_data, 10000)[4]"
      ]
    },
    {
      "cell_type": "code",
      "source": [
        "#findBestSplitMapReduce(new_train_data[new_train_data[\"capital_loss_scaled\"] <= 0.034], 10000)[1]"
      ],
      "metadata": {
        "id": "W6rhwdaTyI4C",
        "outputId": "6f287e7a-5ee5-473a-913b-ad24c3c65654",
        "colab": {
          "base_uri": "https://localhost:8080/"
        }
      },
      "id": "W6rhwdaTyI4C",
      "execution_count": 44,
      "outputs": [
        {
          "output_type": "stream",
          "name": "stderr",
          "text": [
            "/usr/local/lib/python3.9/dist-packages/ipykernel/ipkernel.py:283: DeprecationWarning: `should_run_async` will not call `transform_cell` automatically in the future. Please pass the result to `transformed_cell` argument and any exception that happen during thetransform in `preprocessing_exc_tuple` in IPython 7.17 and above.\n",
            "  and should_run_async(code)\n"
          ]
        }
      ]
    },
    {
      "cell_type": "code",
      "source": [
        "#findBestSplitMapReduce(new_train_data[new_train_data[\"capital_loss_scaled\"] <= 0.034], 10000)[0]"
      ],
      "metadata": {
        "id": "drYgYqXb5MV6",
        "outputId": "d5d64dd2-a24e-49d6-c0fa-ed342879a2f7",
        "colab": {
          "base_uri": "https://localhost:8080/"
        }
      },
      "id": "drYgYqXb5MV6",
      "execution_count": 45,
      "outputs": [
        {
          "output_type": "stream",
          "name": "stderr",
          "text": [
            "/usr/local/lib/python3.9/dist-packages/ipykernel/ipkernel.py:283: DeprecationWarning: `should_run_async` will not call `transform_cell` automatically in the future. Please pass the result to `transformed_cell` argument and any exception that happen during thetransform in `preprocessing_exc_tuple` in IPython 7.17 and above.\n",
            "  and should_run_async(code)\n"
          ]
        }
      ]
    },
    {
      "cell_type": "code",
      "source": [
        "#findBestSplitMapReduce(new_train_data[new_train_data[\"capital_loss_scaled\"] <= 0.034], 10000)[4]"
      ],
      "metadata": {
        "id": "3FgrcRKA5KUC",
        "outputId": "a6bbe5cd-5bde-4b67-b32d-e3b52482fade",
        "colab": {
          "base_uri": "https://localhost:8080/"
        }
      },
      "id": "3FgrcRKA5KUC",
      "execution_count": 46,
      "outputs": [
        {
          "output_type": "stream",
          "name": "stderr",
          "text": [
            "/usr/local/lib/python3.9/dist-packages/ipykernel/ipkernel.py:283: DeprecationWarning: `should_run_async` will not call `transform_cell` automatically in the future. Please pass the result to `transformed_cell` argument and any exception that happen during thetransform in `preprocessing_exc_tuple` in IPython 7.17 and above.\n",
            "  and should_run_async(code)\n"
          ]
        }
      ]
    },
    {
      "cell_type": "code",
      "execution_count": 47,
      "id": "WumiEnXN2W_0",
      "metadata": {
        "colab": {
          "base_uri": "https://localhost:8080/"
        },
        "id": "WumiEnXN2W_0",
        "outputId": "0fbbfb31-3816-4c83-cad1-ec1126ce1f4f"
      },
      "outputs": [
        {
          "output_type": "stream",
          "name": "stderr",
          "text": [
            "/usr/local/lib/python3.9/dist-packages/ipykernel/ipkernel.py:283: DeprecationWarning: `should_run_async` will not call `transform_cell` automatically in the future. Please pass the result to `transformed_cell` argument and any exception that happen during thetransform in `preprocessing_exc_tuple` in IPython 7.17 and above.\n",
            "  and should_run_async(code)\n"
          ]
        }
      ],
      "source": [
        "# class for recording branch information for each split\n",
        "class Branch:\n",
        "    no=0\n",
        "    depth=1\n",
        "    column=''\n",
        "    entropy=0\n",
        "    value = []\n",
        "    samples = 0\n",
        "    gini = 0\n",
        "    thresh = 0\n",
        "    branch_positive=None\n",
        "    branch_negative=None\n",
        "    positive=0\n",
        "    negative=0\n",
        "    num_cols = 0\n",
        "    col_names = []"
      ]
    },
    {
      "cell_type": "code",
      "execution_count": 48,
      "id": "5j6b41QHmuEe",
      "metadata": {
        "colab": {
          "base_uri": "https://localhost:8080/"
        },
        "id": "5j6b41QHmuEe",
        "outputId": "227c0413-4f58-4bbc-a23d-1229d0365062"
      },
      "outputs": [
        {
          "output_type": "stream",
          "name": "stderr",
          "text": [
            "/usr/local/lib/python3.9/dist-packages/ipykernel/ipkernel.py:283: DeprecationWarning: `should_run_async` will not call `transform_cell` automatically in the future. Please pass the result to `transformed_cell` argument and any exception that happen during thetransform in `preprocessing_exc_tuple` in IPython 7.17 and above.\n",
            "  and should_run_async(code)\n"
          ]
        }
      ],
      "source": [
        "## function for building the decision tree for each split\n",
        "number = 0\n",
        "def decisionTreeInner(data, label, depth, max_depth, max_features, min_samples_split, min_samples_leaf, s):\n",
        "    global number\n",
        "    branch = Branch()\n",
        "    branch.no = number\n",
        "    number += 1\n",
        "    branch.depth = depth\n",
        "    branch.num_depth = 1\n",
        "    \n",
        "    branch.samples = data.shape[0]\n",
        "    positive = data[data[label]==1].shape[0]\n",
        "    negative = data[data[label]==0].shape[0]\n",
        "    \n",
        "    branch.value= [negative, positive]\n",
        "    branch.gini = getGini(branch.value)\n",
        "    \n",
        "    bestSplit = findBestSplitMapReduce(data, s=s)\n",
        "    #bestSplit = findBestSplit(data, \"income\")\n",
        "    \n",
        "    branch.column = bestSplit[0]\n",
        "    branch.col_names.append(branch.column)\n",
        "    cols = list(set(branch.col_names))\n",
        "    branch.num_cols = len(cols)\n",
        "    branch.entropy = bestSplit[1]\n",
        "    \n",
        "    newEntropy = bestSplit[1]\n",
        "    dataNegative = bestSplit[2]\n",
        "    dataPositive = bestSplit[3]\n",
        "    branch.thresh = bestSplit[4]\n",
        "    sum_val = branch.value[0] + branch.value[1]\n",
        "    \n",
        "    if sum_val != 0:\n",
        "        unbalanced_0 = branch.value[0]/sum_val\n",
        "        unbalanced_1 = branch.value[1]/sum_val\n",
        "    \n",
        "    if len(cols) < max_features:\n",
        "        if depth == max_depth or branch.column == \"\" or branch.samples <= min_samples_split or (len(dataNegative) <= min_samples_leaf and len(dataPositive) <= min_samples_leaf) or (unbalanced_0 > 0.95 and branch.samples <= 1000) or (unbalanced_1 > 0.95 and branch.samples <= 1000):\n",
        "          \n",
        "            branch.positive = number\n",
        "            number +=1\n",
        "            branch.negative = number\n",
        "            number +=1   \n",
        "            branch.column = \"\"\n",
        "    \n",
        "            return branch\n",
        "        \n",
        "        # next step\n",
        "        else:\n",
        "            \n",
        "            #dataNegative = bestSplit[2]\n",
        "            branch.branch_negative = decisionTreeInner(dataNegative, label, depth+1, max_depth=max_depth, max_features = max_features, min_samples_split = min_samples_split, min_samples_leaf = min_samples_leaf, s = s)\n",
        "            \n",
        "            #dataPositive = bestSplit[3]\n",
        "            branch.branch_positive = decisionTreeInner(dataPositive, label, depth+1, max_depth=max_depth, max_features = max_features, min_samples_split = min_samples_split, min_samples_leaf = min_samples_leaf, s = s)\n",
        "\n",
        "            return branch\n",
        "    else:\n",
        "        \n",
        "        if depth == max_depth or branch.column == \"\" or branch.samples <= min_samples_split or (len(dataNegative) <= min_samples_leaf and len(dataPositive) <= min_samples_leaf) or (unbalanced_0 > 0.95 and branch.samples <= 1000) or (unbalanced_1 > 0.95 and branch.samples <= 1000):\n",
        "            \n",
        "            branch.positive = number\n",
        "            number +=1\n",
        "            branch.negative = number\n",
        "            number +=1   \n",
        "            branch.column = \"\"\n",
        "            \n",
        "            return branch\n",
        "        \n",
        "        else:\n",
        "            if \"\" in cols:\n",
        "                cols.remove(\"\")\n",
        "            cols.append(\"income\")\n",
        "            \n",
        "            #dataNegative = bestSplit[2]\n",
        "            dataNegative = dataNegative[cols]\n",
        "            \n",
        "            branch.branch_negative = decisionTreeInner(dataNegative, label, depth+1, max_depth=max_depth, max_features = max_features, min_samples_split = min_samples_split, min_samples_leaf = min_samples_leaf, s = s)\n",
        "            \n",
        "            #dataPositive = bestSplit[3]\n",
        "            dataPositive= dataPositive[cols]\n",
        "            \n",
        "            branch.branch_positive = decisionTreeInner(dataPositive, label, depth+1, max_depth=max_depth, max_features = max_features, min_samples_split = min_samples_split, min_samples_leaf = min_samples_leaf, s = s)\n",
        "            cols.remove(\"income\")\n",
        "            return branch\n"
      ]
    },
    {
      "cell_type": "code",
      "execution_count": 49,
      "id": "2vPkdPlymzOv",
      "metadata": {
        "colab": {
          "base_uri": "https://localhost:8080/"
        },
        "id": "2vPkdPlymzOv",
        "outputId": "9240eba9-e828-419e-cde1-7e2d0cdd78fe"
      },
      "outputs": [
        {
          "output_type": "stream",
          "name": "stderr",
          "text": [
            "/usr/local/lib/python3.9/dist-packages/ipykernel/ipkernel.py:283: DeprecationWarning: `should_run_async` will not call `transform_cell` automatically in the future. Please pass the result to `transformed_cell` argument and any exception that happen during thetransform in `preprocessing_exc_tuple` in IPython 7.17 and above.\n",
            "  and should_run_async(code)\n"
          ]
        }
      ],
      "source": [
        "## function for creating the decision tree classifier.\n",
        "def decision_tree(data, label, max_depth, max_features, min_samples_split, min_samples_leaf, s):\n",
        "    class Branch:\n",
        "        no=0\n",
        "        depth=1\n",
        "        column=''\n",
        "        entropy=0\n",
        "        value = []\n",
        "        samples = 0\n",
        "        gini = 0\n",
        "        thresh = 0\n",
        "        branch_positive=None\n",
        "        branch_negative=None\n",
        "        positive=0 \n",
        "        negative=0\n",
        "        num_cols = 0\n",
        "        col_names = []\n",
        "      \n",
        "    number = 0\n",
        "    entropy = dataEntropy(data)\n",
        "    columns = []\n",
        "    tree = decisionTreeInner(data, label, 0, max_depth = max_depth, max_features = max_features, min_samples_split = min_samples_split, min_samples_leaf = min_samples_leaf, s = s)\n",
        "    return tree"
      ]
    },
    {
      "cell_type": "code",
      "execution_count": 50,
      "id": "b12aed2e",
      "metadata": {
        "colab": {
          "base_uri": "https://localhost:8080/"
        },
        "id": "b12aed2e",
        "outputId": "7e92a2cf-18b9-42b3-ba19-c542d82a7c76"
      },
      "outputs": [
        {
          "output_type": "stream",
          "name": "stderr",
          "text": [
            "/usr/local/lib/python3.9/dist-packages/ipykernel/ipkernel.py:283: DeprecationWarning: `should_run_async` will not call `transform_cell` automatically in the future. Please pass the result to `transformed_cell` argument and any exception that happen during thetransform in `preprocessing_exc_tuple` in IPython 7.17 and above.\n",
            "  and should_run_async(code)\n"
          ]
        },
        {
          "output_type": "stream",
          "name": "stdout",
          "text": [
            "197.86 seconds\n"
          ]
        }
      ],
      "source": [
        "import warnings\n",
        "warnings.filterwarnings('ignore')\n",
        "import time\n",
        "start=time.time()\n",
        "my_dt = decision_tree(new_train_data, 'income', max_depth=3, max_features = 10, min_samples_split = 400, min_samples_leaf = 250, s = 10000)\n",
        "print(round(time.time()-start, 2), 'seconds')"
      ]
    },
    {
      "cell_type": "code",
      "execution_count": 51,
      "id": "6oUM7JOVtq22",
      "metadata": {
        "colab": {
          "base_uri": "https://localhost:8080/"
        },
        "id": "6oUM7JOVtq22",
        "outputId": "42c2f937-3915-412f-9a73-7c4d33f18c80"
      },
      "outputs": [
        {
          "output_type": "execute_result",
          "data": {
            "text/plain": [
              "849984"
            ]
          },
          "metadata": {},
          "execution_count": 51
        }
      ],
      "source": [
        "my_dt.samples"
      ]
    },
    {
      "cell_type": "code",
      "execution_count": 52,
      "id": "uR8wNth55-9y",
      "metadata": {
        "colab": {
          "base_uri": "https://localhost:8080/"
        },
        "id": "uR8wNth55-9y",
        "outputId": "2de69e5a-05ba-48d7-cb6a-0fe7066ab159"
      },
      "outputs": [
        {
          "output_type": "execute_result",
          "data": {
            "text/plain": [
              "<__main__.Branch at 0x7fd7169c8940>"
            ]
          },
          "metadata": {},
          "execution_count": 52
        }
      ],
      "source": [
        "my_dt"
      ]
    },
    {
      "cell_type": "code",
      "execution_count": 53,
      "id": "Onl3CtSIMuR8",
      "metadata": {
        "id": "Onl3CtSIMuR8"
      },
      "outputs": [],
      "source": [
        "def get_dot_data_innner(branch:Branch, classes, dot_data):\n",
        "    if branch.value[0]<branch.value[1]:\n",
        "        the_class=classes[0]\n",
        "    else:\n",
        "        the_class=classes[1]\n",
        "    if branch.branch_positive:\n",
        "        dot_data=dot_data+'{} [label=<{} le {:.2f}<br/>entropy = {:.3f}<br/>samples = {}<br/>value = {}<br/>class = {}> , fillcolor=\"#FFFFFFFF\"] ;\\r\\n'.format(\n",
        "            branch.no, branch.column, branch.thresh, branch.entropy, branch.samples, branch.value, the_class)\n",
        "    else:\n",
        "        dot_data=dot_data+'{} [label=<entropy = {:.3f}<br/>samples = {}<br/>value = {}<br/>class = {}> , fillcolor=\"#FFFFFFFF\"] ;\\r\\n'.format(\n",
        "            branch.no, branch.entropy, branch.samples, branch.value, the_class)\n",
        "    if branch.branch_negative:\n",
        "        dot_data=dot_data+'{} -> {} [labeldistance=2.5, labelangle=45, headlabel=\"no\"]; \\r\\n'.format(branch.no, branch.branch_negative.no)\n",
        "        dot_data=get_dot_data_innner(branch.branch_negative, classes, dot_data)\n",
        "        \n",
        "    if branch.branch_positive:\n",
        "        dot_data=dot_data+'{} -> {} [labeldistance=1.5, labelangle=45, headlabel=\"yes\"]; \\r\\n'.format(branch.no, branch.branch_positive.no)\n",
        "        dot_data=get_dot_data_innner(branch.branch_positive, classes, dot_data)\n",
        "  \n",
        "\n",
        "    return dot_data\n",
        "    \n",
        "def get_dot_data(branch:Branch, classes=['above 50K','below 50K']):\n",
        "    dot_data=\"\"\"\n",
        "digraph Tree {\n",
        "node [shape=box, style=\"filled, rounded\", color=\"black\", fontname=helvetica] ;\n",
        "edge [fontname=helvetica] ;\n",
        "\"\"\"\n",
        "    dot_data=get_dot_data_innner(branch, classes,  dot_data)\n",
        "    dot_data=dot_data+'\\r\\n}'\n",
        "    return dot_data"
      ]
    },
    {
      "cell_type": "code",
      "execution_count": 54,
      "id": "c83SbYS7MuUk",
      "metadata": {
        "id": "c83SbYS7MuUk"
      },
      "outputs": [],
      "source": [
        "dot_data=get_dot_data(my_dt)"
      ]
    },
    {
      "cell_type": "code",
      "execution_count": 55,
      "id": "Cw8sFkDRM47d",
      "metadata": {
        "id": "Cw8sFkDRM47d"
      },
      "outputs": [],
      "source": [
        "import graphviz "
      ]
    },
    {
      "cell_type": "code",
      "execution_count": 56,
      "id": "nnUWFY7XM5ji",
      "metadata": {
        "id": "nnUWFY7XM5ji"
      },
      "outputs": [],
      "source": [
        "graph = graphviz.Source(dot_data) "
      ]
    },
    {
      "cell_type": "code",
      "execution_count": 57,
      "id": "IFnq8hCqNvW8",
      "metadata": {
        "colab": {
          "base_uri": "https://localhost:8080/",
          "height": 619
        },
        "id": "IFnq8hCqNvW8",
        "outputId": "676094f9-c45e-4573-c186-3722381f47e1"
      },
      "outputs": [
        {
          "output_type": "execute_result",
          "data": {
            "image/svg+xml": "<?xml version=\"1.0\" encoding=\"UTF-8\" standalone=\"no\"?>\n<!DOCTYPE svg PUBLIC \"-//W3C//DTD SVG 1.1//EN\"\n \"http://www.w3.org/Graphics/SVG/1.1/DTD/svg11.dtd\">\n<!-- Generated by graphviz version 2.43.0 (0)\n -->\n<!-- Title: Tree Pages: 1 -->\n<svg width=\"1266pt\" height=\"433pt\"\n viewBox=\"0.00 0.00 1266.00 433.00\" xmlns=\"http://www.w3.org/2000/svg\" xmlns:xlink=\"http://www.w3.org/1999/xlink\">\n<g id=\"graph0\" class=\"graph\" transform=\"scale(1 1) rotate(0) translate(4 429)\">\n<title>Tree</title>\n<polygon fill=\"white\" stroke=\"transparent\" points=\"-4,4 -4,-429 1262,-429 1262,4 -4,4\"/>\n<!-- 0 -->\n<g id=\"node1\" class=\"node\">\n<title>0</title>\n<path fill=\"#ffffff\" stroke=\"black\" d=\"M666,-425C666,-425 512,-425 512,-425 506,-425 500,-419 500,-413 500,-413 500,-354 500,-354 500,-348 506,-342 512,-342 512,-342 666,-342 666,-342 672,-342 678,-348 678,-354 678,-354 678,-413 678,-413 678,-419 672,-425 666,-425\"/>\n<text text-anchor=\"start\" x=\"508\" y=\"-409.8\" font-family=\"Helvetica,sans-Serif\" font-size=\"14.00\">capital_loss_scaled le 0.03</text>\n<text text-anchor=\"start\" x=\"541.5\" y=\"-394.8\" font-family=\"Helvetica,sans-Serif\" font-size=\"14.00\">entropy = 0.995</text>\n<text text-anchor=\"start\" x=\"533\" y=\"-379.8\" font-family=\"Helvetica,sans-Serif\" font-size=\"14.00\">samples = 849984</text>\n<text text-anchor=\"start\" x=\"512\" y=\"-364.8\" font-family=\"Helvetica,sans-Serif\" font-size=\"14.00\">value = [432228, 417756]</text>\n<text text-anchor=\"start\" x=\"534\" y=\"-349.8\" font-family=\"Helvetica,sans-Serif\" font-size=\"14.00\">class = below 50K</text>\n</g>\n<!-- 1 -->\n<g id=\"node2\" class=\"node\">\n<title>1</title>\n<path fill=\"#ffffff\" stroke=\"black\" d=\"M545.5,-306C545.5,-306 362.5,-306 362.5,-306 356.5,-306 350.5,-300 350.5,-294 350.5,-294 350.5,-235 350.5,-235 350.5,-229 356.5,-223 362.5,-223 362.5,-223 545.5,-223 545.5,-223 551.5,-223 557.5,-229 557.5,-235 557.5,-235 557.5,-294 557.5,-294 557.5,-300 551.5,-306 545.5,-306\"/>\n<text text-anchor=\"start\" x=\"358.5\" y=\"-290.8\" font-family=\"Helvetica,sans-Serif\" font-size=\"14.00\">hours_per_week_scaled le 0.90</text>\n<text text-anchor=\"start\" x=\"406.5\" y=\"-275.8\" font-family=\"Helvetica,sans-Serif\" font-size=\"14.00\">entropy = 1.000</text>\n<text text-anchor=\"start\" x=\"398\" y=\"-260.8\" font-family=\"Helvetica,sans-Serif\" font-size=\"14.00\">samples = 814560</text>\n<text text-anchor=\"start\" x=\"377\" y=\"-245.8\" font-family=\"Helvetica,sans-Serif\" font-size=\"14.00\">value = [407314, 407246]</text>\n<text text-anchor=\"start\" x=\"399\" y=\"-230.8\" font-family=\"Helvetica,sans-Serif\" font-size=\"14.00\">class = below 50K</text>\n</g>\n<!-- 0&#45;&gt;1 -->\n<g id=\"edge1\" class=\"edge\">\n<title>0&#45;&gt;1</title>\n<path fill=\"none\" stroke=\"black\" d=\"M542.16,-341.91C531.27,-332.47 519.59,-322.34 508.4,-312.65\"/>\n<polygon fill=\"black\" stroke=\"black\" points=\"510.6,-309.93 500.75,-306.02 506.02,-315.22 510.6,-309.93\"/>\n<text text-anchor=\"middle\" x=\"502.54\" y=\"-327.26\" font-family=\"Helvetica,sans-Serif\" font-size=\"14.00\">no</text>\n</g>\n<!-- 16 -->\n<g id=\"node9\" class=\"node\">\n<title>16</title>\n<path fill=\"#ffffff\" stroke=\"black\" d=\"M823.5,-306C823.5,-306 668.5,-306 668.5,-306 662.5,-306 656.5,-300 656.5,-294 656.5,-294 656.5,-235 656.5,-235 656.5,-229 662.5,-223 668.5,-223 668.5,-223 823.5,-223 823.5,-223 829.5,-223 835.5,-229 835.5,-235 835.5,-235 835.5,-294 835.5,-294 835.5,-300 829.5,-306 823.5,-306\"/>\n<text text-anchor=\"start\" x=\"664.5\" y=\"-290.8\" font-family=\"Helvetica,sans-Serif\" font-size=\"14.00\">capital_gain_scaled le 0.03</text>\n<text text-anchor=\"start\" x=\"698.5\" y=\"-275.8\" font-family=\"Helvetica,sans-Serif\" font-size=\"14.00\">entropy = 0.822</text>\n<text text-anchor=\"start\" x=\"693.5\" y=\"-260.8\" font-family=\"Helvetica,sans-Serif\" font-size=\"14.00\">samples = 35424</text>\n<text text-anchor=\"start\" x=\"676.5\" y=\"-245.8\" font-family=\"Helvetica,sans-Serif\" font-size=\"14.00\">value = [24914, 10510]</text>\n<text text-anchor=\"start\" x=\"691\" y=\"-230.8\" font-family=\"Helvetica,sans-Serif\" font-size=\"14.00\">class = below 50K</text>\n</g>\n<!-- 0&#45;&gt;16 -->\n<g id=\"edge8\" class=\"edge\">\n<title>0&#45;&gt;16</title>\n<path fill=\"none\" stroke=\"black\" d=\"M643.47,-341.91C656.38,-332.29 670.25,-321.95 683.48,-312.09\"/>\n<polygon fill=\"black\" stroke=\"black\" points=\"685.7,-314.8 691.63,-306.02 681.52,-309.19 685.7,-314.8\"/>\n<text text-anchor=\"middle\" x=\"676.78\" y=\"-300.15\" font-family=\"Helvetica,sans-Serif\" font-size=\"14.00\">yes</text>\n</g>\n<!-- 2 -->\n<g id=\"node3\" class=\"node\">\n<title>2</title>\n<path fill=\"#ffffff\" stroke=\"black\" d=\"M289.5,-187C289.5,-187 158.5,-187 158.5,-187 152.5,-187 146.5,-181 146.5,-175 146.5,-175 146.5,-116 146.5,-116 146.5,-110 152.5,-104 158.5,-104 158.5,-104 289.5,-104 289.5,-104 295.5,-104 301.5,-110 301.5,-116 301.5,-116 301.5,-175 301.5,-175 301.5,-181 295.5,-187 289.5,-187\"/>\n<text text-anchor=\"start\" x=\"160.5\" y=\"-171.8\" font-family=\"Helvetica,sans-Serif\" font-size=\"14.00\">fnlwgt_scaled le 0.41</text>\n<text text-anchor=\"start\" x=\"176.5\" y=\"-156.8\" font-family=\"Helvetica,sans-Serif\" font-size=\"14.00\">entropy = 1.000</text>\n<text text-anchor=\"start\" x=\"171.5\" y=\"-141.8\" font-family=\"Helvetica,sans-Serif\" font-size=\"14.00\">samples = 86991</text>\n<text text-anchor=\"start\" x=\"154.5\" y=\"-126.8\" font-family=\"Helvetica,sans-Serif\" font-size=\"14.00\">value = [43262, 43729]</text>\n<text text-anchor=\"start\" x=\"168\" y=\"-111.8\" font-family=\"Helvetica,sans-Serif\" font-size=\"14.00\">class = above 50K</text>\n</g>\n<!-- 1&#45;&gt;2 -->\n<g id=\"edge2\" class=\"edge\">\n<title>1&#45;&gt;2</title>\n<path fill=\"none\" stroke=\"black\" d=\"M374.2,-222.91C353.75,-212.5 331.64,-201.26 310.85,-190.68\"/>\n<polygon fill=\"black\" stroke=\"black\" points=\"312.22,-187.45 301.72,-186.03 309.04,-193.69 312.22,-187.45\"/>\n<text text-anchor=\"middle\" x=\"309.46\" y=\"-206.11\" font-family=\"Helvetica,sans-Serif\" font-size=\"14.00\">no</text>\n</g>\n<!-- 9 -->\n<g id=\"node6\" class=\"node\">\n<title>9</title>\n<path fill=\"#ffffff\" stroke=\"black\" d=\"M527,-187C527,-187 381,-187 381,-187 375,-187 369,-181 369,-175 369,-175 369,-116 369,-116 369,-110 375,-104 381,-104 381,-104 527,-104 527,-104 533,-104 539,-110 539,-116 539,-116 539,-175 539,-175 539,-181 533,-187 527,-187\"/>\n<text text-anchor=\"start\" x=\"390.5\" y=\"-171.8\" font-family=\"Helvetica,sans-Serif\" font-size=\"14.00\">fnlwgt_scaled le 0.86</text>\n<text text-anchor=\"start\" x=\"406.5\" y=\"-156.8\" font-family=\"Helvetica,sans-Serif\" font-size=\"14.00\">entropy = 1.000</text>\n<text text-anchor=\"start\" x=\"398\" y=\"-141.8\" font-family=\"Helvetica,sans-Serif\" font-size=\"14.00\">samples = 727569</text>\n<text text-anchor=\"start\" x=\"377\" y=\"-126.8\" font-family=\"Helvetica,sans-Serif\" font-size=\"14.00\">value = [364052, 363517]</text>\n<text text-anchor=\"start\" x=\"399\" y=\"-111.8\" font-family=\"Helvetica,sans-Serif\" font-size=\"14.00\">class = below 50K</text>\n</g>\n<!-- 1&#45;&gt;9 -->\n<g id=\"edge5\" class=\"edge\">\n<title>1&#45;&gt;9</title>\n<path fill=\"none\" stroke=\"black\" d=\"M454,-222.91C454,-214.65 454,-205.86 454,-197.3\"/>\n<polygon fill=\"black\" stroke=\"black\" points=\"457.5,-197.02 454,-187.02 450.5,-197.02 457.5,-197.02\"/>\n<text text-anchor=\"middle\" x=\"443.39\" y=\"-193.93\" font-family=\"Helvetica,sans-Serif\" font-size=\"14.00\">yes</text>\n</g>\n<!-- 3 -->\n<g id=\"node4\" class=\"node\">\n<title>3</title>\n<path fill=\"#ffffff\" stroke=\"black\" d=\"M116,-68C116,-68 12,-68 12,-68 6,-68 0,-62 0,-56 0,-56 0,-12 0,-12 0,-6 6,0 12,0 12,0 116,0 116,0 122,0 128,-6 128,-12 128,-12 128,-56 128,-56 128,-62 122,-68 116,-68\"/>\n<text text-anchor=\"start\" x=\"16.5\" y=\"-52.8\" font-family=\"Helvetica,sans-Serif\" font-size=\"14.00\">entropy = 0.986</text>\n<text text-anchor=\"start\" x=\"19\" y=\"-37.8\" font-family=\"Helvetica,sans-Serif\" font-size=\"14.00\">samples = 437</text>\n<text text-anchor=\"start\" x=\"9.5\" y=\"-22.8\" font-family=\"Helvetica,sans-Serif\" font-size=\"14.00\">value = [197, 240]</text>\n<text text-anchor=\"start\" x=\"8\" y=\"-7.8\" font-family=\"Helvetica,sans-Serif\" font-size=\"14.00\">class = above 50K</text>\n</g>\n<!-- 2&#45;&gt;3 -->\n<g id=\"edge3\" class=\"edge\">\n<title>2&#45;&gt;3</title>\n<path fill=\"none\" stroke=\"black\" d=\"M164.42,-103.73C150.22,-94.01 135.1,-83.66 121.02,-74.02\"/>\n<polygon fill=\"black\" stroke=\"black\" points=\"122.63,-70.88 112.4,-68.13 118.68,-76.66 122.63,-70.88\"/>\n<text text-anchor=\"middle\" x=\"117.01\" y=\"-89\" font-family=\"Helvetica,sans-Serif\" font-size=\"14.00\">no</text>\n</g>\n<!-- 6 -->\n<g id=\"node5\" class=\"node\">\n<title>6</title>\n<path fill=\"#ffffff\" stroke=\"black\" d=\"M289.5,-68C289.5,-68 158.5,-68 158.5,-68 152.5,-68 146.5,-62 146.5,-56 146.5,-56 146.5,-12 146.5,-12 146.5,-6 152.5,0 158.5,0 158.5,0 289.5,0 289.5,0 295.5,0 301.5,-6 301.5,-12 301.5,-12 301.5,-56 301.5,-56 301.5,-62 295.5,-68 289.5,-68\"/>\n<text text-anchor=\"start\" x=\"176.5\" y=\"-52.8\" font-family=\"Helvetica,sans-Serif\" font-size=\"14.00\">entropy = 1.000</text>\n<text text-anchor=\"start\" x=\"171.5\" y=\"-37.8\" font-family=\"Helvetica,sans-Serif\" font-size=\"14.00\">samples = 86554</text>\n<text text-anchor=\"start\" x=\"154.5\" y=\"-22.8\" font-family=\"Helvetica,sans-Serif\" font-size=\"14.00\">value = [43065, 43489]</text>\n<text text-anchor=\"start\" x=\"168\" y=\"-7.8\" font-family=\"Helvetica,sans-Serif\" font-size=\"14.00\">class = above 50K</text>\n</g>\n<!-- 2&#45;&gt;6 -->\n<g id=\"edge4\" class=\"edge\">\n<title>2&#45;&gt;6</title>\n<path fill=\"none\" stroke=\"black\" d=\"M224,-103.73C224,-95.52 224,-86.86 224,-78.56\"/>\n<polygon fill=\"black\" stroke=\"black\" points=\"227.5,-78.3 224,-68.3 220.5,-78.3 227.5,-78.3\"/>\n<text text-anchor=\"middle\" x=\"213.39\" y=\"-75.21\" font-family=\"Helvetica,sans-Serif\" font-size=\"14.00\">yes</text>\n</g>\n<!-- 10 -->\n<g id=\"node7\" class=\"node\">\n<title>10</title>\n<path fill=\"#ffffff\" stroke=\"black\" d=\"M434,-68C434,-68 332,-68 332,-68 326,-68 320,-62 320,-56 320,-56 320,-12 320,-12 320,-6 326,0 332,0 332,0 434,0 434,0 440,0 446,-6 446,-12 446,-12 446,-56 446,-56 446,-62 440,-68 434,-68\"/>\n<text text-anchor=\"start\" x=\"335.5\" y=\"-52.8\" font-family=\"Helvetica,sans-Serif\" font-size=\"14.00\">entropy = 0.906</text>\n<text text-anchor=\"start\" x=\"342\" y=\"-37.8\" font-family=\"Helvetica,sans-Serif\" font-size=\"14.00\">samples = 97</text>\n<text text-anchor=\"start\" x=\"336\" y=\"-22.8\" font-family=\"Helvetica,sans-Serif\" font-size=\"14.00\">value = [61, 36]</text>\n<text text-anchor=\"start\" x=\"328\" y=\"-7.8\" font-family=\"Helvetica,sans-Serif\" font-size=\"14.00\">class = below 50K</text>\n</g>\n<!-- 9&#45;&gt;10 -->\n<g id=\"edge6\" class=\"edge\">\n<title>9&#45;&gt;10</title>\n<path fill=\"none\" stroke=\"black\" d=\"M427.56,-103.73C421.88,-94.97 415.88,-85.7 410.17,-76.91\"/>\n<polygon fill=\"black\" stroke=\"black\" points=\"412.97,-74.79 404.59,-68.3 407.1,-78.59 412.97,-74.79\"/>\n<text text-anchor=\"middle\" x=\"399.38\" y=\"-89.05\" font-family=\"Helvetica,sans-Serif\" font-size=\"14.00\">no</text>\n</g>\n<!-- 13 -->\n<g id=\"node8\" class=\"node\">\n<title>13</title>\n<path fill=\"#ffffff\" stroke=\"black\" d=\"M622,-68C622,-68 476,-68 476,-68 470,-68 464,-62 464,-56 464,-56 464,-12 464,-12 464,-6 470,0 476,0 476,0 622,0 622,0 628,0 634,-6 634,-12 634,-12 634,-56 634,-56 634,-62 628,-68 622,-68\"/>\n<text text-anchor=\"start\" x=\"501.5\" y=\"-52.8\" font-family=\"Helvetica,sans-Serif\" font-size=\"14.00\">entropy = 1.000</text>\n<text text-anchor=\"start\" x=\"493\" y=\"-37.8\" font-family=\"Helvetica,sans-Serif\" font-size=\"14.00\">samples = 727472</text>\n<text text-anchor=\"start\" x=\"472\" y=\"-22.8\" font-family=\"Helvetica,sans-Serif\" font-size=\"14.00\">value = [363991, 363481]</text>\n<text text-anchor=\"start\" x=\"494\" y=\"-7.8\" font-family=\"Helvetica,sans-Serif\" font-size=\"14.00\">class = below 50K</text>\n</g>\n<!-- 9&#45;&gt;13 -->\n<g id=\"edge7\" class=\"edge\">\n<title>9&#45;&gt;13</title>\n<path fill=\"none\" stroke=\"black\" d=\"M489.37,-103.73C497.21,-94.7 505.51,-85.12 513.36,-76.08\"/>\n<polygon fill=\"black\" stroke=\"black\" points=\"516.2,-78.15 520.11,-68.3 510.91,-73.56 516.2,-78.15\"/>\n<text text-anchor=\"middle\" x=\"505.15\" y=\"-65.66\" font-family=\"Helvetica,sans-Serif\" font-size=\"14.00\">yes</text>\n</g>\n<!-- 17 -->\n<g id=\"node10\" class=\"node\">\n<title>17</title>\n<path fill=\"#ffffff\" stroke=\"black\" d=\"M902,-187C902,-187 590,-187 590,-187 584,-187 578,-181 578,-175 578,-175 578,-116 578,-116 578,-110 584,-104 590,-104 590,-104 902,-104 902,-104 908,-104 914,-110 914,-116 914,-116 914,-175 914,-175 914,-181 908,-187 902,-187\"/>\n<text text-anchor=\"start\" x=\"586\" y=\"-171.8\" font-family=\"Helvetica,sans-Serif\" font-size=\"14.00\">marital_relation_married&#45;civ&#45;spouse_husband le 0.50</text>\n<text text-anchor=\"start\" x=\"698.5\" y=\"-156.8\" font-family=\"Helvetica,sans-Serif\" font-size=\"14.00\">entropy = 0.940</text>\n<text text-anchor=\"start\" x=\"697.5\" y=\"-141.8\" font-family=\"Helvetica,sans-Serif\" font-size=\"14.00\">samples = 6487</text>\n<text text-anchor=\"start\" x=\"684\" y=\"-126.8\" font-family=\"Helvetica,sans-Serif\" font-size=\"14.00\">value = [2763, 3724]</text>\n<text text-anchor=\"start\" x=\"690\" y=\"-111.8\" font-family=\"Helvetica,sans-Serif\" font-size=\"14.00\">class = above 50K</text>\n</g>\n<!-- 16&#45;&gt;17 -->\n<g id=\"edge9\" class=\"edge\">\n<title>16&#45;&gt;17</title>\n<path fill=\"none\" stroke=\"black\" d=\"M746,-222.91C746,-214.65 746,-205.86 746,-197.3\"/>\n<polygon fill=\"black\" stroke=\"black\" points=\"749.5,-197.02 746,-187.02 742.5,-197.02 749.5,-197.02\"/>\n<text text-anchor=\"middle\" x=\"728.32\" y=\"-201\" font-family=\"Helvetica,sans-Serif\" font-size=\"14.00\">no</text>\n</g>\n<!-- 24 -->\n<g id=\"node13\" class=\"node\">\n<title>24</title>\n<path fill=\"#ffffff\" stroke=\"black\" d=\"M1095.5,-187C1095.5,-187 972.5,-187 972.5,-187 966.5,-187 960.5,-181 960.5,-175 960.5,-175 960.5,-116 960.5,-116 960.5,-110 966.5,-104 972.5,-104 972.5,-104 1095.5,-104 1095.5,-104 1101.5,-104 1107.5,-110 1107.5,-116 1107.5,-116 1107.5,-175 1107.5,-175 1107.5,-181 1101.5,-187 1095.5,-187\"/>\n<text text-anchor=\"start\" x=\"977\" y=\"-171.8\" font-family=\"Helvetica,sans-Serif\" font-size=\"14.00\">age_scaled le 0.17</text>\n<text text-anchor=\"start\" x=\"986.5\" y=\"-156.8\" font-family=\"Helvetica,sans-Serif\" font-size=\"14.00\">entropy = 0.738</text>\n<text text-anchor=\"start\" x=\"981.5\" y=\"-141.8\" font-family=\"Helvetica,sans-Serif\" font-size=\"14.00\">samples = 28937</text>\n<text text-anchor=\"start\" x=\"968.5\" y=\"-126.8\" font-family=\"Helvetica,sans-Serif\" font-size=\"14.00\">value = [22151, 6786]</text>\n<text text-anchor=\"start\" x=\"979\" y=\"-111.8\" font-family=\"Helvetica,sans-Serif\" font-size=\"14.00\">class = below 50K</text>\n</g>\n<!-- 16&#45;&gt;24 -->\n<g id=\"edge12\" class=\"edge\">\n<title>16&#45;&gt;24</title>\n<path fill=\"none\" stroke=\"black\" d=\"M835.55,-227.12C872.38,-212.16 914.79,-194.93 950.92,-180.25\"/>\n<polygon fill=\"black\" stroke=\"black\" points=\"952.5,-183.39 960.45,-176.38 949.87,-176.9 952.5,-183.39\"/>\n<text text-anchor=\"middle\" x=\"946.63\" y=\"-166.85\" font-family=\"Helvetica,sans-Serif\" font-size=\"14.00\">yes</text>\n</g>\n<!-- 18 -->\n<g id=\"node11\" class=\"node\">\n<title>18</title>\n<path fill=\"#ffffff\" stroke=\"black\" d=\"M772,-68C772,-68 664,-68 664,-68 658,-68 652,-62 652,-56 652,-56 652,-12 652,-12 652,-6 658,0 664,0 664,0 772,0 772,0 778,0 784,-6 784,-12 784,-12 784,-56 784,-56 784,-62 778,-68 772,-68\"/>\n<text text-anchor=\"start\" x=\"670.5\" y=\"-52.8\" font-family=\"Helvetica,sans-Serif\" font-size=\"14.00\">entropy = 0.645</text>\n<text text-anchor=\"start\" x=\"669.5\" y=\"-37.8\" font-family=\"Helvetica,sans-Serif\" font-size=\"14.00\">samples = 1247</text>\n<text text-anchor=\"start\" x=\"660\" y=\"-22.8\" font-family=\"Helvetica,sans-Serif\" font-size=\"14.00\">value = [230, 1017]</text>\n<text text-anchor=\"start\" x=\"662\" y=\"-7.8\" font-family=\"Helvetica,sans-Serif\" font-size=\"14.00\">class = above 50K</text>\n</g>\n<!-- 17&#45;&gt;18 -->\n<g id=\"edge10\" class=\"edge\">\n<title>17&#45;&gt;18</title>\n<path fill=\"none\" stroke=\"black\" d=\"M735.57,-103.73C733.43,-95.34 731.16,-86.47 729,-78.01\"/>\n<polygon fill=\"black\" stroke=\"black\" points=\"732.38,-77.12 726.51,-68.3 725.6,-78.85 732.38,-77.12\"/>\n<text text-anchor=\"middle\" x=\"713.77\" y=\"-86.11\" font-family=\"Helvetica,sans-Serif\" font-size=\"14.00\">no</text>\n</g>\n<!-- 21 -->\n<g id=\"node12\" class=\"node\">\n<title>21</title>\n<path fill=\"#ffffff\" stroke=\"black\" d=\"M930,-68C930,-68 814,-68 814,-68 808,-68 802,-62 802,-56 802,-56 802,-12 802,-12 802,-6 808,0 814,0 814,0 930,0 930,0 936,0 942,-6 942,-12 942,-12 942,-56 942,-56 942,-62 936,-68 930,-68\"/>\n<text text-anchor=\"start\" x=\"824.5\" y=\"-52.8\" font-family=\"Helvetica,sans-Serif\" font-size=\"14.00\">entropy = 0.995</text>\n<text text-anchor=\"start\" x=\"823.5\" y=\"-37.8\" font-family=\"Helvetica,sans-Serif\" font-size=\"14.00\">samples = 5240</text>\n<text text-anchor=\"start\" x=\"810\" y=\"-22.8\" font-family=\"Helvetica,sans-Serif\" font-size=\"14.00\">value = [2533, 2707]</text>\n<text text-anchor=\"start\" x=\"816\" y=\"-7.8\" font-family=\"Helvetica,sans-Serif\" font-size=\"14.00\">class = above 50K</text>\n</g>\n<!-- 17&#45;&gt;21 -->\n<g id=\"edge11\" class=\"edge\">\n<title>17&#45;&gt;21</title>\n<path fill=\"none\" stroke=\"black\" d=\"M792.92,-103.73C803.73,-94.33 815.21,-84.35 825.99,-74.99\"/>\n<polygon fill=\"black\" stroke=\"black\" points=\"828.43,-77.5 833.68,-68.3 823.84,-72.22 828.43,-77.5\"/>\n<text text-anchor=\"middle\" x=\"818.72\" y=\"-63.55\" font-family=\"Helvetica,sans-Serif\" font-size=\"14.00\">yes</text>\n</g>\n<!-- 25 -->\n<g id=\"node14\" class=\"node\">\n<title>25</title>\n<path fill=\"#ffffff\" stroke=\"black\" d=\"M1095.5,-68C1095.5,-68 972.5,-68 972.5,-68 966.5,-68 960.5,-62 960.5,-56 960.5,-56 960.5,-12 960.5,-12 960.5,-6 966.5,0 972.5,0 972.5,0 1095.5,0 1095.5,0 1101.5,0 1107.5,-6 1107.5,-12 1107.5,-12 1107.5,-56 1107.5,-56 1107.5,-62 1101.5,-68 1095.5,-68\"/>\n<text text-anchor=\"start\" x=\"986.5\" y=\"-52.8\" font-family=\"Helvetica,sans-Serif\" font-size=\"14.00\">entropy = 0.845</text>\n<text text-anchor=\"start\" x=\"981.5\" y=\"-37.8\" font-family=\"Helvetica,sans-Serif\" font-size=\"14.00\">samples = 20304</text>\n<text text-anchor=\"start\" x=\"968.5\" y=\"-22.8\" font-family=\"Helvetica,sans-Serif\" font-size=\"14.00\">value = [14200, 6104]</text>\n<text text-anchor=\"start\" x=\"979\" y=\"-7.8\" font-family=\"Helvetica,sans-Serif\" font-size=\"14.00\">class = below 50K</text>\n</g>\n<!-- 24&#45;&gt;25 -->\n<g id=\"edge13\" class=\"edge\">\n<title>24&#45;&gt;25</title>\n<path fill=\"none\" stroke=\"black\" d=\"M1034,-103.73C1034,-95.52 1034,-86.86 1034,-78.56\"/>\n<polygon fill=\"black\" stroke=\"black\" points=\"1037.5,-78.3 1034,-68.3 1030.5,-78.3 1037.5,-78.3\"/>\n<text text-anchor=\"middle\" x=\"1016.32\" y=\"-82.28\" font-family=\"Helvetica,sans-Serif\" font-size=\"14.00\">no</text>\n</g>\n<!-- 28 -->\n<g id=\"node15\" class=\"node\">\n<title>28</title>\n<path fill=\"#ffffff\" stroke=\"black\" d=\"M1246,-68C1246,-68 1138,-68 1138,-68 1132,-68 1126,-62 1126,-56 1126,-56 1126,-12 1126,-12 1126,-6 1132,0 1138,0 1138,0 1246,0 1246,0 1252,0 1258,-6 1258,-12 1258,-12 1258,-56 1258,-56 1258,-62 1252,-68 1246,-68\"/>\n<text text-anchor=\"start\" x=\"1144.5\" y=\"-52.8\" font-family=\"Helvetica,sans-Serif\" font-size=\"14.00\">entropy = 0.321</text>\n<text text-anchor=\"start\" x=\"1143.5\" y=\"-37.8\" font-family=\"Helvetica,sans-Serif\" font-size=\"14.00\">samples = 8633</text>\n<text text-anchor=\"start\" x=\"1134\" y=\"-22.8\" font-family=\"Helvetica,sans-Serif\" font-size=\"14.00\">value = [7951, 682]</text>\n<text text-anchor=\"start\" x=\"1137\" y=\"-7.8\" font-family=\"Helvetica,sans-Serif\" font-size=\"14.00\">class = below 50K</text>\n</g>\n<!-- 24&#45;&gt;28 -->\n<g id=\"edge14\" class=\"edge\">\n<title>24&#45;&gt;28</title>\n<path fill=\"none\" stroke=\"black\" d=\"M1092.83,-103.73C1106.86,-94.01 1121.79,-83.66 1135.69,-74.02\"/>\n<polygon fill=\"black\" stroke=\"black\" points=\"1137.98,-76.7 1144.2,-68.13 1133.99,-70.94 1137.98,-76.7\"/>\n<text text-anchor=\"middle\" x=\"1129.44\" y=\"-61.75\" font-family=\"Helvetica,sans-Serif\" font-size=\"14.00\">yes</text>\n</g>\n</g>\n</svg>\n",
            "text/plain": [
              "<graphviz.sources.Source at 0x7fd71c60b640>"
            ]
          },
          "metadata": {},
          "execution_count": 57
        }
      ],
      "source": [
        "graph"
      ]
    },
    {
      "cell_type": "code",
      "execution_count": 58,
      "id": "fJN9176y6gf1",
      "metadata": {
        "id": "fJN9176y6gf1"
      },
      "outputs": [],
      "source": [
        "#graph.render('./image/my_dt', format='png')"
      ]
    },
    {
      "cell_type": "markdown",
      "source": [
        "### Improving the Model"
      ],
      "metadata": {
        "id": "Lye8X07cyHYl"
      },
      "id": "Lye8X07cyHYl"
    },
    {
      "cell_type": "code",
      "execution_count": 59,
      "id": "xMLo7e9TdMHl",
      "metadata": {
        "colab": {
          "base_uri": "https://localhost:8080/"
        },
        "id": "xMLo7e9TdMHl",
        "outputId": "6298f207-1ea5-4360-e4a0-f6cf244abba3"
      },
      "outputs": [
        {
          "output_type": "stream",
          "name": "stdout",
          "text": [
            "1045.13 seconds\n"
          ]
        }
      ],
      "source": [
        "start=time.time()\n",
        "my_dt = decision_tree(new_train_data, 'income', max_depth=13, max_features = 15, min_samples_split = 500, min_samples_leaf = 250, s = 10000)\n",
        "print(round(time.time()-start, 2), 'seconds')"
      ]
    },
    {
      "cell_type": "markdown",
      "id": "hr1tlFYsUyZH",
      "metadata": {
        "id": "hr1tlFYsUyZH"
      },
      "source": [
        "### Evaluating on Test data"
      ]
    },
    {
      "cell_type": "code",
      "execution_count": 60,
      "id": "U7qs1zV6xO9X",
      "metadata": {
        "colab": {
          "base_uri": "https://localhost:8080/"
        },
        "id": "U7qs1zV6xO9X",
        "outputId": "af745e17-490f-459b-9ded-4c95a8cf7de9"
      },
      "outputs": [
        {
          "output_type": "execute_result",
          "data": {
            "text/plain": [
              "0    432228\n",
              "1    417756\n",
              "Name: income, dtype: int64"
            ]
          },
          "metadata": {},
          "execution_count": 60
        }
      ],
      "source": [
        "new_train_data[\"income\"].value_counts()"
      ]
    },
    {
      "cell_type": "code",
      "execution_count": 61,
      "id": "M-qS7J4e3krT",
      "metadata": {
        "colab": {
          "base_uri": "https://localhost:8080/"
        },
        "id": "M-qS7J4e3krT",
        "outputId": "5437128a-cbb2-46b9-d08a-b534e124b15b"
      },
      "outputs": [
        {
          "output_type": "execute_result",
          "data": {
            "text/plain": [
              "849984"
            ]
          },
          "metadata": {},
          "execution_count": 61
        }
      ],
      "source": [
        "my_dt.samples"
      ]
    },
    {
      "cell_type": "code",
      "execution_count": 62,
      "id": "53N3oCDaUxbe",
      "metadata": {
        "id": "53N3oCDaUxbe"
      },
      "outputs": [],
      "source": [
        "def tree_predict(my_dt, obs, prop):\n",
        "  out_dt = my_dt\n",
        "  income = \"\"\n",
        "  while out_dt.column != \"\":\n",
        "    if obs[out_dt.column] <= out_dt.thresh:\n",
        "      out_dt = out_dt.branch_positive\n",
        "    else:\n",
        "      out_dt = out_dt.branch_negative\n",
        "  \n",
        "  if out_dt.value[1]/(out_dt.value[1] + out_dt.value[0]) >= prop:\n",
        "    income = 1\n",
        "  else:\n",
        "    income = 0\n",
        "  \n",
        "  return out_dt, income"
      ]
    },
    {
      "cell_type": "code",
      "execution_count": 63,
      "id": "tJ-bx7dhwH2N",
      "metadata": {
        "id": "tJ-bx7dhwH2N"
      },
      "outputs": [],
      "source": [
        "prop = list(np.linspace(0,1, 100))[1:-1]"
      ]
    },
    {
      "cell_type": "code",
      "execution_count": 64,
      "id": "dzIDf41yyewi",
      "metadata": {
        "id": "dzIDf41yyewi"
      },
      "outputs": [],
      "source": [
        "from sklearn.metrics import precision_score, recall_score, accuracy_score"
      ]
    },
    {
      "cell_type": "code",
      "execution_count": 65,
      "id": "oyit6h5iFgG7",
      "metadata": {
        "id": "oyit6h5iFgG7"
      },
      "outputs": [],
      "source": [
        "new_test_data_use = new_test_data.reset_index(drop = True)"
      ]
    },
    {
      "cell_type": "code",
      "execution_count": 66,
      "id": "zLuTPX7iwRRC",
      "metadata": {
        "id": "zLuTPX7iwRRC"
      },
      "outputs": [],
      "source": [
        "def tree_pred_threshold(prop):\n",
        "  incomes = []\n",
        "  for i in range(len(new_test_data_use)):\n",
        "    out_dt, income = tree_predict(my_dt, new_test_data_use.iloc[i,:], prop)\n",
        "    incomes.append(income)\n",
        "\n",
        "  precision = precision_score(y_test, incomes)\n",
        "  recall = recall_score(y_test, incomes)\n",
        "  accuracy = accuracy_score(y_test, incomes)\n",
        "  \n",
        "  return precision, recall, accuracy"
      ]
    },
    {
      "cell_type": "code",
      "execution_count": 67,
      "id": "dE5DLdarypK3",
      "metadata": {
        "id": "dE5DLdarypK3"
      },
      "outputs": [],
      "source": [
        "precisions = []\n",
        "recalls = []\n",
        "accuracy = []\n",
        "for i in range(len(prop)):\n",
        "  res = tree_pred_threshold(prop[i])\n",
        "  precisions.append(res[0])\n",
        "  recalls.append(res[1])\n",
        "  accuracy.append(res[2])"
      ]
    },
    {
      "cell_type": "code",
      "execution_count": 68,
      "id": "bG81bqvy0W9r",
      "metadata": {
        "colab": {
          "base_uri": "https://localhost:8080/"
        },
        "id": "bG81bqvy0W9r",
        "outputId": "3ccf3aef-a512-4f87-8ca4-40df60f410c8"
      },
      "outputs": [
        {
          "output_type": "execute_result",
          "data": {
            "text/plain": [
              "(0.48484848484848486, 0.5113266666666667)"
            ]
          },
          "metadata": {},
          "execution_count": 68
        }
      ],
      "source": [
        "prop[np.argmax(accuracy)], accuracy[np.argmax(accuracy)]"
      ]
    },
    {
      "cell_type": "code",
      "execution_count": 69,
      "id": "B_AD5UIEy9Pa",
      "metadata": {
        "colab": {
          "base_uri": "https://localhost:8080/",
          "height": 699
        },
        "id": "B_AD5UIEy9Pa",
        "outputId": "4cd85356-8e6b-42a7-8afa-730be34108cc"
      },
      "outputs": [
        {
          "output_type": "display_data",
          "data": {
            "text/plain": [
              "<Figure size 1200x800 with 1 Axes>"
            ],
            "image/png": "[encoded data removed]"
          },
          "metadata": {}
        }
      ],
      "source": [
        "plt.figure(figsize = (12,8))\n",
        "sns.lineplot(x = prop, y = precisions, color = \"blue\", label = \"precision\")\n",
        "sns.lineplot(x = prop, y = recalls, color = \"orange\", label = \"recall\")\n",
        "sns.lineplot(x = prop, y = accuracy, color = \"green\", label = \"accuracy\")\n",
        "plt.axvline(x = prop[np.argmax(accuracy)], color = \"black\", linestyle = \"dashed\")\n",
        "plt.title(\"Metrics' trends as a function of threshold\")\n",
        "plt.show();"
      ]
    },
    {
      "cell_type": "code",
      "execution_count": 70,
      "id": "PQDOiDvaXMnc",
      "metadata": {
        "id": "PQDOiDvaXMnc"
      },
      "outputs": [],
      "source": [
        "incomes = []\n",
        "out_vals = []\n",
        "for i in range(len(new_test_data_use)):\n",
        "  out_dt, income = tree_predict(my_dt, new_test_data_use.iloc[i,:], prop[np.argmax(accuracy)])\n",
        "  incomes.append(income)\n",
        "  out_vals.append(out_dt.value)"
      ]
    },
    {
      "cell_type": "code",
      "execution_count": 71,
      "id": "CamewcxeXSet",
      "metadata": {
        "colab": {
          "base_uri": "https://localhost:8080/"
        },
        "id": "CamewcxeXSet",
        "outputId": "7ac02d45-cb7c-4c41-8ddd-6a1b86778303"
      },
      "outputs": [
        {
          "output_type": "execute_result",
          "data": {
            "text/plain": [
              "Counter({0: 13653, 1: 136347})"
            ]
          },
          "metadata": {},
          "execution_count": 71
        }
      ],
      "source": [
        "from collections import Counter\n",
        "Counter(incomes)"
      ]
    },
    {
      "cell_type": "code",
      "execution_count": 72,
      "id": "ykrK75zXwKyG",
      "metadata": {
        "colab": {
          "base_uri": "https://localhost:8080/"
        },
        "id": "ykrK75zXwKyG",
        "outputId": "ea371320-b6dd-451e-b74b-dbc2d29c31c7"
      },
      "outputs": [
        {
          "output_type": "execute_result",
          "data": {
            "text/plain": [
              "[[819, 0],\n",
              " [747, 694],\n",
              " [59706, 59281],\n",
              " [1009, 58],\n",
              " [13749, 13783],\n",
              " [266, 203],\n",
              " [36398, 35625],\n",
              " [5686, 5706],\n",
              " [16331, 16262],\n",
              " [2581, 2463]]"
            ]
          },
          "metadata": {},
          "execution_count": 72
        }
      ],
      "source": [
        "out_vals[:10]"
      ]
    },
    {
      "cell_type": "code",
      "execution_count": 73,
      "id": "1_HxNdBIUxjy",
      "metadata": {
        "id": "1_HxNdBIUxjy"
      },
      "outputs": [],
      "source": [
        "out_dt, income = tree_predict(my_dt, new_test_data.iloc[1000,:], prop[np.argmax(accuracy)])"
      ]
    },
    {
      "cell_type": "code",
      "execution_count": 74,
      "id": "XSyuYxFaWXgf",
      "metadata": {
        "colab": {
          "base_uri": "https://localhost:8080/"
        },
        "id": "XSyuYxFaWXgf",
        "outputId": "90aded62-b0c1-4389-e05f-773faa4f7a3d"
      },
      "outputs": [
        {
          "output_type": "execute_result",
          "data": {
            "text/plain": [
              "[12165, 12593]"
            ]
          },
          "metadata": {},
          "execution_count": 74
        }
      ],
      "source": [
        "out_dt.value"
      ]
    },
    {
      "cell_type": "code",
      "execution_count": 75,
      "id": "YHA_Ov-xWZgM",
      "metadata": {
        "colab": {
          "base_uri": "https://localhost:8080/"
        },
        "id": "YHA_Ov-xWZgM",
        "outputId": "08f953f4-da3d-417a-88ea-89476e047829"
      },
      "outputs": [
        {
          "output_type": "execute_result",
          "data": {
            "text/plain": [
              "1"
            ]
          },
          "metadata": {},
          "execution_count": 75
        }
      ],
      "source": [
        "income"
      ]
    },
    {
      "cell_type": "code",
      "execution_count": 76,
      "id": "_vh3QTVdZFR1",
      "metadata": {
        "id": "_vh3QTVdZFR1"
      },
      "outputs": [],
      "source": [
        "from sklearn.metrics import classification_report, confusion_matrix, accuracy_score\n",
        "import seaborn as sns"
      ]
    },
    {
      "cell_type": "code",
      "execution_count": 77,
      "id": "RLWo_BBxfghC",
      "metadata": {
        "colab": {
          "base_uri": "https://localhost:8080/"
        },
        "id": "RLWo_BBxfghC",
        "outputId": "c0eda6df-5339-4564-c8a8-56b32dafe37f"
      },
      "outputs": [
        {
          "output_type": "stream",
          "name": "stdout",
          "text": [
            "              precision    recall  f1-score   support\n",
            "\n",
            "           0       0.61      0.11      0.18     76278\n",
            "           1       0.50      0.93      0.65     73722\n",
            "\n",
            "    accuracy                           0.51    150000\n",
            "   macro avg       0.56      0.52      0.42    150000\n",
            "weighted avg       0.56      0.51      0.41    150000\n",
            "\n"
          ]
        }
      ],
      "source": [
        "print(classification_report(y_test, incomes))"
      ]
    },
    {
      "cell_type": "code",
      "execution_count": 78,
      "id": "9CAxX8Whfjj8",
      "metadata": {
        "id": "9CAxX8Whfjj8"
      },
      "outputs": [],
      "source": [
        "conf = confusion_matrix(y_test,incomes)"
      ]
    },
    {
      "cell_type": "code",
      "execution_count": 79,
      "id": "nnhAvk69fpT5",
      "metadata": {
        "colab": {
          "base_uri": "https://localhost:8080/",
          "height": 447
        },
        "id": "nnhAvk69fpT5",
        "outputId": "41e31674-fd1e-4dcd-ec3f-308bc20bf78e"
      },
      "outputs": [
        {
          "output_type": "execute_result",
          "data": {
            "text/plain": [
              "<Axes: >"
            ]
          },
          "metadata": {},
          "execution_count": 79
        },
        {
          "output_type": "display_data",
          "data": {
            "text/plain": [
              "<Figure size 640x480 with 2 Axes>"
            ],
            "image/png": "[encoded data removed]"
          },
          "metadata": {}
        }
      ],
      "source": [
        "sns.heatmap(conf, annot = True, cmap = \"RdBu\")"
      ]
    },
    {
      "cell_type": "markdown",
      "id": "BZu2osxFTdT6",
      "metadata": {
        "id": "BZu2osxFTdT6"
      },
      "source": [
        "### Column Frequency"
      ]
    },
    {
      "cell_type": "code",
      "execution_count": 80,
      "id": "blUOE7KTTT0b",
      "metadata": {
        "id": "blUOE7KTTT0b"
      },
      "outputs": [],
      "source": [
        "from collections import Counter\n",
        "col_dict = dict(Counter(my_dt.col_names))"
      ]
    },
    {
      "cell_type": "code",
      "execution_count": 81,
      "id": "emb8Z2VATSnk",
      "metadata": {
        "id": "emb8Z2VATSnk"
      },
      "outputs": [],
      "source": [
        "col_df = pd.DataFrame({\"variable\": list(col_dict.keys()), \"frequency\": list(col_dict.values())})"
      ]
    },
    {
      "cell_type": "code",
      "execution_count": 82,
      "id": "n1MxYEW-Tjfz",
      "metadata": {
        "id": "n1MxYEW-Tjfz"
      },
      "outputs": [],
      "source": [
        "col_df = col_df[col_df[\"variable\"] != \"\"]"
      ]
    },
    {
      "cell_type": "code",
      "execution_count": 83,
      "id": "NNZAauQaUHPN",
      "metadata": {
        "colab": {
          "base_uri": "https://localhost:8080/",
          "height": 520
        },
        "id": "NNZAauQaUHPN",
        "outputId": "6f8c1afa-a6d7-482c-d050-32c21f3e7a0c"
      },
      "outputs": [
        {
          "output_type": "execute_result",
          "data": {
            "text/plain": [
              "                                            variable  frequency\n",
              "0                                capital_loss_scaled          3\n",
              "1                              hours_per_week_scaled         92\n",
              "2                                      fnlwgt_scaled         69\n",
              "3                                       occupation_?         67\n",
              "4                                         age_scaled         97\n",
              "5                marital_relation_divorced_own-child         63\n",
              "6                                capital_gain_scaled        113\n",
              "7        marital_relation_married-civ-spouse_husband         61\n",
              "8                                      education_new        114\n",
              "9           marital_relation_married-civ-spouse_wife         51\n",
              "10  marital_relation_married-spouse-absent_unmarried         43\n",
              "11                        workclass_self-emp-not-inc         86\n",
              "12                             workclass_without-pay         52\n",
              "13                                       workclass_?         72\n",
              "14                           occupation_tech-support         76"
            ],
            "text/html": [
              "\n",
              "  <div id=\"df-0c221b34-d4db-4885-b849-469aac2a48bd\">\n",
              "    <div class=\"colab-df-container\">\n",
              "      <div>\n",
              "<style scoped>\n",
              "    .dataframe tbody tr th:only-of-type {\n",
              "        vertical-align: middle;\n",
              "    }\n",
              "\n",
              "    .dataframe tbody tr th {\n",
              "        vertical-align: top;\n",
              "    }\n",
              "\n",
              "    .dataframe thead th {\n",
              "        text-align: right;\n",
              "    }\n",
              "</style>\n",
              "<table border=\"1\" class=\"dataframe\">\n",
              "  <thead>\n",
              "    <tr style=\"text-align: right;\">\n",
              "      <th></th>\n",
              "      <th>variable</th>\n",
              "      <th>frequency</th>\n",
              "    </tr>\n",
              "  </thead>\n",
              "  <tbody>\n",
              "    <tr>\n",
              "      <th>0</th>\n",
              "      <td>capital_loss_scaled</td>\n",
              "      <td>3</td>\n",
              "    </tr>\n",
              "    <tr>\n",
              "      <th>1</th>\n",
              "      <td>hours_per_week_scaled</td>\n",
              "      <td>92</td>\n",
              "    </tr>\n",
              "    <tr>\n",
              "      <th>2</th>\n",
              "      <td>fnlwgt_scaled</td>\n",
              "      <td>69</td>\n",
              "    </tr>\n",
              "    <tr>\n",
              "      <th>3</th>\n",
              "      <td>occupation_?</td>\n",
              "      <td>67</td>\n",
              "    </tr>\n",
              "    <tr>\n",
              "      <th>4</th>\n",
              "      <td>age_scaled</td>\n",
              "      <td>97</td>\n",
              "    </tr>\n",
              "    <tr>\n",
              "      <th>5</th>\n",
              "      <td>marital_relation_divorced_own-child</td>\n",
              "      <td>63</td>\n",
              "    </tr>\n",
              "    <tr>\n",
              "      <th>6</th>\n",
              "      <td>capital_gain_scaled</td>\n",
              "      <td>113</td>\n",
              "    </tr>\n",
              "    <tr>\n",
              "      <th>7</th>\n",
              "      <td>marital_relation_married-civ-spouse_husband</td>\n",
              "      <td>61</td>\n",
              "    </tr>\n",
              "    <tr>\n",
              "      <th>8</th>\n",
              "      <td>education_new</td>\n",
              "      <td>114</td>\n",
              "    </tr>\n",
              "    <tr>\n",
              "      <th>9</th>\n",
              "      <td>marital_relation_married-civ-spouse_wife</td>\n",
              "      <td>51</td>\n",
              "    </tr>\n",
              "    <tr>\n",
              "      <th>10</th>\n",
              "      <td>marital_relation_married-spouse-absent_unmarried</td>\n",
              "      <td>43</td>\n",
              "    </tr>\n",
              "    <tr>\n",
              "      <th>11</th>\n",
              "      <td>workclass_self-emp-not-inc</td>\n",
              "      <td>86</td>\n",
              "    </tr>\n",
              "    <tr>\n",
              "      <th>12</th>\n",
              "      <td>workclass_without-pay</td>\n",
              "      <td>52</td>\n",
              "    </tr>\n",
              "    <tr>\n",
              "      <th>13</th>\n",
              "      <td>workclass_?</td>\n",
              "      <td>72</td>\n",
              "    </tr>\n",
              "    <tr>\n",
              "      <th>14</th>\n",
              "      <td>occupation_tech-support</td>\n",
              "      <td>76</td>\n",
              "    </tr>\n",
              "  </tbody>\n",
              "</table>\n",
              "</div>\n",
              "      <button class=\"colab-df-convert\" onclick=\"convertToInteractive('df-0c221b34-d4db-4885-b849-469aac2a48bd')\"\n",
              "              title=\"Convert this dataframe to an interactive table.\"\n",
              "              style=\"display:none;\">\n",
              "        \n",
              "  <svg xmlns=\"http://www.w3.org/2000/svg\" height=\"24px\"viewBox=\"0 0 24 24\"\n",
              "       width=\"24px\">\n",
              "    <path d=\"M0 0h24v24H0V0z\" fill=\"none\"/>\n",
              "    <path d=\"M18.56 5.44l.94 2.06.94-2.06 2.06-.94-2.06-.94-.94-2.06-.94 2.06-2.06.94zm-11 1L8.5 8.5l.94-2.06 2.06-.94-2.06-.94L8.5 2.5l-.94 2.06-2.06.94zm10 10l.94 2.06.94-2.06 2.06-.94-2.06-.94-.94-2.06-.94 2.06-2.06.94z\"/><path d=\"M17.41 7.96l-1.37-1.37c-.4-.4-.92-.59-1.43-.59-.52 0-1.04.2-1.43.59L10.3 9.45l-7.72 7.72c-.78.78-.78 2.05 0 2.83L4 21.41c.39.39.9.59 1.41.59.51 0 1.02-.2 1.41-.59l7.78-7.78 2.81-2.81c.8-.78.8-2.07 0-2.86zM5.41 20L4 18.59l7.72-7.72 1.47 1.35L5.41 20z\"/>\n",
              "  </svg>\n",
              "      </button>\n",
              "      \n",
              "  <style>\n",
              "    .colab-df-container {\n",
              "      display:flex;\n",
              "      flex-wrap:wrap;\n",
              "      gap: 12px;\n",
              "    }\n",
              "\n",
              "    .colab-df-convert {\n",
              "      background-color: #E8F0FE;\n",
              "      border: none;\n",
              "      border-radius: 50%;\n",
              "      cursor: pointer;\n",
              "      display: none;\n",
              "      fill: #1967D2;\n",
              "      height: 32px;\n",
              "      padding: 0 0 0 0;\n",
              "      width: 32px;\n",
              "    }\n",
              "\n",
              "    .colab-df-convert:hover {\n",
              "      background-color: #E2EBFA;\n",
              "      box-shadow: 0px 1px 2px rgba(60, 64, 67, 0.3), 0px 1px 3px 1px rgba(60, 64, 67, 0.15);\n",
              "      fill: #174EA6;\n",
              "    }\n",
              "\n",
              "    [theme=dark] .colab-df-convert {\n",
              "      background-color: #3B4455;\n",
              "      fill: #D2E3FC;\n",
              "    }\n",
              "\n",
              "    [theme=dark] .colab-df-convert:hover {\n",
              "      background-color: #434B5C;\n",
              "      box-shadow: 0px 1px 3px 1px rgba(0, 0, 0, 0.15);\n",
              "      filter: drop-shadow(0px 1px 2px rgba(0, 0, 0, 0.3));\n",
              "      fill: #FFFFFF;\n",
              "    }\n",
              "  </style>\n",
              "\n",
              "      <script>\n",
              "        const buttonEl =\n",
              "          document.querySelector('#df-0c221b34-d4db-4885-b849-469aac2a48bd button.colab-df-convert');\n",
              "        buttonEl.style.display =\n",
              "          google.colab.kernel.accessAllowed ? 'block' : 'none';\n",
              "\n",
              "        async function convertToInteractive(key) {\n",
              "          const element = document.querySelector('#df-0c221b34-d4db-4885-b849-469aac2a48bd');\n",
              "          const dataTable =\n",
              "            await google.colab.kernel.invokeFunction('convertToInteractive',\n",
              "                                                     [key], {});\n",
              "          if (!dataTable) return;\n",
              "\n",
              "          const docLinkHtml = 'Like what you see? Visit the ' +\n",
              "            '<a target=\"_blank\" href=https://colab.research.google.com/notebooks/data_table.ipynb>data table notebook</a>'\n",
              "            + ' to learn more about interactive tables.';\n",
              "          element.innerHTML = '';\n",
              "          dataTable['output_type'] = 'display_data';\n",
              "          await google.colab.output.renderOutput(dataTable, element);\n",
              "          const docLink = document.createElement('div');\n",
              "          docLink.innerHTML = docLinkHtml;\n",
              "          element.appendChild(docLink);\n",
              "        }\n",
              "      </script>\n",
              "    </div>\n",
              "  </div>\n",
              "  "
            ]
          },
          "metadata": {},
          "execution_count": 83
        }
      ],
      "source": [
        "col_df"
      ]
    }
  ],
  "metadata": {
    "accelerator": "GPU",
    "colab": {
      "provenance": [],
      "machine_shape": "hm",
      "include_colab_link": true
    },
    "gpuClass": "premium",
    "kernelspec": {
      "display_name": "Python 3 (ipykernel)",
      "language": "python",
      "name": "python3"
    },
    "language_info": {
      "codemirror_mode": {
        "name": "ipython",
        "version": 3
      },
      "file_extension": ".py",
      "mimetype": "text/x-python",
      "name": "python",
      "nbconvert_exporter": "python",
      "pygments_lexer": "ipython3",
      "version": "3.9.7"
    }
  },
  "nbformat": 4,
  "nbformat_minor": 5
}